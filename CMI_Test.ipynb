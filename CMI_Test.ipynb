{
 "cells": [
  {
   "cell_type": "code",
   "execution_count": 1,
   "metadata": {},
   "outputs": [
    {
     "name": "stdout",
     "output_type": "stream",
     "text": [
      "Requirement already satisfied: pot in c:\\users\\zhossai3\\appdata\\local\\programs\\python\\python312\\lib\\site-packages (0.9.4)\n",
      "Requirement already satisfied: numpy>=1.16 in c:\\users\\zhossai3\\appdata\\local\\programs\\python\\python312\\lib\\site-packages (from pot) (2.0.2)\n",
      "Requirement already satisfied: scipy>=1.6 in c:\\users\\zhossai3\\appdata\\local\\programs\\python\\python312\\lib\\site-packages (from pot) (1.15.2)\n"
     ]
    },
    {
     "name": "stderr",
     "output_type": "stream",
     "text": [
      "\n",
      "[notice] A new release of pip is available: 24.2 -> 25.0.1\n",
      "[notice] To update, run: python.exe -m pip install --upgrade pip\n"
     ]
    },
    {
     "name": "stdout",
     "output_type": "stream",
     "text": [
      "Requirement already satisfied: torch in c:\\users\\zhossai3\\appdata\\local\\programs\\python\\python312\\lib\\site-packages (2.5.1)\n",
      "Requirement already satisfied: filelock in c:\\users\\zhossai3\\appdata\\local\\programs\\python\\python312\\lib\\site-packages (from torch) (3.16.1)\n",
      "Requirement already satisfied: typing-extensions>=4.8.0 in c:\\users\\zhossai3\\appdata\\local\\programs\\python\\python312\\lib\\site-packages (from torch) (4.12.2)\n",
      "Requirement already satisfied: networkx in c:\\users\\zhossai3\\appdata\\local\\programs\\python\\python312\\lib\\site-packages (from torch) (3.4.2)\n",
      "Requirement already satisfied: jinja2 in c:\\users\\zhossai3\\appdata\\local\\programs\\python\\python312\\lib\\site-packages (from torch) (3.1.4)\n",
      "Requirement already satisfied: fsspec in c:\\users\\zhossai3\\appdata\\local\\programs\\python\\python312\\lib\\site-packages (from torch) (2024.10.0)\n",
      "Requirement already satisfied: setuptools in c:\\users\\zhossai3\\appdata\\local\\programs\\python\\python312\\lib\\site-packages (from torch) (75.3.0)\n",
      "Requirement already satisfied: sympy==1.13.1 in c:\\users\\zhossai3\\appdata\\local\\programs\\python\\python312\\lib\\site-packages (from torch) (1.13.1)\n",
      "Requirement already satisfied: mpmath<1.4,>=1.1.0 in c:\\users\\zhossai3\\appdata\\local\\programs\\python\\python312\\lib\\site-packages (from sympy==1.13.1->torch) (1.3.0)\n",
      "Requirement already satisfied: MarkupSafe>=2.0 in c:\\users\\zhossai3\\appdata\\local\\programs\\python\\python312\\lib\\site-packages (from jinja2->torch) (2.1.5)\n"
     ]
    },
    {
     "name": "stderr",
     "output_type": "stream",
     "text": [
      "\n",
      "[notice] A new release of pip is available: 24.2 -> 25.0.1\n",
      "[notice] To update, run: python.exe -m pip install --upgrade pip\n"
     ]
    },
    {
     "name": "stdout",
     "output_type": "stream",
     "text": [
      "Requirement already satisfied: geomloss in c:\\users\\zhossai3\\appdata\\local\\programs\\python\\python312\\lib\\site-packages (0.2.6)\n",
      "Requirement already satisfied: numpy in c:\\users\\zhossai3\\appdata\\local\\programs\\python\\python312\\lib\\site-packages (from geomloss) (2.0.2)\n",
      "Requirement already satisfied: torch in c:\\users\\zhossai3\\appdata\\local\\programs\\python\\python312\\lib\\site-packages (from geomloss) (2.5.1)\n",
      "Requirement already satisfied: filelock in c:\\users\\zhossai3\\appdata\\local\\programs\\python\\python312\\lib\\site-packages (from torch->geomloss) (3.16.1)\n",
      "Requirement already satisfied: typing-extensions>=4.8.0 in c:\\users\\zhossai3\\appdata\\local\\programs\\python\\python312\\lib\\site-packages (from torch->geomloss) (4.12.2)\n",
      "Requirement already satisfied: networkx in c:\\users\\zhossai3\\appdata\\local\\programs\\python\\python312\\lib\\site-packages (from torch->geomloss) (3.4.2)\n",
      "Requirement already satisfied: jinja2 in c:\\users\\zhossai3\\appdata\\local\\programs\\python\\python312\\lib\\site-packages (from torch->geomloss) (3.1.4)\n",
      "Requirement already satisfied: fsspec in c:\\users\\zhossai3\\appdata\\local\\programs\\python\\python312\\lib\\site-packages (from torch->geomloss) (2024.10.0)\n",
      "Requirement already satisfied: setuptools in c:\\users\\zhossai3\\appdata\\local\\programs\\python\\python312\\lib\\site-packages (from torch->geomloss) (75.3.0)\n",
      "Requirement already satisfied: sympy==1.13.1 in c:\\users\\zhossai3\\appdata\\local\\programs\\python\\python312\\lib\\site-packages (from torch->geomloss) (1.13.1)\n",
      "Requirement already satisfied: mpmath<1.4,>=1.1.0 in c:\\users\\zhossai3\\appdata\\local\\programs\\python\\python312\\lib\\site-packages (from sympy==1.13.1->torch->geomloss) (1.3.0)\n",
      "Requirement already satisfied: MarkupSafe>=2.0 in c:\\users\\zhossai3\\appdata\\local\\programs\\python\\python312\\lib\\site-packages (from jinja2->torch->geomloss) (2.1.5)\n"
     ]
    },
    {
     "name": "stderr",
     "output_type": "stream",
     "text": [
      "\n",
      "[notice] A new release of pip is available: 24.2 -> 25.0.1\n",
      "[notice] To update, run: python.exe -m pip install --upgrade pip\n"
     ]
    },
    {
     "name": "stdout",
     "output_type": "stream",
     "text": [
      "Requirement already satisfied: wget in c:\\users\\zhossai3\\appdata\\local\\programs\\python\\python312\\lib\\site-packages (3.2)\n"
     ]
    },
    {
     "name": "stderr",
     "output_type": "stream",
     "text": [
      "\n",
      "[notice] A new release of pip is available: 24.2 -> 25.0.1\n",
      "[notice] To update, run: python.exe -m pip install --upgrade pip\n"
     ]
    },
    {
     "name": "stdout",
     "output_type": "stream",
     "text": [
      "Requirement already satisfied: mdatagen in c:\\users\\zhossai3\\appdata\\local\\programs\\python\\python312\\lib\\site-packages (0.1.71)\n",
      "Requirement already satisfied: numpy>=1.25.0 in c:\\users\\zhossai3\\appdata\\local\\programs\\python\\python312\\lib\\site-packages (from mdatagen) (2.0.2)\n",
      "Requirement already satisfied: pandas>=2.0.3 in c:\\users\\zhossai3\\appdata\\local\\programs\\python\\python312\\lib\\site-packages (from mdatagen) (2.2.3)\n",
      "Requirement already satisfied: scikit-learn>=1.3.0 in c:\\users\\zhossai3\\appdata\\local\\programs\\python\\python312\\lib\\site-packages (from mdatagen) (1.5.2)\n",
      "Requirement already satisfied: missingno>=0.5.2 in c:\\users\\zhossai3\\appdata\\local\\programs\\python\\python312\\lib\\site-packages (from mdatagen) (0.5.2)\n",
      "Requirement already satisfied: scipy>=1.11.4 in c:\\users\\zhossai3\\appdata\\local\\programs\\python\\python312\\lib\\site-packages (from mdatagen) (1.15.2)\n",
      "Requirement already satisfied: matplotlib in c:\\users\\zhossai3\\appdata\\local\\programs\\python\\python312\\lib\\site-packages (from missingno>=0.5.2->mdatagen) (3.9.2)\n",
      "Requirement already satisfied: seaborn in c:\\users\\zhossai3\\appdata\\local\\programs\\python\\python312\\lib\\site-packages (from missingno>=0.5.2->mdatagen) (0.13.2)\n",
      "Requirement already satisfied: python-dateutil>=2.8.2 in c:\\users\\zhossai3\\appdata\\roaming\\python\\python312\\site-packages (from pandas>=2.0.3->mdatagen) (2.9.0.post0)\n",
      "Requirement already satisfied: pytz>=2020.1 in c:\\users\\zhossai3\\appdata\\local\\programs\\python\\python312\\lib\\site-packages (from pandas>=2.0.3->mdatagen) (2024.2)\n",
      "Requirement already satisfied: tzdata>=2022.7 in c:\\users\\zhossai3\\appdata\\local\\programs\\python\\python312\\lib\\site-packages (from pandas>=2.0.3->mdatagen) (2024.2)\n",
      "Requirement already satisfied: joblib>=1.2.0 in c:\\users\\zhossai3\\appdata\\local\\programs\\python\\python312\\lib\\site-packages (from scikit-learn>=1.3.0->mdatagen) (1.4.2)\n",
      "Requirement already satisfied: threadpoolctl>=3.1.0 in c:\\users\\zhossai3\\appdata\\local\\programs\\python\\python312\\lib\\site-packages (from scikit-learn>=1.3.0->mdatagen) (3.5.0)\n",
      "Requirement already satisfied: six>=1.5 in c:\\users\\zhossai3\\appdata\\roaming\\python\\python312\\site-packages (from python-dateutil>=2.8.2->pandas>=2.0.3->mdatagen) (1.16.0)\n",
      "Requirement already satisfied: contourpy>=1.0.1 in c:\\users\\zhossai3\\appdata\\local\\programs\\python\\python312\\lib\\site-packages (from matplotlib->missingno>=0.5.2->mdatagen) (1.3.0)\n",
      "Requirement already satisfied: cycler>=0.10 in c:\\users\\zhossai3\\appdata\\local\\programs\\python\\python312\\lib\\site-packages (from matplotlib->missingno>=0.5.2->mdatagen) (0.12.1)\n",
      "Requirement already satisfied: fonttools>=4.22.0 in c:\\users\\zhossai3\\appdata\\local\\programs\\python\\python312\\lib\\site-packages (from matplotlib->missingno>=0.5.2->mdatagen) (4.54.1)\n",
      "Requirement already satisfied: kiwisolver>=1.3.1 in c:\\users\\zhossai3\\appdata\\local\\programs\\python\\python312\\lib\\site-packages (from matplotlib->missingno>=0.5.2->mdatagen) (1.4.7)\n",
      "Requirement already satisfied: packaging>=20.0 in c:\\users\\zhossai3\\appdata\\roaming\\python\\python312\\site-packages (from matplotlib->missingno>=0.5.2->mdatagen) (24.1)\n",
      "Requirement already satisfied: pillow>=8 in c:\\users\\zhossai3\\appdata\\local\\programs\\python\\python312\\lib\\site-packages (from matplotlib->missingno>=0.5.2->mdatagen) (10.4.0)\n",
      "Requirement already satisfied: pyparsing>=2.3.1 in c:\\users\\zhossai3\\appdata\\local\\programs\\python\\python312\\lib\\site-packages (from matplotlib->missingno>=0.5.2->mdatagen) (3.1.4)\n"
     ]
    },
    {
     "name": "stderr",
     "output_type": "stream",
     "text": [
      "\n",
      "[notice] A new release of pip is available: 24.2 -> 25.0.1\n",
      "[notice] To update, run: python.exe -m pip install --upgrade pip\n"
     ]
    },
    {
     "name": "stdout",
     "output_type": "stream",
     "text": [
      "Requirement already satisfied: pot in c:\\users\\zhossai3\\appdata\\local\\programs\\python\\python312\\lib\\site-packages (0.9.4)\n",
      "Requirement already satisfied: numpy>=1.16 in c:\\users\\zhossai3\\appdata\\local\\programs\\python\\python312\\lib\\site-packages (from pot) (2.0.2)\n",
      "Requirement already satisfied: scipy>=1.6 in c:\\users\\zhossai3\\appdata\\local\\programs\\python\\python312\\lib\\site-packages (from pot) (1.15.2)\n"
     ]
    },
    {
     "name": "stderr",
     "output_type": "stream",
     "text": [
      "\n",
      "[notice] A new release of pip is available: 24.2 -> 25.0.1\n",
      "[notice] To update, run: python.exe -m pip install --upgrade pip\n"
     ]
    },
    {
     "name": "stdout",
     "output_type": "stream",
     "text": [
      "Requirement already satisfied: torch in c:\\users\\zhossai3\\appdata\\local\\programs\\python\\python312\\lib\\site-packages (2.5.1)\n",
      "Requirement already satisfied: filelock in c:\\users\\zhossai3\\appdata\\local\\programs\\python\\python312\\lib\\site-packages (from torch) (3.16.1)\n",
      "Requirement already satisfied: typing-extensions>=4.8.0 in c:\\users\\zhossai3\\appdata\\local\\programs\\python\\python312\\lib\\site-packages (from torch) (4.12.2)\n",
      "Requirement already satisfied: networkx in c:\\users\\zhossai3\\appdata\\local\\programs\\python\\python312\\lib\\site-packages (from torch) (3.4.2)\n",
      "Requirement already satisfied: jinja2 in c:\\users\\zhossai3\\appdata\\local\\programs\\python\\python312\\lib\\site-packages (from torch) (3.1.4)\n",
      "Requirement already satisfied: fsspec in c:\\users\\zhossai3\\appdata\\local\\programs\\python\\python312\\lib\\site-packages (from torch) (2024.10.0)\n",
      "Requirement already satisfied: setuptools in c:\\users\\zhossai3\\appdata\\local\\programs\\python\\python312\\lib\\site-packages (from torch) (75.3.0)\n",
      "Requirement already satisfied: sympy==1.13.1 in c:\\users\\zhossai3\\appdata\\local\\programs\\python\\python312\\lib\\site-packages (from torch) (1.13.1)\n",
      "Requirement already satisfied: mpmath<1.4,>=1.1.0 in c:\\users\\zhossai3\\appdata\\local\\programs\\python\\python312\\lib\\site-packages (from sympy==1.13.1->torch) (1.3.0)\n",
      "Requirement already satisfied: MarkupSafe>=2.0 in c:\\users\\zhossai3\\appdata\\local\\programs\\python\\python312\\lib\\site-packages (from jinja2->torch) (2.1.5)\n"
     ]
    },
    {
     "name": "stderr",
     "output_type": "stream",
     "text": [
      "\n",
      "[notice] A new release of pip is available: 24.2 -> 25.0.1\n",
      "[notice] To update, run: python.exe -m pip install --upgrade pip\n"
     ]
    },
    {
     "name": "stdout",
     "output_type": "stream",
     "text": [
      "Requirement already satisfied: geomloss in c:\\users\\zhossai3\\appdata\\local\\programs\\python\\python312\\lib\\site-packages (0.2.6)\n",
      "Requirement already satisfied: numpy in c:\\users\\zhossai3\\appdata\\local\\programs\\python\\python312\\lib\\site-packages (from geomloss) (2.0.2)\n",
      "Requirement already satisfied: torch in c:\\users\\zhossai3\\appdata\\local\\programs\\python\\python312\\lib\\site-packages (from geomloss) (2.5.1)\n",
      "Requirement already satisfied: filelock in c:\\users\\zhossai3\\appdata\\local\\programs\\python\\python312\\lib\\site-packages (from torch->geomloss) (3.16.1)\n",
      "Requirement already satisfied: typing-extensions>=4.8.0 in c:\\users\\zhossai3\\appdata\\local\\programs\\python\\python312\\lib\\site-packages (from torch->geomloss) (4.12.2)\n",
      "Requirement already satisfied: networkx in c:\\users\\zhossai3\\appdata\\local\\programs\\python\\python312\\lib\\site-packages (from torch->geomloss) (3.4.2)\n",
      "Requirement already satisfied: jinja2 in c:\\users\\zhossai3\\appdata\\local\\programs\\python\\python312\\lib\\site-packages (from torch->geomloss) (3.1.4)\n",
      "Requirement already satisfied: fsspec in c:\\users\\zhossai3\\appdata\\local\\programs\\python\\python312\\lib\\site-packages (from torch->geomloss) (2024.10.0)\n",
      "Requirement already satisfied: setuptools in c:\\users\\zhossai3\\appdata\\local\\programs\\python\\python312\\lib\\site-packages (from torch->geomloss) (75.3.0)\n",
      "Requirement already satisfied: sympy==1.13.1 in c:\\users\\zhossai3\\appdata\\local\\programs\\python\\python312\\lib\\site-packages (from torch->geomloss) (1.13.1)\n",
      "Requirement already satisfied: mpmath<1.4,>=1.1.0 in c:\\users\\zhossai3\\appdata\\local\\programs\\python\\python312\\lib\\site-packages (from sympy==1.13.1->torch->geomloss) (1.3.0)\n",
      "Requirement already satisfied: MarkupSafe>=2.0 in c:\\users\\zhossai3\\appdata\\local\\programs\\python\\python312\\lib\\site-packages (from jinja2->torch->geomloss) (2.1.5)\n"
     ]
    },
    {
     "name": "stderr",
     "output_type": "stream",
     "text": [
      "\n",
      "[notice] A new release of pip is available: 24.2 -> 25.0.1\n",
      "[notice] To update, run: python.exe -m pip install --upgrade pip\n"
     ]
    },
    {
     "name": "stdout",
     "output_type": "stream",
     "text": [
      "Requirement already satisfied: wget in c:\\users\\zhossai3\\appdata\\local\\programs\\python\\python312\\lib\\site-packages (3.2)\n"
     ]
    },
    {
     "name": "stderr",
     "output_type": "stream",
     "text": [
      "\n",
      "[notice] A new release of pip is available: 24.2 -> 25.0.1\n",
      "[notice] To update, run: python.exe -m pip install --upgrade pip\n"
     ]
    },
    {
     "name": "stdout",
     "output_type": "stream",
     "text": [
      "Requirement already satisfied: numpy in c:\\users\\zhossai3\\appdata\\local\\programs\\python\\python312\\lib\\site-packages (2.0.2)\n",
      "Requirement already satisfied: scipy in c:\\users\\zhossai3\\appdata\\local\\programs\\python\\python312\\lib\\site-packages (1.15.2)\n",
      "Collecting sklearn\n",
      "  Using cached sklearn-0.0.post12.tar.gz (2.6 kB)\n",
      "  Installing build dependencies: started\n",
      "  Installing build dependencies: finished with status 'done'\n",
      "  Getting requirements to build wheel: started\n",
      "  Getting requirements to build wheel: finished with status 'error'\n"
     ]
    },
    {
     "name": "stderr",
     "output_type": "stream",
     "text": [
      "  error: subprocess-exited-with-error\n",
      "  \n",
      "  × Getting requirements to build wheel did not run successfully.\n",
      "  │ exit code: 1\n",
      "  ╰─> [15 lines of output]\n",
      "      The 'sklearn' PyPI package is deprecated, use 'scikit-learn'\n",
      "      rather than 'sklearn' for pip commands.\n",
      "      \n",
      "      Here is how to fix this error in the main use cases:\n",
      "      - use 'pip install scikit-learn' rather than 'pip install sklearn'\n",
      "      - replace 'sklearn' by 'scikit-learn' in your pip requirements files\n",
      "        (requirements.txt, setup.py, setup.cfg, Pipfile, etc ...)\n",
      "      - if the 'sklearn' package is used by one of your dependencies,\n",
      "        it would be great if you take some time to track which package uses\n",
      "        'sklearn' instead of 'scikit-learn' and report it to their issue tracker\n",
      "      - as a last resort, set the environment variable\n",
      "        SKLEARN_ALLOW_DEPRECATED_SKLEARN_PACKAGE_INSTALL=True to avoid this error\n",
      "      \n",
      "      More information is available at\n",
      "      https://github.com/scikit-learn/sklearn-pypi-package\n",
      "      [end of output]\n",
      "  \n",
      "  note: This error originates from a subprocess, and is likely not a problem with pip.\n",
      "\n",
      "[notice] A new release of pip is available: 24.2 -> 25.0.1\n",
      "[notice] To update, run: python.exe -m pip install --upgrade pip\n",
      "error: subprocess-exited-with-error\n",
      "\n",
      "× Getting requirements to build wheel did not run successfully.\n",
      "│ exit code: 1\n",
      "╰─> See above for output.\n",
      "\n",
      "note: This error originates from a subprocess, and is likely not a problem with pip.\n"
     ]
    },
    {
     "name": "stdout",
     "output_type": "stream",
     "text": [
      "Requirement already satisfied: jax in c:\\users\\zhossai3\\appdata\\local\\programs\\python\\python312\\lib\\site-packages (0.5.0)\n",
      "Requirement already satisfied: jaxlib<=0.5.0,>=0.5.0 in c:\\users\\zhossai3\\appdata\\local\\programs\\python\\python312\\lib\\site-packages (from jax) (0.5.0)\n",
      "Requirement already satisfied: ml_dtypes>=0.4.0 in c:\\users\\zhossai3\\appdata\\local\\programs\\python\\python312\\lib\\site-packages (from jax) (0.5.1)\n",
      "Requirement already satisfied: numpy>=1.25 in c:\\users\\zhossai3\\appdata\\local\\programs\\python\\python312\\lib\\site-packages (from jax) (2.0.2)\n",
      "Requirement already satisfied: opt_einsum in c:\\users\\zhossai3\\appdata\\local\\programs\\python\\python312\\lib\\site-packages (from jax) (3.4.0)\n",
      "Requirement already satisfied: scipy>=1.11.1 in c:\\users\\zhossai3\\appdata\\local\\programs\\python\\python312\\lib\\site-packages (from jax) (1.15.2)\n"
     ]
    },
    {
     "name": "stderr",
     "output_type": "stream",
     "text": [
      "\n",
      "[notice] A new release of pip is available: 24.2 -> 25.0.1\n",
      "[notice] To update, run: python.exe -m pip install --upgrade pip\n"
     ]
    },
    {
     "name": "stdout",
     "output_type": "stream",
     "text": [
      "Requirement already satisfied: chex in c:\\users\\zhossai3\\appdata\\local\\programs\\python\\python312\\lib\\site-packages (0.1.88)\n",
      "Requirement already satisfied: absl-py>=0.9.0 in c:\\users\\zhossai3\\appdata\\local\\programs\\python\\python312\\lib\\site-packages (from chex) (2.1.0)\n",
      "Requirement already satisfied: typing_extensions>=4.2.0 in c:\\users\\zhossai3\\appdata\\local\\programs\\python\\python312\\lib\\site-packages (from chex) (4.12.2)\n",
      "Requirement already satisfied: jax>=0.4.27 in c:\\users\\zhossai3\\appdata\\local\\programs\\python\\python312\\lib\\site-packages (from chex) (0.5.0)\n",
      "Requirement already satisfied: jaxlib>=0.4.27 in c:\\users\\zhossai3\\appdata\\local\\programs\\python\\python312\\lib\\site-packages (from chex) (0.5.0)\n",
      "Requirement already satisfied: numpy>=1.24.1 in c:\\users\\zhossai3\\appdata\\local\\programs\\python\\python312\\lib\\site-packages (from chex) (2.0.2)\n",
      "Requirement already satisfied: setuptools in c:\\users\\zhossai3\\appdata\\local\\programs\\python\\python312\\lib\\site-packages (from chex) (75.3.0)\n",
      "Requirement already satisfied: toolz>=0.9.0 in c:\\users\\zhossai3\\appdata\\local\\programs\\python\\python312\\lib\\site-packages (from chex) (1.0.0)\n",
      "Requirement already satisfied: ml_dtypes>=0.4.0 in c:\\users\\zhossai3\\appdata\\local\\programs\\python\\python312\\lib\\site-packages (from jax>=0.4.27->chex) (0.5.1)\n",
      "Requirement already satisfied: opt_einsum in c:\\users\\zhossai3\\appdata\\local\\programs\\python\\python312\\lib\\site-packages (from jax>=0.4.27->chex) (3.4.0)\n",
      "Requirement already satisfied: scipy>=1.11.1 in c:\\users\\zhossai3\\appdata\\local\\programs\\python\\python312\\lib\\site-packages (from jax>=0.4.27->chex) (1.15.2)\n"
     ]
    },
    {
     "name": "stderr",
     "output_type": "stream",
     "text": [
      "\n",
      "[notice] A new release of pip is available: 24.2 -> 25.0.1\n",
      "[notice] To update, run: python.exe -m pip install --upgrade pip\n"
     ]
    },
    {
     "name": "stdout",
     "output_type": "stream",
     "text": [
      "Requirement already satisfied: attr in c:\\users\\zhossai3\\appdata\\local\\programs\\python\\python312\\lib\\site-packages (0.3.2)\n"
     ]
    },
    {
     "name": "stderr",
     "output_type": "stream",
     "text": [
      "\n",
      "[notice] A new release of pip is available: 24.2 -> 25.0.1\n",
      "[notice] To update, run: python.exe -m pip install --upgrade pip\n"
     ]
    },
    {
     "name": "stdout",
     "output_type": "stream",
     "text": [
      "Requirement already satisfied: optax in c:\\users\\zhossai3\\appdata\\local\\programs\\python\\python312\\lib\\site-packages (0.2.4)\n",
      "Requirement already satisfied: absl-py>=0.7.1 in c:\\users\\zhossai3\\appdata\\local\\programs\\python\\python312\\lib\\site-packages (from optax) (2.1.0)\n",
      "Requirement already satisfied: chex>=0.1.87 in c:\\users\\zhossai3\\appdata\\local\\programs\\python\\python312\\lib\\site-packages (from optax) (0.1.88)\n",
      "Requirement already satisfied: jax>=0.4.27 in c:\\users\\zhossai3\\appdata\\local\\programs\\python\\python312\\lib\\site-packages (from optax) (0.5.0)\n",
      "Requirement already satisfied: jaxlib>=0.4.27 in c:\\users\\zhossai3\\appdata\\local\\programs\\python\\python312\\lib\\site-packages (from optax) (0.5.0)\n",
      "Requirement already satisfied: numpy>=1.18.0 in c:\\users\\zhossai3\\appdata\\local\\programs\\python\\python312\\lib\\site-packages (from optax) (2.0.2)\n",
      "Requirement already satisfied: etils[epy] in c:\\users\\zhossai3\\appdata\\local\\programs\\python\\python312\\lib\\site-packages (from optax) (1.12.0)\n",
      "Requirement already satisfied: typing_extensions>=4.2.0 in c:\\users\\zhossai3\\appdata\\local\\programs\\python\\python312\\lib\\site-packages (from chex>=0.1.87->optax) (4.12.2)\n",
      "Requirement already satisfied: setuptools in c:\\users\\zhossai3\\appdata\\local\\programs\\python\\python312\\lib\\site-packages (from chex>=0.1.87->optax) (75.3.0)\n",
      "Requirement already satisfied: toolz>=0.9.0 in c:\\users\\zhossai3\\appdata\\local\\programs\\python\\python312\\lib\\site-packages (from chex>=0.1.87->optax) (1.0.0)\n",
      "Requirement already satisfied: ml_dtypes>=0.4.0 in c:\\users\\zhossai3\\appdata\\local\\programs\\python\\python312\\lib\\site-packages (from jax>=0.4.27->optax) (0.5.1)\n",
      "Requirement already satisfied: opt_einsum in c:\\users\\zhossai3\\appdata\\local\\programs\\python\\python312\\lib\\site-packages (from jax>=0.4.27->optax) (3.4.0)\n",
      "Requirement already satisfied: scipy>=1.11.1 in c:\\users\\zhossai3\\appdata\\local\\programs\\python\\python312\\lib\\site-packages (from jax>=0.4.27->optax) (1.15.2)\n"
     ]
    },
    {
     "name": "stderr",
     "output_type": "stream",
     "text": [
      "\n",
      "[notice] A new release of pip is available: 24.2 -> 25.0.1\n",
      "[notice] To update, run: python.exe -m pip install --upgrade pip\n"
     ]
    }
   ],
   "source": [
    "!pip install pot\n",
    "!pip install torch\n",
    "!pip install geomloss\n",
    "!pip install wget\n",
    "!pip install mdatagen\n",
    "!pip install pot\n",
    "!pip install torch\n",
    "!pip install geomloss\n",
    "!pip install wget\n",
    "!pip install numpy scipy sklearn\n",
    "!pip install jax\n",
    "!pip install chex\n",
    "!pip install attr\n",
    "!pip install optax\n"
   ]
  },
  {
   "cell_type": "code",
   "execution_count": 2,
   "metadata": {},
   "outputs": [
    {
     "name": "stderr",
     "output_type": "stream",
     "text": [
      "c:\\Users\\zhossai3\\AppData\\Local\\Programs\\Python\\Python312\\Lib\\site-packages\\torch\\__init__.py:1144: UserWarning: torch.set_default_tensor_type() is deprecated as of PyTorch 2.1, please use torch.set_default_dtype() and torch.set_default_device() as alternatives. (Triggered internally at C:\\actions-runner\\_work\\pytorch\\pytorch\\builder\\windows\\pytorch\\torch\\csrc\\tensor\\python_tensor.cpp:434.)\n",
      "  _C._set_default_tensor_type(t)\n"
     ]
    }
   ],
   "source": [
    "import numpy as np\n",
    "import torch\n",
    "import torch.nn as nn\n",
    "import pandas as pd\n",
    "\n",
    "from geomloss import SamplesLoss\n",
    "\n",
    "import ot\n",
    "\n",
    "import os\n",
    "import pickle as pkl\n",
    "import copy\n",
    "\n",
    "from sklearn.preprocessing import scale\n",
    "from sklearn.experimental import enable_iterative_imputer\n",
    "from sklearn.impute import SimpleImputer, IterativeImputer\n",
    "\n",
    "from utils import *\n",
    "from SoftImpute import softimpute, cv_softimpute\n",
    "#from DataSetLoader import dataset_loader, ground_truth\n",
    "from SinkhornImputation import SinkhornImputation\n",
    "from Sinkhorn_CMI import SinkhornImputation_CMI\n",
    "from RR_imputer import RRimputer\n",
    "import matplotlib.pyplot as plt\n",
    "from CMI import *\n",
    "\n",
    "from Inject_Missing_Values import *\n",
    "\n",
    "from Miss import *\n",
    "\n",
    "import argparse\n",
    "import logging\n",
    "logger = logging.getLogger()\n",
    "logger.setLevel(logging.INFO)\n",
    "logging.debug(\"test\")\n",
    "import pandas as pd\n",
    "\n",
    "torch.set_default_tensor_type('torch.DoubleTensor')"
   ]
  },
  {
   "cell_type": "code",
   "execution_count": 3,
   "metadata": {},
   "outputs": [],
   "source": [
    "import numpy as np\n",
    "#from mbi import Domain, CliqueVector, Factor, LinearMeasurement\n",
    "#from mbi import marginal_oracles, marginal_loss, synthetic_data\n",
    "from typing import Callable\n",
    "import jax\n",
    "import jax.numpy as jnp\n",
    "import chex\n",
    "import attr\n",
    "import optax"
   ]
  },
  {
   "cell_type": "code",
   "execution_count": 4,
   "metadata": {},
   "outputs": [
    {
     "name": "stdout",
     "output_type": "stream",
     "text": [
      "     checking-account  duration  credit-history  purpose  credit-amount  \\\n",
      "0                   1         6               0        7           1169   \n",
      "1                   0        48               1        7           5951   \n",
      "2                   3        12               0        4           2096   \n",
      "3                   1        42               1        5           7882   \n",
      "4                   1        24               2        1           4870   \n",
      "..                ...       ...             ...      ...            ...   \n",
      "995                 3        12               1        5           1736   \n",
      "996                 1        30               1        2           3857   \n",
      "997                 3        12               1        7            804   \n",
      "998                 1        45               1        7           1845   \n",
      "999                 0        45               0        2           4576   \n",
      "\n",
      "     savings-account  employment-since  installment-rate  other-debtors  \\\n",
      "0                  4                 3                 4              2   \n",
      "1                  2                 0                 2              2   \n",
      "2                  2                 1                 2              2   \n",
      "3                  2                 1                 2              1   \n",
      "4                  2                 0                 3              2   \n",
      "..               ...               ...               ...            ...   \n",
      "995                2                 1                 3              2   \n",
      "996                2                 0                 4              2   \n",
      "997                2                 3                 4              2   \n",
      "998                2                 0                 4              2   \n",
      "999                0                 4                 3              2   \n",
      "\n",
      "     residence-since  ...  age  other-installment  housing  existing-credits  \\\n",
      "0                  4  ...   67                  1        1                 2   \n",
      "1                  2  ...   22                  1        1                 1   \n",
      "2                  3  ...   49                  1        1                 1   \n",
      "3                  4  ...   45                  1        0                 1   \n",
      "4                  4  ...   53                  1        0                 2   \n",
      "..               ...  ...  ...                ...      ...               ...   \n",
      "995                4  ...   31                  1        1                 1   \n",
      "996                4  ...   40                  1        1                 1   \n",
      "997                4  ...   38                  1        1                 1   \n",
      "998                4  ...   23                  1        0                 1   \n",
      "999                4  ...   27                  1        1                 1   \n",
      "\n",
      "     job  number-people-provide-maintenance-for  telephone  foreign-worker  \\\n",
      "0      0                                      1          1               1   \n",
      "1      0                                      1          0               1   \n",
      "2      1                                      2          0               1   \n",
      "3      0                                      2          0               1   \n",
      "4      0                                      2          0               1   \n",
      "..   ...                                    ...        ...             ...   \n",
      "995    1                                      1          0               1   \n",
      "996    2                                      1          1               1   \n",
      "997    0                                      1          0               1   \n",
      "998    0                                      1          1               1   \n",
      "999    0                                      1          0               1   \n",
      "\n",
      "     sex  marital-status  \n",
      "0      1               0  \n",
      "1      0               0  \n",
      "2      1               0  \n",
      "3      1               0  \n",
      "4      1               0  \n",
      "..   ...             ...  \n",
      "995    0               0  \n",
      "996    1               0  \n",
      "997    1               0  \n",
      "998    1               0  \n",
      "999    1               0  \n",
      "\n",
      "[1000 rows x 21 columns]\n",
      "<class 'pandas.core.series.Series'>\n"
     ]
    }
   ],
   "source": [
    "import pandas as pd\n",
    "\n",
    "# Read CSV file into a Pandas DataFrame\n",
    "groundTruth = pd.read_csv(r'C:\\Users\\zhossai3\\Desktop\\My code\\OT_Fairness\\Data\\German Credit\\German_Credit_Ground_Truth.csv', delimiter=',', header=0)\n",
    "\n",
    "# Store feature columns in a DataFrame\n",
    "\n",
    "X= groundTruth.iloc[:, :-1]  # Selects all rows and all columns except the last one\n",
    "Y = groundTruth.iloc[:, -1]  # Selects all rows and only the last column\n",
    "\n",
    "# Display the DataFrames\n",
    "print(X)  # Print first few rows of features\n",
    " # Print first few rows of target variable\n",
    "type(X)\n",
    "print(type(Y))\n"
   ]
  },
  {
   "cell_type": "code",
   "execution_count": 5,
   "metadata": {},
   "outputs": [
    {
     "name": "stdout",
     "output_type": "stream",
     "text": [
      "<class 'pandas.core.frame.DataFrame'>\n",
      "RangeIndex: 1000 entries, 0 to 999\n",
      "Data columns (total 22 columns):\n",
      " #   Column                                 Non-Null Count  Dtype\n",
      "---  ------                                 --------------  -----\n",
      " 0   checking-account                       1000 non-null   int64\n",
      " 1   duration                               1000 non-null   int64\n",
      " 2   credit-history                         1000 non-null   int64\n",
      " 3   purpose                                1000 non-null   int64\n",
      " 4   credit-amount                          1000 non-null   int64\n",
      " 5   savings-account                        1000 non-null   int64\n",
      " 6   employment-since                       1000 non-null   int64\n",
      " 7   installment-rate                       1000 non-null   int64\n",
      " 8   other-debtors                          1000 non-null   int64\n",
      " 9   residence-since                        1000 non-null   int64\n",
      " 10  property                               1000 non-null   int64\n",
      " 11  age                                    1000 non-null   int64\n",
      " 12  other-installment                      1000 non-null   int64\n",
      " 13  housing                                1000 non-null   int64\n",
      " 14  existing-credits                       1000 non-null   int64\n",
      " 15  job                                    1000 non-null   int64\n",
      " 16  number-people-provide-maintenance-for  1000 non-null   int64\n",
      " 17  telephone                              1000 non-null   int64\n",
      " 18  foreign-worker                         1000 non-null   int64\n",
      " 19  sex                                    1000 non-null   int64\n",
      " 20  marital-status                         1000 non-null   int64\n",
      " 21  class-label                            1000 non-null   int64\n",
      "dtypes: int64(22)\n",
      "memory usage: 172.0 KB\n"
     ]
    }
   ],
   "source": [
    "groundTruth.info()"
   ]
  },
  {
   "cell_type": "code",
   "execution_count": 6,
   "metadata": {},
   "outputs": [
    {
     "data": {
      "text/plain": [
       "array([0, 1, 2, 3])"
      ]
     },
     "execution_count": 6,
     "metadata": {},
     "output_type": "execute_result"
    }
   ],
   "source": [
    "groundTruth['job'].unique()"
   ]
  },
  {
   "cell_type": "code",
   "execution_count": 7,
   "metadata": {},
   "outputs": [],
   "source": [
    "def conditional_mutual_information(data, X, Y, Z, delta=1):\n",
    "\n",
    "  cmi = 0\n",
    "\n",
    "  P_Z = data.groupby(Z).size()\n",
    "  P_Z = P_Z / P_Z.sum()\n",
    "\n",
    "  P_XZ = data.groupby(X + Z).size()\n",
    "  P_XZ = P_XZ / P_XZ.sum()\n",
    "\n",
    "  P_YZ = data.groupby(Y + Z).size()\n",
    "  P_YZ = P_YZ / P_YZ.sum()\n",
    "\n",
    "  P_XYZ = data.groupby(X + Y + Z).size()\n",
    "  P_XYZ = P_XYZ / P_XYZ.sum()\n",
    "\n",
    "  for ind in P_XYZ.index:\n",
    "    x_ind = ind[:len(X)]\n",
    "    y_ind = ind[len(X):len(X + Y)]\n",
    "    z_ind = ind[len(X + Y):]\n",
    "\n",
    "    xz_ind = x_ind + z_ind\n",
    "    yz_ind = y_ind + z_ind\n",
    "    xyz_ind = ind\n",
    "\n",
    "    z_ind = pd.MultiIndex.from_tuples([z_ind], names=Z) if len(Z) != 1 else pd.Index(z_ind, name=Z[0])\n",
    "    xz_ind = pd.MultiIndex.from_tuples([xz_ind], names=X + Z)\n",
    "    yz_ind = pd.MultiIndex.from_tuples([yz_ind], names=Y + Z)\n",
    "    xyz_ind = pd.MultiIndex.from_tuples([xyz_ind], names=X + Y + Z)\n",
    "\n",
    "    cmi += delta * P_XYZ[xyz_ind].item() * np.log2(\n",
    "      P_Z[z_ind].item() * P_XYZ[xyz_ind].item() / (P_XZ[xz_ind].item() * P_YZ[yz_ind].item()))\n",
    "\n",
    "  return cmi"
   ]
  },
  {
   "cell_type": "code",
   "execution_count": 8,
   "metadata": {},
   "outputs": [
    {
     "name": "stdout",
     "output_type": "stream",
     "text": [
      "Conditional Mutual Information: 0.027509775004326952\n"
     ]
    }
   ],
   "source": [
    "data = groundTruth # Convert tensor to numpy array\n",
    "sensitive_attributes = [11, 19]\n",
    "\n",
    "# Define different bin sizes for each sensitive attribute\n",
    "bin_sizes = {\n",
    "    11: 4,  # Binary attribute\n",
    "    19: 2  # More categories\n",
    "}\n",
    "\n",
    "\n",
    "# Digitize multiple sensitive attributes with different bin sizes\n",
    "#X_list = [\n",
    " #   np.digitize(data[:, col], bins=np.linspace(data[:, col].min(), data[:, col].max(), bin_sizes[col] + 1))\n",
    "  #  for col in sensitive_attributes\n",
    "#]\n",
    "#x = np.column_stack(X_list)\n",
    "#X = np.digitize(data[:,1],bins=np.linspace(data[:,1].min(), data[:,1].max(),1)) \n",
    "#y =np.digitize(Y,bins=np.linspace(Y.min(), Y.max(),4)) \n",
    "#z =  np.digitize(data[:, 7],bins=np.linspace(data[:, 7].min(), data[:, 7].max(), 4))\n",
    "\n",
    "x = ['sex','age']\n",
    "y = ['class-label']\n",
    "z = ['credit-amount', 'job']\n",
    "\n",
    "\n",
    "cmi_value =conditional_mutual_information(data, x, y, z, delta=1)\n",
    "print(\"Conditional Mutual Information:\", cmi_value)"
   ]
  },
  {
   "cell_type": "markdown",
   "metadata": {},
   "source": [
    "**30% MCAR**"
   ]
  },
  {
   "cell_type": "code",
   "execution_count": 9,
   "metadata": {},
   "outputs": [],
   "source": [
    "generator = Inject_Missing_Values()"
   ]
  },
  {
   "cell_type": "code",
   "execution_count": 10,
   "metadata": {},
   "outputs": [
    {
     "data": {
      "text/plain": [
       "pandas.core.series.Series"
      ]
     },
     "execution_count": 10,
     "metadata": {},
     "output_type": "execute_result"
    }
   ],
   "source": [
    "type(Y)"
   ]
  },
  {
   "cell_type": "code",
   "execution_count": 11,
   "metadata": {},
   "outputs": [],
   "source": [
    "miss_mcar30,index_mcar30 = generator.MCAR(X,missing_rate=30)\n",
    "type(miss_mcar30)\n",
    "miss_mcar30 = pd.concat([miss_mcar30, Y], axis=1)"
   ]
  },
  {
   "cell_type": "code",
   "execution_count": 12,
   "metadata": {},
   "outputs": [],
   "source": [
    "miss_mcar30_numpy = scale(miss_mcar30)\n",
    "X_numpy = scale(X)\n",
    "Y_numpy = scale(Y)\n",
    "\n",
    "miss_mcar30_tensor = torch.tensor(miss_mcar30_numpy)\n",
    "groundTruth_tensor = torch.tensor(scale(groundTruth))\n",
    "X_tensor = torch.tensor(X_numpy)\n",
    "Y_tensor = torch.tensor(Y_numpy)"
   ]
  },
  {
   "cell_type": "code",
   "execution_count": 13,
   "metadata": {},
   "outputs": [
    {
     "name": "stdout",
     "output_type": "stream",
     "text": [
      "0.7173755433480349\n"
     ]
    },
    {
     "name": "stderr",
     "output_type": "stream",
     "text": [
      "INFO:root:batchsize = 128, epsilon = 0.7174\n",
      "INFO:root:Iteration 0:\t Loss: 5.6585\t Validation MAE: 0.7737\tRMSE: 1.0038\n",
      "INFO:root:Iteration 50:\t Loss: 4.8395\t Validation MAE: 0.7080\tRMSE: 0.9911\n",
      "INFO:root:Iteration 100:\t Loss: 5.5765\t Validation MAE: 0.6960\tRMSE: 0.9859\n",
      "INFO:root:Iteration 150:\t Loss: 5.2007\t Validation MAE: 0.6920\tRMSE: 0.9846\n",
      "INFO:root:Iteration 200:\t Loss: 5.0344\t Validation MAE: 0.6894\tRMSE: 0.9844\n",
      "INFO:root:Iteration 250:\t Loss: 6.0266\t Validation MAE: 0.6873\tRMSE: 0.9841\n",
      "INFO:root:Iteration 300:\t Loss: 5.4672\t Validation MAE: 0.6846\tRMSE: 0.9833\n",
      "INFO:root:Iteration 350:\t Loss: 5.0426\t Validation MAE: 0.6845\tRMSE: 0.9841\n",
      "INFO:root:Iteration 400:\t Loss: 5.4224\t Validation MAE: 0.6834\tRMSE: 0.9848\n",
      "INFO:root:Iteration 450:\t Loss: 5.1778\t Validation MAE: 0.6842\tRMSE: 0.9849\n",
      "INFO:root:Iteration 500:\t Loss: 5.1321\t Validation MAE: 0.6845\tRMSE: 0.9854\n",
      "INFO:root:Iteration 550:\t Loss: 4.9572\t Validation MAE: 0.6847\tRMSE: 0.9869\n",
      "INFO:root:Iteration 600:\t Loss: 5.3140\t Validation MAE: 0.6840\tRMSE: 0.9875\n",
      "INFO:root:Iteration 650:\t Loss: 5.7567\t Validation MAE: 0.6837\tRMSE: 0.9879\n",
      "INFO:root:Iteration 700:\t Loss: 5.2219\t Validation MAE: 0.6835\tRMSE: 0.9889\n",
      "INFO:root:Iteration 750:\t Loss: 5.8688\t Validation MAE: 0.6832\tRMSE: 0.9889\n",
      "INFO:root:Iteration 800:\t Loss: 5.0145\t Validation MAE: 0.6827\tRMSE: 0.9878\n",
      "INFO:root:Iteration 850:\t Loss: 5.2255\t Validation MAE: 0.6835\tRMSE: 0.9896\n",
      "INFO:root:Iteration 900:\t Loss: 5.8038\t Validation MAE: 0.6840\tRMSE: 0.9892\n",
      "INFO:root:Iteration 950:\t Loss: 5.6728\t Validation MAE: 0.6827\tRMSE: 0.9888\n",
      "INFO:root:Iteration 1000:\t Loss: 5.3458\t Validation MAE: 0.6817\tRMSE: 0.9880\n",
      "INFO:root:Iteration 1050:\t Loss: 5.9643\t Validation MAE: 0.6817\tRMSE: 0.9873\n",
      "INFO:root:Iteration 1100:\t Loss: 5.5164\t Validation MAE: 0.6833\tRMSE: 0.9883\n",
      "INFO:root:Iteration 1150:\t Loss: 5.7941\t Validation MAE: 0.6824\tRMSE: 0.9877\n",
      "INFO:root:Iteration 1200:\t Loss: 5.2590\t Validation MAE: 0.6827\tRMSE: 0.9895\n",
      "INFO:root:Iteration 1250:\t Loss: 5.1996\t Validation MAE: 0.6835\tRMSE: 0.9900\n",
      "INFO:root:Iteration 1300:\t Loss: 5.6376\t Validation MAE: 0.6848\tRMSE: 0.9905\n",
      "INFO:root:Iteration 1350:\t Loss: 5.1261\t Validation MAE: 0.6847\tRMSE: 0.9902\n",
      "INFO:root:Iteration 1400:\t Loss: 5.1670\t Validation MAE: 0.6842\tRMSE: 0.9902\n",
      "INFO:root:Iteration 1450:\t Loss: 5.8201\t Validation MAE: 0.6850\tRMSE: 0.9908\n",
      "INFO:root:Iteration 1500:\t Loss: 5.9775\t Validation MAE: 0.6855\tRMSE: 0.9901\n",
      "INFO:root:Iteration 1550:\t Loss: 5.4246\t Validation MAE: 0.6844\tRMSE: 0.9893\n",
      "INFO:root:Iteration 1600:\t Loss: 4.9291\t Validation MAE: 0.6843\tRMSE: 0.9892\n",
      "INFO:root:Iteration 1650:\t Loss: 5.4192\t Validation MAE: 0.6839\tRMSE: 0.9896\n",
      "INFO:root:Iteration 1700:\t Loss: 5.3321\t Validation MAE: 0.6833\tRMSE: 0.9901\n",
      "INFO:root:Iteration 1750:\t Loss: 4.7861\t Validation MAE: 0.6847\tRMSE: 0.9911\n",
      "INFO:root:Iteration 1800:\t Loss: 5.4992\t Validation MAE: 0.6839\tRMSE: 0.9902\n",
      "INFO:root:Iteration 1850:\t Loss: 5.3587\t Validation MAE: 0.6850\tRMSE: 0.9916\n",
      "INFO:root:Iteration 1900:\t Loss: 5.7107\t Validation MAE: 0.6839\tRMSE: 0.9907\n",
      "INFO:root:Iteration 1950:\t Loss: 4.8643\t Validation MAE: 0.6837\tRMSE: 0.9899\n"
     ]
    }
   ],
   "source": [
    "#sinkhorn\n",
    "n_mcar30, d_mcar30 = miss_mcar30_tensor.shape\n",
    "batchsize = 128 # If the batch size is larger than half the dataset's size,\n",
    "                # it will be redefined in the imputation methods.\n",
    "lr = 1e-2\n",
    "epsilon_mcar30 = pick_epsilon(miss_mcar30_tensor)\n",
    "#epsilon_mcar30 = 0.3\n",
    "print(epsilon_mcar30)\n",
    "\n",
    "\n",
    "sk_imputer_mcar30 = SinkhornImputation(eps=epsilon_mcar30, batchsize=batchsize, lr=lr, niter=2000)\n",
    "sk_imp_mcar30, sk_maes30mcar, sk_rmses30mcar = sk_imputer_mcar30.fit_transform(miss_mcar30_tensor, verbose=True, report_interval=50, X_true=groundTruth_tensor)\n",
    "#using numpy version of data\n",
    "#sk_imp_mcar30_numpy = sk_imp_mcar30.detach().cpu().numpy()\n",
    "\n",
    "#sk_mae_mcar30 = MAE(sk_imp_mcar30_numpy,ground_truth_numpy ,mask_mcar30)\n",
    "#sk_rmse_mcar30 = RMSE(sk_imp_mcar30_numpy, ground_truth_numpy,mask_mcar30)\n",
    "#print(sk_mae_mcar30,sk_rmse_mcar30)"
   ]
  },
  {
   "cell_type": "code",
   "execution_count": 14,
   "metadata": {},
   "outputs": [
    {
     "name": "stdout",
     "output_type": "stream",
     "text": [
      "tensor([[ 0.3786, -0.1369, -1.0055,  ...,  0.0212, -0.3271,  0.6547],\n",
      "        [-0.6479,  2.1846, -0.0381,  ..., -1.4670, -0.2245, -1.5275],\n",
      "        [ 1.1298, -0.7904, -1.0055,  ...,  0.5638, -0.3278,  0.6547],\n",
      "        ...,\n",
      "        [ 1.1298, -0.7263, -0.5070,  ...,  0.6816, -0.3237,  0.6547],\n",
      "        [-0.4551,  1.9420, -0.0381,  ...,  0.6816, -0.2665, -1.5275],\n",
      "        [-1.2476, -0.1763, -0.1424,  ...,  0.6816, -0.3278,  0.6547]],\n",
      "       grad_fn=<IndexPutBackward0>)\n"
     ]
    }
   ],
   "source": [
    "print(sk_imp_mcar30)"
   ]
  },
  {
   "cell_type": "code",
   "execution_count": 15,
   "metadata": {},
   "outputs": [
    {
     "name": "stdout",
     "output_type": "stream",
     "text": [
      "tensor([ 2.1232e-02, -1.4670e+00,  5.6381e-01,  6.8165e-01,  6.8165e-01,\n",
      "         6.8165e-01,  6.8165e-01,  4.3857e-01,  6.8165e-01,  6.8165e-01,\n",
      "        -1.4670e+00, -1.4670e+00,  3.6430e-01,  6.8165e-01, -1.4670e+00,\n",
      "         4.2386e-01,  6.8165e-01,  6.8165e-01, -1.4670e+00,  6.8165e-01,\n",
      "        -1.0031e-01,  4.1124e-01,  6.8165e-01,  6.8165e-01,  6.8165e-01,\n",
      "         6.8165e-01,  6.8165e-01,  1.9200e-02,  6.8165e-01,  4.0992e-01,\n",
      "         6.8165e-01,  6.8165e-01,  6.8165e-01,  6.8165e-01,  6.4858e-02,\n",
      "         6.8165e-01,  6.8165e-01,  4.5954e-01,  6.8165e-01,  6.8165e-01,\n",
      "         7.0465e-02,  6.8165e-01,  6.8165e-01,  6.8165e-01, -1.4670e+00,\n",
      "        -1.4670e+00,  5.8717e-01, -9.5280e-01,  6.8165e-01, -1.4670e+00,\n",
      "         5.0900e-01,  6.8165e-01,  6.8165e-01,  6.8165e-01,  6.8165e-01,\n",
      "         2.8098e-01,  2.9899e-01, -1.4670e+00, -1.4670e+00, -1.4670e+00,\n",
      "         6.8165e-01,  6.8165e-01,  6.8165e-01,  6.8165e-01, -1.4670e+00,\n",
      "         4.8932e-01, -1.4670e+00,  6.8165e-01,  6.8165e-01, -1.4670e+00,\n",
      "        -1.4670e+00, -1.2915e+00,  6.8165e-01,  6.1163e-01,  6.8165e-01,\n",
      "         5.5543e-01,  6.8165e-01,  6.8165e-01,  6.8165e-01,  6.8165e-01,\n",
      "        -1.4670e+00,  6.8165e-01, -1.4670e+00, -1.4670e+00,  3.1751e-01,\n",
      "        -5.9503e-02, -1.4670e+00,  6.8165e-01,  5.2957e-01,  6.8165e-01,\n",
      "         6.8165e-01,  6.8165e-01, -1.4670e+00,  6.8165e-01,  6.8165e-01,\n",
      "         2.1507e-01, -1.4670e+00,  4.7648e-01,  6.8165e-01,  3.4407e-01,\n",
      "         6.8165e-01, -4.8998e-01, -1.4670e+00,  6.8165e-01,  6.8165e-01,\n",
      "         3.7376e-01, -1.8834e-01,  6.8165e-01, -1.4670e+00,  4.4969e-01,\n",
      "         6.8165e-01, -1.4670e+00,  6.8165e-01, -1.4670e+00,  6.8165e-01,\n",
      "         4.1232e-01, -1.4670e+00, -1.4670e+00, -9.2627e-04,  6.8165e-01,\n",
      "        -1.4670e+00, -1.4670e+00, -1.1749e+00,  4.9229e-01, -1.4670e+00,\n",
      "         6.8165e-01,  6.8165e-01,  6.8165e-01,  6.8165e-01,  1.1151e-01,\n",
      "        -1.4670e+00,  6.8165e-01,  6.8165e-01,  4.3763e-01, -1.4670e+00,\n",
      "        -1.4670e+00,  6.8165e-01,  6.8165e-01,  2.6629e-01,  4.3957e-01,\n",
      "         6.8165e-01, -1.4670e+00,  6.8165e-01,  6.8165e-01, -1.4670e+00,\n",
      "         6.8165e-01, -1.4670e+00, -1.4670e+00,  6.8165e-01,  6.8165e-01,\n",
      "         2.1503e-01,  6.8165e-01, -4.2383e-01, -1.4670e+00,  6.8165e-01,\n",
      "        -1.4670e+00,  6.8165e-01,  6.8165e-01,  6.8165e-01,  6.8165e-01,\n",
      "         6.8165e-01, -1.4670e+00,  1.0753e-01,  6.8165e-01,  6.8165e-01,\n",
      "         6.8165e-01, -1.4670e+00, -1.4670e+00, -1.3230e+00,  6.8165e-01,\n",
      "         3.7122e-01, -1.4670e+00, -1.4670e+00,  6.8165e-01,  6.8165e-01,\n",
      "        -1.4670e+00,  6.8165e-01,  6.8165e-01,  6.8165e-01,  6.8165e-01,\n",
      "         6.8165e-01,  1.8201e-01,  6.8165e-01,  6.8165e-01,  6.8165e-01,\n",
      "         2.7897e-01, -1.4670e+00, -6.3203e-04,  6.8165e-01,  1.9881e-01,\n",
      "         6.8165e-01,  6.8165e-01,  6.8165e-01,  6.8165e-01,  6.8165e-01,\n",
      "         2.4529e-01, -1.4670e+00, -1.4670e+00,  6.8165e-01,  6.8165e-01,\n",
      "         6.8165e-01,  6.8031e-01,  6.8165e-01,  6.8165e-01,  6.8165e-01,\n",
      "         6.8165e-01,  6.8165e-01,  6.8165e-01,  2.3987e-01,  6.8165e-01,\n",
      "         6.8165e-01, -1.4670e+00,  5.1204e-01,  6.8165e-01,  6.8165e-01,\n",
      "        -1.4670e+00,  6.8165e-01,  6.8165e-01,  5.4948e-02, -1.4670e+00,\n",
      "         6.8155e-01,  3.0214e-01,  6.8165e-01,  6.8165e-01,  6.8165e-01,\n",
      "         6.8165e-01,  6.8165e-01,  4.1488e-01,  6.8165e-01,  6.8165e-01,\n",
      "         6.8165e-01,  1.7814e-01,  3.3333e-01,  6.8165e-01,  6.8165e-01,\n",
      "         8.7366e-02,  6.8165e-01,  6.8165e-01, -1.4670e+00,  6.8165e-01,\n",
      "        -1.4670e+00,  6.8165e-01,  6.8165e-01, -1.4670e+00,  4.2216e-01,\n",
      "         6.8165e-01,  6.8165e-01,  6.8165e-01,  6.8165e-01, -1.4670e+00,\n",
      "        -1.4670e+00, -1.4670e+00,  5.8344e-01,  6.8165e-01,  5.2232e-01,\n",
      "         6.8165e-01,  4.0379e-01,  1.3745e-01, -1.4670e+00,  5.5494e-01,\n",
      "         6.8165e-01, -1.4670e+00,  6.8165e-01,  4.2943e-01,  5.2876e-01,\n",
      "         6.8165e-01,  6.8165e-01,  5.0929e-01,  5.1348e-01,  6.8165e-01,\n",
      "         6.8165e-01, -1.4670e+00,  6.8165e-01,  6.8165e-01,  6.8165e-01,\n",
      "         6.8165e-01, -1.4670e+00,  6.8165e-01, -1.4670e+00,  6.8165e-01,\n",
      "        -1.2663e+00,  6.8165e-01,  6.8165e-01,  6.8165e-01,  4.5819e-01,\n",
      "        -1.4670e+00,  6.6068e-01,  6.8165e-01, -1.4670e+00,  6.8165e-01,\n",
      "         6.8165e-01,  5.8729e-01, -1.4670e+00,  6.8165e-01,  6.5144e-01,\n",
      "        -1.4670e+00, -1.4670e+00,  6.8165e-01,  6.8165e-01,  6.8165e-01,\n",
      "        -1.4670e+00, -1.4670e+00,  6.8165e-01,  4.3078e-01,  6.8165e-01,\n",
      "         6.8165e-01, -1.4670e+00,  6.8165e-01, -1.4670e+00,  6.8165e-01,\n",
      "         6.8165e-01, -1.1083e-01, -1.4670e+00,  6.2088e-01,  6.8165e-01,\n",
      "         6.8165e-01,  1.0523e-01, -1.4670e+00, -1.1570e-01, -1.4670e+00,\n",
      "         6.8165e-01,  3.4016e-01,  6.8165e-01,  2.3079e-02, -1.4670e+00,\n",
      "         6.8165e-01, -6.7759e-01, -1.4670e+00,  6.8165e-01,  3.2244e-01,\n",
      "         6.8165e-01,  2.1613e-01,  4.8172e-01,  4.8244e-01,  6.8165e-01,\n",
      "         6.8165e-01, -1.4670e+00, -1.4670e+00,  4.9712e-01,  3.5795e-01,\n",
      "        -1.4670e+00, -1.4283e+00,  6.8165e-01,  6.8165e-01,  6.2389e-01,\n",
      "        -1.4670e+00,  6.8165e-01, -1.3424e+00,  6.8165e-01,  3.4538e-01,\n",
      "        -1.4670e+00, -1.4670e+00, -1.8182e-04, -5.3781e-01,  4.0566e-01,\n",
      "         6.8165e-01,  6.8165e-01,  6.8165e-01,  6.8165e-01, -1.4670e+00,\n",
      "         6.8165e-01, -1.6667e-01, -1.4670e+00,  6.8165e-01,  2.0904e-01,\n",
      "         6.8165e-01,  6.8165e-01, -1.4670e+00,  6.8165e-01, -1.4670e+00,\n",
      "         5.5484e-01,  4.5293e-01, -7.8000e-02,  6.8165e-01,  6.3350e-02,\n",
      "         1.8897e-01,  5.8443e-01,  3.9675e-01,  4.1447e-01,  5.3534e-01,\n",
      "        -6.8480e-02,  3.4112e-01, -1.4670e+00,  6.8165e-01,  6.8165e-01,\n",
      "        -1.4670e+00, -1.4670e+00,  6.8165e-01,  6.8165e-01, -1.4670e+00,\n",
      "         6.8165e-01, -1.4670e+00,  6.4148e-01, -1.4670e+00,  6.8165e-01,\n",
      "         6.8165e-01,  3.2150e-01,  6.8165e-01, -1.8098e-01,  5.1384e-01,\n",
      "         6.8165e-01,  5.6262e-01,  6.8165e-01,  6.8165e-01,  6.8165e-01,\n",
      "         6.8165e-01,  4.5696e-01,  6.8165e-01,  5.1862e-01,  6.8165e-01,\n",
      "        -5.9960e-01,  6.8165e-01,  3.0331e-01,  6.8165e-01, -1.4670e+00,\n",
      "         6.8165e-01,  6.8165e-01, -1.4670e+00, -1.4670e+00, -1.4670e+00,\n",
      "        -1.3226e+00,  6.8165e-01,  6.8165e-01,  3.2309e-01, -1.4670e+00,\n",
      "         6.8165e-01,  6.8165e-01,  2.6974e-01,  6.8165e-01, -1.4670e+00,\n",
      "         6.8165e-01,  6.8165e-01,  6.8165e-01,  4.4764e-01,  6.8165e-01,\n",
      "         6.8165e-01,  6.8165e-01,  5.7682e-01,  6.8165e-01, -1.4670e+00,\n",
      "        -8.7863e-02, -1.4670e+00,  6.8165e-01,  6.8165e-01, -1.4670e+00,\n",
      "        -5.7555e-01, -2.1097e-01,  6.8165e-01, -4.6103e-01,  6.8165e-01,\n",
      "         6.8165e-01, -1.4670e+00,  6.8165e-01,  6.8165e-01, -5.1041e-03,\n",
      "        -1.4670e+00,  6.8165e-01,  6.8165e-01, -1.4670e+00,  5.5600e-01,\n",
      "         6.8165e-01,  4.7503e-01, -3.0519e-01, -1.7397e-01,  6.8165e-01,\n",
      "         6.8165e-01, -1.4670e+00,  6.8165e-01, -1.4670e+00,  6.8165e-01,\n",
      "         6.8165e-01, -1.4670e+00,  6.8165e-01,  6.8165e-01,  4.6769e-01,\n",
      "        -1.4670e+00,  6.8165e-01,  6.8165e-01,  6.8165e-01,  6.8165e-01,\n",
      "        -1.4670e+00,  3.5898e-01, -1.4670e+00, -1.4670e+00,  5.5648e-01,\n",
      "        -2.7335e-01,  6.8165e-01, -1.4670e+00,  6.8165e-01,  6.8165e-01,\n",
      "         4.1471e-01, -1.4670e+00,  2.6929e-01,  6.8165e-01,  2.5989e-01,\n",
      "         6.8165e-01,  6.8165e-01,  6.8165e-01,  6.8165e-01,  6.8165e-01,\n",
      "        -1.4670e+00,  6.8165e-01, -1.3946e-01,  6.8165e-01, -1.4670e+00,\n",
      "        -7.1865e-01,  6.8165e-01,  6.8165e-01,  6.8165e-01,  6.8165e-01,\n",
      "        -1.3345e+00,  3.9133e-01,  6.8165e-01,  6.7805e-01,  6.8165e-01,\n",
      "        -1.4670e+00,  6.8165e-01, -1.4670e+00,  2.8867e-01,  6.8165e-01,\n",
      "         6.8165e-01, -1.4670e+00,  6.8165e-01,  4.5795e-01, -1.4670e+00,\n",
      "         5.9739e-01,  4.7104e-01,  6.8165e-01,  3.5722e-01,  6.8165e-01,\n",
      "         6.8165e-01, -1.4670e+00,  6.8165e-01,  6.8165e-01,  6.8165e-01,\n",
      "         6.8165e-01, -1.4670e+00, -1.4670e+00,  4.7941e-01, -1.4670e+00,\n",
      "         6.8165e-01,  6.8165e-01,  6.8165e-01,  6.8165e-01,  6.8165e-01,\n",
      "         6.8165e-01,  9.7296e-02,  6.8165e-01, -1.4670e+00,  6.8165e-01,\n",
      "        -1.4670e+00,  6.8165e-01,  6.8165e-01,  6.8165e-01, -1.4670e+00,\n",
      "         6.8165e-01,  2.0152e-01, -1.4670e+00,  6.8165e-01, -1.2581e+00,\n",
      "         6.8165e-01,  6.8165e-01,  3.8481e-01,  6.8165e-01,  6.8165e-01,\n",
      "         8.9831e-02, -1.1637e+00,  4.0394e-01,  6.8165e-01, -1.4670e+00,\n",
      "        -1.4670e+00,  6.8165e-01, -1.4670e+00, -1.4670e+00,  6.8165e-01,\n",
      "        -1.4670e+00, -1.4670e+00, -1.4670e+00,  6.8165e-01,  6.8165e-01,\n",
      "         6.8165e-01,  5.1145e-01, -1.4670e+00,  6.8165e-01, -1.4670e+00,\n",
      "        -1.4670e+00,  6.8165e-01,  6.8165e-01,  6.3727e-01, -1.3047e-02,\n",
      "        -1.4670e+00, -1.4670e+00,  4.8747e-01, -1.4670e+00,  1.4681e-01,\n",
      "        -1.4670e+00, -1.4670e+00,  6.8165e-01,  6.8165e-01,  4.6420e-01,\n",
      "        -1.4670e+00, -1.4670e+00, -1.5983e-02, -1.4670e+00, -1.4670e+00,\n",
      "         6.8165e-01,  6.8165e-01, -1.4670e+00,  6.8165e-01,  6.8165e-01,\n",
      "        -1.2463e+00, -1.4670e+00,  1.7267e-01, -1.4670e+00, -1.4670e+00,\n",
      "         6.8165e-01,  3.4194e-01,  6.8165e-01, -1.4670e+00,  6.8165e-01,\n",
      "         6.8165e-01,  6.8165e-01,  6.8165e-01, -1.4670e+00,  6.8165e-01,\n",
      "         5.6293e-01,  6.8165e-01,  4.0605e-01,  6.8165e-01,  6.8165e-01,\n",
      "        -1.4670e+00,  6.8165e-01,  6.8165e-01, -1.4670e+00, -1.4670e+00,\n",
      "         4.2885e-01, -1.4670e+00,  6.8165e-01, -1.4670e+00,  6.8165e-01,\n",
      "        -1.4670e+00,  4.8225e-01,  6.8165e-01,  6.3019e-01,  6.6767e-01,\n",
      "         6.8165e-01,  2.7475e-01, -1.4670e+00,  6.8165e-01,  6.8165e-01,\n",
      "         4.8860e-01,  6.8165e-01,  6.8165e-01,  1.0544e-01,  6.8165e-01,\n",
      "         6.8165e-01,  6.8165e-01,  6.8165e-01, -1.4670e+00,  6.8165e-01,\n",
      "         6.7564e-01,  6.8165e-01,  6.8165e-01,  6.8165e-01,  4.4598e-01,\n",
      "         3.4980e-01,  6.8165e-01,  9.0564e-02,  6.8165e-01,  6.8165e-01,\n",
      "         6.8165e-01,  3.3355e-01,  6.8165e-01,  6.8165e-01,  5.7153e-01,\n",
      "        -1.4670e+00,  6.8165e-01,  6.8165e-01,  6.8165e-01,  5.7874e-01,\n",
      "        -1.4670e+00,  6.8165e-01,  6.8165e-01,  6.8165e-01,  5.0068e-01,\n",
      "         5.8758e-01,  6.8165e-01,  6.8165e-01,  6.8165e-01,  6.8165e-01,\n",
      "         6.8165e-01, -1.4670e+00,  4.1616e-01,  6.8165e-01,  6.8165e-01,\n",
      "         6.8165e-01,  6.8165e-01, -1.4670e+00,  6.8165e-01,  6.8165e-01,\n",
      "        -1.4670e+00,  6.8165e-01, -1.4670e+00,  6.8165e-01,  5.3118e-01,\n",
      "        -2.3995e-01,  6.8165e-01, -8.6649e-01, -1.4670e+00,  6.8165e-01,\n",
      "        -1.6727e-01, -1.4670e+00, -2.2459e-01,  6.8165e-01,  6.8165e-01,\n",
      "         6.8165e-01,  6.8165e-01,  6.8165e-01,  6.8165e-01,  6.2611e-01,\n",
      "         1.3569e-01, -1.4670e+00, -1.4670e+00, -1.4670e+00, -1.4230e+00,\n",
      "        -1.4670e+00,  6.8165e-01, -1.1458e+00,  2.6830e-01,  5.3692e-01,\n",
      "         6.8165e-01,  3.5815e-01, -1.4670e+00,  5.3629e-01,  4.8624e-01,\n",
      "        -1.4670e+00, -1.4670e+00,  6.8165e-01,  6.8165e-01, -1.4670e+00,\n",
      "         6.8165e-01,  6.8165e-01,  6.8165e-01,  6.8165e-01,  6.8165e-01,\n",
      "         6.8165e-01, -1.4670e+00, -9.3741e-01,  6.8165e-01,  6.8165e-01,\n",
      "        -1.4670e+00, -1.4670e+00, -1.4670e+00,  7.9767e-02,  2.6970e-01,\n",
      "        -1.4670e+00,  6.8165e-01,  6.8165e-01,  6.8165e-01,  6.8165e-01,\n",
      "        -1.4670e+00, -1.1459e+00,  1.9082e-01,  6.8165e-01,  6.8165e-01,\n",
      "         6.8165e-01,  4.0314e-01, -1.4670e+00,  6.8165e-01,  6.8165e-01,\n",
      "        -1.4670e+00, -6.8478e-01,  6.3534e-03,  6.8165e-01,  6.8165e-01,\n",
      "        -1.4670e+00,  3.9823e-01, -1.4670e+00,  5.3333e-01, -1.4670e+00,\n",
      "         6.8165e-01,  6.8165e-01,  6.8165e-01, -1.4670e+00,  6.8165e-01,\n",
      "         3.1618e-01,  6.8165e-01,  6.5593e-01,  5.2639e-01,  6.8165e-01,\n",
      "         4.6764e-01,  6.8165e-01,  6.8165e-01,  6.8165e-01, -1.2968e+00,\n",
      "        -1.4670e+00,  4.3818e-01, -1.4670e+00,  6.8165e-01,  6.8165e-01,\n",
      "         5.4927e-01, -1.4670e+00,  5.9896e-01,  6.8165e-01, -1.4670e+00,\n",
      "         6.8165e-01,  6.8165e-01,  6.8165e-01,  6.8165e-01, -1.4670e+00,\n",
      "         6.2522e-01,  6.8165e-01,  6.8165e-01,  6.8165e-01,  6.8165e-01,\n",
      "         3.3316e-01,  6.8165e-01, -1.4670e+00,  6.8165e-01,  6.8165e-01,\n",
      "         6.8165e-01,  6.8165e-01,  6.8165e-01,  5.1911e-01,  1.5186e-01,\n",
      "         6.6821e-01, -1.4670e+00,  3.7859e-01,  4.8882e-01,  6.8165e-01,\n",
      "         4.4522e-01, -1.4670e+00,  6.8165e-01, -1.4670e+00, -1.3729e+00,\n",
      "         6.8165e-01, -1.4670e+00, -1.4670e+00,  2.8896e-01,  6.8165e-01,\n",
      "         6.8165e-01,  6.8165e-01, -1.4670e+00,  6.8165e-01,  6.8165e-01,\n",
      "         6.8165e-01, -1.4377e+00,  6.8165e-01,  3.4556e-01,  4.3879e-01,\n",
      "         6.5580e-01,  6.0800e-01,  6.8165e-01,  6.8165e-01,  6.8165e-01,\n",
      "         6.8165e-01, -1.4670e+00,  6.8165e-01,  8.0218e-02,  4.1560e-01,\n",
      "         6.8165e-01,  6.8165e-01, -1.4670e+00,  6.8165e-01,  6.8165e-01,\n",
      "        -1.4670e+00, -1.4670e+00,  6.8165e-01,  6.8165e-01, -1.4233e+00,\n",
      "        -1.4670e+00,  6.8165e-01,  6.8165e-01,  6.0496e-01, -3.0511e-02,\n",
      "        -1.4670e+00,  6.8165e-01,  6.8165e-01,  6.8165e-01,  6.8165e-01,\n",
      "         6.8165e-01,  6.8165e-01,  6.0317e-01, -3.2942e-01, -8.6440e-01,\n",
      "        -1.4670e+00,  6.8165e-01,  1.8916e-01,  5.6993e-01,  2.9065e-01,\n",
      "         3.0280e-01,  6.8165e-01,  6.8165e-01,  6.8165e-01,  3.2322e-01,\n",
      "         6.8165e-01, -1.4670e+00, -1.4670e+00, -1.4670e+00,  6.8165e-01,\n",
      "         3.2379e-01,  6.8165e-01,  6.1677e-01,  6.4341e-01,  6.8165e-01,\n",
      "         6.8165e-01,  6.8165e-01,  6.8165e-01, -1.4670e+00, -1.4670e+00,\n",
      "         3.0291e-01, -1.4670e+00, -1.3748e+00,  5.6754e-01,  6.8165e-01,\n",
      "        -1.4670e+00,  6.8165e-01,  6.8165e-01,  3.8725e-01, -6.7727e-01,\n",
      "        -1.4410e-01, -3.1043e-01, -1.4670e+00,  6.8165e-01, -1.7136e-01,\n",
      "         1.8195e-01, -1.4670e+00,  6.8165e-01,  6.8165e-01,  6.8165e-01,\n",
      "         6.8165e-01, -6.4147e-02,  6.8165e-01,  6.8165e-01, -1.4670e+00,\n",
      "         6.8165e-01, -1.2091e+00,  6.8165e-01,  6.8165e-01,  6.8165e-01,\n",
      "         6.8165e-01,  2.5810e-01,  6.8165e-01,  5.7422e-01, -1.4670e+00,\n",
      "        -1.4670e+00,  3.1220e-01,  6.8165e-01,  6.8165e-01,  6.8165e-01,\n",
      "         6.8165e-01,  6.8165e-01, -1.4670e+00, -1.4670e+00,  3.5554e-01,\n",
      "        -1.4670e+00,  5.9072e-01,  6.8165e-01,  6.8165e-01,  6.8165e-01,\n",
      "         6.8165e-01,  5.8901e-01,  6.8165e-01,  6.8165e-01,  6.8165e-01,\n",
      "         3.3625e-01,  6.8165e-01, -1.4670e+00,  6.8165e-01,  6.8165e-01,\n",
      "         8.0509e-02,  6.8165e-01, -1.4670e+00,  6.8165e-01, -1.4670e+00,\n",
      "        -1.4670e+00, -1.4670e+00,  4.3999e-01,  6.8165e-01,  6.7576e-01,\n",
      "         6.8165e-01,  6.8165e-01, -1.4670e+00,  6.8165e-01,  6.8165e-01,\n",
      "        -1.4670e+00,  6.8165e-01, -1.4670e+00,  5.9648e-01,  6.8165e-01,\n",
      "         6.8165e-01,  3.5943e-01, -1.3927e+00,  3.0396e-01,  6.8165e-01,\n",
      "         3.2530e-01,  4.4979e-01,  6.8165e-01,  6.8165e-01,  6.8165e-01],\n",
      "       grad_fn=<SelectBackward0>)\n"
     ]
    }
   ],
   "source": [
    "sex = sk_imp_mcar30[:,19]\n",
    "age = sk_imp_mcar30[:,11]\n",
    "print(sex)"
   ]
  },
  {
   "cell_type": "code",
   "execution_count": 16,
   "metadata": {},
   "outputs": [
    {
     "name": "stdout",
     "output_type": "stream",
     "text": [
      "tensor([1, 0, 1, 1, 1, 1, 1, 1, 1, 1, 0, 0, 1, 1, 0, 1, 1, 1, 0, 1, 1, 1, 1, 1,\n",
      "        1, 1, 1, 1, 1, 1, 1, 1, 1, 1, 1, 1, 1, 1, 1, 1, 1, 1, 1, 1, 0, 0, 1, 1,\n",
      "        1, 0, 1, 1, 1, 1, 1, 1, 1, 0, 0, 0, 1, 1, 1, 1, 0, 1, 0, 1, 1, 0, 0, 1,\n",
      "        1, 1, 1, 1, 1, 1, 1, 1, 0, 1, 0, 0, 1, 1, 0, 1, 1, 1, 1, 1, 0, 1, 1, 1,\n",
      "        0, 1, 1, 1, 1, 1, 0, 1, 1, 1, 1, 1, 0, 1, 1, 0, 1, 0, 1, 1, 0, 0, 1, 1,\n",
      "        0, 0, 1, 1, 0, 1, 1, 1, 1, 1, 0, 1, 1, 1, 0, 0, 1, 1, 1, 1, 1, 0, 1, 1,\n",
      "        0, 1, 0, 0, 1, 1, 1, 1, 1, 0, 1, 0, 1, 1, 1, 1, 1, 0, 1, 1, 1, 1, 0, 0,\n",
      "        1, 1, 1, 0, 0, 1, 1, 0, 1, 1, 1, 1, 1, 1, 1, 1, 1, 1, 0, 1, 1, 1, 1, 1,\n",
      "        1, 1, 1, 1, 0, 0, 1, 1, 1, 1, 1, 1, 1, 1, 1, 1, 1, 1, 1, 0, 1, 1, 1, 0,\n",
      "        1, 1, 1, 0, 1, 1, 1, 1, 1, 1, 1, 1, 1, 1, 1, 1, 1, 1, 1, 1, 1, 1, 0, 1,\n",
      "        0, 1, 1, 0, 1, 1, 1, 1, 1, 0, 0, 0, 1, 1, 1, 1, 1, 1, 0, 1, 1, 0, 1, 1,\n",
      "        1, 1, 1, 1, 1, 1, 1, 0, 1, 1, 1, 1, 0, 1, 0, 1, 1, 1, 1, 1, 1, 0, 1, 1,\n",
      "        0, 1, 1, 1, 0, 1, 1, 0, 0, 1, 1, 1, 0, 0, 1, 1, 1, 1, 0, 1, 0, 1, 1, 1,\n",
      "        0, 1, 1, 1, 1, 0, 1, 0, 1, 1, 1, 1, 0, 1, 1, 0, 1, 1, 1, 1, 1, 1, 1, 1,\n",
      "        0, 0, 1, 1, 0, 1, 1, 1, 1, 0, 1, 1, 1, 1, 0, 0, 1, 1, 1, 1, 1, 1, 1, 0,\n",
      "        1, 1, 0, 1, 1, 1, 1, 0, 1, 0, 1, 1, 1, 1, 1, 1, 1, 1, 1, 1, 1, 1, 0, 1,\n",
      "        1, 0, 0, 1, 1, 0, 1, 0, 1, 0, 1, 1, 1, 1, 1, 1, 1, 1, 1, 1, 1, 1, 1, 1,\n",
      "        1, 1, 1, 1, 1, 1, 0, 1, 1, 0, 0, 0, 1, 1, 1, 1, 0, 1, 1, 1, 1, 0, 1, 1,\n",
      "        1, 1, 1, 1, 1, 1, 1, 0, 1, 0, 1, 1, 0, 1, 1, 1, 1, 1, 1, 0, 1, 1, 1, 0,\n",
      "        1, 1, 0, 1, 1, 1, 1, 1, 1, 1, 0, 1, 0, 1, 1, 0, 1, 1, 1, 0, 1, 1, 1, 1,\n",
      "        0, 1, 0, 0, 1, 1, 1, 0, 1, 1, 1, 0, 1, 1, 1, 1, 1, 1, 1, 1, 0, 1, 1, 1,\n",
      "        0, 1, 1, 1, 1, 1, 1, 1, 1, 1, 1, 0, 1, 0, 1, 1, 1, 0, 1, 1, 0, 1, 1, 1,\n",
      "        1, 1, 1, 0, 1, 1, 1, 1, 0, 0, 1, 0, 1, 1, 1, 1, 1, 1, 1, 1, 0, 1, 0, 1,\n",
      "        1, 1, 0, 1, 1, 0, 1, 1, 1, 1, 1, 1, 1, 1, 1, 1, 1, 0, 0, 1, 0, 0, 1, 0,\n",
      "        0, 0, 1, 1, 1, 1, 0, 1, 0, 0, 1, 1, 1, 1, 0, 0, 1, 0, 1, 0, 0, 1, 1, 1,\n",
      "        0, 0, 1, 0, 0, 1, 1, 0, 1, 1, 1, 0, 1, 0, 0, 1, 1, 1, 0, 1, 1, 1, 1, 0,\n",
      "        1, 1, 1, 1, 1, 1, 0, 1, 1, 0, 0, 1, 0, 1, 0, 1, 0, 1, 1, 1, 1, 1, 1, 0,\n",
      "        1, 1, 1, 1, 1, 1, 1, 1, 1, 1, 0, 1, 1, 1, 1, 1, 1, 1, 1, 1, 1, 1, 1, 1,\n",
      "        1, 1, 1, 0, 1, 1, 1, 1, 0, 1, 1, 1, 1, 1, 1, 1, 1, 1, 1, 0, 1, 1, 1, 1,\n",
      "        1, 0, 1, 1, 0, 1, 0, 1, 1, 1, 1, 1, 0, 1, 1, 0, 1, 1, 1, 1, 1, 1, 1, 1,\n",
      "        1, 0, 0, 0, 1, 0, 1, 1, 1, 1, 1, 1, 0, 1, 1, 0, 0, 1, 1, 0, 1, 1, 1, 1,\n",
      "        1, 1, 0, 1, 1, 1, 0, 0, 0, 1, 1, 0, 1, 1, 1, 1, 0, 1, 1, 1, 1, 1, 1, 0,\n",
      "        1, 1, 0, 1, 1, 1, 1, 0, 1, 0, 1, 0, 1, 1, 1, 0, 1, 1, 1, 1, 1, 1, 1, 1,\n",
      "        1, 1, 1, 0, 1, 0, 1, 1, 1, 0, 1, 1, 0, 1, 1, 1, 1, 0, 1, 1, 1, 1, 1, 1,\n",
      "        1, 0, 1, 1, 1, 1, 1, 1, 1, 1, 0, 1, 1, 1, 1, 0, 1, 0, 1, 1, 0, 0, 1, 1,\n",
      "        1, 1, 0, 1, 1, 1, 1, 1, 1, 1, 1, 1, 1, 1, 1, 1, 0, 1, 1, 1, 1, 1, 0, 1,\n",
      "        1, 0, 0, 1, 1, 1, 0, 1, 1, 1, 1, 0, 1, 1, 1, 1, 1, 1, 1, 1, 1, 0, 1, 1,\n",
      "        1, 1, 1, 1, 1, 1, 1, 1, 0, 0, 0, 1, 1, 1, 1, 1, 1, 1, 1, 1, 0, 0, 1, 0,\n",
      "        1, 1, 1, 0, 1, 1, 1, 1, 1, 1, 0, 1, 1, 1, 0, 1, 1, 1, 1, 1, 1, 1, 0, 1,\n",
      "        1, 1, 1, 1, 1, 1, 1, 1, 0, 0, 1, 1, 1, 1, 1, 1, 0, 0, 1, 0, 1, 1, 1, 1,\n",
      "        1, 1, 1, 1, 1, 1, 1, 0, 1, 1, 1, 1, 0, 1, 0, 0, 0, 1, 1, 1, 1, 1, 0, 1,\n",
      "        1, 0, 1, 0, 1, 1, 1, 1, 1, 1, 1, 1, 1, 1, 1, 1])\n"
     ]
    }
   ],
   "source": [
    "sex_bucketize = torch.bucketize(sex,  torch.linspace(sex.min(), sex.max(), steps=2))\n",
    "print(sex_bucketize)\n",
    "#age_bucketize = torch.bucketize(age,  torch.linspace(age.min(), age.max(), steps=10))\n",
    "#print(age_bucketize)"
   ]
  },
  {
   "cell_type": "code",
   "execution_count": 17,
   "metadata": {},
   "outputs": [
    {
     "name": "stdout",
     "output_type": "stream",
     "text": [
      "tensor([255.,  33., 712.])\n"
     ]
    }
   ],
   "source": [
    "hist_bins = torch.histc(sk_imp_mcar30[:,19], bins=3)\n",
    "print(hist_bins)"
   ]
  },
  {
   "cell_type": "code",
   "execution_count": 18,
   "metadata": {},
   "outputs": [],
   "source": [
    "import torch\n",
    "\n",
    "def bucketize_columns(data, bucket_specs):\n",
    "    \"\"\"\n",
    "    Bucketizes specific columns in a dataset using different binning strategies.\n",
    "\n",
    "    :param data: PyTorch tensor (N, D) (continuous values)\n",
    "    :param bucket_specs: Dictionary {column_index: (method, num_bins or bin_edges)}\n",
    "                         Example: {0: ('uniform', 3), 1: ('quantile', 4)}\n",
    "    :return: Discretized tensor\n",
    "    \"\"\"\n",
    "    data_buc = data.detach().clone()  # Ensure no gradients\n",
    "\n",
    "    for col, bins in bucket_specs.items():\n",
    "        feature = data_buc[:, col]  # Extract column\n",
    "        #print(feature)\n",
    "\n",
    "        \n",
    "        min_val, max_val = feature.min(), feature.max()\n",
    "        bin_edges = torch.linspace(min_val, max_val, bins + 1)\n",
    "        print(bin_edges)\n",
    "        bin_edges[-1] += 1e-6 \n",
    "        \n",
    "        # Apply bucketization\n",
    "        data_buc[:, col] = torch.bucketize(feature, bin_edges,right=True) # Start bins from 0\n",
    "        print(data_buc[:,col].long().unique())\n",
    "\n",
    "    return data_buc.long()  # Convert to integer values\n",
    "\n",
    "def compute_probabilities_torch(data, columns):\n",
    "    \"\"\"\n",
    "    Compute probability distributions for given feature columns using PyTorch.\n",
    "\n",
    "    :param data: PyTorch tensor of shape (N, D) (discretized)\n",
    "    :param columns: List of column indices to compute probabilities\n",
    "    :return: Unique values and probability tensor\n",
    "    \"\"\"\n",
    "    unique_vals, counts = torch.unique(data[:, columns], dim=0, return_counts=True)\n",
    "    probs = counts.float() / data.shape[0]\n",
    "    return unique_vals, probs\n",
    "\n",
    "def conditional_mutual_information_torch(data, X_cols, Y_cols, Z_cols, bucket_specs, delta=1):\n",
    "    \"\"\"\n",
    "    Compute Conditional Mutual Information I(X;Y|Z) with bucketization inside.\n",
    "\n",
    "    :param data: PyTorch tensor (N, D) (continuous values)\n",
    "    :param X_cols: List of column indices for X\n",
    "    :param Y_cols: List of column indices for Y\n",
    "    :param Z_cols: List of column indices for Z\n",
    "    :param bucket_specs: Dictionary specifying bucketization for each column\n",
    "    :param delta: Smoothing parameter to avoid log(0)\n",
    "    :return: Conditional Mutual Information (scalar)\n",
    "    \"\"\"\n",
    "    # Apply bucketization inside CMI function\n",
    "    bucketized_data = bucketize_columns(data, bucket_specs)\n",
    "\n",
    "    # Compute probability distributions\n",
    "    unique_Z, P_Z = compute_probabilities_torch(bucketized_data, Z_cols)\n",
    "    unique_XZ, P_XZ = compute_probabilities_torch(bucketized_data, X_cols + Z_cols)\n",
    "    unique_YZ, P_YZ = compute_probabilities_torch(bucketized_data, Y_cols + Z_cols)\n",
    "    unique_XYZ, P_XYZ = compute_probabilities_torch(bucketized_data, X_cols + Y_cols + Z_cols)\n",
    "\n",
    "    cmi = 0\n",
    "    for i in range(len(unique_XYZ)):\n",
    "        xyz = unique_XYZ[i]\n",
    "        z = xyz[len(X_cols + Y_cols):]  # Extract Z values\n",
    "        xz = torch.cat((xyz[:len(X_cols)], z))  # Concatenate X and Z\n",
    "        yz = torch.cat((xyz[len(X_cols):len(X_cols + Y_cols)], z))  # Concatenate Y and Z\n",
    "\n",
    "        mask_z = (unique_Z == z).all(dim=1)\n",
    "        mask_xz = (unique_XZ == xz).all(dim=1)\n",
    "        mask_yz = (unique_YZ == yz).all(dim=1)\n",
    "\n",
    "        if mask_z.any() and mask_xz.any() and mask_yz.any():\n",
    "            P_z = P_Z[mask_z].sum()\n",
    "            P_xyz = P_XYZ[i]\n",
    "            P_xz = P_XZ[mask_xz].sum()\n",
    "            P_yz = P_YZ[mask_yz].sum()\n",
    "\n",
    "            # Compute CMI (avoid log(0) by adding a small constant)\n",
    "            cmi += delta * P_xyz * torch.log2((P_z * P_xyz) / (P_xz * P_yz + 1e-10))\n",
    "\n",
    "    return cmi.item()\n"
   ]
  },
  {
   "cell_type": "code",
   "execution_count": 21,
   "metadata": {},
   "outputs": [
    {
     "name": "stdout",
     "output_type": "stream",
     "text": [
      "tensor([-1.4587, -0.2349,  0.9888,  2.2126,  3.4363])\n",
      "tensor([1, 2, 3, 4])\n",
      "tensor([-1.4670, -0.3927,  0.6816])\n",
      "tensor([1, 2])\n",
      "tensor([-1.5275, -0.4364,  0.6547])\n",
      "tensor([1, 2])\n",
      "tensor([-1.9608, -1.2259, -0.4911,  0.2438,  0.9786,  1.7135])\n",
      "tensor([1, 2, 3, 4, 5])\n",
      "tensor([-0.7001,  0.2207,  1.1416,  2.0624,  2.9832])\n",
      "tensor([1, 2, 3, 4])\n",
      "Conditional Mutual Information (CMI): 0.0787\n"
     ]
    }
   ],
   "source": [
    "# Simulated continuous dataset (1000 samples, 7 features)\n",
    "data_torch = sk_imp_mcar30 # Scale values to 0-10 range\n",
    "\n",
    "# Define different bucketization strategies for each feature\n",
    "bucket_specs = {\n",
    "     \n",
    "    11: 4,   # Column 11 → age (4 bins)\n",
    "    19: 2,  # Column 19 → sex (2 bins)\n",
    "    21: 2,  # Column 21 → label  (2 bins)\n",
    "    5: 5,   # Column 5 → savings-account (5 bins)\n",
    "    15: 4   # Column 15 → jobs (4 bins)\n",
    "}\n",
    "\n",
    "# Define multiple attributes for X, Y, Z\n",
    "X_cols = [11,19]  # Bucketized sensitive attributes (e.g., sex, race, age)\n",
    "Y_cols = [21]     # Bucketized outcome-related attributes\n",
    "Z_cols = [5, 15]     # Bucketized control variables\n",
    "\n",
    "# Compute CMI with integrated bucketization\n",
    "cmi_value = conditional_mutual_information_torch(data_torch, X_cols, Y_cols, Z_cols, bucket_specs)\n",
    "print(f\"Conditional Mutual Information (CMI): {cmi_value:.4f}\")\n"
   ]
  },
  {
   "cell_type": "code",
   "execution_count": 23,
   "metadata": {},
   "outputs": [
    {
     "name": "stdout",
     "output_type": "stream",
     "text": [
      "0.07870997488498688\n"
     ]
    }
   ],
   "source": [
    "test_german_miss_mcar30 = CMI()\n",
    "cmi_german_miss_mcar30 = CMI.conditional_mutual_information(data_torch, X_cols, Y_cols, Z_cols, bucket_specs)\n",
    "print(cmi_german_miss_mcar30)"
   ]
  }
 ],
 "metadata": {
  "kernelspec": {
   "display_name": "Python 3",
   "language": "python",
   "name": "python3"
  },
  "language_info": {
   "codemirror_mode": {
    "name": "ipython",
    "version": 3
   },
   "file_extension": ".py",
   "mimetype": "text/x-python",
   "name": "python",
   "nbconvert_exporter": "python",
   "pygments_lexer": "ipython3",
   "version": "3.12.6"
  }
 },
 "nbformat": 4,
 "nbformat_minor": 2
}
