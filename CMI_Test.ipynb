{
 "cells": [
  {
   "cell_type": "code",
   "execution_count": 2,
   "metadata": {},
   "outputs": [
    {
     "name": "stdout",
     "output_type": "stream",
     "text": [
      "Requirement already satisfied: pot in c:\\users\\zhossai3\\appdata\\local\\programs\\python\\python312\\lib\\site-packages (0.9.4)\n",
      "Requirement already satisfied: numpy>=1.16 in c:\\users\\zhossai3\\appdata\\local\\programs\\python\\python312\\lib\\site-packages (from pot) (2.0.2)\n",
      "Requirement already satisfied: scipy>=1.6 in c:\\users\\zhossai3\\appdata\\local\\programs\\python\\python312\\lib\\site-packages (from pot) (1.15.2)\n"
     ]
    },
    {
     "name": "stderr",
     "output_type": "stream",
     "text": [
      "\n",
      "[notice] A new release of pip is available: 24.2 -> 25.0.1\n",
      "[notice] To update, run: python.exe -m pip install --upgrade pip\n"
     ]
    },
    {
     "name": "stdout",
     "output_type": "stream",
     "text": [
      "Requirement already satisfied: torch in c:\\users\\zhossai3\\appdata\\local\\programs\\python\\python312\\lib\\site-packages (2.5.1)\n",
      "Requirement already satisfied: filelock in c:\\users\\zhossai3\\appdata\\local\\programs\\python\\python312\\lib\\site-packages (from torch) (3.16.1)\n",
      "Requirement already satisfied: typing-extensions>=4.8.0 in c:\\users\\zhossai3\\appdata\\local\\programs\\python\\python312\\lib\\site-packages (from torch) (4.12.2)\n",
      "Requirement already satisfied: networkx in c:\\users\\zhossai3\\appdata\\local\\programs\\python\\python312\\lib\\site-packages (from torch) (3.4.2)\n",
      "Requirement already satisfied: jinja2 in c:\\users\\zhossai3\\appdata\\local\\programs\\python\\python312\\lib\\site-packages (from torch) (3.1.4)\n",
      "Requirement already satisfied: fsspec in c:\\users\\zhossai3\\appdata\\local\\programs\\python\\python312\\lib\\site-packages (from torch) (2024.10.0)\n",
      "Requirement already satisfied: setuptools in c:\\users\\zhossai3\\appdata\\local\\programs\\python\\python312\\lib\\site-packages (from torch) (75.3.0)\n",
      "Requirement already satisfied: sympy==1.13.1 in c:\\users\\zhossai3\\appdata\\local\\programs\\python\\python312\\lib\\site-packages (from torch) (1.13.1)\n",
      "Requirement already satisfied: mpmath<1.4,>=1.1.0 in c:\\users\\zhossai3\\appdata\\local\\programs\\python\\python312\\lib\\site-packages (from sympy==1.13.1->torch) (1.3.0)\n",
      "Requirement already satisfied: MarkupSafe>=2.0 in c:\\users\\zhossai3\\appdata\\local\\programs\\python\\python312\\lib\\site-packages (from jinja2->torch) (2.1.5)\n"
     ]
    },
    {
     "name": "stderr",
     "output_type": "stream",
     "text": [
      "\n",
      "[notice] A new release of pip is available: 24.2 -> 25.0.1\n",
      "[notice] To update, run: python.exe -m pip install --upgrade pip\n"
     ]
    },
    {
     "name": "stdout",
     "output_type": "stream",
     "text": [
      "Requirement already satisfied: geomloss in c:\\users\\zhossai3\\appdata\\local\\programs\\python\\python312\\lib\\site-packages (0.2.6)"
     ]
    },
    {
     "name": "stderr",
     "output_type": "stream",
     "text": [
      "\n",
      "[notice] A new release of pip is available: 24.2 -> 25.0.1\n",
      "[notice] To update, run: python.exe -m pip install --upgrade pip\n"
     ]
    },
    {
     "name": "stdout",
     "output_type": "stream",
     "text": [
      "\n",
      "Requirement already satisfied: numpy in c:\\users\\zhossai3\\appdata\\local\\programs\\python\\python312\\lib\\site-packages (from geomloss) (2.0.2)\n",
      "Requirement already satisfied: torch in c:\\users\\zhossai3\\appdata\\local\\programs\\python\\python312\\lib\\site-packages (from geomloss) (2.5.1)\n",
      "Requirement already satisfied: filelock in c:\\users\\zhossai3\\appdata\\local\\programs\\python\\python312\\lib\\site-packages (from torch->geomloss) (3.16.1)\n",
      "Requirement already satisfied: typing-extensions>=4.8.0 in c:\\users\\zhossai3\\appdata\\local\\programs\\python\\python312\\lib\\site-packages (from torch->geomloss) (4.12.2)\n",
      "Requirement already satisfied: networkx in c:\\users\\zhossai3\\appdata\\local\\programs\\python\\python312\\lib\\site-packages (from torch->geomloss) (3.4.2)\n",
      "Requirement already satisfied: jinja2 in c:\\users\\zhossai3\\appdata\\local\\programs\\python\\python312\\lib\\site-packages (from torch->geomloss) (3.1.4)\n",
      "Requirement already satisfied: fsspec in c:\\users\\zhossai3\\appdata\\local\\programs\\python\\python312\\lib\\site-packages (from torch->geomloss) (2024.10.0)\n",
      "Requirement already satisfied: setuptools in c:\\users\\zhossai3\\appdata\\local\\programs\\python\\python312\\lib\\site-packages (from torch->geomloss) (75.3.0)\n",
      "Requirement already satisfied: sympy==1.13.1 in c:\\users\\zhossai3\\appdata\\local\\programs\\python\\python312\\lib\\site-packages (from torch->geomloss) (1.13.1)\n",
      "Requirement already satisfied: mpmath<1.4,>=1.1.0 in c:\\users\\zhossai3\\appdata\\local\\programs\\python\\python312\\lib\\site-packages (from sympy==1.13.1->torch->geomloss) (1.3.0)\n",
      "Requirement already satisfied: MarkupSafe>=2.0 in c:\\users\\zhossai3\\appdata\\local\\programs\\python\\python312\\lib\\site-packages (from jinja2->torch->geomloss) (2.1.5)\n",
      "Requirement already satisfied: wget in c:\\users\\zhossai3\\appdata\\local\\programs\\python\\python312\\lib\\site-packages (3.2)\n"
     ]
    },
    {
     "name": "stderr",
     "output_type": "stream",
     "text": [
      "\n",
      "[notice] A new release of pip is available: 24.2 -> 25.0.1\n",
      "[notice] To update, run: python.exe -m pip install --upgrade pip\n"
     ]
    },
    {
     "name": "stdout",
     "output_type": "stream",
     "text": [
      "Requirement already satisfied: mdatagen in c:\\users\\zhossai3\\appdata\\local\\programs\\python\\python312\\lib\\site-packages (0.1.71)\n",
      "Requirement already satisfied: numpy>=1.25.0 in c:\\users\\zhossai3\\appdata\\local\\programs\\python\\python312\\lib\\site-packages (from mdatagen) (2.0.2)\n",
      "Requirement already satisfied: pandas>=2.0.3 in c:\\users\\zhossai3\\appdata\\local\\programs\\python\\python312\\lib\\site-packages (from mdatagen) (2.2.3)\n",
      "Requirement already satisfied: scikit-learn>=1.3.0 in c:\\users\\zhossai3\\appdata\\local\\programs\\python\\python312\\lib\\site-packages (from mdatagen) (1.5.2)\n",
      "Requirement already satisfied: missingno>=0.5.2 in c:\\users\\zhossai3\\appdata\\local\\programs\\python\\python312\\lib\\site-packages (from mdatagen) (0.5.2)\n",
      "Requirement already satisfied: scipy>=1.11.4 in c:\\users\\zhossai3\\appdata\\local\\programs\\python\\python312\\lib\\site-packages (from mdatagen) (1.15.2)\n",
      "Requirement already satisfied: matplotlib in c:\\users\\zhossai3\\appdata\\local\\programs\\python\\python312\\lib\\site-packages (from missingno>=0.5.2->mdatagen) (3.9.2)\n",
      "Requirement already satisfied: seaborn in c:\\users\\zhossai3\\appdata\\local\\programs\\python\\python312\\lib\\site-packages (from missingno>=0.5.2->mdatagen) (0.13.2)\n",
      "Requirement already satisfied: python-dateutil>=2.8.2 in c:\\users\\zhossai3\\appdata\\roaming\\python\\python312\\site-packages (from pandas>=2.0.3->mdatagen) (2.9.0.post0)\n",
      "Requirement already satisfied: pytz>=2020.1 in c:\\users\\zhossai3\\appdata\\local\\programs\\python\\python312\\lib\\site-packages (from pandas>=2.0.3->mdatagen) (2024.2)\n",
      "Requirement already satisfied: tzdata>=2022.7 in c:\\users\\zhossai3\\appdata\\local\\programs\\python\\python312\\lib\\site-packages (from pandas>=2.0.3->mdatagen) (2024.2)\n",
      "Requirement already satisfied: joblib>=1.2.0 in c:\\users\\zhossai3\\appdata\\local\\programs\\python\\python312\\lib\\site-packages (from scikit-learn>=1.3.0->mdatagen) (1.4.2)\n",
      "Requirement already satisfied: threadpoolctl>=3.1.0 in c:\\users\\zhossai3\\appdata\\local\\programs\\python\\python312\\lib\\site-packages (from scikit-learn>=1.3.0->mdatagen) (3.5.0)\n",
      "Requirement already satisfied: six>=1.5 in c:\\users\\zhossai3\\appdata\\roaming\\python\\python312\\site-packages (from python-dateutil>=2.8.2->pandas>=2.0.3->mdatagen) (1.16.0)\n",
      "Requirement already satisfied: contourpy>=1.0.1 in c:\\users\\zhossai3\\appdata\\local\\programs\\python\\python312\\lib\\site-packages (from matplotlib->missingno>=0.5.2->mdatagen) (1.3.0)\n",
      "Requirement already satisfied: cycler>=0.10 in c:\\users\\zhossai3\\appdata\\local\\programs\\python\\python312\\lib\\site-packages (from matplotlib->missingno>=0.5.2->mdatagen) (0.12.1)\n",
      "Requirement already satisfied: fonttools>=4.22.0 in c:\\users\\zhossai3\\appdata\\local\\programs\\python\\python312\\lib\\site-packages (from matplotlib->missingno>=0.5.2->mdatagen) (4.54.1)\n",
      "Requirement already satisfied: kiwisolver>=1.3.1 in c:\\users\\zhossai3\\appdata\\local\\programs\\python\\python312\\lib\\site-packages (from matplotlib->missingno>=0.5.2->mdatagen) (1.4.7)\n",
      "Requirement already satisfied: packaging>=20.0 in c:\\users\\zhossai3\\appdata\\roaming\\python\\python312\\site-packages (from matplotlib->missingno>=0.5.2->mdatagen) (24.1)\n",
      "Requirement already satisfied: pillow>=8 in c:\\users\\zhossai3\\appdata\\local\\programs\\python\\python312\\lib\\site-packages (from matplotlib->missingno>=0.5.2->mdatagen) (10.4.0)\n",
      "Requirement already satisfied: pyparsing>=2.3.1 in c:\\users\\zhossai3\\appdata\\local\\programs\\python\\python312\\lib\\site-packages (from matplotlib->missingno>=0.5.2->mdatagen) (3.1.4)\n"
     ]
    },
    {
     "name": "stderr",
     "output_type": "stream",
     "text": [
      "\n",
      "[notice] A new release of pip is available: 24.2 -> 25.0.1\n",
      "[notice] To update, run: python.exe -m pip install --upgrade pip\n"
     ]
    },
    {
     "name": "stdout",
     "output_type": "stream",
     "text": [
      "Requirement already satisfied: pot in c:\\users\\zhossai3\\appdata\\local\\programs\\python\\python312\\lib\\site-packages (0.9.4)\n",
      "Requirement already satisfied: numpy>=1.16 in c:\\users\\zhossai3\\appdata\\local\\programs\\python\\python312\\lib\\site-packages (from pot) (2.0.2)\n",
      "Requirement already satisfied: scipy>=1.6 in c:\\users\\zhossai3\\appdata\\local\\programs\\python\\python312\\lib\\site-packages (from pot) (1.15.2)\n"
     ]
    },
    {
     "name": "stderr",
     "output_type": "stream",
     "text": [
      "\n",
      "[notice] A new release of pip is available: 24.2 -> 25.0.1\n",
      "[notice] To update, run: python.exe -m pip install --upgrade pip\n"
     ]
    },
    {
     "name": "stdout",
     "output_type": "stream",
     "text": [
      "Requirement already satisfied: torch in c:\\users\\zhossai3\\appdata\\local\\programs\\python\\python312\\lib\\site-packages (2.5.1)\n",
      "Requirement already satisfied: filelock in c:\\users\\zhossai3\\appdata\\local\\programs\\python\\python312\\lib\\site-packages (from torch) (3.16.1)\n",
      "Requirement already satisfied: typing-extensions>=4.8.0 in c:\\users\\zhossai3\\appdata\\local\\programs\\python\\python312\\lib\\site-packages (from torch) (4.12.2)\n",
      "Requirement already satisfied: networkx in c:\\users\\zhossai3\\appdata\\local\\programs\\python\\python312\\lib\\site-packages (from torch) (3.4.2)\n",
      "Requirement already satisfied: jinja2 in c:\\users\\zhossai3\\appdata\\local\\programs\\python\\python312\\lib\\site-packages (from torch) (3.1.4)\n",
      "Requirement already satisfied: fsspec in c:\\users\\zhossai3\\appdata\\local\\programs\\python\\python312\\lib\\site-packages (from torch) (2024.10.0)\n",
      "Requirement already satisfied: setuptools in c:\\users\\zhossai3\\appdata\\local\\programs\\python\\python312\\lib\\site-packages (from torch) (75.3.0)\n",
      "Requirement already satisfied: sympy==1.13.1 in c:\\users\\zhossai3\\appdata\\local\\programs\\python\\python312\\lib\\site-packages (from torch) (1.13.1)\n",
      "Requirement already satisfied: mpmath<1.4,>=1.1.0 in c:\\users\\zhossai3\\appdata\\local\\programs\\python\\python312\\lib\\site-packages (from sympy==1.13.1->torch) (1.3.0)\n",
      "Requirement already satisfied: MarkupSafe>=2.0 in c:\\users\\zhossai3\\appdata\\local\\programs\\python\\python312\\lib\\site-packages (from jinja2->torch) (2.1.5)\n"
     ]
    },
    {
     "name": "stderr",
     "output_type": "stream",
     "text": [
      "\n",
      "[notice] A new release of pip is available: 24.2 -> 25.0.1\n",
      "[notice] To update, run: python.exe -m pip install --upgrade pip\n"
     ]
    },
    {
     "name": "stdout",
     "output_type": "stream",
     "text": [
      "Requirement already satisfied: geomloss in c:\\users\\zhossai3\\appdata\\local\\programs\\python\\python312\\lib\\site-packages (0.2.6)\n",
      "Requirement already satisfied: numpy in c:\\users\\zhossai3\\appdata\\local\\programs\\python\\python312\\lib\\site-packages (from geomloss) (2.0.2)\n",
      "Requirement already satisfied: torch in c:\\users\\zhossai3\\appdata\\local\\programs\\python\\python312\\lib\\site-packages (from geomloss) (2.5.1)\n",
      "Requirement already satisfied: filelock in c:\\users\\zhossai3\\appdata\\local\\programs\\python\\python312\\lib\\site-packages (from torch->geomloss) (3.16.1)\n",
      "Requirement already satisfied: typing-extensions>=4.8.0 in c:\\users\\zhossai3\\appdata\\local\\programs\\python\\python312\\lib\\site-packages (from torch->geomloss) (4.12.2)\n",
      "Requirement already satisfied: networkx in c:\\users\\zhossai3\\appdata\\local\\programs\\python\\python312\\lib\\site-packages (from torch->geomloss) (3.4.2)\n",
      "Requirement already satisfied: jinja2 in c:\\users\\zhossai3\\appdata\\local\\programs\\python\\python312\\lib\\site-packages (from torch->geomloss) (3.1.4)\n",
      "Requirement already satisfied: fsspec in c:\\users\\zhossai3\\appdata\\local\\programs\\python\\python312\\lib\\site-packages (from torch->geomloss) (2024.10.0)\n",
      "Requirement already satisfied: setuptools in c:\\users\\zhossai3\\appdata\\local\\programs\\python\\python312\\lib\\site-packages (from torch->geomloss) (75.3.0)\n",
      "Requirement already satisfied: sympy==1.13.1 in c:\\users\\zhossai3\\appdata\\local\\programs\\python\\python312\\lib\\site-packages (from torch->geomloss) (1.13.1)\n",
      "Requirement already satisfied: mpmath<1.4,>=1.1.0 in c:\\users\\zhossai3\\appdata\\local\\programs\\python\\python312\\lib\\site-packages (from sympy==1.13.1->torch->geomloss) (1.3.0)\n",
      "Requirement already satisfied: MarkupSafe>=2.0 in c:\\users\\zhossai3\\appdata\\local\\programs\\python\\python312\\lib\\site-packages (from jinja2->torch->geomloss) (2.1.5)\n"
     ]
    },
    {
     "name": "stderr",
     "output_type": "stream",
     "text": [
      "\n",
      "[notice] A new release of pip is available: 24.2 -> 25.0.1\n",
      "[notice] To update, run: python.exe -m pip install --upgrade pip\n"
     ]
    },
    {
     "name": "stdout",
     "output_type": "stream",
     "text": [
      "Requirement already satisfied: wget in c:\\users\\zhossai3\\appdata\\local\\programs\\python\\python312\\lib\\site-packages (3.2)\n"
     ]
    },
    {
     "name": "stderr",
     "output_type": "stream",
     "text": [
      "\n",
      "[notice] A new release of pip is available: 24.2 -> 25.0.1\n",
      "[notice] To update, run: python.exe -m pip install --upgrade pip\n"
     ]
    },
    {
     "name": "stdout",
     "output_type": "stream",
     "text": [
      "Requirement already satisfied: numpy in c:\\users\\zhossai3\\appdata\\local\\programs\\python\\python312\\lib\\site-packages (2.0.2)\n",
      "Requirement already satisfied: scipy in c:\\users\\zhossai3\\appdata\\local\\programs\\python\\python312\\lib\\site-packages (1.15.2)\n",
      "Collecting sklearn\n",
      "  Using cached sklearn-0.0.post12.tar.gz (2.6 kB)\n",
      "  Installing build dependencies: started\n",
      "  Installing build dependencies: finished with status 'done'\n",
      "  Getting requirements to build wheel: started\n",
      "  Getting requirements to build wheel: finished with status 'error'\n"
     ]
    },
    {
     "name": "stderr",
     "output_type": "stream",
     "text": [
      "  error: subprocess-exited-with-error\n",
      "  \n",
      "  × Getting requirements to build wheel did not run successfully.\n",
      "  │ exit code: 1\n",
      "  ╰─> [15 lines of output]\n",
      "      The 'sklearn' PyPI package is deprecated, use 'scikit-learn'\n",
      "      rather than 'sklearn' for pip commands.\n",
      "      \n",
      "      Here is how to fix this error in the main use cases:\n",
      "      - use 'pip install scikit-learn' rather than 'pip install sklearn'\n",
      "      - replace 'sklearn' by 'scikit-learn' in your pip requirements files\n",
      "        (requirements.txt, setup.py, setup.cfg, Pipfile, etc ...)\n",
      "      - if the 'sklearn' package is used by one of your dependencies,\n",
      "        it would be great if you take some time to track which package uses\n",
      "        'sklearn' instead of 'scikit-learn' and report it to their issue tracker\n",
      "      - as a last resort, set the environment variable\n",
      "        SKLEARN_ALLOW_DEPRECATED_SKLEARN_PACKAGE_INSTALL=True to avoid this error\n",
      "      \n",
      "      More information is available at\n",
      "      https://github.com/scikit-learn/sklearn-pypi-package\n",
      "      [end of output]\n",
      "  \n",
      "  note: This error originates from a subprocess, and is likely not a problem with pip.\n",
      "\n",
      "[notice] A new release of pip is available: 24.2 -> 25.0.1\n",
      "[notice] To update, run: python.exe -m pip install --upgrade pip\n",
      "error: subprocess-exited-with-error\n",
      "\n",
      "× Getting requirements to build wheel did not run successfully.\n",
      "│ exit code: 1\n",
      "╰─> See above for output.\n",
      "\n",
      "note: This error originates from a subprocess, and is likely not a problem with pip.\n"
     ]
    },
    {
     "name": "stdout",
     "output_type": "stream",
     "text": [
      "Requirement already satisfied: jax in c:\\users\\zhossai3\\appdata\\local\\programs\\python\\python312\\lib\\site-packages (0.5.0)\n",
      "Requirement already satisfied: jaxlib<=0.5.0,>=0.5.0 in c:\\users\\zhossai3\\appdata\\local\\programs\\python\\python312\\lib\\site-packages (from jax) (0.5.0)\n",
      "Requirement already satisfied: ml_dtypes>=0.4.0 in c:\\users\\zhossai3\\appdata\\local\\programs\\python\\python312\\lib\\site-packages (from jax) (0.5.1)\n",
      "Requirement already satisfied: numpy>=1.25 in c:\\users\\zhossai3\\appdata\\local\\programs\\python\\python312\\lib\\site-packages (from jax) (2.0.2)\n",
      "Requirement already satisfied: opt_einsum in c:\\users\\zhossai3\\appdata\\local\\programs\\python\\python312\\lib\\site-packages (from jax) (3.4.0)\n",
      "Requirement already satisfied: scipy>=1.11.1 in c:\\users\\zhossai3\\appdata\\local\\programs\\python\\python312\\lib\\site-packages (from jax) (1.15.2)\n"
     ]
    },
    {
     "name": "stderr",
     "output_type": "stream",
     "text": [
      "\n",
      "[notice] A new release of pip is available: 24.2 -> 25.0.1\n",
      "[notice] To update, run: python.exe -m pip install --upgrade pip\n"
     ]
    },
    {
     "name": "stdout",
     "output_type": "stream",
     "text": [
      "Requirement already satisfied: chex in c:\\users\\zhossai3\\appdata\\local\\programs\\python\\python312\\lib\\site-packages (0.1.88)\n",
      "Requirement already satisfied: absl-py>=0.9.0 in c:\\users\\zhossai3\\appdata\\local\\programs\\python\\python312\\lib\\site-packages (from chex) (2.1.0)\n",
      "Requirement already satisfied: typing_extensions>=4.2.0 in c:\\users\\zhossai3\\appdata\\local\\programs\\python\\python312\\lib\\site-packages (from chex) (4.12.2)\n",
      "Requirement already satisfied: jax>=0.4.27 in c:\\users\\zhossai3\\appdata\\local\\programs\\python\\python312\\lib\\site-packages (from chex) (0.5.0)\n",
      "Requirement already satisfied: jaxlib>=0.4.27 in c:\\users\\zhossai3\\appdata\\local\\programs\\python\\python312\\lib\\site-packages (from chex) (0.5.0)\n",
      "Requirement already satisfied: numpy>=1.24.1 in c:\\users\\zhossai3\\appdata\\local\\programs\\python\\python312\\lib\\site-packages (from chex) (2.0.2)\n",
      "Requirement already satisfied: setuptools in c:\\users\\zhossai3\\appdata\\local\\programs\\python\\python312\\lib\\site-packages (from chex) (75.3.0)\n",
      "Requirement already satisfied: toolz>=0.9.0 in c:\\users\\zhossai3\\appdata\\local\\programs\\python\\python312\\lib\\site-packages (from chex) (1.0.0)\n",
      "Requirement already satisfied: ml_dtypes>=0.4.0 in c:\\users\\zhossai3\\appdata\\local\\programs\\python\\python312\\lib\\site-packages (from jax>=0.4.27->chex) (0.5.1)\n",
      "Requirement already satisfied: opt_einsum in c:\\users\\zhossai3\\appdata\\local\\programs\\python\\python312\\lib\\site-packages (from jax>=0.4.27->chex) (3.4.0)\n",
      "Requirement already satisfied: scipy>=1.11.1 in c:\\users\\zhossai3\\appdata\\local\\programs\\python\\python312\\lib\\site-packages (from jax>=0.4.27->chex) (1.15.2)\n"
     ]
    },
    {
     "name": "stderr",
     "output_type": "stream",
     "text": [
      "\n",
      "[notice] A new release of pip is available: 24.2 -> 25.0.1\n",
      "[notice] To update, run: python.exe -m pip install --upgrade pip\n"
     ]
    },
    {
     "name": "stdout",
     "output_type": "stream",
     "text": [
      "Requirement already satisfied: attr in c:\\users\\zhossai3\\appdata\\local\\programs\\python\\python312\\lib\\site-packages (0.3.2)\n"
     ]
    },
    {
     "name": "stderr",
     "output_type": "stream",
     "text": [
      "\n",
      "[notice] A new release of pip is available: 24.2 -> 25.0.1\n",
      "[notice] To update, run: python.exe -m pip install --upgrade pip\n"
     ]
    },
    {
     "name": "stdout",
     "output_type": "stream",
     "text": [
      "Requirement already satisfied: optax in c:\\users\\zhossai3\\appdata\\local\\programs\\python\\python312\\lib\\site-packages (0.2.4)\n",
      "Requirement already satisfied: absl-py>=0.7.1 in c:\\users\\zhossai3\\appdata\\local\\programs\\python\\python312\\lib\\site-packages (from optax) (2.1.0)\n",
      "Requirement already satisfied: chex>=0.1.87 in c:\\users\\zhossai3\\appdata\\local\\programs\\python\\python312\\lib\\site-packages (from optax) (0.1.88)\n",
      "Requirement already satisfied: jax>=0.4.27 in c:\\users\\zhossai3\\appdata\\local\\programs\\python\\python312\\lib\\site-packages (from optax) (0.5.0)\n",
      "Requirement already satisfied: jaxlib>=0.4.27 in c:\\users\\zhossai3\\appdata\\local\\programs\\python\\python312\\lib\\site-packages (from optax) (0.5.0)\n",
      "Requirement already satisfied: numpy>=1.18.0 in c:\\users\\zhossai3\\appdata\\local\\programs\\python\\python312\\lib\\site-packages (from optax) (2.0.2)\n",
      "Requirement already satisfied: etils[epy] in c:\\users\\zhossai3\\appdata\\local\\programs\\python\\python312\\lib\\site-packages (from optax) (1.12.0)\n",
      "Requirement already satisfied: typing_extensions>=4.2.0 in c:\\users\\zhossai3\\appdata\\local\\programs\\python\\python312\\lib\\site-packages (from chex>=0.1.87->optax) (4.12.2)\n",
      "Requirement already satisfied: setuptools in c:\\users\\zhossai3\\appdata\\local\\programs\\python\\python312\\lib\\site-packages (from chex>=0.1.87->optax) (75.3.0)\n",
      "Requirement already satisfied: toolz>=0.9.0 in c:\\users\\zhossai3\\appdata\\local\\programs\\python\\python312\\lib\\site-packages (from chex>=0.1.87->optax) (1.0.0)\n",
      "Requirement already satisfied: ml_dtypes>=0.4.0 in c:\\users\\zhossai3\\appdata\\local\\programs\\python\\python312\\lib\\site-packages (from jax>=0.4.27->optax) (0.5.1)\n",
      "Requirement already satisfied: opt_einsum in c:\\users\\zhossai3\\appdata\\local\\programs\\python\\python312\\lib\\site-packages (from jax>=0.4.27->optax) (3.4.0)\n",
      "Requirement already satisfied: scipy>=1.11.1 in c:\\users\\zhossai3\\appdata\\local\\programs\\python\\python312\\lib\\site-packages (from jax>=0.4.27->optax) (1.15.2)\n"
     ]
    },
    {
     "name": "stderr",
     "output_type": "stream",
     "text": [
      "\n",
      "[notice] A new release of pip is available: 24.2 -> 25.0.1\n",
      "[notice] To update, run: python.exe -m pip install --upgrade pip\n"
     ]
    }
   ],
   "source": [
    "!pip install pot\n",
    "!pip install torch\n",
    "!pip install geomloss\n",
    "!pip install wget\n",
    "!pip install mdatagen\n",
    "!pip install pot\n",
    "!pip install torch\n",
    "!pip install geomloss\n",
    "!pip install wget\n",
    "!pip install numpy scipy sklearn\n",
    "!pip install jax\n",
    "!pip install chex\n",
    "!pip install attr\n",
    "!pip install optax\n"
   ]
  },
  {
   "cell_type": "code",
   "execution_count": 194,
   "metadata": {},
   "outputs": [],
   "source": [
    "import numpy as np\n",
    "import torch\n",
    "import torch.nn as nn\n",
    "import pandas as pd\n",
    "\n",
    "from geomloss import SamplesLoss\n",
    "\n",
    "import ot\n",
    "\n",
    "import os\n",
    "import pickle as pkl\n",
    "import copy\n",
    "\n",
    "from sklearn.preprocessing import scale\n",
    "from sklearn.experimental import enable_iterative_imputer\n",
    "from sklearn.impute import SimpleImputer, IterativeImputer\n",
    "\n",
    "from utils import *\n",
    "from SoftImpute import softimpute, cv_softimpute\n",
    "#from DataSetLoader import dataset_loader, ground_truth\n",
    "from SinkhornImputation import SinkhornImputation\n",
    "from Sinkhorn_CMI import SinkhornImputation_CMI\n",
    "from RR_imputer import RRimputer\n",
    "import matplotlib.pyplot as plt\n",
    "from CMI import *\n",
    "\n",
    "from Inject_Missing_Values import *\n",
    "\n",
    "from Miss import *\n",
    "\n",
    "import argparse\n",
    "import logging\n",
    "logger = logging.getLogger()\n",
    "logger.setLevel(logging.INFO)\n",
    "logging.debug(\"test\")\n",
    "import pandas as pd\n",
    "\n",
    "torch.set_default_tensor_type('torch.DoubleTensor')"
   ]
  },
  {
   "cell_type": "code",
   "execution_count": 4,
   "metadata": {},
   "outputs": [],
   "source": [
    "import numpy as np\n",
    "#from mbi import Domain, CliqueVector, Factor, LinearMeasurement\n",
    "#from mbi import marginal_oracles, marginal_loss, synthetic_data\n",
    "from typing import Callable\n",
    "import jax\n",
    "import jax.numpy as jnp\n",
    "import chex\n",
    "import attr\n",
    "import optax"
   ]
  },
  {
   "cell_type": "code",
   "execution_count": 78,
   "metadata": {},
   "outputs": [
    {
     "name": "stdout",
     "output_type": "stream",
     "text": [
      "     checking-account  duration  credit-history  purpose  credit-amount  \\\n",
      "0                   1         6               0        7           1169   \n",
      "1                   0        48               1        7           5951   \n",
      "2                   3        12               0        4           2096   \n",
      "3                   1        42               1        5           7882   \n",
      "4                   1        24               2        1           4870   \n",
      "..                ...       ...             ...      ...            ...   \n",
      "995                 3        12               1        5           1736   \n",
      "996                 1        30               1        2           3857   \n",
      "997                 3        12               1        7            804   \n",
      "998                 1        45               1        7           1845   \n",
      "999                 0        45               0        2           4576   \n",
      "\n",
      "     savings-account  employment-since  installment-rate  other-debtors  \\\n",
      "0                  4                 3                 4              2   \n",
      "1                  2                 0                 2              2   \n",
      "2                  2                 1                 2              2   \n",
      "3                  2                 1                 2              1   \n",
      "4                  2                 0                 3              2   \n",
      "..               ...               ...               ...            ...   \n",
      "995                2                 1                 3              2   \n",
      "996                2                 0                 4              2   \n",
      "997                2                 3                 4              2   \n",
      "998                2                 0                 4              2   \n",
      "999                0                 4                 3              2   \n",
      "\n",
      "     residence-since  ...  age  other-installment  housing  existing-credits  \\\n",
      "0                  4  ...   67                  1        1                 2   \n",
      "1                  2  ...   22                  1        1                 1   \n",
      "2                  3  ...   49                  1        1                 1   \n",
      "3                  4  ...   45                  1        0                 1   \n",
      "4                  4  ...   53                  1        0                 2   \n",
      "..               ...  ...  ...                ...      ...               ...   \n",
      "995                4  ...   31                  1        1                 1   \n",
      "996                4  ...   40                  1        1                 1   \n",
      "997                4  ...   38                  1        1                 1   \n",
      "998                4  ...   23                  1        0                 1   \n",
      "999                4  ...   27                  1        1                 1   \n",
      "\n",
      "     job  number-people-provide-maintenance-for  telephone  foreign-worker  \\\n",
      "0      0                                      1          1               1   \n",
      "1      0                                      1          0               1   \n",
      "2      1                                      2          0               1   \n",
      "3      0                                      2          0               1   \n",
      "4      0                                      2          0               1   \n",
      "..   ...                                    ...        ...             ...   \n",
      "995    1                                      1          0               1   \n",
      "996    2                                      1          1               1   \n",
      "997    0                                      1          0               1   \n",
      "998    0                                      1          1               1   \n",
      "999    0                                      1          0               1   \n",
      "\n",
      "     sex  marital-status  \n",
      "0      1               0  \n",
      "1      0               0  \n",
      "2      1               0  \n",
      "3      1               0  \n",
      "4      1               0  \n",
      "..   ...             ...  \n",
      "995    0               0  \n",
      "996    1               0  \n",
      "997    1               0  \n",
      "998    1               0  \n",
      "999    1               0  \n",
      "\n",
      "[1000 rows x 21 columns]\n",
      "<class 'pandas.core.series.Series'>\n"
     ]
    }
   ],
   "source": [
    "import pandas as pd\n",
    "\n",
    "# Read CSV file into a Pandas DataFrame\n",
    "groundTruth = pd.read_csv(r'C:\\Users\\zhossai3\\Desktop\\My code\\OT_Fairness\\Data\\German Credit\\German_Credit_Ground_Truth.csv', delimiter=',', header=0)\n",
    "\n",
    "# Store feature columns in a DataFrame\n",
    "\n",
    "X= groundTruth.iloc[:, :-1]  # Selects all rows and all columns except the last one\n",
    "Y = groundTruth.iloc[:, -1]  # Selects all rows and only the last column\n",
    "\n",
    "# Display the DataFrames\n",
    "print(X)  # Print first few rows of features\n",
    " # Print first few rows of target variable\n",
    "type(X)\n",
    "print(type(Y))\n"
   ]
  },
  {
   "cell_type": "code",
   "execution_count": 25,
   "metadata": {},
   "outputs": [
    {
     "name": "stdout",
     "output_type": "stream",
     "text": [
      "<class 'pandas.core.frame.DataFrame'>\n",
      "RangeIndex: 1000 entries, 0 to 999\n",
      "Data columns (total 21 columns):\n",
      " #   Column                                 Non-Null Count  Dtype\n",
      "---  ------                                 --------------  -----\n",
      " 0   checking-account                       1000 non-null   int64\n",
      " 1   duration                               1000 non-null   int64\n",
      " 2   credit-history                         1000 non-null   int64\n",
      " 3   purpose                                1000 non-null   int64\n",
      " 4   credit-amount                          1000 non-null   int64\n",
      " 5   savings-account                        1000 non-null   int64\n",
      " 6   employment-since                       1000 non-null   int64\n",
      " 7   installment-rate                       1000 non-null   int64\n",
      " 8   other-debtors                          1000 non-null   int64\n",
      " 9   residence-since                        1000 non-null   int64\n",
      " 10  property                               1000 non-null   int64\n",
      " 11  age                                    1000 non-null   int64\n",
      " 12  other-installment                      1000 non-null   int64\n",
      " 13  housing                                1000 non-null   int64\n",
      " 14  existing-credits                       1000 non-null   int64\n",
      " 15  job                                    1000 non-null   int64\n",
      " 16  number-people-provide-maintenance-for  1000 non-null   int64\n",
      " 17  telephone                              1000 non-null   int64\n",
      " 18  foreign-worker                         1000 non-null   int64\n",
      " 19  sex                                    1000 non-null   int64\n",
      " 20  marital-status                         1000 non-null   int64\n",
      "dtypes: int64(21)\n",
      "memory usage: 164.2 KB\n"
     ]
    }
   ],
   "source": [
    "groundTruth.info()"
   ]
  },
  {
   "cell_type": "code",
   "execution_count": 105,
   "metadata": {},
   "outputs": [
    {
     "data": {
      "text/plain": [
       "array([0, 1, 2, 3])"
      ]
     },
     "execution_count": 105,
     "metadata": {},
     "output_type": "execute_result"
    }
   ],
   "source": [
    "groundTruth['job'].unique()"
   ]
  },
  {
   "cell_type": "code",
   "execution_count": 102,
   "metadata": {},
   "outputs": [],
   "source": [
    "def conditional_mutual_information(data, X, Y, Z, delta=1):\n",
    "\n",
    "  cmi = 0\n",
    "\n",
    "  P_Z = data.groupby(Z).size()\n",
    "  P_Z = P_Z / P_Z.sum()\n",
    "\n",
    "  P_XZ = data.groupby(X + Z).size()\n",
    "  P_XZ = P_XZ / P_XZ.sum()\n",
    "\n",
    "  P_YZ = data.groupby(Y + Z).size()\n",
    "  P_YZ = P_YZ / P_YZ.sum()\n",
    "\n",
    "  P_XYZ = data.groupby(X + Y + Z).size()\n",
    "  P_XYZ = P_XYZ / P_XYZ.sum()\n",
    "\n",
    "  for ind in P_XYZ.index:\n",
    "    x_ind = ind[:len(X)]\n",
    "    y_ind = ind[len(X):len(X + Y)]\n",
    "    z_ind = ind[len(X + Y):]\n",
    "\n",
    "    xz_ind = x_ind + z_ind\n",
    "    yz_ind = y_ind + z_ind\n",
    "    xyz_ind = ind\n",
    "\n",
    "    z_ind = pd.MultiIndex.from_tuples([z_ind], names=Z) if len(Z) != 1 else pd.Index(z_ind, name=Z[0])\n",
    "    xz_ind = pd.MultiIndex.from_tuples([xz_ind], names=X + Z)\n",
    "    yz_ind = pd.MultiIndex.from_tuples([yz_ind], names=Y + Z)\n",
    "    xyz_ind = pd.MultiIndex.from_tuples([xyz_ind], names=X + Y + Z)\n",
    "\n",
    "    cmi += delta * P_XYZ[xyz_ind].item() * np.log2(\n",
    "      P_Z[z_ind].item() * P_XYZ[xyz_ind].item() / (P_XZ[xz_ind].item() * P_YZ[yz_ind].item()))\n",
    "\n",
    "  return cmi"
   ]
  },
  {
   "cell_type": "code",
   "execution_count": 79,
   "metadata": {},
   "outputs": [
    {
     "name": "stdout",
     "output_type": "stream",
     "text": [
      "Conditional Mutual Information: 0.027509775004326952\n"
     ]
    }
   ],
   "source": [
    "data = groundTruth # Convert tensor to numpy array\n",
    "sensitive_attributes = [11, 19]\n",
    "\n",
    "# Define different bin sizes for each sensitive attribute\n",
    "bin_sizes = {\n",
    "    11: 4,  # Binary attribute\n",
    "    19: 2  # More categories\n",
    "}\n",
    "\n",
    "\n",
    "# Digitize multiple sensitive attributes with different bin sizes\n",
    "#X_list = [\n",
    " #   np.digitize(data[:, col], bins=np.linspace(data[:, col].min(), data[:, col].max(), bin_sizes[col] + 1))\n",
    "  #  for col in sensitive_attributes\n",
    "#]\n",
    "#x = np.column_stack(X_list)\n",
    "#X = np.digitize(data[:,1],bins=np.linspace(data[:,1].min(), data[:,1].max(),1)) \n",
    "#y =np.digitize(Y,bins=np.linspace(Y.min(), Y.max(),4)) \n",
    "#z =  np.digitize(data[:, 7],bins=np.linspace(data[:, 7].min(), data[:, 7].max(), 4))\n",
    "\n",
    "x = ['sex','age']\n",
    "y = ['class-label']\n",
    "z = ['credit-amount', 'job']\n",
    "\n",
    "\n",
    "cmi_value =conditional_mutual_information(data, x, y, z, delta=1)\n",
    "print(\"Conditional Mutual Information:\", cmi_value)"
   ]
  },
  {
   "cell_type": "markdown",
   "metadata": {},
   "source": [
    "**30% MCAR**"
   ]
  },
  {
   "cell_type": "code",
   "execution_count": 81,
   "metadata": {},
   "outputs": [],
   "source": [
    "generator = Inject_Missing_Values()"
   ]
  },
  {
   "cell_type": "code",
   "execution_count": 80,
   "metadata": {},
   "outputs": [
    {
     "data": {
      "text/plain": [
       "pandas.core.series.Series"
      ]
     },
     "execution_count": 80,
     "metadata": {},
     "output_type": "execute_result"
    }
   ],
   "source": [
    "type(Y)"
   ]
  },
  {
   "cell_type": "code",
   "execution_count": 83,
   "metadata": {},
   "outputs": [],
   "source": [
    "miss_mcar30,index_mcar30 = generator.MCAR(X,missing_rate=30)\n",
    "type(miss_mcar30)\n",
    "miss_mcar30 = pd.concat([miss_mcar30, Y], axis=1)"
   ]
  },
  {
   "cell_type": "code",
   "execution_count": 86,
   "metadata": {},
   "outputs": [],
   "source": [
    "miss_mcar30_numpy = miss_mcar30.to_numpy()\n",
    "X_numpy = X.to_numpy()\n",
    "Y_numpy = Y.to_numpy()\n",
    "\n",
    "miss_mcar30_tensor = torch.tensor(miss_mcar30_numpy)\n",
    "groundTruth_tensor = torch.tensor(groundTruth.to_numpy())\n",
    "X_tensor = torch.tensor(X_numpy)\n",
    "Y_tensor = torch.tensor(Y_numpy)"
   ]
  },
  {
   "cell_type": "code",
   "execution_count": 89,
   "metadata": {},
   "outputs": [
    {
     "name": "stderr",
     "output_type": "stream",
     "text": [
      "INFO:root:Iteration 0:\t Loss: 486.4400\t Validation MAE: 101.2657\tRMSE: 640.3687\n"
     ]
    },
    {
     "name": "stdout",
     "output_type": "stream",
     "text": [
      "56963.4972297723\n"
     ]
    },
    {
     "name": "stderr",
     "output_type": "stream",
     "text": [
      "INFO:root:Iteration 50:\t Loss: 145263.8627\t Validation MAE: 101.2883\tRMSE: 640.3669\n",
      "INFO:root:Iteration 100:\t Loss: 849.6254\t Validation MAE: 101.2906\tRMSE: 640.3654\n",
      "INFO:root:Iteration 150:\t Loss: 9427.4884\t Validation MAE: 101.2931\tRMSE: 640.3662\n",
      "INFO:root:Iteration 200:\t Loss: 43797.4723\t Validation MAE: 101.2954\tRMSE: 640.3655\n",
      "INFO:root:Iteration 250:\t Loss: 119.4977\t Validation MAE: 101.2960\tRMSE: 640.3673\n",
      "INFO:root:Iteration 300:\t Loss: 73654.3218\t Validation MAE: 101.2949\tRMSE: 640.3678\n",
      "INFO:root:Iteration 350:\t Loss: 800.5871\t Validation MAE: 101.2968\tRMSE: 640.3670\n",
      "INFO:root:Iteration 400:\t Loss: 8912.6983\t Validation MAE: 101.2974\tRMSE: 640.3674\n",
      "INFO:root:Iteration 450:\t Loss: 169520.8440\t Validation MAE: 101.2979\tRMSE: 640.3656\n",
      "INFO:root:Iteration 500:\t Loss: 3114.6663\t Validation MAE: 101.2984\tRMSE: 640.3654\n",
      "INFO:root:Iteration 550:\t Loss: 968.9528\t Validation MAE: 101.2996\tRMSE: 640.3662\n",
      "INFO:root:Iteration 600:\t Loss: 48395.3178\t Validation MAE: 101.3002\tRMSE: 640.3663\n",
      "INFO:root:Iteration 650:\t Loss: 51047.8483\t Validation MAE: 101.3000\tRMSE: 640.3651\n",
      "INFO:root:Iteration 700:\t Loss: 57928.5219\t Validation MAE: 101.2992\tRMSE: 640.3656\n",
      "INFO:root:Iteration 750:\t Loss: 24526.9194\t Validation MAE: 101.2998\tRMSE: 640.3667\n",
      "INFO:root:Iteration 800:\t Loss: 20750.1745\t Validation MAE: 101.2997\tRMSE: 640.3666\n",
      "INFO:root:Iteration 850:\t Loss: 34381.8122\t Validation MAE: 101.3000\tRMSE: 640.3679\n",
      "INFO:root:Iteration 900:\t Loss: 11457.7379\t Validation MAE: 101.3007\tRMSE: 640.3689\n",
      "INFO:root:Iteration 950:\t Loss: 9841.8139\t Validation MAE: 101.3004\tRMSE: 640.3691\n",
      "INFO:root:Iteration 1000:\t Loss: 17649.1888\t Validation MAE: 101.3004\tRMSE: 640.3690\n",
      "INFO:root:Iteration 1050:\t Loss: 38980.4201\t Validation MAE: 101.2999\tRMSE: 640.3681\n",
      "INFO:root:Iteration 1100:\t Loss: 19087.7666\t Validation MAE: 101.3004\tRMSE: 640.3682\n",
      "INFO:root:Iteration 1150:\t Loss: 111.0703\t Validation MAE: 101.3019\tRMSE: 640.3683\n",
      "INFO:root:Iteration 1200:\t Loss: 65387.7460\t Validation MAE: 101.3025\tRMSE: 640.3685\n",
      "INFO:root:Iteration 1250:\t Loss: 6038.3552\t Validation MAE: 101.3023\tRMSE: 640.3691\n",
      "INFO:root:Iteration 1300:\t Loss: 72480.1164\t Validation MAE: 101.3019\tRMSE: 640.3704\n",
      "INFO:root:Iteration 1350:\t Loss: 132508.8451\t Validation MAE: 101.3022\tRMSE: 640.3689\n",
      "INFO:root:Iteration 1400:\t Loss: 3162.0627\t Validation MAE: 101.3021\tRMSE: 640.3705\n",
      "INFO:root:Iteration 1450:\t Loss: 5286.4946\t Validation MAE: 101.3028\tRMSE: 640.3716\n",
      "INFO:root:Iteration 1500:\t Loss: 282.0508\t Validation MAE: 101.3031\tRMSE: 640.3713\n",
      "INFO:root:Iteration 1550:\t Loss: 13639.3566\t Validation MAE: 101.3023\tRMSE: 640.3705\n",
      "INFO:root:Iteration 1600:\t Loss: 287342.1113\t Validation MAE: 101.3024\tRMSE: 640.3711\n",
      "INFO:root:Iteration 1650:\t Loss: 2852.4655\t Validation MAE: 101.3010\tRMSE: 640.3714\n",
      "INFO:root:Iteration 1700:\t Loss: 8312.6484\t Validation MAE: 101.3012\tRMSE: 640.3716\n",
      "INFO:root:Iteration 1750:\t Loss: 351.6037\t Validation MAE: 101.3016\tRMSE: 640.3740\n",
      "INFO:root:Iteration 1800:\t Loss: 114147.0590\t Validation MAE: 101.3028\tRMSE: 640.3755\n",
      "INFO:root:Iteration 1850:\t Loss: 153986.0498\t Validation MAE: 101.3012\tRMSE: 640.3747\n",
      "INFO:root:Iteration 1900:\t Loss: 41050.6391\t Validation MAE: 101.3023\tRMSE: 640.3748\n",
      "INFO:root:Iteration 1950:\t Loss: 4815.6066\t Validation MAE: 101.3012\tRMSE: 640.3741\n"
     ]
    }
   ],
   "source": [
    "#sinkhorn\n",
    "n_mcar30, d_mcar30 = miss_mcar30_tensor.shape\n",
    "batchsize = 128 # If the batch size is larger than half the dataset's size,\n",
    "                # it will be redefined in the imputation methods.\n",
    "lr = 1e-2\n",
    "epsilon_mcar30 = pick_epsilon(miss_mcar30_tensor)\n",
    "#epsilon_mcar30 = 0.3\n",
    "print(epsilon_mcar30)\n",
    "\n",
    "\n",
    "sk_imputer_mcar30 = SinkhornImputation_CMI(eps=epsilon_mcar30, batchsize=batchsize, lr=lr, niter=2000)\n",
    "sk_imp_mcar30, sk_maes30mcar, sk_rmses30mcar,sk_loss_mcar30 = sk_imputer_mcar30.fit_transform(miss_mcar30_tensor, verbose=True, report_interval=50, X_true=groundTruth_tensor)\n",
    "#using numpy version of data\n",
    "#sk_imp_mcar30_numpy = sk_imp_mcar30.detach().cpu().numpy()\n",
    "\n",
    "#sk_mae_mcar30 = MAE(sk_imp_mcar30_numpy,ground_truth_numpy ,mask_mcar30)\n",
    "#sk_rmse_mcar30 = RMSE(sk_imp_mcar30_numpy, ground_truth_numpy,mask_mcar30)\n",
    "#print(sk_mae_mcar30,sk_rmse_mcar30)"
   ]
  },
  {
   "cell_type": "code",
   "execution_count": 92,
   "metadata": {},
   "outputs": [
    {
     "name": "stdout",
     "output_type": "stream",
     "text": [
      "tensor([[ 1.6303,  6.0000,  1.1653,  ...,  1.0000,  0.0000,  1.0000],\n",
      "        [ 0.0000, 48.0000,  1.0000,  ...,  0.0000,  0.0000,  0.0000],\n",
      "        [ 3.0000, 20.6942,  0.4301,  ...,  1.0000,  0.0000,  1.0000],\n",
      "        ...,\n",
      "        [ 3.0000, 12.0000,  1.0000,  ...,  0.8012,  0.0000,  1.0000],\n",
      "        [ 1.0000, 45.0000,  1.0000,  ...,  1.0000,  0.0000,  0.0000],\n",
      "        [ 0.0000, 20.2228,  1.0503,  ...,  1.0000,  0.0000,  1.0000]],\n",
      "       grad_fn=<IndexPutBackward0>)\n"
     ]
    }
   ],
   "source": [
    "print(sk_imp_mcar30)"
   ]
  },
  {
   "cell_type": "code",
   "execution_count": 154,
   "metadata": {},
   "outputs": [
    {
     "name": "stdout",
     "output_type": "stream",
     "text": [
      "tensor([1.0000, 0.0000, 1.0000, 1.0000, 1.0000, 1.0000, 0.4840, 0.6600, 0.8869,\n",
      "        1.0000, 0.0000, 0.0000, 0.2610, 1.0000, 0.0000, 0.0000, 0.6041, 1.0000,\n",
      "        0.0000, 1.0000, 0.4076, 1.0000, 1.0000, 1.0000, 1.0000, 1.0000, 1.0000,\n",
      "        0.0000, 1.0000, 1.0000, 1.0000, 1.0000, 1.0000, 0.7432, 0.0000, 1.0000,\n",
      "        1.0000, 1.0000, 1.0000, 1.0000, 1.0403, 1.0000, 1.0000, 0.3981, 0.5821,\n",
      "        0.6557, 0.8414, 0.0000, 1.0000, 0.0000, 0.6189, 1.0000, 1.0000, 1.0000,\n",
      "        1.0000, 1.0000, 0.7771, 0.0000, 0.0000, 0.4260, 0.2831, 0.6143, 1.0000,\n",
      "        0.5060, 0.0000, 1.0000, 0.7790, 1.0000, 1.0000, 0.0000, 0.6072, 1.0000,\n",
      "        1.0000, 0.0000, 0.1930, 1.0000, 0.8732, 1.0000, 1.0000, 1.0000, 1.2443,\n",
      "        0.4020, 0.2798, 0.9261, 0.7117, 0.0000, 0.5442, 0.6968, 1.0000, 1.0000,\n",
      "        1.0000, 0.6028, 0.0000, 1.0000, 1.0000, 1.0000, 0.0000, 1.0000, 0.8538,\n",
      "        1.0000, 1.0000, 1.0000, 0.0000, 1.0000, 1.0000, 1.0000, 1.0000, 1.0000,\n",
      "        0.0000, 1.0000, 1.0000, 0.0000, 0.3662, 1.2232, 1.0000, 1.0000, 0.0000,\n",
      "        0.3866, 0.0000, 1.0000, 0.7702, 0.0000, 1.0000, 1.0000, 0.8182, 1.1309,\n",
      "        1.0000, 0.6965, 1.0000, 0.6123, 0.0000, 0.4237, 1.0000, 0.8991, 0.0000,\n",
      "        0.0000, 0.9174, 1.0000, 1.0000, 0.0000, 0.4129, 0.0000, 0.5347, 1.0000,\n",
      "        0.0000, 0.9510, 0.0000, 1.3410, 0.4429, 0.5181, 1.0000, 1.0000, 1.0000,\n",
      "        0.0000, 1.0000, 0.0000, 0.9240, 1.0000, 1.0000, 1.0000, 0.9076, 0.0000,\n",
      "        1.0000, 0.6867, 1.0000, 1.0000, 1.0792, 1.1073, 0.0000, 1.0000, 1.0000,\n",
      "        0.9447, 0.1623, 1.0000, 1.0000, 0.0000, 1.0000, 1.1475, 0.8992, 1.0000,\n",
      "        1.0000, 0.6932, 0.8549, 1.0000, 1.2346, 1.0000, 0.0000, 1.0000, 1.0000,\n",
      "        0.0000, 1.0000, 0.7575, 0.9687, 1.0000, 1.0000, 0.5586, 0.6224, 0.0000,\n",
      "        1.0000, 1.0831, 1.0000, 1.0000, 1.0000, 1.0000, 1.0000, 1.0000, 1.0000,\n",
      "        1.0000, 1.0000, 1.0000, 0.5756, 0.0000, 1.0000, 1.0000, 0.6674, 0.0000,\n",
      "        1.0000, 1.0000, 1.0000, 0.9101, 1.0000, 0.0000, 1.0000, 1.0000, 1.0000,\n",
      "        0.3707, 1.0000, 1.0000, 1.0000, 0.7451, 1.0000, 1.0000, 1.0000, 1.0000,\n",
      "        1.0000, 0.3717, 0.3979, 0.6471, 0.0000, 1.0000, 1.2739, 0.9095, 1.0000,\n",
      "        0.0000, 0.9077, 1.0000, 1.0000, 0.6223, 0.7528, 0.0000, 0.0000, 0.0000,\n",
      "        0.0000, 0.3693, 1.0935, 1.0000, 1.0000, 0.4160, 0.7538, 0.0000, 1.0000,\n",
      "        0.0000, 1.0151, 0.0000, 1.0000, 1.0000, 0.7276, 0.4453, 1.0000, 0.3380,\n",
      "        1.0000, 0.0000, 1.0000, 1.0000, 1.0000, 1.0000, 0.0000, 1.0000, 0.8587,\n",
      "        1.0000, 1.0000, 0.8681, 0.4094, 1.0000, 1.0000, 0.9801, 1.0000, 1.0000,\n",
      "        1.0470, 1.0000, 1.0000, 1.0000, 0.0000, 0.8448, 1.0000, 0.3240, 0.6696,\n",
      "        1.0000, 1.0000, 1.0000, 0.0000, 0.0000, 1.0000, 0.9223, 1.0000, 0.8848,\n",
      "        0.8772, 0.2359, 0.0000, 1.0000, 1.0000, 1.0000, 0.0000, 1.0000, 1.0000,\n",
      "        1.0000, 1.0000, 0.4048, 1.0000, 1.0685, 0.8282, 1.0000, 0.1100, 1.2102,\n",
      "        0.0000, 0.6975, 1.0000, 0.6959, 1.0000, 0.7319, 1.0000, 0.0000, 0.0000,\n",
      "        0.8743, 1.0000, 1.0000, 1.0214, 0.8256, 0.7633, 1.0000, 0.0000, 0.0000,\n",
      "        1.0000, 0.8354, 1.0000, 0.0000, 0.7312, 0.6886, 1.0000, 1.0000, 0.7543,\n",
      "        0.0000, 1.0000, 1.0000, 1.0000, 1.0000, 1.0000, 0.9356, 1.0000, 0.0000,\n",
      "        1.0000, 0.8279, 0.4301, 1.0000, 0.5906, 0.5030, 1.0000, 0.0000, 0.9034,\n",
      "        0.0000, 1.0000, 1.0000, 0.0000, 1.0000, 0.0000, 0.1303, 0.5982, 0.7888,\n",
      "        0.4822, 0.0000, 1.0000, 0.0000, 0.0000, 1.0000, 1.0000, 0.0000, 0.7948,\n",
      "        1.0000, 0.6565, 0.5061, 1.0000, 0.0000, 1.0000, 0.0000, 0.4318, 0.8654,\n",
      "        0.0000, 0.6364, 1.0000, 0.0000, 0.3798, 1.0000, 1.0000, 1.0000, 1.0000,\n",
      "        0.5116, 0.2466, 0.2437, 1.0000, 0.6702, 0.0000, 1.0000, 1.0000, 1.0000,\n",
      "        0.0000, 1.0000, 1.0000, 0.0000, 0.0000, 0.0000, 0.7068, 1.1562, 1.0000,\n",
      "        0.6833, 0.0000, 1.0000, 1.0000, 1.0000, 0.3419, 0.0000, 1.0000, 0.5339,\n",
      "        1.0000, 1.0000, 1.0000, 0.3130, 1.0000, 0.0000, 0.9217, 0.4762, 1.0000,\n",
      "        0.0000, 1.0000, 1.0000, 0.0000, 0.0000, 0.0000, 1.0000, 0.0000, 1.0000,\n",
      "        1.0000, 0.0000, 1.0000, 1.0000, 1.0000, 0.0000, 1.0000, 1.0000, 0.6094,\n",
      "        1.0000, 1.0000, 0.8159, 0.0000, 1.0000, 1.0084, 0.5468, 0.0000, 0.5974,\n",
      "        0.4587, 0.8586, 0.7592, 0.0000, 1.0000, 0.8037, 0.3571, 0.0000, 1.0000,\n",
      "        1.0000, 1.0000, 1.0000, 0.0000, 1.0000, 0.3014, 0.7355, 1.0000, 1.0000,\n",
      "        1.0000, 0.0000, 1.0000, 0.9819, 1.0000, 0.0000, 0.0000, 1.0000, 1.0000,\n",
      "        0.1110, 1.0000, 1.0000, 0.7490, 1.0000, 0.0000, 1.0000, 1.0000, 1.0000,\n",
      "        0.9545, 1.0000, 1.0000, 0.6474, 0.7539, 1.0000, 1.0000, 1.0000, 1.0000,\n",
      "        1.0000, 1.0000, 0.0000, 0.4319, 0.9385, 0.7904, 1.0000, 1.0000, 0.0000,\n",
      "        1.0000, 0.3727, 0.0000, 0.5726, 0.6536, 1.0000, 1.0000, 0.5551, 1.0000,\n",
      "        0.0000, 1.0000, 0.9585, 1.0000, 1.0000, 0.0000, 0.0000, 0.5381, 0.6442,\n",
      "        1.0000, 1.0000, 1.0000, 1.0000, 1.0000, 1.0000, 0.0000, 1.0000, 0.0000,\n",
      "        1.0000, 1.1503, 1.0000, 1.0000, 1.0000, 0.0000, 1.0464, 0.6738, 0.0000,\n",
      "        0.5937, 1.0000, 1.0000, 0.5481, 0.4478, 1.0000, 0.7966, 0.0000, 1.0000,\n",
      "        1.0000, 1.0000, 0.0000, 0.0000, 1.0000, 0.0000, 0.0000, 1.0000, 0.0000,\n",
      "        0.0000, 0.0000, 0.3921, 1.0000, 0.6438, 1.0000, 0.5407, 1.0000, 0.5947,\n",
      "        0.0000, 1.0000, 1.0000, 0.6292, 1.0000, 0.4564, 0.0000, 0.0000, 0.0000,\n",
      "        1.0000, 0.6309, 0.8722, 1.0000, 1.0000, 0.8896, 0.6158, 0.0000, 0.7141,\n",
      "        0.6682, 0.0000, 1.0000, 0.6980, 0.0000, 0.9492, 1.0000, 0.0000, 0.7205,\n",
      "        0.0000, 0.0000, 0.0000, 0.2039, 1.0000, 1.0000, 1.2602, 1.0000, 1.0000,\n",
      "        1.0000, 0.4537, 0.0000, 1.0000, 1.0000, 1.0000, 1.0000, 1.0000, 1.0000,\n",
      "        0.0000, 1.0000, 1.0000, 0.0000, 0.0000, 0.6965, 0.0000, 0.9842, 0.0000,\n",
      "        0.6878, 0.0000, 0.5593, 1.0000, 0.8895, 1.1662, 0.7875, 1.0000, 0.0000,\n",
      "        1.0000, 1.0000, 0.7324, 1.0000, 1.0000, 1.0000, 1.0000, 1.0000, 1.0000,\n",
      "        1.0000, 0.0000, 1.0000, 1.0000, 1.0000, 1.0000, 1.0000, 0.6327, 0.5790,\n",
      "        0.5745, 0.8356, 1.0000, 1.0000, 1.0000, 1.0000, 1.0000, 1.0000, 0.7547,\n",
      "        0.4652, 0.5652, 0.7643, 1.0000, 0.0000, 0.7370, 1.0000, 1.0000, 1.0000,\n",
      "        0.8284, 1.0000, 0.5737, 1.0000, 0.6691, 0.7328, 1.0000, 0.0000, 1.0000,\n",
      "        1.0000, 0.5458, 0.4170, 0.4435, 0.8462, 1.0000, 1.0000, 0.0000, 0.8058,\n",
      "        0.7835, 0.2214, 0.0000, 0.6434, 1.0000, 0.0000, 0.5673, 0.7179, 0.3597,\n",
      "        0.7171, 1.0000, 1.0000, 0.4729, 0.4373, 1.0000, 1.0000, 1.0000, 1.0000,\n",
      "        1.0000, 0.8214, 0.5215, 0.0000, 0.0000, 0.0000, 0.4926, 0.0000, 0.3886,\n",
      "        1.0000, 1.0000, 0.7177, 0.0000, 0.9474, 0.0000, 0.0000, 0.0000, 1.0000,\n",
      "        1.0000, 0.9159, 0.8264, 1.0000, 0.5293, 0.7732, 1.0000, 0.4527, 0.0000,\n",
      "        0.0000, 1.0000, 1.0000, 0.0000, 0.0000, 0.0000, 0.0000, 1.0000, 0.1272,\n",
      "        1.0000, 1.0000, 1.0000, 0.7518, 0.0000, 0.0000, 0.8966, 1.0000, 1.0000,\n",
      "        1.0000, 1.2142, 0.0000, 1.0000, 1.0000, 0.0000, 0.6760, 0.8160, 1.0000,\n",
      "        0.8796, 0.0000, 1.1927, 0.9030, 1.0000, 0.0000, 1.0000, 1.0000, 1.0000,\n",
      "        0.0000, 1.0000, 1.0000, 1.2397, 1.0000, 1.0000, 1.0000, 0.0000, 1.0000,\n",
      "        1.0000, 1.0000, 1.0000, 0.8167, 1.0000, 0.8053, 1.0000, 1.0000, 1.0000,\n",
      "        0.0000, 0.0000, 0.5148, 0.0000, 0.7172, 1.0000, 0.7877, 1.0000, 0.0000,\n",
      "        1.0000, 1.0000, 1.0000, 1.0000, 1.0000, 0.0000, 1.0000, 0.0000, 1.0000,\n",
      "        0.4345, 1.0000, 1.0000, 1.0000, 1.0000, 0.3161, 1.0000, 0.0000, 0.5658,\n",
      "        0.8997, 1.1632, 1.0000, 0.7355, 1.0000, 1.2700, 0.0000, 1.0000, 0.0000,\n",
      "        0.0000, 1.0000, 1.0000, 1.0000, 1.0000, 0.0000, 1.0000, 1.0000, 0.7472,\n",
      "        1.0000, 1.0000, 1.0000, 1.0000, 1.0000, 0.4371, 1.0000, 1.0000, 1.0000,\n",
      "        1.0000, 0.0000, 1.0000, 0.0000, 0.7880, 1.0000, 1.0000, 0.0000, 1.0000,\n",
      "        1.0000, 0.0000, 0.5929, 1.0000, 1.0077, 0.3513, 0.0000, 1.0000, 1.0000,\n",
      "        0.0000, 1.0000, 0.0000, 1.0000, 1.0000, 1.0000, 1.0000, 1.0000, 1.0000,\n",
      "        1.0000, 0.0000, 1.0000, 0.0000, 1.0000, 0.7602, 0.6166, 0.7377, 1.0000,\n",
      "        1.0000, 1.0000, 1.0000, 1.0000, 0.4369, 0.0000, 0.0000, 0.0000, 0.8439,\n",
      "        1.0000, 0.2828, 1.1674, 1.0000, 0.5243, 0.5644, 0.9450, 1.0000, 0.0000,\n",
      "        0.0000, 0.0000, 0.0000, 0.6154, 1.0000, 0.3060, 0.0000, 1.0000, 1.0000,\n",
      "        1.0000, 0.8193, 0.0000, 1.0000, 1.1393, 0.7578, 1.0000, 1.0000, 0.0000,\n",
      "        1.0000, 0.8904, 0.6499, 1.0000, 0.0000, 0.9398, 1.0000, 0.0000, 1.0000,\n",
      "        0.0000, 1.0000, 1.0000, 1.0000, 0.9086, 1.0000, 1.0000, 0.5351, 0.0000,\n",
      "        0.5318, 1.0000, 0.8321, 0.4466, 0.6859, 1.0000, 1.0000, 0.0000, 0.6270,\n",
      "        0.0000, 0.5785, 1.0940, 1.0000, 1.0000, 1.0000, 1.0000, 1.0000, 0.4213,\n",
      "        1.0000, 1.0000, 0.2100, 0.8460, 0.6066, 1.0000, 1.0000, 1.0000, 1.0000,\n",
      "        0.0000, 1.0000, 0.0000, 0.0000, 0.4361, 1.0000, 1.0000, 1.0000, 1.0000,\n",
      "        1.0000, 0.0000, 1.0000, 1.0000, 0.4299, 0.2166, 0.0000, 1.0000, 0.3328,\n",
      "        1.2165, 1.0000, 1.0000, 1.0000, 0.4558, 0.0000, 0.4060, 0.8012, 1.0000,\n",
      "        1.0000], grad_fn=<SelectBackward0>)\n"
     ]
    }
   ],
   "source": [
    "sex = sk_imp_mcar30[:,19]\n",
    "age = sk_imp_mcar30[:,11]\n",
    "print(sex)"
   ]
  },
  {
   "cell_type": "code",
   "execution_count": 155,
   "metadata": {},
   "outputs": [
    {
     "name": "stdout",
     "output_type": "stream",
     "text": [
      "tensor([1, 0, 1, 1, 1, 1, 1, 1, 1, 1, 0, 0, 1, 1, 0, 0, 1, 1, 0, 1, 1, 1, 1, 1,\n",
      "        1, 1, 1, 0, 1, 1, 1, 1, 1, 1, 0, 1, 1, 1, 1, 1, 1, 1, 1, 1, 1, 1, 1, 0,\n",
      "        1, 0, 1, 1, 1, 1, 1, 1, 1, 0, 0, 1, 1, 1, 1, 1, 0, 1, 1, 1, 1, 0, 1, 1,\n",
      "        1, 0, 1, 1, 1, 1, 1, 1, 1, 1, 1, 1, 1, 0, 1, 1, 1, 1, 1, 1, 0, 1, 1, 1,\n",
      "        0, 1, 1, 1, 1, 1, 0, 1, 1, 1, 1, 1, 0, 1, 1, 0, 1, 1, 1, 1, 0, 1, 0, 1,\n",
      "        1, 0, 1, 1, 1, 1, 1, 1, 1, 1, 0, 1, 1, 1, 0, 0, 1, 1, 1, 0, 1, 0, 1, 1,\n",
      "        0, 1, 0, 1, 1, 1, 1, 1, 1, 0, 1, 0, 1, 1, 1, 1, 1, 0, 1, 1, 1, 1, 1, 1,\n",
      "        0, 1, 1, 1, 1, 1, 1, 0, 1, 1, 1, 1, 1, 1, 1, 1, 1, 1, 0, 1, 1, 0, 1, 1,\n",
      "        1, 1, 1, 1, 1, 0, 1, 1, 1, 1, 1, 1, 1, 1, 1, 1, 1, 1, 1, 0, 1, 1, 1, 0,\n",
      "        1, 1, 1, 1, 1, 0, 1, 1, 1, 1, 1, 1, 1, 1, 1, 1, 1, 1, 1, 1, 1, 1, 0, 1,\n",
      "        1, 1, 1, 0, 1, 1, 1, 1, 1, 0, 0, 0, 0, 1, 1, 1, 1, 1, 1, 0, 1, 0, 1, 0,\n",
      "        1, 1, 1, 1, 1, 1, 1, 0, 1, 1, 1, 1, 0, 1, 1, 1, 1, 1, 1, 1, 1, 1, 1, 1,\n",
      "        1, 1, 1, 1, 0, 1, 1, 1, 1, 1, 1, 1, 0, 0, 1, 1, 1, 1, 1, 1, 0, 1, 1, 1,\n",
      "        0, 1, 1, 1, 1, 1, 1, 1, 1, 1, 1, 1, 0, 1, 1, 1, 1, 1, 1, 0, 0, 1, 1, 1,\n",
      "        1, 1, 1, 1, 0, 0, 1, 1, 1, 0, 1, 1, 1, 1, 1, 0, 1, 1, 1, 1, 1, 1, 1, 0,\n",
      "        1, 1, 1, 1, 1, 1, 1, 0, 1, 0, 1, 1, 0, 1, 0, 1, 1, 1, 1, 0, 1, 0, 0, 1,\n",
      "        1, 0, 1, 1, 1, 1, 1, 0, 1, 0, 1, 1, 0, 1, 1, 0, 1, 1, 1, 1, 1, 1, 1, 1,\n",
      "        1, 1, 0, 1, 1, 1, 0, 1, 1, 0, 0, 0, 1, 1, 1, 1, 0, 1, 1, 1, 1, 0, 1, 1,\n",
      "        1, 1, 1, 1, 1, 0, 1, 1, 1, 0, 1, 1, 0, 0, 0, 1, 0, 1, 1, 0, 1, 1, 1, 0,\n",
      "        1, 1, 1, 1, 1, 1, 0, 1, 1, 1, 0, 1, 1, 1, 1, 0, 1, 1, 1, 0, 1, 1, 1, 1,\n",
      "        0, 1, 1, 1, 1, 1, 1, 0, 1, 1, 1, 0, 0, 1, 1, 1, 1, 1, 1, 1, 0, 1, 1, 1,\n",
      "        1, 1, 1, 1, 1, 1, 1, 1, 1, 1, 1, 0, 1, 1, 1, 1, 1, 0, 1, 1, 0, 1, 1, 1,\n",
      "        1, 1, 1, 0, 1, 1, 1, 1, 0, 0, 1, 1, 1, 1, 1, 1, 1, 1, 0, 1, 0, 1, 1, 1,\n",
      "        1, 1, 0, 1, 1, 0, 1, 1, 1, 1, 1, 1, 1, 0, 1, 1, 1, 0, 0, 1, 0, 0, 1, 0,\n",
      "        0, 0, 1, 1, 1, 1, 1, 1, 1, 0, 1, 1, 1, 1, 1, 0, 0, 0, 1, 1, 1, 1, 1, 1,\n",
      "        1, 0, 1, 1, 0, 1, 1, 0, 1, 1, 0, 1, 0, 0, 0, 1, 1, 1, 1, 1, 1, 1, 1, 0,\n",
      "        1, 1, 1, 1, 1, 1, 0, 1, 1, 0, 0, 1, 0, 1, 0, 1, 0, 1, 1, 1, 1, 1, 1, 0,\n",
      "        1, 1, 1, 1, 1, 1, 1, 1, 1, 1, 0, 1, 1, 1, 1, 1, 1, 1, 1, 1, 1, 1, 1, 1,\n",
      "        1, 1, 1, 1, 1, 1, 1, 0, 1, 1, 1, 1, 1, 1, 1, 1, 1, 1, 1, 0, 1, 1, 1, 1,\n",
      "        1, 1, 1, 1, 0, 1, 1, 1, 0, 1, 1, 0, 1, 1, 1, 1, 1, 1, 1, 1, 1, 1, 1, 1,\n",
      "        1, 1, 1, 0, 0, 0, 1, 0, 1, 1, 1, 1, 0, 1, 0, 0, 0, 1, 1, 1, 1, 1, 1, 1,\n",
      "        1, 1, 0, 0, 1, 1, 0, 0, 0, 0, 1, 1, 1, 1, 1, 1, 0, 0, 1, 1, 1, 1, 1, 0,\n",
      "        1, 1, 0, 1, 1, 1, 1, 0, 1, 1, 1, 0, 1, 1, 1, 0, 1, 1, 1, 1, 1, 1, 0, 1,\n",
      "        1, 1, 1, 1, 1, 1, 1, 1, 1, 0, 0, 1, 0, 1, 1, 1, 1, 0, 1, 1, 1, 1, 1, 0,\n",
      "        1, 0, 1, 1, 1, 1, 1, 1, 1, 1, 0, 1, 1, 1, 1, 1, 1, 1, 0, 1, 0, 0, 1, 1,\n",
      "        1, 1, 0, 1, 1, 1, 1, 1, 1, 1, 1, 1, 1, 1, 1, 1, 0, 1, 0, 1, 1, 1, 0, 1,\n",
      "        1, 0, 1, 1, 1, 1, 0, 1, 1, 0, 1, 0, 1, 1, 1, 1, 1, 1, 1, 0, 1, 0, 1, 1,\n",
      "        1, 1, 1, 1, 1, 1, 1, 1, 0, 0, 0, 1, 1, 1, 1, 1, 1, 1, 1, 1, 0, 0, 0, 0,\n",
      "        1, 1, 1, 0, 1, 1, 1, 1, 0, 1, 1, 1, 1, 1, 0, 1, 1, 1, 1, 0, 1, 1, 0, 1,\n",
      "        0, 1, 1, 1, 1, 1, 1, 1, 0, 1, 1, 1, 1, 1, 1, 1, 0, 1, 0, 1, 1, 1, 1, 1,\n",
      "        1, 1, 1, 1, 1, 1, 1, 1, 1, 1, 1, 1, 0, 1, 0, 0, 1, 1, 1, 1, 1, 1, 0, 1,\n",
      "        1, 1, 1, 0, 1, 1, 1, 1, 1, 1, 1, 0, 1, 1, 1, 1])\n"
     ]
    }
   ],
   "source": [
    "sex_bucketize = torch.bucketize(sex,  torch.linspace(sex.min(), sex.max(), steps=2))\n",
    "print(sex_bucketize)\n",
    "#age_bucketize = torch.bucketize(age,  torch.linspace(age.min(), age.max(), steps=10))\n",
    "#print(age_bucketize)"
   ]
  },
  {
   "cell_type": "code",
   "execution_count": 68,
   "metadata": {},
   "outputs": [
    {
     "name": "stdout",
     "output_type": "stream",
     "text": [
      "tensor([230., 127., 643.])\n"
     ]
    }
   ],
   "source": [
    "hist_bins = torch.histc(sk_imp_mcar30[:,19], bins=3)\n",
    "print(hist_bins)"
   ]
  },
  {
   "cell_type": "code",
   "execution_count": 186,
   "metadata": {},
   "outputs": [],
   "source": [
    "import torch\n",
    "\n",
    "def bucketize_columns(data, bucket_specs):\n",
    "    \"\"\"\n",
    "    Bucketizes specific columns in a dataset using different binning strategies.\n",
    "\n",
    "    :param data: PyTorch tensor (N, D) (continuous values)\n",
    "    :param bucket_specs: Dictionary {column_index: (method, num_bins or bin_edges)}\n",
    "                         Example: {0: ('uniform', 3), 1: ('quantile', 4)}\n",
    "    :return: Discretized tensor\n",
    "    \"\"\"\n",
    "    data_buc = data.detach().clone()  # Ensure no gradients\n",
    "\n",
    "    for col, bins in bucket_specs.items():\n",
    "        feature = data_buc[:, col]  # Extract column\n",
    "        #print(feature)\n",
    "\n",
    "        \n",
    "        min_val, max_val = feature.min(), feature.max()\n",
    "        bin_edges = torch.linspace(min_val, max_val, bins + 1)\n",
    "        print(bin_edges)\n",
    "        bin_edges[-1] += 1e-6 \n",
    "        \n",
    "        # Apply bucketization\n",
    "        data_buc[:, col] = torch.bucketize(feature, bin_edges,right=True) # Start bins from 0\n",
    "        print(data_buc[:,col].long().unique())\n",
    "\n",
    "    return data_buc.long()  # Convert to integer values\n",
    "\n",
    "def compute_probabilities_torch(data, columns):\n",
    "    \"\"\"\n",
    "    Compute probability distributions for given feature columns using PyTorch.\n",
    "\n",
    "    :param data: PyTorch tensor of shape (N, D) (discretized)\n",
    "    :param columns: List of column indices to compute probabilities\n",
    "    :return: Unique values and probability tensor\n",
    "    \"\"\"\n",
    "    unique_vals, counts = torch.unique(data[:, columns], dim=0, return_counts=True)\n",
    "    probs = counts.float() / data.shape[0]\n",
    "    return unique_vals, probs\n",
    "\n",
    "def conditional_mutual_information_torch(data, X_cols, Y_cols, Z_cols, bucket_specs, delta=1):\n",
    "    \"\"\"\n",
    "    Compute Conditional Mutual Information I(X;Y|Z) with bucketization inside.\n",
    "\n",
    "    :param data: PyTorch tensor (N, D) (continuous values)\n",
    "    :param X_cols: List of column indices for X\n",
    "    :param Y_cols: List of column indices for Y\n",
    "    :param Z_cols: List of column indices for Z\n",
    "    :param bucket_specs: Dictionary specifying bucketization for each column\n",
    "    :param delta: Smoothing parameter to avoid log(0)\n",
    "    :return: Conditional Mutual Information (scalar)\n",
    "    \"\"\"\n",
    "    # Apply bucketization inside CMI function\n",
    "    bucketized_data = bucketize_columns(data, bucket_specs)\n",
    "\n",
    "    # Compute probability distributions\n",
    "    unique_Z, P_Z = compute_probabilities_torch(bucketized_data, Z_cols)\n",
    "    unique_XZ, P_XZ = compute_probabilities_torch(bucketized_data, X_cols + Z_cols)\n",
    "    unique_YZ, P_YZ = compute_probabilities_torch(bucketized_data, Y_cols + Z_cols)\n",
    "    unique_XYZ, P_XYZ = compute_probabilities_torch(bucketized_data, X_cols + Y_cols + Z_cols)\n",
    "\n",
    "    cmi = 0\n",
    "    for i in range(len(unique_XYZ)):\n",
    "        xyz = unique_XYZ[i]\n",
    "        z = xyz[len(X_cols + Y_cols):]  # Extract Z values\n",
    "        xz = torch.cat((xyz[:len(X_cols)], z))  # Concatenate X and Z\n",
    "        yz = torch.cat((xyz[len(X_cols):len(X_cols + Y_cols)], z))  # Concatenate Y and Z\n",
    "\n",
    "        mask_z = (unique_Z == z).all(dim=1)\n",
    "        mask_xz = (unique_XZ == xz).all(dim=1)\n",
    "        mask_yz = (unique_YZ == yz).all(dim=1)\n",
    "\n",
    "        if mask_z.any() and mask_xz.any() and mask_yz.any():\n",
    "            P_z = P_Z[mask_z].sum()\n",
    "            P_xyz = P_XYZ[i]\n",
    "            P_xz = P_XZ[mask_xz].sum()\n",
    "            P_yz = P_YZ[mask_yz].sum()\n",
    "\n",
    "            # Compute CMI (avoid log(0) by adding a small constant)\n",
    "            cmi += delta * P_xyz * torch.log2((P_z * P_xyz) / (P_xz * P_yz + 1e-10))\n",
    "\n",
    "    return cmi.item()\n"
   ]
  },
  {
   "cell_type": "code",
   "execution_count": 193,
   "metadata": {},
   "outputs": [
    {
     "name": "stdout",
     "output_type": "stream",
     "text": [
      "tensor([19., 33., 47., 61., 75.])\n",
      "tensor([1, 2, 3, 4])\n",
      "tensor([0.0000, 0.6705, 1.3410])\n",
      "tensor([1, 2])\n",
      "tensor([0.0000, 0.5000, 1.0000])\n",
      "tensor([1, 2])\n",
      "tensor([0.0000, 0.8000, 1.6000, 2.4000, 3.2000, 4.0000])\n",
      "tensor([1, 2, 3, 4, 5])\n",
      "tensor([-0.3152,  0.5136,  1.3424,  2.1712,  3.0000])\n",
      "tensor([1, 2, 3, 4])\n",
      "Conditional Mutual Information (CMI): 0.0659\n"
     ]
    }
   ],
   "source": [
    "# Simulated continuous dataset (1000 samples, 7 features)\n",
    "data_torch = sk_imp_mcar30  # Scale values to 0-10 range\n",
    "\n",
    "# Define different bucketization strategies for each feature\n",
    "bucket_specs = {\n",
    "     \n",
    "    11: 4,   # Column 11 → age (4 bins)\n",
    "    19: 2,  # Column 19 → sex (2 bins)\n",
    "    21: 2,  # Column 21 → label  (2 bins)\n",
    "    5: 5,   # Column 5 → savings-account (5 bins)\n",
    "    15: 4   # Column 15 → jobs (4 bins)\n",
    "}\n",
    "\n",
    "# Define multiple attributes for X, Y, Z\n",
    "X_cols = [11,19]  # Bucketized sensitive attributes (e.g., sex, race, age)\n",
    "Y_cols = [21]     # Bucketized outcome-related attributes\n",
    "Z_cols = [5, 15]     # Bucketized control variables\n",
    "\n",
    "# Compute CMI with integrated bucketization\n",
    "cmi_value = conditional_mutual_information_torch(data_torch, X_cols, Y_cols, Z_cols, bucket_specs)\n",
    "print(f\"Conditional Mutual Information (CMI): {cmi_value:.4f}\")\n"
   ]
  },
  {
   "cell_type": "code",
   "execution_count": 196,
   "metadata": {},
   "outputs": [
    {
     "name": "stdout",
     "output_type": "stream",
     "text": [
      "tensor([19., 33., 47., 61., 75.])\n",
      "tensor([1, 2, 3, 4])\n",
      "tensor([0.0000, 0.6705, 1.3410])\n",
      "tensor([1, 2])\n",
      "tensor([0.0000, 0.5000, 1.0000])\n",
      "tensor([1, 2])\n",
      "tensor([0.0000, 0.8000, 1.6000, 2.4000, 3.2000, 4.0000])\n",
      "tensor([1, 2, 3, 4, 5])\n",
      "tensor([-0.3152,  0.5136,  1.3424,  2.1712,  3.0000])\n",
      "tensor([1, 2, 3, 4])\n",
      "0.06593078374862671\n"
     ]
    }
   ],
   "source": [
    "test_german_miss_mcar30 = CMI()\n",
    "cmi_german_miss_mcar30 = test_german_miss_mcar30.conditional_mutual_information_torch(data_torch, X_cols, Y_cols, Z_cols, bucket_specs)\n",
    "print(cmi_german_miss_mcar30)"
   ]
  }
 ],
 "metadata": {
  "kernelspec": {
   "display_name": "Python 3",
   "language": "python",
   "name": "python3"
  },
  "language_info": {
   "codemirror_mode": {
    "name": "ipython",
    "version": 3
   },
   "file_extension": ".py",
   "mimetype": "text/x-python",
   "name": "python",
   "nbconvert_exporter": "python",
   "pygments_lexer": "ipython3",
   "version": "3.12.6"
  }
 },
 "nbformat": 4,
 "nbformat_minor": 2
}
