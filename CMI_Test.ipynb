{
 "cells": [
  {
   "cell_type": "code",
   "execution_count": 2,
   "metadata": {},
   "outputs": [
    {
     "name": "stdout",
     "output_type": "stream",
     "text": [
      "Requirement already satisfied: pot in c:\\users\\zhossai3\\appdata\\local\\programs\\python\\python312\\lib\\site-packages (0.9.4)\n",
      "Requirement already satisfied: numpy>=1.16 in c:\\users\\zhossai3\\appdata\\local\\programs\\python\\python312\\lib\\site-packages (from pot) (2.0.2)\n",
      "Requirement already satisfied: scipy>=1.6 in c:\\users\\zhossai3\\appdata\\local\\programs\\python\\python312\\lib\\site-packages (from pot) (1.15.2)\n"
     ]
    },
    {
     "name": "stderr",
     "output_type": "stream",
     "text": [
      "\n",
      "[notice] A new release of pip is available: 24.2 -> 25.0.1\n",
      "[notice] To update, run: python.exe -m pip install --upgrade pip\n"
     ]
    },
    {
     "name": "stdout",
     "output_type": "stream",
     "text": [
      "Requirement already satisfied: torch in c:\\users\\zhossai3\\appdata\\local\\programs\\python\\python312\\lib\\site-packages (2.5.1)\n",
      "Requirement already satisfied: filelock in c:\\users\\zhossai3\\appdata\\local\\programs\\python\\python312\\lib\\site-packages (from torch) (3.16.1)\n",
      "Requirement already satisfied: typing-extensions>=4.8.0 in c:\\users\\zhossai3\\appdata\\local\\programs\\python\\python312\\lib\\site-packages (from torch) (4.12.2)\n",
      "Requirement already satisfied: networkx in c:\\users\\zhossai3\\appdata\\local\\programs\\python\\python312\\lib\\site-packages (from torch) (3.4.2)\n",
      "Requirement already satisfied: jinja2 in c:\\users\\zhossai3\\appdata\\local\\programs\\python\\python312\\lib\\site-packages (from torch) (3.1.4)\n",
      "Requirement already satisfied: fsspec in c:\\users\\zhossai3\\appdata\\local\\programs\\python\\python312\\lib\\site-packages (from torch) (2024.10.0)\n",
      "Requirement already satisfied: setuptools in c:\\users\\zhossai3\\appdata\\local\\programs\\python\\python312\\lib\\site-packages (from torch) (75.3.0)\n",
      "Requirement already satisfied: sympy==1.13.1 in c:\\users\\zhossai3\\appdata\\local\\programs\\python\\python312\\lib\\site-packages (from torch) (1.13.1)\n",
      "Requirement already satisfied: mpmath<1.4,>=1.1.0 in c:\\users\\zhossai3\\appdata\\local\\programs\\python\\python312\\lib\\site-packages (from sympy==1.13.1->torch) (1.3.0)\n",
      "Requirement already satisfied: MarkupSafe>=2.0 in c:\\users\\zhossai3\\appdata\\local\\programs\\python\\python312\\lib\\site-packages (from jinja2->torch) (2.1.5)\n"
     ]
    },
    {
     "name": "stderr",
     "output_type": "stream",
     "text": [
      "\n",
      "[notice] A new release of pip is available: 24.2 -> 25.0.1\n",
      "[notice] To update, run: python.exe -m pip install --upgrade pip\n"
     ]
    },
    {
     "name": "stdout",
     "output_type": "stream",
     "text": [
      "Requirement already satisfied: geomloss in c:\\users\\zhossai3\\appdata\\local\\programs\\python\\python312\\lib\\site-packages (0.2.6)"
     ]
    },
    {
     "name": "stderr",
     "output_type": "stream",
     "text": [
      "\n",
      "[notice] A new release of pip is available: 24.2 -> 25.0.1\n",
      "[notice] To update, run: python.exe -m pip install --upgrade pip\n"
     ]
    },
    {
     "name": "stdout",
     "output_type": "stream",
     "text": [
      "\n",
      "Requirement already satisfied: numpy in c:\\users\\zhossai3\\appdata\\local\\programs\\python\\python312\\lib\\site-packages (from geomloss) (2.0.2)\n",
      "Requirement already satisfied: torch in c:\\users\\zhossai3\\appdata\\local\\programs\\python\\python312\\lib\\site-packages (from geomloss) (2.5.1)\n",
      "Requirement already satisfied: filelock in c:\\users\\zhossai3\\appdata\\local\\programs\\python\\python312\\lib\\site-packages (from torch->geomloss) (3.16.1)\n",
      "Requirement already satisfied: typing-extensions>=4.8.0 in c:\\users\\zhossai3\\appdata\\local\\programs\\python\\python312\\lib\\site-packages (from torch->geomloss) (4.12.2)\n",
      "Requirement already satisfied: networkx in c:\\users\\zhossai3\\appdata\\local\\programs\\python\\python312\\lib\\site-packages (from torch->geomloss) (3.4.2)\n",
      "Requirement already satisfied: jinja2 in c:\\users\\zhossai3\\appdata\\local\\programs\\python\\python312\\lib\\site-packages (from torch->geomloss) (3.1.4)\n",
      "Requirement already satisfied: fsspec in c:\\users\\zhossai3\\appdata\\local\\programs\\python\\python312\\lib\\site-packages (from torch->geomloss) (2024.10.0)\n",
      "Requirement already satisfied: setuptools in c:\\users\\zhossai3\\appdata\\local\\programs\\python\\python312\\lib\\site-packages (from torch->geomloss) (75.3.0)\n",
      "Requirement already satisfied: sympy==1.13.1 in c:\\users\\zhossai3\\appdata\\local\\programs\\python\\python312\\lib\\site-packages (from torch->geomloss) (1.13.1)\n",
      "Requirement already satisfied: mpmath<1.4,>=1.1.0 in c:\\users\\zhossai3\\appdata\\local\\programs\\python\\python312\\lib\\site-packages (from sympy==1.13.1->torch->geomloss) (1.3.0)\n",
      "Requirement already satisfied: MarkupSafe>=2.0 in c:\\users\\zhossai3\\appdata\\local\\programs\\python\\python312\\lib\\site-packages (from jinja2->torch->geomloss) (2.1.5)\n",
      "Requirement already satisfied: wget in c:\\users\\zhossai3\\appdata\\local\\programs\\python\\python312\\lib\\site-packages (3.2)\n"
     ]
    },
    {
     "name": "stderr",
     "output_type": "stream",
     "text": [
      "\n",
      "[notice] A new release of pip is available: 24.2 -> 25.0.1\n",
      "[notice] To update, run: python.exe -m pip install --upgrade pip\n"
     ]
    },
    {
     "name": "stdout",
     "output_type": "stream",
     "text": [
      "Requirement already satisfied: mdatagen in c:\\users\\zhossai3\\appdata\\local\\programs\\python\\python312\\lib\\site-packages (0.1.71)\n",
      "Requirement already satisfied: numpy>=1.25.0 in c:\\users\\zhossai3\\appdata\\local\\programs\\python\\python312\\lib\\site-packages (from mdatagen) (2.0.2)\n",
      "Requirement already satisfied: pandas>=2.0.3 in c:\\users\\zhossai3\\appdata\\local\\programs\\python\\python312\\lib\\site-packages (from mdatagen) (2.2.3)\n",
      "Requirement already satisfied: scikit-learn>=1.3.0 in c:\\users\\zhossai3\\appdata\\local\\programs\\python\\python312\\lib\\site-packages (from mdatagen) (1.5.2)\n",
      "Requirement already satisfied: missingno>=0.5.2 in c:\\users\\zhossai3\\appdata\\local\\programs\\python\\python312\\lib\\site-packages (from mdatagen) (0.5.2)\n",
      "Requirement already satisfied: scipy>=1.11.4 in c:\\users\\zhossai3\\appdata\\local\\programs\\python\\python312\\lib\\site-packages (from mdatagen) (1.15.2)\n",
      "Requirement already satisfied: matplotlib in c:\\users\\zhossai3\\appdata\\local\\programs\\python\\python312\\lib\\site-packages (from missingno>=0.5.2->mdatagen) (3.9.2)\n",
      "Requirement already satisfied: seaborn in c:\\users\\zhossai3\\appdata\\local\\programs\\python\\python312\\lib\\site-packages (from missingno>=0.5.2->mdatagen) (0.13.2)\n",
      "Requirement already satisfied: python-dateutil>=2.8.2 in c:\\users\\zhossai3\\appdata\\roaming\\python\\python312\\site-packages (from pandas>=2.0.3->mdatagen) (2.9.0.post0)\n",
      "Requirement already satisfied: pytz>=2020.1 in c:\\users\\zhossai3\\appdata\\local\\programs\\python\\python312\\lib\\site-packages (from pandas>=2.0.3->mdatagen) (2024.2)\n",
      "Requirement already satisfied: tzdata>=2022.7 in c:\\users\\zhossai3\\appdata\\local\\programs\\python\\python312\\lib\\site-packages (from pandas>=2.0.3->mdatagen) (2024.2)\n",
      "Requirement already satisfied: joblib>=1.2.0 in c:\\users\\zhossai3\\appdata\\local\\programs\\python\\python312\\lib\\site-packages (from scikit-learn>=1.3.0->mdatagen) (1.4.2)\n",
      "Requirement already satisfied: threadpoolctl>=3.1.0 in c:\\users\\zhossai3\\appdata\\local\\programs\\python\\python312\\lib\\site-packages (from scikit-learn>=1.3.0->mdatagen) (3.5.0)\n",
      "Requirement already satisfied: six>=1.5 in c:\\users\\zhossai3\\appdata\\roaming\\python\\python312\\site-packages (from python-dateutil>=2.8.2->pandas>=2.0.3->mdatagen) (1.16.0)\n",
      "Requirement already satisfied: contourpy>=1.0.1 in c:\\users\\zhossai3\\appdata\\local\\programs\\python\\python312\\lib\\site-packages (from matplotlib->missingno>=0.5.2->mdatagen) (1.3.0)\n",
      "Requirement already satisfied: cycler>=0.10 in c:\\users\\zhossai3\\appdata\\local\\programs\\python\\python312\\lib\\site-packages (from matplotlib->missingno>=0.5.2->mdatagen) (0.12.1)\n",
      "Requirement already satisfied: fonttools>=4.22.0 in c:\\users\\zhossai3\\appdata\\local\\programs\\python\\python312\\lib\\site-packages (from matplotlib->missingno>=0.5.2->mdatagen) (4.54.1)\n",
      "Requirement already satisfied: kiwisolver>=1.3.1 in c:\\users\\zhossai3\\appdata\\local\\programs\\python\\python312\\lib\\site-packages (from matplotlib->missingno>=0.5.2->mdatagen) (1.4.7)\n",
      "Requirement already satisfied: packaging>=20.0 in c:\\users\\zhossai3\\appdata\\roaming\\python\\python312\\site-packages (from matplotlib->missingno>=0.5.2->mdatagen) (24.1)\n",
      "Requirement already satisfied: pillow>=8 in c:\\users\\zhossai3\\appdata\\local\\programs\\python\\python312\\lib\\site-packages (from matplotlib->missingno>=0.5.2->mdatagen) (10.4.0)\n",
      "Requirement already satisfied: pyparsing>=2.3.1 in c:\\users\\zhossai3\\appdata\\local\\programs\\python\\python312\\lib\\site-packages (from matplotlib->missingno>=0.5.2->mdatagen) (3.1.4)\n"
     ]
    },
    {
     "name": "stderr",
     "output_type": "stream",
     "text": [
      "\n",
      "[notice] A new release of pip is available: 24.2 -> 25.0.1\n",
      "[notice] To update, run: python.exe -m pip install --upgrade pip\n"
     ]
    },
    {
     "name": "stdout",
     "output_type": "stream",
     "text": [
      "Requirement already satisfied: pot in c:\\users\\zhossai3\\appdata\\local\\programs\\python\\python312\\lib\\site-packages (0.9.4)\n",
      "Requirement already satisfied: numpy>=1.16 in c:\\users\\zhossai3\\appdata\\local\\programs\\python\\python312\\lib\\site-packages (from pot) (2.0.2)\n",
      "Requirement already satisfied: scipy>=1.6 in c:\\users\\zhossai3\\appdata\\local\\programs\\python\\python312\\lib\\site-packages (from pot) (1.15.2)\n"
     ]
    },
    {
     "name": "stderr",
     "output_type": "stream",
     "text": [
      "\n",
      "[notice] A new release of pip is available: 24.2 -> 25.0.1\n",
      "[notice] To update, run: python.exe -m pip install --upgrade pip\n"
     ]
    },
    {
     "name": "stdout",
     "output_type": "stream",
     "text": [
      "Requirement already satisfied: torch in c:\\users\\zhossai3\\appdata\\local\\programs\\python\\python312\\lib\\site-packages (2.5.1)\n",
      "Requirement already satisfied: filelock in c:\\users\\zhossai3\\appdata\\local\\programs\\python\\python312\\lib\\site-packages (from torch) (3.16.1)\n",
      "Requirement already satisfied: typing-extensions>=4.8.0 in c:\\users\\zhossai3\\appdata\\local\\programs\\python\\python312\\lib\\site-packages (from torch) (4.12.2)\n",
      "Requirement already satisfied: networkx in c:\\users\\zhossai3\\appdata\\local\\programs\\python\\python312\\lib\\site-packages (from torch) (3.4.2)\n",
      "Requirement already satisfied: jinja2 in c:\\users\\zhossai3\\appdata\\local\\programs\\python\\python312\\lib\\site-packages (from torch) (3.1.4)\n",
      "Requirement already satisfied: fsspec in c:\\users\\zhossai3\\appdata\\local\\programs\\python\\python312\\lib\\site-packages (from torch) (2024.10.0)\n",
      "Requirement already satisfied: setuptools in c:\\users\\zhossai3\\appdata\\local\\programs\\python\\python312\\lib\\site-packages (from torch) (75.3.0)\n",
      "Requirement already satisfied: sympy==1.13.1 in c:\\users\\zhossai3\\appdata\\local\\programs\\python\\python312\\lib\\site-packages (from torch) (1.13.1)\n",
      "Requirement already satisfied: mpmath<1.4,>=1.1.0 in c:\\users\\zhossai3\\appdata\\local\\programs\\python\\python312\\lib\\site-packages (from sympy==1.13.1->torch) (1.3.0)\n",
      "Requirement already satisfied: MarkupSafe>=2.0 in c:\\users\\zhossai3\\appdata\\local\\programs\\python\\python312\\lib\\site-packages (from jinja2->torch) (2.1.5)\n"
     ]
    },
    {
     "name": "stderr",
     "output_type": "stream",
     "text": [
      "\n",
      "[notice] A new release of pip is available: 24.2 -> 25.0.1\n",
      "[notice] To update, run: python.exe -m pip install --upgrade pip\n"
     ]
    },
    {
     "name": "stdout",
     "output_type": "stream",
     "text": [
      "Requirement already satisfied: geomloss in c:\\users\\zhossai3\\appdata\\local\\programs\\python\\python312\\lib\\site-packages (0.2.6)\n",
      "Requirement already satisfied: numpy in c:\\users\\zhossai3\\appdata\\local\\programs\\python\\python312\\lib\\site-packages (from geomloss) (2.0.2)\n",
      "Requirement already satisfied: torch in c:\\users\\zhossai3\\appdata\\local\\programs\\python\\python312\\lib\\site-packages (from geomloss) (2.5.1)\n",
      "Requirement already satisfied: filelock in c:\\users\\zhossai3\\appdata\\local\\programs\\python\\python312\\lib\\site-packages (from torch->geomloss) (3.16.1)\n",
      "Requirement already satisfied: typing-extensions>=4.8.0 in c:\\users\\zhossai3\\appdata\\local\\programs\\python\\python312\\lib\\site-packages (from torch->geomloss) (4.12.2)\n",
      "Requirement already satisfied: networkx in c:\\users\\zhossai3\\appdata\\local\\programs\\python\\python312\\lib\\site-packages (from torch->geomloss) (3.4.2)\n",
      "Requirement already satisfied: jinja2 in c:\\users\\zhossai3\\appdata\\local\\programs\\python\\python312\\lib\\site-packages (from torch->geomloss) (3.1.4)\n",
      "Requirement already satisfied: fsspec in c:\\users\\zhossai3\\appdata\\local\\programs\\python\\python312\\lib\\site-packages (from torch->geomloss) (2024.10.0)\n",
      "Requirement already satisfied: setuptools in c:\\users\\zhossai3\\appdata\\local\\programs\\python\\python312\\lib\\site-packages (from torch->geomloss) (75.3.0)\n",
      "Requirement already satisfied: sympy==1.13.1 in c:\\users\\zhossai3\\appdata\\local\\programs\\python\\python312\\lib\\site-packages (from torch->geomloss) (1.13.1)\n",
      "Requirement already satisfied: mpmath<1.4,>=1.1.0 in c:\\users\\zhossai3\\appdata\\local\\programs\\python\\python312\\lib\\site-packages (from sympy==1.13.1->torch->geomloss) (1.3.0)\n",
      "Requirement already satisfied: MarkupSafe>=2.0 in c:\\users\\zhossai3\\appdata\\local\\programs\\python\\python312\\lib\\site-packages (from jinja2->torch->geomloss) (2.1.5)\n"
     ]
    },
    {
     "name": "stderr",
     "output_type": "stream",
     "text": [
      "\n",
      "[notice] A new release of pip is available: 24.2 -> 25.0.1\n",
      "[notice] To update, run: python.exe -m pip install --upgrade pip\n"
     ]
    },
    {
     "name": "stdout",
     "output_type": "stream",
     "text": [
      "Requirement already satisfied: wget in c:\\users\\zhossai3\\appdata\\local\\programs\\python\\python312\\lib\\site-packages (3.2)\n"
     ]
    },
    {
     "name": "stderr",
     "output_type": "stream",
     "text": [
      "\n",
      "[notice] A new release of pip is available: 24.2 -> 25.0.1\n",
      "[notice] To update, run: python.exe -m pip install --upgrade pip\n"
     ]
    },
    {
     "name": "stdout",
     "output_type": "stream",
     "text": [
      "Requirement already satisfied: numpy in c:\\users\\zhossai3\\appdata\\local\\programs\\python\\python312\\lib\\site-packages (2.0.2)\n",
      "Requirement already satisfied: scipy in c:\\users\\zhossai3\\appdata\\local\\programs\\python\\python312\\lib\\site-packages (1.15.2)\n",
      "Collecting sklearn\n",
      "  Using cached sklearn-0.0.post12.tar.gz (2.6 kB)\n",
      "  Installing build dependencies: started\n",
      "  Installing build dependencies: finished with status 'done'\n",
      "  Getting requirements to build wheel: started\n",
      "  Getting requirements to build wheel: finished with status 'error'\n"
     ]
    },
    {
     "name": "stderr",
     "output_type": "stream",
     "text": [
      "  error: subprocess-exited-with-error\n",
      "  \n",
      "  × Getting requirements to build wheel did not run successfully.\n",
      "  │ exit code: 1\n",
      "  ╰─> [15 lines of output]\n",
      "      The 'sklearn' PyPI package is deprecated, use 'scikit-learn'\n",
      "      rather than 'sklearn' for pip commands.\n",
      "      \n",
      "      Here is how to fix this error in the main use cases:\n",
      "      - use 'pip install scikit-learn' rather than 'pip install sklearn'\n",
      "      - replace 'sklearn' by 'scikit-learn' in your pip requirements files\n",
      "        (requirements.txt, setup.py, setup.cfg, Pipfile, etc ...)\n",
      "      - if the 'sklearn' package is used by one of your dependencies,\n",
      "        it would be great if you take some time to track which package uses\n",
      "        'sklearn' instead of 'scikit-learn' and report it to their issue tracker\n",
      "      - as a last resort, set the environment variable\n",
      "        SKLEARN_ALLOW_DEPRECATED_SKLEARN_PACKAGE_INSTALL=True to avoid this error\n",
      "      \n",
      "      More information is available at\n",
      "      https://github.com/scikit-learn/sklearn-pypi-package\n",
      "      [end of output]\n",
      "  \n",
      "  note: This error originates from a subprocess, and is likely not a problem with pip.\n",
      "\n",
      "[notice] A new release of pip is available: 24.2 -> 25.0.1\n",
      "[notice] To update, run: python.exe -m pip install --upgrade pip\n",
      "error: subprocess-exited-with-error\n",
      "\n",
      "× Getting requirements to build wheel did not run successfully.\n",
      "│ exit code: 1\n",
      "╰─> See above for output.\n",
      "\n",
      "note: This error originates from a subprocess, and is likely not a problem with pip.\n"
     ]
    },
    {
     "name": "stdout",
     "output_type": "stream",
     "text": [
      "Requirement already satisfied: jax in c:\\users\\zhossai3\\appdata\\local\\programs\\python\\python312\\lib\\site-packages (0.5.0)\n",
      "Requirement already satisfied: jaxlib<=0.5.0,>=0.5.0 in c:\\users\\zhossai3\\appdata\\local\\programs\\python\\python312\\lib\\site-packages (from jax) (0.5.0)\n",
      "Requirement already satisfied: ml_dtypes>=0.4.0 in c:\\users\\zhossai3\\appdata\\local\\programs\\python\\python312\\lib\\site-packages (from jax) (0.5.1)\n",
      "Requirement already satisfied: numpy>=1.25 in c:\\users\\zhossai3\\appdata\\local\\programs\\python\\python312\\lib\\site-packages (from jax) (2.0.2)\n",
      "Requirement already satisfied: opt_einsum in c:\\users\\zhossai3\\appdata\\local\\programs\\python\\python312\\lib\\site-packages (from jax) (3.4.0)\n",
      "Requirement already satisfied: scipy>=1.11.1 in c:\\users\\zhossai3\\appdata\\local\\programs\\python\\python312\\lib\\site-packages (from jax) (1.15.2)\n"
     ]
    },
    {
     "name": "stderr",
     "output_type": "stream",
     "text": [
      "\n",
      "[notice] A new release of pip is available: 24.2 -> 25.0.1\n",
      "[notice] To update, run: python.exe -m pip install --upgrade pip\n"
     ]
    },
    {
     "name": "stdout",
     "output_type": "stream",
     "text": [
      "Requirement already satisfied: chex in c:\\users\\zhossai3\\appdata\\local\\programs\\python\\python312\\lib\\site-packages (0.1.88)\n",
      "Requirement already satisfied: absl-py>=0.9.0 in c:\\users\\zhossai3\\appdata\\local\\programs\\python\\python312\\lib\\site-packages (from chex) (2.1.0)\n",
      "Requirement already satisfied: typing_extensions>=4.2.0 in c:\\users\\zhossai3\\appdata\\local\\programs\\python\\python312\\lib\\site-packages (from chex) (4.12.2)\n",
      "Requirement already satisfied: jax>=0.4.27 in c:\\users\\zhossai3\\appdata\\local\\programs\\python\\python312\\lib\\site-packages (from chex) (0.5.0)\n",
      "Requirement already satisfied: jaxlib>=0.4.27 in c:\\users\\zhossai3\\appdata\\local\\programs\\python\\python312\\lib\\site-packages (from chex) (0.5.0)\n",
      "Requirement already satisfied: numpy>=1.24.1 in c:\\users\\zhossai3\\appdata\\local\\programs\\python\\python312\\lib\\site-packages (from chex) (2.0.2)\n",
      "Requirement already satisfied: setuptools in c:\\users\\zhossai3\\appdata\\local\\programs\\python\\python312\\lib\\site-packages (from chex) (75.3.0)\n",
      "Requirement already satisfied: toolz>=0.9.0 in c:\\users\\zhossai3\\appdata\\local\\programs\\python\\python312\\lib\\site-packages (from chex) (1.0.0)\n",
      "Requirement already satisfied: ml_dtypes>=0.4.0 in c:\\users\\zhossai3\\appdata\\local\\programs\\python\\python312\\lib\\site-packages (from jax>=0.4.27->chex) (0.5.1)\n",
      "Requirement already satisfied: opt_einsum in c:\\users\\zhossai3\\appdata\\local\\programs\\python\\python312\\lib\\site-packages (from jax>=0.4.27->chex) (3.4.0)\n",
      "Requirement already satisfied: scipy>=1.11.1 in c:\\users\\zhossai3\\appdata\\local\\programs\\python\\python312\\lib\\site-packages (from jax>=0.4.27->chex) (1.15.2)\n"
     ]
    },
    {
     "name": "stderr",
     "output_type": "stream",
     "text": [
      "\n",
      "[notice] A new release of pip is available: 24.2 -> 25.0.1\n",
      "[notice] To update, run: python.exe -m pip install --upgrade pip\n"
     ]
    },
    {
     "name": "stdout",
     "output_type": "stream",
     "text": [
      "Requirement already satisfied: attr in c:\\users\\zhossai3\\appdata\\local\\programs\\python\\python312\\lib\\site-packages (0.3.2)\n"
     ]
    },
    {
     "name": "stderr",
     "output_type": "stream",
     "text": [
      "\n",
      "[notice] A new release of pip is available: 24.2 -> 25.0.1\n",
      "[notice] To update, run: python.exe -m pip install --upgrade pip\n"
     ]
    },
    {
     "name": "stdout",
     "output_type": "stream",
     "text": [
      "Requirement already satisfied: optax in c:\\users\\zhossai3\\appdata\\local\\programs\\python\\python312\\lib\\site-packages (0.2.4)\n",
      "Requirement already satisfied: absl-py>=0.7.1 in c:\\users\\zhossai3\\appdata\\local\\programs\\python\\python312\\lib\\site-packages (from optax) (2.1.0)\n",
      "Requirement already satisfied: chex>=0.1.87 in c:\\users\\zhossai3\\appdata\\local\\programs\\python\\python312\\lib\\site-packages (from optax) (0.1.88)\n",
      "Requirement already satisfied: jax>=0.4.27 in c:\\users\\zhossai3\\appdata\\local\\programs\\python\\python312\\lib\\site-packages (from optax) (0.5.0)\n",
      "Requirement already satisfied: jaxlib>=0.4.27 in c:\\users\\zhossai3\\appdata\\local\\programs\\python\\python312\\lib\\site-packages (from optax) (0.5.0)\n",
      "Requirement already satisfied: numpy>=1.18.0 in c:\\users\\zhossai3\\appdata\\local\\programs\\python\\python312\\lib\\site-packages (from optax) (2.0.2)\n",
      "Requirement already satisfied: etils[epy] in c:\\users\\zhossai3\\appdata\\local\\programs\\python\\python312\\lib\\site-packages (from optax) (1.12.0)\n",
      "Requirement already satisfied: typing_extensions>=4.2.0 in c:\\users\\zhossai3\\appdata\\local\\programs\\python\\python312\\lib\\site-packages (from chex>=0.1.87->optax) (4.12.2)\n",
      "Requirement already satisfied: setuptools in c:\\users\\zhossai3\\appdata\\local\\programs\\python\\python312\\lib\\site-packages (from chex>=0.1.87->optax) (75.3.0)\n",
      "Requirement already satisfied: toolz>=0.9.0 in c:\\users\\zhossai3\\appdata\\local\\programs\\python\\python312\\lib\\site-packages (from chex>=0.1.87->optax) (1.0.0)\n",
      "Requirement already satisfied: ml_dtypes>=0.4.0 in c:\\users\\zhossai3\\appdata\\local\\programs\\python\\python312\\lib\\site-packages (from jax>=0.4.27->optax) (0.5.1)\n",
      "Requirement already satisfied: opt_einsum in c:\\users\\zhossai3\\appdata\\local\\programs\\python\\python312\\lib\\site-packages (from jax>=0.4.27->optax) (3.4.0)\n",
      "Requirement already satisfied: scipy>=1.11.1 in c:\\users\\zhossai3\\appdata\\local\\programs\\python\\python312\\lib\\site-packages (from jax>=0.4.27->optax) (1.15.2)\n"
     ]
    },
    {
     "name": "stderr",
     "output_type": "stream",
     "text": [
      "\n",
      "[notice] A new release of pip is available: 24.2 -> 25.0.1\n",
      "[notice] To update, run: python.exe -m pip install --upgrade pip\n"
     ]
    }
   ],
   "source": [
    "!pip install pot\n",
    "!pip install torch\n",
    "!pip install geomloss\n",
    "!pip install wget\n",
    "!pip install mdatagen\n",
    "!pip install pot\n",
    "!pip install torch\n",
    "!pip install geomloss\n",
    "!pip install wget\n",
    "!pip install numpy scipy sklearn\n",
    "!pip install jax\n",
    "!pip install chex\n",
    "!pip install attr\n",
    "!pip install optax\n"
   ]
  },
  {
   "cell_type": "code",
   "execution_count": 3,
   "metadata": {},
   "outputs": [
    {
     "name": "stderr",
     "output_type": "stream",
     "text": [
      "c:\\Users\\zhossai3\\AppData\\Local\\Programs\\Python\\Python312\\Lib\\site-packages\\torch\\__init__.py:1144: UserWarning: torch.set_default_tensor_type() is deprecated as of PyTorch 2.1, please use torch.set_default_dtype() and torch.set_default_device() as alternatives. (Triggered internally at C:\\actions-runner\\_work\\pytorch\\pytorch\\builder\\windows\\pytorch\\torch\\csrc\\tensor\\python_tensor.cpp:434.)\n",
      "  _C._set_default_tensor_type(t)\n"
     ]
    }
   ],
   "source": [
    "import numpy as np\n",
    "import torch\n",
    "import torch.nn as nn\n",
    "import pandas as pd\n",
    "\n",
    "from geomloss import SamplesLoss\n",
    "\n",
    "import ot\n",
    "\n",
    "import os\n",
    "import pickle as pkl\n",
    "import copy\n",
    "\n",
    "from sklearn.preprocessing import scale\n",
    "from sklearn.experimental import enable_iterative_imputer\n",
    "from sklearn.impute import SimpleImputer, IterativeImputer\n",
    "\n",
    "from utils import *\n",
    "from SoftImpute import softimpute, cv_softimpute\n",
    "#from DataSetLoader import dataset_loader, ground_truth\n",
    "from SinkhornImputation import SinkhornImputation\n",
    "from Sinkhorn_CMI import SinkhornImputation_CMI\n",
    "from RR_imputer import RRimputer\n",
    "import matplotlib.pyplot as plt\n",
    "\n",
    "from Inject_Missing_Values import *\n",
    "\n",
    "from Miss import *\n",
    "\n",
    "import argparse\n",
    "import logging\n",
    "logger = logging.getLogger()\n",
    "logger.setLevel(logging.INFO)\n",
    "logging.debug(\"test\")\n",
    "import pandas as pd\n",
    "\n",
    "torch.set_default_tensor_type('torch.DoubleTensor')"
   ]
  },
  {
   "cell_type": "code",
   "execution_count": 4,
   "metadata": {},
   "outputs": [],
   "source": [
    "import numpy as np\n",
    "#from mbi import Domain, CliqueVector, Factor, LinearMeasurement\n",
    "#from mbi import marginal_oracles, marginal_loss, synthetic_data\n",
    "from typing import Callable\n",
    "import jax\n",
    "import jax.numpy as jnp\n",
    "import chex\n",
    "import attr\n",
    "import optax"
   ]
  },
  {
   "cell_type": "code",
   "execution_count": 5,
   "metadata": {},
   "outputs": [
    {
     "name": "stdout",
     "output_type": "stream",
     "text": [
      "     checking-account  duration  credit-history  purpose  credit-amount  \\\n",
      "0                   1         6               0        7           1169   \n",
      "1                   0        48               1        7           5951   \n",
      "2                   3        12               0        4           2096   \n",
      "3                   1        42               1        5           7882   \n",
      "4                   1        24               2        1           4870   \n",
      "..                ...       ...             ...      ...            ...   \n",
      "995                 3        12               1        5           1736   \n",
      "996                 1        30               1        2           3857   \n",
      "997                 3        12               1        7            804   \n",
      "998                 1        45               1        7           1845   \n",
      "999                 0        45               0        2           4576   \n",
      "\n",
      "     savings-account  employment-since  installment-rate  other-debtors  \\\n",
      "0                  4                 3                 4              2   \n",
      "1                  2                 0                 2              2   \n",
      "2                  2                 1                 2              2   \n",
      "3                  2                 1                 2              1   \n",
      "4                  2                 0                 3              2   \n",
      "..               ...               ...               ...            ...   \n",
      "995                2                 1                 3              2   \n",
      "996                2                 0                 4              2   \n",
      "997                2                 3                 4              2   \n",
      "998                2                 0                 4              2   \n",
      "999                0                 4                 3              2   \n",
      "\n",
      "     residence-since  ...  age  other-installment  housing  existing-credits  \\\n",
      "0                  4  ...   67                  1        1                 2   \n",
      "1                  2  ...   22                  1        1                 1   \n",
      "2                  3  ...   49                  1        1                 1   \n",
      "3                  4  ...   45                  1        0                 1   \n",
      "4                  4  ...   53                  1        0                 2   \n",
      "..               ...  ...  ...                ...      ...               ...   \n",
      "995                4  ...   31                  1        1                 1   \n",
      "996                4  ...   40                  1        1                 1   \n",
      "997                4  ...   38                  1        1                 1   \n",
      "998                4  ...   23                  1        0                 1   \n",
      "999                4  ...   27                  1        1                 1   \n",
      "\n",
      "     job  number-people-provide-maintenance-for  telephone  foreign-worker  \\\n",
      "0      0                                      1          1               1   \n",
      "1      0                                      1          0               1   \n",
      "2      1                                      2          0               1   \n",
      "3      0                                      2          0               1   \n",
      "4      0                                      2          0               1   \n",
      "..   ...                                    ...        ...             ...   \n",
      "995    1                                      1          0               1   \n",
      "996    2                                      1          1               1   \n",
      "997    0                                      1          0               1   \n",
      "998    0                                      1          1               1   \n",
      "999    0                                      1          0               1   \n",
      "\n",
      "     sex  marital-status  \n",
      "0      1               0  \n",
      "1      0               0  \n",
      "2      1               0  \n",
      "3      1               0  \n",
      "4      1               0  \n",
      "..   ...             ...  \n",
      "995    0               0  \n",
      "996    1               0  \n",
      "997    1               0  \n",
      "998    1               0  \n",
      "999    1               0  \n",
      "\n",
      "[1000 rows x 21 columns]\n"
     ]
    }
   ],
   "source": [
    "import pandas as pd\n",
    "\n",
    "# Read CSV file into a Pandas DataFrame\n",
    "df = pd.read_csv(r'C:\\Users\\zhossai3\\Desktop\\My code\\OT_Fairness\\Data\\German Credit\\German_Credit_Ground_Truth.csv', delimiter=',', header=0)\n",
    "\n",
    "# Store feature columns in a DataFrame\n",
    "\n",
    "X= df.iloc[:, :-1]  # Selects all rows and all columns except the last one\n",
    "Y = df.iloc[:, -1]  # Selects all rows and only the last column\n",
    "\n",
    "# Display the DataFrames\n",
    "print(X)  # Print first few rows of features\n",
    " # Print first few rows of target variable\n",
    "type(X)\n",
    "groundTruth =   X\n"
   ]
  },
  {
   "cell_type": "code",
   "execution_count": 6,
   "metadata": {},
   "outputs": [],
   "source": [
    "def conditional_mutual_information(data, X, Y, Z, delta=1):\n",
    "\n",
    "  cmi = 0\n",
    "\n",
    "  P_Z = data.groupby(Z).size()\n",
    "  P_Z = P_Z / P_Z.sum()\n",
    "\n",
    "  P_XZ = data.groupby(X + Z).size()\n",
    "  P_XZ = P_XZ / P_XZ.sum()\n",
    "\n",
    "  P_YZ = data.groupby(Y + Z).size()\n",
    "  P_YZ = P_YZ / P_YZ.sum()\n",
    "\n",
    "  P_XYZ = data.groupby(X + Y + Z).size()\n",
    "  P_XYZ = P_XYZ / P_XYZ.sum()\n",
    "\n",
    "  for ind in P_XYZ.index:\n",
    "    x_ind = ind[:len(X)]\n",
    "    y_ind = ind[len(X):len(X + Y)]\n",
    "    z_ind = ind[len(X + Y):]\n",
    "\n",
    "    xz_ind = x_ind + z_ind\n",
    "    yz_ind = y_ind + z_ind\n",
    "    xyz_ind = ind\n",
    "\n",
    "    z_ind = pd.MultiIndex.from_tuples([z_ind], names=Z) if len(Z) != 1 else pd.Index(z_ind, name=Z[0])\n",
    "    xz_ind = pd.MultiIndex.from_tuples([xz_ind], names=X + Z)\n",
    "    yz_ind = pd.MultiIndex.from_tuples([yz_ind], names=Y + Z)\n",
    "    xyz_ind = pd.MultiIndex.from_tuples([xyz_ind], names=X + Y + Z)\n",
    "\n",
    "    cmi += delta * P_XYZ[xyz_ind].item() * np.log2(\n",
    "      P_Z[z_ind].item() * P_XYZ[xyz_ind].item() / (P_XZ[xz_ind].item() * P_YZ[yz_ind].item()))\n",
    "\n",
    "  return cmi"
   ]
  },
  {
   "cell_type": "code",
   "execution_count": 7,
   "metadata": {},
   "outputs": [
    {
     "name": "stdout",
     "output_type": "stream",
     "text": [
      "Conditional Mutual Information: 0.027509775004326952\n"
     ]
    }
   ],
   "source": [
    "data = df # Convert tensor to numpy array\n",
    "sensitive_attributes = [11, 19]\n",
    "\n",
    "# Define different bin sizes for each sensitive attribute\n",
    "bin_sizes = {\n",
    "    11: 4,  # Binary attribute\n",
    "    19: 2  # More categories\n",
    "}\n",
    "\n",
    "\n",
    "# Digitize multiple sensitive attributes with different bin sizes\n",
    "#X_list = [\n",
    " #   np.digitize(data[:, col], bins=np.linspace(data[:, col].min(), data[:, col].max(), bin_sizes[col] + 1))\n",
    "  #  for col in sensitive_attributes\n",
    "#]\n",
    "#x = np.column_stack(X_list)\n",
    "#X = np.digitize(data[:,1],bins=np.linspace(data[:,1].min(), data[:,1].max(),1)) \n",
    "#y =np.digitize(Y,bins=np.linspace(Y.min(), Y.max(),4)) \n",
    "#z =  np.digitize(data[:, 7],bins=np.linspace(data[:, 7].min(), data[:, 7].max(), 4))\n",
    "\n",
    "x = ['sex','age']\n",
    "y = ['class-label']\n",
    "z = ['credit-amount', 'job']\n",
    "\n",
    "\n",
    "cmi_value =conditional_mutual_information(data, x, y, z, delta=1)\n",
    "print(\"Conditional Mutual Information:\", cmi_value)"
   ]
  },
  {
   "cell_type": "markdown",
   "metadata": {},
   "source": [
    "**30% MCAR**"
   ]
  },
  {
   "cell_type": "code",
   "execution_count": 8,
   "metadata": {},
   "outputs": [],
   "source": [
    "generator = Inject_Missing_Values()"
   ]
  },
  {
   "cell_type": "code",
   "execution_count": 9,
   "metadata": {},
   "outputs": [
    {
     "data": {
      "text/plain": [
       "pandas.core.frame.DataFrame"
      ]
     },
     "execution_count": 9,
     "metadata": {},
     "output_type": "execute_result"
    }
   ],
   "source": [
    "miss_mcar30,index_mcar30 = generator.MCAR(X,missing_rate=30)\n",
    "type(miss_mcar30)"
   ]
  },
  {
   "cell_type": "code",
   "execution_count": 10,
   "metadata": {},
   "outputs": [],
   "source": [
    "miss_mcar30_numpy = miss_mcar30.to_numpy()\n",
    "X_numpy = X.to_numpy()\n",
    "Y_numpy = Y.to_numpy()\n",
    "\n",
    "miss_mcar30_tensor = torch.tensor(miss_mcar30_numpy)\n",
    "X_tensor = torch.tensor(X_numpy)\n",
    "Y_tensor = torch.tensor(Y_numpy)"
   ]
  },
  {
   "cell_type": "code",
   "execution_count": 11,
   "metadata": {},
   "outputs": [
    {
     "name": "stdout",
     "output_type": "stream",
     "text": [
      "0.3\n"
     ]
    },
    {
     "name": "stderr",
     "output_type": "stream",
     "text": [
      "INFO:root:Iteration 0:\t Loss: 141462.4873\t Validation MAE: 101.7272\tRMSE: 652.2069\n",
      "INFO:root:Iteration 50:\t Loss: 232787.9238\t Validation MAE: 101.7068\tRMSE: 652.2024\n",
      "INFO:root:Iteration 100:\t Loss: 124714.8034\t Validation MAE: 101.7045\tRMSE: 652.2028\n",
      "INFO:root:Iteration 150:\t Loss: 126743.8962\t Validation MAE: 101.7024\tRMSE: 652.2020\n",
      "INFO:root:Iteration 200:\t Loss: 371995.4443\t Validation MAE: 101.7015\tRMSE: 652.2014\n",
      "INFO:root:Iteration 250:\t Loss: 233921.2374\t Validation MAE: 101.6988\tRMSE: 652.2006\n",
      "INFO:root:Iteration 300:\t Loss: 113255.1189\t Validation MAE: 101.6973\tRMSE: 652.1991\n",
      "INFO:root:Iteration 350:\t Loss: 172153.9468\t Validation MAE: 101.6953\tRMSE: 652.1988\n",
      "INFO:root:Iteration 400:\t Loss: 408844.0164\t Validation MAE: 101.6941\tRMSE: 652.1995\n",
      "INFO:root:Iteration 450:\t Loss: 174546.4256\t Validation MAE: 101.6906\tRMSE: 652.2001\n",
      "INFO:root:Iteration 500:\t Loss: 113432.9790\t Validation MAE: 101.6898\tRMSE: 652.2006\n",
      "INFO:root:Iteration 550:\t Loss: 441937.8325\t Validation MAE: 101.6871\tRMSE: 652.2013\n",
      "INFO:root:Iteration 600:\t Loss: 53580.0679\t Validation MAE: 101.6856\tRMSE: 652.2010\n",
      "INFO:root:Iteration 650:\t Loss: 106325.4622\t Validation MAE: 101.6840\tRMSE: 652.2017\n",
      "INFO:root:Iteration 700:\t Loss: 103189.2467\t Validation MAE: 101.6810\tRMSE: 652.2012\n",
      "INFO:root:Iteration 750:\t Loss: 577595.8904\t Validation MAE: 101.6810\tRMSE: 652.2014\n",
      "INFO:root:Iteration 800:\t Loss: 145937.2865\t Validation MAE: 101.6784\tRMSE: 652.2013\n",
      "INFO:root:Iteration 850:\t Loss: 116198.3507\t Validation MAE: 101.6773\tRMSE: 652.2005\n",
      "INFO:root:Iteration 900:\t Loss: 361723.1214\t Validation MAE: 101.6743\tRMSE: 652.2012\n",
      "INFO:root:Iteration 950:\t Loss: 158839.0612\t Validation MAE: 101.6746\tRMSE: 652.2001\n",
      "INFO:root:Iteration 1000:\t Loss: 94684.7006\t Validation MAE: 101.6728\tRMSE: 652.2002\n",
      "INFO:root:Iteration 1050:\t Loss: 133240.6684\t Validation MAE: 101.6710\tRMSE: 652.1997\n",
      "INFO:root:Iteration 1100:\t Loss: 182431.6890\t Validation MAE: 101.6700\tRMSE: 652.2000\n",
      "INFO:root:Iteration 1150:\t Loss: 289276.1706\t Validation MAE: 101.6682\tRMSE: 652.2004\n",
      "INFO:root:Iteration 1200:\t Loss: 159699.0094\t Validation MAE: 101.6670\tRMSE: 652.2001\n",
      "INFO:root:Iteration 1250:\t Loss: 214210.0650\t Validation MAE: 101.6654\tRMSE: 652.1998\n",
      "INFO:root:Iteration 1300:\t Loss: 286376.9990\t Validation MAE: 101.6646\tRMSE: 652.1998\n",
      "INFO:root:Iteration 1350:\t Loss: 514587.0143\t Validation MAE: 101.6634\tRMSE: 652.2009\n",
      "INFO:root:Iteration 1400:\t Loss: 932162.2456\t Validation MAE: 101.6631\tRMSE: 652.2014\n",
      "INFO:root:Iteration 1450:\t Loss: 311059.5113\t Validation MAE: 101.6625\tRMSE: 652.2011\n",
      "INFO:root:Iteration 1500:\t Loss: 555386.8871\t Validation MAE: 101.6629\tRMSE: 652.2015\n",
      "INFO:root:Iteration 1550:\t Loss: 94421.3125\t Validation MAE: 101.6620\tRMSE: 652.2008\n",
      "INFO:root:Iteration 1600:\t Loss: 327128.1987\t Validation MAE: 101.6607\tRMSE: 652.2005\n",
      "INFO:root:Iteration 1650:\t Loss: 94423.1930\t Validation MAE: 101.6602\tRMSE: 652.1994\n",
      "INFO:root:Iteration 1700:\t Loss: 157383.8797\t Validation MAE: 101.6590\tRMSE: 652.1994\n",
      "INFO:root:Iteration 1750:\t Loss: 94323.8483\t Validation MAE: 101.6589\tRMSE: 652.2005\n",
      "INFO:root:Iteration 1800:\t Loss: 482435.1087\t Validation MAE: 101.6590\tRMSE: 652.2002\n",
      "INFO:root:Iteration 1850:\t Loss: 208230.8031\t Validation MAE: 101.6585\tRMSE: 652.2006\n",
      "INFO:root:Iteration 1900:\t Loss: 384774.0506\t Validation MAE: 101.6572\tRMSE: 652.2000\n",
      "INFO:root:Iteration 1950:\t Loss: 55726.1221\t Validation MAE: 101.6582\tRMSE: 652.2004\n"
     ]
    }
   ],
   "source": [
    "#sinkhorn\n",
    "n_mcar30, d_mcar30 = miss_mcar30_tensor.shape\n",
    "batchsize = 128 # If the batch size is larger than half the dataset's size,\n",
    "                # it will be redefined in the imputation methods.\n",
    "lr = 1e-2\n",
    "#epsilon_mcar30 = pick_epsilon(data_mcar30)\n",
    "epsilon_mcar30 = 0.3\n",
    "print(epsilon_mcar30)\n",
    "\n",
    "\n",
    "sk_imputer_mcar30 = SinkhornImputation_CMI(eps=epsilon_mcar30, batchsize=batchsize, lr=lr, niter=2000)\n",
    "sk_imp_mcar30, sk_maes30mcar, sk_rmses30mcar,sk_loss_mcar30 = sk_imputer_mcar30.fit_transform(miss_mcar30_tensor, verbose=True, report_interval=50, X_true=X_tensor)\n",
    "#using numpy version of data\n",
    "#sk_imp_mcar30_numpy = sk_imp_mcar30.detach().cpu().numpy()\n",
    "\n",
    "#sk_mae_mcar30 = MAE(sk_imp_mcar30_numpy,ground_truth_numpy ,mask_mcar30)\n",
    "#sk_rmse_mcar30 = RMSE(sk_imp_mcar30_numpy, ground_truth_numpy,mask_mcar30)\n",
    "#print(sk_mae_mcar30,sk_rmse_mcar30)"
   ]
  },
  {
   "cell_type": "code",
   "execution_count": 12,
   "metadata": {},
   "outputs": [
    {
     "name": "stdout",
     "output_type": "stream",
     "text": [
      "tensor([[ 1.2977,  6.0000,  0.9053,  ...,  1.0000,  1.0000,  0.0000],\n",
      "        [ 0.0000, 48.0000,  1.0000,  ...,  1.0000,  0.8067,  0.0000],\n",
      "        [ 3.0000, 12.0000,  0.0000,  ...,  0.9931,  1.0000,  0.0000],\n",
      "        ...,\n",
      "        [ 3.0000, 12.0000,  0.8682,  ...,  0.9894,  1.0000,  0.0000],\n",
      "        [ 1.6850, 45.0000,  1.0000,  ...,  1.0000,  1.0000,  0.0000],\n",
      "        [ 1.6568, 45.0000,  1.1246,  ...,  0.9603,  1.0000,  0.0000]],\n",
      "       grad_fn=<IndexPutBackward0>)\n"
     ]
    }
   ],
   "source": [
    "print(sk_imp_mcar30)"
   ]
  },
  {
   "cell_type": "code",
   "execution_count": 13,
   "metadata": {},
   "outputs": [],
   "source": [
    "X_list = [1,4,7]\n",
    "Y_list = [9]\n",
    "Z_list = [3]"
   ]
  },
  {
   "cell_type": "code",
   "execution_count": 19,
   "metadata": {},
   "outputs": [
    {
     "name": "stdout",
     "output_type": "stream",
     "text": [
      "tensor([[ 4,  0,  2,  ...,  9,  9,  0],\n",
      "        [-1,  6,  2,  ...,  9,  8,  0],\n",
      "        [ 9,  1, -1,  ...,  9,  9,  0],\n",
      "        ...,\n",
      "        [ 9,  1,  2,  ...,  9,  9,  0],\n",
      "        [ 5,  6,  2,  ...,  9,  9,  0],\n",
      "        [ 5,  6,  2,  ...,  9,  9,  0]])\n"
     ]
    }
   ],
   "source": [
    "import torch\n",
    "\n",
    "import torch\n",
    "\n",
    "def bucketize_torch(data, bins=10, method=\"uniform\"):\n",
    "    \"\"\"\n",
    "    Bucketizes continuous data into discrete bins using PyTorch.\n",
    "\n",
    "    :param data: PyTorch tensor of shape (N, D)\n",
    "    :param bins: Number of bins\n",
    "    :param method: \"uniform\" (equal width) or \"quantile\" (equal frequency)\n",
    "    :return: Discretized data (Tensor of bin indices)\n",
    "    \"\"\"\n",
    "    # Ensure tensor is detached (no gradients)\n",
    "    data = data.detach()\n",
    "\n",
    "    # Initialize tensor for bucketized data\n",
    "    bucketized_data = torch.zeros_like(data, dtype=torch.int64)\n",
    "\n",
    "    for i in range(data.shape[1]):  # Loop over features\n",
    "        feature = data[:, i]  # Extract column\n",
    "\n",
    "        if method == \"uniform\":\n",
    "            min_val, max_val = feature.min(), feature.max()\n",
    "            bin_edges = torch.linspace(min_val, max_val, bins + 1)\n",
    "        elif method == \"quantile\":\n",
    "            bin_edges = torch.quantile(feature, torch.linspace(0, 1, bins + 1))\n",
    "\n",
    "        # Apply bucketization\n",
    "        bucketized_data[:, i] = torch.bucketize(feature, bin_edges) - 1  # Start bins from 0\n",
    "\n",
    "    return bucketized_data\n",
    "  # Bins start from 0\n",
    "\n",
    "# Example usage\n",
    "data_torch = sk_imp_mcar30  # 1000 samples, 10 continuous features\n",
    "binned_data_torch = bucketize_torch(data_torch, bins=10,method=\"uniform\")\n",
    "print(binned_data_torch)\n"
   ]
  },
  {
   "cell_type": "code",
   "execution_count": 20,
   "metadata": {},
   "outputs": [],
   "source": [
    "def compute_probabilities(data, vars_list):\n",
    "    \"\"\" Compute probability distributions over given variables \"\"\"\n",
    "    unique, counts = torch.unique(data[:, vars_list], dim=0, return_counts=True)\n",
    "    probs = counts.float() / data.shape[0]\n",
    "    return unique, probs\n",
    "\n",
    "def conditional_mutual_information_torch(data, X, Y, Z, delta=1):\n",
    "    \"\"\"\n",
    "    Compute Conditional Mutual Information I(X;Y|Z) using PyTorch tensors.\n",
    "\n",
    "    :param data: PyTorch tensor of shape (N, D) (discretized)\n",
    "    :param X: List of column indices for variable X\n",
    "    :param Y: List of column indices for variable Y\n",
    "    :param Z: List of column indices for variable Z\n",
    "    :param delta: Smoothing parameter to avoid log(0)\n",
    "    :return: Conditional Mutual Information (scalar)\n",
    "    \"\"\"\n",
    "    # Compute probability distributions\n",
    "    unique_Z, P_Z = compute_probabilities(data, Z)\n",
    "    unique_XZ, P_XZ = compute_probabilities(data, X + Z)\n",
    "    unique_YZ, P_YZ = compute_probabilities(data, Y + Z)\n",
    "    unique_XYZ, P_XYZ = compute_probabilities(data, X + Y + Z)\n",
    "\n",
    "    # Compute CMI\n",
    "    cmi = 0\n",
    "    for i in range(len(unique_XYZ)):\n",
    "        xyz = unique_XYZ[i]\n",
    "        z = xyz[len(X + Y):]  # Extract Z values\n",
    "        xz = torch.cat((xyz[:len(X)], z))  # Concatenate X and Z\n",
    "        yz = torch.cat((xyz[len(X):len(X + Y)], z))  # Concatenate Y and Z\n",
    "\n",
    "        # Ensure index matching\n",
    "        mask_z = (unique_Z == z).all(dim=1)\n",
    "        mask_xz = (unique_XZ == xz).all(dim=1)\n",
    "        mask_yz = (unique_YZ == yz).all(dim=1)\n",
    "\n",
    "        if mask_z.any() and mask_xz.any() and mask_yz.any():\n",
    "            P_z = P_Z[mask_z].sum()\n",
    "            P_xyz = P_XYZ[i]\n",
    "            P_xz = P_XZ[mask_xz].sum()\n",
    "            P_yz = P_YZ[mask_yz].sum()\n",
    "\n",
    "            # Compute contribution to CMI (avoid log(0) by adding delta)\n",
    "            cmi += delta * P_xyz * torch.log2((P_z * P_xyz) / (P_xz * P_yz + 1e-10))\n",
    "\n",
    "    return cmi.item()  # Convert to Python scalar\n"
   ]
  },
  {
   "cell_type": "code",
   "execution_count": 21,
   "metadata": {},
   "outputs": [
    {
     "name": "stdout",
     "output_type": "stream",
     "text": [
      "Discrete CMI: 1.6440\n"
     ]
    }
   ],
   "source": [
    "# Generate synthetic dataset (continuous values)\n",
    "data_torch = torch.randn(1000, 10)  # 1000 samples, 10 continuous features\n",
    "\n",
    "# Define multiple feature sets\n",
    "X = [0, 6, 9]  # Three features for X\n",
    "Y = [2, 4]  # Two features for Y\n",
    "Z = [3, 5, 7]  # Three features for Z\n",
    "\n",
    "# Convert continuous data to discrete bins\n",
    "binned_data = bucketize_torch(sk_imp_mcar30, bins=10, method=\"uniform\")\n",
    "\n",
    "# Compute Conditional Mutual Information (CMI) on discretized data\n",
    "cmi_value = conditional_mutual_information_torch(binned_data, X, Y, Z)\n",
    "print(f\"Discrete CMI: {cmi_value:.4f}\")\n"
   ]
  }
 ],
 "metadata": {
  "kernelspec": {
   "display_name": "Python 3",
   "language": "python",
   "name": "python3"
  },
  "language_info": {
   "codemirror_mode": {
    "name": "ipython",
    "version": 3
   },
   "file_extension": ".py",
   "mimetype": "text/x-python",
   "name": "python",
   "nbconvert_exporter": "python",
   "pygments_lexer": "ipython3",
   "version": "3.12.6"
  }
 },
 "nbformat": 4,
 "nbformat_minor": 2
}
