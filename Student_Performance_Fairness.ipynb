{
 "cells": [
  {
   "cell_type": "code",
   "execution_count": 1,
   "metadata": {},
   "outputs": [
    {
     "name": "stdout",
     "output_type": "stream",
     "text": [
      "Requirement already satisfied: pot in c:\\users\\zhossai3\\appdata\\local\\programs\\python\\python312\\lib\\site-packages (0.9.4)\n",
      "Requirement already satisfied: numpy>=1.16 in c:\\users\\zhossai3\\appdata\\local\\programs\\python\\python312\\lib\\site-packages (from pot) (2.1.2)\n",
      "Requirement already satisfied: scipy>=1.6 in c:\\users\\zhossai3\\appdata\\local\\programs\\python\\python312\\lib\\site-packages (from pot) (1.14.1)\n"
     ]
    },
    {
     "name": "stderr",
     "output_type": "stream",
     "text": [
      "\n",
      "[notice] A new release of pip is available: 24.2 -> 24.3.1\n",
      "[notice] To update, run: python.exe -m pip install --upgrade pip\n"
     ]
    },
    {
     "name": "stdout",
     "output_type": "stream",
     "text": [
      "Requirement already satisfied: torch in c:\\users\\zhossai3\\appdata\\local\\programs\\python\\python312\\lib\\site-packages (2.5.1)\n",
      "Requirement already satisfied: filelock in c:\\users\\zhossai3\\appdata\\local\\programs\\python\\python312\\lib\\site-packages (from torch) (3.16.1)\n",
      "Requirement already satisfied: typing-extensions>=4.8.0 in c:\\users\\zhossai3\\appdata\\local\\programs\\python\\python312\\lib\\site-packages (from torch) (4.12.2)\n",
      "Requirement already satisfied: networkx in c:\\users\\zhossai3\\appdata\\local\\programs\\python\\python312\\lib\\site-packages (from torch) (3.4.2)\n",
      "Requirement already satisfied: jinja2 in c:\\users\\zhossai3\\appdata\\local\\programs\\python\\python312\\lib\\site-packages (from torch) (3.1.4)\n",
      "Requirement already satisfied: fsspec in c:\\users\\zhossai3\\appdata\\local\\programs\\python\\python312\\lib\\site-packages (from torch) (2024.10.0)\n",
      "Requirement already satisfied: setuptools in c:\\users\\zhossai3\\appdata\\local\\programs\\python\\python312\\lib\\site-packages (from torch) (75.3.0)\n",
      "Requirement already satisfied: sympy==1.13.1 in c:\\users\\zhossai3\\appdata\\local\\programs\\python\\python312\\lib\\site-packages (from torch) (1.13.1)\n",
      "Requirement already satisfied: mpmath<1.4,>=1.1.0 in c:\\users\\zhossai3\\appdata\\local\\programs\\python\\python312\\lib\\site-packages (from sympy==1.13.1->torch) (1.3.0)\n",
      "Requirement already satisfied: MarkupSafe>=2.0 in c:\\users\\zhossai3\\appdata\\local\\programs\\python\\python312\\lib\\site-packages (from jinja2->torch) (3.0.2)\n"
     ]
    },
    {
     "name": "stderr",
     "output_type": "stream",
     "text": [
      "\n",
      "[notice] A new release of pip is available: 24.2 -> 24.3.1\n",
      "[notice] To update, run: python.exe -m pip install --upgrade pip\n"
     ]
    },
    {
     "name": "stdout",
     "output_type": "stream",
     "text": [
      "Requirement already satisfied: geomloss in c:\\users\\zhossai3\\appdata\\local\\programs\\python\\python312\\lib\\site-packages (0.2.6)\n",
      "Requirement already satisfied: numpy in c:\\users\\zhossai3\\appdata\\local\\programs\\python\\python312\\lib\\site-packages (from geomloss) (2.1.2)\n",
      "Requirement already satisfied: torch in c:\\users\\zhossai3\\appdata\\local\\programs\\python\\python312\\lib\\site-packages (from geomloss) (2.5.1)\n",
      "Requirement already satisfied: filelock in c:\\users\\zhossai3\\appdata\\local\\programs\\python\\python312\\lib\\site-packages (from torch->geomloss) (3.16.1)\n",
      "Requirement already satisfied: typing-extensions>=4.8.0 in c:\\users\\zhossai3\\appdata\\local\\programs\\python\\python312\\lib\\site-packages (from torch->geomloss) (4.12.2)\n",
      "Requirement already satisfied: networkx in c:\\users\\zhossai3\\appdata\\local\\programs\\python\\python312\\lib\\site-packages (from torch->geomloss) (3.4.2)\n",
      "Requirement already satisfied: jinja2 in c:\\users\\zhossai3\\appdata\\local\\programs\\python\\python312\\lib\\site-packages (from torch->geomloss) (3.1.4)\n",
      "Requirement already satisfied: fsspec in c:\\users\\zhossai3\\appdata\\local\\programs\\python\\python312\\lib\\site-packages (from torch->geomloss) (2024.10.0)\n",
      "Requirement already satisfied: setuptools in c:\\users\\zhossai3\\appdata\\local\\programs\\python\\python312\\lib\\site-packages (from torch->geomloss) (75.3.0)\n",
      "Requirement already satisfied: sympy==1.13.1 in c:\\users\\zhossai3\\appdata\\local\\programs\\python\\python312\\lib\\site-packages (from torch->geomloss) (1.13.1)\n",
      "Requirement already satisfied: mpmath<1.4,>=1.1.0 in c:\\users\\zhossai3\\appdata\\local\\programs\\python\\python312\\lib\\site-packages (from sympy==1.13.1->torch->geomloss) (1.3.0)\n",
      "Requirement already satisfied: MarkupSafe>=2.0 in c:\\users\\zhossai3\\appdata\\local\\programs\\python\\python312\\lib\\site-packages (from jinja2->torch->geomloss) (3.0.2)\n"
     ]
    },
    {
     "name": "stderr",
     "output_type": "stream",
     "text": [
      "\n",
      "[notice] A new release of pip is available: 24.2 -> 24.3.1\n",
      "[notice] To update, run: python.exe -m pip install --upgrade pip\n"
     ]
    },
    {
     "name": "stdout",
     "output_type": "stream",
     "text": [
      "Requirement already satisfied: wget in c:\\users\\zhossai3\\appdata\\local\\programs\\python\\python312\\lib\\site-packages (3.2)"
     ]
    },
    {
     "name": "stderr",
     "output_type": "stream",
     "text": [
      "\n",
      "[notice] A new release of pip is available: 24.2 -> 24.3.1\n",
      "[notice] To update, run: python.exe -m pip install --upgrade pip\n"
     ]
    },
    {
     "name": "stdout",
     "output_type": "stream",
     "text": [
      "\n"
     ]
    }
   ],
   "source": [
    "!pip install pot\n",
    "!pip install torch\n",
    "!pip install geomloss\n",
    "!pip install wget"
   ]
  },
  {
   "cell_type": "code",
   "execution_count": 2,
   "metadata": {},
   "outputs": [
    {
     "name": "stderr",
     "output_type": "stream",
     "text": [
      "c:\\Users\\zhossai3\\AppData\\Local\\Programs\\Python\\Python312\\Lib\\site-packages\\torch\\__init__.py:1144: UserWarning: torch.set_default_tensor_type() is deprecated as of PyTorch 2.1, please use torch.set_default_dtype() and torch.set_default_device() as alternatives. (Triggered internally at C:\\actions-runner\\_work\\pytorch\\pytorch\\builder\\windows\\pytorch\\torch\\csrc\\tensor\\python_tensor.cpp:434.)\n",
      "  _C._set_default_tensor_type(t)\n"
     ]
    }
   ],
   "source": [
    "import numpy as np\n",
    "import torch\n",
    "import torch.nn as nn\n",
    "import pandas as pd\n",
    "\n",
    "from geomloss import SamplesLoss\n",
    "\n",
    "import ot\n",
    "\n",
    "import os\n",
    "import pickle as pkl\n",
    "import copy\n",
    "\n",
    "from sklearn.preprocessing import scale\n",
    "from sklearn.experimental import enable_iterative_imputer\n",
    "from sklearn.impute import SimpleImputer, IterativeImputer\n",
    "\n",
    "from utils import *\n",
    "from SoftImpute import softimpute, cv_softimpute\n",
    "from DataSetLoader import dataset_loader, ground_truth\n",
    "from SinkhornImputation import SinkhornImputation\n",
    "from Sinkhorn_CMI import SinkhornImputation_CMI\n",
    "from RR_imputer import RRimputer\n",
    "import matplotlib.pyplot as plt\n",
    "\n",
    "import argparse\n",
    "import logging\n",
    "logger = logging.getLogger()\n",
    "logger.setLevel(logging.INFO)\n",
    "logging.debug(\"test\")\n",
    "\n",
    "torch.set_default_tensor_type('torch.DoubleTensor')"
   ]
  },
  {
   "cell_type": "code",
   "execution_count": 3,
   "metadata": {},
   "outputs": [],
   "source": [
    "Xy = {}\n",
    "with open(r'C:\\Users\\zhossai3\\Desktop\\My code\\OT+Fairness\\Data\\Student_performance_data _.csv', 'rb') as f:\n",
    "        df = pd.read_csv(f, delimiter=',', header = 0)\n",
    "        Xy['data'] = df.values[:, :-1].astype('float')\n",
    "        Xy['target'] =  df.values[:, -1]"
   ]
  },
  {
   "cell_type": "code",
   "execution_count": 4,
   "metadata": {},
   "outputs": [
    {
     "name": "stdout",
     "output_type": "stream",
     "text": [
      "<class 'numpy.ndarray'>\n"
     ]
    }
   ],
   "source": [
    "ground_truth_numpy = scale(Xy['data'])\n",
    "print(type(ground_truth_numpy))"
   ]
  },
  {
   "cell_type": "code",
   "execution_count": 5,
   "metadata": {},
   "outputs": [
    {
     "name": "stdout",
     "output_type": "stream",
     "text": [
      "2.3155349549638786\n",
      "-2.0833445361659098\n",
      "3.484620761622565e-17\n",
      "-0.4318656463623108\n",
      "1.0\n"
     ]
    }
   ],
   "source": [
    "print(np.max(ground_truth_numpy))\n",
    "print(np.min(ground_truth_numpy))\n",
    "print(np.mean(ground_truth_numpy))\n",
    "print(np.median(ground_truth_numpy))\n",
    "print(np.std(ground_truth_numpy))"
   ]
  },
  {
   "cell_type": "code",
   "execution_count": 6,
   "metadata": {},
   "outputs": [
    {
     "name": "stdout",
     "output_type": "stream",
     "text": [
      "[[ 0.47291901  0.97849211 -0.85339088 ...  2.01954358 -0.43186565\n",
      "   1.11808631]\n",
      " [ 1.36294441 -1.02198065 -0.85339088 ... -0.49516139 -0.43186565\n",
      "   1.24237446]\n",
      " [-1.30713178 -1.02198065  1.09164102 ... -0.49516139 -0.43186565\n",
      "  -1.96027719]\n",
      " ...\n",
      " [-0.41710638  0.97849211 -0.85339088 ... -0.49516139  2.31553495\n",
      "  -0.83484487]\n",
      " [-0.41710638  0.97849211  0.11912507 ...  2.01954358 -0.43186565\n",
      "  -0.11245195]\n",
      " [-0.41710638  0.97849211 -0.85339088 ... -0.49516139  2.31553495\n",
      "   0.25555918]]\n"
     ]
    }
   ],
   "source": [
    "print(ground_truth_numpy)"
   ]
  },
  {
   "cell_type": "code",
   "execution_count": 7,
   "metadata": {},
   "outputs": [
    {
     "name": "stdout",
     "output_type": "stream",
     "text": [
      "(2392, 13)\n",
      "tensor(0)\n"
     ]
    }
   ],
   "source": [
    "print(ground_truth_numpy.shape)\n",
    "ground_truth = torch.from_numpy(ground_truth_numpy)\n",
    "print(ground_truth.isnan().sum())"
   ]
  },
  {
   "cell_type": "code",
   "execution_count": 8,
   "metadata": {},
   "outputs": [
    {
     "name": "stdout",
     "output_type": "stream",
     "text": [
      "Percentage of missing values: 29.96%\n"
     ]
    }
   ],
   "source": [
    "#30% MCAR\n",
    "np.random.seed(42)\n",
    "\n",
    "p_macr30 = 0.301\n",
    "\n",
    "\n",
    "mask_mcar30 = np.random.rand(*ground_truth.shape) < p_macr30  # True for missing values, false for others\n",
    "data_mcar30 = np.copy(ground_truth)\n",
    "\n",
    "# Apply the mask to set the selected values to NaN\n",
    "data_mcar30[mask_mcar30] = np.nan\n",
    "\n",
    "# Convert to a torch tensor\n",
    "data_mcar30 = torch.from_numpy(data_mcar30)\n",
    "\n",
    "# Calculate the percentage of missing values\n",
    "missing_values_mcar30 = torch.isnan(data_mcar30)  # Create a boolean tensor where NaNs are True\n",
    "missing_percentage_mcar30 = torch.sum(missing_values_mcar30).item() / data_mcar30.numel() * 100  # Calculate the percentage of NaNs\n",
    "print(f\"Percentage of missing values: {missing_percentage_mcar30:.2f}%\")"
   ]
  },
  {
   "cell_type": "code",
   "execution_count": 9,
   "metadata": {},
   "outputs": [],
   "source": [
    "data_mcar30_numpy = data_mcar30.detach().cpu().numpy()"
   ]
  },
  {
   "cell_type": "code",
   "execution_count": 10,
   "metadata": {},
   "outputs": [
    {
     "name": "stdout",
     "output_type": "stream",
     "text": [
      "0.3\n"
     ]
    }
   ],
   "source": [
    "#sinkhorn\n",
    "n_mcar30, d_mcar30 = data_mcar30.shape\n",
    "batchsize = 128 # If the batch size is larger than half the dataset's size,\n",
    "                # it will be redefined in the imputation methods.\n",
    "lr = 1e-2\n",
    "#epsilon_mcar30 = pick_epsilon(data_mcar30)\n",
    "epsilon_mcar30 = 0.3\n",
    "print(epsilon_mcar30)\n"
   ]
  },
  {
   "cell_type": "code",
   "execution_count": 11,
   "metadata": {},
   "outputs": [
    {
     "name": "stderr",
     "output_type": "stream",
     "text": [
      "INFO:root:Iteration 0:\t Loss: 2.7737\t Validation MAE: 0.8665\tRMSE: 1.0027\n",
      "INFO:root:Iteration 50:\t Loss: 2.9770\t Validation MAE: 0.8312\tRMSE: 1.0024\n",
      "INFO:root:Iteration 100:\t Loss: 2.9984\t Validation MAE: 0.8141\tRMSE: 1.0028\n",
      "INFO:root:Iteration 150:\t Loss: 2.7433\t Validation MAE: 0.8028\tRMSE: 1.0039\n",
      "INFO:root:Iteration 200:\t Loss: 2.8515\t Validation MAE: 0.7934\tRMSE: 1.0040\n",
      "INFO:root:Iteration 250:\t Loss: 2.8209\t Validation MAE: 0.7855\tRMSE: 1.0036\n",
      "INFO:root:Iteration 300:\t Loss: 3.0945\t Validation MAE: 0.7799\tRMSE: 1.0042\n",
      "INFO:root:Iteration 350:\t Loss: 2.7591\t Validation MAE: 0.7739\tRMSE: 1.0039\n",
      "INFO:root:Iteration 400:\t Loss: 2.6672\t Validation MAE: 0.7692\tRMSE: 1.0040\n",
      "INFO:root:Iteration 450:\t Loss: 2.7821\t Validation MAE: 0.7655\tRMSE: 1.0054\n",
      "INFO:root:Iteration 500:\t Loss: 2.9035\t Validation MAE: 0.7625\tRMSE: 1.0066\n",
      "INFO:root:Iteration 550:\t Loss: 2.7817\t Validation MAE: 0.7594\tRMSE: 1.0077\n",
      "INFO:root:Iteration 600:\t Loss: 2.9107\t Validation MAE: 0.7574\tRMSE: 1.0088\n",
      "INFO:root:Iteration 650:\t Loss: 2.6729\t Validation MAE: 0.7548\tRMSE: 1.0094\n",
      "INFO:root:Iteration 700:\t Loss: 2.9186\t Validation MAE: 0.7534\tRMSE: 1.0102\n",
      "INFO:root:Iteration 750:\t Loss: 2.8874\t Validation MAE: 0.7521\tRMSE: 1.0119\n",
      "INFO:root:Iteration 800:\t Loss: 2.9131\t Validation MAE: 0.7520\tRMSE: 1.0137\n",
      "INFO:root:Iteration 850:\t Loss: 2.8123\t Validation MAE: 0.7511\tRMSE: 1.0145\n",
      "INFO:root:Iteration 900:\t Loss: 3.1402\t Validation MAE: 0.7508\tRMSE: 1.0163\n",
      "INFO:root:Iteration 950:\t Loss: 2.7362\t Validation MAE: 0.7503\tRMSE: 1.0175\n",
      "INFO:root:Iteration 1000:\t Loss: 2.8117\t Validation MAE: 0.7504\tRMSE: 1.0187\n",
      "INFO:root:Iteration 1050:\t Loss: 2.7998\t Validation MAE: 0.7500\tRMSE: 1.0195\n",
      "INFO:root:Iteration 1100:\t Loss: 2.6618\t Validation MAE: 0.7510\tRMSE: 1.0211\n",
      "INFO:root:Iteration 1150:\t Loss: 2.4984\t Validation MAE: 0.7507\tRMSE: 1.0228\n",
      "INFO:root:Iteration 1200:\t Loss: 2.7414\t Validation MAE: 0.7504\tRMSE: 1.0231\n",
      "INFO:root:Iteration 1250:\t Loss: 2.7171\t Validation MAE: 0.7500\tRMSE: 1.0237\n",
      "INFO:root:Iteration 1300:\t Loss: 2.8630\t Validation MAE: 0.7493\tRMSE: 1.0234\n",
      "INFO:root:Iteration 1350:\t Loss: 2.8555\t Validation MAE: 0.7491\tRMSE: 1.0236\n",
      "INFO:root:Iteration 1400:\t Loss: 2.6217\t Validation MAE: 0.7486\tRMSE: 1.0240\n",
      "INFO:root:Iteration 1450:\t Loss: 2.8198\t Validation MAE: 0.7485\tRMSE: 1.0252\n",
      "INFO:root:Iteration 1500:\t Loss: 2.7215\t Validation MAE: 0.7490\tRMSE: 1.0259\n",
      "INFO:root:Iteration 1550:\t Loss: 2.9081\t Validation MAE: 0.7484\tRMSE: 1.0259\n",
      "INFO:root:Iteration 1600:\t Loss: 2.6458\t Validation MAE: 0.7485\tRMSE: 1.0264\n",
      "INFO:root:Iteration 1650:\t Loss: 2.6654\t Validation MAE: 0.7496\tRMSE: 1.0281\n",
      "INFO:root:Iteration 1700:\t Loss: 2.6588\t Validation MAE: 0.7492\tRMSE: 1.0282\n",
      "INFO:root:Iteration 1750:\t Loss: 2.8630\t Validation MAE: 0.7496\tRMSE: 1.0293\n",
      "INFO:root:Iteration 1800:\t Loss: 2.5606\t Validation MAE: 0.7495\tRMSE: 1.0293\n",
      "INFO:root:Iteration 1850:\t Loss: 2.6455\t Validation MAE: 0.7495\tRMSE: 1.0303\n",
      "INFO:root:Iteration 1900:\t Loss: 2.6147\t Validation MAE: 0.7501\tRMSE: 1.0309\n",
      "INFO:root:Iteration 1950:\t Loss: 2.6520\t Validation MAE: 0.7496\tRMSE: 1.0314\n"
     ]
    },
    {
     "name": "stdout",
     "output_type": "stream",
     "text": [
      "0.7505793324536785 1.0324116263082257\n"
     ]
    }
   ],
   "source": [
    "sk_imputer_mcar30 = SinkhornImputation_CMI(eps=epsilon_mcar30, batchsize=batchsize, lr=lr, niter=2000)\n",
    "sk_imp_mcar30, sk_maes30mcar, sk_rmses30mcar,sk_loss_mcar30 = sk_imputer_mcar30.fit_transform(data_mcar30, verbose=True, report_interval=50, X_true=ground_truth)\n",
    "#using numpy version of data\n",
    "sk_imp_mcar30_numpy = sk_imp_mcar30.detach().cpu().numpy()\n",
    "\n",
    "sk_mae_mcar30 = MAE(sk_imp_mcar30_numpy,ground_truth_numpy ,mask_mcar30)\n",
    "sk_rmse_mcar30 = RMSE(sk_imp_mcar30_numpy, ground_truth_numpy,mask_mcar30)\n",
    "print(sk_mae_mcar30,sk_rmse_mcar30)"
   ]
  },
  {
   "cell_type": "code",
   "execution_count": 12,
   "metadata": {},
   "outputs": [
    {
     "name": "stdout",
     "output_type": "stream",
     "text": [
      "[2.7737431401194366, 2.9770461252454927, 2.998406644022564, 2.743346869483025, 2.8515496181718696, 2.820886468929702, 3.0945260886941255, 2.759101060792551, 2.667187188942618, 2.7821353696233304, 2.90352123844334, 2.7816930399163615, 2.9106923936721407, 2.672872874558241, 2.9185572040182226, 2.8874084136951055, 2.9130702456069324, 2.8123467830280644, 3.1401935339967686, 2.7362042932800987, 2.811667405983888, 2.7998290641609938, 2.661798793117927, 2.498378163757593, 2.7413687982767465, 2.7171080133020498, 2.863025572275379, 2.855503298802488, 2.6216611721509286, 2.81979056041702, 2.7214839643827617, 2.908103765559663, 2.64578565061602, 2.6654213759034486, 2.6588211605170837, 2.8630023203882162, 2.560562994067792, 2.6454583300357353, 2.6147453981345192, 2.6520095388076457]\n"
     ]
    }
   ],
   "source": [
    "print(sk_loss_mcar30)\n",
    "#sk_loss_mcar30.clear"
   ]
  },
  {
   "cell_type": "code",
   "execution_count": 13,
   "metadata": {},
   "outputs": [
    {
     "data": {
      "image/png": "[encoded data removed]",
      "text/plain": [
       "<Figure size 800x500 with 1 Axes>"
      ]
     },
     "metadata": {},
     "output_type": "display_data"
    }
   ],
   "source": [
    "# Convert the list of losses to a NumPy array\n",
    "\n",
    "iterations = np.linspace(0, 2000, 50).astype(int)\n",
    "\n",
    "\n",
    "\n",
    "loss_values = sk_loss_mcar30\n",
    "\n",
    "\n",
    "# Assuming cmi_penalty_history is also a list, convert it to a NumPy array\n",
    "#cmi_penalty_history_numpy = np.array(cmi_penalty_history)\n",
    "\n",
    "# Total loss calculation\n",
    "#total_loss = sk_loss_mcar30_numpy + cmi_penalty_history_numpy\n",
    "if len(loss_values) > len(iterations):\n",
    "    loss_values = loss_values[:len(iterations)]\n",
    "elif len(loss_values) < len(iterations):\n",
    "    iterations = iterations[:len(loss_values)]\n",
    "\n",
    "\n",
    "\n",
    "# Plotting\n",
    "plt.figure(figsize=(8, 5))\n",
    "plt.plot(iterations, loss_values, color='b', linestyle='-', marker='o', label=\"Loss Value\")\n",
    "plt.xlabel(\"Iterations\")\n",
    "plt.ylabel(\"Loss Value\")\n",
    "plt.title(\"Loss Curve\")\n",
    "plt.legend()\n",
    "plt.grid(True)\n",
    "\n",
    "# Show the plot\n",
    "plt.show()\n",
    "\n"
   ]
  }
 ],
 "metadata": {
  "kernelspec": {
   "display_name": "Python 3",
   "language": "python",
   "name": "python3"
  },
  "language_info": {
   "codemirror_mode": {
    "name": "ipython",
    "version": 3
   },
   "file_extension": ".py",
   "mimetype": "text/x-python",
   "name": "python",
   "nbconvert_exporter": "python",
   "pygments_lexer": "ipython3",
   "version": "3.12.6"
  }
 },
 "nbformat": 4,
 "nbformat_minor": 2
}
