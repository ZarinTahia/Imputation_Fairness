{
 "cells": [
  {
   "cell_type": "code",
   "execution_count": 1,
   "metadata": {},
   "outputs": [
    {
     "name": "stdout",
     "output_type": "stream",
     "text": [
      "Requirement already satisfied: pot in c:\\users\\zhossai3\\appdata\\local\\programs\\python\\python312\\lib\\site-packages (0.9.4)\n",
      "Requirement already satisfied: numpy>=1.16 in c:\\users\\zhossai3\\appdata\\local\\programs\\python\\python312\\lib\\site-packages (from pot) (2.0.2)\n",
      "Requirement already satisfied: scipy>=1.6 in c:\\users\\zhossai3\\appdata\\local\\programs\\python\\python312\\lib\\site-packages (from pot) (1.14.1)\n"
     ]
    },
    {
     "name": "stderr",
     "output_type": "stream",
     "text": [
      "\n",
      "[notice] A new release of pip is available: 24.2 -> 25.0.1\n",
      "[notice] To update, run: python.exe -m pip install --upgrade pip\n"
     ]
    },
    {
     "name": "stdout",
     "output_type": "stream",
     "text": [
      "Requirement already satisfied: torch in c:\\users\\zhossai3\\appdata\\local\\programs\\python\\python312\\lib\\site-packages (2.5.1)\n",
      "Requirement already satisfied: filelock in c:\\users\\zhossai3\\appdata\\local\\programs\\python\\python312\\lib\\site-packages (from torch) (3.16.1)\n",
      "Requirement already satisfied: typing-extensions>=4.8.0 in c:\\users\\zhossai3\\appdata\\local\\programs\\python\\python312\\lib\\site-packages (from torch) (4.12.2)\n",
      "Requirement already satisfied: networkx in c:\\users\\zhossai3\\appdata\\local\\programs\\python\\python312\\lib\\site-packages (from torch) (3.4.2)\n",
      "Requirement already satisfied: jinja2 in c:\\users\\zhossai3\\appdata\\local\\programs\\python\\python312\\lib\\site-packages (from torch) (3.1.4)\n",
      "Requirement already satisfied: fsspec in c:\\users\\zhossai3\\appdata\\local\\programs\\python\\python312\\lib\\site-packages (from torch) (2024.10.0)\n",
      "Requirement already satisfied: setuptools in c:\\users\\zhossai3\\appdata\\local\\programs\\python\\python312\\lib\\site-packages (from torch) (75.3.0)\n",
      "Requirement already satisfied: sympy==1.13.1 in c:\\users\\zhossai3\\appdata\\local\\programs\\python\\python312\\lib\\site-packages (from torch) (1.13.1)\n",
      "Requirement already satisfied: mpmath<1.4,>=1.1.0 in c:\\users\\zhossai3\\appdata\\local\\programs\\python\\python312\\lib\\site-packages (from sympy==1.13.1->torch) (1.3.0)\n",
      "Requirement already satisfied: MarkupSafe>=2.0 in c:\\users\\zhossai3\\appdata\\local\\programs\\python\\python312\\lib\\site-packages (from jinja2->torch) (3.0.2)\n"
     ]
    },
    {
     "name": "stderr",
     "output_type": "stream",
     "text": [
      "\n",
      "[notice] A new release of pip is available: 24.2 -> 25.0.1\n",
      "[notice] To update, run: python.exe -m pip install --upgrade pip\n"
     ]
    },
    {
     "name": "stdout",
     "output_type": "stream",
     "text": [
      "Requirement already satisfied: geomloss in c:\\users\\zhossai3\\appdata\\local\\programs\\python\\python312\\lib\\site-packages (0.2.6)"
     ]
    },
    {
     "name": "stderr",
     "output_type": "stream",
     "text": [
      "\n",
      "[notice] A new release of pip is available: 24.2 -> 25.0.1\n",
      "[notice] To update, run: python.exe -m pip install --upgrade pip\n"
     ]
    },
    {
     "name": "stdout",
     "output_type": "stream",
     "text": [
      "\n",
      "Requirement already satisfied: numpy in c:\\users\\zhossai3\\appdata\\local\\programs\\python\\python312\\lib\\site-packages (from geomloss) (2.0.2)\n",
      "Requirement already satisfied: torch in c:\\users\\zhossai3\\appdata\\local\\programs\\python\\python312\\lib\\site-packages (from geomloss) (2.5.1)\n",
      "Requirement already satisfied: filelock in c:\\users\\zhossai3\\appdata\\local\\programs\\python\\python312\\lib\\site-packages (from torch->geomloss) (3.16.1)\n",
      "Requirement already satisfied: typing-extensions>=4.8.0 in c:\\users\\zhossai3\\appdata\\local\\programs\\python\\python312\\lib\\site-packages (from torch->geomloss) (4.12.2)\n",
      "Requirement already satisfied: networkx in c:\\users\\zhossai3\\appdata\\local\\programs\\python\\python312\\lib\\site-packages (from torch->geomloss) (3.4.2)\n",
      "Requirement already satisfied: jinja2 in c:\\users\\zhossai3\\appdata\\local\\programs\\python\\python312\\lib\\site-packages (from torch->geomloss) (3.1.4)\n",
      "Requirement already satisfied: fsspec in c:\\users\\zhossai3\\appdata\\local\\programs\\python\\python312\\lib\\site-packages (from torch->geomloss) (2024.10.0)\n",
      "Requirement already satisfied: setuptools in c:\\users\\zhossai3\\appdata\\local\\programs\\python\\python312\\lib\\site-packages (from torch->geomloss) (75.3.0)\n",
      "Requirement already satisfied: sympy==1.13.1 in c:\\users\\zhossai3\\appdata\\local\\programs\\python\\python312\\lib\\site-packages (from torch->geomloss) (1.13.1)\n",
      "Requirement already satisfied: mpmath<1.4,>=1.1.0 in c:\\users\\zhossai3\\appdata\\local\\programs\\python\\python312\\lib\\site-packages (from sympy==1.13.1->torch->geomloss) (1.3.0)\n",
      "Requirement already satisfied: MarkupSafe>=2.0 in c:\\users\\zhossai3\\appdata\\local\\programs\\python\\python312\\lib\\site-packages (from jinja2->torch->geomloss) (3.0.2)\n",
      "Requirement already satisfied: wget in c:\\users\\zhossai3\\appdata\\local\\programs\\python\\python312\\lib\\site-packages (3.2)\n"
     ]
    },
    {
     "name": "stderr",
     "output_type": "stream",
     "text": [
      "\n",
      "[notice] A new release of pip is available: 24.2 -> 25.0.1\n",
      "[notice] To update, run: python.exe -m pip install --upgrade pip\n"
     ]
    },
    {
     "name": "stdout",
     "output_type": "stream",
     "text": [
      "Requirement already satisfied: mdatagen in c:\\users\\zhossai3\\appdata\\local\\programs\\python\\python312\\lib\\site-packages (0.1.71)"
     ]
    },
    {
     "name": "stderr",
     "output_type": "stream",
     "text": [
      "\n",
      "[notice] A new release of pip is available: 24.2 -> 25.0.1\n",
      "[notice] To update, run: python.exe -m pip install --upgrade pip\n"
     ]
    },
    {
     "name": "stdout",
     "output_type": "stream",
     "text": [
      "\n",
      "Requirement already satisfied: numpy>=1.25.0 in c:\\users\\zhossai3\\appdata\\local\\programs\\python\\python312\\lib\\site-packages (from mdatagen) (2.0.2)\n",
      "Requirement already satisfied: pandas>=2.0.3 in c:\\users\\zhossai3\\appdata\\local\\programs\\python\\python312\\lib\\site-packages (from mdatagen) (2.2.3)\n",
      "Requirement already satisfied: scikit-learn>=1.3.0 in c:\\users\\zhossai3\\appdata\\local\\programs\\python\\python312\\lib\\site-packages (from mdatagen) (1.5.2)\n",
      "Requirement already satisfied: missingno>=0.5.2 in c:\\users\\zhossai3\\appdata\\local\\programs\\python\\python312\\lib\\site-packages (from mdatagen) (0.5.2)\n",
      "Requirement already satisfied: scipy>=1.11.4 in c:\\users\\zhossai3\\appdata\\local\\programs\\python\\python312\\lib\\site-packages (from mdatagen) (1.14.1)\n",
      "Requirement already satisfied: matplotlib in c:\\users\\zhossai3\\appdata\\local\\programs\\python\\python312\\lib\\site-packages (from missingno>=0.5.2->mdatagen) (3.9.2)\n",
      "Requirement already satisfied: seaborn in c:\\users\\zhossai3\\appdata\\local\\programs\\python\\python312\\lib\\site-packages (from missingno>=0.5.2->mdatagen) (0.13.2)\n",
      "Requirement already satisfied: python-dateutil>=2.8.2 in c:\\users\\zhossai3\\appdata\\roaming\\python\\python312\\site-packages (from pandas>=2.0.3->mdatagen) (2.9.0.post0)\n",
      "Requirement already satisfied: pytz>=2020.1 in c:\\users\\zhossai3\\appdata\\local\\programs\\python\\python312\\lib\\site-packages (from pandas>=2.0.3->mdatagen) (2024.2)\n",
      "Requirement already satisfied: tzdata>=2022.7 in c:\\users\\zhossai3\\appdata\\local\\programs\\python\\python312\\lib\\site-packages (from pandas>=2.0.3->mdatagen) (2024.2)\n",
      "Requirement already satisfied: joblib>=1.2.0 in c:\\users\\zhossai3\\appdata\\local\\programs\\python\\python312\\lib\\site-packages (from scikit-learn>=1.3.0->mdatagen) (1.4.2)\n",
      "Requirement already satisfied: threadpoolctl>=3.1.0 in c:\\users\\zhossai3\\appdata\\local\\programs\\python\\python312\\lib\\site-packages (from scikit-learn>=1.3.0->mdatagen) (3.5.0)\n",
      "Requirement already satisfied: six>=1.5 in c:\\users\\zhossai3\\appdata\\roaming\\python\\python312\\site-packages (from python-dateutil>=2.8.2->pandas>=2.0.3->mdatagen) (1.16.0)\n",
      "Requirement already satisfied: contourpy>=1.0.1 in c:\\users\\zhossai3\\appdata\\local\\programs\\python\\python312\\lib\\site-packages (from matplotlib->missingno>=0.5.2->mdatagen) (1.3.0)\n",
      "Requirement already satisfied: cycler>=0.10 in c:\\users\\zhossai3\\appdata\\local\\programs\\python\\python312\\lib\\site-packages (from matplotlib->missingno>=0.5.2->mdatagen) (0.12.1)\n",
      "Requirement already satisfied: fonttools>=4.22.0 in c:\\users\\zhossai3\\appdata\\local\\programs\\python\\python312\\lib\\site-packages (from matplotlib->missingno>=0.5.2->mdatagen) (4.54.1)\n",
      "Requirement already satisfied: kiwisolver>=1.3.1 in c:\\users\\zhossai3\\appdata\\local\\programs\\python\\python312\\lib\\site-packages (from matplotlib->missingno>=0.5.2->mdatagen) (1.4.7)\n",
      "Requirement already satisfied: packaging>=20.0 in c:\\users\\zhossai3\\appdata\\roaming\\python\\python312\\site-packages (from matplotlib->missingno>=0.5.2->mdatagen) (24.1)\n",
      "Requirement already satisfied: pillow>=8 in c:\\users\\zhossai3\\appdata\\local\\programs\\python\\python312\\lib\\site-packages (from matplotlib->missingno>=0.5.2->mdatagen) (10.4.0)\n",
      "Requirement already satisfied: pyparsing>=2.3.1 in c:\\users\\zhossai3\\appdata\\local\\programs\\python\\python312\\lib\\site-packages (from matplotlib->missingno>=0.5.2->mdatagen) (3.1.4)\n"
     ]
    }
   ],
   "source": [
    "!pip install pot\n",
    "!pip install torch\n",
    "!pip install geomloss\n",
    "!pip install wget\n",
    "!pip install mdatagen"
   ]
  },
  {
   "cell_type": "code",
   "execution_count": 2,
   "metadata": {},
   "outputs": [
    {
     "ename": "ModuleNotFoundError",
     "evalue": "No module named 'SoftImpute'",
     "output_type": "error",
     "traceback": [
      "\u001b[1;31m---------------------------------------------------------------------------\u001b[0m",
      "\u001b[1;31mModuleNotFoundError\u001b[0m                       Traceback (most recent call last)",
      "Cell \u001b[1;32mIn[2], line 19\u001b[0m\n\u001b[0;32m     16\u001b[0m \u001b[38;5;28;01mfrom\u001b[39;00m \u001b[38;5;21;01msklearn\u001b[39;00m\u001b[38;5;21;01m.\u001b[39;00m\u001b[38;5;21;01mimpute\u001b[39;00m \u001b[38;5;28;01mimport\u001b[39;00m SimpleImputer, IterativeImputer\n\u001b[0;32m     18\u001b[0m \u001b[38;5;28;01mfrom\u001b[39;00m \u001b[38;5;21;01mutils\u001b[39;00m \u001b[38;5;28;01mimport\u001b[39;00m \u001b[38;5;241m*\u001b[39m\n\u001b[1;32m---> 19\u001b[0m \u001b[38;5;28;01mfrom\u001b[39;00m \u001b[38;5;21;01mSoftImpute\u001b[39;00m \u001b[38;5;28;01mimport\u001b[39;00m softimpute, cv_softimpute\n\u001b[0;32m     20\u001b[0m \u001b[38;5;28;01mfrom\u001b[39;00m \u001b[38;5;21;01mDataSetLoader\u001b[39;00m \u001b[38;5;28;01mimport\u001b[39;00m dataset_loader, ground_truth\n\u001b[0;32m     21\u001b[0m \u001b[38;5;28;01mfrom\u001b[39;00m \u001b[38;5;21;01mSinkhornImputation\u001b[39;00m \u001b[38;5;28;01mimport\u001b[39;00m SinkhornImputation\n",
      "\u001b[1;31mModuleNotFoundError\u001b[0m: No module named 'SoftImpute'"
     ]
    }
   ],
   "source": [
    "import numpy as np\n",
    "import torch\n",
    "import torch.nn as nn\n",
    "import pandas as pd\n",
    "\n",
    "from geomloss import SamplesLoss\n",
    "\n",
    "import ot\n",
    "\n",
    "import os\n",
    "import pickle as pkl\n",
    "import copy\n",
    "\n",
    "from sklearn.preprocessing import scale\n",
    "from sklearn.experimental import enable_iterative_imputer\n",
    "from sklearn.impute import SimpleImputer, IterativeImputer\n",
    "\n",
    "from utils import *\n",
    "from DataSetLoader import dataset_loader, ground_truth\n",
    "from SinkhornImputation import SinkhornImputation\n",
    "from RR_imputer import RRimputer\n",
    "import matplotlib.pyplot as plt\n",
    "from  nulls_injector import NullsInjector\n",
    "from Inject_Missing_Values import *\n",
    "from Miss import *\n",
    "\n",
    "import argparse\n",
    "import logging\n",
    "logger = logging.getLogger()\n",
    "logger.setLevel(logging.INFO)\n",
    "logging.debug(\"test\")\n",
    "import pandas as pd\n",
    "\n",
    "torch.set_default_tensor_type('torch.DoubleTensor')\n",
    "\n",
    "import pandas as pd\n",
    "import numpy as np\n",
    "import matplotlib.pyplot as plt\n",
    "import networkx as nx\n",
    "from pgmpy.models import BayesianNetwork\n",
    "from pgmpy.estimators import HillClimbSearch, BicScore\n",
    "from pgmpy.estimators import MaximumLikelihoodEstimator\n",
    "from pgmpy.inference import VariableElimination\n"
   ]
  },
  {
   "cell_type": "markdown",
   "metadata": {},
   "source": [
    "**Load the Dataset**"
   ]
  },
  {
   "cell_type": "code",
   "execution_count": null,
   "metadata": {},
   "outputs": [],
   "source": [
    "Student_performance = pd.read_csv(r\"C:\\Users\\zhossai3\\Desktop\\My code\\OT+ Fairness\\Data\\Student_performance_data _.csv\")"
   ]
  },
  {
   "cell_type": "code",
   "execution_count": null,
   "metadata": {},
   "outputs": [],
   "source": [
    "data = Student_performance.iloc[:, :-1]\n",
    "label =  Student_performance.iloc[:, -1]"
   ]
  },
  {
   "cell_type": "code",
   "execution_count": null,
   "metadata": {},
   "outputs": [
    {
     "data": {
      "text/plain": [
       "0       2\n",
       "1       1\n",
       "2       4\n",
       "3       3\n",
       "4       4\n",
       "       ..\n",
       "2387    0\n",
       "2388    4\n",
       "2389    2\n",
       "2390    1\n",
       "2391    1\n",
       "Name: GradeClass, Length: 2392, dtype: int64"
      ]
     },
     "metadata": {},
     "output_type": "display_data"
    }
   ],
   "source": [
    "label"
   ]
  },
  {
   "cell_type": "code",
   "execution_count": null,
   "metadata": {},
   "outputs": [
    {
     "data": {
      "text/html": [
       "<div>\n",
       "<style scoped>\n",
       "    .dataframe tbody tr th:only-of-type {\n",
       "        vertical-align: middle;\n",
       "    }\n",
       "\n",
       "    .dataframe tbody tr th {\n",
       "        vertical-align: top;\n",
       "    }\n",
       "\n",
       "    .dataframe thead th {\n",
       "        text-align: right;\n",
       "    }\n",
       "</style>\n",
       "<table border=\"1\" class=\"dataframe\">\n",
       "  <thead>\n",
       "    <tr style=\"text-align: right;\">\n",
       "      <th></th>\n",
       "      <th>Age</th>\n",
       "      <th>Gender</th>\n",
       "      <th>Ethnicity</th>\n",
       "      <th>ParentalEducation</th>\n",
       "      <th>StudyTimeWeekly</th>\n",
       "      <th>Absences</th>\n",
       "      <th>Tutoring</th>\n",
       "      <th>ParentalSupport</th>\n",
       "      <th>Extracurricular</th>\n",
       "      <th>Sports</th>\n",
       "      <th>Music</th>\n",
       "      <th>Volunteering</th>\n",
       "      <th>GPA</th>\n",
       "    </tr>\n",
       "  </thead>\n",
       "  <tbody>\n",
       "    <tr>\n",
       "      <th>0</th>\n",
       "      <td>17</td>\n",
       "      <td>1</td>\n",
       "      <td>0</td>\n",
       "      <td>2</td>\n",
       "      <td>19.833723</td>\n",
       "      <td>7</td>\n",
       "      <td>1</td>\n",
       "      <td>2</td>\n",
       "      <td>0</td>\n",
       "      <td>0</td>\n",
       "      <td>1</td>\n",
       "      <td>0</td>\n",
       "      <td>2.929196</td>\n",
       "    </tr>\n",
       "    <tr>\n",
       "      <th>1</th>\n",
       "      <td>18</td>\n",
       "      <td>0</td>\n",
       "      <td>0</td>\n",
       "      <td>1</td>\n",
       "      <td>15.408756</td>\n",
       "      <td>0</td>\n",
       "      <td>0</td>\n",
       "      <td>1</td>\n",
       "      <td>0</td>\n",
       "      <td>0</td>\n",
       "      <td>0</td>\n",
       "      <td>0</td>\n",
       "      <td>3.042915</td>\n",
       "    </tr>\n",
       "    <tr>\n",
       "      <th>2</th>\n",
       "      <td>15</td>\n",
       "      <td>0</td>\n",
       "      <td>2</td>\n",
       "      <td>3</td>\n",
       "      <td>4.210570</td>\n",
       "      <td>26</td>\n",
       "      <td>0</td>\n",
       "      <td>2</td>\n",
       "      <td>0</td>\n",
       "      <td>0</td>\n",
       "      <td>0</td>\n",
       "      <td>0</td>\n",
       "      <td>0.112602</td>\n",
       "    </tr>\n",
       "    <tr>\n",
       "      <th>3</th>\n",
       "      <td>17</td>\n",
       "      <td>1</td>\n",
       "      <td>0</td>\n",
       "      <td>3</td>\n",
       "      <td>10.028829</td>\n",
       "      <td>14</td>\n",
       "      <td>0</td>\n",
       "      <td>3</td>\n",
       "      <td>1</td>\n",
       "      <td>0</td>\n",
       "      <td>0</td>\n",
       "      <td>0</td>\n",
       "      <td>2.054218</td>\n",
       "    </tr>\n",
       "    <tr>\n",
       "      <th>4</th>\n",
       "      <td>17</td>\n",
       "      <td>1</td>\n",
       "      <td>0</td>\n",
       "      <td>2</td>\n",
       "      <td>4.672495</td>\n",
       "      <td>17</td>\n",
       "      <td>1</td>\n",
       "      <td>3</td>\n",
       "      <td>0</td>\n",
       "      <td>0</td>\n",
       "      <td>0</td>\n",
       "      <td>0</td>\n",
       "      <td>1.288061</td>\n",
       "    </tr>\n",
       "    <tr>\n",
       "      <th>...</th>\n",
       "      <td>...</td>\n",
       "      <td>...</td>\n",
       "      <td>...</td>\n",
       "      <td>...</td>\n",
       "      <td>...</td>\n",
       "      <td>...</td>\n",
       "      <td>...</td>\n",
       "      <td>...</td>\n",
       "      <td>...</td>\n",
       "      <td>...</td>\n",
       "      <td>...</td>\n",
       "      <td>...</td>\n",
       "      <td>...</td>\n",
       "    </tr>\n",
       "    <tr>\n",
       "      <th>2387</th>\n",
       "      <td>18</td>\n",
       "      <td>1</td>\n",
       "      <td>0</td>\n",
       "      <td>3</td>\n",
       "      <td>10.680555</td>\n",
       "      <td>2</td>\n",
       "      <td>0</td>\n",
       "      <td>4</td>\n",
       "      <td>1</td>\n",
       "      <td>0</td>\n",
       "      <td>0</td>\n",
       "      <td>0</td>\n",
       "      <td>3.455509</td>\n",
       "    </tr>\n",
       "    <tr>\n",
       "      <th>2388</th>\n",
       "      <td>17</td>\n",
       "      <td>0</td>\n",
       "      <td>0</td>\n",
       "      <td>1</td>\n",
       "      <td>7.583217</td>\n",
       "      <td>4</td>\n",
       "      <td>1</td>\n",
       "      <td>4</td>\n",
       "      <td>0</td>\n",
       "      <td>1</td>\n",
       "      <td>0</td>\n",
       "      <td>0</td>\n",
       "      <td>3.279150</td>\n",
       "    </tr>\n",
       "    <tr>\n",
       "      <th>2389</th>\n",
       "      <td>16</td>\n",
       "      <td>1</td>\n",
       "      <td>0</td>\n",
       "      <td>2</td>\n",
       "      <td>6.805500</td>\n",
       "      <td>20</td>\n",
       "      <td>0</td>\n",
       "      <td>2</td>\n",
       "      <td>0</td>\n",
       "      <td>0</td>\n",
       "      <td>0</td>\n",
       "      <td>1</td>\n",
       "      <td>1.142333</td>\n",
       "    </tr>\n",
       "    <tr>\n",
       "      <th>2390</th>\n",
       "      <td>16</td>\n",
       "      <td>1</td>\n",
       "      <td>1</td>\n",
       "      <td>0</td>\n",
       "      <td>12.416653</td>\n",
       "      <td>17</td>\n",
       "      <td>0</td>\n",
       "      <td>2</td>\n",
       "      <td>0</td>\n",
       "      <td>1</td>\n",
       "      <td>1</td>\n",
       "      <td>0</td>\n",
       "      <td>1.803297</td>\n",
       "    </tr>\n",
       "    <tr>\n",
       "      <th>2391</th>\n",
       "      <td>16</td>\n",
       "      <td>1</td>\n",
       "      <td>0</td>\n",
       "      <td>2</td>\n",
       "      <td>17.819907</td>\n",
       "      <td>13</td>\n",
       "      <td>0</td>\n",
       "      <td>2</td>\n",
       "      <td>0</td>\n",
       "      <td>0</td>\n",
       "      <td>0</td>\n",
       "      <td>1</td>\n",
       "      <td>2.140014</td>\n",
       "    </tr>\n",
       "  </tbody>\n",
       "</table>\n",
       "<p>2392 rows × 13 columns</p>\n",
       "</div>"
      ],
      "text/plain": [
       "      Age  Gender  Ethnicity  ParentalEducation  StudyTimeWeekly  Absences  \\\n",
       "0      17       1          0                  2        19.833723         7   \n",
       "1      18       0          0                  1        15.408756         0   \n",
       "2      15       0          2                  3         4.210570        26   \n",
       "3      17       1          0                  3        10.028829        14   \n",
       "4      17       1          0                  2         4.672495        17   \n",
       "...   ...     ...        ...                ...              ...       ...   \n",
       "2387   18       1          0                  3        10.680555         2   \n",
       "2388   17       0          0                  1         7.583217         4   \n",
       "2389   16       1          0                  2         6.805500        20   \n",
       "2390   16       1          1                  0        12.416653        17   \n",
       "2391   16       1          0                  2        17.819907        13   \n",
       "\n",
       "      Tutoring  ParentalSupport  Extracurricular  Sports  Music  Volunteering  \\\n",
       "0            1                2                0       0      1             0   \n",
       "1            0                1                0       0      0             0   \n",
       "2            0                2                0       0      0             0   \n",
       "3            0                3                1       0      0             0   \n",
       "4            1                3                0       0      0             0   \n",
       "...        ...              ...              ...     ...    ...           ...   \n",
       "2387         0                4                1       0      0             0   \n",
       "2388         1                4                0       1      0             0   \n",
       "2389         0                2                0       0      0             1   \n",
       "2390         0                2                0       1      1             0   \n",
       "2391         0                2                0       0      0             1   \n",
       "\n",
       "           GPA  \n",
       "0     2.929196  \n",
       "1     3.042915  \n",
       "2     0.112602  \n",
       "3     2.054218  \n",
       "4     1.288061  \n",
       "...        ...  \n",
       "2387  3.455509  \n",
       "2388  3.279150  \n",
       "2389  1.142333  \n",
       "2390  1.803297  \n",
       "2391  2.140014  \n",
       "\n",
       "[2392 rows x 13 columns]"
      ]
     },
     "metadata": {},
     "output_type": "display_data"
    }
   ],
   "source": [
    "data"
   ]
  },
  {
   "cell_type": "code",
   "execution_count": null,
   "metadata": {},
   "outputs": [
    {
     "name": "stdout",
     "output_type": "stream",
     "text": [
      "[67 22 49 45 53 35 61 28 25 24 60 32 44 31 48 26 36 39 42 34 63 27 30 57\n",
      " 33 37 58 23 29 52 50 46 51 41 40 66 47 56 54 20 21 38 70 65 74 68 43 55\n",
      " 64 75 19 62 59]\n",
      "[1 0]\n",
      "[2 1 3 0]\n",
      "[1 0 2]\n",
      "[-1.  0.  2.  3.  1.]\n",
      "[ 0.  1. -1.  2.]\n",
      "[ 1169  5951  2096  7882  4870  9055  2835  6948  3059  5234  1295  4308\n",
      "  1567  1199  1403  1282  2424  8072 12579  3430  2134  2647  2241  1804\n",
      "  2069  1374   426   409  2415  6836  1913  4020  5866  1264  1474  4746\n",
      "  6110  2100  1225   458  2333  1158  6204  6187  6143  1393  2299  1352\n",
      "  7228  2073  5965  1262  3378  2225   783  6468  9566  1961  6229  1391\n",
      "  1537  1953 14421  3181  5190  2171  1007  1819  2394  8133   730  1164\n",
      "  5954  1977  1526  3965  4771  9436  3832  5943  1213  1568  1755  2315\n",
      "  1412 12612  2249  1108   618  1409   797  3617  1318 15945  2012  2622\n",
      "  2337  7057  1469  2323   932  1919  2445 11938  6458  6078  7721  1410\n",
      "  1449   392  6260  7855  1680  3578  7174  2132  4281  2366  1835  3868\n",
      "  1768   781  1924  2121   701   639  1860  3499  8487  6887  2708  1984\n",
      " 10144  1240  8613   766  2728  1881   709  4795  3416  2462  2288  3566\n",
      "   860   682  5371  1582  1346  5848  7758  6967  1288   339  3512  1898\n",
      "  2872  1055  7308   909  2978  1131  1577  3972  1935   950   763  2064\n",
      "  1414  3414  7485  2577   338  1963   571  9572  4455  1647  3777   884\n",
      "  1360  5129  1175   674  3244  4591  3844  3915  2108  3031  1501  1382\n",
      "   951  2760  4297   936  1168  5117   902  1495 10623  1424  6568  1413\n",
      "  3074  3835  5293  1908  3342  3104  3913  3021  1364   625  1200   707\n",
      "  4657  2613 10961  7865  1478  3149  4210  2507  2141   866  1544  1823\n",
      " 14555  2767  1291  2522   915  1595  4605  1185  3447  1258   717  1204\n",
      "  1925   433   666  2251  2150  4151  2030  7418  2684  2149  3812  1154\n",
      "  1657  1603  5302  2748  1231   802  6304  1533  8978   999  2662  1402\n",
      " 12169  3060 11998  2697  2404  4611  1901  3368  1574  1445  1520  3878\n",
      " 10722  4788  7582  1092  1024  1076  9398  6419  4796  7629  9960  4675\n",
      "  1287  2515  2745   672  3804  1344  1038 10127  1543  4811   727  1237\n",
      "   276  5381  5511  3749   685  1494  2746   708  4351  3643  4249  1938\n",
      "  2910  2659  1028  3398  5801  1525  4473  1068  6615  1864  7408 11590\n",
      "  4110  3384  2101  1275  4169  1521  5743  3599  3213  4439  3949  1459\n",
      "   882  3758  1743  1136  1236   959  3229  6199  1246  2331  4463   776\n",
      "  2406  1239  3399  2247  1766  2473  1542  3850  3650  3446  3001  3079\n",
      "  6070  2146 13756 14782  7685  2320   846 14318   362  2212 12976  1283\n",
      "  1330  4272  2238  1126  7374  2326  1820   983  3249  1957 11760  2578\n",
      "  2348  1223  1516  1473  1887  8648  2899  2039  2197  1053  3235   939\n",
      "  1967  7253  2292  1597  1381  5842  2579  8471  2782  1042  3186  2028\n",
      "   958  1591  2762  2779  2743  1149  1313  1190  3448 11328  1872  2058\n",
      "  2136  1484   660  3394   609  1884  1620  2629   719  5096  1244  1842\n",
      "  2576  1512 11054   518  2759  2670  4817  2679  3905  3386   343  4594\n",
      "  3620  1721  3017   754  1950  2924  1659  7238  2764  4679  3092   448\n",
      "   654  1238  1245  3114  2569  5152  1037  3573  1201  3622   960  1163\n",
      "  1209  3077  3757  1418  3518  1934  8318   368  2122  2996  9034  1585\n",
      "  1301  1323  3123  5493  1216  1207  1309  2360  6850  8588   759  4686\n",
      "  2687   585  2255  1361  7127  1203   700  5507  3190  7119  3488  1113\n",
      "  7966  1532  1503  2302   662  2273  2631  1311  3105  2319  3612  7763\n",
      "  3049  1534  2032  6350  2864  1255  1333  2022  1552   626  8858   996\n",
      "  1750  6999  1995  1331  2278  5003  3552  1928  2964  1546   683 12389\n",
      "  4712  1553  1372  3979  6758  3234  5433   806  1082  2788  2930  1927\n",
      "  2820   937  1056  3124  1388  2384  2133  2799  1289  1217  2246   385\n",
      "  1965  1572  2718  1358   931  1442  4241  2775  3863  2329   918  1837\n",
      "  3349  2828  4526  2671  2051  1300   741  3357  3632  1808 12204  9157\n",
      "  3676  3441   640  3652  1530  3914  1858  2600  1979  2116  1437  4042\n",
      "  3660  1444  1980  1355  1376 15653  1493  4370   750  1308  4623  1851\n",
      "  1880  7980  4583  1386   947   684  7476  1922  2303  8086  2346  3973\n",
      "   888 10222  4221  6361  1297   900  1050  1047  6314  3496  3609  4843\n",
      "  4139  5742 10366  2080  2580  4530  5150  5595  1453  1538  2279  5103\n",
      "  9857  6527  1347  2862  2753  3651   975  2896  4716  2284  1103   926\n",
      "  1800  1905  1123  6331  1377  2503  2528  5324  6560  2969  1206  2118\n",
      "   629  1198  2476  1138 14027  7596  1505  3148  6148  1337  1228   790\n",
      "  2570   250  1316  1882  6416  6403  1987   760  2603  3380  3990 11560\n",
      "  4380  6761  4280  2325  1048  3160  2483 14179  1797  2511  1274  5248\n",
      "  3029   428   976   841  5771  1555  1285  1299  1271   691  5045  2124\n",
      "  2214 12680  2463  1155  3108  2901  1655  2812  8065  3275  2223  1480\n",
      "  1371  3535  3509  5711  3872  4933  1940   836  1941  2675  2751  6224\n",
      "  5998  1188  6313  1221  2892  3062  2301  7511  1549  1795  7472  9271\n",
      "   590   930  9283  1778   907   484  9629  3051  3931  7432  1338  1554\n",
      " 15857  1345  1101  3016  2712   731  3780  1602  3966  4165  8335  6681\n",
      "  2375 11816  5084  2327   886   601  2957  2611  5179  2993  1943  1559\n",
      "  3422  3976  1249  2235  1471 10875   894  3343  3959  3577  5804  2169\n",
      "  2439  2210  2221  2389  3331  7409   652  7678  1343   874  3590  1322\n",
      "  3595  1422  6742  7814  9277  2181  1098  4057   795  2825 15672  6614\n",
      "  7824  2442  1829  5800  8947  2606  1592  2186  4153  2625  3485 10477\n",
      "  1278  1107  3763  3711  3594  3195  4454  4736  2991  2142  3161 18424\n",
      "  2848 14896  2359  3345  1817 12749  1366  2002  6872   697  1049 10297\n",
      "  1867  1747  1670  1224   522  1498   745  2063  6288  6842  3527   929\n",
      "  1455  1845  8358  2859  3621  2145  4113 10974  1893  3656  4006  3069\n",
      "  1740  2353  3556  2397   454  1715  2520  3568  7166  3939  1514  7393\n",
      "  1193  7297  2831   753  2427  2538  8386  4844  2923  8229  1433  6289\n",
      "  6579  3565  1569  1936  2390  1736  3857   804  4576]\n",
      "[5 3 4 1 0 2 6 7]\n",
      "[1 0]\n"
     ]
    }
   ],
   "source": [
    "print(['Age'].unique())\n",
    "print(german_credit_data['Sex'].unique())\n",
    "print(german_credit_data['Job'].unique())\n",
    "print(german_credit_data['Housing'].unique())\n",
    "print(german_credit_data['Saving accounts'].unique())\n",
    "print(german_credit_data['Checking account'].unique())\n",
    "print(german_credit_data['Credit amount'].unique())\n",
    "print(german_credit_data['Purpose'].unique())\n",
    "print(german_credit_data['Risk'].unique())\n",
    "#missing values denoted as -1\n"
   ]
  },
  {
   "cell_type": "code",
   "execution_count": null,
   "metadata": {},
   "outputs": [
    {
     "name": "stdout",
     "output_type": "stream",
     "text": [
      "Learning the structure of the Bayesian Network...\n"
     ]
    },
    {
     "name": "stderr",
     "output_type": "stream",
     "text": [
      "  0%|          | 0/1000000 [00:00<?, ?it/s]"
     ]
    },
    {
     "name": "stderr",
     "output_type": "stream",
     "text": [
      "  0%|          | 0/1000000 [00:00<?, ?it/s]"
     ]
    },
    {
     "name": "stdout",
     "output_type": "stream",
     "text": [
      "Bayesian Network Structure:\n",
      "[]\n"
     ]
    },
    {
     "name": "stderr",
     "output_type": "stream",
     "text": [
      "\n"
     ]
    },
    {
     "data": {
      "image/png": "[encoded data removed]",
      "text/plain": [
       "<Figure size 1200x1000 with 1 Axes>"
      ]
     },
     "metadata": {},
     "output_type": "display_data"
    },
    {
     "name": "stdout",
     "output_type": "stream",
     "text": [
      "Fitting the Bayesian Network with data...\n"
     ]
    }
   ],
   "source": [
    "\n",
    "\n",
    "\n",
    "# Step 2: Identify missingness indicators\n",
    "# Add missingness indicators for each column with missing values\n",
    "missing_indicators = {}\n",
    "for column in data.columns:\n",
    "    if data[column].isnull().any():\n",
    "        missing_indicators[f'R_{column}'] = data[column].isnull().astype(int)\n",
    "\n",
    "# Add missingness indicators to the dataset\n",
    "for key, value in missing_indicators.items():\n",
    "    data[key] = value\n",
    "\n",
    "# Drop rows with missing values temporarily for structure learning\n",
    "data_complete = data.dropna()\n",
    "\n",
    "# Step 3: Learn the structure of the Bayesian Network\n",
    "print(\"Learning the structure of the Bayesian Network...\")\n",
    "hc = HillClimbSearch(data_complete)\n",
    "model = hc.estimate(scoring_method=BicScore(data_complete))\n",
    "\n",
    "# Create the Bayesian Network from the learned structure\n",
    "bayesian_net = BayesianNetwork(model.edges())\n",
    "\n",
    "# Step 4: Visualize the Bayesian Network\n",
    "def visualize_bayesian_network(bayesian_net):\n",
    "    # Create a networkx graph from the Bayesian Network\n",
    "    G = nx.DiGraph()\n",
    "    G.add_edges_from(bayesian_net.edges())\n",
    "\n",
    "    # Plot the graph\n",
    "    plt.figure(figsize=(12, 10))\n",
    "    pos = nx.spring_layout(G)  # Define layout\n",
    "    nx.draw(\n",
    "        G,\n",
    "        pos,\n",
    "        with_labels=True,\n",
    "        node_size=3000,\n",
    "        node_color=\"lightblue\",\n",
    "        font_size=10,\n",
    "        font_weight=\"bold\",\n",
    "        arrowsize=20,\n",
    "    )\n",
    "    plt.title(\"Bayesian Network Structure\")\n",
    "    plt.show()\n",
    "\n",
    "print(\"Bayesian Network Structure:\")\n",
    "print(bayesian_net.edges())\n",
    "visualize_bayesian_network(bayesian_net)\n",
    "\n",
    "# Step 5: Fit the Bayesian Network with the data\n",
    "print(\"Fitting the Bayesian Network with data...\")\n",
    "bayesian_net.fit(data, estimator=MaximumLikelihoodEstimator)\n"
   ]
  },
  {
   "cell_type": "code",
   "execution_count": null,
   "metadata": {},
   "outputs": [
    {
     "name": "stdout",
     "output_type": "stream",
     "text": [
      "\n",
      "Probabilities of Missingness:\n",
      "\n",
      "Joint Probability\n",
      "+------------------------+-----------------------+-----------------------------------------+\n",
      "| Checking account       | Saving accounts       |   phi(Checking account,Saving accounts) |\n",
      "+========================+=======================+=========================================+\n",
      "| Checking account(-1.0) | Saving accounts(-1.0) |                                  0.0990 |\n",
      "+------------------------+-----------------------+-----------------------------------------+\n",
      "| Checking account(-1.0) | Saving accounts(0.0)  |                                  0.1910 |\n",
      "+------------------------+-----------------------+-----------------------------------------+\n",
      "| Checking account(-1.0) | Saving accounts(1.0)  |                                  0.0390 |\n",
      "+------------------------+-----------------------+-----------------------------------------+\n",
      "| Checking account(-1.0) | Saving accounts(2.0)  |                                  0.0400 |\n",
      "+------------------------+-----------------------+-----------------------------------------+\n",
      "| Checking account(-1.0) | Saving accounts(3.0)  |                                  0.0250 |\n",
      "+------------------------+-----------------------+-----------------------------------------+\n",
      "| Checking account(0.0)  | Saving accounts(-1.0) |                                  0.0290 |\n",
      "+------------------------+-----------------------+-----------------------------------------+\n",
      "| Checking account(0.0)  | Saving accounts(0.0)  |                                  0.2190 |\n",
      "+------------------------+-----------------------+-----------------------------------------+\n",
      "| Checking account(0.0)  | Saving accounts(1.0)  |                                  0.0120 |\n",
      "+------------------------+-----------------------+-----------------------------------------+\n",
      "| Checking account(0.0)  | Saving accounts(2.0)  |                                  0.0080 |\n",
      "+------------------------+-----------------------+-----------------------------------------+\n",
      "| Checking account(0.0)  | Saving accounts(3.0)  |                                  0.0060 |\n",
      "+------------------------+-----------------------+-----------------------------------------+\n",
      "| Checking account(1.0)  | Saving accounts(-1.0) |                                  0.0450 |\n",
      "+------------------------+-----------------------+-----------------------------------------+\n",
      "| Checking account(1.0)  | Saving accounts(0.0)  |                                  0.1520 |\n",
      "+------------------------+-----------------------+-----------------------------------------+\n",
      "| Checking account(1.0)  | Saving accounts(1.0)  |                                  0.0470 |\n",
      "+------------------------+-----------------------+-----------------------------------------+\n",
      "| Checking account(1.0)  | Saving accounts(2.0)  |                                  0.0110 |\n",
      "+------------------------+-----------------------+-----------------------------------------+\n",
      "| Checking account(1.0)  | Saving accounts(3.0)  |                                  0.0140 |\n",
      "+------------------------+-----------------------+-----------------------------------------+\n",
      "| Checking account(2.0)  | Saving accounts(-1.0) |                                  0.0100 |\n",
      "+------------------------+-----------------------+-----------------------------------------+\n",
      "| Checking account(2.0)  | Saving accounts(0.0)  |                                  0.0410 |\n",
      "+------------------------+-----------------------+-----------------------------------------+\n",
      "| Checking account(2.0)  | Saving accounts(1.0)  |                                  0.0050 |\n",
      "+------------------------+-----------------------+-----------------------------------------+\n",
      "| Checking account(2.0)  | Saving accounts(2.0)  |                                  0.0040 |\n",
      "+------------------------+-----------------------+-----------------------------------------+\n",
      "| Checking account(2.0)  | Saving accounts(3.0)  |                                  0.0030 |\n",
      "+------------------------+-----------------------+-----------------------------------------+\n"
     ]
    }
   ],
   "source": [
    "inference = VariableElimination(bayesian_net)\n",
    "\n",
    "# Example Query 1: Probability of missingness for a variable\n",
    "print(\"\\nProbabilities of Missingness:\")\n",
    "for missing_var in missing_indicators.keys():\n",
    "    query_result = inference.query(variables=[missing_var])\n",
    "    print(f\"{missing_var}:\")\n",
    "    print(query_result)\n",
    "\n",
    "# Example Query 2: Joint probability of two variables\n",
    "query_result = inference.query(variables=[\"Checking account\", \"Saving accounts\"])\n",
    "print(\"\\nJoint Probability\")\n",
    "print(query_result)\n"
   ]
  },
  {
   "cell_type": "code",
   "execution_count": null,
   "metadata": {},
   "outputs": [
    {
     "name": "stdout",
     "output_type": "stream",
     "text": [
      "\n",
      "Joint Probability\n",
      "+--------+------------+--------------------+\n",
      "| Sex    | Housing    |   phi(Sex,Housing) |\n",
      "+========+============+====================+\n",
      "| Sex(0) | Housing(0) |             0.0190 |\n",
      "+--------+------------+--------------------+\n",
      "| Sex(0) | Housing(1) |             0.1960 |\n",
      "+--------+------------+--------------------+\n",
      "| Sex(0) | Housing(2) |             0.0950 |\n",
      "+--------+------------+--------------------+\n",
      "| Sex(1) | Housing(0) |             0.0890 |\n",
      "+--------+------------+--------------------+\n",
      "| Sex(1) | Housing(1) |             0.5170 |\n",
      "+--------+------------+--------------------+\n",
      "| Sex(1) | Housing(2) |             0.0840 |\n",
      "+--------+------------+--------------------+\n"
     ]
    }
   ],
   "source": [
    "query_result = inference.query(variables=[\"Sex\", \"Housing\"])\n",
    "print(\"\\nJoint Probability\")\n",
    "print(query_result)"
   ]
  },
  {
   "cell_type": "code",
   "execution_count": null,
   "metadata": {},
   "outputs": [
    {
     "name": "stdout",
     "output_type": "stream",
     "text": [
      "Conditional Probability P(Checking account | Saving accounts = True):\n",
      "+------------------------+-------------------------+\n",
      "| Checking account       |   phi(Checking account) |\n",
      "+========================+=========================+\n",
      "| Checking account(-1.0) |                  0.3786 |\n",
      "+------------------------+-------------------------+\n",
      "| Checking account(0.0)  |                  0.1165 |\n",
      "+------------------------+-------------------------+\n",
      "| Checking account(1.0)  |                  0.4563 |\n",
      "+------------------------+-------------------------+\n",
      "| Checking account(2.0)  |                  0.0485 |\n",
      "+------------------------+-------------------------+\n"
     ]
    }
   ],
   "source": [
    "result = inference.query(variables=[\"Checking account\"], evidence={\"Saving accounts\": True})\n",
    "print(\"Conditional Probability P(Checking account | Saving accounts = True):\")\n",
    "print(result)"
   ]
  },
  {
   "cell_type": "code",
   "execution_count": null,
   "metadata": {},
   "outputs": [
    {
     "name": "stdout",
     "output_type": "stream",
     "text": [
      "Conditional Probability P(Sex | Housing = 2):\n",
      "+--------+------------+\n",
      "| Sex    |   phi(Sex) |\n",
      "+========+============+\n",
      "| Sex(0) |     0.5307 |\n",
      "+--------+------------+\n",
      "| Sex(1) |     0.4693 |\n",
      "+--------+------------+\n"
     ]
    }
   ],
   "source": [
    "result = inference.query(variables=[\"Sex\"], evidence={\"Housing\": 2})\n",
    "print(\"Conditional Probability P(Sex | Housing = 2):\")\n",
    "print(result)"
   ]
  },
  {
   "cell_type": "code",
   "execution_count": null,
   "metadata": {},
   "outputs": [
    {
     "data": {
      "text/plain": [
       "pgmpy.factors.discrete.DiscreteFactor.DiscreteFactor"
      ]
     },
     "metadata": {},
     "output_type": "display_data"
    }
   ],
   "source": [
    "type(result)"
   ]
  },
  {
   "cell_type": "code",
   "execution_count": null,
   "metadata": {},
   "outputs": [],
   "source": [
    "generator = Inject_Missing_Values()"
   ]
  },
  {
   "cell_type": "code",
   "execution_count": null,
   "metadata": {},
   "outputs": [
    {
     "name": "stdout",
     "output_type": "stream",
     "text": [
      "Age                 168\n",
      "Sex                 143\n",
      "Job                 144\n",
      "Housing             143\n",
      "Saving accounts     159\n",
      "Checking account    178\n",
      "Credit amount       130\n",
      "Duration            152\n",
      "Purpose             133\n",
      "dtype: int64\n",
      "      Age  Sex  Job  Housing  Saving accounts  Checking account  \\\n",
      "0    67.0  1.0  2.0      NaN             -1.0               0.0   \n",
      "1    22.0  0.0  2.0      1.0              0.0               1.0   \n",
      "2    49.0  1.0  1.0      1.0              0.0              -1.0   \n",
      "3    45.0  1.0  2.0      NaN              0.0               0.0   \n",
      "4    53.0  1.0  2.0      0.0              0.0               0.0   \n",
      "..    ...  ...  ...      ...              ...               ...   \n",
      "995   NaN  NaN  1.0      1.0              0.0              -1.0   \n",
      "996  40.0  NaN  3.0      1.0              0.0               0.0   \n",
      "997  38.0  1.0  2.0      1.0              NaN              -1.0   \n",
      "998  23.0  1.0  2.0      0.0              0.0               0.0   \n",
      "999  27.0  1.0  2.0      1.0              1.0               1.0   \n",
      "\n",
      "     Credit amount  Duration  Purpose  \n",
      "0           1169.0       6.0      5.0  \n",
      "1           5951.0       NaN      5.0  \n",
      "2           2096.0      12.0      3.0  \n",
      "3           7882.0      42.0      4.0  \n",
      "4              NaN      24.0      1.0  \n",
      "..             ...       ...      ...  \n",
      "995         1736.0      12.0      NaN  \n",
      "996         3857.0      30.0      1.0  \n",
      "997          804.0      12.0      5.0  \n",
      "998         1845.0      45.0      5.0  \n",
      "999         4576.0       NaN      NaN  \n",
      "\n",
      "[1000 rows x 9 columns]\n",
      "Age                 832\n",
      "Sex                 857\n",
      "Job                 856\n",
      "Housing             857\n",
      "Saving accounts     841\n",
      "Checking account    822\n",
      "Credit amount       870\n",
      "Duration            848\n",
      "Purpose             867\n",
      "dtype: int64\n",
      "{'0,3': 'MCAR', '1,7': 'MCAR', '3,3': 'MCAR', '4,6': 'MCAR', '5,5': 'MCAR', '6,3': 'MCAR', '6,5': 'MCAR', '6,8': 'MCAR', '7,6': 'MCAR', '7,7': 'MCAR', '8,7': 'MCAR', '10,0': 'MCAR', '11,1': 'MCAR', '11,6': 'MCAR', '11,7': 'MCAR', '11,8': 'MCAR', '13,0': 'MCAR', '14,1': 'MCAR', '14,3': 'MCAR', '14,4': 'MCAR', '16,0': 'MCAR', '16,6': 'MCAR', '19,4': 'MCAR', '20,4': 'MCAR', '21,2': 'MCAR', '21,4': 'MCAR', '21,7': 'MCAR', '22,1': 'MCAR', '22,4': 'MCAR', '23,4': 'MCAR', '24,4': 'MCAR', '25,4': 'MCAR', '25,5': 'MCAR', '25,6': 'MCAR', '26,1': 'MCAR', '27,8': 'MCAR', '29,5': 'MCAR', '30,4': 'MCAR', '31,7': 'MCAR', '32,1': 'MCAR', '32,3': 'MCAR', '33,7': 'MCAR', '35,5': 'MCAR', '35,6': 'MCAR', '36,8': 'MCAR', '37,2': 'MCAR', '37,4': 'MCAR', '38,2': 'MCAR', '38,4': 'MCAR', '38,7': 'MCAR', '38,8': 'MCAR', '39,1': 'MCAR', '39,4': 'MCAR', '39,6': 'MCAR', '40,2': 'MCAR', '40,3': 'MCAR', '40,5': 'MCAR', '40,7': 'MCAR', '41,1': 'MCAR', '42,0': 'MCAR', '42,4': 'MCAR', '43,0': 'MCAR', '44,2': 'MCAR', '44,7': 'MCAR', '45,4': 'MCAR', '45,7': 'MCAR', '46,7': 'MCAR', '47,6': 'MCAR', '47,8': 'MCAR', '48,0': 'MCAR', '48,5': 'MCAR', '49,0': 'MCAR', '49,5': 'MCAR', '49,8': 'MCAR', '50,2': 'MCAR', '50,4': 'MCAR', '50,8': 'MCAR', '51,0': 'MCAR', '51,3': 'MCAR', '52,5': 'MCAR', '53,0': 'MCAR', '53,2': 'MCAR', '55,0': 'MCAR', '55,2': 'MCAR', '55,5': 'MCAR', '56,6': 'MCAR', '56,7': 'MCAR', '58,5': 'MCAR', '59,4': 'MCAR', '59,6': 'MCAR', '60,6': 'MCAR', '61,2': 'MCAR', '61,8': 'MCAR', '62,7': 'MCAR', '63,3': 'MCAR', '65,3': 'MCAR', '65,7': 'MCAR', '66,5': 'MCAR', '68,1': 'MCAR', '68,5': 'MCAR', '69,0': 'MCAR', '71,2': 'MCAR', '71,6': 'MCAR', '72,3': 'MCAR', '73,2': 'MCAR', '73,5': 'MCAR', '73,7': 'MCAR', '74,3': 'MCAR', '74,4': 'MCAR', '74,5': 'MCAR', '74,8': 'MCAR', '75,2': 'MCAR', '76,7': 'MCAR', '77,1': 'MCAR', '77,3': 'MCAR', '77,6': 'MCAR', '77,7': 'MCAR', '78,7': 'MCAR', '81,5': 'MCAR', '83,2': 'MCAR', '84,0': 'MCAR', '84,4': 'MCAR', '84,7': 'MCAR', '85,4': 'MCAR', '85,5': 'MCAR', '85,6': 'MCAR', '87,4': 'MCAR', '87,6': 'MCAR', '89,2': 'MCAR', '89,5': 'MCAR', '90,2': 'MCAR', '91,4': 'MCAR', '91,6': 'MCAR', '92,0': 'MCAR', '94,5': 'MCAR', '96,3': 'MCAR', '97,1': 'MCAR', '97,3': 'MCAR', '98,1': 'MCAR', '99,2': 'MCAR', '102,0': 'MCAR', '102,3': 'MCAR', '102,8': 'MCAR', '105,0': 'MCAR', '105,3': 'MCAR', '105,8': 'MCAR', '108,1': 'MCAR', '108,7': 'MCAR', '109,8': 'MCAR', '111,8': 'MCAR', '112,1': 'MCAR', '112,7': 'MCAR', '113,3': 'MCAR', '114,8': 'MCAR', '115,3': 'MCAR', '115,6': 'MCAR', '115,8': 'MCAR', '116,0': 'MCAR', '116,2': 'MCAR', '116,4': 'MCAR', '117,1': 'MCAR', '118,0': 'MCAR', '118,4': 'MCAR', '119,5': 'MCAR', '120,0': 'MCAR', '120,1': 'MCAR', '120,3': 'MCAR', '120,8': 'MCAR', '121,2': 'MCAR', '121,6': 'MCAR', '123,5': 'MCAR', '123,6': 'MCAR', '123,7': 'MCAR', '124,4': 'MCAR', '124,6': 'MCAR', '125,8': 'MCAR', '127,8': 'MCAR', '128,1': 'MCAR', '128,5': 'MCAR', '130,2': 'MCAR', '131,5': 'MCAR', '132,3': 'MCAR', '132,4': 'MCAR', '134,0': 'MCAR', '134,4': 'MCAR', '135,2': 'MCAR', '135,5': 'MCAR', '135,8': 'MCAR', '136,5': 'MCAR', '136,7': 'MCAR', '137,0': 'MCAR', '142,3': 'MCAR', '143,3': 'MCAR', '145,3': 'MCAR', '145,6': 'MCAR', '146,7': 'MCAR', '147,5': 'MCAR', '148,3': 'MCAR', '148,5': 'MCAR', '148,6': 'MCAR', '149,4': 'MCAR', '149,5': 'MCAR', '150,0': 'MCAR', '150,6': 'MCAR', '153,6': 'MCAR', '154,4': 'MCAR', '158,5': 'MCAR', '159,7': 'MCAR', '160,3': 'MCAR', '162,8': 'MCAR', '163,2': 'MCAR', '164,4': 'MCAR', '165,5': 'MCAR', '166,2': 'MCAR', '166,4': 'MCAR', '166,8': 'MCAR', '167,7': 'MCAR', '169,6': 'MCAR', '171,0': 'MCAR', '172,0': 'MCAR', '172,2': 'MCAR', '172,5': 'MCAR', '172,8': 'MCAR', '174,0': 'MCAR', '174,5': 'MCAR', '174,6': 'MCAR', '174,7': 'MCAR', '174,8': 'MCAR', '176,3': 'MCAR', '177,2': 'MCAR', '177,7': 'MCAR', '178,2': 'MCAR', '178,5': 'MCAR', '180,3': 'MCAR', '180,8': 'MCAR', '181,5': 'MCAR', '181,7': 'MCAR', '182,0': 'MCAR', '182,2': 'MCAR', '182,3': 'MCAR', '183,3': 'MCAR', '183,4': 'MCAR', '183,5': 'MCAR', '185,0': 'MCAR', '185,5': 'MCAR', '185,7': 'MCAR', '185,8': 'MCAR', '186,2': 'MCAR', '186,3': 'MCAR', '187,4': 'MCAR', '187,5': 'MCAR', '188,1': 'MCAR', '188,2': 'MCAR', '189,1': 'MCAR', '189,2': 'MCAR', '190,0': 'MCAR', '191,4': 'MCAR', '191,5': 'MCAR', '192,1': 'MCAR', '192,2': 'MCAR', '193,1': 'MCAR', '193,6': 'MCAR', '194,0': 'MCAR', '195,0': 'MCAR', '195,6': 'MCAR', '197,5': 'MCAR', '198,0': 'MCAR', '198,5': 'MCAR', '199,4': 'MCAR', '200,0': 'MCAR', '201,3': 'MCAR', '202,7': 'MCAR', '203,0': 'MCAR', '205,2': 'MCAR', '205,4': 'MCAR', '205,5': 'MCAR', '206,0': 'MCAR', '206,1': 'MCAR', '206,4': 'MCAR', '206,5': 'MCAR', '208,0': 'MCAR', '208,5': 'MCAR', '209,3': 'MCAR', '209,7': 'MCAR', '211,0': 'MCAR', '211,1': 'MCAR', '212,4': 'MCAR', '213,0': 'MCAR', '213,2': 'MCAR', '213,3': 'MCAR', '214,7': 'MCAR', '214,8': 'MCAR', '215,0': 'MCAR', '216,0': 'MCAR', '216,5': 'MCAR', '216,6': 'MCAR', '217,4': 'MCAR', '219,1': 'MCAR', '219,8': 'MCAR', '220,1': 'MCAR', '220,4': 'MCAR', '220,7': 'MCAR', '221,6': 'MCAR', '222,7': 'MCAR', '224,2': 'MCAR', '224,4': 'MCAR', '225,1': 'MCAR', '226,4': 'MCAR', '227,0': 'MCAR', '227,7': 'MCAR', '228,6': 'MCAR', '229,0': 'MCAR', '230,1': 'MCAR', '230,3': 'MCAR', '230,8': 'MCAR', '231,0': 'MCAR', '231,4': 'MCAR', '231,6': 'MCAR', '232,5': 'MCAR', '232,7': 'MCAR', '232,8': 'MCAR', '233,2': 'MCAR', '233,3': 'MCAR', '234,4': 'MCAR', '235,0': 'MCAR', '235,1': 'MCAR', '235,6': 'MCAR', '237,1': 'MCAR', '237,7': 'MCAR', '239,2': 'MCAR', '239,4': 'MCAR', '239,7': 'MCAR', '240,3': 'MCAR', '240,4': 'MCAR', '240,5': 'MCAR', '240,7': 'MCAR', '241,8': 'MCAR', '243,2': 'MCAR', '246,3': 'MCAR', '247,0': 'MCAR', '247,8': 'MCAR', '248,8': 'MCAR', '249,4': 'MCAR', '249,5': 'MCAR', '250,5': 'MCAR', '250,8': 'MCAR', '251,1': 'MCAR', '251,4': 'MCAR', '253,3': 'MCAR', '253,8': 'MCAR', '254,3': 'MCAR', '257,0': 'MCAR', '257,8': 'MCAR', '258,5': 'MCAR', '260,3': 'MCAR', '260,5': 'MCAR', '262,0': 'MCAR', '262,4': 'MCAR', '263,0': 'MCAR', '264,2': 'MCAR', '264,3': 'MCAR', '264,5': 'MCAR', '265,7': 'MCAR', '265,8': 'MCAR', '266,7': 'MCAR', '267,0': 'MCAR', '267,3': 'MCAR', '267,8': 'MCAR', '268,0': 'MCAR', '269,5': 'MCAR', '270,0': 'MCAR', '270,2': 'MCAR', '271,5': 'MCAR', '271,6': 'MCAR', '271,7': 'MCAR', '272,5': 'MCAR', '272,7': 'MCAR', '274,2': 'MCAR', '274,6': 'MCAR', '275,4': 'MCAR', '275,8': 'MCAR', '276,7': 'MCAR', '277,0': 'MCAR', '277,1': 'MCAR', '277,4': 'MCAR', '277,7': 'MCAR', '278,6': 'MCAR', '278,7': 'MCAR', '279,0': 'MCAR', '279,2': 'MCAR', '279,4': 'MCAR', '279,5': 'MCAR', '279,7': 'MCAR', '280,4': 'MCAR', '281,8': 'MCAR', '282,5': 'MCAR', '284,5': 'MCAR', '284,6': 'MCAR', '285,2': 'MCAR', '286,1': 'MCAR', '286,4': 'MCAR', '287,5': 'MCAR', '288,5': 'MCAR', '289,0': 'MCAR', '290,2': 'MCAR', '290,5': 'MCAR', '291,1': 'MCAR', '292,7': 'MCAR', '292,8': 'MCAR', '293,2': 'MCAR', '293,3': 'MCAR', '293,4': 'MCAR', '294,4': 'MCAR', '295,2': 'MCAR', '295,4': 'MCAR', '295,7': 'MCAR', '295,8': 'MCAR', '297,2': 'MCAR', '297,5': 'MCAR', '297,7': 'MCAR', '299,6': 'MCAR', '299,7': 'MCAR', '300,1': 'MCAR', '301,0': 'MCAR', '302,2': 'MCAR', '302,4': 'MCAR', '302,7': 'MCAR', '304,0': 'MCAR', '304,2': 'MCAR', '304,7': 'MCAR', '306,3': 'MCAR', '307,0': 'MCAR', '307,1': 'MCAR', '307,5': 'MCAR', '308,7': 'MCAR', '310,3': 'MCAR', '311,1': 'MCAR', '311,2': 'MCAR', '311,5': 'MCAR', '312,0': 'MCAR', '312,3': 'MCAR', '312,6': 'MCAR', '313,2': 'MCAR', '314,1': 'MCAR', '314,7': 'MCAR', '315,0': 'MCAR', '315,2': 'MCAR', '315,5': 'MCAR', '316,0': 'MCAR', '316,5': 'MCAR', '316,8': 'MCAR', '317,3': 'MCAR', '318,0': 'MCAR', '318,4': 'MCAR', '318,7': 'MCAR', '319,5': 'MCAR', '319,7': 'MCAR', '321,2': 'MCAR', '321,8': 'MCAR', '322,0': 'MCAR', '322,1': 'MCAR', '322,5': 'MCAR', '323,4': 'MCAR', '323,8': 'MCAR', '324,0': 'MCAR', '324,1': 'MCAR', '327,0': 'MCAR', '327,1': 'MCAR', '327,2': 'MCAR', '327,8': 'MCAR', '328,1': 'MCAR', '328,2': 'MCAR', '329,0': 'MCAR', '329,6': 'MCAR', '330,2': 'MCAR', '330,7': 'MCAR', '331,4': 'MCAR', '332,2': 'MCAR', '332,7': 'MCAR', '332,8': 'MCAR', '333,7': 'MCAR', '334,1': 'MCAR', '334,4': 'MCAR', '335,0': 'MCAR', '338,5': 'MCAR', '339,2': 'MCAR', '339,3': 'MCAR', '339,6': 'MCAR', '341,0': 'MCAR', '341,1': 'MCAR', '341,2': 'MCAR', '342,6': 'MCAR', '344,3': 'MCAR', '345,1': 'MCAR', '345,6': 'MCAR', '346,4': 'MCAR', '347,5': 'MCAR', '348,1': 'MCAR', '349,7': 'MCAR', '350,4': 'MCAR', '350,8': 'MCAR', '351,2': 'MCAR', '351,3': 'MCAR', '351,7': 'MCAR', '351,8': 'MCAR', '352,3': 'MCAR', '352,8': 'MCAR', '353,5': 'MCAR', '354,3': 'MCAR', '355,4': 'MCAR', '355,7': 'MCAR', '356,8': 'MCAR', '357,4': 'MCAR', '358,7': 'MCAR', '359,0': 'MCAR', '359,7': 'MCAR', '360,0': 'MCAR', '361,0': 'MCAR', '361,1': 'MCAR', '361,4': 'MCAR', '364,0': 'MCAR', '364,7': 'MCAR', '365,8': 'MCAR', '366,1': 'MCAR', '366,5': 'MCAR', '367,3': 'MCAR', '367,5': 'MCAR', '367,6': 'MCAR', '369,6': 'MCAR', '370,3': 'MCAR', '372,3': 'MCAR', '372,5': 'MCAR', '373,1': 'MCAR', '373,4': 'MCAR', '374,2': 'MCAR', '374,3': 'MCAR', '374,5': 'MCAR', '374,6': 'MCAR', '375,8': 'MCAR', '377,1': 'MCAR', '377,4': 'MCAR', '378,4': 'MCAR', '378,6': 'MCAR', '379,4': 'MCAR', '379,6': 'MCAR', '380,6': 'MCAR', '380,7': 'MCAR', '382,0': 'MCAR', '384,3': 'MCAR', '384,8': 'MCAR', '386,4': 'MCAR', '386,6': 'MCAR', '386,7': 'MCAR', '387,2': 'MCAR', '387,8': 'MCAR', '388,3': 'MCAR', '388,4': 'MCAR', '389,1': 'MCAR', '389,5': 'MCAR', '389,6': 'MCAR', '389,8': 'MCAR', '390,6': 'MCAR', '391,3': 'MCAR', '392,1': 'MCAR', '392,3': 'MCAR', '393,8': 'MCAR', '394,2': 'MCAR', '394,7': 'MCAR', '395,7': 'MCAR', '396,2': 'MCAR', '397,1': 'MCAR', '398,8': 'MCAR', '400,4': 'MCAR', '400,7': 'MCAR', '401,0': 'MCAR', '401,1': 'MCAR', '402,6': 'MCAR', '402,7': 'MCAR', '403,7': 'MCAR', '403,8': 'MCAR', '404,0': 'MCAR', '404,5': 'MCAR', '404,6': 'MCAR', '406,5': 'MCAR', '407,8': 'MCAR', '408,4': 'MCAR', '408,8': 'MCAR', '411,0': 'MCAR', '411,3': 'MCAR', '411,5': 'MCAR', '412,2': 'MCAR', '412,3': 'MCAR', '414,6': 'MCAR', '415,3': 'MCAR', '415,4': 'MCAR', '416,4': 'MCAR', '417,4': 'MCAR', '420,4': 'MCAR', '421,4': 'MCAR', '421,5': 'MCAR', '424,1': 'MCAR', '425,7': 'MCAR', '426,1': 'MCAR', '427,1': 'MCAR', '428,1': 'MCAR', '430,2': 'MCAR', '430,3': 'MCAR', '430,4': 'MCAR', '430,5': 'MCAR', '431,0': 'MCAR', '431,3': 'MCAR', '431,8': 'MCAR', '433,1': 'MCAR', '433,4': 'MCAR', '434,8': 'MCAR', '435,1': 'MCAR', '435,4': 'MCAR', '435,7': 'MCAR', '436,0': 'MCAR', '436,1': 'MCAR', '436,3': 'MCAR', '437,1': 'MCAR', '437,2': 'MCAR', '437,7': 'MCAR', '438,8': 'MCAR', '439,1': 'MCAR', '439,4': 'MCAR', '439,5': 'MCAR', '441,0': 'MCAR', '441,3': 'MCAR', '441,7': 'MCAR', '442,0': 'MCAR', '442,2': 'MCAR', '444,0': 'MCAR', '445,2': 'MCAR', '445,4': 'MCAR', '445,8': 'MCAR', '446,8': 'MCAR', '448,2': 'MCAR', '448,8': 'MCAR', '449,3': 'MCAR', '449,6': 'MCAR', '450,0': 'MCAR', '450,1': 'MCAR', '450,2': 'MCAR', '450,3': 'MCAR', '450,5': 'MCAR', '451,3': 'MCAR', '451,5': 'MCAR', '451,7': 'MCAR', '452,3': 'MCAR', '452,6': 'MCAR', '453,1': 'MCAR', '455,1': 'MCAR', '455,5': 'MCAR', '458,3': 'MCAR', '458,4': 'MCAR', '459,1': 'MCAR', '459,5': 'MCAR', '460,1': 'MCAR', '460,5': 'MCAR', '461,3': 'MCAR', '461,4': 'MCAR', '461,7': 'MCAR', '463,3': 'MCAR', '464,6': 'MCAR', '466,0': 'MCAR', '466,2': 'MCAR', '466,6': 'MCAR', '466,8': 'MCAR', '467,6': 'MCAR', '469,7': 'MCAR', '470,1': 'MCAR', '470,4': 'MCAR', '470,5': 'MCAR', '472,1': 'MCAR', '472,4': 'MCAR', '473,6': 'MCAR', '474,2': 'MCAR', '474,6': 'MCAR', '474,7': 'MCAR', '478,3': 'MCAR', '480,3': 'MCAR', '482,0': 'MCAR', '484,3': 'MCAR', '484,5': 'MCAR', '485,1': 'MCAR', '486,3': 'MCAR', '486,7': 'MCAR', '488,6': 'MCAR', '492,5': 'MCAR', '492,8': 'MCAR', '494,1': 'MCAR', '494,5': 'MCAR', '494,7': 'MCAR', '495,7': 'MCAR', '496,4': 'MCAR', '496,5': 'MCAR', '496,7': 'MCAR', '497,1': 'MCAR', '497,7': 'MCAR', '500,0': 'MCAR', '501,3': 'MCAR', '505,6': 'MCAR', '505,7': 'MCAR', '506,3': 'MCAR', '507,2': 'MCAR', '509,8': 'MCAR', '511,0': 'MCAR', '511,2': 'MCAR', '511,6': 'MCAR', '512,7': 'MCAR', '513,1': 'MCAR', '513,4': 'MCAR', '514,2': 'MCAR', '514,5': 'MCAR', '515,0': 'MCAR', '515,5': 'MCAR', '517,4': 'MCAR', '517,8': 'MCAR', '518,6': 'MCAR', '519,1': 'MCAR', '519,7': 'MCAR', '520,5': 'MCAR', '520,6': 'MCAR', '520,7': 'MCAR', '521,5': 'MCAR', '522,3': 'MCAR', '523,0': 'MCAR', '525,3': 'MCAR', '525,4': 'MCAR', '527,0': 'MCAR', '527,3': 'MCAR', '527,4': 'MCAR', '527,6': 'MCAR', '529,5': 'MCAR', '529,6': 'MCAR', '530,0': 'MCAR', '532,5': 'MCAR', '533,3': 'MCAR', '534,2': 'MCAR', '534,6': 'MCAR', '535,4': 'MCAR', '535,7': 'MCAR', '535,8': 'MCAR', '536,5': 'MCAR', '537,0': 'MCAR', '537,2': 'MCAR', '537,4': 'MCAR', '538,2': 'MCAR', '538,5': 'MCAR', '539,6': 'MCAR', '540,5': 'MCAR', '540,7': 'MCAR', '540,8': 'MCAR', '543,3': 'MCAR', '544,6': 'MCAR', '547,1': 'MCAR', '547,8': 'MCAR', '548,3': 'MCAR', '549,5': 'MCAR', '551,0': 'MCAR', '551,1': 'MCAR', '552,3': 'MCAR', '553,1': 'MCAR', '555,3': 'MCAR', '555,5': 'MCAR', '555,6': 'MCAR', '556,7': 'MCAR', '557,1': 'MCAR', '557,7': 'MCAR', '557,8': 'MCAR', '558,5': 'MCAR', '560,8': 'MCAR', '564,5': 'MCAR', '565,2': 'MCAR', '565,6': 'MCAR', '569,7': 'MCAR', '569,8': 'MCAR', '570,1': 'MCAR', '570,4': 'MCAR', '570,5': 'MCAR', '572,8': 'MCAR', '573,1': 'MCAR', '576,7': 'MCAR', '577,2': 'MCAR', '579,3': 'MCAR', '580,5': 'MCAR', '580,7': 'MCAR', '582,7': 'MCAR', '582,8': 'MCAR', '583,2': 'MCAR', '583,4': 'MCAR', '584,5': 'MCAR', '584,8': 'MCAR', '585,5': 'MCAR', '585,6': 'MCAR', '586,1': 'MCAR', '586,5': 'MCAR', '587,2': 'MCAR', '588,7': 'MCAR', '589,8': 'MCAR', '590,1': 'MCAR', '590,8': 'MCAR', '591,0': 'MCAR', '591,5': 'MCAR', '591,8': 'MCAR', '592,1': 'MCAR', '592,5': 'MCAR', '593,8': 'MCAR', '594,3': 'MCAR', '594,6': 'MCAR', '595,5': 'MCAR', '596,0': 'MCAR', '596,2': 'MCAR', '596,4': 'MCAR', '596,7': 'MCAR', '597,7': 'MCAR', '598,2': 'MCAR', '600,3': 'MCAR', '600,7': 'MCAR', '601,4': 'MCAR', '602,0': 'MCAR', '602,4': 'MCAR', '602,5': 'MCAR', '603,7': 'MCAR', '604,1': 'MCAR', '604,7': 'MCAR', '606,2': 'MCAR', '606,4': 'MCAR', '606,6': 'MCAR', '607,1': 'MCAR', '607,3': 'MCAR', '608,1': 'MCAR', '608,6': 'MCAR', '610,5': 'MCAR', '610,6': 'MCAR', '612,0': 'MCAR', '612,1': 'MCAR', '613,4': 'MCAR', '615,1': 'MCAR', '615,8': 'MCAR', '616,1': 'MCAR', '616,5': 'MCAR', '616,6': 'MCAR', '617,6': 'MCAR', '617,8': 'MCAR', '618,4': 'MCAR', '618,5': 'MCAR', '620,5': 'MCAR', '621,2': 'MCAR', '623,0': 'MCAR', '623,5': 'MCAR', '627,5': 'MCAR', '628,0': 'MCAR', '628,4': 'MCAR', '629,0': 'MCAR', '629,3': 'MCAR', '631,0': 'MCAR', '631,1': 'MCAR', '631,2': 'MCAR', '631,5': 'MCAR', '631,6': 'MCAR', '632,3': 'MCAR', '632,6': 'MCAR', '634,0': 'MCAR', '634,3': 'MCAR', '634,8': 'MCAR', '635,3': 'MCAR', '635,5': 'MCAR', '636,4': 'MCAR', '636,5': 'MCAR', '636,6': 'MCAR', '638,2': 'MCAR', '639,6': 'MCAR', '640,2': 'MCAR', '640,6': 'MCAR', '642,0': 'MCAR', '642,8': 'MCAR', '643,2': 'MCAR', '643,4': 'MCAR', '643,6': 'MCAR', '644,2': 'MCAR', '645,1': 'MCAR', '645,2': 'MCAR', '645,5': 'MCAR', '646,0': 'MCAR', '646,7': 'MCAR', '646,8': 'MCAR', '647,7': 'MCAR', '648,5': 'MCAR', '649,3': 'MCAR', '649,6': 'MCAR', '650,4': 'MCAR', '652,0': 'MCAR', '652,2': 'MCAR', '652,4': 'MCAR', '652,7': 'MCAR', '653,2': 'MCAR', '653,7': 'MCAR', '655,1': 'MCAR', '655,2': 'MCAR', '656,1': 'MCAR', '656,6': 'MCAR', '656,7': 'MCAR', '657,1': 'MCAR', '657,8': 'MCAR', '658,0': 'MCAR', '659,6': 'MCAR', '663,5': 'MCAR', '663,7': 'MCAR', '664,2': 'MCAR', '664,7': 'MCAR', '665,0': 'MCAR', '665,5': 'MCAR', '666,4': 'MCAR', '666,5': 'MCAR', '666,6': 'MCAR', '666,8': 'MCAR', '667,1': 'MCAR', '667,8': 'MCAR', '669,1': 'MCAR', '671,8': 'MCAR', '672,0': 'MCAR', '672,5': 'MCAR', '673,1': 'MCAR', '675,2': 'MCAR', '676,1': 'MCAR', '676,7': 'MCAR', '678,2': 'MCAR', '679,6': 'MCAR', '682,1': 'MCAR', '683,0': 'MCAR', '683,8': 'MCAR', '684,2': 'MCAR', '684,7': 'MCAR', '685,3': 'MCAR', '685,8': 'MCAR', '688,1': 'MCAR', '688,6': 'MCAR', '689,1': 'MCAR', '690,1': 'MCAR', '690,2': 'MCAR', '690,5': 'MCAR', '691,3': 'MCAR', '692,0': 'MCAR', '692,8': 'MCAR', '693,4': 'MCAR', '693,5': 'MCAR', '694,1': 'MCAR', '694,5': 'MCAR', '694,7': 'MCAR', '695,2': 'MCAR', '696,6': 'MCAR', '696,7': 'MCAR', '697,2': 'MCAR', '697,5': 'MCAR', '697,6': 'MCAR', '698,5': 'MCAR', '699,0': 'MCAR', '699,2': 'MCAR', '699,6': 'MCAR', '700,7': 'MCAR', '701,4': 'MCAR', '703,5': 'MCAR', '705,7': 'MCAR', '706,4': 'MCAR', '707,0': 'MCAR', '707,8': 'MCAR', '709,3': 'MCAR', '709,6': 'MCAR', '710,5': 'MCAR', '711,0': 'MCAR', '712,7': 'MCAR', '713,1': 'MCAR', '713,2': 'MCAR', '714,0': 'MCAR', '714,6': 'MCAR', '715,4': 'MCAR', '715,6': 'MCAR', '716,4': 'MCAR', '717,0': 'MCAR', '717,6': 'MCAR', '718,0': 'MCAR', '718,1': 'MCAR', '719,4': 'MCAR', '719,7': 'MCAR', '720,2': 'MCAR', '720,5': 'MCAR', '720,7': 'MCAR', '721,8': 'MCAR', '722,1': 'MCAR', '722,4': 'MCAR', '723,3': 'MCAR', '723,4': 'MCAR', '724,1': 'MCAR', '726,3': 'MCAR', '727,2': 'MCAR', '727,4': 'MCAR', '728,8': 'MCAR', '730,4': 'MCAR', '731,5': 'MCAR', '732,4': 'MCAR', '732,8': 'MCAR', '733,1': 'MCAR', '734,7': 'MCAR', '735,0': 'MCAR', '736,4': 'MCAR', '737,4': 'MCAR', '739,3': 'MCAR', '739,7': 'MCAR', '740,0': 'MCAR', '741,0': 'MCAR', '742,3': 'MCAR', '743,1': 'MCAR', '744,6': 'MCAR', '745,5': 'MCAR', '746,1': 'MCAR', '746,5': 'MCAR', '746,6': 'MCAR', '747,3': 'MCAR', '748,3': 'MCAR', '748,7': 'MCAR', '749,4': 'MCAR', '751,0': 'MCAR', '751,2': 'MCAR', '753,0': 'MCAR', '754,0': 'MCAR', '754,4': 'MCAR', '755,0': 'MCAR', '757,0': 'MCAR', '758,1': 'MCAR', '759,2': 'MCAR', '759,4': 'MCAR', '759,5': 'MCAR', '759,6': 'MCAR', '761,0': 'MCAR', '761,2': 'MCAR', '761,7': 'MCAR', '763,2': 'MCAR', '763,6': 'MCAR', '763,8': 'MCAR', '765,0': 'MCAR', '766,0': 'MCAR', '768,8': 'MCAR', '770,2': 'MCAR', '770,4': 'MCAR', '770,6': 'MCAR', '771,0': 'MCAR', '771,5': 'MCAR', '773,2': 'MCAR', '774,5': 'MCAR', '775,2': 'MCAR', '775,5': 'MCAR', '776,5': 'MCAR', '777,3': 'MCAR', '778,0': 'MCAR', '778,1': 'MCAR', '779,1': 'MCAR', '779,5': 'MCAR', '780,0': 'MCAR', '780,8': 'MCAR', '781,0': 'MCAR', '782,3': 'MCAR', '783,8': 'MCAR', '784,2': 'MCAR', '784,7': 'MCAR', '784,8': 'MCAR', '785,0': 'MCAR', '785,5': 'MCAR', '785,6': 'MCAR', '785,7': 'MCAR', '787,4': 'MCAR', '788,8': 'MCAR', '790,4': 'MCAR', '790,6': 'MCAR', '791,8': 'MCAR', '792,0': 'MCAR', '793,3': 'MCAR', '795,3': 'MCAR', '797,0': 'MCAR', '799,7': 'MCAR', '800,3': 'MCAR', '800,8': 'MCAR', '801,0': 'MCAR', '801,8': 'MCAR', '802,1': 'MCAR', '802,2': 'MCAR', '802,5': 'MCAR', '802,6': 'MCAR', '803,1': 'MCAR', '803,2': 'MCAR', '804,2': 'MCAR', '805,2': 'MCAR', '805,3': 'MCAR', '805,5': 'MCAR', '806,2': 'MCAR', '806,4': 'MCAR', '806,5': 'MCAR', '806,8': 'MCAR', '807,0': 'MCAR', '809,3': 'MCAR', '809,7': 'MCAR', '810,4': 'MCAR', '811,6': 'MCAR', '812,4': 'MCAR', '814,3': 'MCAR', '815,2': 'MCAR', '816,0': 'MCAR', '816,2': 'MCAR', '817,0': 'MCAR', '817,1': 'MCAR', '817,8': 'MCAR', '818,2': 'MCAR', '818,6': 'MCAR', '819,1': 'MCAR', '821,2': 'MCAR', '821,4': 'MCAR', '823,3': 'MCAR', '824,4': 'MCAR', '825,0': 'MCAR', '825,8': 'MCAR', '828,0': 'MCAR', '830,3': 'MCAR', '830,7': 'MCAR', '831,1': 'MCAR', '831,6': 'MCAR', '831,7': 'MCAR', '832,0': 'MCAR', '832,3': 'MCAR', '832,5': 'MCAR', '832,8': 'MCAR', '833,2': 'MCAR', '833,7': 'MCAR', '834,7': 'MCAR', '835,2': 'MCAR', '837,0': 'MCAR', '837,7': 'MCAR', '839,3': 'MCAR', '839,8': 'MCAR', '840,0': 'MCAR', '842,1': 'MCAR', '842,4': 'MCAR', '843,4': 'MCAR', '844,3': 'MCAR', '846,8': 'MCAR', '847,0': 'MCAR', '847,7': 'MCAR', '848,0': 'MCAR', '849,3': 'MCAR', '850,2': 'MCAR', '851,0': 'MCAR', '851,6': 'MCAR', '852,5': 'MCAR', '852,6': 'MCAR', '853,0': 'MCAR', '853,3': 'MCAR', '853,4': 'MCAR', '854,0': 'MCAR', '854,6': 'MCAR', '854,7': 'MCAR', '855,1': 'MCAR', '855,2': 'MCAR', '856,4': 'MCAR', '858,1': 'MCAR', '858,3': 'MCAR', '859,2': 'MCAR', '863,1': 'MCAR', '864,6': 'MCAR', '865,1': 'MCAR', '865,8': 'MCAR', '866,3': 'MCAR', '867,5': 'MCAR', '868,0': 'MCAR', '869,3': 'MCAR', '869,5': 'MCAR', '870,2': 'MCAR', '870,3': 'MCAR', '871,0': 'MCAR', '871,1': 'MCAR', '872,6': 'MCAR', '872,7': 'MCAR', '872,8': 'MCAR', '873,1': 'MCAR', '873,8': 'MCAR', '874,0': 'MCAR', '875,5': 'MCAR', '876,8': 'MCAR', '878,1': 'MCAR', '878,3': 'MCAR', '878,5': 'MCAR', '878,8': 'MCAR', '880,2': 'MCAR', '881,8': 'MCAR', '883,1': 'MCAR', '883,4': 'MCAR', '883,8': 'MCAR', '884,2': 'MCAR', '884,4': 'MCAR', '884,5': 'MCAR', '885,0': 'MCAR', '885,2': 'MCAR', '885,6': 'MCAR', '886,1': 'MCAR', '886,8': 'MCAR', '888,2': 'MCAR', '888,5': 'MCAR', '890,0': 'MCAR', '890,5': 'MCAR', '891,0': 'MCAR', '893,1': 'MCAR', '893,3': 'MCAR', '893,4': 'MCAR', '894,1': 'MCAR', '897,3': 'MCAR', '897,6': 'MCAR', '898,2': 'MCAR', '898,5': 'MCAR', '898,6': 'MCAR', '899,3': 'MCAR', '899,5': 'MCAR', '901,0': 'MCAR', '901,1': 'MCAR', '902,5': 'MCAR', '903,1': 'MCAR', '903,4': 'MCAR', '903,5': 'MCAR', '904,0': 'MCAR', '904,1': 'MCAR', '905,1': 'MCAR', '905,4': 'MCAR', '905,5': 'MCAR', '906,6': 'MCAR', '907,3': 'MCAR', '909,6': 'MCAR', '910,4': 'MCAR', '910,7': 'MCAR', '912,2': 'MCAR', '912,3': 'MCAR', '913,4': 'MCAR', '915,0': 'MCAR', '915,1': 'MCAR', '916,1': 'MCAR', '916,7': 'MCAR', '917,1': 'MCAR', '917,6': 'MCAR', '918,0': 'MCAR', '918,6': 'MCAR', '919,0': 'MCAR', '919,3': 'MCAR', '919,5': 'MCAR', '920,5': 'MCAR', '920,7': 'MCAR', '920,8': 'MCAR', '921,4': 'MCAR', '922,2': 'MCAR', '922,6': 'MCAR', '923,0': 'MCAR', '924,0': 'MCAR', '924,2': 'MCAR', '924,7': 'MCAR', '925,3': 'MCAR', '927,5': 'MCAR', '929,7': 'MCAR', '930,3': 'MCAR', '930,4': 'MCAR', '932,5': 'MCAR', '933,6': 'MCAR', '934,1': 'MCAR', '935,7': 'MCAR', '936,2': 'MCAR', '937,1': 'MCAR', '937,4': 'MCAR', '937,7': 'MCAR', '938,7': 'MCAR', '939,3': 'MCAR', '939,4': 'MCAR', '939,5': 'MCAR', '941,0': 'MCAR', '941,2': 'MCAR', '941,3': 'MCAR', '943,4': 'MCAR', '944,3': 'MCAR', '944,7': 'MCAR', '945,0': 'MCAR', '945,7': 'MCAR', '947,1': 'MCAR', '947,2': 'MCAR', '949,5': 'MCAR', '950,2': 'MCAR', '950,3': 'MCAR', '951,3': 'MCAR', '951,4': 'MCAR', '951,5': 'MCAR', '951,8': 'MCAR', '952,7': 'MCAR', '953,5': 'MCAR', '954,0': 'MCAR', '954,2': 'MCAR', '954,5': 'MCAR', '955,8': 'MCAR', '957,2': 'MCAR', '957,5': 'MCAR', '957,8': 'MCAR', '959,4': 'MCAR', '962,1': 'MCAR', '964,0': 'MCAR', '966,3': 'MCAR', '967,3': 'MCAR', '967,8': 'MCAR', '968,4': 'MCAR', '970,5': 'MCAR', '970,6': 'MCAR', '975,5': 'MCAR', '976,0': 'MCAR', '976,4': 'MCAR', '976,5': 'MCAR', '977,0': 'MCAR', '977,4': 'MCAR', '977,5': 'MCAR', '978,1': 'MCAR', '978,6': 'MCAR', '979,3': 'MCAR', '979,5': 'MCAR', '980,8': 'MCAR', '981,2': 'MCAR', '981,6': 'MCAR', '983,4': 'MCAR', '984,0': 'MCAR', '986,0': 'MCAR', '986,8': 'MCAR', '987,0': 'MCAR', '987,4': 'MCAR', '987,6': 'MCAR', '987,7': 'MCAR', '989,0': 'MCAR', '989,4': 'MCAR', '989,8': 'MCAR', '991,4': 'MCAR', '992,2': 'MCAR', '993,3': 'MCAR', '993,7': 'MCAR', '994,6': 'MCAR', '995,0': 'MCAR', '995,1': 'MCAR', '995,8': 'MCAR', '996,1': 'MCAR', '997,4': 'MCAR', '999,7': 'MCAR', '999,8': 'MCAR'}\n"
     ]
    }
   ],
   "source": [
    "miss_mcar,index_mcar = generator.MCAR(data, missing_rate=15)\n",
    "print(miss_mcar.isna().sum())\n",
    "\n",
    "\n",
    "print(miss_mcar)\n",
    "print(miss_mcar.notna().sum())\n",
    "print(index_mcar) "
   ]
  },
  {
   "cell_type": "code",
   "execution_count": null,
   "metadata": {},
   "outputs": [
    {
     "name": "stdout",
     "output_type": "stream",
     "text": [
      "Total Missing Percentage: 15.00%\n"
     ]
    }
   ],
   "source": [
    "total_missing_percentage = miss_mcar.isnull().sum().sum() / miss_mcar.size * 100\n",
    "print(f\"Total Missing Percentage: {total_missing_percentage:.2f}%\")"
   ]
  },
  {
   "cell_type": "code",
   "execution_count": null,
   "metadata": {},
   "outputs": [],
   "source": [
    "dependencies = {\n",
    "    \"Checking account\": {\"influencers\": [\"Saving accounts\"], \"condition\": lambda row: row[\"Saving accounts\"] < 1},\n",
    "    \"Sex\": {\"influencers\": [\"Housing\"], \"condition\": lambda row: row[\"Housing\"] > data[\"Housing\"].mean() }\n",
    "    \n",
    "}"
   ]
  },
  {
   "cell_type": "code",
   "execution_count": null,
   "metadata": {},
   "outputs": [],
   "source": [
    "miss_mar,index_mar = generator.MAR(miss_mcar,dependencies,missing_rate=15)"
   ]
  },
  {
   "cell_type": "code",
   "execution_count": null,
   "metadata": {},
   "outputs": [
    {
     "name": "stdout",
     "output_type": "stream",
     "text": [
      "{'0,3': 'MCAR', '1,7': 'MCAR', '3,3': 'MCAR', '4,6': 'MCAR', '5,5': 'MCAR,MAR', '6,3': 'MCAR', '6,5': 'MCAR', '6,8': 'MCAR', '7,6': 'MCAR', '7,7': 'MCAR', '8,7': 'MCAR', '10,0': 'MCAR', '11,1': 'MCAR,MAR', '11,6': 'MCAR', '11,7': 'MCAR', '11,8': 'MCAR', '13,0': 'MCAR', '14,1': 'MCAR', '14,3': 'MCAR', '14,4': 'MCAR', '16,0': 'MCAR', '16,6': 'MCAR', '19,4': 'MCAR', '20,4': 'MCAR', '21,2': 'MCAR', '21,4': 'MCAR', '21,7': 'MCAR', '22,1': 'MCAR,MAR', '22,4': 'MCAR', '23,4': 'MCAR', '24,4': 'MCAR', '25,4': 'MCAR', '25,5': 'MCAR', '25,6': 'MCAR', '26,1': 'MCAR', '27,8': 'MCAR', '29,5': 'MCAR,MAR', '30,4': 'MCAR', '31,7': 'MCAR', '32,1': 'MCAR', '32,3': 'MCAR', '33,7': 'MCAR', '35,5': 'MCAR,MAR', '35,6': 'MCAR', '36,8': 'MCAR', '37,2': 'MCAR', '37,4': 'MCAR', '38,2': 'MCAR', '38,4': 'MCAR', '38,7': 'MCAR', '38,8': 'MCAR', '39,1': 'MCAR', '39,4': 'MCAR', '39,6': 'MCAR', '40,2': 'MCAR', '40,3': 'MCAR', '40,5': 'MCAR', '40,7': 'MCAR', '41,1': 'MCAR', '42,0': 'MCAR', '42,4': 'MCAR', '43,0': 'MCAR', '44,2': 'MCAR', '44,7': 'MCAR', '45,4': 'MCAR', '45,7': 'MCAR', '46,7': 'MCAR', '47,6': 'MCAR', '47,8': 'MCAR', '48,0': 'MCAR', '48,5': 'MCAR,MAR', '49,0': 'MCAR', '49,5': 'MCAR', '49,8': 'MCAR', '50,2': 'MCAR', '50,4': 'MCAR', '50,8': 'MCAR', '51,0': 'MCAR', '51,3': 'MCAR', '52,5': 'MCAR,MAR', '53,0': 'MCAR', '53,2': 'MCAR', '55,0': 'MCAR', '55,2': 'MCAR', '55,5': 'MCAR,MAR', '56,6': 'MCAR', '56,7': 'MCAR', '58,5': 'MCAR,MAR', '59,4': 'MCAR', '59,6': 'MCAR', '60,6': 'MCAR', '61,2': 'MCAR', '61,8': 'MCAR', '62,7': 'MCAR', '63,3': 'MCAR', '65,3': 'MCAR', '65,7': 'MCAR', '66,5': 'MCAR,MAR', '68,1': 'MCAR', '68,5': 'MCAR,MAR', '69,0': 'MCAR', '71,2': 'MCAR', '71,6': 'MCAR', '72,3': 'MCAR', '73,2': 'MCAR', '73,5': 'MCAR,MAR', '73,7': 'MCAR', '74,3': 'MCAR', '74,4': 'MCAR', '74,5': 'MCAR', '74,8': 'MCAR', '75,2': 'MCAR', '76,7': 'MCAR', '77,1': 'MCAR', '77,3': 'MCAR', '77,6': 'MCAR', '77,7': 'MCAR', '78,7': 'MCAR', '81,5': 'MCAR', '83,2': 'MCAR', '84,0': 'MCAR', '84,4': 'MCAR', '84,7': 'MCAR', '85,4': 'MCAR', '85,5': 'MCAR', '85,6': 'MCAR', '87,4': 'MCAR', '87,6': 'MCAR', '89,2': 'MCAR', '89,5': 'MCAR,MAR', '90,2': 'MCAR', '91,4': 'MCAR', '91,6': 'MCAR', '92,0': 'MCAR', '94,5': 'MCAR', '96,3': 'MCAR', '97,1': 'MCAR', '97,3': 'MCAR', '98,1': 'MCAR', '99,2': 'MCAR', '102,0': 'MCAR', '102,3': 'MCAR', '102,8': 'MCAR', '105,0': 'MCAR', '105,3': 'MCAR', '105,8': 'MCAR', '108,1': 'MCAR', '108,7': 'MCAR', '109,8': 'MCAR', '111,8': 'MCAR', '112,1': 'MCAR,MAR', '112,7': 'MCAR', '113,3': 'MCAR', '114,8': 'MCAR', '115,3': 'MCAR', '115,6': 'MCAR', '115,8': 'MCAR', '116,0': 'MCAR', '116,2': 'MCAR', '116,4': 'MCAR', '117,1': 'MCAR,MAR', '118,0': 'MCAR', '118,4': 'MCAR', '119,5': 'MCAR', '120,0': 'MCAR', '120,1': 'MCAR', '120,3': 'MCAR', '120,8': 'MCAR', '121,2': 'MCAR', '121,6': 'MCAR', '123,5': 'MCAR,MAR', '123,6': 'MCAR', '123,7': 'MCAR', '124,4': 'MCAR', '124,6': 'MCAR', '125,8': 'MCAR', '127,8': 'MCAR', '128,1': 'MCAR', '128,5': 'MCAR,MAR', '130,2': 'MCAR', '131,5': 'MCAR,MAR', '132,3': 'MCAR', '132,4': 'MCAR', '134,0': 'MCAR', '134,4': 'MCAR', '135,2': 'MCAR', '135,5': 'MCAR,MAR', '135,8': 'MCAR', '136,5': 'MCAR', '136,7': 'MCAR', '137,0': 'MCAR', '142,3': 'MCAR', '143,3': 'MCAR', '145,3': 'MCAR', '145,6': 'MCAR', '146,7': 'MCAR', '147,5': 'MCAR', '148,3': 'MCAR', '148,5': 'MCAR,MAR', '148,6': 'MCAR', '149,4': 'MCAR', '149,5': 'MCAR', '150,0': 'MCAR', '150,6': 'MCAR', '153,6': 'MCAR', '154,4': 'MCAR', '158,5': 'MCAR', '159,7': 'MCAR', '160,3': 'MCAR', '162,8': 'MCAR', '163,2': 'MCAR', '164,4': 'MCAR', '165,5': 'MCAR', '166,2': 'MCAR', '166,4': 'MCAR', '166,8': 'MCAR', '167,7': 'MCAR', '169,6': 'MCAR', '171,0': 'MCAR', '172,0': 'MCAR', '172,2': 'MCAR', '172,5': 'MCAR,MAR', '172,8': 'MCAR', '174,0': 'MCAR', '174,5': 'MCAR,MAR', '174,6': 'MCAR', '174,7': 'MCAR', '174,8': 'MCAR', '176,3': 'MCAR', '177,2': 'MCAR', '177,7': 'MCAR', '178,2': 'MCAR', '178,5': 'MCAR,MAR', '180,3': 'MCAR', '180,8': 'MCAR', '181,5': 'MCAR,MAR', '181,7': 'MCAR', '182,0': 'MCAR', '182,2': 'MCAR', '182,3': 'MCAR', '183,3': 'MCAR', '183,4': 'MCAR', '183,5': 'MCAR', '185,0': 'MCAR', '185,5': 'MCAR,MAR', '185,7': 'MCAR', '185,8': 'MCAR', '186,2': 'MCAR', '186,3': 'MCAR', '187,4': 'MCAR', '187,5': 'MCAR', '188,1': 'MCAR', '188,2': 'MCAR', '189,1': 'MCAR', '189,2': 'MCAR', '190,0': 'MCAR', '191,4': 'MCAR', '191,5': 'MCAR', '192,1': 'MCAR', '192,2': 'MCAR', '193,1': 'MCAR,MAR', '193,6': 'MCAR', '194,0': 'MCAR', '195,0': 'MCAR', '195,6': 'MCAR', '197,5': 'MCAR', '198,0': 'MCAR', '198,5': 'MCAR,MAR', '199,4': 'MCAR', '200,0': 'MCAR', '201,3': 'MCAR', '202,7': 'MCAR', '203,0': 'MCAR', '205,2': 'MCAR', '205,4': 'MCAR', '205,5': 'MCAR', '206,0': 'MCAR', '206,1': 'MCAR', '206,4': 'MCAR', '206,5': 'MCAR', '208,0': 'MCAR', '208,5': 'MCAR,MAR', '209,3': 'MCAR', '209,7': 'MCAR', '211,0': 'MCAR', '211,1': 'MCAR', '212,4': 'MCAR', '213,0': 'MCAR', '213,2': 'MCAR', '213,3': 'MCAR', '214,7': 'MCAR', '214,8': 'MCAR', '215,0': 'MCAR', '216,0': 'MCAR', '216,5': 'MCAR,MAR', '216,6': 'MCAR', '217,4': 'MCAR', '219,1': 'MCAR', '219,8': 'MCAR', '220,1': 'MCAR', '220,4': 'MCAR', '220,7': 'MCAR', '221,6': 'MCAR', '222,7': 'MCAR', '224,2': 'MCAR', '224,4': 'MCAR', '225,1': 'MCAR', '226,4': 'MCAR', '227,0': 'MCAR', '227,7': 'MCAR', '228,6': 'MCAR', '229,0': 'MCAR', '230,1': 'MCAR', '230,3': 'MCAR', '230,8': 'MCAR', '231,0': 'MCAR', '231,4': 'MCAR', '231,6': 'MCAR', '232,5': 'MCAR', '232,7': 'MCAR', '232,8': 'MCAR', '233,2': 'MCAR', '233,3': 'MCAR', '234,4': 'MCAR', '235,0': 'MCAR', '235,1': 'MCAR', '235,6': 'MCAR', '237,1': 'MCAR,MAR', '237,7': 'MCAR', '239,2': 'MCAR', '239,4': 'MCAR', '239,7': 'MCAR', '240,3': 'MCAR', '240,4': 'MCAR', '240,5': 'MCAR', '240,7': 'MCAR', '241,8': 'MCAR', '243,2': 'MCAR', '246,3': 'MCAR', '247,0': 'MCAR', '247,8': 'MCAR', '248,8': 'MCAR', '249,4': 'MCAR', '249,5': 'MCAR', '250,5': 'MCAR', '250,8': 'MCAR', '251,1': 'MCAR', '251,4': 'MCAR', '253,3': 'MCAR', '253,8': 'MCAR', '254,3': 'MCAR', '257,0': 'MCAR', '257,8': 'MCAR', '258,5': 'MCAR', '260,3': 'MCAR', '260,5': 'MCAR,MAR', '262,0': 'MCAR', '262,4': 'MCAR', '263,0': 'MCAR', '264,2': 'MCAR', '264,3': 'MCAR', '264,5': 'MCAR,MAR', '265,7': 'MCAR', '265,8': 'MCAR', '266,7': 'MCAR', '267,0': 'MCAR', '267,3': 'MCAR', '267,8': 'MCAR', '268,0': 'MCAR', '269,5': 'MCAR,MAR', '270,0': 'MCAR', '270,2': 'MCAR', '271,5': 'MCAR', '271,6': 'MCAR', '271,7': 'MCAR', '272,5': 'MCAR,MAR', '272,7': 'MCAR', '274,2': 'MCAR', '274,6': 'MCAR', '275,4': 'MCAR', '275,8': 'MCAR', '276,7': 'MCAR', '277,0': 'MCAR', '277,1': 'MCAR', '277,4': 'MCAR', '277,7': 'MCAR', '278,6': 'MCAR', '278,7': 'MCAR', '279,0': 'MCAR', '279,2': 'MCAR', '279,4': 'MCAR', '279,5': 'MCAR', '279,7': 'MCAR', '280,4': 'MCAR', '281,8': 'MCAR', '282,5': 'MCAR,MAR', '284,5': 'MCAR', '284,6': 'MCAR', '285,2': 'MCAR', '286,1': 'MCAR', '286,4': 'MCAR', '287,5': 'MCAR', '288,5': 'MCAR,MAR', '289,0': 'MCAR', '290,2': 'MCAR', '290,5': 'MCAR,MAR', '291,1': 'MCAR,MAR', '292,7': 'MCAR', '292,8': 'MCAR', '293,2': 'MCAR', '293,3': 'MCAR', '293,4': 'MCAR', '294,4': 'MCAR', '295,2': 'MCAR', '295,4': 'MCAR', '295,7': 'MCAR', '295,8': 'MCAR', '297,2': 'MCAR', '297,5': 'MCAR,MAR', '297,7': 'MCAR', '299,6': 'MCAR', '299,7': 'MCAR', '300,1': 'MCAR', '301,0': 'MCAR', '302,2': 'MCAR', '302,4': 'MCAR', '302,7': 'MCAR', '304,0': 'MCAR', '304,2': 'MCAR', '304,7': 'MCAR', '306,3': 'MCAR', '307,0': 'MCAR', '307,1': 'MCAR', '307,5': 'MCAR', '308,7': 'MCAR', '310,3': 'MCAR', '311,1': 'MCAR', '311,2': 'MCAR', '311,5': 'MCAR', '312,0': 'MCAR', '312,3': 'MCAR', '312,6': 'MCAR', '313,2': 'MCAR', '314,1': 'MCAR', '314,7': 'MCAR', '315,0': 'MCAR', '315,2': 'MCAR', '315,5': 'MCAR,MAR', '316,0': 'MCAR', '316,5': 'MCAR,MAR', '316,8': 'MCAR', '317,3': 'MCAR', '318,0': 'MCAR', '318,4': 'MCAR', '318,7': 'MCAR', '319,5': 'MCAR,MAR', '319,7': 'MCAR', '321,2': 'MCAR', '321,8': 'MCAR', '322,0': 'MCAR', '322,1': 'MCAR', '322,5': 'MCAR,MAR', '323,4': 'MCAR', '323,8': 'MCAR', '324,0': 'MCAR', '324,1': 'MCAR', '327,0': 'MCAR', '327,1': 'MCAR', '327,2': 'MCAR', '327,8': 'MCAR', '328,1': 'MCAR', '328,2': 'MCAR', '329,0': 'MCAR', '329,6': 'MCAR', '330,2': 'MCAR', '330,7': 'MCAR', '331,4': 'MCAR', '332,2': 'MCAR', '332,7': 'MCAR', '332,8': 'MCAR', '333,7': 'MCAR', '334,1': 'MCAR,MAR', '334,4': 'MCAR', '335,0': 'MCAR', '338,5': 'MCAR,MAR', '339,2': 'MCAR', '339,3': 'MCAR', '339,6': 'MCAR', '341,0': 'MCAR', '341,1': 'MCAR,MAR', '341,2': 'MCAR', '342,6': 'MCAR', '344,3': 'MCAR', '345,1': 'MCAR', '345,6': 'MCAR', '346,4': 'MCAR', '347,5': 'MCAR', '348,1': 'MCAR', '349,7': 'MCAR', '350,4': 'MCAR', '350,8': 'MCAR', '351,2': 'MCAR', '351,3': 'MCAR', '351,7': 'MCAR', '351,8': 'MCAR', '352,3': 'MCAR', '352,8': 'MCAR', '353,5': 'MCAR,MAR', '354,3': 'MCAR', '355,4': 'MCAR', '355,7': 'MCAR', '356,8': 'MCAR', '357,4': 'MCAR', '358,7': 'MCAR', '359,0': 'MCAR', '359,7': 'MCAR', '360,0': 'MCAR', '361,0': 'MCAR', '361,1': 'MCAR', '361,4': 'MCAR', '364,0': 'MCAR', '364,7': 'MCAR', '365,8': 'MCAR', '366,1': 'MCAR', '366,5': 'MCAR,MAR', '367,3': 'MCAR', '367,5': 'MCAR,MAR', '367,6': 'MCAR', '369,6': 'MCAR', '370,3': 'MCAR', '372,3': 'MCAR', '372,5': 'MCAR,MAR', '373,1': 'MCAR', '373,4': 'MCAR', '374,2': 'MCAR', '374,3': 'MCAR', '374,5': 'MCAR', '374,6': 'MCAR', '375,8': 'MCAR', '377,1': 'MCAR', '377,4': 'MCAR', '378,4': 'MCAR', '378,6': 'MCAR', '379,4': 'MCAR', '379,6': 'MCAR', '380,6': 'MCAR', '380,7': 'MCAR', '382,0': 'MCAR', '384,3': 'MCAR', '384,8': 'MCAR', '386,4': 'MCAR', '386,6': 'MCAR', '386,7': 'MCAR', '387,2': 'MCAR', '387,8': 'MCAR', '388,3': 'MCAR', '388,4': 'MCAR', '389,1': 'MCAR', '389,5': 'MCAR,MAR', '389,6': 'MCAR', '389,8': 'MCAR', '390,6': 'MCAR', '391,3': 'MCAR', '392,1': 'MCAR', '392,3': 'MCAR', '393,8': 'MCAR', '394,2': 'MCAR', '394,7': 'MCAR', '395,7': 'MCAR', '396,2': 'MCAR', '397,1': 'MCAR', '398,8': 'MCAR', '400,4': 'MCAR', '400,7': 'MCAR', '401,0': 'MCAR', '401,1': 'MCAR', '402,6': 'MCAR', '402,7': 'MCAR', '403,7': 'MCAR', '403,8': 'MCAR', '404,0': 'MCAR', '404,5': 'MCAR,MAR', '404,6': 'MCAR', '406,5': 'MCAR,MAR', '407,8': 'MCAR', '408,4': 'MCAR', '408,8': 'MCAR', '411,0': 'MCAR', '411,3': 'MCAR', '411,5': 'MCAR,MAR', '412,2': 'MCAR', '412,3': 'MCAR', '414,6': 'MCAR', '415,3': 'MCAR', '415,4': 'MCAR', '416,4': 'MCAR', '417,4': 'MCAR', '420,4': 'MCAR', '421,4': 'MCAR', '421,5': 'MCAR', '424,1': 'MCAR', '425,7': 'MCAR', '426,1': 'MCAR', '427,1': 'MCAR', '428,1': 'MCAR', '430,2': 'MCAR', '430,3': 'MCAR', '430,4': 'MCAR', '430,5': 'MCAR', '431,0': 'MCAR', '431,3': 'MCAR', '431,8': 'MCAR', '433,1': 'MCAR', '433,4': 'MCAR', '434,8': 'MCAR', '435,1': 'MCAR', '435,4': 'MCAR', '435,7': 'MCAR', '436,0': 'MCAR', '436,1': 'MCAR', '436,3': 'MCAR', '437,1': 'MCAR', '437,2': 'MCAR', '437,7': 'MCAR', '438,8': 'MCAR', '439,1': 'MCAR', '439,4': 'MCAR', '439,5': 'MCAR', '441,0': 'MCAR', '441,3': 'MCAR', '441,7': 'MCAR', '442,0': 'MCAR', '442,2': 'MCAR', '444,0': 'MCAR', '445,2': 'MCAR', '445,4': 'MCAR', '445,8': 'MCAR', '446,8': 'MCAR', '448,2': 'MCAR', '448,8': 'MCAR', '449,3': 'MCAR', '449,6': 'MCAR', '450,0': 'MCAR', '450,1': 'MCAR', '450,2': 'MCAR', '450,3': 'MCAR', '450,5': 'MCAR,MAR', '451,3': 'MCAR', '451,5': 'MCAR,MAR', '451,7': 'MCAR', '452,3': 'MCAR', '452,6': 'MCAR', '453,1': 'MCAR', '455,1': 'MCAR', '455,5': 'MCAR,MAR', '458,3': 'MCAR', '458,4': 'MCAR', '459,1': 'MCAR', '459,5': 'MCAR,MAR', '460,1': 'MCAR', '460,5': 'MCAR,MAR', '461,3': 'MCAR', '461,4': 'MCAR', '461,7': 'MCAR', '463,3': 'MCAR', '464,6': 'MCAR', '466,0': 'MCAR', '466,2': 'MCAR', '466,6': 'MCAR', '466,8': 'MCAR', '467,6': 'MCAR', '469,7': 'MCAR', '470,1': 'MCAR,MAR', '470,4': 'MCAR', '470,5': 'MCAR', '472,1': 'MCAR', '472,4': 'MCAR', '473,6': 'MCAR', '474,2': 'MCAR', '474,6': 'MCAR', '474,7': 'MCAR', '478,3': 'MCAR', '480,3': 'MCAR', '482,0': 'MCAR', '484,3': 'MCAR', '484,5': 'MCAR', '485,1': 'MCAR', '486,3': 'MCAR', '486,7': 'MCAR', '488,6': 'MCAR', '492,5': 'MCAR', '492,8': 'MCAR', '494,1': 'MCAR,MAR', '494,5': 'MCAR,MAR', '494,7': 'MCAR', '495,7': 'MCAR', '496,4': 'MCAR', '496,5': 'MCAR', '496,7': 'MCAR', '497,1': 'MCAR', '497,7': 'MCAR', '500,0': 'MCAR', '501,3': 'MCAR', '505,6': 'MCAR', '505,7': 'MCAR', '506,3': 'MCAR', '507,2': 'MCAR', '509,8': 'MCAR', '511,0': 'MCAR', '511,2': 'MCAR', '511,6': 'MCAR', '512,7': 'MCAR', '513,1': 'MCAR,MAR', '513,4': 'MCAR', '514,2': 'MCAR', '514,5': 'MCAR,MAR', '515,0': 'MCAR', '515,5': 'MCAR,MAR', '517,4': 'MCAR', '517,8': 'MCAR', '518,6': 'MCAR', '519,1': 'MCAR', '519,7': 'MCAR', '520,5': 'MCAR,MAR', '520,6': 'MCAR', '520,7': 'MCAR', '521,5': 'MCAR,MAR', '522,3': 'MCAR', '523,0': 'MCAR', '525,3': 'MCAR', '525,4': 'MCAR', '527,0': 'MCAR', '527,3': 'MCAR', '527,4': 'MCAR', '527,6': 'MCAR', '529,5': 'MCAR,MAR', '529,6': 'MCAR', '530,0': 'MCAR', '532,5': 'MCAR,MAR', '533,3': 'MCAR', '534,2': 'MCAR', '534,6': 'MCAR', '535,4': 'MCAR', '535,7': 'MCAR', '535,8': 'MCAR', '536,5': 'MCAR,MAR', '537,0': 'MCAR', '537,2': 'MCAR', '537,4': 'MCAR', '538,2': 'MCAR', '538,5': 'MCAR,MAR', '539,6': 'MCAR', '540,5': 'MCAR,MAR', '540,7': 'MCAR', '540,8': 'MCAR', '543,3': 'MCAR', '544,6': 'MCAR', '547,1': 'MCAR', '547,8': 'MCAR', '548,3': 'MCAR', '549,5': 'MCAR,MAR', '551,0': 'MCAR', '551,1': 'MCAR', '552,3': 'MCAR', '553,1': 'MCAR', '555,3': 'MCAR', '555,5': 'MCAR,MAR', '555,6': 'MCAR', '556,7': 'MCAR', '557,1': 'MCAR', '557,7': 'MCAR', '557,8': 'MCAR', '558,5': 'MCAR,MAR', '560,8': 'MCAR', '564,5': 'MCAR,MAR', '565,2': 'MCAR', '565,6': 'MCAR', '569,7': 'MCAR', '569,8': 'MCAR', '570,1': 'MCAR,MAR', '570,4': 'MCAR', '570,5': 'MCAR', '572,8': 'MCAR', '573,1': 'MCAR', '576,7': 'MCAR', '577,2': 'MCAR', '579,3': 'MCAR', '580,5': 'MCAR,MAR', '580,7': 'MCAR', '582,7': 'MCAR', '582,8': 'MCAR', '583,2': 'MCAR', '583,4': 'MCAR', '584,5': 'MCAR,MAR', '584,8': 'MCAR', '585,5': 'MCAR,MAR', '585,6': 'MCAR', '586,1': 'MCAR,MAR', '586,5': 'MCAR,MAR', '587,2': 'MCAR', '588,7': 'MCAR', '589,8': 'MCAR', '590,1': 'MCAR', '590,8': 'MCAR', '591,0': 'MCAR', '591,5': 'MCAR,MAR', '591,8': 'MCAR', '592,1': 'MCAR', '592,5': 'MCAR', '593,8': 'MCAR', '594,3': 'MCAR', '594,6': 'MCAR', '595,5': 'MCAR', '596,0': 'MCAR', '596,2': 'MCAR', '596,4': 'MCAR', '596,7': 'MCAR', '597,7': 'MCAR', '598,2': 'MCAR', '600,3': 'MCAR', '600,7': 'MCAR', '601,4': 'MCAR', '602,0': 'MCAR', '602,4': 'MCAR', '602,5': 'MCAR', '603,7': 'MCAR', '604,1': 'MCAR', '604,7': 'MCAR', '606,2': 'MCAR', '606,4': 'MCAR', '606,6': 'MCAR', '607,1': 'MCAR', '607,3': 'MCAR', '608,1': 'MCAR', '608,6': 'MCAR', '610,5': 'MCAR', '610,6': 'MCAR', '612,0': 'MCAR', '612,1': 'MCAR', '613,4': 'MCAR', '615,1': 'MCAR', '615,8': 'MCAR', '616,1': 'MCAR', '616,5': 'MCAR,MAR', '616,6': 'MCAR', '617,6': 'MCAR', '617,8': 'MCAR', '618,4': 'MCAR', '618,5': 'MCAR', '620,5': 'MCAR,MAR', '621,2': 'MCAR', '623,0': 'MCAR', '623,5': 'MCAR,MAR', '627,5': 'MCAR', '628,0': 'MCAR', '628,4': 'MCAR', '629,0': 'MCAR', '629,3': 'MCAR', '631,0': 'MCAR', '631,1': 'MCAR', '631,2': 'MCAR', '631,5': 'MCAR,MAR', '631,6': 'MCAR', '632,3': 'MCAR', '632,6': 'MCAR', '634,0': 'MCAR', '634,3': 'MCAR', '634,8': 'MCAR', '635,3': 'MCAR', '635,5': 'MCAR,MAR', '636,4': 'MCAR', '636,5': 'MCAR', '636,6': 'MCAR', '638,2': 'MCAR', '639,6': 'MCAR', '640,2': 'MCAR', '640,6': 'MCAR', '642,0': 'MCAR', '642,8': 'MCAR', '643,2': 'MCAR', '643,4': 'MCAR', '643,6': 'MCAR', '644,2': 'MCAR', '645,1': 'MCAR,MAR', '645,2': 'MCAR', '645,5': 'MCAR,MAR', '646,0': 'MCAR', '646,7': 'MCAR', '646,8': 'MCAR', '647,7': 'MCAR', '648,5': 'MCAR,MAR', '649,3': 'MCAR', '649,6': 'MCAR', '650,4': 'MCAR', '652,0': 'MCAR', '652,2': 'MCAR', '652,4': 'MCAR', '652,7': 'MCAR', '653,2': 'MCAR', '653,7': 'MCAR', '655,1': 'MCAR', '655,2': 'MCAR', '656,1': 'MCAR', '656,6': 'MCAR', '656,7': 'MCAR', '657,1': 'MCAR', '657,8': 'MCAR', '658,0': 'MCAR', '659,6': 'MCAR', '663,5': 'MCAR,MAR', '663,7': 'MCAR', '664,2': 'MCAR', '664,7': 'MCAR', '665,0': 'MCAR', '665,5': 'MCAR,MAR', '666,4': 'MCAR', '666,5': 'MCAR', '666,6': 'MCAR', '666,8': 'MCAR', '667,1': 'MCAR', '667,8': 'MCAR', '669,1': 'MCAR', '671,8': 'MCAR', '672,0': 'MCAR', '672,5': 'MCAR,MAR', '673,1': 'MCAR', '675,2': 'MCAR', '676,1': 'MCAR', '676,7': 'MCAR', '678,2': 'MCAR', '679,6': 'MCAR', '682,1': 'MCAR', '683,0': 'MCAR', '683,8': 'MCAR', '684,2': 'MCAR', '684,7': 'MCAR', '685,3': 'MCAR', '685,8': 'MCAR', '688,1': 'MCAR', '688,6': 'MCAR', '689,1': 'MCAR', '690,1': 'MCAR', '690,2': 'MCAR', '690,5': 'MCAR,MAR', '691,3': 'MCAR', '692,0': 'MCAR', '692,8': 'MCAR', '693,4': 'MCAR', '693,5': 'MCAR', '694,1': 'MCAR', '694,5': 'MCAR,MAR', '694,7': 'MCAR', '695,2': 'MCAR', '696,6': 'MCAR', '696,7': 'MCAR', '697,2': 'MCAR', '697,5': 'MCAR,MAR', '697,6': 'MCAR', '698,5': 'MCAR,MAR', '699,0': 'MCAR', '699,2': 'MCAR', '699,6': 'MCAR', '700,7': 'MCAR', '701,4': 'MCAR', '703,5': 'MCAR', '705,7': 'MCAR', '706,4': 'MCAR', '707,0': 'MCAR', '707,8': 'MCAR', '709,3': 'MCAR', '709,6': 'MCAR', '710,5': 'MCAR', '711,0': 'MCAR', '712,7': 'MCAR', '713,1': 'MCAR', '713,2': 'MCAR', '714,0': 'MCAR', '714,6': 'MCAR', '715,4': 'MCAR', '715,6': 'MCAR', '716,4': 'MCAR', '717,0': 'MCAR', '717,6': 'MCAR', '718,0': 'MCAR', '718,1': 'MCAR', '719,4': 'MCAR', '719,7': 'MCAR', '720,2': 'MCAR', '720,5': 'MCAR,MAR', '720,7': 'MCAR', '721,8': 'MCAR', '722,1': 'MCAR', '722,4': 'MCAR', '723,3': 'MCAR', '723,4': 'MCAR', '724,1': 'MCAR,MAR', '726,3': 'MCAR', '727,2': 'MCAR', '727,4': 'MCAR', '728,8': 'MCAR', '730,4': 'MCAR', '731,5': 'MCAR,MAR', '732,4': 'MCAR', '732,8': 'MCAR', '733,1': 'MCAR,MAR', '734,7': 'MCAR', '735,0': 'MCAR', '736,4': 'MCAR', '737,4': 'MCAR', '739,3': 'MCAR', '739,7': 'MCAR', '740,0': 'MCAR', '741,0': 'MCAR', '742,3': 'MCAR', '743,1': 'MCAR', '744,6': 'MCAR', '745,5': 'MCAR,MAR', '746,1': 'MCAR,MAR', '746,5': 'MCAR,MAR', '746,6': 'MCAR', '747,3': 'MCAR', '748,3': 'MCAR', '748,7': 'MCAR', '749,4': 'MCAR', '751,0': 'MCAR', '751,2': 'MCAR', '753,0': 'MCAR', '754,0': 'MCAR', '754,4': 'MCAR', '755,0': 'MCAR', '757,0': 'MCAR', '758,1': 'MCAR', '759,2': 'MCAR', '759,4': 'MCAR', '759,5': 'MCAR', '759,6': 'MCAR', '761,0': 'MCAR', '761,2': 'MCAR', '761,7': 'MCAR', '763,2': 'MCAR', '763,6': 'MCAR', '763,8': 'MCAR', '765,0': 'MCAR', '766,0': 'MCAR', '768,8': 'MCAR', '770,2': 'MCAR', '770,4': 'MCAR', '770,6': 'MCAR', '771,0': 'MCAR', '771,5': 'MCAR,MAR', '773,2': 'MCAR', '774,5': 'MCAR', '775,2': 'MCAR', '775,5': 'MCAR,MAR', '776,5': 'MCAR,MAR', '777,3': 'MCAR', '778,0': 'MCAR', '778,1': 'MCAR', '779,1': 'MCAR', '779,5': 'MCAR,MAR', '780,0': 'MCAR', '780,8': 'MCAR', '781,0': 'MCAR', '782,3': 'MCAR', '783,8': 'MCAR', '784,2': 'MCAR', '784,7': 'MCAR', '784,8': 'MCAR', '785,0': 'MCAR', '785,5': 'MCAR', '785,6': 'MCAR', '785,7': 'MCAR', '787,4': 'MCAR', '788,8': 'MCAR', '790,4': 'MCAR', '790,6': 'MCAR', '791,8': 'MCAR', '792,0': 'MCAR', '793,3': 'MCAR', '795,3': 'MCAR', '797,0': 'MCAR', '799,7': 'MCAR', '800,3': 'MCAR', '800,8': 'MCAR', '801,0': 'MCAR', '801,8': 'MCAR', '802,1': 'MCAR', '802,2': 'MCAR', '802,5': 'MCAR,MAR', '802,6': 'MCAR', '803,1': 'MCAR', '803,2': 'MCAR', '804,2': 'MCAR', '805,2': 'MCAR', '805,3': 'MCAR', '805,5': 'MCAR,MAR', '806,2': 'MCAR', '806,4': 'MCAR', '806,5': 'MCAR', '806,8': 'MCAR', '807,0': 'MCAR', '809,3': 'MCAR', '809,7': 'MCAR', '810,4': 'MCAR', '811,6': 'MCAR', '812,4': 'MCAR', '814,3': 'MCAR', '815,2': 'MCAR', '816,0': 'MCAR', '816,2': 'MCAR', '817,0': 'MCAR', '817,1': 'MCAR,MAR', '817,8': 'MCAR', '818,2': 'MCAR', '818,6': 'MCAR', '819,1': 'MCAR', '821,2': 'MCAR', '821,4': 'MCAR', '823,3': 'MCAR', '824,4': 'MCAR', '825,0': 'MCAR', '825,8': 'MCAR', '828,0': 'MCAR', '830,3': 'MCAR', '830,7': 'MCAR', '831,1': 'MCAR,MAR', '831,6': 'MCAR', '831,7': 'MCAR', '832,0': 'MCAR', '832,3': 'MCAR', '832,5': 'MCAR,MAR', '832,8': 'MCAR', '833,2': 'MCAR', '833,7': 'MCAR', '834,7': 'MCAR', '835,2': 'MCAR', '837,0': 'MCAR', '837,7': 'MCAR', '839,3': 'MCAR', '839,8': 'MCAR', '840,0': 'MCAR', '842,1': 'MCAR', '842,4': 'MCAR', '843,4': 'MCAR', '844,3': 'MCAR', '846,8': 'MCAR', '847,0': 'MCAR', '847,7': 'MCAR', '848,0': 'MCAR', '849,3': 'MCAR', '850,2': 'MCAR', '851,0': 'MCAR', '851,6': 'MCAR', '852,5': 'MCAR,MAR', '852,6': 'MCAR', '853,0': 'MCAR', '853,3': 'MCAR', '853,4': 'MCAR', '854,0': 'MCAR', '854,6': 'MCAR', '854,7': 'MCAR', '855,1': 'MCAR', '855,2': 'MCAR', '856,4': 'MCAR', '858,1': 'MCAR', '858,3': 'MCAR', '859,2': 'MCAR', '863,1': 'MCAR', '864,6': 'MCAR', '865,1': 'MCAR,MAR', '865,8': 'MCAR', '866,3': 'MCAR', '867,5': 'MCAR,MAR', '868,0': 'MCAR', '869,3': 'MCAR', '869,5': 'MCAR,MAR', '870,2': 'MCAR', '870,3': 'MCAR', '871,0': 'MCAR', '871,1': 'MCAR', '872,6': 'MCAR', '872,7': 'MCAR', '872,8': 'MCAR', '873,1': 'MCAR', '873,8': 'MCAR', '874,0': 'MCAR', '875,5': 'MCAR', '876,8': 'MCAR', '878,1': 'MCAR', '878,3': 'MCAR', '878,5': 'MCAR,MAR', '878,8': 'MCAR', '880,2': 'MCAR', '881,8': 'MCAR', '883,1': 'MCAR', '883,4': 'MCAR', '883,8': 'MCAR', '884,2': 'MCAR', '884,4': 'MCAR', '884,5': 'MCAR', '885,0': 'MCAR', '885,2': 'MCAR', '885,6': 'MCAR', '886,1': 'MCAR', '886,8': 'MCAR', '888,2': 'MCAR', '888,5': 'MCAR,MAR', '890,0': 'MCAR', '890,5': 'MCAR,MAR', '891,0': 'MCAR', '893,1': 'MCAR', '893,3': 'MCAR', '893,4': 'MCAR', '894,1': 'MCAR', '897,3': 'MCAR', '897,6': 'MCAR', '898,2': 'MCAR', '898,5': 'MCAR,MAR', '898,6': 'MCAR', '899,3': 'MCAR', '899,5': 'MCAR,MAR', '901,0': 'MCAR', '901,1': 'MCAR', '902,5': 'MCAR,MAR', '903,1': 'MCAR,MAR', '903,4': 'MCAR', '903,5': 'MCAR', '904,0': 'MCAR', '904,1': 'MCAR', '905,1': 'MCAR,MAR', '905,4': 'MCAR', '905,5': 'MCAR', '906,6': 'MCAR', '907,3': 'MCAR', '909,6': 'MCAR', '910,4': 'MCAR', '910,7': 'MCAR', '912,2': 'MCAR', '912,3': 'MCAR', '913,4': 'MCAR', '915,0': 'MCAR', '915,1': 'MCAR', '916,1': 'MCAR', '916,7': 'MCAR', '917,1': 'MCAR', '917,6': 'MCAR', '918,0': 'MCAR', '918,6': 'MCAR', '919,0': 'MCAR', '919,3': 'MCAR', '919,5': 'MCAR,MAR', '920,5': 'MCAR,MAR', '920,7': 'MCAR', '920,8': 'MCAR', '921,4': 'MCAR', '922,2': 'MCAR', '922,6': 'MCAR', '923,0': 'MCAR', '924,0': 'MCAR', '924,2': 'MCAR', '924,7': 'MCAR', '925,3': 'MCAR', '927,5': 'MCAR,MAR', '929,7': 'MCAR', '930,3': 'MCAR', '930,4': 'MCAR', '932,5': 'MCAR,MAR', '933,6': 'MCAR', '934,1': 'MCAR', '935,7': 'MCAR', '936,2': 'MCAR', '937,1': 'MCAR,MAR', '937,4': 'MCAR', '937,7': 'MCAR', '938,7': 'MCAR', '939,3': 'MCAR', '939,4': 'MCAR', '939,5': 'MCAR', '941,0': 'MCAR', '941,2': 'MCAR', '941,3': 'MCAR', '943,4': 'MCAR', '944,3': 'MCAR', '944,7': 'MCAR', '945,0': 'MCAR', '945,7': 'MCAR', '947,1': 'MCAR', '947,2': 'MCAR', '949,5': 'MCAR', '950,2': 'MCAR', '950,3': 'MCAR', '951,3': 'MCAR', '951,4': 'MCAR', '951,5': 'MCAR', '951,8': 'MCAR', '952,7': 'MCAR', '953,5': 'MCAR,MAR', '954,0': 'MCAR', '954,2': 'MCAR', '954,5': 'MCAR,MAR', '955,8': 'MCAR', '957,2': 'MCAR', '957,5': 'MCAR,MAR', '957,8': 'MCAR', '959,4': 'MCAR', '962,1': 'MCAR', '964,0': 'MCAR', '966,3': 'MCAR', '967,3': 'MCAR', '967,8': 'MCAR', '968,4': 'MCAR', '970,5': 'MCAR', '970,6': 'MCAR', '975,5': 'MCAR', '976,0': 'MCAR', '976,4': 'MCAR', '976,5': 'MCAR', '977,0': 'MCAR', '977,4': 'MCAR', '977,5': 'MCAR', '978,1': 'MCAR', '978,6': 'MCAR', '979,3': 'MCAR', '979,5': 'MCAR', '980,8': 'MCAR', '981,2': 'MCAR', '981,6': 'MCAR', '983,4': 'MCAR', '984,0': 'MCAR', '986,0': 'MCAR', '986,8': 'MCAR', '987,0': 'MCAR', '987,4': 'MCAR', '987,6': 'MCAR', '987,7': 'MCAR', '989,0': 'MCAR', '989,4': 'MCAR', '989,8': 'MCAR', '991,4': 'MCAR', '992,2': 'MCAR', '993,3': 'MCAR', '993,7': 'MCAR', '994,6': 'MCAR', '995,0': 'MCAR', '995,1': 'MCAR', '995,8': 'MCAR', '996,1': 'MCAR', '997,4': 'MCAR', '999,7': 'MCAR', '999,8': 'MCAR', '0,5': 'MAR', '1,5': 'MAR', '2,5': 'MAR', '3,5': 'MAR', '4,5': 'MAR', '7,1': 'MAR', '7,5': 'MAR', '9,5': 'MAR', '10,1': 'MAR', '10,5': 'MAR', '11,5': 'MAR', '12,5': 'MAR', '13,5': 'MAR', '16,5': 'MAR', '17,5': 'MAR', '18,5': 'MAR', '21,1': 'MAR', '26,5': 'MAR', '27,1': 'MAR', '28,5': 'MAR', '31,5': 'MAR', '33,1': 'MAR', '33,5': 'MAR', '34,5': 'MAR', '36,5': 'MAR', '43,1': 'MAR', '44,5': 'MAR', '47,1': 'MAR', '51,5': 'MAR', '53,5': 'MAR', '54,5': 'MAR', '56,5': 'MAR', '57,5': 'MAR', '59,1': 'MAR', '60,5': 'MAR', '61,5': 'MAR', '62,5': 'MAR', '63,5': 'MAR', '64,5': 'MAR', '65,5': 'MAR', '69,5': 'MAR', '70,5': 'MAR', '71,1': 'MAR', '71,5': 'MAR', '72,5': 'MAR', '75,5': 'MAR', '76,5': 'MAR', '77,5': 'MAR', '78,5': 'MAR', '79,5': 'MAR', '80,5': 'MAR', '82,1': 'MAR', '83,5': 'MAR', '86,5': 'MAR', '90,5': 'MAR', '92,5': 'MAR', '93,1': 'MAR', '93,5': 'MAR', '95,1': 'MAR', '95,5': 'MAR', '96,5': 'MAR', '98,5': 'MAR', '99,1': 'MAR', '99,5': 'MAR', '100,1': 'MAR', '101,1': 'MAR', '101,5': 'MAR', '102,5': 'MAR', '103,1': 'MAR', '103,5': 'MAR', '104,1': 'MAR', '104,5': 'MAR', '105,5': 'MAR', '106,5': 'MAR', '107,5': 'MAR', '108,5': 'MAR', '111,1': 'MAR', '111,5': 'MAR', '112,5': 'MAR', '113,5': 'MAR', '115,5': 'MAR', '117,5': 'MAR', '120,5': 'MAR', '121,1': 'MAR', '121,5': 'MAR', '122,1': 'MAR', '122,5': 'MAR', '124,1': 'MAR', '125,5': 'MAR', '126,5': 'MAR', '127,5': 'MAR', '129,5': 'MAR', '130,5': 'MAR', '133,5': 'MAR', '138,5': 'MAR', '139,1': 'MAR', '139,5': 'MAR', '141,5': 'MAR', '142,5': 'MAR', '143,5': 'MAR', '144,5': 'MAR', '146,5': 'MAR', '151,5': 'MAR', '152,5': 'MAR', '153,1': 'MAR', '154,1': 'MAR', '155,1': 'MAR', '155,5': 'MAR', '157,5': 'MAR', '159,5': 'MAR', '161,5': 'MAR', '163,5': 'MAR', '168,1': 'MAR', '168,5': 'MAR', '169,5': 'MAR', '170,1': 'MAR', '170,5': 'MAR', '171,5': 'MAR', '173,5': 'MAR', '175,5': 'MAR', '176,5': 'MAR', '178,1': 'MAR', '179,5': 'MAR', '180,5': 'MAR', '182,5': 'MAR', '184,5': 'MAR', '186,5': 'MAR', '189,5': 'MAR', '192,5': 'MAR', '193,5': 'MAR', '194,1': 'MAR', '195,5': 'MAR', '196,5': 'MAR', '197,1': 'MAR', '201,5': 'MAR', '202,5': 'MAR', '203,1': 'MAR', '203,5': 'MAR', '204,5': 'MAR', '207,5': 'MAR', '210,5': 'MAR', '211,5': 'MAR', '213,5': 'MAR', '214,5': 'MAR', '215,5': 'MAR', '218,1': 'MAR', '218,5': 'MAR', '219,5': 'MAR', '221,1': 'MAR', '221,5': 'MAR', '222,5': 'MAR', '223,5': 'MAR', '225,5': 'MAR', '227,5': 'MAR', '228,5': 'MAR', '229,5': 'MAR', '230,5': 'MAR', '233,5': 'MAR', '235,5': 'MAR', '236,5': 'MAR', '238,5': 'MAR', '241,5': 'MAR', '242,5': 'MAR', '243,5': 'MAR', '245,5': 'MAR', '246,5': 'MAR', '247,1': 'MAR', '248,5': 'MAR', '249,1': 'MAR', '252,5': 'MAR', '254,5': 'MAR', '255,5': 'MAR', '256,5': 'MAR', '257,5': 'MAR', '261,5': 'MAR', '263,5': 'MAR', '265,5': 'MAR', '266,5': 'MAR', '267,5': 'MAR', '268,5': 'MAR', '270,5': 'MAR', '271,1': 'MAR', '273,5': 'MAR', '274,5': 'MAR', '276,5': 'MAR', '278,5': 'MAR', '279,1': 'MAR', '280,1': 'MAR', '281,5': 'MAR', '283,5': 'MAR', '285,5': 'MAR', '289,5': 'MAR', '291,5': 'MAR', '292,5': 'MAR', '296,1': 'MAR', '296,5': 'MAR', '298,5': 'MAR', '300,5': 'MAR', '301,5': 'MAR', '303,5': 'MAR', '306,5': 'MAR', '308,5': 'MAR', '309,1': 'MAR', '309,5': 'MAR', '310,5': 'MAR', '312,5': 'MAR', '313,5': 'MAR', '314,5': 'MAR', '317,5': 'MAR', '320,5': 'MAR', '321,5': 'MAR', '324,5': 'MAR', '325,5': 'MAR', '326,1': 'MAR', '326,5': 'MAR', '328,5': 'MAR', '329,5': 'MAR', '330,5': 'MAR', '333,1': 'MAR', '335,1': 'MAR', '335,5': 'MAR', '336,5': 'MAR', '337,1': 'MAR', '337,5': 'MAR', '339,5': 'MAR', '340,5': 'MAR', '341,5': 'MAR', '342,1': 'MAR', '343,5': 'MAR', '344,5': 'MAR', '345,5': 'MAR', '347,1': 'MAR', '350,1': 'MAR', '351,5': 'MAR', '352,5': 'MAR', '353,1': 'MAR', '356,5': 'MAR', '358,5': 'MAR', '359,1': 'MAR', '359,5': 'MAR', '360,5': 'MAR', '362,5': 'MAR', '363,1': 'MAR', '363,5': 'MAR', '364,5': 'MAR', '365,5': 'MAR', '368,5': 'MAR', '369,1': 'MAR', '369,5': 'MAR', '370,5': 'MAR', '371,5': 'MAR', '375,1': 'MAR', '375,5': 'MAR', '376,5': 'MAR', '380,5': 'MAR', '381,5': 'MAR', '382,1': 'MAR', '382,5': 'MAR', '383,5': 'MAR', '385,5': 'MAR', '386,1': 'MAR', '387,5': 'MAR', '390,5': 'MAR', '392,5': 'MAR', '393,5': 'MAR', '394,5': 'MAR', '395,1': 'MAR', '396,5': 'MAR', '397,5': 'MAR', '398,1': 'MAR', '398,5': 'MAR', '401,5': 'MAR', '402,5': 'MAR', '403,5': 'MAR', '405,5': 'MAR', '407,5': 'MAR', '410,5': 'MAR', '412,5': 'MAR', '413,1': 'MAR', '414,5': 'MAR', '417,1': 'MAR', '419,5': 'MAR', '420,1': 'MAR', '422,5': 'MAR', '424,5': 'MAR', '425,1': 'MAR', '425,5': 'MAR', '426,5': 'MAR', '428,5': 'MAR', '429,5': 'MAR', '431,5': 'MAR', '432,5': 'MAR', '434,5': 'MAR', '438,5': 'MAR', '440,5': 'MAR', '441,5': 'MAR', '442,5': 'MAR', '443,5': 'MAR', '444,5': 'MAR', '445,1': 'MAR', '446,5': 'MAR', '447,5': 'MAR', '448,5': 'MAR', '452,5': 'MAR', '453,5': 'MAR', '454,5': 'MAR', '456,1': 'MAR', '456,5': 'MAR', '457,5': 'MAR', '462,1': 'MAR', '462,5': 'MAR', '463,5': 'MAR', '464,5': 'MAR', '465,5': 'MAR', '466,1': 'MAR', '466,5': 'MAR', '467,5': 'MAR', '468,5': 'MAR', '469,5': 'MAR', '471,5': 'MAR', '473,5': 'MAR', '474,5': 'MAR', '475,1': 'MAR', '475,5': 'MAR', '477,5': 'MAR', '479,5': 'MAR', '480,5': 'MAR', '481,5': 'MAR', '482,1': 'MAR', '485,5': 'MAR', '486,5': 'MAR', '487,5': 'MAR', '488,1': 'MAR', '489,1': 'MAR', '489,5': 'MAR', '490,5': 'MAR', '491,5': 'MAR', '493,5': 'MAR', '495,5': 'MAR', '496,1': 'MAR', '497,5': 'MAR', '498,5': 'MAR', '500,5': 'MAR', '501,5': 'MAR', '504,1': 'MAR', '504,5': 'MAR', '505,5': 'MAR', '508,5': 'MAR', '510,5': 'MAR', '511,5': 'MAR', '512,1': 'MAR', '512,5': 'MAR', '516,5': 'MAR', '517,1': 'MAR', '519,5': 'MAR', '522,5': 'MAR', '524,5': 'MAR', '528,1': 'MAR', '528,5': 'MAR', '530,5': 'MAR', '531,1': 'MAR', '532,1': 'MAR', '534,5': 'MAR', '535,1': 'MAR', '539,5': 'MAR', '540,1': 'MAR', '541,5': 'MAR', '542,5': 'MAR', '543,5': 'MAR', '544,5': 'MAR', '545,5': 'MAR', '546,5': 'MAR', '547,5': 'MAR', '548,5': 'MAR', '550,5': 'MAR', '552,5': 'MAR', '554,5': 'MAR', '557,5': 'MAR', '559,5': 'MAR', '560,5': 'MAR', '561,1': 'MAR', '561,5': 'MAR', '562,5': 'MAR', '563,5': 'MAR', '565,1': 'MAR', '566,5': 'MAR', '568,5': 'MAR', '569,5': 'MAR', '571,5': 'MAR', '572,1': 'MAR', '572,5': 'MAR', '573,5': 'MAR', '574,5': 'MAR', '575,5': 'MAR', '576,5': 'MAR', '577,5': 'MAR', '578,5': 'MAR', '579,5': 'MAR', '581,5': 'MAR', '582,1': 'MAR', '582,5': 'MAR', '583,1': 'MAR', '585,1': 'MAR', '587,5': 'MAR', '588,5': 'MAR', '589,5': 'MAR', '590,5': 'MAR', '591,1': 'MAR', '593,1': 'MAR', '593,5': 'MAR', '594,5': 'MAR', '596,1': 'MAR', '597,5': 'MAR', '598,5': 'MAR', '599,5': 'MAR', '600,5': 'MAR', '603,5': 'MAR', '604,5': 'MAR', '608,5': 'MAR', '609,5': 'MAR', '613,1': 'MAR', '614,5': 'MAR', '615,5': 'MAR', '617,1': 'MAR', '617,5': 'MAR', '618,1': 'MAR', '619,5': 'MAR', '621,5': 'MAR', '622,5': 'MAR', '623,1': 'MAR', '624,5': 'MAR', '625,5': 'MAR', '626,5': 'MAR', '629,5': 'MAR', '630,5': 'MAR', '632,5': 'MAR', '633,1': 'MAR', '633,5': 'MAR', '634,5': 'MAR', '637,5': 'MAR', '638,5': 'MAR', '639,5': 'MAR', '640,5': 'MAR', '641,5': 'MAR', '644,5': 'MAR', '646,5': 'MAR', '649,5': 'MAR', '651,5': 'MAR', '654,5': 'MAR', '655,5': 'MAR', '656,5': 'MAR', '657,5': 'MAR', '658,5': 'MAR', '659,5': 'MAR', '660,1': 'MAR', '660,5': 'MAR', '661,5': 'MAR', '662,5': 'MAR', '664,5': 'MAR', '667,5': 'MAR', '668,1': 'MAR', '668,5': 'MAR', '669,5': 'MAR', '675,1': 'MAR', '675,5': 'MAR', '676,5': 'MAR', '678,1': 'MAR', '678,5': 'MAR', '679,5': 'MAR', '680,5': 'MAR', '681,5': 'MAR', '682,5': 'MAR', '683,5': 'MAR', '685,5': 'MAR', '686,5': 'MAR', '695,1': 'MAR', '696,5': 'MAR', '699,1': 'MAR', '699,5': 'MAR', '700,1': 'MAR', '704,5': 'MAR', '707,1': 'MAR', '707,5': 'MAR', '708,5': 'MAR', '709,5': 'MAR', '711,5': 'MAR', '712,5': 'MAR', '713,5': 'MAR', '714,5': 'MAR', '717,5': 'MAR', '718,5': 'MAR', '721,1': 'MAR', '724,5': 'MAR', '727,1': 'MAR', '728,1': 'MAR', '728,5': 'MAR', '731,1': 'MAR', '734,5': 'MAR', '735,5': 'MAR', '736,1': 'MAR', '738,5': 'MAR', '741,5': 'MAR', '742,5': 'MAR', '744,5': 'MAR', '747,5': 'MAR', '748,5': 'MAR', '750,5': 'MAR', '751,5': 'MAR', '752,1': 'MAR', '753,5': 'MAR', '755,1': 'MAR', '755,5': 'MAR', '756,5': 'MAR', '757,5': 'MAR', '758,5': 'MAR', '760,5': 'MAR', '761,1': 'MAR', '761,5': 'MAR', '762,5': 'MAR', '763,5': 'MAR', '765,5': 'MAR', '766,5': 'MAR', '767,1': 'MAR', '767,5': 'MAR', '768,1': 'MAR', '768,5': 'MAR', '769,5': 'MAR', '770,1': 'MAR', '772,5': 'MAR', '775,1': 'MAR', '777,5': 'MAR', '780,5': 'MAR', '782,5': 'MAR', '784,5': 'MAR', '788,5': 'MAR', '789,5': 'MAR', '791,5': 'MAR', '792,5': 'MAR', '793,5': 'MAR', '794,1': 'MAR', '796,5': 'MAR', '797,1': 'MAR', '797,5': 'MAR', '798,5': 'MAR', '799,5': 'MAR', '800,5': 'MAR', '801,1': 'MAR', '801,5': 'MAR', '803,5': 'MAR', '804,1': 'MAR', '804,5': 'MAR', '807,5': 'MAR', '808,5': 'MAR', '809,5': 'MAR', '811,5': 'MAR', '813,5': 'MAR', '814,5': 'MAR', '815,1': 'MAR', '815,5': 'MAR', '817,5': 'MAR', '818,5': 'MAR', '819,5': 'MAR', '820,5': 'MAR', '822,5': 'MAR', '823,5': 'MAR', '825,5': 'MAR', '826,1': 'MAR', '826,5': 'MAR', '827,5': 'MAR', '828,5': 'MAR', '829,5': 'MAR', '831,5': 'MAR', '833,5': 'MAR', '834,5': 'MAR', '835,5': 'MAR', '836,5': 'MAR', '837,1': 'MAR', '837,5': 'MAR', '838,5': 'MAR', '839,5': 'MAR', '840,5': 'MAR', '841,5': 'MAR', '844,5': 'MAR', '845,5': 'MAR', '846,1': 'MAR', '846,5': 'MAR', '847,5': 'MAR', '848,5': 'MAR', '849,5': 'MAR', '850,1': 'MAR', '850,5': 'MAR', '851,5': 'MAR', '854,5': 'MAR', '857,5': 'MAR', '858,5': 'MAR', '859,1': 'MAR', '861,5': 'MAR', '862,5': 'MAR', '864,1': 'MAR', '864,5': 'MAR', '866,5': 'MAR', '868,5': 'MAR', '871,5': 'MAR', '873,5': 'MAR', '874,5': 'MAR', '876,5': 'MAR', '877,5': 'MAR', '879,5': 'MAR', '880,5': 'MAR', '881,5': 'MAR', '882,5': 'MAR', '885,5': 'MAR', '886,5': 'MAR', '887,5': 'MAR', '889,1': 'MAR', '889,5': 'MAR', '891,5': 'MAR', '892,5': 'MAR', '894,5': 'MAR', '895,5': 'MAR', '896,1': 'MAR', '896,5': 'MAR', '898,1': 'MAR', '900,1': 'MAR', '900,5': 'MAR', '901,5': 'MAR', '904,5': 'MAR', '906,5': 'MAR', '907,5': 'MAR', '908,5': 'MAR', '909,5': 'MAR', '911,5': 'MAR', '912,5': 'MAR', '914,1': 'MAR', '914,5': 'MAR', '915,5': 'MAR', '917,5': 'MAR', '922,1': 'MAR', '922,5': 'MAR', '923,1': 'MAR', '923,5': 'MAR', '924,5': 'MAR', '925,5': 'MAR', '926,1': 'MAR', '926,5': 'MAR', '928,5': 'MAR', '929,5': 'MAR', '931,5': 'MAR', '934,5': 'MAR', '936,5': 'MAR', '938,5': 'MAR', '940,5': 'MAR', '941,5': 'MAR', '942,5': 'MAR', '944,5': 'MAR', '947,5': 'MAR', '948,5': 'MAR', '950,5': 'MAR', '952,1': 'MAR', '955,1': 'MAR', '956,5': 'MAR', '958,5': 'MAR', '960,1': 'MAR', '960,5': 'MAR', '961,5': 'MAR', '962,5': 'MAR', '964,5': 'MAR', '965,5': 'MAR', '967,5': 'MAR', '968,1': 'MAR', '969,5': 'MAR', '971,5': 'MAR', '972,1': 'MAR', '972,5': 'MAR', '973,1': 'MAR', '973,5': 'MAR', '974,5': 'MAR', '978,5': 'MAR', '980,5': 'MAR', '981,1': 'MAR', '981,5': 'MAR', '984,5': 'MAR', '985,1': 'MAR', '985,5': 'MAR', '986,5': 'MAR', '988,5': 'MAR', '990,5': 'MAR', '992,1': 'MAR', '992,5': 'MAR', '993,5': 'MAR', '994,5': 'MAR', '995,5': 'MAR', '996,5': 'MAR', '998,5': 'MAR'}\n"
     ]
    }
   ],
   "source": [
    "print(index_mar)"
   ]
  },
  {
   "cell_type": "code",
   "execution_count": null,
   "metadata": {},
   "outputs": [
    {
     "name": "stdout",
     "output_type": "stream",
     "text": [
      "Total Missing Percentage: 22.71%\n"
     ]
    }
   ],
   "source": [
    "total_missing_percentage = miss_mar.isnull().sum().sum() / miss_mar.size * 100\n",
    "print(f\"Total Missing Percentage: {total_missing_percentage:.2f}%\")"
   ]
  },
  {
   "cell_type": "code",
   "execution_count": null,
   "metadata": {},
   "outputs": [],
   "source": [
    "dependencies_mnar = {\n",
    "    \"Purpose\": {\n",
    "        \"condition\": lambda row: row[\"Purpose\"] > 5  # High earners are more likely to not report salary\n",
    "    },\n",
    "    \"Credit amount\": {\n",
    "        \"condition\": lambda row: row[\"Credit amount\"] < 1200  # High BP patients may avoid reporting BP readings\n",
    "    },\n",
    "    \"Saving accounts\": {\n",
    "        \"condition\": lambda row: row[\"Saving accounts\"] < 2  # High BP patients may avoid reporting BP readings\n",
    "    }\n",
    "    \n",
    "}"
   ]
  },
  {
   "cell_type": "code",
   "execution_count": null,
   "metadata": {},
   "outputs": [],
   "source": [
    "miss_mnar,index_mnar = generator.MNAR(miss_mar,dependencies_mnar,missing_rate=15)"
   ]
  },
  {
   "cell_type": "code",
   "execution_count": null,
   "metadata": {},
   "outputs": [
    {
     "name": "stdout",
     "output_type": "stream",
     "text": [
      "{'0,3': 'MCAR', '1,7': 'MCAR', '3,3': 'MCAR', '4,6': 'MCAR', '5,5': 'MCAR,MNAR,MAR', '6,3': 'MCAR', '6,5': 'MCAR', '6,8': 'MCAR', '7,6': 'MCAR', '7,7': 'MCAR', '8,7': 'MCAR', '10,0': 'MCAR', '11,1': 'MCAR,MAR', '11,6': 'MCAR', '11,7': 'MCAR', '11,8': 'MCAR', '13,0': 'MCAR', '14,1': 'MCAR', '14,3': 'MCAR', '14,4': 'MCAR', '16,0': 'MCAR', '16,6': 'MCAR', '19,4': 'MCAR', '20,4': 'MCAR', '21,2': 'MCAR', '21,4': 'MCAR', '21,7': 'MCAR', '22,1': 'MCAR,MAR', '22,4': 'MCAR', '23,4': 'MCAR', '24,4': 'MCAR', '25,4': 'MCAR', '25,5': 'MCAR', '25,6': 'MCAR', '26,1': 'MCAR', '27,8': 'MCAR', '29,5': 'MCAR,MNAR,MAR', '30,4': 'MCAR', '31,7': 'MCAR', '32,1': 'MCAR', '32,3': 'MCAR', '33,7': 'MCAR', '35,5': 'MCAR,MNAR,MAR', '35,6': 'MCAR', '36,8': 'MCAR', '37,2': 'MCAR', '37,4': 'MCAR', '38,2': 'MCAR', '38,4': 'MCAR', '38,7': 'MCAR', '38,8': 'MCAR', '39,1': 'MCAR', '39,4': 'MCAR', '39,6': 'MCAR', '40,2': 'MCAR', '40,3': 'MCAR', '40,5': 'MCAR', '40,7': 'MCAR', '41,1': 'MCAR', '42,0': 'MCAR', '42,4': 'MCAR', '43,0': 'MCAR', '44,2': 'MCAR', '44,7': 'MCAR', '45,4': 'MCAR', '45,7': 'MCAR', '46,7': 'MCAR', '47,6': 'MCAR', '47,8': 'MCAR', '48,0': 'MCAR', '48,5': 'MCAR,MNAR,MAR', '49,0': 'MCAR', '49,5': 'MCAR', '49,8': 'MCAR', '50,2': 'MCAR', '50,4': 'MCAR', '50,8': 'MCAR', '51,0': 'MCAR', '51,3': 'MCAR', '52,5': 'MCAR,MNAR,MAR', '53,0': 'MCAR', '53,2': 'MCAR', '55,0': 'MCAR', '55,2': 'MCAR', '55,5': 'MCAR,MNAR,MAR', '56,6': 'MCAR', '56,7': 'MCAR', '58,5': 'MCAR,MNAR,MAR', '59,4': 'MCAR', '59,6': 'MCAR', '60,6': 'MCAR', '61,2': 'MCAR', '61,8': 'MCAR', '62,7': 'MCAR', '63,3': 'MCAR', '65,3': 'MCAR', '65,7': 'MCAR', '66,5': 'MCAR,MNAR,MAR', '68,1': 'MCAR', '68,5': 'MCAR,MNAR,MAR', '69,0': 'MCAR', '71,2': 'MCAR', '71,6': 'MCAR', '72,3': 'MCAR', '73,2': 'MCAR', '73,5': 'MCAR,MNAR,MAR', '73,7': 'MCAR', '74,3': 'MCAR', '74,4': 'MCAR', '74,5': 'MCAR', '74,8': 'MCAR', '75,2': 'MCAR', '76,7': 'MCAR', '77,1': 'MCAR', '77,3': 'MCAR', '77,6': 'MCAR', '77,7': 'MCAR', '78,7': 'MCAR', '81,5': 'MCAR', '83,2': 'MCAR', '84,0': 'MCAR', '84,4': 'MCAR', '84,7': 'MCAR', '85,4': 'MCAR', '85,5': 'MCAR', '85,6': 'MCAR', '87,4': 'MCAR', '87,6': 'MCAR', '89,2': 'MCAR', '89,5': 'MCAR,MNAR,MAR', '90,2': 'MCAR', '91,4': 'MCAR', '91,6': 'MCAR', '92,0': 'MCAR', '94,5': 'MCAR', '96,3': 'MCAR', '97,1': 'MCAR', '97,3': 'MCAR', '98,1': 'MCAR', '99,2': 'MCAR', '102,0': 'MCAR', '102,3': 'MCAR', '102,8': 'MCAR', '105,0': 'MCAR', '105,3': 'MCAR', '105,8': 'MCAR', '108,1': 'MCAR', '108,7': 'MCAR', '109,8': 'MCAR', '111,8': 'MCAR', '112,1': 'MCAR,MAR', '112,7': 'MCAR', '113,3': 'MCAR', '114,8': 'MCAR', '115,3': 'MCAR', '115,6': 'MCAR', '115,8': 'MCAR', '116,0': 'MCAR', '116,2': 'MCAR', '116,4': 'MCAR', '117,1': 'MCAR,MAR', '118,0': 'MCAR', '118,4': 'MCAR', '119,5': 'MCAR', '120,0': 'MCAR', '120,1': 'MCAR', '120,3': 'MCAR', '120,8': 'MCAR', '121,2': 'MCAR', '121,6': 'MCAR', '123,5': 'MCAR,MNAR,MAR', '123,6': 'MCAR', '123,7': 'MCAR', '124,4': 'MCAR', '124,6': 'MCAR', '125,8': 'MCAR', '127,8': 'MCAR', '128,1': 'MCAR', '128,5': 'MCAR,MNAR,MAR', '130,2': 'MCAR', '131,5': 'MCAR,MNAR,MAR', '132,3': 'MCAR', '132,4': 'MCAR', '134,0': 'MCAR', '134,4': 'MCAR', '135,2': 'MCAR', '135,5': 'MCAR,MNAR,MAR', '135,8': 'MCAR', '136,5': 'MCAR', '136,7': 'MCAR', '137,0': 'MCAR', '142,3': 'MCAR', '143,3': 'MCAR', '145,3': 'MCAR', '145,6': 'MCAR', '146,7': 'MCAR', '147,5': 'MCAR', '148,3': 'MCAR', '148,5': 'MCAR,MNAR,MAR', '148,6': 'MCAR', '149,4': 'MCAR', '149,5': 'MCAR', '150,0': 'MCAR', '150,6': 'MCAR', '153,6': 'MCAR', '154,4': 'MCAR', '158,5': 'MCAR', '159,7': 'MCAR', '160,3': 'MCAR', '162,8': 'MCAR', '163,2': 'MCAR', '164,4': 'MCAR', '165,5': 'MCAR', '166,2': 'MCAR', '166,4': 'MCAR', '166,8': 'MCAR', '167,7': 'MCAR', '169,6': 'MCAR', '171,0': 'MCAR', '172,0': 'MCAR', '172,2': 'MCAR', '172,5': 'MCAR,MNAR,MAR', '172,8': 'MCAR', '174,0': 'MCAR', '174,5': 'MCAR,MNAR,MAR', '174,6': 'MCAR', '174,7': 'MCAR', '174,8': 'MCAR', '176,3': 'MCAR', '177,2': 'MCAR', '177,7': 'MCAR', '178,2': 'MCAR', '178,5': 'MCAR,MNAR,MAR', '180,3': 'MCAR', '180,8': 'MCAR', '181,5': 'MCAR,MNAR,MAR', '181,7': 'MCAR', '182,0': 'MCAR', '182,2': 'MCAR', '182,3': 'MCAR', '183,3': 'MCAR', '183,4': 'MCAR', '183,5': 'MCAR', '185,0': 'MCAR', '185,5': 'MCAR,MNAR,MAR', '185,7': 'MCAR', '185,8': 'MCAR', '186,2': 'MCAR', '186,3': 'MCAR', '187,4': 'MCAR', '187,5': 'MCAR', '188,1': 'MCAR', '188,2': 'MCAR', '189,1': 'MCAR', '189,2': 'MCAR', '190,0': 'MCAR', '191,4': 'MCAR', '191,5': 'MCAR', '192,1': 'MCAR', '192,2': 'MCAR', '193,1': 'MCAR,MAR', '193,6': 'MCAR', '194,0': 'MCAR', '195,0': 'MCAR', '195,6': 'MCAR', '197,5': 'MCAR', '198,0': 'MCAR', '198,5': 'MCAR,MNAR,MAR', '199,4': 'MCAR', '200,0': 'MCAR', '201,3': 'MCAR', '202,7': 'MCAR', '203,0': 'MCAR', '205,2': 'MCAR', '205,4': 'MCAR', '205,5': 'MCAR', '206,0': 'MCAR', '206,1': 'MCAR', '206,4': 'MCAR', '206,5': 'MCAR', '208,0': 'MCAR', '208,5': 'MCAR,MNAR,MAR', '209,3': 'MCAR', '209,7': 'MCAR', '211,0': 'MCAR', '211,1': 'MCAR', '212,4': 'MCAR', '213,0': 'MCAR', '213,2': 'MCAR', '213,3': 'MCAR', '214,7': 'MCAR', '214,8': 'MCAR', '215,0': 'MCAR', '216,0': 'MCAR', '216,5': 'MCAR,MNAR,MAR', '216,6': 'MCAR', '217,4': 'MCAR', '219,1': 'MCAR', '219,8': 'MCAR', '220,1': 'MCAR', '220,4': 'MCAR', '220,7': 'MCAR', '221,6': 'MCAR', '222,7': 'MCAR', '224,2': 'MCAR', '224,4': 'MCAR', '225,1': 'MCAR', '226,4': 'MCAR', '227,0': 'MCAR', '227,7': 'MCAR', '228,6': 'MCAR', '229,0': 'MCAR', '230,1': 'MCAR', '230,3': 'MCAR', '230,8': 'MCAR', '231,0': 'MCAR', '231,4': 'MCAR', '231,6': 'MCAR', '232,5': 'MCAR', '232,7': 'MCAR', '232,8': 'MCAR', '233,2': 'MCAR', '233,3': 'MCAR', '234,4': 'MCAR', '235,0': 'MCAR', '235,1': 'MCAR', '235,6': 'MCAR', '237,1': 'MCAR,MAR', '237,7': 'MCAR', '239,2': 'MCAR', '239,4': 'MCAR', '239,7': 'MCAR', '240,3': 'MCAR', '240,4': 'MCAR', '240,5': 'MCAR', '240,7': 'MCAR', '241,8': 'MCAR', '243,2': 'MCAR', '246,3': 'MCAR', '247,0': 'MCAR', '247,8': 'MCAR', '248,8': 'MCAR', '249,4': 'MCAR', '249,5': 'MCAR', '250,5': 'MCAR', '250,8': 'MCAR', '251,1': 'MCAR', '251,4': 'MCAR', '253,3': 'MCAR', '253,8': 'MCAR', '254,3': 'MCAR', '257,0': 'MCAR', '257,8': 'MCAR', '258,5': 'MCAR', '260,3': 'MCAR', '260,5': 'MCAR,MNAR,MAR', '262,0': 'MCAR', '262,4': 'MCAR', '263,0': 'MCAR', '264,2': 'MCAR', '264,3': 'MCAR', '264,5': 'MCAR,MNAR,MAR', '265,7': 'MCAR', '265,8': 'MCAR', '266,7': 'MCAR', '267,0': 'MCAR', '267,3': 'MCAR', '267,8': 'MCAR', '268,0': 'MCAR', '269,5': 'MCAR,MNAR,MAR', '270,0': 'MCAR', '270,2': 'MCAR', '271,5': 'MCAR', '271,6': 'MCAR', '271,7': 'MCAR', '272,5': 'MCAR,MNAR,MAR', '272,7': 'MCAR', '274,2': 'MCAR', '274,6': 'MCAR', '275,4': 'MCAR', '275,8': 'MCAR', '276,7': 'MCAR', '277,0': 'MCAR', '277,1': 'MCAR', '277,4': 'MCAR', '277,7': 'MCAR', '278,6': 'MCAR', '278,7': 'MCAR', '279,0': 'MCAR', '279,2': 'MCAR', '279,4': 'MCAR', '279,5': 'MCAR', '279,7': 'MCAR', '280,4': 'MCAR', '281,8': 'MCAR', '282,5': 'MCAR,MNAR,MAR', '284,5': 'MCAR', '284,6': 'MCAR', '285,2': 'MCAR', '286,1': 'MCAR', '286,4': 'MCAR', '287,5': 'MCAR', '288,5': 'MCAR,MNAR,MAR', '289,0': 'MCAR', '290,2': 'MCAR', '290,5': 'MCAR,MNAR,MAR', '291,1': 'MCAR,MAR', '292,7': 'MCAR', '292,8': 'MCAR', '293,2': 'MCAR', '293,3': 'MCAR', '293,4': 'MCAR', '294,4': 'MCAR', '295,2': 'MCAR', '295,4': 'MCAR', '295,7': 'MCAR', '295,8': 'MCAR', '297,2': 'MCAR', '297,5': 'MCAR,MNAR,MAR', '297,7': 'MCAR', '299,6': 'MCAR', '299,7': 'MCAR', '300,1': 'MCAR', '301,0': 'MCAR', '302,2': 'MCAR', '302,4': 'MCAR', '302,7': 'MCAR', '304,0': 'MCAR', '304,2': 'MCAR', '304,7': 'MCAR', '306,3': 'MCAR', '307,0': 'MCAR', '307,1': 'MCAR', '307,5': 'MCAR', '308,7': 'MCAR', '310,3': 'MCAR', '311,1': 'MCAR', '311,2': 'MCAR', '311,5': 'MCAR', '312,0': 'MCAR', '312,3': 'MCAR', '312,6': 'MCAR', '313,2': 'MCAR', '314,1': 'MCAR', '314,7': 'MCAR', '315,0': 'MCAR', '315,2': 'MCAR', '315,5': 'MCAR,MNAR,MAR', '316,0': 'MCAR', '316,5': 'MCAR,MNAR,MAR', '316,8': 'MCAR', '317,3': 'MCAR', '318,0': 'MCAR', '318,4': 'MCAR', '318,7': 'MCAR', '319,5': 'MCAR,MNAR,MAR', '319,7': 'MCAR', '321,2': 'MCAR', '321,8': 'MCAR', '322,0': 'MCAR', '322,1': 'MCAR', '322,5': 'MCAR,MNAR,MAR', '323,4': 'MCAR', '323,8': 'MCAR', '324,0': 'MCAR', '324,1': 'MCAR', '327,0': 'MCAR', '327,1': 'MCAR', '327,2': 'MCAR', '327,8': 'MCAR', '328,1': 'MCAR', '328,2': 'MCAR', '329,0': 'MCAR', '329,6': 'MCAR', '330,2': 'MCAR', '330,7': 'MCAR', '331,4': 'MCAR', '332,2': 'MCAR', '332,7': 'MCAR', '332,8': 'MCAR', '333,7': 'MCAR', '334,1': 'MCAR,MAR', '334,4': 'MCAR', '335,0': 'MCAR', '338,5': 'MCAR,MNAR,MAR', '339,2': 'MCAR', '339,3': 'MCAR', '339,6': 'MCAR', '341,0': 'MCAR', '341,1': 'MCAR,MAR', '341,2': 'MCAR', '342,6': 'MCAR', '344,3': 'MCAR', '345,1': 'MCAR', '345,6': 'MCAR', '346,4': 'MCAR', '347,5': 'MCAR', '348,1': 'MCAR', '349,7': 'MCAR', '350,4': 'MCAR', '350,8': 'MCAR', '351,2': 'MCAR', '351,3': 'MCAR', '351,7': 'MCAR', '351,8': 'MCAR', '352,3': 'MCAR', '352,8': 'MCAR', '353,5': 'MCAR,MNAR,MAR', '354,3': 'MCAR', '355,4': 'MCAR', '355,7': 'MCAR', '356,8': 'MCAR', '357,4': 'MCAR', '358,7': 'MCAR', '359,0': 'MCAR', '359,7': 'MCAR', '360,0': 'MCAR', '361,0': 'MCAR', '361,1': 'MCAR', '361,4': 'MCAR', '364,0': 'MCAR', '364,7': 'MCAR', '365,8': 'MCAR', '366,1': 'MCAR', '366,5': 'MCAR,MNAR,MAR', '367,3': 'MCAR', '367,5': 'MCAR,MNAR,MAR', '367,6': 'MCAR', '369,6': 'MCAR', '370,3': 'MCAR', '372,3': 'MCAR', '372,5': 'MCAR,MNAR,MAR', '373,1': 'MCAR', '373,4': 'MCAR', '374,2': 'MCAR', '374,3': 'MCAR', '374,5': 'MCAR', '374,6': 'MCAR', '375,8': 'MCAR', '377,1': 'MCAR', '377,4': 'MCAR', '378,4': 'MCAR', '378,6': 'MCAR', '379,4': 'MCAR', '379,6': 'MCAR', '380,6': 'MCAR', '380,7': 'MCAR', '382,0': 'MCAR', '384,3': 'MCAR', '384,8': 'MCAR', '386,4': 'MCAR', '386,6': 'MCAR', '386,7': 'MCAR', '387,2': 'MCAR', '387,8': 'MCAR', '388,3': 'MCAR', '388,4': 'MCAR', '389,1': 'MCAR', '389,5': 'MCAR,MNAR,MAR', '389,6': 'MCAR', '389,8': 'MCAR', '390,6': 'MCAR', '391,3': 'MCAR', '392,1': 'MCAR', '392,3': 'MCAR', '393,8': 'MCAR', '394,2': 'MCAR', '394,7': 'MCAR', '395,7': 'MCAR', '396,2': 'MCAR', '397,1': 'MCAR', '398,8': 'MCAR', '400,4': 'MCAR', '400,7': 'MCAR', '401,0': 'MCAR', '401,1': 'MCAR', '402,6': 'MCAR', '402,7': 'MCAR', '403,7': 'MCAR', '403,8': 'MCAR', '404,0': 'MCAR', '404,5': 'MCAR,MNAR,MAR', '404,6': 'MCAR', '406,5': 'MCAR,MNAR,MAR', '407,8': 'MCAR', '408,4': 'MCAR', '408,8': 'MCAR', '411,0': 'MCAR', '411,3': 'MCAR', '411,5': 'MCAR,MNAR,MAR', '412,2': 'MCAR', '412,3': 'MCAR', '414,6': 'MCAR', '415,3': 'MCAR', '415,4': 'MCAR', '416,4': 'MCAR', '417,4': 'MCAR', '420,4': 'MCAR', '421,4': 'MCAR', '421,5': 'MCAR', '424,1': 'MCAR', '425,7': 'MCAR', '426,1': 'MCAR', '427,1': 'MCAR', '428,1': 'MCAR', '430,2': 'MCAR', '430,3': 'MCAR', '430,4': 'MCAR', '430,5': 'MCAR', '431,0': 'MCAR', '431,3': 'MCAR', '431,8': 'MCAR', '433,1': 'MCAR', '433,4': 'MCAR', '434,8': 'MCAR', '435,1': 'MCAR', '435,4': 'MCAR', '435,7': 'MCAR', '436,0': 'MCAR', '436,1': 'MCAR', '436,3': 'MCAR', '437,1': 'MCAR', '437,2': 'MCAR', '437,7': 'MCAR', '438,8': 'MCAR', '439,1': 'MCAR', '439,4': 'MCAR', '439,5': 'MCAR', '441,0': 'MCAR', '441,3': 'MCAR', '441,7': 'MCAR', '442,0': 'MCAR', '442,2': 'MCAR', '444,0': 'MCAR', '445,2': 'MCAR', '445,4': 'MCAR', '445,8': 'MCAR', '446,8': 'MCAR', '448,2': 'MCAR', '448,8': 'MCAR', '449,3': 'MCAR', '449,6': 'MCAR', '450,0': 'MCAR', '450,1': 'MCAR', '450,2': 'MCAR', '450,3': 'MCAR', '450,5': 'MCAR,MNAR,MAR', '451,3': 'MCAR', '451,5': 'MCAR,MNAR,MAR', '451,7': 'MCAR', '452,3': 'MCAR', '452,6': 'MCAR', '453,1': 'MCAR', '455,1': 'MCAR', '455,5': 'MCAR,MNAR,MAR', '458,3': 'MCAR', '458,4': 'MCAR', '459,1': 'MCAR', '459,5': 'MCAR,MNAR,MAR', '460,1': 'MCAR', '460,5': 'MCAR,MNAR,MAR', '461,3': 'MCAR', '461,4': 'MCAR', '461,7': 'MCAR', '463,3': 'MCAR', '464,6': 'MCAR', '466,0': 'MCAR', '466,2': 'MCAR', '466,6': 'MCAR', '466,8': 'MCAR', '467,6': 'MCAR', '469,7': 'MCAR', '470,1': 'MCAR,MAR', '470,4': 'MCAR', '470,5': 'MCAR', '472,1': 'MCAR', '472,4': 'MCAR', '473,6': 'MCAR', '474,2': 'MCAR', '474,6': 'MCAR', '474,7': 'MCAR', '478,3': 'MCAR', '480,3': 'MCAR', '482,0': 'MCAR', '484,3': 'MCAR', '484,5': 'MCAR', '485,1': 'MCAR', '486,3': 'MCAR', '486,7': 'MCAR', '488,6': 'MCAR', '492,5': 'MCAR', '492,8': 'MCAR', '494,1': 'MCAR,MAR', '494,5': 'MCAR,MNAR,MAR', '494,7': 'MCAR', '495,7': 'MCAR', '496,4': 'MCAR', '496,5': 'MCAR', '496,7': 'MCAR', '497,1': 'MCAR', '497,7': 'MCAR', '500,0': 'MCAR', '501,3': 'MCAR', '505,6': 'MCAR', '505,7': 'MCAR', '506,3': 'MCAR', '507,2': 'MCAR', '509,8': 'MCAR', '511,0': 'MCAR', '511,2': 'MCAR', '511,6': 'MCAR', '512,7': 'MCAR', '513,1': 'MCAR,MAR', '513,4': 'MCAR', '514,2': 'MCAR', '514,5': 'MCAR,MNAR,MAR', '515,0': 'MCAR', '515,5': 'MCAR,MNAR,MAR', '517,4': 'MCAR', '517,8': 'MCAR', '518,6': 'MCAR', '519,1': 'MCAR', '519,7': 'MCAR', '520,5': 'MCAR,MNAR,MAR', '520,6': 'MCAR', '520,7': 'MCAR', '521,5': 'MCAR,MNAR,MAR', '522,3': 'MCAR', '523,0': 'MCAR', '525,3': 'MCAR', '525,4': 'MCAR', '527,0': 'MCAR', '527,3': 'MCAR', '527,4': 'MCAR', '527,6': 'MCAR', '529,5': 'MCAR,MNAR,MAR', '529,6': 'MCAR', '530,0': 'MCAR', '532,5': 'MCAR,MNAR,MAR', '533,3': 'MCAR', '534,2': 'MCAR', '534,6': 'MCAR', '535,4': 'MCAR', '535,7': 'MCAR', '535,8': 'MCAR', '536,5': 'MCAR,MNAR,MAR', '537,0': 'MCAR', '537,2': 'MCAR', '537,4': 'MCAR', '538,2': 'MCAR', '538,5': 'MCAR,MNAR,MAR', '539,6': 'MCAR', '540,5': 'MCAR,MNAR,MAR', '540,7': 'MCAR', '540,8': 'MCAR', '543,3': 'MCAR', '544,6': 'MCAR', '547,1': 'MCAR', '547,8': 'MCAR', '548,3': 'MCAR', '549,5': 'MCAR,MNAR,MAR', '551,0': 'MCAR', '551,1': 'MCAR', '552,3': 'MCAR', '553,1': 'MCAR', '555,3': 'MCAR', '555,5': 'MCAR,MNAR,MAR', '555,6': 'MCAR', '556,7': 'MCAR', '557,1': 'MCAR', '557,7': 'MCAR', '557,8': 'MCAR', '558,5': 'MCAR,MNAR,MAR', '560,8': 'MCAR', '564,5': 'MCAR,MNAR,MAR', '565,2': 'MCAR', '565,6': 'MCAR', '569,7': 'MCAR', '569,8': 'MCAR', '570,1': 'MCAR,MAR', '570,4': 'MCAR', '570,5': 'MCAR', '572,8': 'MCAR', '573,1': 'MCAR', '576,7': 'MCAR', '577,2': 'MCAR', '579,3': 'MCAR', '580,5': 'MCAR,MNAR,MAR', '580,7': 'MCAR', '582,7': 'MCAR', '582,8': 'MCAR', '583,2': 'MCAR', '583,4': 'MCAR', '584,5': 'MCAR,MNAR,MAR', '584,8': 'MCAR', '585,5': 'MCAR,MNAR,MAR', '585,6': 'MCAR', '586,1': 'MCAR,MAR', '586,5': 'MCAR,MNAR,MAR', '587,2': 'MCAR', '588,7': 'MCAR', '589,8': 'MCAR', '590,1': 'MCAR', '590,8': 'MCAR', '591,0': 'MCAR', '591,5': 'MCAR,MNAR,MAR', '591,8': 'MCAR', '592,1': 'MCAR', '592,5': 'MCAR', '593,8': 'MCAR', '594,3': 'MCAR', '594,6': 'MCAR', '595,5': 'MCAR', '596,0': 'MCAR', '596,2': 'MCAR', '596,4': 'MCAR', '596,7': 'MCAR', '597,7': 'MCAR', '598,2': 'MCAR', '600,3': 'MCAR', '600,7': 'MCAR', '601,4': 'MCAR', '602,0': 'MCAR', '602,4': 'MCAR', '602,5': 'MCAR', '603,7': 'MCAR', '604,1': 'MCAR', '604,7': 'MCAR', '606,2': 'MCAR', '606,4': 'MCAR', '606,6': 'MCAR', '607,1': 'MCAR', '607,3': 'MCAR', '608,1': 'MCAR', '608,6': 'MCAR', '610,5': 'MCAR', '610,6': 'MCAR', '612,0': 'MCAR', '612,1': 'MCAR', '613,4': 'MCAR', '615,1': 'MCAR', '615,8': 'MCAR', '616,1': 'MCAR', '616,5': 'MCAR,MNAR,MAR', '616,6': 'MCAR', '617,6': 'MCAR', '617,8': 'MCAR', '618,4': 'MCAR', '618,5': 'MCAR', '620,5': 'MCAR,MNAR,MAR', '621,2': 'MCAR', '623,0': 'MCAR', '623,5': 'MCAR,MNAR,MAR', '627,5': 'MCAR', '628,0': 'MCAR', '628,4': 'MCAR', '629,0': 'MCAR', '629,3': 'MCAR', '631,0': 'MCAR', '631,1': 'MCAR', '631,2': 'MCAR', '631,5': 'MCAR,MNAR,MAR', '631,6': 'MCAR', '632,3': 'MCAR', '632,6': 'MCAR', '634,0': 'MCAR', '634,3': 'MCAR', '634,8': 'MCAR', '635,3': 'MCAR', '635,5': 'MCAR,MNAR,MAR', '636,4': 'MCAR', '636,5': 'MCAR', '636,6': 'MCAR', '638,2': 'MCAR', '639,6': 'MCAR', '640,2': 'MCAR', '640,6': 'MCAR', '642,0': 'MCAR', '642,8': 'MCAR', '643,2': 'MCAR', '643,4': 'MCAR', '643,6': 'MCAR', '644,2': 'MCAR', '645,1': 'MCAR,MAR', '645,2': 'MCAR', '645,5': 'MCAR,MNAR,MAR', '646,0': 'MCAR', '646,7': 'MCAR', '646,8': 'MCAR', '647,7': 'MCAR', '648,5': 'MCAR,MNAR,MAR', '649,3': 'MCAR', '649,6': 'MCAR', '650,4': 'MCAR', '652,0': 'MCAR', '652,2': 'MCAR', '652,4': 'MCAR', '652,7': 'MCAR', '653,2': 'MCAR', '653,7': 'MCAR', '655,1': 'MCAR', '655,2': 'MCAR', '656,1': 'MCAR', '656,6': 'MCAR', '656,7': 'MCAR', '657,1': 'MCAR', '657,8': 'MCAR', '658,0': 'MCAR', '659,6': 'MCAR', '663,5': 'MCAR,MNAR,MAR', '663,7': 'MCAR', '664,2': 'MCAR', '664,7': 'MCAR', '665,0': 'MCAR', '665,5': 'MCAR,MNAR,MAR', '666,4': 'MCAR', '666,5': 'MCAR', '666,6': 'MCAR', '666,8': 'MCAR', '667,1': 'MCAR', '667,8': 'MCAR', '669,1': 'MCAR', '671,8': 'MCAR', '672,0': 'MCAR', '672,5': 'MCAR,MNAR,MAR', '673,1': 'MCAR', '675,2': 'MCAR', '676,1': 'MCAR', '676,7': 'MCAR', '678,2': 'MCAR', '679,6': 'MCAR', '682,1': 'MCAR', '683,0': 'MCAR', '683,8': 'MCAR', '684,2': 'MCAR', '684,7': 'MCAR', '685,3': 'MCAR', '685,8': 'MCAR', '688,1': 'MCAR', '688,6': 'MCAR', '689,1': 'MCAR', '690,1': 'MCAR', '690,2': 'MCAR', '690,5': 'MCAR,MNAR,MAR', '691,3': 'MCAR', '692,0': 'MCAR', '692,8': 'MCAR', '693,4': 'MCAR', '693,5': 'MCAR', '694,1': 'MCAR', '694,5': 'MCAR,MNAR,MAR', '694,7': 'MCAR', '695,2': 'MCAR', '696,6': 'MCAR', '696,7': 'MCAR', '697,2': 'MCAR', '697,5': 'MCAR,MNAR,MAR', '697,6': 'MCAR', '698,5': 'MCAR,MNAR,MAR', '699,0': 'MCAR', '699,2': 'MCAR', '699,6': 'MCAR', '700,7': 'MCAR', '701,4': 'MCAR', '703,5': 'MCAR', '705,7': 'MCAR', '706,4': 'MCAR', '707,0': 'MCAR', '707,8': 'MCAR', '709,3': 'MCAR', '709,6': 'MCAR', '710,5': 'MCAR', '711,0': 'MCAR', '712,7': 'MCAR', '713,1': 'MCAR', '713,2': 'MCAR', '714,0': 'MCAR', '714,6': 'MCAR', '715,4': 'MCAR', '715,6': 'MCAR', '716,4': 'MCAR', '717,0': 'MCAR', '717,6': 'MCAR', '718,0': 'MCAR', '718,1': 'MCAR', '719,4': 'MCAR', '719,7': 'MCAR', '720,2': 'MCAR', '720,5': 'MCAR,MNAR,MAR', '720,7': 'MCAR', '721,8': 'MCAR', '722,1': 'MCAR', '722,4': 'MCAR', '723,3': 'MCAR', '723,4': 'MCAR', '724,1': 'MCAR,MAR', '726,3': 'MCAR', '727,2': 'MCAR', '727,4': 'MCAR', '728,8': 'MCAR', '730,4': 'MCAR', '731,5': 'MCAR,MNAR,MAR', '732,4': 'MCAR', '732,8': 'MCAR', '733,1': 'MCAR,MAR', '734,7': 'MCAR', '735,0': 'MCAR', '736,4': 'MCAR', '737,4': 'MCAR', '739,3': 'MCAR', '739,7': 'MCAR', '740,0': 'MCAR', '741,0': 'MCAR', '742,3': 'MCAR', '743,1': 'MCAR', '744,6': 'MCAR', '745,5': 'MCAR,MNAR,MAR', '746,1': 'MCAR,MAR', '746,5': 'MCAR,MNAR,MAR', '746,6': 'MCAR', '747,3': 'MCAR', '748,3': 'MCAR', '748,7': 'MCAR', '749,4': 'MCAR', '751,0': 'MCAR', '751,2': 'MCAR', '753,0': 'MCAR', '754,0': 'MCAR', '754,4': 'MCAR', '755,0': 'MCAR', '757,0': 'MCAR', '758,1': 'MCAR', '759,2': 'MCAR', '759,4': 'MCAR', '759,5': 'MCAR', '759,6': 'MCAR', '761,0': 'MCAR', '761,2': 'MCAR', '761,7': 'MCAR', '763,2': 'MCAR', '763,6': 'MCAR', '763,8': 'MCAR', '765,0': 'MCAR', '766,0': 'MCAR', '768,8': 'MCAR', '770,2': 'MCAR', '770,4': 'MCAR', '770,6': 'MCAR', '771,0': 'MCAR', '771,5': 'MCAR,MNAR,MAR', '773,2': 'MCAR', '774,5': 'MCAR', '775,2': 'MCAR', '775,5': 'MCAR,MNAR,MAR', '776,5': 'MCAR,MNAR,MAR', '777,3': 'MCAR', '778,0': 'MCAR', '778,1': 'MCAR', '779,1': 'MCAR', '779,5': 'MCAR,MNAR,MAR', '780,0': 'MCAR', '780,8': 'MCAR', '781,0': 'MCAR', '782,3': 'MCAR', '783,8': 'MCAR', '784,2': 'MCAR', '784,7': 'MCAR', '784,8': 'MCAR', '785,0': 'MCAR', '785,5': 'MCAR', '785,6': 'MCAR', '785,7': 'MCAR', '787,4': 'MCAR', '788,8': 'MCAR', '790,4': 'MCAR', '790,6': 'MCAR', '791,8': 'MCAR', '792,0': 'MCAR', '793,3': 'MCAR', '795,3': 'MCAR', '797,0': 'MCAR', '799,7': 'MCAR', '800,3': 'MCAR', '800,8': 'MCAR', '801,0': 'MCAR', '801,8': 'MCAR', '802,1': 'MCAR', '802,2': 'MCAR', '802,5': 'MCAR,MNAR,MAR', '802,6': 'MCAR', '803,1': 'MCAR', '803,2': 'MCAR', '804,2': 'MCAR', '805,2': 'MCAR', '805,3': 'MCAR', '805,5': 'MCAR,MNAR,MAR', '806,2': 'MCAR', '806,4': 'MCAR', '806,5': 'MCAR', '806,8': 'MCAR', '807,0': 'MCAR', '809,3': 'MCAR', '809,7': 'MCAR', '810,4': 'MCAR', '811,6': 'MCAR', '812,4': 'MCAR', '814,3': 'MCAR', '815,2': 'MCAR', '816,0': 'MCAR', '816,2': 'MCAR', '817,0': 'MCAR', '817,1': 'MCAR,MAR', '817,8': 'MCAR', '818,2': 'MCAR', '818,6': 'MCAR', '819,1': 'MCAR', '821,2': 'MCAR', '821,4': 'MCAR', '823,3': 'MCAR', '824,4': 'MCAR', '825,0': 'MCAR', '825,8': 'MCAR', '828,0': 'MCAR', '830,3': 'MCAR', '830,7': 'MCAR', '831,1': 'MCAR,MAR', '831,6': 'MCAR', '831,7': 'MCAR', '832,0': 'MCAR', '832,3': 'MCAR', '832,5': 'MCAR,MNAR,MAR', '832,8': 'MCAR', '833,2': 'MCAR', '833,7': 'MCAR', '834,7': 'MCAR', '835,2': 'MCAR', '837,0': 'MCAR', '837,7': 'MCAR', '839,3': 'MCAR', '839,8': 'MCAR', '840,0': 'MCAR', '842,1': 'MCAR', '842,4': 'MCAR', '843,4': 'MCAR', '844,3': 'MCAR', '846,8': 'MCAR', '847,0': 'MCAR', '847,7': 'MCAR', '848,0': 'MCAR', '849,3': 'MCAR', '850,2': 'MCAR', '851,0': 'MCAR', '851,6': 'MCAR', '852,5': 'MCAR,MNAR,MAR', '852,6': 'MCAR', '853,0': 'MCAR', '853,3': 'MCAR', '853,4': 'MCAR', '854,0': 'MCAR', '854,6': 'MCAR', '854,7': 'MCAR', '855,1': 'MCAR', '855,2': 'MCAR', '856,4': 'MCAR', '858,1': 'MCAR', '858,3': 'MCAR', '859,2': 'MCAR', '863,1': 'MCAR', '864,6': 'MCAR', '865,1': 'MCAR,MAR', '865,8': 'MCAR', '866,3': 'MCAR', '867,5': 'MCAR,MNAR,MAR', '868,0': 'MCAR', '869,3': 'MCAR', '869,5': 'MCAR,MNAR,MAR', '870,2': 'MCAR', '870,3': 'MCAR', '871,0': 'MCAR', '871,1': 'MCAR', '872,6': 'MCAR', '872,7': 'MCAR', '872,8': 'MCAR', '873,1': 'MCAR', '873,8': 'MCAR', '874,0': 'MCAR', '875,5': 'MCAR', '876,8': 'MCAR', '878,1': 'MCAR', '878,3': 'MCAR', '878,5': 'MCAR,MNAR,MAR', '878,8': 'MCAR', '880,2': 'MCAR', '881,8': 'MCAR', '883,1': 'MCAR', '883,4': 'MCAR', '883,8': 'MCAR', '884,2': 'MCAR', '884,4': 'MCAR', '884,5': 'MCAR', '885,0': 'MCAR', '885,2': 'MCAR', '885,6': 'MCAR', '886,1': 'MCAR', '886,8': 'MCAR', '888,2': 'MCAR', '888,5': 'MCAR,MNAR,MAR', '890,0': 'MCAR', '890,5': 'MCAR,MNAR,MAR', '891,0': 'MCAR', '893,1': 'MCAR', '893,3': 'MCAR', '893,4': 'MCAR', '894,1': 'MCAR', '897,3': 'MCAR', '897,6': 'MCAR', '898,2': 'MCAR', '898,5': 'MCAR,MNAR,MAR', '898,6': 'MCAR', '899,3': 'MCAR', '899,5': 'MCAR,MNAR,MAR', '901,0': 'MCAR', '901,1': 'MCAR', '902,5': 'MCAR,MNAR,MAR', '903,1': 'MCAR,MAR', '903,4': 'MCAR', '903,5': 'MCAR', '904,0': 'MCAR', '904,1': 'MCAR', '905,1': 'MCAR,MAR', '905,4': 'MCAR', '905,5': 'MCAR', '906,6': 'MCAR', '907,3': 'MCAR', '909,6': 'MCAR', '910,4': 'MCAR', '910,7': 'MCAR', '912,2': 'MCAR', '912,3': 'MCAR', '913,4': 'MCAR', '915,0': 'MCAR', '915,1': 'MCAR', '916,1': 'MCAR', '916,7': 'MCAR', '917,1': 'MCAR', '917,6': 'MCAR', '918,0': 'MCAR', '918,6': 'MCAR', '919,0': 'MCAR', '919,3': 'MCAR', '919,5': 'MCAR,MNAR,MAR', '920,5': 'MCAR,MNAR,MAR', '920,7': 'MCAR', '920,8': 'MCAR', '921,4': 'MCAR', '922,2': 'MCAR', '922,6': 'MCAR', '923,0': 'MCAR', '924,0': 'MCAR', '924,2': 'MCAR', '924,7': 'MCAR', '925,3': 'MCAR', '927,5': 'MCAR,MNAR,MAR', '929,7': 'MCAR', '930,3': 'MCAR', '930,4': 'MCAR', '932,5': 'MCAR,MNAR,MAR', '933,6': 'MCAR', '934,1': 'MCAR', '935,7': 'MCAR', '936,2': 'MCAR', '937,1': 'MCAR,MAR', '937,4': 'MCAR', '937,7': 'MCAR', '938,7': 'MCAR', '939,3': 'MCAR', '939,4': 'MCAR', '939,5': 'MCAR', '941,0': 'MCAR', '941,2': 'MCAR', '941,3': 'MCAR', '943,4': 'MCAR', '944,3': 'MCAR', '944,7': 'MCAR', '945,0': 'MCAR', '945,7': 'MCAR', '947,1': 'MCAR', '947,2': 'MCAR', '949,5': 'MCAR', '950,2': 'MCAR', '950,3': 'MCAR', '951,3': 'MCAR', '951,4': 'MCAR', '951,5': 'MCAR', '951,8': 'MCAR', '952,7': 'MCAR', '953,5': 'MCAR,MNAR,MAR', '954,0': 'MCAR', '954,2': 'MCAR', '954,5': 'MCAR,MNAR,MAR', '955,8': 'MCAR', '957,2': 'MCAR', '957,5': 'MCAR,MNAR,MAR', '957,8': 'MCAR', '959,4': 'MCAR', '962,1': 'MCAR', '964,0': 'MCAR', '966,3': 'MCAR', '967,3': 'MCAR', '967,8': 'MCAR', '968,4': 'MCAR', '970,5': 'MCAR', '970,6': 'MCAR', '975,5': 'MCAR', '976,0': 'MCAR', '976,4': 'MCAR', '976,5': 'MCAR', '977,0': 'MCAR', '977,4': 'MCAR', '977,5': 'MCAR', '978,1': 'MCAR', '978,6': 'MCAR', '979,3': 'MCAR', '979,5': 'MCAR', '980,8': 'MCAR', '981,2': 'MCAR', '981,6': 'MCAR', '983,4': 'MCAR', '984,0': 'MCAR', '986,0': 'MCAR', '986,8': 'MCAR', '987,0': 'MCAR', '987,4': 'MCAR', '987,6': 'MCAR', '987,7': 'MCAR', '989,0': 'MCAR', '989,4': 'MCAR', '989,8': 'MCAR', '991,4': 'MCAR', '992,2': 'MCAR', '993,3': 'MCAR', '993,7': 'MCAR', '994,6': 'MCAR', '995,0': 'MCAR', '995,1': 'MCAR', '995,8': 'MCAR', '996,1': 'MCAR', '997,4': 'MCAR', '999,7': 'MCAR', '999,8': 'MCAR', '0,5': 'MNAR,MAR', '1,5': 'MNAR,MAR', '2,5': 'MNAR,MAR', '3,5': 'MNAR,MAR', '4,5': 'MNAR,MAR', '7,1': 'MAR', '7,5': 'MNAR,MAR', '9,5': 'MNAR,MAR', '10,1': 'MAR', '10,5': 'MNAR,MAR', '11,5': 'MNAR,MAR', '12,5': 'MNAR,MAR', '13,5': 'MNAR,MAR', '16,5': 'MNAR,MAR', '17,5': 'MNAR,MAR', '18,5': 'MNAR,MAR', '21,1': 'MAR', '26,5': 'MNAR,MAR', '27,1': 'MAR', '28,5': 'MNAR,MAR', '31,5': 'MNAR,MAR', '33,1': 'MAR', '33,5': 'MNAR,MAR', '34,5': 'MNAR,MAR', '36,5': 'MNAR,MAR', '43,1': 'MAR', '44,5': 'MNAR,MAR', '47,1': 'MAR', '51,5': 'MNAR,MAR', '53,5': 'MNAR,MAR', '54,5': 'MNAR,MAR', '56,5': 'MNAR,MAR', '57,5': 'MNAR,MAR', '59,1': 'MAR', '60,5': 'MNAR,MAR', '61,5': 'MNAR,MAR', '62,5': 'MNAR,MAR', '63,5': 'MNAR,MAR', '64,5': 'MNAR,MAR', '65,5': 'MNAR,MAR', '69,5': 'MNAR,MAR', '70,5': 'MNAR,MAR', '71,1': 'MAR', '71,5': 'MNAR,MAR', '72,5': 'MNAR,MAR', '75,5': 'MNAR,MAR', '76,5': 'MNAR,MAR', '77,5': 'MNAR,MAR', '78,5': 'MNAR,MAR', '79,5': 'MNAR,MAR', '80,5': 'MNAR,MAR', '82,1': 'MAR', '83,5': 'MNAR,MAR', '86,5': 'MNAR,MAR', '90,5': 'MNAR,MAR', '92,5': 'MNAR,MAR', '93,1': 'MAR', '93,5': 'MNAR,MAR', '95,1': 'MAR', '95,5': 'MNAR,MAR', '96,5': 'MNAR,MAR', '98,5': 'MNAR,MAR', '99,1': 'MAR', '99,5': 'MNAR,MAR', '100,1': 'MAR', '101,1': 'MAR', '101,5': 'MNAR,MAR', '102,5': 'MNAR,MAR', '103,1': 'MAR', '103,5': 'MNAR,MAR', '104,1': 'MAR', '104,5': 'MNAR,MAR', '105,5': 'MNAR,MAR', '106,5': 'MNAR,MAR', '107,5': 'MNAR,MAR', '108,5': 'MNAR,MAR', '111,1': 'MAR', '111,5': 'MNAR,MAR', '112,5': 'MNAR,MAR', '113,5': 'MNAR,MAR', '115,5': 'MNAR,MAR', '117,5': 'MNAR,MAR', '120,5': 'MNAR,MAR', '121,1': 'MAR', '121,5': 'MNAR,MAR', '122,1': 'MAR', '122,5': 'MNAR,MAR', '124,1': 'MAR', '125,5': 'MNAR,MAR', '126,5': 'MNAR,MAR', '127,5': 'MNAR,MAR', '129,5': 'MNAR,MAR', '130,5': 'MNAR,MAR', '133,5': 'MNAR,MAR', '138,5': 'MNAR,MAR', '139,1': 'MAR', '139,5': 'MNAR,MAR', '141,5': 'MNAR,MAR', '142,5': 'MNAR,MAR', '143,5': 'MNAR,MAR', '144,5': 'MNAR,MAR', '146,5': 'MNAR,MAR', '151,5': 'MNAR,MAR', '152,5': 'MNAR,MAR', '153,1': 'MAR', '154,1': 'MAR', '155,1': 'MAR', '155,5': 'MNAR,MAR', '157,5': 'MNAR,MAR', '159,5': 'MNAR,MAR', '161,5': 'MNAR,MAR', '163,5': 'MNAR,MAR', '168,1': 'MAR', '168,5': 'MNAR,MAR', '169,5': 'MNAR,MAR', '170,1': 'MAR', '170,5': 'MNAR,MAR', '171,5': 'MNAR,MAR', '173,5': 'MNAR,MAR', '175,5': 'MNAR,MAR', '176,5': 'MNAR,MAR', '178,1': 'MAR', '179,5': 'MNAR,MAR', '180,5': 'MNAR,MAR', '182,5': 'MNAR,MAR', '184,5': 'MNAR,MAR', '186,5': 'MNAR,MAR', '189,5': 'MNAR,MAR', '192,5': 'MNAR,MAR', '193,5': 'MNAR,MAR', '194,1': 'MAR', '195,5': 'MNAR,MAR', '196,5': 'MNAR,MAR', '197,1': 'MAR', '201,5': 'MNAR,MAR', '202,5': 'MNAR,MAR', '203,1': 'MAR', '203,5': 'MNAR,MAR', '204,5': 'MNAR,MAR', '207,5': 'MNAR,MAR', '210,5': 'MNAR,MAR', '211,5': 'MNAR,MAR', '213,5': 'MNAR,MAR', '214,5': 'MNAR,MAR', '215,5': 'MNAR,MAR', '218,1': 'MAR', '218,5': 'MNAR,MAR', '219,5': 'MNAR,MAR', '221,1': 'MAR', '221,5': 'MNAR,MAR', '222,5': 'MNAR,MAR', '223,5': 'MNAR,MAR', '225,5': 'MNAR,MAR', '227,5': 'MNAR,MAR', '228,5': 'MNAR,MAR', '229,5': 'MNAR,MAR', '230,5': 'MNAR,MAR', '233,5': 'MNAR,MAR', '235,5': 'MNAR,MAR', '236,5': 'MNAR,MAR', '238,5': 'MNAR,MAR', '241,5': 'MNAR,MAR', '242,5': 'MNAR,MAR', '243,5': 'MNAR,MAR', '245,5': 'MNAR,MAR', '246,5': 'MNAR,MAR', '247,1': 'MAR', '248,5': 'MNAR,MAR', '249,1': 'MAR', '252,5': 'MNAR,MAR', '254,5': 'MNAR,MAR', '255,5': 'MNAR,MAR', '256,5': 'MNAR,MAR', '257,5': 'MNAR,MAR', '261,5': 'MNAR,MAR', '263,5': 'MNAR,MAR', '265,5': 'MNAR,MAR', '266,5': 'MNAR,MAR', '267,5': 'MNAR,MAR', '268,5': 'MNAR,MAR', '270,5': 'MNAR,MAR', '271,1': 'MAR', '273,5': 'MNAR,MAR', '274,5': 'MNAR,MAR', '276,5': 'MNAR,MAR', '278,5': 'MNAR,MAR', '279,1': 'MAR', '280,1': 'MAR', '281,5': 'MNAR,MAR', '283,5': 'MNAR,MAR', '285,5': 'MNAR,MAR', '289,5': 'MNAR,MAR', '291,5': 'MNAR,MAR', '292,5': 'MNAR,MAR', '296,1': 'MAR', '296,5': 'MNAR,MAR', '298,5': 'MNAR,MAR', '300,5': 'MNAR,MAR', '301,5': 'MNAR,MAR', '303,5': 'MNAR,MAR', '306,5': 'MNAR,MAR', '308,5': 'MNAR,MAR', '309,1': 'MAR', '309,5': 'MNAR,MAR', '310,5': 'MNAR,MAR', '312,5': 'MNAR,MAR', '313,5': 'MNAR,MAR', '314,5': 'MNAR,MAR', '317,5': 'MNAR,MAR', '320,5': 'MNAR,MAR', '321,5': 'MNAR,MAR', '324,5': 'MNAR,MAR', '325,5': 'MNAR,MAR', '326,1': 'MAR', '326,5': 'MNAR,MAR', '328,5': 'MNAR,MAR', '329,5': 'MNAR,MAR', '330,5': 'MNAR,MAR', '333,1': 'MAR', '335,1': 'MAR', '335,5': 'MNAR,MAR', '336,5': 'MNAR,MAR', '337,1': 'MAR', '337,5': 'MNAR,MAR', '339,5': 'MNAR,MAR', '340,5': 'MNAR,MAR', '341,5': 'MNAR,MAR', '342,1': 'MAR', '343,5': 'MNAR,MAR', '344,5': 'MNAR,MAR', '345,5': 'MNAR,MAR', '347,1': 'MAR', '350,1': 'MAR', '351,5': 'MNAR,MAR', '352,5': 'MNAR,MAR', '353,1': 'MAR', '356,5': 'MNAR,MAR', '358,5': 'MNAR,MAR', '359,1': 'MAR', '359,5': 'MNAR,MAR', '360,5': 'MNAR,MAR', '362,5': 'MNAR,MAR', '363,1': 'MAR', '363,5': 'MNAR,MAR', '364,5': 'MNAR,MAR', '365,5': 'MNAR,MAR', '368,5': 'MNAR,MAR', '369,1': 'MAR', '369,5': 'MNAR,MAR', '370,5': 'MNAR,MAR', '371,5': 'MNAR,MAR', '375,1': 'MAR', '375,5': 'MNAR,MAR', '376,5': 'MNAR,MAR', '380,5': 'MNAR,MAR', '381,5': 'MNAR,MAR', '382,1': 'MAR', '382,5': 'MNAR,MAR', '383,5': 'MNAR,MAR', '385,5': 'MNAR,MAR', '386,1': 'MAR', '387,5': 'MNAR,MAR', '390,5': 'MNAR,MAR', '392,5': 'MNAR,MAR', '393,5': 'MNAR,MAR', '394,5': 'MNAR,MAR', '395,1': 'MAR', '396,5': 'MNAR,MAR', '397,5': 'MNAR,MAR', '398,1': 'MAR', '398,5': 'MNAR,MAR', '401,5': 'MNAR,MAR', '402,5': 'MNAR,MAR', '403,5': 'MNAR,MAR', '405,5': 'MNAR,MAR', '407,5': 'MNAR,MAR', '410,5': 'MNAR,MAR', '412,5': 'MNAR,MAR', '413,1': 'MAR', '414,5': 'MNAR,MAR', '417,1': 'MAR', '419,5': 'MNAR,MAR', '420,1': 'MAR', '422,5': 'MNAR,MAR', '424,5': 'MNAR,MAR', '425,1': 'MAR', '425,5': 'MNAR,MAR', '426,5': 'MNAR,MAR', '428,5': 'MNAR,MAR', '429,5': 'MNAR,MAR', '431,5': 'MNAR,MAR', '432,5': 'MNAR,MAR', '434,5': 'MNAR,MAR', '438,5': 'MNAR,MAR', '440,5': 'MNAR,MAR', '441,5': 'MNAR,MAR', '442,5': 'MNAR,MAR', '443,5': 'MNAR,MAR', '444,5': 'MNAR,MAR', '445,1': 'MAR', '446,5': 'MNAR,MAR', '447,5': 'MNAR,MAR', '448,5': 'MNAR,MAR', '452,5': 'MNAR,MAR', '453,5': 'MNAR,MAR', '454,5': 'MNAR,MAR', '456,1': 'MAR', '456,5': 'MNAR,MAR', '457,5': 'MNAR,MAR', '462,1': 'MAR', '462,5': 'MNAR,MAR', '463,5': 'MNAR,MAR', '464,5': 'MNAR,MAR', '465,5': 'MNAR,MAR', '466,1': 'MAR', '466,5': 'MNAR,MAR', '467,5': 'MNAR,MAR', '468,5': 'MNAR,MAR', '469,5': 'MNAR,MAR', '471,5': 'MNAR,MAR', '473,5': 'MNAR,MAR', '474,5': 'MNAR,MAR', '475,1': 'MAR', '475,5': 'MNAR,MAR', '477,5': 'MNAR,MAR', '479,5': 'MNAR,MAR', '480,5': 'MNAR,MAR', '481,5': 'MNAR,MAR', '482,1': 'MAR', '485,5': 'MNAR,MAR', '486,5': 'MNAR,MAR', '487,5': 'MNAR,MAR', '488,1': 'MAR', '489,1': 'MAR', '489,5': 'MNAR,MAR', '490,5': 'MNAR,MAR', '491,5': 'MNAR,MAR', '493,5': 'MNAR,MAR', '495,5': 'MNAR,MAR', '496,1': 'MAR', '497,5': 'MNAR,MAR', '498,5': 'MNAR,MAR', '500,5': 'MNAR,MAR', '501,5': 'MNAR,MAR', '504,1': 'MAR', '504,5': 'MNAR,MAR', '505,5': 'MNAR,MAR', '508,5': 'MNAR,MAR', '510,5': 'MNAR,MAR', '511,5': 'MNAR,MAR', '512,1': 'MAR', '512,5': 'MNAR,MAR', '516,5': 'MNAR,MAR', '517,1': 'MAR', '519,5': 'MNAR,MAR', '522,5': 'MNAR,MAR', '524,5': 'MNAR,MAR', '528,1': 'MAR', '528,5': 'MNAR,MAR', '530,5': 'MNAR,MAR', '531,1': 'MAR', '532,1': 'MAR', '534,5': 'MNAR,MAR', '535,1': 'MAR', '539,5': 'MNAR,MAR', '540,1': 'MAR', '541,5': 'MNAR,MAR', '542,5': 'MNAR,MAR', '543,5': 'MNAR,MAR', '544,5': 'MNAR,MAR', '545,5': 'MNAR,MAR', '546,5': 'MNAR,MAR', '547,5': 'MNAR,MAR', '548,5': 'MNAR,MAR', '550,5': 'MNAR,MAR', '552,5': 'MNAR,MAR', '554,5': 'MNAR,MAR', '557,5': 'MNAR,MAR', '559,5': 'MNAR,MAR', '560,5': 'MNAR,MAR', '561,1': 'MAR', '561,5': 'MNAR,MAR', '562,5': 'MNAR,MAR', '563,5': 'MNAR,MAR', '565,1': 'MAR', '566,5': 'MNAR,MAR', '568,5': 'MNAR,MAR', '569,5': 'MNAR,MAR', '571,5': 'MNAR,MAR', '572,1': 'MAR', '572,5': 'MNAR,MAR', '573,5': 'MNAR,MAR', '574,5': 'MNAR,MAR', '575,5': 'MNAR,MAR', '576,5': 'MNAR,MAR', '577,5': 'MNAR,MAR', '578,5': 'MNAR,MAR', '579,5': 'MNAR,MAR', '581,5': 'MNAR,MAR', '582,1': 'MAR', '582,5': 'MNAR,MAR', '583,1': 'MAR', '585,1': 'MAR', '587,5': 'MNAR,MAR', '588,5': 'MNAR,MAR', '589,5': 'MNAR,MAR', '590,5': 'MNAR,MAR', '591,1': 'MAR', '593,1': 'MAR', '593,5': 'MNAR,MAR', '594,5': 'MNAR,MAR', '596,1': 'MAR', '597,5': 'MNAR,MAR', '598,5': 'MNAR,MAR', '599,5': 'MNAR,MAR', '600,5': 'MNAR,MAR', '603,5': 'MNAR,MAR', '604,5': 'MNAR,MAR', '608,5': 'MNAR,MAR', '609,5': 'MNAR,MAR', '613,1': 'MAR', '614,5': 'MNAR,MAR', '615,5': 'MNAR,MAR', '617,1': 'MAR', '617,5': 'MNAR,MAR', '618,1': 'MAR', '619,5': 'MNAR,MAR', '621,5': 'MNAR,MAR', '622,5': 'MNAR,MAR', '623,1': 'MAR', '624,5': 'MNAR,MAR', '625,5': 'MNAR,MAR', '626,5': 'MNAR,MAR', '629,5': 'MNAR,MAR', '630,5': 'MNAR,MAR', '632,5': 'MNAR,MAR', '633,1': 'MAR', '633,5': 'MNAR,MAR', '634,5': 'MNAR,MAR', '637,5': 'MNAR,MAR', '638,5': 'MNAR,MAR', '639,5': 'MNAR,MAR', '640,5': 'MNAR,MAR', '641,5': 'MNAR,MAR', '644,5': 'MNAR,MAR', '646,5': 'MNAR,MAR', '649,5': 'MNAR,MAR', '651,5': 'MNAR,MAR', '654,5': 'MNAR,MAR', '655,5': 'MNAR,MAR', '656,5': 'MNAR,MAR', '657,5': 'MNAR,MAR', '658,5': 'MNAR,MAR', '659,5': 'MNAR,MAR', '660,1': 'MAR', '660,5': 'MNAR,MAR', '661,5': 'MNAR,MAR', '662,5': 'MNAR,MAR', '664,5': 'MNAR,MAR', '667,5': 'MNAR,MAR', '668,1': 'MAR', '668,5': 'MNAR,MAR', '669,5': 'MNAR,MAR', '675,1': 'MAR', '675,5': 'MNAR,MAR', '676,5': 'MNAR,MAR', '678,1': 'MAR', '678,5': 'MNAR,MAR', '679,5': 'MNAR,MAR', '680,5': 'MNAR,MAR', '681,5': 'MNAR,MAR', '682,5': 'MNAR,MAR', '683,5': 'MNAR,MAR', '685,5': 'MNAR,MAR', '686,5': 'MNAR,MAR', '695,1': 'MAR', '696,5': 'MNAR,MAR', '699,1': 'MAR', '699,5': 'MNAR,MAR', '700,1': 'MAR', '704,5': 'MNAR,MAR', '707,1': 'MAR', '707,5': 'MNAR,MAR', '708,5': 'MNAR,MAR', '709,5': 'MNAR,MAR', '711,5': 'MNAR,MAR', '712,5': 'MNAR,MAR', '713,5': 'MNAR,MAR', '714,5': 'MNAR,MAR', '717,5': 'MNAR,MAR', '718,5': 'MNAR,MAR', '721,1': 'MAR', '724,5': 'MNAR,MAR', '727,1': 'MAR', '728,1': 'MAR', '728,5': 'MNAR,MAR', '731,1': 'MAR', '734,5': 'MNAR,MAR', '735,5': 'MNAR,MAR', '736,1': 'MAR', '738,5': 'MNAR,MAR', '741,5': 'MNAR,MAR', '742,5': 'MNAR,MAR', '744,5': 'MNAR,MAR', '747,5': 'MNAR,MAR', '748,5': 'MNAR,MAR', '750,5': 'MNAR,MAR', '751,5': 'MNAR,MAR', '752,1': 'MAR', '753,5': 'MNAR,MAR', '755,1': 'MAR', '755,5': 'MNAR,MAR', '756,5': 'MNAR,MAR', '757,5': 'MNAR,MAR', '758,5': 'MNAR,MAR', '760,5': 'MNAR,MAR', '761,1': 'MAR', '761,5': 'MNAR,MAR', '762,5': 'MNAR,MAR', '763,5': 'MNAR,MAR', '765,5': 'MNAR,MAR', '766,5': 'MNAR,MAR', '767,1': 'MAR', '767,5': 'MNAR,MAR', '768,1': 'MAR', '768,5': 'MNAR,MAR', '769,5': 'MNAR,MAR', '770,1': 'MAR', '772,5': 'MNAR,MAR', '775,1': 'MAR', '777,5': 'MNAR,MAR', '780,5': 'MNAR,MAR', '782,5': 'MNAR,MAR', '784,5': 'MNAR,MAR', '788,5': 'MNAR,MAR', '789,5': 'MNAR,MAR', '791,5': 'MNAR,MAR', '792,5': 'MNAR,MAR', '793,5': 'MNAR,MAR', '794,1': 'MAR', '796,5': 'MNAR,MAR', '797,1': 'MAR', '797,5': 'MNAR,MAR', '798,5': 'MNAR,MAR', '799,5': 'MNAR,MAR', '800,5': 'MNAR,MAR', '801,1': 'MAR', '801,5': 'MNAR,MAR', '803,5': 'MNAR,MAR', '804,1': 'MAR', '804,5': 'MNAR,MAR', '807,5': 'MNAR,MAR', '808,5': 'MNAR,MAR', '809,5': 'MNAR,MAR', '811,5': 'MNAR,MAR', '813,5': 'MNAR,MAR', '814,5': 'MNAR,MAR', '815,1': 'MAR', '815,5': 'MNAR,MAR', '817,5': 'MNAR,MAR', '818,5': 'MNAR,MAR', '819,5': 'MNAR,MAR', '820,5': 'MNAR,MAR', '822,5': 'MNAR,MAR', '823,5': 'MNAR,MAR', '825,5': 'MNAR,MAR', '826,1': 'MAR', '826,5': 'MNAR,MAR', '827,5': 'MNAR,MAR', '828,5': 'MNAR,MAR', '829,5': 'MNAR,MAR', '831,5': 'MNAR,MAR', '833,5': 'MNAR,MAR', '834,5': 'MNAR,MAR', '835,5': 'MNAR,MAR', '836,5': 'MNAR,MAR', '837,1': 'MAR', '837,5': 'MNAR,MAR', '838,5': 'MNAR,MAR', '839,5': 'MNAR,MAR', '840,5': 'MNAR,MAR', '841,5': 'MNAR,MAR', '844,5': 'MNAR,MAR', '845,5': 'MNAR,MAR', '846,1': 'MAR', '846,5': 'MNAR,MAR', '847,5': 'MNAR,MAR', '848,5': 'MNAR,MAR', '849,5': 'MNAR,MAR', '850,1': 'MAR', '850,5': 'MNAR,MAR', '851,5': 'MNAR,MAR', '854,5': 'MNAR,MAR', '857,5': 'MNAR,MAR', '858,5': 'MNAR,MAR', '859,1': 'MAR', '861,5': 'MNAR,MAR', '862,5': 'MNAR,MAR', '864,1': 'MAR', '864,5': 'MNAR,MAR', '866,5': 'MNAR,MAR', '868,5': 'MNAR,MAR', '871,5': 'MNAR,MAR', '873,5': 'MNAR,MAR', '874,5': 'MNAR,MAR', '876,5': 'MNAR,MAR', '877,5': 'MNAR,MAR', '879,5': 'MNAR,MAR', '880,5': 'MNAR,MAR', '881,5': 'MNAR,MAR', '882,5': 'MNAR,MAR', '885,5': 'MNAR,MAR', '886,5': 'MNAR,MAR', '887,5': 'MNAR,MAR', '889,1': 'MAR', '889,5': 'MNAR,MAR', '891,5': 'MNAR,MAR', '892,5': 'MNAR,MAR', '894,5': 'MNAR,MAR', '895,5': 'MNAR,MAR', '896,1': 'MAR', '896,5': 'MNAR,MAR', '898,1': 'MAR', '900,1': 'MAR', '900,5': 'MNAR,MAR', '901,5': 'MNAR,MAR', '904,5': 'MNAR,MAR', '906,5': 'MNAR,MAR', '907,5': 'MNAR,MAR', '908,5': 'MNAR,MAR', '909,5': 'MNAR,MAR', '911,5': 'MNAR,MAR', '912,5': 'MNAR,MAR', '914,1': 'MAR', '914,5': 'MNAR,MAR', '915,5': 'MNAR,MAR', '917,5': 'MNAR,MAR', '922,1': 'MAR', '922,5': 'MNAR,MAR', '923,1': 'MAR', '923,5': 'MNAR,MAR', '924,5': 'MNAR,MAR', '925,5': 'MNAR,MAR', '926,1': 'MAR', '926,5': 'MNAR,MAR', '928,5': 'MNAR,MAR', '929,5': 'MNAR,MAR', '931,5': 'MNAR,MAR', '934,5': 'MNAR,MAR', '936,5': 'MNAR,MAR', '938,5': 'MNAR,MAR', '940,5': 'MNAR,MAR', '941,5': 'MNAR,MAR', '942,5': 'MNAR,MAR', '944,5': 'MNAR,MAR', '947,5': 'MNAR,MAR', '948,5': 'MNAR,MAR', '950,5': 'MNAR,MAR', '952,1': 'MAR', '955,1': 'MAR', '956,5': 'MNAR,MAR', '958,5': 'MNAR,MAR', '960,1': 'MAR', '960,5': 'MNAR,MAR', '961,5': 'MNAR,MAR', '962,5': 'MNAR,MAR', '964,5': 'MNAR,MAR', '965,5': 'MNAR,MAR', '967,5': 'MNAR,MAR', '968,1': 'MAR', '969,5': 'MNAR,MAR', '971,5': 'MNAR,MAR', '972,1': 'MAR', '972,5': 'MNAR,MAR', '973,1': 'MAR', '973,5': 'MNAR,MAR', '974,5': 'MNAR,MAR', '978,5': 'MNAR,MAR', '980,5': 'MNAR,MAR', '981,1': 'MAR', '981,5': 'MNAR,MAR', '984,5': 'MNAR,MAR', '985,1': 'MAR', '985,5': 'MNAR,MAR', '986,5': 'MNAR,MAR', '988,5': 'MNAR,MAR', '990,5': 'MNAR,MAR', '992,1': 'MAR', '992,5': 'MNAR,MAR', '993,5': 'MNAR,MAR', '994,5': 'MNAR,MAR', '995,5': 'MNAR,MAR', '996,5': 'MNAR,MAR', '998,5': 'MNAR,MAR', '0,4': 'MNAR', '0,6': 'MNAR', '1,4': 'MNAR', '2,4': 'MNAR', '3,4': 'MNAR', '4,4': 'MNAR', '5,4': 'MNAR', '7,4': 'MNAR', '9,4': 'MNAR', '10,4': 'MNAR', '11,4': 'MNAR', '12,4': 'MNAR', '13,4': 'MNAR', '13,6': 'MNAR', '15,4': 'MNAR', '16,4': 'MNAR', '17,4': 'MNAR', '18,4': 'MNAR', '26,4': 'MNAR', '26,6': 'MNAR', '27,6': 'MNAR', '28,4': 'MNAR', '29,4': 'MNAR', '31,4': 'MNAR', '32,4': 'MNAR', '33,4': 'MNAR', '34,4': 'MNAR', '35,4': 'MNAR', '36,4': 'MNAR', '41,6': 'MNAR', '42,8': 'MNAR', '43,4': 'MNAR', '44,4': 'MNAR', '48,4': 'MNAR', '49,4': 'MNAR', '51,4': 'MNAR', '52,4': 'MNAR', '53,4': 'MNAR', '54,4': 'MNAR', '55,4': 'MNAR', '55,6': 'MNAR', '56,4': 'MNAR', '57,4': 'MNAR', '58,4': 'MNAR', '60,4': 'MNAR', '61,4': 'MNAR', '62,4': 'MNAR', '63,4': 'MNAR', '64,4': 'MNAR', '65,4': 'MNAR', '65,8': 'MNAR', '66,4': 'MNAR', '67,6': 'MNAR', '68,4': 'MNAR', '69,4': 'MNAR', '70,4': 'MNAR', '71,4': 'MNAR', '72,4': 'MNAR', '72,6': 'MNAR', '72,8': 'MNAR', '73,4': 'MNAR', '75,4': 'MNAR', '76,4': 'MNAR', '77,4': 'MNAR', '78,4': 'MNAR', '79,4': 'MNAR', '80,4': 'MNAR', '82,4': 'MNAR', '83,4': 'MNAR', '83,8': 'MNAR', '86,4': 'MNAR', '88,4': 'MNAR', '89,4': 'MNAR', '89,6': 'MNAR', '89,8': 'MNAR', '90,4': 'MNAR', '90,6': 'MNAR', '92,4': 'MNAR', '92,6': 'MNAR', '93,4': 'MNAR', '95,4': 'MNAR', '96,4': 'MNAR', '97,4': 'MNAR', '98,4': 'MNAR', '99,4': 'MNAR', '100,4': 'MNAR', '101,4': 'MNAR', '102,4': 'MNAR', '102,6': 'MNAR', '103,4': 'MNAR', '104,4': 'MNAR', '105,4': 'MNAR', '106,4': 'MNAR', '107,4': 'MNAR', '108,4': 'MNAR', '110,4': 'MNAR', '111,4': 'MNAR', '111,6': 'MNAR', '112,4': 'MNAR', '113,4': 'MNAR', '115,4': 'MNAR', '117,4': 'MNAR', '120,4': 'MNAR', '121,4': 'MNAR', '122,4': 'MNAR', '123,4': 'MNAR', '125,4': 'MNAR', '126,4': 'MNAR', '126,6': 'MNAR', '127,4': 'MNAR', '127,6': 'MNAR', '128,4': 'MNAR', '129,4': 'MNAR', '130,4': 'MNAR', '131,4': 'MNAR', '133,4': 'MNAR', '135,4': 'MNAR', '137,6': 'MNAR', '138,4': 'MNAR', '139,4': 'MNAR', '140,6': 'MNAR', '141,4': 'MNAR', '142,4': 'MNAR', '143,4': 'MNAR', '144,4': 'MNAR', '145,4': 'MNAR', '146,4': 'MNAR', '146,6': 'MNAR', '147,4': 'MNAR', '147,6': 'MNAR', '148,4': 'MNAR', '150,4': 'MNAR', '151,4': 'MNAR', '152,4': 'MNAR', '155,4': 'MNAR', '156,4': 'MNAR', '156,8': 'MNAR', '157,4': 'MNAR', '157,6': 'MNAR', '158,4': 'MNAR', '159,4': 'MNAR', '160,4': 'MNAR', '161,4': 'MNAR', '161,6': 'MNAR', '163,4': 'MNAR', '164,6': 'MNAR', '166,6': 'MNAR', '168,4': 'MNAR', '169,4': 'MNAR', '170,4': 'MNAR', '170,6': 'MNAR', '171,4': 'MNAR', '171,6': 'MNAR', '172,4': 'MNAR', '173,4': 'MNAR', '174,4': 'MNAR', '175,4': 'MNAR', '176,4': 'MNAR', '177,6': 'MNAR', '178,4': 'MNAR', '179,4': 'MNAR', '179,6': 'MNAR', '180,4': 'MNAR', '181,4': 'MNAR', '182,4': 'MNAR', '184,4': 'MNAR', '184,6': 'MNAR', '185,4': 'MNAR', '186,4': 'MNAR', '187,6': 'MNAR', '188,4': 'MNAR', '188,6': 'MNAR', '189,4': 'MNAR', '192,4': 'MNAR', '193,4': 'MNAR', '194,4': 'MNAR', '195,4': 'MNAR', '196,4': 'MNAR', '197,4': 'MNAR', '197,6': 'MNAR', '198,4': 'MNAR', '200,6': 'MNAR', '201,4': 'MNAR', '201,6': 'MNAR', '202,4': 'MNAR', '203,4': 'MNAR', '203,6': 'MNAR', '204,4': 'MNAR', '207,4': 'MNAR', '208,4': 'MNAR', '210,4': 'MNAR', '211,4': 'MNAR', '213,4': 'MNAR', '214,4': 'MNAR', '215,4': 'MNAR', '215,6': 'MNAR', '216,4': 'MNAR', '218,4': 'MNAR', '219,4': 'MNAR', '220,6': 'MNAR', '221,4': 'MNAR', '222,4': 'MNAR', '222,6': 'MNAR', '223,4': 'MNAR', '225,4': 'MNAR', '225,8': 'MNAR', '227,4': 'MNAR', '228,4': 'MNAR', '229,4': 'MNAR', '230,4': 'MNAR', '232,4': 'MNAR', '233,4': 'MNAR', '233,6': 'MNAR', '235,4': 'MNAR', '236,4': 'MNAR', '237,4': 'MNAR', '238,4': 'MNAR', '240,6': 'MNAR', '241,4': 'MNAR', '242,4': 'MNAR', '243,4': 'MNAR', '243,6': 'MNAR', '245,4': 'MNAR', '246,4': 'MNAR', '246,6': 'MNAR', '247,4': 'MNAR', '248,4': 'MNAR', '249,6': 'MNAR', '250,6': 'MNAR', '252,4': 'MNAR', '253,4': 'MNAR', '254,4': 'MNAR', '255,4': 'MNAR', '256,4': 'MNAR', '257,4': 'MNAR', '258,4': 'MNAR', '259,4': 'MNAR', '259,6': 'MNAR', '260,4': 'MNAR', '261,4': 'MNAR', '263,4': 'MNAR', '264,4': 'MNAR', '265,4': 'MNAR', '265,6': 'MNAR', '266,4': 'MNAR', '267,4': 'MNAR', '268,4': 'MNAR', '269,4': 'MNAR', '269,6': 'MNAR', '270,4': 'MNAR', '272,4': 'MNAR', '273,4': 'MNAR', '274,4': 'MNAR', '274,8': 'MNAR', '276,4': 'MNAR', '278,4': 'MNAR', '281,4': 'MNAR', '282,4': 'MNAR', '283,4': 'MNAR', '284,4': 'MNAR', '285,4': 'MNAR', '287,4': 'MNAR', '287,8': 'MNAR', '288,4': 'MNAR', '288,6': 'MNAR', '289,4': 'MNAR', '289,6': 'MNAR', '290,4': 'MNAR', '290,6': 'MNAR', '291,4': 'MNAR', '292,4': 'MNAR', '296,4': 'MNAR', '297,4': 'MNAR', '298,4': 'MNAR', '300,4': 'MNAR', '300,6': 'MNAR', '301,4': 'MNAR', '303,4': 'MNAR', '303,6': 'MNAR', '306,4': 'MNAR', '307,4': 'MNAR', '307,6': 'MNAR', '308,4': 'MNAR', '309,4': 'MNAR', '309,6': 'MNAR', '310,4': 'MNAR', '310,8': 'MNAR', '311,4': 'MNAR', '312,4': 'MNAR', '313,4': 'MNAR', '313,6': 'MNAR', '314,4': 'MNAR', '315,4': 'MNAR', '316,4': 'MNAR', '316,6': 'MNAR', '317,4': 'MNAR', '318,6': 'MNAR', '319,4': 'MNAR', '320,4': 'MNAR', '321,4': 'MNAR', '322,4': 'MNAR', '324,4': 'MNAR', '324,6': 'MNAR', '325,4': 'MNAR', '326,4': 'MNAR', '328,4': 'MNAR', '329,4': 'MNAR', '330,4': 'MNAR', '332,4': 'MNAR', '333,4': 'MNAR', '335,4': 'MNAR', '336,4': 'MNAR', '337,4': 'MNAR', '338,4': 'MNAR', '339,4': 'MNAR', '340,4': 'MNAR', '341,4': 'MNAR', '343,4': 'MNAR', '344,4': 'MNAR', '345,4': 'MNAR', '346,6': 'MNAR', '348,4': 'MNAR', '349,6': 'MNAR', '351,4': 'MNAR', '351,6': 'MNAR', '352,4': 'MNAR', '353,4': 'MNAR', '354,6': 'MNAR', '356,4': 'MNAR', '358,4': 'MNAR', '358,6': 'MNAR', '359,4': 'MNAR', '360,4': 'MNAR', '362,4': 'MNAR', '363,4': 'MNAR', '364,4': 'MNAR', '365,4': 'MNAR', '366,4': 'MNAR', '367,4': 'MNAR', '368,4': 'MNAR', '369,4': 'MNAR', '370,4': 'MNAR', '371,4': 'MNAR', '372,4': 'MNAR', '374,4': 'MNAR', '374,8': 'MNAR', '375,4': 'MNAR', '376,4': 'MNAR', '377,6': 'MNAR', '380,4': 'MNAR', '381,4': 'MNAR', '382,4': 'MNAR', '383,4': 'MNAR', '384,4': 'MNAR', '385,4': 'MNAR', '387,4': 'MNAR', '389,4': 'MNAR', '390,4': 'MNAR', '391,6': 'MNAR', '392,4': 'MNAR', '393,4': 'MNAR', '394,4': 'MNAR', '395,4': 'MNAR', '396,4': 'MNAR', '397,4': 'MNAR', '398,4': 'MNAR', '401,4': 'MNAR', '402,4': 'MNAR', '403,4': 'MNAR', '403,6': 'MNAR', '404,4': 'MNAR', '405,4': 'MNAR', '406,4': 'MNAR', '407,4': 'MNAR', '407,6': 'MNAR', '409,6': 'MNAR', '410,4': 'MNAR', '411,4': 'MNAR', '412,4': 'MNAR', '414,4': 'MNAR', '419,4': 'MNAR', '419,6': 'MNAR', '422,4': 'MNAR', '422,6': 'MNAR', '423,4': 'MNAR', '424,4': 'MNAR', '425,4': 'MNAR', '426,4': 'MNAR', '427,6': 'MNAR', '428,4': 'MNAR', '429,4': 'MNAR', '429,6': 'MNAR', '429,8': 'MNAR', '431,4': 'MNAR', '432,4': 'MNAR', '433,8': 'MNAR', '434,4': 'MNAR', '436,6': 'MNAR', '436,8': 'MNAR', '438,4': 'MNAR', '439,6': 'MNAR', '440,4': 'MNAR', '441,4': 'MNAR', '442,4': 'MNAR', '442,8': 'MNAR', '443,4': 'MNAR', '443,6': 'MNAR', '444,4': 'MNAR', '446,4': 'MNAR', '447,4': 'MNAR', '448,4': 'MNAR', '449,8': 'MNAR', '450,4': 'MNAR', '451,4': 'MNAR', '451,6': 'MNAR', '452,4': 'MNAR', '453,4': 'MNAR', '454,4': 'MNAR', '455,4': 'MNAR', '456,4': 'MNAR', '457,4': 'MNAR', '458,6': 'MNAR', '459,4': 'MNAR', '460,4': 'MNAR', '462,4': 'MNAR', '463,4': 'MNAR', '463,6': 'MNAR', '464,4': 'MNAR', '465,4': 'MNAR', '466,4': 'MNAR', '467,4': 'MNAR', '468,4': 'MNAR', '469,4': 'MNAR', '471,4': 'MNAR', '471,6': 'MNAR', '472,6': 'MNAR', '473,4': 'MNAR', '474,4': 'MNAR', '475,4': 'MNAR', '477,4': 'MNAR', '478,4': 'MNAR', '478,6': 'MNAR', '479,4': 'MNAR', '480,4': 'MNAR', '481,4': 'MNAR', '483,6': 'MNAR', '484,6': 'MNAR', '485,4': 'MNAR', '486,4': 'MNAR', '487,4': 'MNAR', '488,4': 'MNAR', '489,4': 'MNAR', '490,4': 'MNAR', '491,4': 'MNAR', '492,4': 'MNAR', '493,4': 'MNAR', '493,6': 'MNAR', '494,4': 'MNAR', '495,4': 'MNAR', '497,4': 'MNAR', '498,4': 'MNAR', '499,4': 'MNAR', '500,4': 'MNAR', '501,4': 'MNAR', '502,4': 'MNAR', '502,6': 'MNAR', '503,4': 'MNAR', '504,4': 'MNAR', '505,4': 'MNAR', '507,4': 'MNAR', '508,4': 'MNAR', '509,4': 'MNAR', '510,4': 'MNAR', '510,6': 'MNAR', '511,4': 'MNAR', '512,4': 'MNAR', '513,6': 'MNAR', '514,4': 'MNAR', '515,4': 'MNAR', '515,6': 'MNAR', '516,4': 'MNAR', '518,4': 'MNAR', '519,4': 'MNAR', '519,6': 'MNAR', '520,4': 'MNAR', '520,8': 'MNAR', '521,4': 'MNAR', '522,4': 'MNAR', '523,4': 'MNAR', '524,4': 'MNAR', '524,6': 'MNAR', '526,4': 'MNAR', '528,4': 'MNAR', '529,4': 'MNAR', '530,4': 'MNAR', '531,4': 'MNAR', '532,4': 'MNAR', '533,4': 'MNAR', '534,4': 'MNAR', '536,4': 'MNAR', '538,4': 'MNAR', '539,4': 'MNAR', '540,4': 'MNAR', '541,4': 'MNAR', '542,4': 'MNAR', '543,4': 'MNAR', '544,4': 'MNAR', '545,4': 'MNAR', '546,4': 'MNAR', '547,4': 'MNAR', '548,4': 'MNAR', '548,6': 'MNAR', '549,4': 'MNAR', '550,4': 'MNAR', '550,6': 'MNAR', '550,8': 'MNAR', '552,4': 'MNAR', '553,4': 'MNAR', '554,4': 'MNAR', '554,6': 'MNAR', '555,4': 'MNAR', '556,4': 'MNAR', '557,4': 'MNAR', '558,4': 'MNAR', '559,4': 'MNAR', '560,4': 'MNAR', '561,4': 'MNAR', '562,4': 'MNAR', '562,6': 'MNAR', '563,4': 'MNAR', '564,4': 'MNAR', '565,4': 'MNAR', '566,4': 'MNAR', '568,4': 'MNAR', '569,4': 'MNAR', '571,4': 'MNAR', '572,4': 'MNAR', '573,4': 'MNAR', '573,6': 'MNAR', '574,4': 'MNAR', '574,6': 'MNAR', '575,4': 'MNAR', '576,4': 'MNAR', '577,4': 'MNAR', '578,4': 'MNAR', '579,4': 'MNAR', '579,6': 'MNAR', '580,4': 'MNAR', '580,6': 'MNAR', '581,4': 'MNAR', '582,4': 'MNAR', '583,8': 'MNAR', '584,4': 'MNAR', '585,4': 'MNAR', '586,4': 'MNAR', '587,4': 'MNAR', '588,4': 'MNAR', '589,4': 'MNAR', '590,4': 'MNAR', '590,6': 'MNAR', '591,4': 'MNAR', '593,4': 'MNAR', '594,4': 'MNAR', '594,8': 'MNAR', '595,4': 'MNAR', '595,6': 'MNAR', '597,4': 'MNAR', '598,4': 'MNAR', '599,4': 'MNAR', '600,4': 'MNAR', '601,6': 'MNAR', '603,4': 'MNAR', '604,4': 'MNAR', '607,4': 'MNAR', '608,4': 'MNAR', '609,4': 'MNAR', '610,4': 'MNAR', '611,4': 'MNAR', '614,4': 'MNAR', '615,4': 'MNAR', '616,4': 'MNAR', '617,4': 'MNAR', '619,4': 'MNAR', '619,6': 'MNAR', '620,4': 'MNAR', '621,4': 'MNAR', '622,4': 'MNAR', '623,4': 'MNAR', '624,4': 'MNAR', '625,4': 'MNAR', '626,4': 'MNAR', '627,4': 'MNAR', '629,4': 'MNAR', '630,4': 'MNAR', '631,4': 'MNAR', '632,4': 'MNAR', '633,4': 'MNAR', '634,4': 'MNAR', '635,4': 'MNAR', '637,4': 'MNAR', '638,4': 'MNAR', '639,4': 'MNAR', '640,4': 'MNAR', '641,4': 'MNAR', '641,8': 'MNAR', '642,4': 'MNAR', '644,4': 'MNAR', '645,4': 'MNAR', '646,4': 'MNAR', '648,4': 'MNAR', '648,6': 'MNAR', '649,4': 'MNAR', '651,4': 'MNAR', '653,4': 'MNAR', '654,4': 'MNAR', '655,4': 'MNAR', '656,4': 'MNAR', '657,4': 'MNAR', '658,4': 'MNAR', '659,4': 'MNAR', '660,4': 'MNAR', '661,4': 'MNAR', '661,6': 'MNAR', '662,4': 'MNAR', '663,4': 'MNAR', '663,6': 'MNAR', '664,4': 'MNAR', '664,6': 'MNAR', '665,4': 'MNAR', '665,8': 'MNAR', '667,4': 'MNAR', '668,4': 'MNAR', '669,4': 'MNAR', '670,4': 'MNAR', '671,4': 'MNAR', '672,4': 'MNAR', '675,4': 'MNAR', '676,4': 'MNAR', '677,4': 'MNAR', '678,4': 'MNAR', '679,4': 'MNAR', '680,4': 'MNAR', '681,4': 'MNAR', '682,4': 'MNAR', '683,4': 'MNAR', '684,4': 'MNAR', '685,4': 'MNAR', '686,4': 'MNAR', '687,4': 'MNAR', '688,4': 'MNAR', '690,4': 'MNAR', '690,6': 'MNAR', '691,4': 'MNAR', '691,8': 'MNAR', '692,4': 'MNAR', '694,4': 'MNAR', '696,4': 'MNAR', '697,4': 'MNAR', '698,4': 'MNAR', '699,4': 'MNAR', '700,6': 'MNAR', '702,4': 'MNAR', '703,4': 'MNAR', '704,4': 'MNAR', '707,4': 'MNAR', '708,4': 'MNAR', '709,4': 'MNAR', '710,6': 'MNAR', '711,4': 'MNAR', '711,6': 'MNAR', '712,4': 'MNAR', '713,4': 'MNAR', '713,6': 'MNAR', '714,4': 'MNAR', '717,4': 'MNAR', '718,4': 'MNAR', '720,4': 'MNAR', '721,6': 'MNAR', '723,6': 'MNAR', '724,4': 'MNAR', '725,6': 'MNAR', '728,4': 'MNAR', '731,4': 'MNAR', '732,6': 'MNAR', '734,4': 'MNAR', '735,4': 'MNAR', '738,4': 'MNAR', '739,4': 'MNAR', '740,4': 'MNAR', '741,4': 'MNAR', '741,6': 'MNAR', '742,4': 'MNAR', '744,4': 'MNAR', '745,4': 'MNAR', '746,4': 'MNAR', '747,4': 'MNAR', '748,4': 'MNAR', '750,4': 'MNAR', '750,6': 'MNAR', '751,4': 'MNAR', '751,6': 'MNAR', '752,4': 'MNAR', '752,6': 'MNAR', '753,4': 'MNAR', '754,8': 'MNAR', '755,4': 'MNAR', '756,4': 'MNAR', '757,4': 'MNAR', '758,4': 'MNAR', '760,4': 'MNAR', '761,4': 'MNAR', '762,4': 'MNAR', '763,4': 'MNAR', '764,4': 'MNAR', '765,4': 'MNAR', '765,6': 'MNAR', '766,4': 'MNAR', '767,4': 'MNAR', '768,4': 'MNAR', '769,4': 'MNAR', '771,4': 'MNAR', '772,4': 'MNAR', '773,4': 'MNAR', '775,4': 'MNAR', '776,4': 'MNAR', '777,4': 'MNAR', '779,4': 'MNAR', '779,8': 'MNAR', '780,4': 'MNAR', '782,4': 'MNAR', '783,4': 'MNAR', '783,6': 'MNAR', '784,4': 'MNAR', '788,4': 'MNAR', '789,4': 'MNAR', '791,4': 'MNAR', '792,4': 'MNAR', '793,4': 'MNAR', '795,4': 'MNAR', '796,4': 'MNAR', '797,4': 'MNAR', '798,4': 'MNAR', '798,6': 'MNAR', '799,4': 'MNAR', '800,4': 'MNAR', '801,4': 'MNAR', '802,4': 'MNAR', '803,4': 'MNAR', '803,6': 'MNAR', '804,4': 'MNAR', '805,4': 'MNAR', '806,6': 'MNAR', '807,4': 'MNAR', '807,6': 'MNAR', '808,4': 'MNAR', '809,4': 'MNAR', '810,6': 'MNAR', '811,4': 'MNAR', '813,4': 'MNAR', '814,4': 'MNAR', '815,4': 'MNAR', '817,4': 'MNAR', '818,4': 'MNAR', '818,8': 'MNAR', '819,4': 'MNAR', '820,4': 'MNAR', '820,6': 'MNAR', '822,4': 'MNAR', '823,4': 'MNAR', '823,6': 'MNAR', '825,4': 'MNAR', '826,4': 'MNAR', '827,4': 'MNAR', '828,4': 'MNAR', '829,4': 'MNAR', '831,4': 'MNAR', '832,4': 'MNAR', '833,4': 'MNAR', '834,4': 'MNAR', '835,4': 'MNAR', '835,6': 'MNAR', '836,4': 'MNAR', '836,6': 'MNAR', '837,4': 'MNAR', '837,6': 'MNAR', '838,4': 'MNAR', '839,4': 'MNAR', '840,4': 'MNAR', '841,4': 'MNAR', '842,8': 'MNAR', '844,4': 'MNAR', '845,4': 'MNAR', '846,4': 'MNAR', '847,4': 'MNAR', '848,4': 'MNAR', '849,4': 'MNAR', '849,6': 'MNAR', '850,4': 'MNAR', '851,4': 'MNAR', '852,4': 'MNAR', '854,4': 'MNAR', '855,4': 'MNAR', '856,6': 'MNAR', '857,4': 'MNAR', '858,4': 'MNAR', '859,4': 'MNAR', '861,4': 'MNAR', '862,4': 'MNAR', '864,4': 'MNAR', '866,4': 'MNAR', '867,4': 'MNAR', '868,4': 'MNAR', '869,4': 'MNAR', '869,6': 'MNAR', '871,4': 'MNAR', '872,4': 'MNAR', '873,4': 'MNAR', '873,6': 'MNAR', '874,4': 'MNAR', '876,4': 'MNAR', '877,4': 'MNAR', '878,4': 'MNAR', '879,4': 'MNAR', '880,4': 'MNAR', '881,4': 'MNAR', '882,4': 'MNAR', '883,6': 'MNAR', '885,4': 'MNAR', '886,4': 'MNAR', '887,4': 'MNAR', '888,4': 'MNAR', '889,4': 'MNAR', '890,4': 'MNAR', '891,4': 'MNAR', '892,4': 'MNAR', '894,4': 'MNAR', '894,6': 'MNAR', '895,4': 'MNAR', '896,4': 'MNAR', '898,4': 'MNAR', '899,4': 'MNAR', '900,4': 'MNAR', '901,4': 'MNAR', '902,4': 'MNAR', '904,4': 'MNAR', '905,6': 'MNAR', '906,4': 'MNAR', '907,4': 'MNAR', '908,4': 'MNAR', '909,4': 'MNAR', '911,4': 'MNAR', '912,4': 'MNAR', '914,4': 'MNAR', '915,4': 'MNAR', '915,8': 'MNAR', '916,4': 'MNAR', '917,4': 'MNAR', '918,4': 'MNAR', '919,4': 'MNAR', '920,4': 'MNAR', '922,4': 'MNAR', '923,4': 'MNAR', '924,4': 'MNAR', '925,4': 'MNAR', '925,6': 'MNAR', '926,4': 'MNAR', '926,6': 'MNAR', '927,4': 'MNAR', '928,4': 'MNAR', '929,4': 'MNAR', '931,4': 'MNAR', '932,4': 'MNAR', '934,4': 'MNAR', '935,4': 'MNAR', '936,4': 'MNAR', '936,6': 'MNAR', '938,4': 'MNAR', '940,4': 'MNAR', '941,4': 'MNAR', '942,4': 'MNAR', '942,6': 'MNAR', '944,4': 'MNAR', '947,4': 'MNAR', '948,4': 'MNAR', '949,4': 'MNAR', '950,4': 'MNAR', '953,4': 'MNAR', '954,4': 'MNAR', '956,4': 'MNAR', '957,4': 'MNAR', '957,6': 'MNAR', '958,4': 'MNAR', '960,4': 'MNAR', '961,4': 'MNAR', '962,4': 'MNAR', '964,4': 'MNAR', '964,6': 'MNAR', '964,8': 'MNAR', '965,4': 'MNAR', '967,4': 'MNAR', '969,4': 'MNAR', '970,4': 'MNAR', '970,8': 'MNAR', '971,4': 'MNAR', '972,4': 'MNAR', '972,6': 'MNAR', '973,4': 'MNAR', '974,4': 'MNAR', '976,6': 'MNAR', '978,4': 'MNAR', '979,4': 'MNAR', '980,4': 'MNAR', '981,4': 'MNAR', '982,4': 'MNAR', '984,4': 'MNAR', '985,4': 'MNAR', '986,4': 'MNAR', '988,4': 'MNAR', '990,4': 'MNAR', '992,4': 'MNAR', '993,4': 'MNAR', '994,4': 'MNAR', '995,4': 'MNAR', '996,4': 'MNAR', '997,6': 'MNAR', '998,4': 'MNAR', '999,4': 'MNAR'}\n"
     ]
    }
   ],
   "source": [
    "print(index_mnar)"
   ]
  },
  {
   "cell_type": "code",
   "execution_count": null,
   "metadata": {},
   "outputs": [
    {
     "name": "stdout",
     "output_type": "stream",
     "text": [
      "Total Missing Percentage: 33.01%\n"
     ]
    }
   ],
   "source": [
    "total_missing_percentage = miss_mnar.isnull().sum().sum() / miss_mnar.size * 100\n",
    "print(f\"Total Missing Percentage: {total_missing_percentage:.2f}%\")"
   ]
  },
  {
   "cell_type": "code",
   "execution_count": null,
   "metadata": {},
   "outputs": [],
   "source": [
    "missing_45 = pd.concat([miss_mnar, label], axis=1)"
   ]
  },
  {
   "cell_type": "code",
   "execution_count": null,
   "metadata": {},
   "outputs": [
    {
     "data": {
      "text/html": [
       "<div>\n",
       "<style scoped>\n",
       "    .dataframe tbody tr th:only-of-type {\n",
       "        vertical-align: middle;\n",
       "    }\n",
       "\n",
       "    .dataframe tbody tr th {\n",
       "        vertical-align: top;\n",
       "    }\n",
       "\n",
       "    .dataframe thead th {\n",
       "        text-align: right;\n",
       "    }\n",
       "</style>\n",
       "<table border=\"1\" class=\"dataframe\">\n",
       "  <thead>\n",
       "    <tr style=\"text-align: right;\">\n",
       "      <th></th>\n",
       "      <th>Age</th>\n",
       "      <th>Sex</th>\n",
       "      <th>Job</th>\n",
       "      <th>Housing</th>\n",
       "      <th>Saving accounts</th>\n",
       "      <th>Checking account</th>\n",
       "      <th>Credit amount</th>\n",
       "      <th>Duration</th>\n",
       "      <th>Purpose</th>\n",
       "      <th>Risk</th>\n",
       "    </tr>\n",
       "  </thead>\n",
       "  <tbody>\n",
       "    <tr>\n",
       "      <th>0</th>\n",
       "      <td>67.0</td>\n",
       "      <td>1.0</td>\n",
       "      <td>2.0</td>\n",
       "      <td>NaN</td>\n",
       "      <td>NaN</td>\n",
       "      <td>NaN</td>\n",
       "      <td>NaN</td>\n",
       "      <td>6.0</td>\n",
       "      <td>5.0</td>\n",
       "      <td>1</td>\n",
       "    </tr>\n",
       "    <tr>\n",
       "      <th>1</th>\n",
       "      <td>22.0</td>\n",
       "      <td>0.0</td>\n",
       "      <td>2.0</td>\n",
       "      <td>1.0</td>\n",
       "      <td>NaN</td>\n",
       "      <td>NaN</td>\n",
       "      <td>5951.0</td>\n",
       "      <td>NaN</td>\n",
       "      <td>5.0</td>\n",
       "      <td>0</td>\n",
       "    </tr>\n",
       "    <tr>\n",
       "      <th>2</th>\n",
       "      <td>49.0</td>\n",
       "      <td>1.0</td>\n",
       "      <td>1.0</td>\n",
       "      <td>1.0</td>\n",
       "      <td>NaN</td>\n",
       "      <td>NaN</td>\n",
       "      <td>2096.0</td>\n",
       "      <td>12.0</td>\n",
       "      <td>3.0</td>\n",
       "      <td>1</td>\n",
       "    </tr>\n",
       "    <tr>\n",
       "      <th>3</th>\n",
       "      <td>45.0</td>\n",
       "      <td>1.0</td>\n",
       "      <td>2.0</td>\n",
       "      <td>NaN</td>\n",
       "      <td>NaN</td>\n",
       "      <td>NaN</td>\n",
       "      <td>7882.0</td>\n",
       "      <td>42.0</td>\n",
       "      <td>4.0</td>\n",
       "      <td>1</td>\n",
       "    </tr>\n",
       "    <tr>\n",
       "      <th>4</th>\n",
       "      <td>53.0</td>\n",
       "      <td>1.0</td>\n",
       "      <td>2.0</td>\n",
       "      <td>0.0</td>\n",
       "      <td>NaN</td>\n",
       "      <td>NaN</td>\n",
       "      <td>NaN</td>\n",
       "      <td>24.0</td>\n",
       "      <td>1.0</td>\n",
       "      <td>0</td>\n",
       "    </tr>\n",
       "    <tr>\n",
       "      <th>...</th>\n",
       "      <td>...</td>\n",
       "      <td>...</td>\n",
       "      <td>...</td>\n",
       "      <td>...</td>\n",
       "      <td>...</td>\n",
       "      <td>...</td>\n",
       "      <td>...</td>\n",
       "      <td>...</td>\n",
       "      <td>...</td>\n",
       "      <td>...</td>\n",
       "    </tr>\n",
       "    <tr>\n",
       "      <th>995</th>\n",
       "      <td>NaN</td>\n",
       "      <td>NaN</td>\n",
       "      <td>1.0</td>\n",
       "      <td>1.0</td>\n",
       "      <td>NaN</td>\n",
       "      <td>NaN</td>\n",
       "      <td>1736.0</td>\n",
       "      <td>12.0</td>\n",
       "      <td>NaN</td>\n",
       "      <td>1</td>\n",
       "    </tr>\n",
       "    <tr>\n",
       "      <th>996</th>\n",
       "      <td>40.0</td>\n",
       "      <td>NaN</td>\n",
       "      <td>3.0</td>\n",
       "      <td>1.0</td>\n",
       "      <td>NaN</td>\n",
       "      <td>NaN</td>\n",
       "      <td>3857.0</td>\n",
       "      <td>30.0</td>\n",
       "      <td>1.0</td>\n",
       "      <td>1</td>\n",
       "    </tr>\n",
       "    <tr>\n",
       "      <th>997</th>\n",
       "      <td>38.0</td>\n",
       "      <td>1.0</td>\n",
       "      <td>2.0</td>\n",
       "      <td>1.0</td>\n",
       "      <td>NaN</td>\n",
       "      <td>-1.0</td>\n",
       "      <td>NaN</td>\n",
       "      <td>12.0</td>\n",
       "      <td>5.0</td>\n",
       "      <td>1</td>\n",
       "    </tr>\n",
       "    <tr>\n",
       "      <th>998</th>\n",
       "      <td>23.0</td>\n",
       "      <td>1.0</td>\n",
       "      <td>2.0</td>\n",
       "      <td>0.0</td>\n",
       "      <td>NaN</td>\n",
       "      <td>NaN</td>\n",
       "      <td>1845.0</td>\n",
       "      <td>45.0</td>\n",
       "      <td>5.0</td>\n",
       "      <td>0</td>\n",
       "    </tr>\n",
       "    <tr>\n",
       "      <th>999</th>\n",
       "      <td>27.0</td>\n",
       "      <td>1.0</td>\n",
       "      <td>2.0</td>\n",
       "      <td>1.0</td>\n",
       "      <td>NaN</td>\n",
       "      <td>1.0</td>\n",
       "      <td>4576.0</td>\n",
       "      <td>NaN</td>\n",
       "      <td>NaN</td>\n",
       "      <td>1</td>\n",
       "    </tr>\n",
       "  </tbody>\n",
       "</table>\n",
       "<p>1000 rows × 10 columns</p>\n",
       "</div>"
      ],
      "text/plain": [
       "      Age  Sex  Job  Housing  Saving accounts  Checking account  \\\n",
       "0    67.0  1.0  2.0      NaN              NaN               NaN   \n",
       "1    22.0  0.0  2.0      1.0              NaN               NaN   \n",
       "2    49.0  1.0  1.0      1.0              NaN               NaN   \n",
       "3    45.0  1.0  2.0      NaN              NaN               NaN   \n",
       "4    53.0  1.0  2.0      0.0              NaN               NaN   \n",
       "..    ...  ...  ...      ...              ...               ...   \n",
       "995   NaN  NaN  1.0      1.0              NaN               NaN   \n",
       "996  40.0  NaN  3.0      1.0              NaN               NaN   \n",
       "997  38.0  1.0  2.0      1.0              NaN              -1.0   \n",
       "998  23.0  1.0  2.0      0.0              NaN               NaN   \n",
       "999  27.0  1.0  2.0      1.0              NaN               1.0   \n",
       "\n",
       "     Credit amount  Duration  Purpose  Risk  \n",
       "0              NaN       6.0      5.0     1  \n",
       "1           5951.0       NaN      5.0     0  \n",
       "2           2096.0      12.0      3.0     1  \n",
       "3           7882.0      42.0      4.0     1  \n",
       "4              NaN      24.0      1.0     0  \n",
       "..             ...       ...      ...   ...  \n",
       "995         1736.0      12.0      NaN     1  \n",
       "996         3857.0      30.0      1.0     1  \n",
       "997            NaN      12.0      5.0     1  \n",
       "998         1845.0      45.0      5.0     0  \n",
       "999         4576.0       NaN      NaN     1  \n",
       "\n",
       "[1000 rows x 10 columns]"
      ]
     },
     "metadata": {},
     "output_type": "display_data"
    }
   ],
   "source": [
    "missing_45"
   ]
  },
  {
   "cell_type": "code",
   "execution_count": null,
   "metadata": {},
   "outputs": [],
   "source": [
    "missing_45.to_csv(r\"C:\\Users\\zhossai3\\Desktop\\My code\\OT+ Fairness\\Data\\Missing_Injected_Data\\german_missing_45_multiple.csv\", index=False)"
   ]
  }
 ],
 "metadata": {
  "kernelspec": {
   "display_name": "Python 3",
   "language": "python",
   "name": "python3"
  },
  "language_info": {
   "codemirror_mode": {
    "name": "ipython",
    "version": 3
   },
   "file_extension": ".py",
   "mimetype": "text/x-python",
   "name": "python",
   "nbconvert_exporter": "python",
   "pygments_lexer": "ipython3",
   "version": "3.12.6"
  }
 },
 "nbformat": 4,
 "nbformat_minor": 2
}
