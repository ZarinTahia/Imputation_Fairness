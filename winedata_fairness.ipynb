{
 "cells": [
  {
   "cell_type": "code",
   "execution_count": 1,
   "metadata": {},
   "outputs": [
    {
     "name": "stdout",
     "output_type": "stream",
     "text": [
      "Requirement already satisfied: pot in c:\\users\\zhossai3\\appdata\\local\\programs\\python\\python312\\lib\\site-packages (0.9.4)\n",
      "Requirement already satisfied: numpy>=1.16 in c:\\users\\zhossai3\\appdata\\local\\programs\\python\\python312\\lib\\site-packages (from pot) (2.0.2)\n",
      "Requirement already satisfied: scipy>=1.6 in c:\\users\\zhossai3\\appdata\\local\\programs\\python\\python312\\lib\\site-packages (from pot) (1.14.1)\n"
     ]
    },
    {
     "name": "stderr",
     "output_type": "stream",
     "text": [
      "\n",
      "[notice] A new release of pip is available: 24.2 -> 25.0\n",
      "[notice] To update, run: python.exe -m pip install --upgrade pip\n"
     ]
    },
    {
     "name": "stdout",
     "output_type": "stream",
     "text": [
      "Requirement already satisfied: torch in c:\\users\\zhossai3\\appdata\\local\\programs\\python\\python312\\lib\\site-packages (2.5.1)\n",
      "Requirement already satisfied: filelock in c:\\users\\zhossai3\\appdata\\local\\programs\\python\\python312\\lib\\site-packages (from torch) (3.16.1)\n",
      "Requirement already satisfied: typing-extensions>=4.8.0 in c:\\users\\zhossai3\\appdata\\local\\programs\\python\\python312\\lib\\site-packages (from torch) (4.12.2)\n",
      "Requirement already satisfied: networkx in c:\\users\\zhossai3\\appdata\\local\\programs\\python\\python312\\lib\\site-packages (from torch) (3.4.2)\n",
      "Requirement already satisfied: jinja2 in c:\\users\\zhossai3\\appdata\\local\\programs\\python\\python312\\lib\\site-packages (from torch) (3.1.4)\n",
      "Requirement already satisfied: fsspec in c:\\users\\zhossai3\\appdata\\local\\programs\\python\\python312\\lib\\site-packages (from torch) (2024.10.0)\n",
      "Requirement already satisfied: setuptools in c:\\users\\zhossai3\\appdata\\local\\programs\\python\\python312\\lib\\site-packages (from torch) (75.3.0)\n",
      "Requirement already satisfied: sympy==1.13.1 in c:\\users\\zhossai3\\appdata\\local\\programs\\python\\python312\\lib\\site-packages (from torch) (1.13.1)\n",
      "Requirement already satisfied: mpmath<1.4,>=1.1.0 in c:\\users\\zhossai3\\appdata\\local\\programs\\python\\python312\\lib\\site-packages (from sympy==1.13.1->torch) (1.3.0)\n",
      "Requirement already satisfied: MarkupSafe>=2.0 in c:\\users\\zhossai3\\appdata\\local\\programs\\python\\python312\\lib\\site-packages (from jinja2->torch) (3.0.2)\n"
     ]
    },
    {
     "name": "stderr",
     "output_type": "stream",
     "text": [
      "\n",
      "[notice] A new release of pip is available: 24.2 -> 25.0\n",
      "[notice] To update, run: python.exe -m pip install --upgrade pip\n"
     ]
    },
    {
     "name": "stdout",
     "output_type": "stream",
     "text": [
      "Requirement already satisfied: geomloss in c:\\users\\zhossai3\\appdata\\local\\programs\\python\\python312\\lib\\site-packages (0.2.6)\n",
      "Requirement already satisfied: numpy in c:\\users\\zhossai3\\appdata\\local\\programs\\python\\python312\\lib\\site-packages (from geomloss) (2.0.2)\n",
      "Requirement already satisfied: torch in c:\\users\\zhossai3\\appdata\\local\\programs\\python\\python312\\lib\\site-packages (from geomloss) (2.5.1)\n",
      "Requirement already satisfied: filelock in c:\\users\\zhossai3\\appdata\\local\\programs\\python\\python312\\lib\\site-packages (from torch->geomloss) (3.16.1)\n",
      "Requirement already satisfied: typing-extensions>=4.8.0 in c:\\users\\zhossai3\\appdata\\local\\programs\\python\\python312\\lib\\site-packages (from torch->geomloss) (4.12.2)\n",
      "Requirement already satisfied: networkx in c:\\users\\zhossai3\\appdata\\local\\programs\\python\\python312\\lib\\site-packages (from torch->geomloss) (3.4.2)\n",
      "Requirement already satisfied: jinja2 in c:\\users\\zhossai3\\appdata\\local\\programs\\python\\python312\\lib\\site-packages (from torch->geomloss) (3.1.4)\n",
      "Requirement already satisfied: fsspec in c:\\users\\zhossai3\\appdata\\local\\programs\\python\\python312\\lib\\site-packages (from torch->geomloss) (2024.10.0)\n",
      "Requirement already satisfied: setuptools in c:\\users\\zhossai3\\appdata\\local\\programs\\python\\python312\\lib\\site-packages (from torch->geomloss) (75.3.0)\n",
      "Requirement already satisfied: sympy==1.13.1 in c:\\users\\zhossai3\\appdata\\local\\programs\\python\\python312\\lib\\site-packages (from torch->geomloss) (1.13.1)\n",
      "Requirement already satisfied: mpmath<1.4,>=1.1.0 in c:\\users\\zhossai3\\appdata\\local\\programs\\python\\python312\\lib\\site-packages (from sympy==1.13.1->torch->geomloss) (1.3.0)\n",
      "Requirement already satisfied: MarkupSafe>=2.0 in c:\\users\\zhossai3\\appdata\\local\\programs\\python\\python312\\lib\\site-packages (from jinja2->torch->geomloss) (3.0.2)\n"
     ]
    },
    {
     "name": "stderr",
     "output_type": "stream",
     "text": [
      "\n",
      "[notice] A new release of pip is available: 24.2 -> 25.0\n",
      "[notice] To update, run: python.exe -m pip install --upgrade pip\n"
     ]
    },
    {
     "name": "stdout",
     "output_type": "stream",
     "text": [
      "Requirement already satisfied: wget in c:\\users\\zhossai3\\appdata\\local\\programs\\python\\python312\\lib\\site-packages (3.2)\n"
     ]
    },
    {
     "name": "stderr",
     "output_type": "stream",
     "text": [
      "\n",
      "[notice] A new release of pip is available: 24.2 -> 25.0\n",
      "[notice] To update, run: python.exe -m pip install --upgrade pip\n"
     ]
    },
    {
     "name": "stdout",
     "output_type": "stream",
     "text": [
      "Collecting pyitlib\n",
      "  Using cached pyitlib-0.2.3-py3-none-any.whl\n",
      "Requirement already satisfied: pandas>=0.20.2 in c:\\users\\zhossai3\\appdata\\local\\programs\\python\\python312\\lib\\site-packages (from pyitlib) (2.2.3)\n",
      "Requirement already satisfied: numpy>=1.9.2 in c:\\users\\zhossai3\\appdata\\local\\programs\\python\\python312\\lib\\site-packages (from pyitlib) (2.0.2)\n",
      "Collecting scikit-learn<=0.24,>=0.16.0 (from pyitlib)\n",
      "  Using cached scikit-learn-0.24.0.tar.gz (7.4 MB)\n",
      "  Installing build dependencies: started\n",
      "  Installing build dependencies: finished with status 'done'\n",
      "  Getting requirements to build wheel: started\n",
      "  Getting requirements to build wheel: finished with status 'done'\n",
      "  Preparing metadata (pyproject.toml): started\n",
      "  Preparing metadata (pyproject.toml): finished with status 'done'\n",
      "Requirement already satisfied: scipy>=1.0.1 in c:\\users\\zhossai3\\appdata\\local\\programs\\python\\python312\\lib\\site-packages (from pyitlib) (1.14.1)\n",
      "Collecting future>=0.16.0 (from pyitlib)\n",
      "  Using cached future-1.0.0-py3-none-any.whl.metadata (4.0 kB)\n",
      "Requirement already satisfied: python-dateutil>=2.8.2 in c:\\users\\zhossai3\\appdata\\roaming\\python\\python312\\site-packages (from pandas>=0.20.2->pyitlib) (2.9.0.post0)\n",
      "Requirement already satisfied: pytz>=2020.1 in c:\\users\\zhossai3\\appdata\\local\\programs\\python\\python312\\lib\\site-packages (from pandas>=0.20.2->pyitlib) (2024.2)\n",
      "Requirement already satisfied: tzdata>=2022.7 in c:\\users\\zhossai3\\appdata\\local\\programs\\python\\python312\\lib\\site-packages (from pandas>=0.20.2->pyitlib) (2024.2)\n",
      "Requirement already satisfied: joblib>=0.11 in c:\\users\\zhossai3\\appdata\\local\\programs\\python\\python312\\lib\\site-packages (from scikit-learn<=0.24,>=0.16.0->pyitlib) (1.4.2)\n",
      "Requirement already satisfied: threadpoolctl>=2.0.0 in c:\\users\\zhossai3\\appdata\\local\\programs\\python\\python312\\lib\\site-packages (from scikit-learn<=0.24,>=0.16.0->pyitlib) (3.5.0)\n",
      "Requirement already satisfied: six>=1.5 in c:\\users\\zhossai3\\appdata\\roaming\\python\\python312\\site-packages (from python-dateutil>=2.8.2->pandas>=0.20.2->pyitlib) (1.16.0)\n",
      "Using cached future-1.0.0-py3-none-any.whl (491 kB)\n",
      "Building wheels for collected packages: scikit-learn\n",
      "  Building wheel for scikit-learn (pyproject.toml): started\n",
      "  Building wheel for scikit-learn (pyproject.toml): finished with status 'error'\n",
      "Failed to build scikit-learn\n"
     ]
    },
    {
     "name": "stderr",
     "output_type": "stream",
     "text": [
      "  error: subprocess-exited-with-error\n",
      "  \n",
      "  × Building wheel for scikit-learn (pyproject.toml) did not run successfully.\n",
      "  │ exit code: 1\n",
      "  ╰─> [26 lines of output]\n",
      "      <string>:17: DeprecationWarning: pkg_resources is deprecated as an API. See https://setuptools.pypa.io/en/latest/pkg_resources.html\n",
      "      Partial import of sklearn during the build process.\n",
      "      Traceback (most recent call last):\n",
      "        File \"C:\\Users\\zhossai3\\AppData\\Local\\Programs\\Python\\Python312\\Lib\\site-packages\\pip\\_vendor\\pyproject_hooks\\_in_process\\_in_process.py\", line 353, in <module>\n",
      "          main()\n",
      "        File \"C:\\Users\\zhossai3\\AppData\\Local\\Programs\\Python\\Python312\\Lib\\site-packages\\pip\\_vendor\\pyproject_hooks\\_in_process\\_in_process.py\", line 335, in main\n",
      "          json_out['return_val'] = hook(**hook_input['kwargs'])\n",
      "                                   ^^^^^^^^^^^^^^^^^^^^^^^^^^^^\n",
      "        File \"C:\\Users\\zhossai3\\AppData\\Local\\Programs\\Python\\Python312\\Lib\\site-packages\\pip\\_vendor\\pyproject_hooks\\_in_process\\_in_process.py\", line 251, in build_wheel\n",
      "          return _build_backend().build_wheel(wheel_directory, config_settings,\n",
      "                 ^^^^^^^^^^^^^^^^^^^^^^^^^^^^^^^^^^^^^^^^^^^^^^^^^^^^^^^^^^^^^^\n",
      "        File \"C:\\Users\\zhossai3\\AppData\\Local\\Temp\\pip-build-env-4q7n7iyc\\overlay\\Lib\\site-packages\\setuptools\\build_meta.py\", line 438, in build_wheel\n",
      "          return _build(['bdist_wheel', '--dist-info-dir', str(metadata_directory)])\n",
      "                 ^^^^^^^^^^^^^^^^^^^^^^^^^^^^^^^^^^^^^^^^^^^^^^^^^^^^^^^^^^^^^^^^^^^\n",
      "        File \"C:\\Users\\zhossai3\\AppData\\Local\\Temp\\pip-build-env-4q7n7iyc\\overlay\\Lib\\site-packages\\setuptools\\build_meta.py\", line 426, in _build\n",
      "          return self._build_with_temp_dir(\n",
      "                 ^^^^^^^^^^^^^^^^^^^^^^^^^^\n",
      "        File \"C:\\Users\\zhossai3\\AppData\\Local\\Temp\\pip-build-env-4q7n7iyc\\overlay\\Lib\\site-packages\\setuptools\\build_meta.py\", line 407, in _build_with_temp_dir\n",
      "          self.run_setup()\n",
      "        File \"C:\\Users\\zhossai3\\AppData\\Local\\Temp\\pip-build-env-4q7n7iyc\\overlay\\Lib\\site-packages\\setuptools\\build_meta.py\", line 522, in run_setup\n",
      "          super().run_setup(setup_script=setup_script)\n",
      "        File \"C:\\Users\\zhossai3\\AppData\\Local\\Temp\\pip-build-env-4q7n7iyc\\overlay\\Lib\\site-packages\\setuptools\\build_meta.py\", line 320, in run_setup\n",
      "          exec(code, locals())\n",
      "        File \"<string>\", line 306, in <module>\n",
      "        File \"<string>\", line 298, in setup_package\n",
      "      ModuleNotFoundError: No module named 'numpy.distutils'\n",
      "      [end of output]\n",
      "  \n",
      "  note: This error originates from a subprocess, and is likely not a problem with pip.\n",
      "  ERROR: Failed building wheel for scikit-learn\n",
      "\n",
      "[notice] A new release of pip is available: 24.2 -> 25.0\n",
      "[notice] To update, run: python.exe -m pip install --upgrade pip\n",
      "ERROR: ERROR: Failed to build installable wheels for some pyproject.toml based projects (scikit-learn)\n"
     ]
    }
   ],
   "source": [
    "!pip install pot\n",
    "!pip install torch\n",
    "!pip install geomloss\n",
    "!pip install wget\n",
    "!pip install pyitlib"
   ]
  },
  {
   "cell_type": "code",
   "execution_count": 2,
   "metadata": {},
   "outputs": [
    {
     "name": "stdout",
     "output_type": "stream",
     "text": [
      "Collecting pyitlib\n",
      "  Using cached pyitlib-0.2.3-py3-none-any.whl\n",
      "Requirement already satisfied: pandas>=0.20.2 in c:\\users\\zhossai3\\appdata\\local\\programs\\python\\python312\\lib\\site-packages (from pyitlib) (2.2.3)\n",
      "Requirement already satisfied: numpy>=1.9.2 in c:\\users\\zhossai3\\appdata\\local\\programs\\python\\python312\\lib\\site-packages (from pyitlib) (2.0.2)\n",
      "Collecting scikit-learn<=0.24,>=0.16.0 (from pyitlib)\n",
      "  Using cached scikit-learn-0.24.0.tar.gz (7.4 MB)\n",
      "  Installing build dependencies: started\n",
      "  Installing build dependencies: finished with status 'done'\n",
      "  Getting requirements to build wheel: started\n",
      "  Getting requirements to build wheel: finished with status 'done'\n",
      "  Preparing metadata (pyproject.toml): started\n",
      "  Preparing metadata (pyproject.toml): finished with status 'done'\n",
      "Requirement already satisfied: scipy>=1.0.1 in c:\\users\\zhossai3\\appdata\\local\\programs\\python\\python312\\lib\\site-packages (from pyitlib) (1.14.1)\n",
      "Collecting future>=0.16.0 (from pyitlib)\n",
      "  Using cached future-1.0.0-py3-none-any.whl.metadata (4.0 kB)\n",
      "Requirement already satisfied: python-dateutil>=2.8.2 in c:\\users\\zhossai3\\appdata\\roaming\\python\\python312\\site-packages (from pandas>=0.20.2->pyitlib) (2.9.0.post0)\n",
      "Requirement already satisfied: pytz>=2020.1 in c:\\users\\zhossai3\\appdata\\local\\programs\\python\\python312\\lib\\site-packages (from pandas>=0.20.2->pyitlib) (2024.2)\n",
      "Requirement already satisfied: tzdata>=2022.7 in c:\\users\\zhossai3\\appdata\\local\\programs\\python\\python312\\lib\\site-packages (from pandas>=0.20.2->pyitlib) (2024.2)\n",
      "Requirement already satisfied: joblib>=0.11 in c:\\users\\zhossai3\\appdata\\local\\programs\\python\\python312\\lib\\site-packages (from scikit-learn<=0.24,>=0.16.0->pyitlib) (1.4.2)\n",
      "Requirement already satisfied: threadpoolctl>=2.0.0 in c:\\users\\zhossai3\\appdata\\local\\programs\\python\\python312\\lib\\site-packages (from scikit-learn<=0.24,>=0.16.0->pyitlib) (3.5.0)\n",
      "Requirement already satisfied: six>=1.5 in c:\\users\\zhossai3\\appdata\\roaming\\python\\python312\\site-packages (from python-dateutil>=2.8.2->pandas>=0.20.2->pyitlib) (1.16.0)\n",
      "Using cached future-1.0.0-py3-none-any.whl (491 kB)\n",
      "Building wheels for collected packages: scikit-learn\n",
      "  Building wheel for scikit-learn (pyproject.toml): started\n",
      "  Building wheel for scikit-learn (pyproject.toml): finished with status 'error'\n",
      "Failed to build scikit-learn\n",
      "Note: you may need to restart the kernel to use updated packages.\n"
     ]
    },
    {
     "name": "stderr",
     "output_type": "stream",
     "text": [
      "  error: subprocess-exited-with-error\n",
      "  \n",
      "  × Building wheel for scikit-learn (pyproject.toml) did not run successfully.\n",
      "  │ exit code: 1\n",
      "  ╰─> [26 lines of output]\n",
      "      <string>:17: DeprecationWarning: pkg_resources is deprecated as an API. See https://setuptools.pypa.io/en/latest/pkg_resources.html\n",
      "      Partial import of sklearn during the build process.\n",
      "      Traceback (most recent call last):\n",
      "        File \"c:\\Users\\zhossai3\\AppData\\Local\\Programs\\Python\\Python312\\Lib\\site-packages\\pip\\_vendor\\pyproject_hooks\\_in_process\\_in_process.py\", line 353, in <module>\n",
      "          main()\n",
      "        File \"c:\\Users\\zhossai3\\AppData\\Local\\Programs\\Python\\Python312\\Lib\\site-packages\\pip\\_vendor\\pyproject_hooks\\_in_process\\_in_process.py\", line 335, in main\n",
      "          json_out['return_val'] = hook(**hook_input['kwargs'])\n",
      "                                   ^^^^^^^^^^^^^^^^^^^^^^^^^^^^\n",
      "        File \"c:\\Users\\zhossai3\\AppData\\Local\\Programs\\Python\\Python312\\Lib\\site-packages\\pip\\_vendor\\pyproject_hooks\\_in_process\\_in_process.py\", line 251, in build_wheel\n",
      "          return _build_backend().build_wheel(wheel_directory, config_settings,\n",
      "                 ^^^^^^^^^^^^^^^^^^^^^^^^^^^^^^^^^^^^^^^^^^^^^^^^^^^^^^^^^^^^^^\n",
      "        File \"C:\\Users\\zhossai3\\AppData\\Local\\Temp\\pip-build-env-v6pw8s3y\\overlay\\Lib\\site-packages\\setuptools\\build_meta.py\", line 438, in build_wheel\n",
      "          return _build(['bdist_wheel', '--dist-info-dir', str(metadata_directory)])\n",
      "                 ^^^^^^^^^^^^^^^^^^^^^^^^^^^^^^^^^^^^^^^^^^^^^^^^^^^^^^^^^^^^^^^^^^^\n",
      "        File \"C:\\Users\\zhossai3\\AppData\\Local\\Temp\\pip-build-env-v6pw8s3y\\overlay\\Lib\\site-packages\\setuptools\\build_meta.py\", line 426, in _build\n",
      "          return self._build_with_temp_dir(\n",
      "                 ^^^^^^^^^^^^^^^^^^^^^^^^^^\n",
      "        File \"C:\\Users\\zhossai3\\AppData\\Local\\Temp\\pip-build-env-v6pw8s3y\\overlay\\Lib\\site-packages\\setuptools\\build_meta.py\", line 407, in _build_with_temp_dir\n",
      "          self.run_setup()\n",
      "        File \"C:\\Users\\zhossai3\\AppData\\Local\\Temp\\pip-build-env-v6pw8s3y\\overlay\\Lib\\site-packages\\setuptools\\build_meta.py\", line 522, in run_setup\n",
      "          super().run_setup(setup_script=setup_script)\n",
      "        File \"C:\\Users\\zhossai3\\AppData\\Local\\Temp\\pip-build-env-v6pw8s3y\\overlay\\Lib\\site-packages\\setuptools\\build_meta.py\", line 320, in run_setup\n",
      "          exec(code, locals())\n",
      "        File \"<string>\", line 306, in <module>\n",
      "        File \"<string>\", line 298, in setup_package\n",
      "      ModuleNotFoundError: No module named 'numpy.distutils'\n",
      "      [end of output]\n",
      "  \n",
      "  note: This error originates from a subprocess, and is likely not a problem with pip.\n",
      "  ERROR: Failed building wheel for scikit-learn\n",
      "\n",
      "[notice] A new release of pip is available: 24.2 -> 25.0\n",
      "[notice] To update, run: python.exe -m pip install --upgrade pip\n",
      "ERROR: ERROR: Failed to build installable wheels for some pyproject.toml based projects (scikit-learn)\n"
     ]
    }
   ],
   "source": [
    "\n",
    "pip install pyitlib"
   ]
  },
  {
   "cell_type": "code",
   "execution_count": 1,
   "metadata": {},
   "outputs": [
    {
     "name": "stderr",
     "output_type": "stream",
     "text": [
      "c:\\Users\\zhossai3\\AppData\\Local\\Programs\\Python\\Python312\\Lib\\site-packages\\torch\\__init__.py:1144: UserWarning: torch.set_default_tensor_type() is deprecated as of PyTorch 2.1, please use torch.set_default_dtype() and torch.set_default_device() as alternatives. (Triggered internally at C:\\actions-runner\\_work\\pytorch\\pytorch\\builder\\windows\\pytorch\\torch\\csrc\\tensor\\python_tensor.cpp:434.)\n",
      "  _C._set_default_tensor_type(t)\n"
     ]
    }
   ],
   "source": [
    "import numpy as np\n",
    "import torch\n",
    "import torch.nn as nn\n",
    "import pandas as pd\n",
    "\n",
    "from geomloss import SamplesLoss\n",
    "\n",
    "import ot\n",
    "\n",
    "import os\n",
    "import pickle as pkl\n",
    "import copy\n",
    "\n",
    "from sklearn.preprocessing import scale\n",
    "from sklearn.experimental import enable_iterative_imputer\n",
    "from sklearn.impute import SimpleImputer, IterativeImputer\n",
    "\n",
    "from utils import *\n",
    "from SoftImpute import softimpute, cv_softimpute\n",
    "from DataSetLoader import dataset_loader, ground_truth\n",
    "from SinkhornImputation import SinkhornImputation\n",
    "from Sinkhorn_CMI import SinkhornImputation_CMI\n",
    "from RR_imputer import RRimputer\n",
    "import matplotlib.pyplot as plt\n",
    "\n",
    "import argparse\n",
    "import logging\n",
    "logger = logging.getLogger()\n",
    "logger.setLevel(logging.INFO)\n",
    "logging.debug(\"test\")\n",
    "\n",
    "torch.set_default_tensor_type('torch.DoubleTensor')"
   ]
  },
  {
   "cell_type": "code",
   "execution_count": 4,
   "metadata": {},
   "outputs": [
    {
     "name": "stdout",
     "output_type": "stream",
     "text": [
      "<class 'numpy.ndarray'>\n",
      "4.371372139554767\n",
      "-3.6791622340370145\n",
      "4.66735072755122e-16\n",
      "-0.08109900443171775\n",
      "1.0\n",
      "(178, 13)\n",
      "tensor(0)\n"
     ]
    }
   ],
   "source": [
    "from sklearn.datasets import load_wine\n",
    "ground_truth_numpy = scale(load_wine()['data']) #only taking the features\n",
    "print(type(ground_truth_numpy))\n",
    "print(np.max(ground_truth_numpy))\n",
    "print(np.min(ground_truth_numpy))\n",
    "print(np.mean(ground_truth_numpy))\n",
    "print(np.median(ground_truth_numpy))\n",
    "print(np.std(ground_truth_numpy))\n",
    "print(ground_truth_numpy.shape)\n",
    "ground_truth = torch.from_numpy(ground_truth_numpy)\n",
    "print(ground_truth.isnan().sum())"
   ]
  },
  {
   "cell_type": "code",
   "execution_count": 5,
   "metadata": {},
   "outputs": [
    {
     "name": "stdout",
     "output_type": "stream",
     "text": [
      "Percentage of missing values: 30.73%\n"
     ]
    }
   ],
   "source": [
    "#30% MCAR\n",
    "np.random.seed(42)\n",
    "\n",
    "p_macr30 = 0.30\n",
    "\n",
    "\n",
    "mask_mcar30 = np.random.rand(*ground_truth.shape) < p_macr30  # True for missing values, false for others\n",
    "data_mcar30 = np.copy(ground_truth)\n",
    "\n",
    "# Apply the mask to set the selected values to NaN\n",
    "data_mcar30[mask_mcar30] = np.nan\n",
    "\n",
    "# Convert to a torch tensor\n",
    "data_mcar30 = torch.from_numpy(data_mcar30)\n",
    "\n",
    "# Calculate the percentage of missing values\n",
    "missing_values_mcar30 = torch.isnan(data_mcar30)  # Create a boolean tensor where NaNs are True\n",
    "missing_percentage_mcar30 = torch.sum(missing_values_mcar30).item() / data_mcar30.numel() * 100  # Calculate the percentage of NaNs\n",
    "print(f\"Percentage of missing values: {missing_percentage_mcar30:.2f}%\")"
   ]
  },
  {
   "cell_type": "code",
   "execution_count": 6,
   "metadata": {},
   "outputs": [],
   "source": [
    "data_mcar30_numpy = data_mcar30.detach().cpu().numpy()"
   ]
  },
  {
   "cell_type": "code",
   "execution_count": 7,
   "metadata": {},
   "outputs": [
    {
     "name": "stdout",
     "output_type": "stream",
     "text": [
      "0.39971389591590073\n"
     ]
    },
    {
     "name": "stderr",
     "output_type": "stream",
     "text": [
      "INFO:root:Iteration 0:\t Loss: 1.0065\t Validation MAE: 0.8472\tRMSE: 1.0438\n",
      "INFO:root:Iteration 50:\t Loss: 0.6909\t Validation MAE: 0.6674\tRMSE: 0.8789\n",
      "INFO:root:Iteration 100:\t Loss: 0.4925\t Validation MAE: 0.6340\tRMSE: 0.8523\n",
      "INFO:root:Iteration 150:\t Loss: 0.6640\t Validation MAE: 0.6219\tRMSE: 0.8432\n",
      "INFO:root:Iteration 200:\t Loss: 0.8093\t Validation MAE: 0.6125\tRMSE: 0.8333\n",
      "INFO:root:Iteration 250:\t Loss: 0.6220\t Validation MAE: 0.6048\tRMSE: 0.8304\n",
      "INFO:root:Iteration 300:\t Loss: 0.5920\t Validation MAE: 0.6012\tRMSE: 0.8286\n",
      "INFO:root:Iteration 350:\t Loss: 0.6449\t Validation MAE: 0.5973\tRMSE: 0.8274\n",
      "INFO:root:Iteration 400:\t Loss: 0.6558\t Validation MAE: 0.5986\tRMSE: 0.8299\n",
      "INFO:root:Iteration 450:\t Loss: 0.9208\t Validation MAE: 0.6032\tRMSE: 0.8325\n",
      "INFO:root:Iteration 500:\t Loss: 0.5921\t Validation MAE: 0.6069\tRMSE: 0.8373\n",
      "INFO:root:Iteration 550:\t Loss: 0.4751\t Validation MAE: 0.6062\tRMSE: 0.8357\n",
      "INFO:root:Iteration 600:\t Loss: 0.6553\t Validation MAE: 0.6028\tRMSE: 0.8312\n",
      "INFO:root:Iteration 650:\t Loss: 0.6421\t Validation MAE: 0.6049\tRMSE: 0.8368\n",
      "INFO:root:Iteration 700:\t Loss: 0.6463\t Validation MAE: 0.6072\tRMSE: 0.8377\n",
      "INFO:root:Iteration 750:\t Loss: 0.5670\t Validation MAE: 0.6102\tRMSE: 0.8394\n",
      "INFO:root:Iteration 800:\t Loss: 0.5954\t Validation MAE: 0.6106\tRMSE: 0.8410\n",
      "INFO:root:Iteration 850:\t Loss: 0.5796\t Validation MAE: 0.6129\tRMSE: 0.8417\n",
      "INFO:root:Iteration 900:\t Loss: 0.6929\t Validation MAE: 0.6157\tRMSE: 0.8467\n",
      "INFO:root:Iteration 950:\t Loss: 0.6578\t Validation MAE: 0.6151\tRMSE: 0.8477\n",
      "INFO:root:Iteration 1000:\t Loss: 0.5511\t Validation MAE: 0.6158\tRMSE: 0.8487\n",
      "INFO:root:Iteration 1050:\t Loss: 0.7418\t Validation MAE: 0.6143\tRMSE: 0.8489\n",
      "INFO:root:Iteration 1100:\t Loss: 0.6375\t Validation MAE: 0.6139\tRMSE: 0.8512\n",
      "INFO:root:Iteration 1150:\t Loss: 0.6582\t Validation MAE: 0.6147\tRMSE: 0.8499\n",
      "INFO:root:Iteration 1200:\t Loss: 0.6114\t Validation MAE: 0.6158\tRMSE: 0.8507\n",
      "INFO:root:Iteration 1250:\t Loss: 0.6754\t Validation MAE: 0.6144\tRMSE: 0.8501\n",
      "INFO:root:Iteration 1300:\t Loss: 0.6873\t Validation MAE: 0.6144\tRMSE: 0.8514\n",
      "INFO:root:Iteration 1350:\t Loss: 0.5171\t Validation MAE: 0.6099\tRMSE: 0.8496\n",
      "INFO:root:Iteration 1400:\t Loss: 0.5052\t Validation MAE: 0.6152\tRMSE: 0.8554\n",
      "INFO:root:Iteration 1450:\t Loss: 0.5776\t Validation MAE: 0.6123\tRMSE: 0.8554\n",
      "INFO:root:Iteration 1500:\t Loss: 0.7842\t Validation MAE: 0.6131\tRMSE: 0.8530\n",
      "INFO:root:Iteration 1550:\t Loss: 0.6432\t Validation MAE: 0.6145\tRMSE: 0.8570\n",
      "INFO:root:Iteration 1600:\t Loss: 0.4895\t Validation MAE: 0.6122\tRMSE: 0.8540\n",
      "INFO:root:Iteration 1650:\t Loss: 0.7431\t Validation MAE: 0.6157\tRMSE: 0.8596\n",
      "INFO:root:Iteration 1700:\t Loss: 0.6395\t Validation MAE: 0.6147\tRMSE: 0.8589\n",
      "INFO:root:Iteration 1750:\t Loss: 0.5771\t Validation MAE: 0.6091\tRMSE: 0.8564\n",
      "INFO:root:Iteration 1800:\t Loss: 0.6818\t Validation MAE: 0.6124\tRMSE: 0.8587\n",
      "INFO:root:Iteration 1850:\t Loss: 0.5547\t Validation MAE: 0.6111\tRMSE: 0.8590\n",
      "INFO:root:Iteration 1900:\t Loss: 0.4617\t Validation MAE: 0.6147\tRMSE: 0.8615\n",
      "INFO:root:Iteration 1950:\t Loss: 0.5593\t Validation MAE: 0.6154\tRMSE: 0.8625\n"
     ]
    },
    {
     "name": "stdout",
     "output_type": "stream",
     "text": [
      "0.6141806104496348 0.8622598863254223\n"
     ]
    }
   ],
   "source": [
    "#sinkhorn\n",
    "n_mcar30, d_mcar30 = data_mcar30.shape\n",
    "batchsize = 128 # If the batch size is larger than half the dataset's size,\n",
    "                # it will be redefined in the imputation methods.\n",
    "lr = 1e-2\n",
    "epsilon_mcar30 = pick_epsilon(data_mcar30)\n",
    "print(epsilon_mcar30)\n",
    "\n",
    "sk_imputer_mcar30 = SinkhornImputation_CMI(eps=epsilon_mcar30, batchsize=batchsize, lr=lr, niter=2000)\n",
    "sk_imp_mcar30, sk_maes30mcar, sk_rmses30mcar,sk_loss_mcar30 = sk_imputer_mcar30.fit_transform(data_mcar30, verbose=True, report_interval=50, X_true=ground_truth)\n",
    "#using numpy version of data\n",
    "sk_imp_mcar30_numpy = sk_imp_mcar30.detach().cpu().numpy()\n",
    "\n",
    "sk_mae_mcar30 = MAE(sk_imp_mcar30_numpy,ground_truth_numpy ,mask_mcar30)\n",
    "sk_rmse_mcar30 = RMSE(sk_imp_mcar30_numpy, ground_truth_numpy,mask_mcar30)\n",
    "print(sk_mae_mcar30,sk_rmse_mcar30)"
   ]
  },
  {
   "cell_type": "code",
   "execution_count": 8,
   "metadata": {},
   "outputs": [
    {
     "data": {
      "image/png": "[encoded data removed]",
      "text/plain": [
       "<Figure size 800x500 with 1 Axes>"
      ]
     },
     "metadata": {},
     "output_type": "display_data"
    }
   ],
   "source": [
    "# Convert the list of losses to a NumPy array\n",
    "\n",
    "iterations = np.linspace(0, 2000, 50).astype(int)\n",
    "\n",
    "\n",
    "\n",
    "loss_values = sk_loss_mcar30\n",
    "\n",
    "\n",
    "# Assuming cmi_penalty_history is also a list, convert it to a NumPy array\n",
    "#cmi_penalty_history_numpy = np.array(cmi_penalty_history)\n",
    "\n",
    "# Total loss calculation\n",
    "#total_loss = sk_loss_mcar30_numpy + cmi_penalty_history_numpy\n",
    "if len(loss_values) > len(iterations):\n",
    "    loss_values = loss_values[:len(iterations)]\n",
    "elif len(loss_values) < len(iterations):\n",
    "    iterations = iterations[:len(loss_values)]\n",
    "\n",
    "\n",
    "\n",
    "# Plotting\n",
    "plt.figure(figsize=(8, 5))\n",
    "plt.plot(iterations, loss_values, color='b', linestyle='-', marker='o', label=\"Loss Value\")\n",
    "plt.xlabel(\"Iterations\")\n",
    "plt.ylabel(\"Loss Value\")\n",
    "plt.title(\"Loss Curve\")\n",
    "plt.legend()\n",
    "plt.grid(True)\n",
    "\n",
    "# Show the plot\n",
    "plt.show()\n",
    "\n"
   ]
  },
  {
   "cell_type": "code",
   "execution_count": 10,
   "metadata": {},
   "outputs": [
    {
     "name": "stdout",
     "output_type": "stream",
     "text": [
      "Conditional Mutual Information (CMI) for Gender: 0.0000\n",
      "Conditional Mutual Information (CMI) for Race: 0.0000\n"
     ]
    }
   ],
   "source": [
    "import numpy as np\n",
    "import pandas as pd\n",
    "from scipy.stats import entropy\n",
    "from sklearn.metrics import mutual_info_score\n",
    "\n",
    "def conditional_mutual_information(X, Y, Z):\n",
    "    \"\"\"\n",
    "    Compute Conditional Mutual Information I(X;Y | Z)\n",
    "    using entropy-based definition.\n",
    "    \n",
    "    Parameters:\n",
    "    X: numpy array (target variable)\n",
    "    Y: numpy array (sensitive attribute)\n",
    "    Z: numpy array (conditioning variable)\n",
    "    \n",
    "    Returns:\n",
    "    CMI value (float)\n",
    "    \"\"\"\n",
    "    def mutual_info(x, y):\n",
    "        return mutual_info_score(x, y)\n",
    "\n",
    "    # Compute MI(X, Y)\n",
    "    mi_xy = mutual_info(X, Y)\n",
    "\n",
    "    # Compute MI(X, Z)\n",
    "    mi_xz = mutual_info(X, Z)\n",
    "\n",
    "    # Compute MI(Y, Z)\n",
    "    mi_yz = mutual_info(Y, Z)\n",
    "\n",
    "    # Compute MI(X, Y | Z) using conditional MI formula:\n",
    "    cmi = mi_xy - mi_xz - mi_yz\n",
    "    return max(cmi, 0)  # Ensure non-negative values\n",
    "\n",
    "# Step 3: Example Dataset (Adult Data)\n",
    "data = {\n",
    "    'Age': [25, 45, 35, 50, 23, 40, 60, 48, 33, 52],  # Target variable (X)\n",
    "    'Gender': [0, 1, 0, 1, 0, 1, 0, 1, 0, 1],         # Sensitive Attribute (Y)\n",
    "    'Race': [1, 0, 1, 0, 1, 0, 1, 0, 1, 0],           # Sensitive Attribute 2\n",
    "    'Income': [0, 1, 0, 1, 0, 1, 0, 1, 0, 1]          # Conditioning Variable (Z)\n",
    "}\n",
    "\n",
    "# Convert to DataFrame\n",
    "df = pd.DataFrame(data)\n",
    "\n",
    "# Extract Variables\n",
    "X = df['Age'].values          # Target variable\n",
    "Y1 = df['Gender'].values      # Sensitive attribute 1\n",
    "Y2 = df['Race'].values        # Sensitive attribute 2\n",
    "Z = df['Income'].values       # Conditioning variable\n",
    "\n",
    "# Compute CMI\n",
    "cmi_Y1 = conditional_mutual_information(X, Y1, Z)\n",
    "cmi_Y2 = conditional_mutual_information(X, Y2, Z)\n",
    "\n",
    "print(f\"Conditional Mutual Information (CMI) for Gender: {cmi_Y1:.4f}\")\n",
    "print(f\"Conditional Mutual Information (CMI) for Race: {cmi_Y2:.4f}\")\n"
   ]
  },
  {
   "cell_type": "code",
   "execution_count": 12,
   "metadata": {},
   "outputs": [
    {
     "name": "stderr",
     "output_type": "stream",
     "text": [
      "  error: subprocess-exited-with-error\n",
      "  \n",
      "  × Getting requirements to build wheel did not run successfully.\n",
      "  │ exit code: 1\n",
      "  ╰─> [15 lines of output]\n",
      "      The 'sklearn' PyPI package is deprecated, use 'scikit-learn'\n",
      "      rather than 'sklearn' for pip commands.\n",
      "      \n",
      "      Here is how to fix this error in the main use cases:\n",
      "      - use 'pip install scikit-learn' rather than 'pip install sklearn'\n",
      "      - replace 'sklearn' by 'scikit-learn' in your pip requirements files\n",
      "        (requirements.txt, setup.py, setup.cfg, Pipfile, etc ...)\n",
      "      - if the 'sklearn' package is used by one of your dependencies,\n",
      "        it would be great if you take some time to track which package uses\n",
      "        'sklearn' instead of 'scikit-learn' and report it to their issue tracker\n",
      "      - as a last resort, set the environment variable\n",
      "        SKLEARN_ALLOW_DEPRECATED_SKLEARN_PACKAGE_INSTALL=True to avoid this error\n",
      "      \n",
      "      More information is available at\n",
      "      https://github.com/scikit-learn/sklearn-pypi-package\n",
      "      [end of output]\n",
      "  \n",
      "  note: This error originates from a subprocess, and is likely not a problem with pip.\n",
      "\n",
      "[notice] A new release of pip is available: 24.2 -> 25.0\n",
      "[notice] To update, run: python.exe -m pip install --upgrade pip\n",
      "error: subprocess-exited-with-error\n",
      "\n",
      "× Getting requirements to build wheel did not run successfully.\n",
      "│ exit code: 1\n",
      "╰─> See above for output.\n",
      "\n",
      "note: This error originates from a subprocess, and is likely not a problem with pip.\n"
     ]
    },
    {
     "name": "stdout",
     "output_type": "stream",
     "text": [
      "Requirement already satisfied: numpy in c:\\users\\zhossai3\\appdata\\local\\programs\\python\\python312\\lib\\site-packages (2.0.2)\n",
      "Requirement already satisfied: scipy in c:\\users\\zhossai3\\appdata\\local\\programs\\python\\python312\\lib\\site-packages (1.14.1)\n",
      "Collecting sklearn\n",
      "  Downloading sklearn-0.0.post12.tar.gz (2.6 kB)\n",
      "  Installing build dependencies: started\n",
      "  Installing build dependencies: finished with status 'done'\n",
      "  Getting requirements to build wheel: started\n",
      "  Getting requirements to build wheel: finished with status 'error'\n"
     ]
    }
   ],
   "source": [
    "!pip install numpy scipy sklearn\n"
   ]
  },
  {
   "cell_type": "code",
   "execution_count": 16,
   "metadata": {},
   "outputs": [
    {
     "name": "stdout",
     "output_type": "stream",
     "text": [
      "Conditional Mutual Information (CMI) for Income | Gender: 0.0731\n",
      "Conditional Mutual Information (CMI) for Income | Race: 0.0731\n"
     ]
    }
   ],
   "source": [
    "import numpy as np\n",
    "import pandas as pd\n",
    "from sklearn.neighbors import NearestNeighbors\n",
    "from scipy.special import digamma\n",
    "\n",
    "def knn_cmi(X, Y, Z, k=5):\n",
    "    \"\"\"\n",
    "    Estimate Conditional Mutual Information (CMI) I(X;Y | Z) using K-Nearest Neighbors (KNN).\n",
    "    \n",
    "    Parameters:\n",
    "    X, Y, Z : numpy arrays (continuous values)\n",
    "        Target variable (X), Feature (Y), and Sensitive attribute (Z).\n",
    "    k : int, default=5\n",
    "        Number of nearest neighbors used in estimation.\n",
    "    \n",
    "    Returns:\n",
    "    cmi : float\n",
    "        Estimated conditional mutual information.\n",
    "    \"\"\"\n",
    "    # Reshape to ensure 2D input\n",
    "    X = X.reshape(-1, 1)\n",
    "    Y = Y.reshape(-1, 1)\n",
    "    Z = Z.reshape(-1, 1)\n",
    "\n",
    "    data = np.column_stack((X, Y, Z))\n",
    "    n = len(X)\n",
    "\n",
    "    # Fit KNN\n",
    "    knn = NearestNeighbors(n_neighbors=k + 1, metric='euclidean')\n",
    "    knn.fit(data)\n",
    "    radius = knn.kneighbors(data)[0][:, -1]\n",
    "\n",
    "    # Compute neighbor counts\n",
    "    knn_x = NearestNeighbors(n_neighbors=k + 1, metric='euclidean').fit(X)\n",
    "    knn_y = NearestNeighbors(n_neighbors=k + 1, metric='euclidean').fit(Y)\n",
    "    knn_z = NearestNeighbors(n_neighbors=k + 1, metric='euclidean').fit(Z)\n",
    "\n",
    "    n_x = np.array([len(knn_x.radius_neighbors(X[i].reshape(1, -1), radius[i], return_distance=False)[0]) - 1 for i in range(n)])\n",
    "    n_y = np.array([len(knn_y.radius_neighbors(Y[i].reshape(1, -1), radius[i], return_distance=False)[0]) - 1 for i in range(n)])\n",
    "    n_z = np.array([len(knn_z.radius_neighbors(Z[i].reshape(1, -1), radius[i], return_distance=False)[0]) - 1 for i in range(n)])\n",
    "\n",
    "    # Estimate CMI using digamma function\n",
    "    cmi = np.mean(digamma(k) - digamma(n_x) - digamma(n_y) + digamma(n_z))\n",
    "    \n",
    "    return max(cmi, 0)  # Ensure non-negative CMI\n",
    "\n",
    "# Example dataset with continuous variables\n",
    "data = {\n",
    "    'Age': [25, 45, 35, 50, 23, 40, 60, 48, 33, 52],  # Continuous target variable\n",
    "    'Income': [30.5, 40.2, 35.7, 50.1, 28.4, 38.9, 60.3, 45.8, 33.6, 52.5],  # Continuous feature\n",
    "    'Gender': [0, 1, 0, 1, 0, 1, 0, 1, 0, 1],  # Categorical sensitive attribute\n",
    "    'Race': [1, 0, 1, 0, 1, 0, 1, 0, 1, 0]  # Categorical sensitive attribute\n",
    "}\n",
    "\n",
    "df = pd.DataFrame(data)\n",
    "\n",
    "# Extract Variables\n",
    "X = df['Age'].values        # Target variable (continuous)\n",
    "Y1 = df['Income'].values    # Continuous feature\n",
    "Z1 = df['Gender'].values    # Sensitive attribute (categorical)\n",
    "Z2 = df['Race'].values      # Another sensitive attribute (categorical)\n",
    "\n",
    "# Compute CMI\n",
    "cmi_Y1 = knn_cmi(X, Y1, Z1)  # CMI between Age and Income given Gender\n",
    "cmi_Y2 = knn_cmi(X, Y1, Z2)  # CMI between Age and Income given Race\n",
    "\n",
    "print(f\"Conditional Mutual Information (CMI) for Income | Gender: {cmi_Y1:.4f}\")\n",
    "print(f\"Conditional Mutual Information (CMI) for Income | Race: {cmi_Y2:.4f}\")\n"
   ]
  }
 ],
 "metadata": {
  "kernelspec": {
   "display_name": "Python 3",
   "language": "python",
   "name": "python3"
  },
  "language_info": {
   "codemirror_mode": {
    "name": "ipython",
    "version": 3
   },
   "file_extension": ".py",
   "mimetype": "text/x-python",
   "name": "python",
   "nbconvert_exporter": "python",
   "pygments_lexer": "ipython3",
   "version": "3.12.6"
  }
 },
 "nbformat": 4,
 "nbformat_minor": 2
}
