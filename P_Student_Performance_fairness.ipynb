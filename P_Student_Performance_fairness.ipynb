{
 "cells": [
  {
   "cell_type": "code",
   "execution_count": 1,
   "metadata": {},
   "outputs": [
    {
     "name": "stdout",
     "output_type": "stream",
     "text": [
      "Requirement already satisfied: pot in c:\\users\\zhossai3\\appdata\\local\\programs\\python\\python312\\lib\\site-packages (0.9.4)\n",
      "Requirement already satisfied: numpy>=1.16 in c:\\users\\zhossai3\\appdata\\local\\programs\\python\\python312\\lib\\site-packages (from pot) (2.1.2)\n",
      "Requirement already satisfied: scipy>=1.6 in c:\\users\\zhossai3\\appdata\\local\\programs\\python\\python312\\lib\\site-packages (from pot) (1.14.1)\n"
     ]
    },
    {
     "name": "stderr",
     "output_type": "stream",
     "text": [
      "\n",
      "[notice] A new release of pip is available: 24.2 -> 24.3.1\n",
      "[notice] To update, run: python.exe -m pip install --upgrade pip\n"
     ]
    },
    {
     "name": "stdout",
     "output_type": "stream",
     "text": [
      "Requirement already satisfied: torch in c:\\users\\zhossai3\\appdata\\local\\programs\\python\\python312\\lib\\site-packages (2.5.1)\n",
      "Requirement already satisfied: filelock in c:\\users\\zhossai3\\appdata\\local\\programs\\python\\python312\\lib\\site-packages (from torch) (3.16.1)\n",
      "Requirement already satisfied: typing-extensions>=4.8.0 in c:\\users\\zhossai3\\appdata\\local\\programs\\python\\python312\\lib\\site-packages (from torch) (4.12.2)\n",
      "Requirement already satisfied: networkx in c:\\users\\zhossai3\\appdata\\local\\programs\\python\\python312\\lib\\site-packages (from torch) (3.4.2)\n",
      "Requirement already satisfied: jinja2 in c:\\users\\zhossai3\\appdata\\local\\programs\\python\\python312\\lib\\site-packages (from torch) (3.1.4)\n",
      "Requirement already satisfied: fsspec in c:\\users\\zhossai3\\appdata\\local\\programs\\python\\python312\\lib\\site-packages (from torch) (2024.10.0)\n",
      "Requirement already satisfied: setuptools in c:\\users\\zhossai3\\appdata\\local\\programs\\python\\python312\\lib\\site-packages (from torch) (75.3.0)\n",
      "Requirement already satisfied: sympy==1.13.1 in c:\\users\\zhossai3\\appdata\\local\\programs\\python\\python312\\lib\\site-packages (from torch) (1.13.1)\n",
      "Requirement already satisfied: mpmath<1.4,>=1.1.0 in c:\\users\\zhossai3\\appdata\\local\\programs\\python\\python312\\lib\\site-packages (from sympy==1.13.1->torch) (1.3.0)\n",
      "Requirement already satisfied: MarkupSafe>=2.0 in c:\\users\\zhossai3\\appdata\\local\\programs\\python\\python312\\lib\\site-packages (from jinja2->torch) (3.0.2)\n"
     ]
    },
    {
     "name": "stderr",
     "output_type": "stream",
     "text": [
      "\n",
      "[notice] A new release of pip is available: 24.2 -> 24.3.1\n",
      "[notice] To update, run: python.exe -m pip install --upgrade pip\n"
     ]
    },
    {
     "name": "stdout",
     "output_type": "stream",
     "text": [
      "Requirement already satisfied: geomloss in c:\\users\\zhossai3\\appdata\\local\\programs\\python\\python312\\lib\\site-packages (0.2.6)\n",
      "Requirement already satisfied: numpy in c:\\users\\zhossai3\\appdata\\local\\programs\\python\\python312\\lib\\site-packages (from geomloss) (2.1.2)\n",
      "Requirement already satisfied: torch in c:\\users\\zhossai3\\appdata\\local\\programs\\python\\python312\\lib\\site-packages (from geomloss) (2.5.1)\n",
      "Requirement already satisfied: filelock in c:\\users\\zhossai3\\appdata\\local\\programs\\python\\python312\\lib\\site-packages (from torch->geomloss) (3.16.1)\n",
      "Requirement already satisfied: typing-extensions>=4.8.0 in c:\\users\\zhossai3\\appdata\\local\\programs\\python\\python312\\lib\\site-packages (from torch->geomloss) (4.12.2)\n",
      "Requirement already satisfied: networkx in c:\\users\\zhossai3\\appdata\\local\\programs\\python\\python312\\lib\\site-packages (from torch->geomloss) (3.4.2)\n",
      "Requirement already satisfied: jinja2 in c:\\users\\zhossai3\\appdata\\local\\programs\\python\\python312\\lib\\site-packages (from torch->geomloss) (3.1.4)\n",
      "Requirement already satisfied: fsspec in c:\\users\\zhossai3\\appdata\\local\\programs\\python\\python312\\lib\\site-packages (from torch->geomloss) (2024.10.0)\n",
      "Requirement already satisfied: setuptools in c:\\users\\zhossai3\\appdata\\local\\programs\\python\\python312\\lib\\site-packages (from torch->geomloss) (75.3.0)\n",
      "Requirement already satisfied: sympy==1.13.1 in c:\\users\\zhossai3\\appdata\\local\\programs\\python\\python312\\lib\\site-packages (from torch->geomloss) (1.13.1)\n",
      "Requirement already satisfied: mpmath<1.4,>=1.1.0 in c:\\users\\zhossai3\\appdata\\local\\programs\\python\\python312\\lib\\site-packages (from sympy==1.13.1->torch->geomloss) (1.3.0)\n",
      "Requirement already satisfied: MarkupSafe>=2.0 in c:\\users\\zhossai3\\appdata\\local\\programs\\python\\python312\\lib\\site-packages (from jinja2->torch->geomloss) (3.0.2)\n"
     ]
    },
    {
     "name": "stderr",
     "output_type": "stream",
     "text": [
      "\n",
      "[notice] A new release of pip is available: 24.2 -> 24.3.1\n",
      "[notice] To update, run: python.exe -m pip install --upgrade pip\n"
     ]
    },
    {
     "name": "stdout",
     "output_type": "stream",
     "text": [
      "Requirement already satisfied: wget in c:\\users\\zhossai3\\appdata\\local\\programs\\python\\python312\\lib\\site-packages (3.2)\n"
     ]
    },
    {
     "name": "stderr",
     "output_type": "stream",
     "text": [
      "\n",
      "[notice] A new release of pip is available: 24.2 -> 24.3.1\n",
      "[notice] To update, run: python.exe -m pip install --upgrade pip\n"
     ]
    }
   ],
   "source": [
    "!pip install pot\n",
    "!pip install torch\n",
    "!pip install geomloss\n",
    "!pip install wget"
   ]
  },
  {
   "cell_type": "code",
   "execution_count": 2,
   "metadata": {},
   "outputs": [
    {
     "name": "stderr",
     "output_type": "stream",
     "text": [
      "c:\\Users\\zhossai3\\AppData\\Local\\Programs\\Python\\Python312\\Lib\\site-packages\\torch\\__init__.py:1144: UserWarning: torch.set_default_tensor_type() is deprecated as of PyTorch 2.1, please use torch.set_default_dtype() and torch.set_default_device() as alternatives. (Triggered internally at C:\\actions-runner\\_work\\pytorch\\pytorch\\builder\\windows\\pytorch\\torch\\csrc\\tensor\\python_tensor.cpp:434.)\n",
      "  _C._set_default_tensor_type(t)\n"
     ]
    }
   ],
   "source": [
    "import numpy as np\n",
    "import torch\n",
    "import torch.nn as nn\n",
    "import pandas as pd\n",
    "\n",
    "from geomloss import SamplesLoss\n",
    "\n",
    "import ot\n",
    "\n",
    "import os\n",
    "import pickle as pkl\n",
    "import copy\n",
    "\n",
    "from sklearn.preprocessing import scale\n",
    "from sklearn.experimental import enable_iterative_imputer\n",
    "from sklearn.impute import SimpleImputer, IterativeImputer\n",
    "\n",
    "from utils import *\n",
    "from SoftImpute import softimpute, cv_softimpute\n",
    "from DataSetLoader import dataset_loader, ground_truth\n",
    "from SinkhornImputation import SinkhornImputation\n",
    "from Sinkhorn_CMI import SinkhornImputation_CMI\n",
    "from RR_imputer import RRimputer\n",
    "import matplotlib.pyplot as plt\n",
    "\n",
    "import argparse\n",
    "import logging\n",
    "logger = logging.getLogger()\n",
    "logger.setLevel(logging.INFO)\n",
    "logging.debug(\"test\")\n",
    "\n",
    "torch.set_default_tensor_type('torch.DoubleTensor')"
   ]
  },
  {
   "cell_type": "code",
   "execution_count": 3,
   "metadata": {},
   "outputs": [],
   "source": [
    "Xy = {}\n",
    "with open(r'C:\\Users\\zhossai3\\Desktop\\My code\\OT+Fairness\\Data\\portugal student performance dataset\\P_Student_Performance_Data.csv', 'rb') as f:\n",
    "        df = pd.read_csv(f, delimiter=',', header = 0)\n",
    "        Xy['data'] = df.values[:, :-1].astype('float')\n",
    "        Xy['target'] =  df.values[:, -1]"
   ]
  },
  {
   "cell_type": "code",
   "execution_count": 4,
   "metadata": {},
   "outputs": [
    {
     "name": "stdout",
     "output_type": "stream",
     "text": [
      "<class 'numpy.ndarray'>\n"
     ]
    }
   ],
   "source": [
    "ground_truth_numpy = scale(Xy['data'])\n",
    "print(type(ground_truth_numpy))"
   ]
  },
  {
   "cell_type": "code",
   "execution_count": 5,
   "metadata": {},
   "outputs": [
    {
     "name": "stdout",
     "output_type": "stream",
     "text": [
      "9.150126670101555\n",
      "-4.7441041972812386\n",
      "-3.773774598403673e-17\n",
      "-0.22237479499833032\n",
      "1.0\n"
     ]
    }
   ],
   "source": [
    "print(np.max(ground_truth_numpy))\n",
    "print(np.min(ground_truth_numpy))\n",
    "print(np.mean(ground_truth_numpy))\n",
    "print(np.median(ground_truth_numpy))\n",
    "print(np.std(ground_truth_numpy))"
   ]
  },
  {
   "cell_type": "code",
   "execution_count": 6,
   "metadata": {},
   "outputs": [
    {
     "name": "stdout",
     "output_type": "stream",
     "text": [
      "[[-0.34199278 -0.96399841  1.20622289 ...  0.06678691 -4.7441042\n",
      "  -0.50229837]\n",
      " [-0.34199278 -0.96399841  0.35293188 ... -0.3414147  -1.21909226\n",
      "  -0.50229837]\n",
      " [-0.34199278 -0.96399841 -1.35365013 ...  0.47498853 -0.04408828\n",
      "   0.309025  ]\n",
      " ...\n",
      " [ 2.9240383  -0.96399841  1.20622289 ...  0.47498853 -0.43575627\n",
      "  -0.09663668]\n",
      " [ 2.9240383   1.03734611  0.35293188 ...  0.47498853 -0.82742427\n",
      "  -0.90796005]\n",
      " [ 2.9240383   1.03734611  1.20622289 ...  0.06678691 -0.82742427\n",
      "  -0.50229837]]\n"
     ]
    }
   ],
   "source": [
    "print(ground_truth_numpy)"
   ]
  },
  {
   "cell_type": "code",
   "execution_count": 7,
   "metadata": {},
   "outputs": [
    {
     "name": "stdout",
     "output_type": "stream",
     "text": [
      "(382, 52)\n",
      "tensor(0)\n"
     ]
    }
   ],
   "source": [
    "print(ground_truth_numpy.shape)\n",
    "ground_truth = torch.from_numpy(ground_truth_numpy)\n",
    "print(ground_truth.isnan().sum())"
   ]
  },
  {
   "cell_type": "code",
   "execution_count": 8,
   "metadata": {},
   "outputs": [
    {
     "name": "stdout",
     "output_type": "stream",
     "text": [
      "Percentage of missing values: 30.01%\n"
     ]
    }
   ],
   "source": [
    "#30% MCAR\n",
    "np.random.seed(42)\n",
    "\n",
    "p_macr30 = 0.301\n",
    "\n",
    "\n",
    "mask_mcar30 = np.random.rand(*ground_truth.shape) < p_macr30  # True for missing values, false for others\n",
    "data_mcar30 = np.copy(ground_truth)\n",
    "\n",
    "# Apply the mask to set the selected values to NaN\n",
    "data_mcar30[mask_mcar30] = np.nan\n",
    "\n",
    "# Convert to a torch tensor\n",
    "data_mcar30 = torch.from_numpy(data_mcar30)\n",
    "\n",
    "# Calculate the percentage of missing values\n",
    "missing_values_mcar30 = torch.isnan(data_mcar30)  # Create a boolean tensor where NaNs are True\n",
    "missing_percentage_mcar30 = torch.sum(missing_values_mcar30).item() / data_mcar30.numel() * 100  # Calculate the percentage of NaNs\n",
    "print(f\"Percentage of missing values: {missing_percentage_mcar30:.2f}%\")"
   ]
  },
  {
   "cell_type": "code",
   "execution_count": 9,
   "metadata": {},
   "outputs": [],
   "source": [
    "data_mcar30_numpy = data_mcar30.detach().cpu().numpy()"
   ]
  },
  {
   "cell_type": "code",
   "execution_count": 10,
   "metadata": {},
   "outputs": [
    {
     "name": "stdout",
     "output_type": "stream",
     "text": [
      "0.3\n"
     ]
    }
   ],
   "source": [
    "#sinkhorn\n",
    "n_mcar30, d_mcar30 = data_mcar30.shape\n",
    "batchsize = 128 # If the batch size is larger than half the dataset's size,\n",
    "                # it will be redefined in the imputation methods.\n",
    "lr = 1e-2\n",
    "#epsilon_mcar30 = pick_epsilon(data_mcar30)\n",
    "epsilon_mcar30 = 0.3\n",
    "print(epsilon_mcar30)\n"
   ]
  },
  {
   "cell_type": "code",
   "execution_count": 11,
   "metadata": {},
   "outputs": [
    {
     "name": "stderr",
     "output_type": "stream",
     "text": [
      "INFO:root:Iteration 0:\t Loss: 16.1526\t Validation MAE: 0.7844\tRMSE: 1.0006\n",
      "INFO:root:Iteration 50:\t Loss: 12.9480\t Validation MAE: 0.6742\tRMSE: 0.9353\n",
      "INFO:root:Iteration 100:\t Loss: 13.1076\t Validation MAE: 0.6535\tRMSE: 0.9129\n",
      "INFO:root:Iteration 150:\t Loss: 11.4803\t Validation MAE: 0.6443\tRMSE: 0.9034\n",
      "INFO:root:Iteration 200:\t Loss: 13.6574\t Validation MAE: 0.6379\tRMSE: 0.8970\n",
      "INFO:root:Iteration 250:\t Loss: 12.7643\t Validation MAE: 0.6337\tRMSE: 0.8915\n",
      "INFO:root:Iteration 300:\t Loss: 12.4690\t Validation MAE: 0.6327\tRMSE: 0.8904\n",
      "INFO:root:Iteration 350:\t Loss: 11.8516\t Validation MAE: 0.6312\tRMSE: 0.8878\n",
      "INFO:root:Iteration 400:\t Loss: 12.5634\t Validation MAE: 0.6298\tRMSE: 0.8861\n",
      "INFO:root:Iteration 450:\t Loss: 12.3581\t Validation MAE: 0.6293\tRMSE: 0.8845\n",
      "INFO:root:Iteration 500:\t Loss: 12.3238\t Validation MAE: 0.6287\tRMSE: 0.8829\n",
      "INFO:root:Iteration 550:\t Loss: 13.2760\t Validation MAE: 0.6275\tRMSE: 0.8816\n",
      "INFO:root:Iteration 600:\t Loss: 13.1092\t Validation MAE: 0.6264\tRMSE: 0.8800\n",
      "INFO:root:Iteration 650:\t Loss: 12.4699\t Validation MAE: 0.6276\tRMSE: 0.8807\n",
      "INFO:root:Iteration 700:\t Loss: 13.9826\t Validation MAE: 0.6256\tRMSE: 0.8789\n",
      "INFO:root:Iteration 750:\t Loss: 12.7965\t Validation MAE: 0.6253\tRMSE: 0.8788\n",
      "INFO:root:Iteration 800:\t Loss: 13.3064\t Validation MAE: 0.6254\tRMSE: 0.8789\n",
      "INFO:root:Iteration 850:\t Loss: 12.6400\t Validation MAE: 0.6255\tRMSE: 0.8791\n",
      "INFO:root:Iteration 900:\t Loss: 13.0285\t Validation MAE: 0.6265\tRMSE: 0.8810\n",
      "INFO:root:Iteration 950:\t Loss: 14.4687\t Validation MAE: 0.6286\tRMSE: 0.8822\n",
      "INFO:root:Iteration 1000:\t Loss: 12.7779\t Validation MAE: 0.6296\tRMSE: 0.8828\n",
      "INFO:root:Iteration 1050:\t Loss: 13.2699\t Validation MAE: 0.6304\tRMSE: 0.8830\n",
      "INFO:root:Iteration 1100:\t Loss: 13.2778\t Validation MAE: 0.6292\tRMSE: 0.8817\n",
      "INFO:root:Iteration 1150:\t Loss: 12.1876\t Validation MAE: 0.6293\tRMSE: 0.8822\n",
      "INFO:root:Iteration 1200:\t Loss: 13.2890\t Validation MAE: 0.6287\tRMSE: 0.8815\n",
      "INFO:root:Iteration 1250:\t Loss: 13.7169\t Validation MAE: 0.6295\tRMSE: 0.8822\n",
      "INFO:root:Iteration 1300:\t Loss: 14.0997\t Validation MAE: 0.6286\tRMSE: 0.8812\n",
      "INFO:root:Iteration 1350:\t Loss: 13.3128\t Validation MAE: 0.6285\tRMSE: 0.8809\n",
      "INFO:root:Iteration 1400:\t Loss: 13.3636\t Validation MAE: 0.6269\tRMSE: 0.8792\n",
      "INFO:root:Iteration 1450:\t Loss: 13.5349\t Validation MAE: 0.6270\tRMSE: 0.8789\n",
      "INFO:root:Iteration 1500:\t Loss: 13.5495\t Validation MAE: 0.6273\tRMSE: 0.8789\n",
      "INFO:root:Iteration 1550:\t Loss: 14.4618\t Validation MAE: 0.6282\tRMSE: 0.8807\n",
      "INFO:root:Iteration 1600:\t Loss: 13.8222\t Validation MAE: 0.6284\tRMSE: 0.8814\n",
      "INFO:root:Iteration 1650:\t Loss: 13.5635\t Validation MAE: 0.6269\tRMSE: 0.8795\n",
      "INFO:root:Iteration 1700:\t Loss: 12.4931\t Validation MAE: 0.6268\tRMSE: 0.8790\n",
      "INFO:root:Iteration 1750:\t Loss: 13.2561\t Validation MAE: 0.6282\tRMSE: 0.8793\n",
      "INFO:root:Iteration 1800:\t Loss: 13.9836\t Validation MAE: 0.6287\tRMSE: 0.8799\n",
      "INFO:root:Iteration 1850:\t Loss: 12.1685\t Validation MAE: 0.6295\tRMSE: 0.8812\n",
      "INFO:root:Iteration 1900:\t Loss: 12.9086\t Validation MAE: 0.6285\tRMSE: 0.8815\n",
      "INFO:root:Iteration 1950:\t Loss: 13.6171\t Validation MAE: 0.6279\tRMSE: 0.8811\n"
     ]
    },
    {
     "name": "stdout",
     "output_type": "stream",
     "text": [
      "0.6285830865674903 0.8819332189623336\n"
     ]
    }
   ],
   "source": [
    "sk_imputer_mcar30 = SinkhornImputation_CMI(eps=epsilon_mcar30, batchsize=batchsize, lr=lr, niter=2000)\n",
    "sk_imp_mcar30, sk_maes30mcar, sk_rmses30mcar,sk_loss_mcar30 = sk_imputer_mcar30.fit_transform(data_mcar30, verbose=True, report_interval=50, X_true=ground_truth)\n",
    "#using numpy version of data\n",
    "sk_imp_mcar30_numpy = sk_imp_mcar30.detach().cpu().numpy()\n",
    "\n",
    "sk_mae_mcar30 = MAE(sk_imp_mcar30_numpy,ground_truth_numpy ,mask_mcar30)\n",
    "sk_rmse_mcar30 = RMSE(sk_imp_mcar30_numpy, ground_truth_numpy,mask_mcar30)\n",
    "print(sk_mae_mcar30,sk_rmse_mcar30)"
   ]
  },
  {
   "cell_type": "code",
   "execution_count": 12,
   "metadata": {},
   "outputs": [
    {
     "name": "stdout",
     "output_type": "stream",
     "text": [
      "[16.152641955661984, 12.948014216744514, 13.107571813683439, 11.480313481514411, 13.65742120549049, 12.76426182073048, 12.469017845091646, 11.851580999389386, 12.563419882220035, 12.35811186784073, 12.32376772382501, 13.275990230395818, 13.109236477432665, 12.46989612374036, 13.982583642052813, 12.796532559933318, 13.306368861232784, 12.639996162192372, 13.028526359318068, 14.468650010332054, 12.777943989935316, 13.269897046464843, 13.277848491121931, 12.187556719640796, 13.28895599420361, 13.716924766478982, 14.099672514209772, 13.312755592358661, 13.36355102626184, 13.53494106743183, 13.549547591480412, 14.461813578670405, 13.822247907888222, 13.563494516324466, 12.493075929898406, 13.256075613023281, 13.983627534563407, 12.1685091015641, 12.908622774439474, 13.617133326010263]\n"
     ]
    }
   ],
   "source": [
    "print(sk_loss_mcar30)\n",
    "#sk_loss_mcar30.clear"
   ]
  },
  {
   "cell_type": "code",
   "execution_count": 13,
   "metadata": {},
   "outputs": [
    {
     "data": {
      "image/png": "[encoded data removed]",
      "text/plain": [
       "<Figure size 800x500 with 1 Axes>"
      ]
     },
     "metadata": {},
     "output_type": "display_data"
    }
   ],
   "source": [
    "# Convert the list of losses to a NumPy array\n",
    "\n",
    "iterations = np.linspace(0, 2000, 50).astype(int)\n",
    "\n",
    "\n",
    "\n",
    "loss_values = sk_loss_mcar30\n",
    "\n",
    "\n",
    "# Assuming cmi_penalty_history is also a list, convert it to a NumPy array\n",
    "#cmi_penalty_history_numpy = np.array(cmi_penalty_history)\n",
    "\n",
    "# Total loss calculation\n",
    "#total_loss = sk_loss_mcar30_numpy + cmi_penalty_history_numpy\n",
    "if len(loss_values) > len(iterations):\n",
    "    loss_values = loss_values[:len(iterations)]\n",
    "elif len(loss_values) < len(iterations):\n",
    "    iterations = iterations[:len(loss_values)]\n",
    "\n",
    "\n",
    "\n",
    "# Plotting\n",
    "plt.figure(figsize=(8, 5))\n",
    "plt.plot(iterations, loss_values, color='b', linestyle='-', marker='o', label=\"Loss Value\")\n",
    "plt.xlabel(\"Iterations\")\n",
    "plt.ylabel(\"Loss Value\")\n",
    "plt.title(\"Loss Curve\")\n",
    "plt.legend()\n",
    "plt.grid(True)\n",
    "\n",
    "# Show the plot\n",
    "plt.show()\n",
    "\n"
   ]
  }
 ],
 "metadata": {
  "kernelspec": {
   "display_name": "Python 3",
   "language": "python",
   "name": "python3"
  },
  "language_info": {
   "codemirror_mode": {
    "name": "ipython",
    "version": 3
   },
   "file_extension": ".py",
   "mimetype": "text/x-python",
   "name": "python",
   "nbconvert_exporter": "python",
   "pygments_lexer": "ipython3",
   "version": "3.12.6"
  }
 },
 "nbformat": 4,
 "nbformat_minor": 2
}
