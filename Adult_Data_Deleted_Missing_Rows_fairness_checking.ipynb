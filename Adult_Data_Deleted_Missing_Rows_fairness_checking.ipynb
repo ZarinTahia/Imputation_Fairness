{
 "cells": [
  {
   "cell_type": "code",
   "execution_count": 1,
   "metadata": {},
   "outputs": [
    {
     "name": "stdout",
     "output_type": "stream",
     "text": [
      "Requirement already satisfied: pot in c:\\users\\zhossai3\\appdata\\local\\programs\\python\\python312\\lib\\site-packages (0.9.4)\n",
      "Requirement already satisfied: numpy>=1.16 in c:\\users\\zhossai3\\appdata\\local\\programs\\python\\python312\\lib\\site-packages (from pot) (2.1.2)\n",
      "Requirement already satisfied: scipy>=1.6 in c:\\users\\zhossai3\\appdata\\local\\programs\\python\\python312\\lib\\site-packages (from pot) (1.14.1)\n"
     ]
    },
    {
     "name": "stderr",
     "output_type": "stream",
     "text": [
      "\n",
      "[notice] A new release of pip is available: 24.2 -> 24.3.1\n",
      "[notice] To update, run: python.exe -m pip install --upgrade pip\n"
     ]
    },
    {
     "name": "stdout",
     "output_type": "stream",
     "text": [
      "Requirement already satisfied: torch in c:\\users\\zhossai3\\appdata\\local\\programs\\python\\python312\\lib\\site-packages (2.5.1)\n",
      "Requirement already satisfied: filelock in c:\\users\\zhossai3\\appdata\\local\\programs\\python\\python312\\lib\\site-packages (from torch) (3.16.1)\n",
      "Requirement already satisfied: typing-extensions>=4.8.0 in c:\\users\\zhossai3\\appdata\\local\\programs\\python\\python312\\lib\\site-packages (from torch) (4.12.2)\n",
      "Requirement already satisfied: networkx in c:\\users\\zhossai3\\appdata\\local\\programs\\python\\python312\\lib\\site-packages (from torch) (3.4.2)\n",
      "Requirement already satisfied: jinja2 in c:\\users\\zhossai3\\appdata\\local\\programs\\python\\python312\\lib\\site-packages (from torch) (3.1.4)\n",
      "Requirement already satisfied: fsspec in c:\\users\\zhossai3\\appdata\\local\\programs\\python\\python312\\lib\\site-packages (from torch) (2024.10.0)\n",
      "Requirement already satisfied: setuptools in c:\\users\\zhossai3\\appdata\\local\\programs\\python\\python312\\lib\\site-packages (from torch) (75.3.0)\n",
      "Requirement already satisfied: sympy==1.13.1 in c:\\users\\zhossai3\\appdata\\local\\programs\\python\\python312\\lib\\site-packages (from torch) (1.13.1)\n",
      "Requirement already satisfied: mpmath<1.4,>=1.1.0 in c:\\users\\zhossai3\\appdata\\local\\programs\\python\\python312\\lib\\site-packages (from sympy==1.13.1->torch) (1.3.0)\n",
      "Requirement already satisfied: MarkupSafe>=2.0 in c:\\users\\zhossai3\\appdata\\local\\programs\\python\\python312\\lib\\site-packages (from jinja2->torch) (3.0.2)\n"
     ]
    },
    {
     "name": "stderr",
     "output_type": "stream",
     "text": [
      "\n",
      "[notice] A new release of pip is available: 24.2 -> 24.3.1\n",
      "[notice] To update, run: python.exe -m pip install --upgrade pip\n"
     ]
    },
    {
     "name": "stdout",
     "output_type": "stream",
     "text": [
      "Requirement already satisfied: geomloss in c:\\users\\zhossai3\\appdata\\local\\programs\\python\\python312\\lib\\site-packages (0.2.6)\n",
      "Requirement already satisfied: numpy in c:\\users\\zhossai3\\appdata\\local\\programs\\python\\python312\\lib\\site-packages (from geomloss) (2.1.2)\n",
      "Requirement already satisfied: torch in c:\\users\\zhossai3\\appdata\\local\\programs\\python\\python312\\lib\\site-packages (from geomloss) (2.5.1)\n",
      "Requirement already satisfied: filelock in c:\\users\\zhossai3\\appdata\\local\\programs\\python\\python312\\lib\\site-packages (from torch->geomloss) (3.16.1)\n",
      "Requirement already satisfied: typing-extensions>=4.8.0 in c:\\users\\zhossai3\\appdata\\local\\programs\\python\\python312\\lib\\site-packages (from torch->geomloss) (4.12.2)\n",
      "Requirement already satisfied: networkx in c:\\users\\zhossai3\\appdata\\local\\programs\\python\\python312\\lib\\site-packages (from torch->geomloss) (3.4.2)\n",
      "Requirement already satisfied: jinja2 in c:\\users\\zhossai3\\appdata\\local\\programs\\python\\python312\\lib\\site-packages (from torch->geomloss) (3.1.4)\n",
      "Requirement already satisfied: fsspec in c:\\users\\zhossai3\\appdata\\local\\programs\\python\\python312\\lib\\site-packages (from torch->geomloss) (2024.10.0)\n",
      "Requirement already satisfied: setuptools in c:\\users\\zhossai3\\appdata\\local\\programs\\python\\python312\\lib\\site-packages (from torch->geomloss) (75.3.0)\n",
      "Requirement already satisfied: sympy==1.13.1 in c:\\users\\zhossai3\\appdata\\local\\programs\\python\\python312\\lib\\site-packages (from torch->geomloss) (1.13.1)\n",
      "Requirement already satisfied: mpmath<1.4,>=1.1.0 in c:\\users\\zhossai3\\appdata\\local\\programs\\python\\python312\\lib\\site-packages (from sympy==1.13.1->torch->geomloss) (1.3.0)\n",
      "Requirement already satisfied: MarkupSafe>=2.0 in c:\\users\\zhossai3\\appdata\\local\\programs\\python\\python312\\lib\\site-packages (from jinja2->torch->geomloss) (3.0.2)\n"
     ]
    },
    {
     "name": "stderr",
     "output_type": "stream",
     "text": [
      "\n",
      "[notice] A new release of pip is available: 24.2 -> 24.3.1\n",
      "[notice] To update, run: python.exe -m pip install --upgrade pip\n"
     ]
    },
    {
     "name": "stdout",
     "output_type": "stream",
     "text": [
      "Requirement already satisfied: wget in c:\\users\\zhossai3\\appdata\\local\\programs\\python\\python312\\lib\\site-packages (3.2)\n"
     ]
    },
    {
     "name": "stderr",
     "output_type": "stream",
     "text": [
      "\n",
      "[notice] A new release of pip is available: 24.2 -> 24.3.1\n",
      "[notice] To update, run: python.exe -m pip install --upgrade pip\n"
     ]
    }
   ],
   "source": [
    "!pip install pot\n",
    "!pip install torch\n",
    "!pip install geomloss\n",
    "!pip install wget"
   ]
  },
  {
   "cell_type": "code",
   "execution_count": 2,
   "metadata": {},
   "outputs": [
    {
     "name": "stderr",
     "output_type": "stream",
     "text": [
      "c:\\Users\\zhossai3\\AppData\\Local\\Programs\\Python\\Python312\\Lib\\site-packages\\torch\\__init__.py:1144: UserWarning: torch.set_default_tensor_type() is deprecated as of PyTorch 2.1, please use torch.set_default_dtype() and torch.set_default_device() as alternatives. (Triggered internally at C:\\actions-runner\\_work\\pytorch\\pytorch\\builder\\windows\\pytorch\\torch\\csrc\\tensor\\python_tensor.cpp:434.)\n",
      "  _C._set_default_tensor_type(t)\n"
     ]
    }
   ],
   "source": [
    "import numpy as np\n",
    "import torch\n",
    "import torch.nn as nn\n",
    "import pandas as pd\n",
    "\n",
    "from geomloss import SamplesLoss\n",
    "\n",
    "import ot\n",
    "\n",
    "import os\n",
    "import pickle as pkl\n",
    "import copy\n",
    "\n",
    "from sklearn.preprocessing import scale\n",
    "from sklearn.experimental import enable_iterative_imputer\n",
    "from sklearn.impute import SimpleImputer, IterativeImputer\n",
    "\n",
    "from utils import *\n",
    "from SoftImpute import softimpute, cv_softimpute\n",
    "from DataSetLoader import dataset_loader, ground_truth\n",
    "from SinkhornImputation import SinkhornImputation\n",
    "from Sinkhorn_CMI import SinkhornImputation_CMI\n",
    "from RR_imputer import RRimputer\n",
    "import matplotlib.pyplot as plt\n",
    "\n",
    "import argparse\n",
    "import logging\n",
    "logger = logging.getLogger()\n",
    "logger.setLevel(logging.INFO)\n",
    "logging.debug(\"test\")\n",
    "\n",
    "torch.set_default_tensor_type('torch.DoubleTensor')"
   ]
  },
  {
   "cell_type": "code",
   "execution_count": 3,
   "metadata": {},
   "outputs": [],
   "source": [
    "Xy = {}\n",
    "with open(r'C:\\Users\\zhossai3\\Desktop\\My code\\OT+Fairness\\Data\\adult\\adult_data_without_missing_values.csv', 'rb') as f:\n",
    "        df = pd.read_csv(f, delimiter=',', header = 0)\n",
    "        Xy['data'] = df.values[:, :-1].astype('float')\n",
    "        Xy['target'] =  df.values[:, -1]"
   ]
  },
  {
   "cell_type": "code",
   "execution_count": 4,
   "metadata": {},
   "outputs": [
    {
     "name": "stdout",
     "output_type": "stream",
     "text": [
      "<class 'numpy.ndarray'>\n"
     ]
    }
   ],
   "source": [
    "ground_truth_numpy = scale(Xy['data'])\n",
    "print(type(ground_truth_numpy))"
   ]
  },
  {
   "cell_type": "code",
   "execution_count": 5,
   "metadata": {},
   "outputs": [
    {
     "name": "stdout",
     "output_type": "stream",
     "text": [
      "13.175192739902075\n",
      "-3.727580874154209\n",
      "-1.150625605038418e-17\n",
      "-0.19623778646170578\n",
      "1.0\n"
     ]
    }
   ],
   "source": [
    "print(np.max(ground_truth_numpy))\n",
    "print(np.min(ground_truth_numpy))\n",
    "print(np.mean(ground_truth_numpy))\n",
    "print(np.median(ground_truth_numpy))\n",
    "print(np.std(ground_truth_numpy))"
   ]
  },
  {
   "cell_type": "code",
   "execution_count": 6,
   "metadata": {},
   "outputs": [
    {
     "name": "stdout",
     "output_type": "stream",
     "text": [
      "[[ 0.03420095 -1.90309934 -1.06229487 ... -0.21878026 -0.07812006\n",
      "  -0.19623779]\n",
      " [ 0.86641684  1.9863551  -1.00743773 ... -0.21878026 -2.32673801\n",
      "  -0.19623779]\n",
      " [-0.04145504  0.04162788  0.24528351 ... -0.21878026 -0.07812006\n",
      "  -0.19623779]\n",
      " ...\n",
      " [-0.04145504  0.04162788  1.75361345 ... -0.21878026  0.7547014\n",
      "  -0.19623779]\n",
      " [ 0.4124809   0.04162788 -1.00194728 ... -0.21878026 -0.07812006\n",
      "  -0.19623779]\n",
      " [-0.26842301  1.9863551  -0.07181821 ... -0.21878026  1.58752287\n",
      "  -0.19623779]]\n"
     ]
    }
   ],
   "source": [
    "print(ground_truth_numpy)"
   ]
  },
  {
   "cell_type": "code",
   "execution_count": 7,
   "metadata": {},
   "outputs": [
    {
     "name": "stdout",
     "output_type": "stream",
     "text": [
      "(45222, 13)\n"
     ]
    },
    {
     "name": "stdout",
     "output_type": "stream",
     "text": [
      "tensor(0)\n"
     ]
    }
   ],
   "source": [
    "print(ground_truth_numpy.shape)\n",
    "ground_truth = torch.from_numpy(ground_truth_numpy)\n",
    "print(ground_truth.isnan().sum())"
   ]
  },
  {
   "cell_type": "code",
   "execution_count": 8,
   "metadata": {},
   "outputs": [
    {
     "name": "stdout",
     "output_type": "stream",
     "text": [
      "Percentage of missing values: 30.04%\n"
     ]
    }
   ],
   "source": [
    "#30% MCAR\n",
    "np.random.seed(42)\n",
    "\n",
    "p_macr30 = 0.301\n",
    "\n",
    "\n",
    "mask_mcar30 = np.random.rand(*ground_truth.shape) < p_macr30  # True for missing values, false for others\n",
    "data_mcar30 = np.copy(ground_truth)\n",
    "\n",
    "# Apply the mask to set the selected values to NaN\n",
    "data_mcar30[mask_mcar30] = np.nan\n",
    "\n",
    "# Convert to a torch tensor\n",
    "data_mcar30 = torch.from_numpy(data_mcar30)\n",
    "\n",
    "# Calculate the percentage of missing values\n",
    "missing_values_mcar30 = torch.isnan(data_mcar30)  # Create a boolean tensor where NaNs are True\n",
    "missing_percentage_mcar30 = torch.sum(missing_values_mcar30).item() / data_mcar30.numel() * 100  # Calculate the percentage of NaNs\n",
    "print(f\"Percentage of missing values: {missing_percentage_mcar30:.2f}%\")"
   ]
  },
  {
   "cell_type": "code",
   "execution_count": 9,
   "metadata": {},
   "outputs": [],
   "source": [
    "data_mcar30_numpy = data_mcar30.detach().cpu().numpy()"
   ]
  },
  {
   "cell_type": "code",
   "execution_count": 10,
   "metadata": {},
   "outputs": [
    {
     "name": "stdout",
     "output_type": "stream",
     "text": [
      "0.3\n"
     ]
    }
   ],
   "source": [
    "#sinkhorn\n",
    "n_mcar30, d_mcar30 = data_mcar30.shape\n",
    "batchsize = 128 # If the batch size is larger than half the dataset's size,\n",
    "                # it will be redefined in the imputation methods.\n",
    "lr = 1e-2\n",
    "#epsilon_mcar30 = pick_epsilon(data_mcar30)\n",
    "epsilon_mcar30 = 0.3\n",
    "print(epsilon_mcar30)\n"
   ]
  },
  {
   "cell_type": "code",
   "execution_count": 11,
   "metadata": {},
   "outputs": [
    {
     "name": "stderr",
     "output_type": "stream",
     "text": [
      "INFO:root:Iteration 0:\t Loss: 3.2405\t Validation MAE: 0.6906\tRMSE: 1.0049\n",
      "INFO:root:Iteration 50:\t Loss: 2.7209\t Validation MAE: 0.6846\tRMSE: 1.0040\n",
      "INFO:root:Iteration 100:\t Loss: 3.4733\t Validation MAE: 0.6789\tRMSE: 1.0029\n",
      "INFO:root:Iteration 150:\t Loss: 2.8612\t Validation MAE: 0.6737\tRMSE: 1.0022\n",
      "INFO:root:Iteration 200:\t Loss: 2.2189\t Validation MAE: 0.6688\tRMSE: 1.0012\n",
      "INFO:root:Iteration 250:\t Loss: 3.5109\t Validation MAE: 0.6642\tRMSE: 1.0004\n",
      "INFO:root:Iteration 300:\t Loss: 2.1116\t Validation MAE: 0.6600\tRMSE: 0.9998\n",
      "INFO:root:Iteration 350:\t Loss: 2.9815\t Validation MAE: 0.6557\tRMSE: 0.9989\n",
      "INFO:root:Iteration 400:\t Loss: 2.5817\t Validation MAE: 0.6518\tRMSE: 0.9984\n",
      "INFO:root:Iteration 450:\t Loss: 2.3948\t Validation MAE: 0.6482\tRMSE: 0.9979\n",
      "INFO:root:Iteration 500:\t Loss: 3.0436\t Validation MAE: 0.6446\tRMSE: 0.9973\n",
      "INFO:root:Iteration 550:\t Loss: 2.5744\t Validation MAE: 0.6415\tRMSE: 0.9971\n",
      "INFO:root:Iteration 600:\t Loss: 2.4610\t Validation MAE: 0.6384\tRMSE: 0.9966\n",
      "INFO:root:Iteration 650:\t Loss: 2.6818\t Validation MAE: 0.6354\tRMSE: 0.9961\n",
      "INFO:root:Iteration 700:\t Loss: 2.2556\t Validation MAE: 0.6325\tRMSE: 0.9955\n",
      "INFO:root:Iteration 750:\t Loss: 2.6016\t Validation MAE: 0.6298\tRMSE: 0.9949\n",
      "INFO:root:Iteration 800:\t Loss: 2.3402\t Validation MAE: 0.6270\tRMSE: 0.9943\n",
      "INFO:root:Iteration 850:\t Loss: 2.3281\t Validation MAE: 0.6245\tRMSE: 0.9937\n",
      "INFO:root:Iteration 900:\t Loss: 2.1926\t Validation MAE: 0.6222\tRMSE: 0.9932\n",
      "INFO:root:Iteration 950:\t Loss: 2.4433\t Validation MAE: 0.6200\tRMSE: 0.9927\n",
      "INFO:root:Iteration 1000:\t Loss: 2.7389\t Validation MAE: 0.6180\tRMSE: 0.9923\n",
      "INFO:root:Iteration 1050:\t Loss: 2.4763\t Validation MAE: 0.6159\tRMSE: 0.9918\n",
      "INFO:root:Iteration 1100:\t Loss: 2.4693\t Validation MAE: 0.6142\tRMSE: 0.9916\n",
      "INFO:root:Iteration 1150:\t Loss: 2.3314\t Validation MAE: 0.6124\tRMSE: 0.9912\n",
      "INFO:root:Iteration 1200:\t Loss: 2.7553\t Validation MAE: 0.6105\tRMSE: 0.9908\n",
      "INFO:root:Iteration 1250:\t Loss: 2.3295\t Validation MAE: 0.6091\tRMSE: 0.9905\n",
      "INFO:root:Iteration 1300:\t Loss: 2.7133\t Validation MAE: 0.6076\tRMSE: 0.9903\n",
      "INFO:root:Iteration 1350:\t Loss: 2.9132\t Validation MAE: 0.6060\tRMSE: 0.9900\n",
      "INFO:root:Iteration 1400:\t Loss: 2.7154\t Validation MAE: 0.6044\tRMSE: 0.9896\n",
      "INFO:root:Iteration 1450:\t Loss: 2.8517\t Validation MAE: 0.6029\tRMSE: 0.9892\n",
      "INFO:root:Iteration 1500:\t Loss: 3.0685\t Validation MAE: 0.6016\tRMSE: 0.9890\n",
      "INFO:root:Iteration 1550:\t Loss: 3.4842\t Validation MAE: 0.6002\tRMSE: 0.9888\n",
      "INFO:root:Iteration 1600:\t Loss: 2.2630\t Validation MAE: 0.5989\tRMSE: 0.9885\n",
      "INFO:root:Iteration 1650:\t Loss: 3.3594\t Validation MAE: 0.5976\tRMSE: 0.9882\n",
      "INFO:root:Iteration 1700:\t Loss: 2.9157\t Validation MAE: 0.5965\tRMSE: 0.9878\n",
      "INFO:root:Iteration 1750:\t Loss: 2.7194\t Validation MAE: 0.5954\tRMSE: 0.9875\n",
      "INFO:root:Iteration 1800:\t Loss: 2.5602\t Validation MAE: 0.5942\tRMSE: 0.9874\n",
      "INFO:root:Iteration 1850:\t Loss: 2.4853\t Validation MAE: 0.5929\tRMSE: 0.9871\n",
      "INFO:root:Iteration 1900:\t Loss: 2.2595\t Validation MAE: 0.5918\tRMSE: 0.9868\n",
      "INFO:root:Iteration 1950:\t Loss: 2.6843\t Validation MAE: 0.5909\tRMSE: 0.9868\n"
     ]
    },
    {
     "name": "stdout",
     "output_type": "stream",
     "text": [
      "0.5898996706592428 0.9865765634678498\n"
     ]
    }
   ],
   "source": [
    "sk_imputer_mcar30 = SinkhornImputation_CMI(eps=epsilon_mcar30, batchsize=batchsize, lr=lr, niter=2000)\n",
    "sk_imp_mcar30, sk_maes30mcar, sk_rmses30mcar,sk_loss_mcar30 = sk_imputer_mcar30.fit_transform(data_mcar30, verbose=True, report_interval=50, X_true=ground_truth)\n",
    "#using numpy version of data\n",
    "sk_imp_mcar30_numpy = sk_imp_mcar30.detach().cpu().numpy()\n",
    "\n",
    "sk_mae_mcar30 = MAE(sk_imp_mcar30_numpy,ground_truth_numpy ,mask_mcar30)\n",
    "sk_rmse_mcar30 = RMSE(sk_imp_mcar30_numpy, ground_truth_numpy,mask_mcar30)\n",
    "print(sk_mae_mcar30,sk_rmse_mcar30)"
   ]
  },
  {
   "cell_type": "code",
   "execution_count": 12,
   "metadata": {},
   "outputs": [
    {
     "name": "stdout",
     "output_type": "stream",
     "text": [
      "[3.240521455636049, 2.7208808685694024, 3.4733470221266693, 2.8611949954307807, 2.218872251670016, 3.5109158452997677, 2.1116315145232907, 2.9814992047170943, 2.5816813138915937, 2.394842097395668, 3.0436051937558277, 2.5744140313441886, 2.460972714153689, 2.6817825737776695, 2.2555889079095506, 2.601630508279393, 2.340151516229774, 2.3281421963385984, 2.192563776075799, 2.4433084782236314, 2.738899445226368, 2.476273333685884, 2.4693183289960574, 2.331373681221456, 2.75526671719101, 2.3295333171757004, 2.7133230005900533, 2.913163871102526, 2.715436181488114, 2.8516782386658512, 3.0684807791352045, 3.4841785405205767, 2.2629535153069797, 3.3594243660002108, 2.9157223837635566, 2.71938557066921, 2.5602255889950287, 2.485328650657558, 2.259508610893746, 2.6843155369983585]\n"
     ]
    }
   ],
   "source": [
    "print(sk_loss_mcar30)\n",
    "#sk_loss_mcar30.clear"
   ]
  },
  {
   "cell_type": "code",
   "execution_count": 13,
   "metadata": {},
   "outputs": [
    {
     "data": {
      "image/png": "[encoded data removed]",
      "text/plain": [
       "<Figure size 800x500 with 1 Axes>"
      ]
     },
     "metadata": {},
     "output_type": "display_data"
    }
   ],
   "source": [
    "# Convert the list of losses to a NumPy array\n",
    "\n",
    "iterations = np.linspace(0, 2000, 50).astype(int)\n",
    "\n",
    "\n",
    "\n",
    "loss_values = sk_loss_mcar30\n",
    "\n",
    "\n",
    "# Assuming cmi_penalty_history is also a list, convert it to a NumPy array\n",
    "#cmi_penalty_history_numpy = np.array(cmi_penalty_history)\n",
    "\n",
    "# Total loss calculation\n",
    "#total_loss = sk_loss_mcar30_numpy + cmi_penalty_history_numpy\n",
    "if len(loss_values) > len(iterations):\n",
    "    loss_values = loss_values[:len(iterations)]\n",
    "elif len(loss_values) < len(iterations):\n",
    "    iterations = iterations[:len(loss_values)]\n",
    "\n",
    "\n",
    "\n",
    "# Plotting\n",
    "plt.figure(figsize=(8, 5))\n",
    "plt.plot(iterations, loss_values, color='b', linestyle='-', marker='o', label=\"Loss Value\")\n",
    "plt.xlabel(\"Iterations\")\n",
    "plt.ylabel(\"Loss Value\")\n",
    "plt.title(\"Loss Curve\")\n",
    "plt.legend()\n",
    "plt.grid(True)\n",
    "\n",
    "# Show the plot\n",
    "plt.show()\n",
    "\n"
   ]
  },
  {
   "cell_type": "code",
   "execution_count": 14,
   "metadata": {},
   "outputs": [
    {
     "data": {
      "text/plain": [
       "<function list.clear()>"
      ]
     },
     "execution_count": 14,
     "metadata": {},
     "output_type": "execute_result"
    }
   ],
   "source": [
    "loss_values.clear"
   ]
  },
  {
   "cell_type": "code",
   "execution_count": 15,
   "metadata": {},
   "outputs": [
    {
     "data": {
      "text/plain": [
       "tensor([[ 0.0342, -1.9031, -1.0623,  ..., -0.1770, -0.0781, -0.1962],\n",
       "        [-0.0171,  0.0283, -0.0150,  ..., -0.2188, -2.3267, -0.1962],\n",
       "        [-0.3154,  0.0416,  0.2453,  ..., -0.2188,  0.1150, -0.1962],\n",
       "        ...,\n",
       "        [-0.0506,  0.0416,  1.7536,  ..., -0.2188,  0.1887, -0.1962],\n",
       "        [ 0.4125,  0.0416, -1.0019,  ..., -0.2188,  0.0599, -0.0616],\n",
       "        [-0.0097,  0.0786, -0.1830,  ..., -0.2188,  0.2642, -0.1962]],\n",
       "       grad_fn=<IndexPutBackward0>)"
      ]
     },
     "execution_count": 15,
     "metadata": {},
     "output_type": "execute_result"
    }
   ],
   "source": [
    "sk_imp_mcar30"
   ]
  },
  {
   "cell_type": "code",
   "execution_count": 16,
   "metadata": {},
   "outputs": [],
   "source": [
    "import pandas as pd\n",
    "import numpy as np\n",
    "\n",
    "# Assuming 'data_imputed_df' is your dataset with z-scores\n",
    "# Get the mean and standard deviation for each column (feature) before transformation\n",
    "\n",
    "column_names = [\n",
    "    \"age\", \"workclass\", \"fnlwgt\", \"education-num\", \"marital-status\",\n",
    "    \"occupation\", \"relationship\", \"race\", \"sex\", \"capital-gain\", \"capital-loss\",\n",
    "    \"hours-per-week\", \"native-country\"\n",
    "]\n",
    "data = pd.DataFrame(Xy['data'], columns=column_names)\n",
    "mean_values_sex = data['sex'].mean()\n",
    "std_values_sex = data['sex'].std()\n",
    "\n",
    "mean_values_education = data['education-num'].mean()\n",
    "std_values_education = data['education-num'].std()\n",
    "# Reversing the z-score transformation\n",
    "def reverse_z_score_sex(d):\n",
    "    # Apply the reverse formula for each column\n",
    "    return (d * std_values_sex + mean_values_sex)\n",
    "\n",
    "def reverse_z_score_education(d):\n",
    "    # Apply the reverse formula for each column\n",
    "    return (d * std_values_education + mean_values_education)\n",
    "\n",
    "  \n",
    "\n",
    "\n"
   ]
  },
  {
   "cell_type": "code",
   "execution_count": 17,
   "metadata": {},
   "outputs": [
    {
     "name": "stdout",
     "output_type": "stream",
     "text": [
      "        age  workclass    fnlwgt  education-num  marital-status  occupation  \\\n",
      "0  0.034201  -1.903099 -1.062295       1.853618       -0.361395   -0.481130   \n",
      "1 -0.017096   0.028339 -0.015005       1.853618       -0.957783   -1.102577   \n",
      "2 -0.315390   0.041628  0.245284       1.198342        0.176626   -0.141848   \n",
      "3  1.093385  -0.040166  0.425853       1.220591       -0.957783    0.022188   \n",
      "4 -0.798015   0.041628  1.407393       1.853618        0.257111   -0.060020   \n",
      "5 -0.117111  -0.067902  0.897852       1.318448       -0.957783   -1.102577   \n",
      "6  0.790761  -0.005083 -0.279707       0.385888       -0.957783    0.251535   \n",
      "\n",
      "   relationship      race       sex  capital-gain  capital-loss  \\\n",
      "0     -0.433421 -0.403026  0.999996      0.142888     -0.177029   \n",
      "1      0.166132 -0.403026  1.505413     -0.097937     -0.218780   \n",
      "2     -0.350827 -0.403026  0.999996     -0.146733     -0.218780   \n",
      "3     -0.953975  2.481232  0.999996     -0.146733     -0.218919   \n",
      "4      0.081966  2.481232  2.000007     -0.080109     -0.218780   \n",
      "5     -0.350588 -0.459203  2.000007     -0.146733     -0.218780   \n",
      "6      1.247304  2.481232  2.000007     -0.146733     -0.218780   \n",
      "\n",
      "   hours-per-week  native-country  target  \n",
      "0       -0.078120       -0.196238       0  \n",
      "1       -2.326738       -0.196238       0  \n",
      "2        0.114979       -0.196238       0  \n",
      "3       -0.078120       -0.196238       0  \n",
      "4       -0.078120       -0.121084       0  \n",
      "5       -0.078120       -0.129604       0  \n",
      "6       -2.076892       -0.282395       0  \n",
      "Conditional Mutual Information I(sex; target | education-num): -1.7299338228238519\n"
     ]
    },
    {
     "name": "stderr",
     "output_type": "stream",
     "text": [
      "c:\\Users\\zhossai3\\AppData\\Local\\Programs\\Python\\Python312\\Lib\\site-packages\\sklearn\\metrics\\cluster\\_supervised.py:66: UserWarning: Clustering metrics expects discrete values but received continuous values for label, and multiclass values for target\n",
      "  warnings.warn(msg, UserWarning)\n",
      "c:\\Users\\zhossai3\\AppData\\Local\\Programs\\Python\\Python312\\Lib\\site-packages\\sklearn\\metrics\\cluster\\_supervised.py:66: UserWarning: Clustering metrics expects discrete values but received continuous values for label, and continuous values for target\n",
      "  warnings.warn(msg, UserWarning)\n",
      "c:\\Users\\zhossai3\\AppData\\Local\\Programs\\Python\\Python312\\Lib\\site-packages\\sklearn\\metrics\\cluster\\_supervised.py:66: UserWarning: Clustering metrics expects discrete values but received multiclass values for label, and continuous values for target\n",
      "  warnings.warn(msg, UserWarning)\n"
     ]
    }
   ],
   "source": [
    "import numpy as np\n",
    "import pandas as pd\n",
    "from sklearn.metrics import mutual_info_score\n",
    "from sklearn.preprocessing import KBinsDiscretizer\n",
    "\n",
    "# Replace this with the actual imputed dataset you are working with\n",
    "\n",
    "column_names = [\n",
    "    \"age\", \"workclass\", \"fnlwgt\", \"education-num\", \"marital-status\",\n",
    "    \"occupation\", \"relationship\", \"race\", \"sex\", \"capital-gain\", \"capital-loss\",\n",
    "    \"hours-per-week\", \"native-country\"\n",
    "]\n",
    "\n",
    "# Convert your numpy array into a pandas DataFrame (assuming your dataset is imputed)\n",
    "data_imputed_df = pd.DataFrame(sk_imp_mcar30_numpy, columns=column_names)\n",
    "data_imputed_df['target'] = Xy['target']\n",
    "data_imputed_df['sex'] = reverse_z_score_sex(data_imputed_df['sex'])\n",
    "data_imputed_df['education-num'] = reverse_z_score_sex(data_imputed_df['education-num'])\n",
    "\n",
    "\n",
    "# Now 'original_data' will contain the reversed values (original data)\n",
    "print(data_imputed_df.head(7))\n",
    "\n",
    "\n",
    "# Calculate Mutual Information between X and Y\n",
    "def compute_mutual_information(X, Y):\n",
    "    return mutual_info_score(X, Y)\n",
    "\n",
    "\n",
    "# Compute Mutual Information between 'sex' and 'age'\n",
    "mi_sex_target = compute_mutual_information(data_imputed_df['sex'], data_imputed_df['target'])\n",
    "\n",
    "# Compute Mutual Information between 'sex' and 'education-num'\n",
    "mi_sex_education = compute_mutual_information(data_imputed_df['sex'], data_imputed_df['education-num'])\n",
    "\n",
    "# Compute Mutual Information between 'age' and 'education-num'\n",
    "mi_target_education = compute_mutual_information(data_imputed_df['target'], data_imputed_df['education-num'])\n",
    "\n",
    "# Calculate Conditional Mutual Information: I(X; Y | Z)\n",
    "# I(sex; age | education-num) = I(sex; age) - I(sex; education-num) - I(age; education-num)\n",
    "cmi_sex_target_education = mi_sex_target - mi_sex_education - mi_target_education\n",
    "\n",
    "# Output the result\n",
    "print(f\"Conditional Mutual Information I(sex; target | education-num): {cmi_sex_target_education}\")\n"
   ]
  },
  {
   "cell_type": "code",
   "execution_count": 18,
   "metadata": {},
   "outputs": [
    {
     "data": {
      "text/plain": [
       "array([0, 2, 1, 3])"
      ]
     },
     "execution_count": 18,
     "metadata": {},
     "output_type": "execute_result"
    }
   ],
   "source": [
    "data_imputed_df['target'].unique()"
   ]
  },
  {
   "cell_type": "code",
   "execution_count": null,
   "metadata": {},
   "outputs": [],
   "source": []
  }
 ],
 "metadata": {
  "kernelspec": {
   "display_name": "Python 3",
   "language": "python",
   "name": "python3"
  },
  "language_info": {
   "codemirror_mode": {
    "name": "ipython",
    "version": 3
   },
   "file_extension": ".py",
   "mimetype": "text/x-python",
   "name": "python",
   "nbconvert_exporter": "python",
   "pygments_lexer": "ipython3",
   "version": "3.12.6"
  }
 },
 "nbformat": 4,
 "nbformat_minor": 2
}
