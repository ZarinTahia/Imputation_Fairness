{
 "cells": [
  {
   "cell_type": "code",
   "execution_count": 1,
   "metadata": {},
   "outputs": [
    {
     "name": "stdout",
     "output_type": "stream",
     "text": [
      "Requirement already satisfied: pot in c:\\users\\zhossai3\\appdata\\local\\programs\\python\\python312\\lib\\site-packages (0.9.4)\n",
      "Requirement already satisfied: numpy>=1.16 in c:\\users\\zhossai3\\appdata\\local\\programs\\python\\python312\\lib\\site-packages (from pot) (2.0.2)\n",
      "Requirement already satisfied: scipy>=1.6 in c:\\users\\zhossai3\\appdata\\local\\programs\\python\\python312\\lib\\site-packages (from pot) (1.15.2)\n",
      "Requirement already satisfied: torch in c:\\users\\zhossai3\\appdata\\local\\programs\\python\\python312\\lib\\site-packages (2.5.1)\n",
      "Requirement already satisfied: filelock in c:\\users\\zhossai3\\appdata\\local\\programs\\python\\python312\\lib\\site-packages (from torch) (3.16.1)\n",
      "Requirement already satisfied: typing-extensions>=4.8.0 in c:\\users\\zhossai3\\appdata\\local\\programs\\python\\python312\\lib\\site-packages (from torch) (4.12.2)\n",
      "Requirement already satisfied: networkx in c:\\users\\zhossai3\\appdata\\local\\programs\\python\\python312\\lib\\site-packages (from torch) (3.4.2)\n",
      "Requirement already satisfied: jinja2 in c:\\users\\zhossai3\\appdata\\local\\programs\\python\\python312\\lib\\site-packages (from torch) (3.1.4)\n",
      "Requirement already satisfied: fsspec in c:\\users\\zhossai3\\appdata\\local\\programs\\python\\python312\\lib\\site-packages (from torch) (2024.10.0)\n",
      "Requirement already satisfied: setuptools in c:\\users\\zhossai3\\appdata\\local\\programs\\python\\python312\\lib\\site-packages (from torch) (75.3.0)\n",
      "Requirement already satisfied: sympy==1.13.1 in c:\\users\\zhossai3\\appdata\\local\\programs\\python\\python312\\lib\\site-packages (from torch) (1.13.1)\n",
      "Requirement already satisfied: mpmath<1.4,>=1.1.0 in c:\\users\\zhossai3\\appdata\\local\\programs\\python\\python312\\lib\\site-packages (from sympy==1.13.1->torch) (1.3.0)\n",
      "Requirement already satisfied: MarkupSafe>=2.0 in c:\\users\\zhossai3\\appdata\\local\\programs\\python\\python312\\lib\\site-packages (from jinja2->torch) (2.1.5)\n",
      "Requirement already satisfied: geomloss in c:\\users\\zhossai3\\appdata\\local\\programs\\python\\python312\\lib\\site-packages (0.2.6)\n",
      "Requirement already satisfied: numpy in c:\\users\\zhossai3\\appdata\\local\\programs\\python\\python312\\lib\\site-packages (from geomloss) (2.0.2)\n",
      "Requirement already satisfied: torch in c:\\users\\zhossai3\\appdata\\local\\programs\\python\\python312\\lib\\site-packages (from geomloss) (2.5.1)\n",
      "Requirement already satisfied: filelock in c:\\users\\zhossai3\\appdata\\local\\programs\\python\\python312\\lib\\site-packages (from torch->geomloss) (3.16.1)\n",
      "Requirement already satisfied: typing-extensions>=4.8.0 in c:\\users\\zhossai3\\appdata\\local\\programs\\python\\python312\\lib\\site-packages (from torch->geomloss) (4.12.2)\n",
      "Requirement already satisfied: networkx in c:\\users\\zhossai3\\appdata\\local\\programs\\python\\python312\\lib\\site-packages (from torch->geomloss) (3.4.2)\n",
      "Requirement already satisfied: jinja2 in c:\\users\\zhossai3\\appdata\\local\\programs\\python\\python312\\lib\\site-packages (from torch->geomloss) (3.1.4)\n",
      "Requirement already satisfied: fsspec in c:\\users\\zhossai3\\appdata\\local\\programs\\python\\python312\\lib\\site-packages (from torch->geomloss) (2024.10.0)\n",
      "Requirement already satisfied: setuptools in c:\\users\\zhossai3\\appdata\\local\\programs\\python\\python312\\lib\\site-packages (from torch->geomloss) (75.3.0)\n",
      "Requirement already satisfied: sympy==1.13.1 in c:\\users\\zhossai3\\appdata\\local\\programs\\python\\python312\\lib\\site-packages (from torch->geomloss) (1.13.1)\n",
      "Requirement already satisfied: mpmath<1.4,>=1.1.0 in c:\\users\\zhossai3\\appdata\\local\\programs\\python\\python312\\lib\\site-packages (from sympy==1.13.1->torch->geomloss) (1.3.0)\n",
      "Requirement already satisfied: MarkupSafe>=2.0 in c:\\users\\zhossai3\\appdata\\local\\programs\\python\\python312\\lib\\site-packages (from jinja2->torch->geomloss) (2.1.5)\n",
      "Requirement already satisfied: wget in c:\\users\\zhossai3\\appdata\\local\\programs\\python\\python312\\lib\\site-packages (3.2)\n",
      "Requirement already satisfied: mdatagen in c:\\users\\zhossai3\\appdata\\local\\programs\\python\\python312\\lib\\site-packages (0.1.71)\n",
      "Requirement already satisfied: numpy>=1.25.0 in c:\\users\\zhossai3\\appdata\\local\\programs\\python\\python312\\lib\\site-packages (from mdatagen) (2.0.2)\n",
      "Requirement already satisfied: pandas>=2.0.3 in c:\\users\\zhossai3\\appdata\\local\\programs\\python\\python312\\lib\\site-packages (from mdatagen) (2.2.3)\n",
      "Requirement already satisfied: scikit-learn>=1.3.0 in c:\\users\\zhossai3\\appdata\\local\\programs\\python\\python312\\lib\\site-packages (from mdatagen) (1.5.2)\n",
      "Requirement already satisfied: missingno>=0.5.2 in c:\\users\\zhossai3\\appdata\\local\\programs\\python\\python312\\lib\\site-packages (from mdatagen) (0.5.2)\n",
      "Requirement already satisfied: scipy>=1.11.4 in c:\\users\\zhossai3\\appdata\\local\\programs\\python\\python312\\lib\\site-packages (from mdatagen) (1.15.2)\n",
      "Requirement already satisfied: matplotlib in c:\\users\\zhossai3\\appdata\\local\\programs\\python\\python312\\lib\\site-packages (from missingno>=0.5.2->mdatagen) (3.9.2)\n",
      "Requirement already satisfied: seaborn in c:\\users\\zhossai3\\appdata\\local\\programs\\python\\python312\\lib\\site-packages (from missingno>=0.5.2->mdatagen) (0.13.2)\n",
      "Requirement already satisfied: python-dateutil>=2.8.2 in c:\\users\\zhossai3\\appdata\\roaming\\python\\python312\\site-packages (from pandas>=2.0.3->mdatagen) (2.9.0.post0)\n",
      "Requirement already satisfied: pytz>=2020.1 in c:\\users\\zhossai3\\appdata\\local\\programs\\python\\python312\\lib\\site-packages (from pandas>=2.0.3->mdatagen) (2024.2)\n",
      "Requirement already satisfied: tzdata>=2022.7 in c:\\users\\zhossai3\\appdata\\local\\programs\\python\\python312\\lib\\site-packages (from pandas>=2.0.3->mdatagen) (2024.2)\n",
      "Requirement already satisfied: joblib>=1.2.0 in c:\\users\\zhossai3\\appdata\\local\\programs\\python\\python312\\lib\\site-packages (from scikit-learn>=1.3.0->mdatagen) (1.4.2)\n",
      "Requirement already satisfied: threadpoolctl>=3.1.0 in c:\\users\\zhossai3\\appdata\\local\\programs\\python\\python312\\lib\\site-packages (from scikit-learn>=1.3.0->mdatagen) (3.5.0)\n",
      "Requirement already satisfied: six>=1.5 in c:\\users\\zhossai3\\appdata\\roaming\\python\\python312\\site-packages (from python-dateutil>=2.8.2->pandas>=2.0.3->mdatagen) (1.16.0)\n",
      "Requirement already satisfied: contourpy>=1.0.1 in c:\\users\\zhossai3\\appdata\\local\\programs\\python\\python312\\lib\\site-packages (from matplotlib->missingno>=0.5.2->mdatagen) (1.3.0)\n",
      "Requirement already satisfied: cycler>=0.10 in c:\\users\\zhossai3\\appdata\\local\\programs\\python\\python312\\lib\\site-packages (from matplotlib->missingno>=0.5.2->mdatagen) (0.12.1)\n",
      "Requirement already satisfied: fonttools>=4.22.0 in c:\\users\\zhossai3\\appdata\\local\\programs\\python\\python312\\lib\\site-packages (from matplotlib->missingno>=0.5.2->mdatagen) (4.54.1)\n",
      "Requirement already satisfied: kiwisolver>=1.3.1 in c:\\users\\zhossai3\\appdata\\local\\programs\\python\\python312\\lib\\site-packages (from matplotlib->missingno>=0.5.2->mdatagen) (1.4.7)\n",
      "Requirement already satisfied: packaging>=20.0 in c:\\users\\zhossai3\\appdata\\roaming\\python\\python312\\site-packages (from matplotlib->missingno>=0.5.2->mdatagen) (24.1)\n",
      "Requirement already satisfied: pillow>=8 in c:\\users\\zhossai3\\appdata\\local\\programs\\python\\python312\\lib\\site-packages (from matplotlib->missingno>=0.5.2->mdatagen) (10.4.0)\n",
      "Requirement already satisfied: pyparsing>=2.3.1 in c:\\users\\zhossai3\\appdata\\local\\programs\\python\\python312\\lib\\site-packages (from matplotlib->missingno>=0.5.2->mdatagen) (3.1.4)\n"
     ]
    }
   ],
   "source": [
    "!pip install pot\n",
    "!pip install torch\n",
    "!pip install geomloss\n",
    "!pip install wget\n",
    "!pip install mdatagen"
   ]
  },
  {
   "cell_type": "code",
   "execution_count": 1,
   "metadata": {},
   "outputs": [
    {
     "name": "stderr",
     "output_type": "stream",
     "text": [
      "c:\\Users\\zhossai3\\AppData\\Local\\Programs\\Python\\Python312\\Lib\\site-packages\\torch\\__init__.py:1144: UserWarning: torch.set_default_tensor_type() is deprecated as of PyTorch 2.1, please use torch.set_default_dtype() and torch.set_default_device() as alternatives. (Triggered internally at C:\\actions-runner\\_work\\pytorch\\pytorch\\builder\\windows\\pytorch\\torch\\csrc\\tensor\\python_tensor.cpp:434.)\n",
      "  _C._set_default_tensor_type(t)\n"
     ]
    }
   ],
   "source": [
    "import numpy as np\n",
    "import torch\n",
    "import torch.nn as nn\n",
    "import pandas as pd\n",
    "\n",
    "from geomloss import SamplesLoss\n",
    "\n",
    "import ot\n",
    "\n",
    "import os\n",
    "import pickle as pkl\n",
    "import copy\n",
    "\n",
    "from sklearn.preprocessing import scale\n",
    "from sklearn.experimental import enable_iterative_imputer\n",
    "from sklearn.impute import SimpleImputer, IterativeImputer\n",
    "\n",
    "from utils import *\n",
    "from SoftImpute import softimpute, cv_softimpute\n",
    "#from DataSetLoader import dataset_loader, ground_truth\n",
    "from SinkhornImputation import SinkhornImputation\n",
    "from RR_imputer import RRimputer\n",
    "import matplotlib.pyplot as plt\n",
    "from Inject_Missing_Values import *\n",
    "\n",
    "\n",
    "import argparse\n",
    "import logging\n",
    "logger = logging.getLogger()\n",
    "logger.setLevel(logging.INFO)\n",
    "logging.debug(\"test\")\n",
    "import pandas as pd\n",
    "\n",
    "torch.set_default_tensor_type('torch.DoubleTensor')"
   ]
  },
  {
   "cell_type": "markdown",
   "metadata": {},
   "source": [
    "Testing the new Missing function"
   ]
  },
  {
   "cell_type": "code",
   "execution_count": 2,
   "metadata": {},
   "outputs": [],
   "source": [
    "d =  {\n",
    "    \"A\": [10,10,20,40,70,40,50,80,10,40,20,60,50,30,20],\n",
    "    \"B\": [1,1,2,4,7,4,5,8,1,4,2,6,5,3,2],\n",
    "    \"C\":[15,15,30,60,105,60,75,120,15,60,30,90,75,45,30],\n",
    "    \"D\":[45,30,60,32,58,63,25,55,46,78,92,60,34,27,35]\n",
    "\n",
    "}\n",
    "data = pd.DataFrame(d)"
   ]
  },
  {
   "cell_type": "code",
   "execution_count": 3,
   "metadata": {},
   "outputs": [
    {
     "name": "stdout",
     "output_type": "stream",
     "text": [
      "     A  B    C   D\n",
      "0   10  1   15  45\n",
      "1   10  1   15  30\n",
      "2   20  2   30  60\n",
      "3   40  4   60  32\n",
      "4   70  7  105  58\n",
      "5   40  4   60  63\n",
      "6   50  5   75  25\n",
      "7   80  8  120  55\n",
      "8   10  1   15  46\n",
      "9   40  4   60  78\n",
      "10  20  2   30  92\n",
      "11  60  6   90  60\n",
      "12  50  5   75  34\n",
      "13  30  3   45  27\n",
      "14  20  2   30  35\n"
     ]
    }
   ],
   "source": [
    "print(data)"
   ]
  },
  {
   "cell_type": "code",
   "execution_count": 4,
   "metadata": {},
   "outputs": [],
   "source": [
    "generator = Inject_Missing_Values()"
   ]
  },
  {
   "cell_type": "markdown",
   "metadata": {},
   "source": [
    "MCAR"
   ]
  },
  {
   "cell_type": "code",
   "execution_count": 21,
   "metadata": {},
   "outputs": [
    {
     "name": "stdout",
     "output_type": "stream",
     "text": [
      "A    1\n",
      "B    0\n",
      "C    3\n",
      "D    2\n",
      "dtype: int64\n",
      "       A  B      C     D\n",
      "0    NaN  1    NaN  45.0\n",
      "1   10.0  1   15.0  30.0\n",
      "2   20.0  2   30.0  60.0\n",
      "3   40.0  4    NaN  32.0\n",
      "4   70.0  7  105.0  58.0\n",
      "5   40.0  4   60.0  63.0\n",
      "6   50.0  5   75.0  25.0\n",
      "7   80.0  8  120.0  55.0\n",
      "8   10.0  1   15.0  46.0\n",
      "9   40.0  4   60.0  78.0\n",
      "10  20.0  2   30.0  92.0\n",
      "11  60.0  6   90.0   NaN\n",
      "12  50.0  5    NaN  34.0\n",
      "13  30.0  3   45.0  27.0\n",
      "14  20.0  2   30.0   NaN\n",
      "A    14\n",
      "B    15\n",
      "C    12\n",
      "D    13\n",
      "dtype: int64\n",
      "{'14,1': 'MCAR', '10,3': 'MCAR', '9,1': 'MCAR', '1,2': 'MCAR', '5,0': 'MCAR', '2,3': 'MCAR', '12,2': 'MCAR', '9,0': 'MCAR', '10,2': 'MCAR', '2,1': 'MCAR', '13,3': 'MCAR', '7,0': 'MCAR', '5,1': 'MCAR', '1,3': 'MCAR', '8,1': 'MCAR', '11,1': 'MCAR', '5,2': 'MCAR', '4,1': 'MCAR', '3,2': 'MCAR', '11,0': 'MCAR', '2,0': 'MCAR', '11,2': 'MCAR', '6,0': 'MCAR', '0,2': 'MCAR', '4,2': 'MCAR', '1,0': 'MCAR', '3,0': 'MCAR', '0,0': 'MCAR', '14,2': 'MCAR', '3,3': 'MCAR', '14,0': 'MCAR', '12,0': 'MCAR', '13,2': 'MCAR', '6,2': 'MCAR', '13,0': 'MCAR', '7,3': 'MCAR', '7,2': 'MCAR', '3,1': 'MCAR', '6,3': 'MCAR', '2,2': 'MCAR', '8,3': 'MCAR', '13,1': 'MCAR', '1,1': 'MCAR', '10,0': 'MCAR', '11,3': 'MCAR', '14,3': 'MCAR'}\n"
     ]
    }
   ],
   "source": [
    "selected_columns = ['A','B']\n",
    "miss_mcar,index_mcar = generator.MCAR(data,missing_rate=10)\n",
    "print(miss_mcar.isna().sum())\n",
    "\n",
    "\n",
    "print(miss_mcar)\n",
    "print(miss_mcar.notna().sum())\n",
    "print(index_mcar)"
   ]
  },
  {
   "cell_type": "code",
   "execution_count": 22,
   "metadata": {},
   "outputs": [
    {
     "name": "stdout",
     "output_type": "stream",
     "text": [
      "A     6.666667\n",
      "B     0.000000\n",
      "C    20.000000\n",
      "D    13.333333\n",
      "dtype: float64\n"
     ]
    }
   ],
   "source": [
    "missing_percentage = (miss_mcar.isnull().sum() / len(miss_mcar)) * 100\n",
    "print(missing_percentage)\n"
   ]
  },
  {
   "cell_type": "code",
   "execution_count": 23,
   "metadata": {},
   "outputs": [
    {
     "name": "stdout",
     "output_type": "stream",
     "text": [
      "Total Missing Percentage: 10.00%\n"
     ]
    }
   ],
   "source": [
    "total_missing_percentage = miss_mcar.isnull().sum().sum() / miss_mcar.size * 100\n",
    "print(f\"Total Missing Percentage: {total_missing_percentage:.2f}%\")\n"
   ]
  },
  {
   "cell_type": "markdown",
   "metadata": {},
   "source": [
    "MAR\n"
   ]
  },
  {
   "cell_type": "code",
   "execution_count": 24,
   "metadata": {},
   "outputs": [],
   "source": [
    "\n",
    "\n",
    "dependencies_MAR = {\n",
    "    \"A\": {\n",
    "        \"influencers\": [\"C\",\"B\"],\n",
    "        \"condition\": lambda row: row[\"C\"]+row[\"B\"] > 30  # Just a boolean condition\n",
    "          # Separate probability function\n",
    "    },\n",
    "    \"B\": {\n",
    "        \"influencers\": [\"C\"],\n",
    "        \"condition\": lambda row: True,\n",
    "        \"probability\": lambda row: 0.2 if row[\"C\"] < 30 else 0.1\n",
    "    }\n",
    "}"
   ]
  },
  {
   "cell_type": "code",
   "execution_count": 30,
   "metadata": {},
   "outputs": [],
   "source": [
    "miss_mar,index_mar = generator.MAR(miss_mcar,dependencies_MAR,missing_rate=15)"
   ]
  },
  {
   "cell_type": "code",
   "execution_count": 26,
   "metadata": {},
   "outputs": [
    {
     "name": "stdout",
     "output_type": "stream",
     "text": [
      "{'14,1': 'MCAR', '10,3': 'MCAR', '9,1': 'MCAR', '1,2': 'MCAR', '5,0': 'MAR,MCAR', '2,3': 'MCAR', '12,2': 'MCAR', '9,0': 'MAR,MCAR', '10,2': 'MCAR', '2,1': 'MCAR', '13,3': 'MCAR', '7,0': 'MAR,MCAR', '5,1': 'MCAR', '1,3': 'MCAR', '8,1': 'MCAR', '11,1': 'MCAR', '5,2': 'MCAR', '4,1': 'MCAR', '3,2': 'MCAR', '11,0': 'MAR,MCAR', '2,0': 'MAR,MCAR', '11,2': 'MCAR', '6,0': 'MAR,MCAR', '0,2': 'MCAR', '4,2': 'MCAR', '1,0': 'MCAR', '3,0': 'MCAR', '0,0': 'MCAR', '14,2': 'MCAR', '3,3': 'MCAR', '14,0': 'MAR,MCAR', '12,0': 'MCAR', '13,2': 'MCAR', '6,2': 'MCAR', '13,0': 'MAR,MCAR', '7,3': 'MCAR', '7,2': 'MCAR', '3,1': 'MCAR', '6,3': 'MCAR', '2,2': 'MCAR', '8,3': 'MCAR', '13,1': 'MCAR', '1,1': 'MCAR', '10,0': 'MAR,MCAR', '11,3': 'MCAR', '14,3': 'MCAR'}\n"
     ]
    }
   ],
   "source": [
    "print(index_mar)"
   ]
  },
  {
   "cell_type": "code",
   "execution_count": 31,
   "metadata": {},
   "outputs": [
    {
     "name": "stdout",
     "output_type": "stream",
     "text": [
      "       A    B      C     D\n",
      "0    NaN  1.0    NaN  45.0\n",
      "1   10.0  1.0   15.0  30.0\n",
      "2    NaN  2.0   30.0  60.0\n",
      "3   40.0  4.0    NaN  32.0\n",
      "4    NaN  7.0  105.0  58.0\n",
      "5   40.0  4.0   60.0  63.0\n",
      "6    NaN  NaN   75.0  25.0\n",
      "7   80.0  8.0  120.0  55.0\n",
      "8   10.0  1.0   15.0  46.0\n",
      "9   40.0  4.0   60.0  78.0\n",
      "10   NaN  2.0   30.0  92.0\n",
      "11   NaN  NaN   90.0   NaN\n",
      "12  50.0  5.0    NaN  34.0\n",
      "13   NaN  3.0   45.0  27.0\n",
      "14   NaN  2.0   30.0   NaN\n"
     ]
    }
   ],
   "source": [
    "print(miss_mar)"
   ]
  },
  {
   "cell_type": "code",
   "execution_count": 32,
   "metadata": {},
   "outputs": [
    {
     "name": "stdout",
     "output_type": "stream",
     "text": [
      "Total Missing Percentage: 25.00%\n"
     ]
    }
   ],
   "source": [
    "total_missing_percentage = miss_mar.isnull().sum().sum() / miss_mar.size * 100\n",
    "print(f\"Total Missing Percentage: {total_missing_percentage:.2f}%\")"
   ]
  },
  {
   "cell_type": "markdown",
   "metadata": {},
   "source": [
    "MNAR"
   ]
  },
  {
   "cell_type": "code",
   "execution_count": 33,
   "metadata": {},
   "outputs": [],
   "source": [
    "dependencies_MNAR = {\n",
    "    \"D\": {\n",
    "        \"condition\": lambda row: True,\n",
    "        \"probability\": lambda row: 0.3 if row[\"D\"] < 30 else 0.1  # High earners are more likely to not report salary\n",
    "    },\n",
    "    \"C\": {\n",
    "        \"condition\": lambda row: row[\"C\"] > 50, # High BP patients may avoid reporting BP readings\n",
    "        \"probability\": lambda row: 0.2 \n",
    "    },\n",
    "    \n",
    "}"
   ]
  },
  {
   "cell_type": "code",
   "execution_count": 43,
   "metadata": {},
   "outputs": [],
   "source": [
    "miss_mnar,index_mnar = generator.MNAR(data,dependencies_MNAR,missing_rate=10)"
   ]
  },
  {
   "cell_type": "code",
   "execution_count": 44,
   "metadata": {},
   "outputs": [
    {
     "name": "stdout",
     "output_type": "stream",
     "text": [
      "     A  B      C     D\n",
      "0   10  1   15.0  45.0\n",
      "1   10  1   15.0  30.0\n",
      "2   20  2   30.0   NaN\n",
      "3   40  4    NaN  32.0\n",
      "4   70  7  105.0  58.0\n",
      "5   40  4    NaN  63.0\n",
      "6   50  5    NaN  25.0\n",
      "7   80  8  120.0  55.0\n",
      "8   10  1   15.0  46.0\n",
      "9   40  4    NaN  78.0\n",
      "10  20  2   30.0   NaN\n",
      "11  60  6   90.0  60.0\n",
      "12  50  5   75.0  34.0\n",
      "13  30  3   45.0  27.0\n",
      "14  20  2   30.0  35.0\n"
     ]
    }
   ],
   "source": [
    "print(miss_mnar)"
   ]
  },
  {
   "cell_type": "code",
   "execution_count": 46,
   "metadata": {},
   "outputs": [
    {
     "name": "stdout",
     "output_type": "stream",
     "text": [
      "{'14,1': 'MCAR', '10,3': 'MNAR,MCAR', '9,1': 'MCAR', '1,2': 'MCAR', '5,0': 'MAR,MCAR', '2,3': 'MNAR,MCAR', '12,2': 'MNAR,MCAR', '9,0': 'MAR,MCAR', '10,2': 'MCAR', '2,1': 'MCAR', '13,3': 'MNAR,MCAR', '7,0': 'MAR,MCAR', '5,1': 'MCAR', '1,3': 'MCAR', '8,1': 'MCAR', '11,1': 'MAR,MCAR', '5,2': 'MNAR,MCAR', '4,1': 'MCAR', '3,2': 'MNAR,MCAR', '11,0': 'MAR,MNAR,MCAR', '2,0': 'MAR,MCAR', '11,2': 'MNAR,MCAR', '6,0': 'MAR,MNAR,MCAR', '0,2': 'MCAR', '4,2': 'MNAR,MCAR', '1,0': 'MCAR', '3,0': 'MCAR', '0,0': 'MCAR', '14,2': 'MCAR', '3,3': 'MNAR,MCAR', '14,0': 'MAR,MCAR', '12,0': 'MCAR', '13,2': 'MCAR', '6,2': 'MNAR,MCAR', '13,0': 'MAR,MCAR', '7,3': 'MCAR', '7,2': 'MNAR,MCAR', '3,1': 'MCAR', '6,3': 'MNAR,MCAR', '2,2': 'MCAR', '8,3': 'MNAR,MCAR', '13,1': 'MCAR', '1,1': 'MCAR', '10,0': 'MAR,MCAR', '11,3': 'MNAR,MCAR', '14,3': 'MCAR', '12,1': 'MAR', '6,1': 'MAR', '4,0': 'MAR', '9,2': 'MNAR', '9,3': 'MNAR', '0,3': 'MNAR'}\n"
     ]
    }
   ],
   "source": [
    "print(index_mnar)"
   ]
  },
  {
   "cell_type": "code",
   "execution_count": 45,
   "metadata": {},
   "outputs": [
    {
     "name": "stdout",
     "output_type": "stream",
     "text": [
      "Total Missing Percentage: 10.00%\n"
     ]
    }
   ],
   "source": [
    "total_missing_percentage = miss_mnar.isnull().sum().sum() / miss_mnar.size * 100\n",
    "print(f\"Total Missing Percentage: {total_missing_percentage:.2f}%\")"
   ]
  }
 ],
 "metadata": {
  "kernelspec": {
   "display_name": "Python 3",
   "language": "python",
   "name": "python3"
  },
  "language_info": {
   "codemirror_mode": {
    "name": "ipython",
    "version": 3
   },
   "file_extension": ".py",
   "mimetype": "text/x-python",
   "name": "python",
   "nbconvert_exporter": "python",
   "pygments_lexer": "ipython3",
   "version": "3.12.6"
  }
 },
 "nbformat": 4,
 "nbformat_minor": 2
}
