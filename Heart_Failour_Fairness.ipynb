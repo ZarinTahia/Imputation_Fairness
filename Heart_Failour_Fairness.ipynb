{
 "cells": [
  {
   "cell_type": "code",
   "execution_count": 1,
   "metadata": {},
   "outputs": [
    {
     "name": "stdout",
     "output_type": "stream",
     "text": [
      "Requirement already satisfied: pot in c:\\users\\zhossai3\\appdata\\local\\programs\\python\\python312\\lib\\site-packages (0.9.4)\n",
      "Requirement already satisfied: numpy>=1.16 in c:\\users\\zhossai3\\appdata\\local\\programs\\python\\python312\\lib\\site-packages (from pot) (2.1.2)\n",
      "Requirement already satisfied: scipy>=1.6 in c:\\users\\zhossai3\\appdata\\local\\programs\\python\\python312\\lib\\site-packages (from pot) (1.14.1)\n"
     ]
    },
    {
     "name": "stderr",
     "output_type": "stream",
     "text": [
      "\n",
      "[notice] A new release of pip is available: 24.2 -> 24.3.1\n",
      "[notice] To update, run: python.exe -m pip install --upgrade pip\n"
     ]
    },
    {
     "name": "stdout",
     "output_type": "stream",
     "text": [
      "Requirement already satisfied: torch in c:\\users\\zhossai3\\appdata\\local\\programs\\python\\python312\\lib\\site-packages (2.5.1)\n",
      "Requirement already satisfied: filelock in c:\\users\\zhossai3\\appdata\\local\\programs\\python\\python312\\lib\\site-packages (from torch) (3.16.1)\n",
      "Requirement already satisfied: typing-extensions>=4.8.0 in c:\\users\\zhossai3\\appdata\\local\\programs\\python\\python312\\lib\\site-packages (from torch) (4.12.2)\n",
      "Requirement already satisfied: networkx in c:\\users\\zhossai3\\appdata\\local\\programs\\python\\python312\\lib\\site-packages (from torch) (3.4.2)\n",
      "Requirement already satisfied: jinja2 in c:\\users\\zhossai3\\appdata\\local\\programs\\python\\python312\\lib\\site-packages (from torch) (3.1.4)\n",
      "Requirement already satisfied: fsspec in c:\\users\\zhossai3\\appdata\\local\\programs\\python\\python312\\lib\\site-packages (from torch) (2024.10.0)\n",
      "Requirement already satisfied: setuptools in c:\\users\\zhossai3\\appdata\\local\\programs\\python\\python312\\lib\\site-packages (from torch) (75.3.0)\n",
      "Requirement already satisfied: sympy==1.13.1 in c:\\users\\zhossai3\\appdata\\local\\programs\\python\\python312\\lib\\site-packages (from torch) (1.13.1)\n",
      "Requirement already satisfied: mpmath<1.4,>=1.1.0 in c:\\users\\zhossai3\\appdata\\local\\programs\\python\\python312\\lib\\site-packages (from sympy==1.13.1->torch) (1.3.0)\n",
      "Requirement already satisfied: MarkupSafe>=2.0 in c:\\users\\zhossai3\\appdata\\local\\programs\\python\\python312\\lib\\site-packages (from jinja2->torch) (3.0.2)\n"
     ]
    },
    {
     "name": "stderr",
     "output_type": "stream",
     "text": [
      "\n",
      "[notice] A new release of pip is available: 24.2 -> 24.3.1\n",
      "[notice] To update, run: python.exe -m pip install --upgrade pip\n"
     ]
    },
    {
     "name": "stdout",
     "output_type": "stream",
     "text": [
      "Requirement already satisfied: geomloss in c:\\users\\zhossai3\\appdata\\local\\programs\\python\\python312\\lib\\site-packages (0.2.6)\n",
      "Requirement already satisfied: numpy in c:\\users\\zhossai3\\appdata\\local\\programs\\python\\python312\\lib\\site-packages (from geomloss) (2.1.2)\n",
      "Requirement already satisfied: torch in c:\\users\\zhossai3\\appdata\\local\\programs\\python\\python312\\lib\\site-packages (from geomloss) (2.5.1)\n",
      "Requirement already satisfied: filelock in c:\\users\\zhossai3\\appdata\\local\\programs\\python\\python312\\lib\\site-packages (from torch->geomloss) (3.16.1)\n",
      "Requirement already satisfied: typing-extensions>=4.8.0 in c:\\users\\zhossai3\\appdata\\local\\programs\\python\\python312\\lib\\site-packages (from torch->geomloss) (4.12.2)\n",
      "Requirement already satisfied: networkx in c:\\users\\zhossai3\\appdata\\local\\programs\\python\\python312\\lib\\site-packages (from torch->geomloss) (3.4.2)\n",
      "Requirement already satisfied: jinja2 in c:\\users\\zhossai3\\appdata\\local\\programs\\python\\python312\\lib\\site-packages (from torch->geomloss) (3.1.4)\n",
      "Requirement already satisfied: fsspec in c:\\users\\zhossai3\\appdata\\local\\programs\\python\\python312\\lib\\site-packages (from torch->geomloss) (2024.10.0)\n",
      "Requirement already satisfied: setuptools in c:\\users\\zhossai3\\appdata\\local\\programs\\python\\python312\\lib\\site-packages (from torch->geomloss) (75.3.0)\n",
      "Requirement already satisfied: sympy==1.13.1 in c:\\users\\zhossai3\\appdata\\local\\programs\\python\\python312\\lib\\site-packages (from torch->geomloss) (1.13.1)\n",
      "Requirement already satisfied: mpmath<1.4,>=1.1.0 in c:\\users\\zhossai3\\appdata\\local\\programs\\python\\python312\\lib\\site-packages (from sympy==1.13.1->torch->geomloss) (1.3.0)\n",
      "Requirement already satisfied: MarkupSafe>=2.0 in c:\\users\\zhossai3\\appdata\\local\\programs\\python\\python312\\lib\\site-packages (from jinja2->torch->geomloss) (3.0.2)\n"
     ]
    },
    {
     "name": "stderr",
     "output_type": "stream",
     "text": [
      "\n",
      "[notice] A new release of pip is available: 24.2 -> 24.3.1\n",
      "[notice] To update, run: python.exe -m pip install --upgrade pip\n"
     ]
    },
    {
     "name": "stdout",
     "output_type": "stream",
     "text": [
      "Requirement already satisfied: wget in c:\\users\\zhossai3\\appdata\\local\\programs\\python\\python312\\lib\\site-packages (3.2)\n"
     ]
    },
    {
     "name": "stderr",
     "output_type": "stream",
     "text": [
      "\n",
      "[notice] A new release of pip is available: 24.2 -> 24.3.1\n",
      "[notice] To update, run: python.exe -m pip install --upgrade pip\n"
     ]
    }
   ],
   "source": [
    "!pip install pot\n",
    "!pip install torch\n",
    "!pip install geomloss\n",
    "!pip install wget"
   ]
  },
  {
   "cell_type": "code",
   "execution_count": 2,
   "metadata": {},
   "outputs": [
    {
     "name": "stderr",
     "output_type": "stream",
     "text": [
      "c:\\Users\\zhossai3\\AppData\\Local\\Programs\\Python\\Python312\\Lib\\site-packages\\torch\\__init__.py:1144: UserWarning: torch.set_default_tensor_type() is deprecated as of PyTorch 2.1, please use torch.set_default_dtype() and torch.set_default_device() as alternatives. (Triggered internally at C:\\actions-runner\\_work\\pytorch\\pytorch\\builder\\windows\\pytorch\\torch\\csrc\\tensor\\python_tensor.cpp:434.)\n",
      "  _C._set_default_tensor_type(t)\n"
     ]
    }
   ],
   "source": [
    "import numpy as np\n",
    "import torch\n",
    "import torch.nn as nn\n",
    "import pandas as pd\n",
    "\n",
    "from geomloss import SamplesLoss\n",
    "\n",
    "import ot\n",
    "\n",
    "import os\n",
    "import pickle as pkl\n",
    "import copy\n",
    "\n",
    "from sklearn.preprocessing import scale\n",
    "from sklearn.experimental import enable_iterative_imputer\n",
    "from sklearn.impute import SimpleImputer, IterativeImputer\n",
    "\n",
    "from utils import *\n",
    "from SoftImpute import softimpute, cv_softimpute\n",
    "from DataSetLoader import dataset_loader, ground_truth\n",
    "from SinkhornImputation import SinkhornImputation\n",
    "from Sinkhorn_CMI import SinkhornImputation_CMI\n",
    "from RR_imputer import RRimputer\n",
    "import matplotlib.pyplot as plt\n",
    "\n",
    "import argparse\n",
    "import logging\n",
    "logger = logging.getLogger()\n",
    "logger.setLevel(logging.INFO)\n",
    "logging.debug(\"test\")\n",
    "\n",
    "torch.set_default_tensor_type('torch.DoubleTensor')"
   ]
  },
  {
   "cell_type": "code",
   "execution_count": 3,
   "metadata": {},
   "outputs": [],
   "source": [
    "Xy = {}\n",
    "with open(r'C:\\Users\\zhossai3\\Desktop\\My code\\OT+Fairness\\Data\\Heart Failour\\heart_failour.csv', 'rb') as f:\n",
    "        df = pd.read_csv(f, delimiter=',', header = 0)\n",
    "        Xy['data'] = df.values[:, :-1].astype('float')\n",
    "        Xy['target'] =  df.values[:, -1]"
   ]
  },
  {
   "cell_type": "code",
   "execution_count": 4,
   "metadata": {},
   "outputs": [
    {
     "name": "stdout",
     "output_type": "stream",
     "text": [
      "<class 'numpy.ndarray'>\n"
     ]
    }
   ],
   "source": [
    "ground_truth_numpy = scale(Xy['data'])\n",
    "print(type(ground_truth_numpy))"
   ]
  },
  {
   "cell_type": "code",
   "execution_count": 5,
   "metadata": {},
   "outputs": [
    {
     "name": "stdout",
     "output_type": "stream",
     "text": [
      "4.983762314391507\n",
      "-7.154995235672277\n",
      "5.418081863094446e-17\n",
      "-0.2675958608301924\n",
      "1.0\n"
     ]
    }
   ],
   "source": [
    "print(np.max(ground_truth_numpy))\n",
    "print(np.min(ground_truth_numpy))\n",
    "print(np.mean(ground_truth_numpy))\n",
    "print(np.median(ground_truth_numpy))\n",
    "print(np.std(ground_truth_numpy))"
   ]
  },
  {
   "cell_type": "code",
   "execution_count": 6,
   "metadata": {},
   "outputs": [
    {
     "name": "stdout",
     "output_type": "stream",
     "text": [
      "[[-1.4331398  -0.51595242 -1.70557305 ... -0.8235563  -0.83243239\n",
      "  -1.05211381]\n",
      " [-0.47848359  1.93816322 -0.53099236 ... -0.8235563   0.10566353\n",
      "   0.59607813]\n",
      " [-1.75135854 -0.51595242 -1.70557305 ... -0.8235563  -0.83243239\n",
      "  -1.05211381]\n",
      " ...\n",
      " [ 0.37009972 -0.51595242  0.64358833 ...  1.21424608  0.29328271\n",
      "   0.59607813]\n",
      " [ 0.37009972  1.93816322 -1.70557305 ... -0.8235563  -0.83243239\n",
      "   0.59607813]\n",
      " [-1.64528563 -0.51595242 -0.53099236 ... -0.8235563  -0.83243239\n",
      "  -1.05211381]]\n"
     ]
    }
   ],
   "source": [
    "print(ground_truth_numpy)"
   ]
  },
  {
   "cell_type": "code",
   "execution_count": 7,
   "metadata": {},
   "outputs": [
    {
     "name": "stdout",
     "output_type": "stream",
     "text": [
      "(918, 11)\n",
      "tensor(0)\n"
     ]
    }
   ],
   "source": [
    "print(ground_truth_numpy.shape)\n",
    "ground_truth = torch.from_numpy(ground_truth_numpy)\n",
    "print(ground_truth.isnan().sum())"
   ]
  },
  {
   "cell_type": "code",
   "execution_count": 8,
   "metadata": {},
   "outputs": [
    {
     "name": "stdout",
     "output_type": "stream",
     "text": [
      "Percentage of missing values: 30.58%\n"
     ]
    }
   ],
   "source": [
    "#30% MCAR\n",
    "np.random.seed(42)\n",
    "\n",
    "p_macr30 = 0.301\n",
    "\n",
    "\n",
    "mask_mcar30 = np.random.rand(*ground_truth.shape) < p_macr30  # True for missing values, false for others\n",
    "data_mcar30 = np.copy(ground_truth)\n",
    "\n",
    "# Apply the mask to set the selected values to NaN\n",
    "data_mcar30[mask_mcar30] = np.nan\n",
    "\n",
    "# Convert to a torch tensor\n",
    "data_mcar30 = torch.from_numpy(data_mcar30)\n",
    "\n",
    "# Calculate the percentage of missing values\n",
    "missing_values_mcar30 = torch.isnan(data_mcar30)  # Create a boolean tensor where NaNs are True\n",
    "missing_percentage_mcar30 = torch.sum(missing_values_mcar30).item() / data_mcar30.numel() * 100  # Calculate the percentage of NaNs\n",
    "print(f\"Percentage of missing values: {missing_percentage_mcar30:.2f}%\")"
   ]
  },
  {
   "cell_type": "code",
   "execution_count": 9,
   "metadata": {},
   "outputs": [],
   "source": [
    "data_mcar30_numpy = data_mcar30.detach().cpu().numpy()"
   ]
  },
  {
   "cell_type": "code",
   "execution_count": 10,
   "metadata": {},
   "outputs": [
    {
     "name": "stdout",
     "output_type": "stream",
     "text": [
      "0.3\n"
     ]
    }
   ],
   "source": [
    "#sinkhorn\n",
    "n_mcar30, d_mcar30 = data_mcar30.shape\n",
    "batchsize = 128 # If the batch size is larger than half the dataset's size,\n",
    "                # it will be redefined in the imputation methods.\n",
    "lr = 1e-2\n",
    "#epsilon_mcar30 = pick_epsilon(data_mcar30)\n",
    "epsilon_mcar30 = 0.3\n",
    "print(epsilon_mcar30)\n"
   ]
  },
  {
   "cell_type": "code",
   "execution_count": 11,
   "metadata": {},
   "outputs": [
    {
     "name": "stderr",
     "output_type": "stream",
     "text": [
      "INFO:root:Iteration 0:\t Loss: 1.9367\t Validation MAE: 0.8431\tRMSE: 0.9999\n",
      "INFO:root:Iteration 50:\t Loss: 1.5578\t Validation MAE: 0.7671\tRMSE: 0.9779\n",
      "INFO:root:Iteration 100:\t Loss: 1.6491\t Validation MAE: 0.7387\tRMSE: 0.9735\n",
      "INFO:root:Iteration 150:\t Loss: 1.7652\t Validation MAE: 0.7203\tRMSE: 0.9719\n",
      "INFO:root:Iteration 200:\t Loss: 1.5384\t Validation MAE: 0.7098\tRMSE: 0.9711\n",
      "INFO:root:Iteration 250:\t Loss: 1.5480\t Validation MAE: 0.7012\tRMSE: 0.9701\n",
      "INFO:root:Iteration 300:\t Loss: 1.6003\t Validation MAE: 0.6969\tRMSE: 0.9720\n",
      "INFO:root:Iteration 350:\t Loss: 1.9432\t Validation MAE: 0.6924\tRMSE: 0.9720\n",
      "INFO:root:Iteration 400:\t Loss: 1.6590\t Validation MAE: 0.6882\tRMSE: 0.9724\n",
      "INFO:root:Iteration 450:\t Loss: 1.7237\t Validation MAE: 0.6882\tRMSE: 0.9755\n",
      "INFO:root:Iteration 500:\t Loss: 1.5162\t Validation MAE: 0.6857\tRMSE: 0.9747\n",
      "INFO:root:Iteration 550:\t Loss: 1.7288\t Validation MAE: 0.6837\tRMSE: 0.9753\n",
      "INFO:root:Iteration 600:\t Loss: 1.8153\t Validation MAE: 0.6813\tRMSE: 0.9756\n",
      "INFO:root:Iteration 650:\t Loss: 1.4845\t Validation MAE: 0.6809\tRMSE: 0.9756\n",
      "INFO:root:Iteration 700:\t Loss: 2.0372\t Validation MAE: 0.6795\tRMSE: 0.9761\n",
      "INFO:root:Iteration 750:\t Loss: 1.7831\t Validation MAE: 0.6796\tRMSE: 0.9774\n",
      "INFO:root:Iteration 800:\t Loss: 1.7358\t Validation MAE: 0.6786\tRMSE: 0.9773\n",
      "INFO:root:Iteration 850:\t Loss: 1.4718\t Validation MAE: 0.6778\tRMSE: 0.9769\n",
      "INFO:root:Iteration 900:\t Loss: 1.6025\t Validation MAE: 0.6773\tRMSE: 0.9777\n",
      "INFO:root:Iteration 950:\t Loss: 1.7097\t Validation MAE: 0.6769\tRMSE: 0.9786\n",
      "INFO:root:Iteration 1000:\t Loss: 1.6047\t Validation MAE: 0.6767\tRMSE: 0.9782\n",
      "INFO:root:Iteration 1050:\t Loss: 1.7210\t Validation MAE: 0.6755\tRMSE: 0.9783\n",
      "INFO:root:Iteration 1100:\t Loss: 1.6019\t Validation MAE: 0.6761\tRMSE: 0.9788\n",
      "INFO:root:Iteration 1150:\t Loss: 1.6819\t Validation MAE: 0.6750\tRMSE: 0.9777\n",
      "INFO:root:Iteration 1200:\t Loss: 1.8713\t Validation MAE: 0.6756\tRMSE: 0.9773\n",
      "INFO:root:Iteration 1250:\t Loss: 1.7762\t Validation MAE: 0.6767\tRMSE: 0.9783\n",
      "INFO:root:Iteration 1300:\t Loss: 1.9207\t Validation MAE: 0.6752\tRMSE: 0.9771\n",
      "INFO:root:Iteration 1350:\t Loss: 2.0067\t Validation MAE: 0.6747\tRMSE: 0.9763\n",
      "INFO:root:Iteration 1400:\t Loss: 1.6562\t Validation MAE: 0.6749\tRMSE: 0.9781\n",
      "INFO:root:Iteration 1450:\t Loss: 1.7776\t Validation MAE: 0.6742\tRMSE: 0.9783\n",
      "INFO:root:Iteration 1500:\t Loss: 1.7102\t Validation MAE: 0.6739\tRMSE: 0.9779\n",
      "INFO:root:Iteration 1550:\t Loss: 1.7240\t Validation MAE: 0.6728\tRMSE: 0.9791\n",
      "INFO:root:Iteration 1600:\t Loss: 1.5199\t Validation MAE: 0.6740\tRMSE: 0.9787\n",
      "INFO:root:Iteration 1650:\t Loss: 1.5225\t Validation MAE: 0.6740\tRMSE: 0.9792\n",
      "INFO:root:Iteration 1700:\t Loss: 1.6629\t Validation MAE: 0.6734\tRMSE: 0.9790\n",
      "INFO:root:Iteration 1750:\t Loss: 1.7547\t Validation MAE: 0.6734\tRMSE: 0.9787\n",
      "INFO:root:Iteration 1800:\t Loss: 1.8728\t Validation MAE: 0.6754\tRMSE: 0.9791\n",
      "INFO:root:Iteration 1850:\t Loss: 1.5343\t Validation MAE: 0.6758\tRMSE: 0.9794\n",
      "INFO:root:Iteration 1900:\t Loss: 1.7879\t Validation MAE: 0.6732\tRMSE: 0.9786\n",
      "INFO:root:Iteration 1950:\t Loss: 1.7272\t Validation MAE: 0.6727\tRMSE: 0.9784\n"
     ]
    },
    {
     "name": "stdout",
     "output_type": "stream",
     "text": [
      "0.6724300742600461 0.9790784351461558\n"
     ]
    }
   ],
   "source": [
    "sk_imputer_mcar30 = SinkhornImputation_CMI(eps=epsilon_mcar30, batchsize=batchsize, lr=lr, niter=2000)\n",
    "sk_imp_mcar30, sk_maes30mcar, sk_rmses30mcar,sk_loss_mcar30 = sk_imputer_mcar30.fit_transform(data_mcar30, verbose=True, report_interval=50, X_true=ground_truth)\n",
    "#using numpy version of data\n",
    "sk_imp_mcar30_numpy = sk_imp_mcar30.detach().cpu().numpy()\n",
    "\n",
    "sk_mae_mcar30 = MAE(sk_imp_mcar30_numpy,ground_truth_numpy ,mask_mcar30)\n",
    "sk_rmse_mcar30 = RMSE(sk_imp_mcar30_numpy, ground_truth_numpy,mask_mcar30)\n",
    "print(sk_mae_mcar30,sk_rmse_mcar30)"
   ]
  },
  {
   "cell_type": "code",
   "execution_count": 12,
   "metadata": {},
   "outputs": [
    {
     "name": "stdout",
     "output_type": "stream",
     "text": [
      "[1.9366650591568741, 1.5577539319401814, 1.6490630057339875, 1.7651987606970088, 1.5384499141348815, 1.548016590936709, 1.6003356254036203, 1.943211665952588, 1.6589514903723992, 1.723679477299961, 1.5162417090603522, 1.7287757601272624, 1.8152854538867698, 1.4845493100436347, 2.0372226473677917, 1.7831218380734066, 1.735841755764627, 1.4717815185392884, 1.6025213405357015, 1.7097410836039797, 1.6046539856055062, 1.7210272447628083, 1.6018919404051148, 1.6818985224791545, 1.871316066557594, 1.7762213039995043, 1.920745299593185, 2.0066654695032358, 1.6561642313988225, 1.7776352649794804, 1.7101739194514067, 1.7239872747109728, 1.5199375485043, 1.5225128817256015, 1.66288507364178, 1.7546743058435874, 1.87276456960412, 1.5343492280270583, 1.7879069323726773, 1.7272042106206567]\n"
     ]
    }
   ],
   "source": [
    "print(sk_loss_mcar30)\n",
    "#sk_loss_mcar30.clear"
   ]
  },
  {
   "cell_type": "code",
   "execution_count": 13,
   "metadata": {},
   "outputs": [
    {
     "data": {
      "image/png": "[encoded data removed]",
      "text/plain": [
       "<Figure size 800x500 with 1 Axes>"
      ]
     },
     "metadata": {},
     "output_type": "display_data"
    }
   ],
   "source": [
    "# Convert the list of losses to a NumPy array\n",
    "\n",
    "iterations = np.linspace(0, 2000, 50).astype(int)\n",
    "\n",
    "\n",
    "\n",
    "loss_values = sk_loss_mcar30\n",
    "\n",
    "\n",
    "# Assuming cmi_penalty_history is also a list, convert it to a NumPy array\n",
    "#cmi_penalty_history_numpy = np.array(cmi_penalty_history)\n",
    "\n",
    "# Total loss calculation\n",
    "#total_loss = sk_loss_mcar30_numpy + cmi_penalty_history_numpy\n",
    "if len(loss_values) > len(iterations):\n",
    "    loss_values = loss_values[:len(iterations)]\n",
    "elif len(loss_values) < len(iterations):\n",
    "    iterations = iterations[:len(loss_values)]\n",
    "\n",
    "\n",
    "\n",
    "# Plotting\n",
    "plt.figure(figsize=(8, 5))\n",
    "plt.plot(iterations, loss_values, color='b', linestyle='-', marker='o', label=\"Loss Value\")\n",
    "plt.xlabel(\"Iterations\")\n",
    "plt.ylabel(\"Loss Value\")\n",
    "plt.title(\"Loss Curve\")\n",
    "plt.legend()\n",
    "plt.grid(True)\n",
    "\n",
    "# Show the plot\n",
    "plt.show()\n",
    "\n"
   ]
  },
  {
   "cell_type": "code",
   "execution_count": 14,
   "metadata": {},
   "outputs": [
    {
     "data": {
      "text/plain": [
       "<function list.clear()>"
      ]
     },
     "execution_count": 14,
     "metadata": {},
     "output_type": "execute_result"
    }
   ],
   "source": [
    "loss_values.clear"
   ]
  },
  {
   "cell_type": "code",
   "execution_count": 15,
   "metadata": {},
   "outputs": [
    {
     "data": {
      "text/plain": [
       "tensor([[-1.4331, -0.5160, -1.7056,  ..., -0.8236, -0.8324, -1.0472],\n",
       "        [-0.4785,  1.9382,  0.0871,  ..., -0.5705,  0.1057, -0.5184],\n",
       "        [ 0.4283, -0.5160, -1.7056,  ..., -0.8236, -0.7009, -0.9569],\n",
       "        ...,\n",
       "        [ 0.3701, -0.5160,  0.6436,  ...,  1.2142,  0.2933,  0.7270],\n",
       "        [-0.0962,  1.9382, -1.0003,  ..., -0.8183, -0.8324,  0.5961],\n",
       "        [-1.6453, -0.5160, -0.6276,  ..., -0.8236, -0.8324, -1.0521]],\n",
       "       grad_fn=<IndexPutBackward0>)"
      ]
     },
     "execution_count": 15,
     "metadata": {},
     "output_type": "execute_result"
    }
   ],
   "source": [
    "sk_imp_mcar30"
   ]
  }
 ],
 "metadata": {
  "kernelspec": {
   "display_name": "Python 3",
   "language": "python",
   "name": "python3"
  },
  "language_info": {
   "codemirror_mode": {
    "name": "ipython",
    "version": 3
   },
   "file_extension": ".py",
   "mimetype": "text/x-python",
   "name": "python",
   "nbconvert_exporter": "python",
   "pygments_lexer": "ipython3",
   "version": "3.12.6"
  }
 },
 "nbformat": 4,
 "nbformat_minor": 2
}
