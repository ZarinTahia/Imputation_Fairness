{
 "cells": [
  {
   "cell_type": "code",
   "execution_count": 1,
   "metadata": {},
   "outputs": [
    {
     "name": "stdout",
     "output_type": "stream",
     "text": [
      "Requirement already satisfied: pot in c:\\users\\zhossai3\\appdata\\local\\programs\\python\\python312\\lib\\site-packages (0.9.4)\n",
      "Requirement already satisfied: numpy>=1.16 in c:\\users\\zhossai3\\appdata\\local\\programs\\python\\python312\\lib\\site-packages (from pot) (2.1.2)\n",
      "Requirement already satisfied: scipy>=1.6 in c:\\users\\zhossai3\\appdata\\local\\programs\\python\\python312\\lib\\site-packages (from pot) (1.14.1)\n"
     ]
    },
    {
     "name": "stderr",
     "output_type": "stream",
     "text": [
      "\n",
      "[notice] A new release of pip is available: 24.2 -> 24.3.1\n",
      "[notice] To update, run: python.exe -m pip install --upgrade pip\n"
     ]
    },
    {
     "name": "stdout",
     "output_type": "stream",
     "text": [
      "Requirement already satisfied: torch in c:\\users\\zhossai3\\appdata\\local\\programs\\python\\python312\\lib\\site-packages (2.5.1)\n",
      "Requirement already satisfied: filelock in c:\\users\\zhossai3\\appdata\\local\\programs\\python\\python312\\lib\\site-packages (from torch) (3.16.1)\n",
      "Requirement already satisfied: typing-extensions>=4.8.0 in c:\\users\\zhossai3\\appdata\\local\\programs\\python\\python312\\lib\\site-packages (from torch) (4.12.2)\n",
      "Requirement already satisfied: networkx in c:\\users\\zhossai3\\appdata\\local\\programs\\python\\python312\\lib\\site-packages (from torch) (3.4.2)\n",
      "Requirement already satisfied: jinja2 in c:\\users\\zhossai3\\appdata\\local\\programs\\python\\python312\\lib\\site-packages (from torch) (3.1.4)\n",
      "Requirement already satisfied: fsspec in c:\\users\\zhossai3\\appdata\\local\\programs\\python\\python312\\lib\\site-packages (from torch) (2024.10.0)\n",
      "Requirement already satisfied: setuptools in c:\\users\\zhossai3\\appdata\\local\\programs\\python\\python312\\lib\\site-packages (from torch) (75.3.0)\n",
      "Requirement already satisfied: sympy==1.13.1 in c:\\users\\zhossai3\\appdata\\local\\programs\\python\\python312\\lib\\site-packages (from torch) (1.13.1)\n",
      "Requirement already satisfied: mpmath<1.4,>=1.1.0 in c:\\users\\zhossai3\\appdata\\local\\programs\\python\\python312\\lib\\site-packages (from sympy==1.13.1->torch) (1.3.0)\n",
      "Requirement already satisfied: MarkupSafe>=2.0 in c:\\users\\zhossai3\\appdata\\local\\programs\\python\\python312\\lib\\site-packages (from jinja2->torch) (3.0.2)\n"
     ]
    },
    {
     "name": "stderr",
     "output_type": "stream",
     "text": [
      "\n",
      "[notice] A new release of pip is available: 24.2 -> 24.3.1\n",
      "[notice] To update, run: python.exe -m pip install --upgrade pip\n"
     ]
    },
    {
     "name": "stdout",
     "output_type": "stream",
     "text": [
      "Requirement already satisfied: geomloss in c:\\users\\zhossai3\\appdata\\local\\programs\\python\\python312\\lib\\site-packages (0.2.6)\n",
      "Requirement already satisfied: numpy in c:\\users\\zhossai3\\appdata\\local\\programs\\python\\python312\\lib\\site-packages (from geomloss) (2.1.2)\n",
      "Requirement already satisfied: torch in c:\\users\\zhossai3\\appdata\\local\\programs\\python\\python312\\lib\\site-packages (from geomloss) (2.5.1)\n",
      "Requirement already satisfied: filelock in c:\\users\\zhossai3\\appdata\\local\\programs\\python\\python312\\lib\\site-packages (from torch->geomloss) (3.16.1)\n",
      "Requirement already satisfied: typing-extensions>=4.8.0 in c:\\users\\zhossai3\\appdata\\local\\programs\\python\\python312\\lib\\site-packages (from torch->geomloss) (4.12.2)\n",
      "Requirement already satisfied: networkx in c:\\users\\zhossai3\\appdata\\local\\programs\\python\\python312\\lib\\site-packages (from torch->geomloss) (3.4.2)\n",
      "Requirement already satisfied: jinja2 in c:\\users\\zhossai3\\appdata\\local\\programs\\python\\python312\\lib\\site-packages (from torch->geomloss) (3.1.4)\n",
      "Requirement already satisfied: fsspec in c:\\users\\zhossai3\\appdata\\local\\programs\\python\\python312\\lib\\site-packages (from torch->geomloss) (2024.10.0)\n",
      "Requirement already satisfied: setuptools in c:\\users\\zhossai3\\appdata\\local\\programs\\python\\python312\\lib\\site-packages (from torch->geomloss) (75.3.0)\n",
      "Requirement already satisfied: sympy==1.13.1 in c:\\users\\zhossai3\\appdata\\local\\programs\\python\\python312\\lib\\site-packages (from torch->geomloss) (1.13.1)\n",
      "Requirement already satisfied: mpmath<1.4,>=1.1.0 in c:\\users\\zhossai3\\appdata\\local\\programs\\python\\python312\\lib\\site-packages (from sympy==1.13.1->torch->geomloss) (1.3.0)\n",
      "Requirement already satisfied: MarkupSafe>=2.0 in c:\\users\\zhossai3\\appdata\\local\\programs\\python\\python312\\lib\\site-packages (from jinja2->torch->geomloss) (3.0.2)\n"
     ]
    },
    {
     "name": "stderr",
     "output_type": "stream",
     "text": [
      "\n",
      "[notice] A new release of pip is available: 24.2 -> 24.3.1\n",
      "[notice] To update, run: python.exe -m pip install --upgrade pip\n"
     ]
    },
    {
     "name": "stdout",
     "output_type": "stream",
     "text": [
      "Requirement already satisfied: wget in c:\\users\\zhossai3\\appdata\\local\\programs\\python\\python312\\lib\\site-packages (3.2)\n"
     ]
    },
    {
     "name": "stderr",
     "output_type": "stream",
     "text": [
      "\n",
      "[notice] A new release of pip is available: 24.2 -> 24.3.1\n",
      "[notice] To update, run: python.exe -m pip install --upgrade pip\n"
     ]
    }
   ],
   "source": [
    "!pip install pot\n",
    "!pip install torch\n",
    "!pip install geomloss\n",
    "!pip install wget"
   ]
  },
  {
   "cell_type": "code",
   "execution_count": 2,
   "metadata": {},
   "outputs": [
    {
     "name": "stderr",
     "output_type": "stream",
     "text": [
      "c:\\Users\\zhossai3\\AppData\\Local\\Programs\\Python\\Python312\\Lib\\site-packages\\torch\\__init__.py:1144: UserWarning: torch.set_default_tensor_type() is deprecated as of PyTorch 2.1, please use torch.set_default_dtype() and torch.set_default_device() as alternatives. (Triggered internally at C:\\actions-runner\\_work\\pytorch\\pytorch\\builder\\windows\\pytorch\\torch\\csrc\\tensor\\python_tensor.cpp:434.)\n",
      "  _C._set_default_tensor_type(t)\n"
     ]
    }
   ],
   "source": [
    "import numpy as np\n",
    "import torch\n",
    "import torch.nn as nn\n",
    "import pandas as pd\n",
    "\n",
    "from geomloss import SamplesLoss\n",
    "\n",
    "import ot\n",
    "\n",
    "import os\n",
    "import pickle as pkl\n",
    "import copy\n",
    "\n",
    "from sklearn.preprocessing import scale\n",
    "from sklearn.experimental import enable_iterative_imputer\n",
    "from sklearn.impute import SimpleImputer, IterativeImputer\n",
    "\n",
    "from utils import *\n",
    "from SoftImpute import softimpute, cv_softimpute\n",
    "from DataSetLoader import dataset_loader, ground_truth\n",
    "from SinkhornImputation import SinkhornImputation\n",
    "from Sinkhorn_CMI import SinkhornImputation_CMI\n",
    "from RR_imputer import RRimputer\n",
    "import matplotlib.pyplot as plt\n",
    "\n",
    "import argparse\n",
    "import logging\n",
    "logger = logging.getLogger()\n",
    "logger.setLevel(logging.INFO)\n",
    "logging.debug(\"test\")\n",
    "\n",
    "torch.set_default_tensor_type('torch.DoubleTensor')"
   ]
  },
  {
   "cell_type": "code",
   "execution_count": 3,
   "metadata": {},
   "outputs": [],
   "source": [
    "Xy = {}\n",
    "with open(r'C:\\Users\\zhossai3\\Desktop\\My code\\OT+Fairness\\Data\\German Credit\\German_Credit_Ground_Truth.csv', 'rb') as f:\n",
    "        df = pd.read_csv(f, delimiter=',', header = 0)\n",
    "        Xy['data'] = df.values[:, :-1].astype('float')\n",
    "        Xy['target'] =  df.values[:, -1]"
   ]
  },
  {
   "cell_type": "code",
   "execution_count": 4,
   "metadata": {},
   "outputs": [
    {
     "name": "stdout",
     "output_type": "stream",
     "text": [
      "<class 'numpy.ndarray'>\n"
     ]
    }
   ],
   "source": [
    "ground_truth_numpy = scale(Xy['data'])\n",
    "print(type(ground_truth_numpy))"
   ]
  },
  {
   "cell_type": "code",
   "execution_count": 5,
   "metadata": {},
   "outputs": [
    {
     "name": "stdout",
     "output_type": "stream",
     "text": [
      "5.370788962701069\n",
      "-2.9144920787984168\n",
      "5.2501213253385183e-17\n",
      "-0.1337104553845832\n",
      "1.0\n"
     ]
    }
   ],
   "source": [
    "print(np.max(ground_truth_numpy))\n",
    "print(np.min(ground_truth_numpy))\n",
    "print(np.mean(ground_truth_numpy))\n",
    "print(np.median(ground_truth_numpy))\n",
    "print(np.std(ground_truth_numpy))"
   ]
  },
  {
   "cell_type": "code",
   "execution_count": 6,
   "metadata": {},
   "outputs": [
    {
     "name": "stdout",
     "output_type": "stream",
     "text": [
      "[[ 2.76645648  0.67028006  0.14694918 ... -0.74513141 -1.23647786\n",
      "   1.07326286]\n",
      " [-1.19140394 -1.49191369  0.14694918 ...  0.94981679  2.24819436\n",
      "   1.07326286]\n",
      " [ 1.18331231  0.67028006 -1.38377145 ... -0.41656241 -0.73866754\n",
      "   0.06170503]\n",
      " ...\n",
      " [ 0.21583532  0.67028006  0.14694918 ... -0.87450324 -0.73866754\n",
      "   1.07326286]\n",
      " [-1.10345149  0.67028006  0.14694918 ... -0.50552769  1.9992892\n",
      "   1.07326286]\n",
      " [-0.75164167  0.67028006  0.14694918 ...  0.46245715  1.9992892\n",
      "  -0.9498528 ]]\n"
     ]
    }
   ],
   "source": [
    "print(ground_truth_numpy)"
   ]
  },
  {
   "cell_type": "code",
   "execution_count": 7,
   "metadata": {},
   "outputs": [
    {
     "name": "stdout",
     "output_type": "stream",
     "text": [
      "(1000, 9)\n",
      "tensor(0)\n"
     ]
    }
   ],
   "source": [
    "print(ground_truth_numpy.shape)\n",
    "ground_truth = torch.from_numpy(ground_truth_numpy)\n",
    "print(ground_truth.isnan().sum())"
   ]
  },
  {
   "cell_type": "code",
   "execution_count": 8,
   "metadata": {},
   "outputs": [
    {
     "name": "stdout",
     "output_type": "stream",
     "text": [
      "Percentage of missing values: 30.70%\n"
     ]
    }
   ],
   "source": [
    "#30% MCAR\n",
    "np.random.seed(42)\n",
    "\n",
    "p_macr30 = 0.301\n",
    "\n",
    "\n",
    "mask_mcar30 = np.random.rand(*ground_truth.shape) < p_macr30  # True for missing values, false for others\n",
    "data_mcar30 = np.copy(ground_truth)\n",
    "\n",
    "# Apply the mask to set the selected values to NaN\n",
    "data_mcar30[mask_mcar30] = np.nan\n",
    "\n",
    "# Convert to a torch tensor\n",
    "data_mcar30 = torch.from_numpy(data_mcar30)\n",
    "\n",
    "# Calculate the percentage of missing values\n",
    "missing_values_mcar30 = torch.isnan(data_mcar30)  # Create a boolean tensor where NaNs are True\n",
    "missing_percentage_mcar30 = torch.sum(missing_values_mcar30).item() / data_mcar30.numel() * 100  # Calculate the percentage of NaNs\n",
    "print(f\"Percentage of missing values: {missing_percentage_mcar30:.2f}%\")"
   ]
  },
  {
   "cell_type": "code",
   "execution_count": 9,
   "metadata": {},
   "outputs": [],
   "source": [
    "data_mcar30_numpy = data_mcar30.detach().cpu().numpy()"
   ]
  },
  {
   "cell_type": "code",
   "execution_count": 10,
   "metadata": {},
   "outputs": [
    {
     "name": "stdout",
     "output_type": "stream",
     "text": [
      "0.3\n"
     ]
    }
   ],
   "source": [
    "#sinkhorn\n",
    "n_mcar30, d_mcar30 = data_mcar30.shape\n",
    "batchsize = 128 # If the batch size is larger than half the dataset's size,\n",
    "                # it will be redefined in the imputation methods.\n",
    "lr = 1e-2\n",
    "#epsilon_mcar30 = pick_epsilon(data_mcar30)\n",
    "epsilon_mcar30 = 0.3\n",
    "print(epsilon_mcar30)\n"
   ]
  },
  {
   "cell_type": "code",
   "execution_count": 11,
   "metadata": {},
   "outputs": [
    {
     "name": "stderr",
     "output_type": "stream",
     "text": [
      "INFO:root:Iteration 0:\t Loss: 1.5283\t Validation MAE: 0.7792\tRMSE: 0.9954\n",
      "INFO:root:Iteration 50:\t Loss: 1.2921\t Validation MAE: 0.7375\tRMSE: 0.9924\n",
      "INFO:root:Iteration 100:\t Loss: 1.2912\t Validation MAE: 0.7246\tRMSE: 0.9906\n",
      "INFO:root:Iteration 150:\t Loss: 1.3858\t Validation MAE: 0.7180\tRMSE: 0.9919\n",
      "INFO:root:Iteration 200:\t Loss: 1.4456\t Validation MAE: 0.7157\tRMSE: 0.9944\n",
      "INFO:root:Iteration 250:\t Loss: 1.3613\t Validation MAE: 0.7153\tRMSE: 0.9976\n",
      "INFO:root:Iteration 300:\t Loss: 1.2979\t Validation MAE: 0.7146\tRMSE: 0.9989\n",
      "INFO:root:Iteration 350:\t Loss: 1.1070\t Validation MAE: 0.7145\tRMSE: 1.0001\n",
      "INFO:root:Iteration 400:\t Loss: 1.2319\t Validation MAE: 0.7122\tRMSE: 0.9982\n",
      "INFO:root:Iteration 450:\t Loss: 1.2860\t Validation MAE: 0.7120\tRMSE: 0.9991\n",
      "INFO:root:Iteration 500:\t Loss: 1.4366\t Validation MAE: 0.7131\tRMSE: 1.0021\n",
      "INFO:root:Iteration 550:\t Loss: 1.4740\t Validation MAE: 0.7142\tRMSE: 1.0043\n",
      "INFO:root:Iteration 600:\t Loss: 1.3197\t Validation MAE: 0.7144\tRMSE: 1.0038\n",
      "INFO:root:Iteration 650:\t Loss: 1.3385\t Validation MAE: 0.7152\tRMSE: 1.0050\n",
      "INFO:root:Iteration 700:\t Loss: 1.3676\t Validation MAE: 0.7172\tRMSE: 1.0061\n",
      "INFO:root:Iteration 750:\t Loss: 1.2731\t Validation MAE: 0.7183\tRMSE: 1.0082\n",
      "INFO:root:Iteration 800:\t Loss: 1.3113\t Validation MAE: 0.7191\tRMSE: 1.0094\n",
      "INFO:root:Iteration 850:\t Loss: 1.3689\t Validation MAE: 0.7210\tRMSE: 1.0125\n",
      "INFO:root:Iteration 900:\t Loss: 1.5379\t Validation MAE: 0.7226\tRMSE: 1.0138\n",
      "INFO:root:Iteration 950:\t Loss: 1.3565\t Validation MAE: 0.7226\tRMSE: 1.0150\n",
      "INFO:root:Iteration 1000:\t Loss: 1.2318\t Validation MAE: 0.7234\tRMSE: 1.0168\n",
      "INFO:root:Iteration 1050:\t Loss: 1.2803\t Validation MAE: 0.7232\tRMSE: 1.0160\n",
      "INFO:root:Iteration 1100:\t Loss: 1.2621\t Validation MAE: 0.7244\tRMSE: 1.0171\n",
      "INFO:root:Iteration 1150:\t Loss: 1.3181\t Validation MAE: 0.7260\tRMSE: 1.0194\n",
      "INFO:root:Iteration 1200:\t Loss: 1.1950\t Validation MAE: 0.7249\tRMSE: 1.0209\n",
      "INFO:root:Iteration 1250:\t Loss: 1.3526\t Validation MAE: 0.7251\tRMSE: 1.0221\n",
      "INFO:root:Iteration 1300:\t Loss: 1.2308\t Validation MAE: 0.7250\tRMSE: 1.0224\n",
      "INFO:root:Iteration 1350:\t Loss: 1.1782\t Validation MAE: 0.7263\tRMSE: 1.0236\n",
      "INFO:root:Iteration 1400:\t Loss: 1.3474\t Validation MAE: 0.7269\tRMSE: 1.0234\n",
      "INFO:root:Iteration 1450:\t Loss: 1.5194\t Validation MAE: 0.7281\tRMSE: 1.0259\n",
      "INFO:root:Iteration 1500:\t Loss: 1.2980\t Validation MAE: 0.7294\tRMSE: 1.0275\n",
      "INFO:root:Iteration 1550:\t Loss: 0.9969\t Validation MAE: 0.7299\tRMSE: 1.0283\n",
      "INFO:root:Iteration 1600:\t Loss: 1.3448\t Validation MAE: 0.7317\tRMSE: 1.0296\n",
      "INFO:root:Iteration 1650:\t Loss: 1.3751\t Validation MAE: 0.7312\tRMSE: 1.0302\n",
      "INFO:root:Iteration 1700:\t Loss: 1.2392\t Validation MAE: 0.7310\tRMSE: 1.0289\n",
      "INFO:root:Iteration 1750:\t Loss: 1.2167\t Validation MAE: 0.7322\tRMSE: 1.0307\n",
      "INFO:root:Iteration 1800:\t Loss: 1.3853\t Validation MAE: 0.7319\tRMSE: 1.0318\n",
      "INFO:root:Iteration 1850:\t Loss: 1.0738\t Validation MAE: 0.7314\tRMSE: 1.0313\n",
      "INFO:root:Iteration 1900:\t Loss: 1.3869\t Validation MAE: 0.7317\tRMSE: 1.0325\n",
      "INFO:root:Iteration 1950:\t Loss: 1.2329\t Validation MAE: 0.7338\tRMSE: 1.0329\n"
     ]
    },
    {
     "name": "stdout",
     "output_type": "stream",
     "text": [
      "0.7343692743730498 1.0341429834711229\n"
     ]
    }
   ],
   "source": [
    "sk_imputer_mcar30 = SinkhornImputation_CMI(eps=epsilon_mcar30, batchsize=batchsize, lr=lr, niter=2000)\n",
    "sk_imp_mcar30, sk_maes30mcar, sk_rmses30mcar,sk_loss_mcar30 = sk_imputer_mcar30.fit_transform(data_mcar30, verbose=True, report_interval=50, X_true=ground_truth)\n",
    "#using numpy version of data\n",
    "sk_imp_mcar30_numpy = sk_imp_mcar30.detach().cpu().numpy()\n",
    "\n",
    "sk_mae_mcar30 = MAE(sk_imp_mcar30_numpy,ground_truth_numpy ,mask_mcar30)\n",
    "sk_rmse_mcar30 = RMSE(sk_imp_mcar30_numpy, ground_truth_numpy,mask_mcar30)\n",
    "print(sk_mae_mcar30,sk_rmse_mcar30)"
   ]
  },
  {
   "cell_type": "code",
   "execution_count": 12,
   "metadata": {},
   "outputs": [
    {
     "name": "stdout",
     "output_type": "stream",
     "text": [
      "[1.5283027757242007, 1.2921419004891241, 1.2912446904247352, 1.3857966138260795, 1.4456416823389617, 1.3612733354757172, 1.2978658032873536, 1.1070259324069667, 1.2319283968588919, 1.286019468002195, 1.436562409487293, 1.4740226622341783, 1.3196975779380533, 1.3385332976930915, 1.3676369627506837, 1.273076201163857, 1.3113468373367392, 1.3689409497225244, 1.5379317752818618, 1.3565273706432728, 1.2317763881329156, 1.2802952755817687, 1.2621146757694173, 1.3181174539835467, 1.1950251474946818, 1.3525521968565224, 1.2308208930404776, 1.1782291043159114, 1.347429863624888, 1.5194185628834531, 1.2979581090391974, 0.9969469726518352, 1.3448427499750215, 1.375137521684819, 1.2391973086207897, 1.2167036104880968, 1.385316670577102, 1.0737607431411196, 1.386934568217391, 1.2328935473347014]\n"
     ]
    }
   ],
   "source": [
    "print(sk_loss_mcar30)\n",
    "#sk_loss_mcar30.clear"
   ]
  },
  {
   "cell_type": "code",
   "execution_count": 13,
   "metadata": {},
   "outputs": [
    {
     "data": {
      "image/png": "[encoded data removed]",
      "text/plain": [
       "<Figure size 800x500 with 1 Axes>"
      ]
     },
     "metadata": {},
     "output_type": "display_data"
    }
   ],
   "source": [
    "# Convert the list of losses to a NumPy array\n",
    "\n",
    "iterations = np.linspace(0, 2000, 50).astype(int)\n",
    "\n",
    "\n",
    "\n",
    "loss_values = sk_loss_mcar30\n",
    "\n",
    "\n",
    "# Assuming cmi_penalty_history is also a list, convert it to a NumPy array\n",
    "#cmi_penalty_history_numpy = np.array(cmi_penalty_history)\n",
    "\n",
    "# Total loss calculation\n",
    "#total_loss = sk_loss_mcar30_numpy + cmi_penalty_history_numpy\n",
    "if len(loss_values) > len(iterations):\n",
    "    loss_values = loss_values[:len(iterations)]\n",
    "elif len(loss_values) < len(iterations):\n",
    "    iterations = iterations[:len(loss_values)]\n",
    "\n",
    "\n",
    "\n",
    "# Plotting\n",
    "plt.figure(figsize=(8, 5))\n",
    "plt.plot(iterations, loss_values, color='b', linestyle='-', marker='o', label=\"Loss Value\")\n",
    "plt.xlabel(\"Iterations\")\n",
    "plt.ylabel(\"Loss Value\")\n",
    "plt.title(\"Loss Curve\")\n",
    "plt.legend()\n",
    "plt.grid(True)\n",
    "\n",
    "# Show the plot\n",
    "plt.show()\n",
    "\n"
   ]
  },
  {
   "cell_type": "code",
   "execution_count": 15,
   "metadata": {},
   "outputs": [
    {
     "data": {
      "text/plain": [
       "tensor([[ 2.7665,  0.6703,  0.1469,  ..., -0.4533, -1.2365,  1.0733],\n",
       "        [-1.1914,  0.3817,  0.1469,  ...,  1.0415,  2.2482,  1.0733],\n",
       "        [ 1.1833,  0.6621, -1.3838,  ..., -0.4166, -0.7387,  0.4549],\n",
       "        ...,\n",
       "        [-0.1681,  0.6703,  0.1469,  ..., -0.8745, -0.7387,  1.0733],\n",
       "        [-1.1035,  0.6703,  0.1566,  ..., -0.5055,  1.9993, -0.9750],\n",
       "        [-0.2472,  0.6703,  0.1469,  ...,  0.4625,  0.1119, -0.9499]],\n",
       "       grad_fn=<IndexPutBackward0>)"
      ]
     },
     "execution_count": 15,
     "metadata": {},
     "output_type": "execute_result"
    }
   ],
   "source": [
    "sk_imp_mcar30"
   ]
  }
 ],
 "metadata": {
  "kernelspec": {
   "display_name": "Python 3",
   "language": "python",
   "name": "python3"
  },
  "language_info": {
   "codemirror_mode": {
    "name": "ipython",
    "version": 3
   },
   "file_extension": ".py",
   "mimetype": "text/x-python",
   "name": "python",
   "nbconvert_exporter": "python",
   "pygments_lexer": "ipython3",
   "version": "3.12.6"
  }
 },
 "nbformat": 4,
 "nbformat_minor": 2
}
