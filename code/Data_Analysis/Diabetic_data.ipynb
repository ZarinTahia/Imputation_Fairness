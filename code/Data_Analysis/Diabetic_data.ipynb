{
 "cells": [
  {
   "cell_type": "code",
   "execution_count": 2,
   "metadata": {},
   "outputs": [
    {
     "name": "stdout",
     "output_type": "stream",
     "text": [
      "The autoreload extension is already loaded. To reload it, use:\n",
      "  %reload_ext autoreload\n"
     ]
    }
   ],
   "source": [
    "%matplotlib inline\n",
    "%load_ext autoreload\n",
    "%autoreload 2"
   ]
  },
  {
   "cell_type": "code",
   "execution_count": 3,
   "metadata": {},
   "outputs": [],
   "source": [
    "import os\n",
    "import warnings\n",
    "warnings.filterwarnings('ignore')\n",
    "os.environ[\"PYTHONWARNINGS\"] = \"ignore\""
   ]
  },
  {
   "cell_type": "code",
   "execution_count": 4,
   "metadata": {},
   "outputs": [],
   "source": [
    "import pandas as pd\n",
    "import matplotlib.pyplot as plt\n",
    "\n",
    "from virny.datasets import DiabetesDataset2019\n",
    "from virny.utils.model_tuning_utils import tune_ML_models\n",
    "from virny.preprocessing.basic_preprocessing import preprocess_dataset\n",
    "from virny.utils.data_viz_utils import create_dataset_stats_bar_chart\n",
    "from virny.utils.custom_initializers import create_models_config_from_tuned_params_df\n",
    "\n",
    "from pprint import pprint\n",
    "from datetime import datetime, timezone\n",
    "from sklearn.ensemble import RandomForestClassifier\n",
    "from sklearn.compose import ColumnTransformer\n",
    "from sklearn.preprocessing import OneHotEncoder, StandardScaler\n",
    "\n",
    "from EDA_utils import get_correlation_with_target, get_correlation_matrix, get_features_by_target_correlation_threshold\n",
    "     "
   ]
  },
  {
   "cell_type": "code",
   "execution_count": 5,
   "metadata": {},
   "outputs": [],
   "source": [
    "DATASET_SPLIT_SEED = 100\n",
    "MODELS_TUNING_SEED = 100\n",
    "TEST_SET_FRACTION = 0.2\n",
    "DATASET_NAME = 'Diabetes_2019'\n",
    "\n",
    "sensitive_attributes_dct = {'Gender': 'Female',  'Age': 'less than 40', 'Gender & Age': None}\n",
    "sensitive_attributes = [attr for attr in sensitive_attributes_dct.keys() if '&' not in attr]\n",
    "     "
   ]
  },
  {
   "cell_type": "code",
   "execution_count": 6,
   "metadata": {},
   "outputs": [
    {
     "data": {
      "text/html": [
       "<div>\n",
       "<style scoped>\n",
       "    .dataframe tbody tr th:only-of-type {\n",
       "        vertical-align: middle;\n",
       "    }\n",
       "\n",
       "    .dataframe tbody tr th {\n",
       "        vertical-align: top;\n",
       "    }\n",
       "\n",
       "    .dataframe thead th {\n",
       "        text-align: right;\n",
       "    }\n",
       "</style>\n",
       "<table border=\"1\" class=\"dataframe\">\n",
       "  <thead>\n",
       "    <tr style=\"text-align: right;\">\n",
       "      <th></th>\n",
       "      <th>Age</th>\n",
       "      <th>Gender</th>\n",
       "      <th>Family_Diabetes</th>\n",
       "      <th>highBP</th>\n",
       "      <th>PhysicallyActive</th>\n",
       "      <th>BMI</th>\n",
       "      <th>Smoking</th>\n",
       "      <th>Alcohol</th>\n",
       "      <th>Sleep</th>\n",
       "      <th>SoundSleep</th>\n",
       "      <th>RegularMedicine</th>\n",
       "      <th>JunkFood</th>\n",
       "      <th>Stress</th>\n",
       "      <th>BPLevel</th>\n",
       "      <th>Pregnancies</th>\n",
       "      <th>Pdiabetes</th>\n",
       "      <th>UriationFreq</th>\n",
       "      <th>Diabetic</th>\n",
       "    </tr>\n",
       "  </thead>\n",
       "  <tbody>\n",
       "    <tr>\n",
       "      <th>0</th>\n",
       "      <td>50-59</td>\n",
       "      <td>Male</td>\n",
       "      <td>no</td>\n",
       "      <td>yes</td>\n",
       "      <td>one hr or more</td>\n",
       "      <td>39.0</td>\n",
       "      <td>no</td>\n",
       "      <td>no</td>\n",
       "      <td>8</td>\n",
       "      <td>6</td>\n",
       "      <td>no</td>\n",
       "      <td>occasionally</td>\n",
       "      <td>sometimes</td>\n",
       "      <td>high</td>\n",
       "      <td>0.0</td>\n",
       "      <td>0</td>\n",
       "      <td>not much</td>\n",
       "      <td>0</td>\n",
       "    </tr>\n",
       "    <tr>\n",
       "      <th>1</th>\n",
       "      <td>50-59</td>\n",
       "      <td>Male</td>\n",
       "      <td>no</td>\n",
       "      <td>yes</td>\n",
       "      <td>less than half an hr</td>\n",
       "      <td>28.0</td>\n",
       "      <td>no</td>\n",
       "      <td>no</td>\n",
       "      <td>8</td>\n",
       "      <td>6</td>\n",
       "      <td>yes</td>\n",
       "      <td>very often</td>\n",
       "      <td>sometimes</td>\n",
       "      <td>normal</td>\n",
       "      <td>0.0</td>\n",
       "      <td>0</td>\n",
       "      <td>not much</td>\n",
       "      <td>0</td>\n",
       "    </tr>\n",
       "    <tr>\n",
       "      <th>2</th>\n",
       "      <td>40-49</td>\n",
       "      <td>Male</td>\n",
       "      <td>no</td>\n",
       "      <td>no</td>\n",
       "      <td>one hr or more</td>\n",
       "      <td>24.0</td>\n",
       "      <td>no</td>\n",
       "      <td>no</td>\n",
       "      <td>6</td>\n",
       "      <td>6</td>\n",
       "      <td>no</td>\n",
       "      <td>occasionally</td>\n",
       "      <td>sometimes</td>\n",
       "      <td>normal</td>\n",
       "      <td>0.0</td>\n",
       "      <td>0</td>\n",
       "      <td>not much</td>\n",
       "      <td>0</td>\n",
       "    </tr>\n",
       "    <tr>\n",
       "      <th>3</th>\n",
       "      <td>50-59</td>\n",
       "      <td>Male</td>\n",
       "      <td>no</td>\n",
       "      <td>no</td>\n",
       "      <td>one hr or more</td>\n",
       "      <td>23.0</td>\n",
       "      <td>no</td>\n",
       "      <td>no</td>\n",
       "      <td>8</td>\n",
       "      <td>6</td>\n",
       "      <td>no</td>\n",
       "      <td>occasionally</td>\n",
       "      <td>sometimes</td>\n",
       "      <td>normal</td>\n",
       "      <td>0.0</td>\n",
       "      <td>0</td>\n",
       "      <td>not much</td>\n",
       "      <td>0</td>\n",
       "    </tr>\n",
       "    <tr>\n",
       "      <th>4</th>\n",
       "      <td>40-49</td>\n",
       "      <td>Male</td>\n",
       "      <td>no</td>\n",
       "      <td>no</td>\n",
       "      <td>less than half an hr</td>\n",
       "      <td>27.0</td>\n",
       "      <td>no</td>\n",
       "      <td>no</td>\n",
       "      <td>8</td>\n",
       "      <td>8</td>\n",
       "      <td>no</td>\n",
       "      <td>occasionally</td>\n",
       "      <td>sometimes</td>\n",
       "      <td>normal</td>\n",
       "      <td>0.0</td>\n",
       "      <td>0</td>\n",
       "      <td>not much</td>\n",
       "      <td>0</td>\n",
       "    </tr>\n",
       "  </tbody>\n",
       "</table>\n",
       "</div>"
      ],
      "text/plain": [
       "     Age Gender Family_Diabetes highBP      PhysicallyActive   BMI Smoking  \\\n",
       "0  50-59   Male              no    yes        one hr or more  39.0      no   \n",
       "1  50-59   Male              no    yes  less than half an hr  28.0      no   \n",
       "2  40-49   Male              no     no        one hr or more  24.0      no   \n",
       "3  50-59   Male              no     no        one hr or more  23.0      no   \n",
       "4  40-49   Male              no     no  less than half an hr  27.0      no   \n",
       "\n",
       "  Alcohol  Sleep  SoundSleep RegularMedicine      JunkFood     Stress BPLevel  \\\n",
       "0      no      8           6              no  occasionally  sometimes    high   \n",
       "1      no      8           6             yes    very often  sometimes  normal   \n",
       "2      no      6           6              no  occasionally  sometimes  normal   \n",
       "3      no      8           6              no  occasionally  sometimes  normal   \n",
       "4      no      8           8              no  occasionally  sometimes  normal   \n",
       "\n",
       "   Pregnancies Pdiabetes UriationFreq  Diabetic  \n",
       "0          0.0         0     not much         0  \n",
       "1          0.0         0     not much         0  \n",
       "2          0.0         0     not much         0  \n",
       "3          0.0         0     not much         0  \n",
       "4          0.0         0     not much         0  "
      ]
     },
     "execution_count": 6,
     "metadata": {},
     "output_type": "execute_result"
    }
   ],
   "source": [
    "data_loader = DiabetesDataset2019(with_nulls=False)\n",
    "data_loader.full_df.head()"
   ]
  },
  {
   "cell_type": "code",
   "execution_count": 7,
   "metadata": {},
   "outputs": [],
   "source": [
    "data = data_loader.full_df"
   ]
  },
  {
   "cell_type": "code",
   "execution_count": 8,
   "metadata": {},
   "outputs": [
    {
     "data": {
      "text/plain": [
       "(905, 18)"
      ]
     },
     "execution_count": 8,
     "metadata": {},
     "output_type": "execute_result"
    }
   ],
   "source": [
    "data.shape"
   ]
  },
  {
   "cell_type": "code",
   "execution_count": 9,
   "metadata": {},
   "outputs": [
    {
     "data": {
      "text/plain": [
       "Age                 0\n",
       "Gender              0\n",
       "Family_Diabetes     0\n",
       "highBP              0\n",
       "PhysicallyActive    0\n",
       "BMI                 0\n",
       "Smoking             0\n",
       "Alcohol             0\n",
       "Sleep               0\n",
       "SoundSleep          0\n",
       "RegularMedicine     0\n",
       "JunkFood            0\n",
       "Stress              0\n",
       "BPLevel             0\n",
       "Pregnancies         0\n",
       "Pdiabetes           0\n",
       "UriationFreq        0\n",
       "Diabetic            0\n",
       "dtype: int64"
      ]
     },
     "execution_count": 9,
     "metadata": {},
     "output_type": "execute_result"
    }
   ],
   "source": [
    "data_loader.full_df.isnull().sum()"
   ]
  },
  {
   "cell_type": "code",
   "execution_count": 10,
   "metadata": {},
   "outputs": [
    {
     "data": {
      "text/plain": [
       "Age                  4\n",
       "Gender               2\n",
       "Family_Diabetes      2\n",
       "highBP               2\n",
       "PhysicallyActive     4\n",
       "BMI                 26\n",
       "Smoking              2\n",
       "Alcohol              2\n",
       "Sleep                8\n",
       "SoundSleep          12\n",
       "RegularMedicine      2\n",
       "JunkFood             4\n",
       "Stress               4\n",
       "BPLevel              3\n",
       "Pregnancies          5\n",
       "Pdiabetes            2\n",
       "UriationFreq         2\n",
       "Diabetic             2\n",
       "dtype: int64"
      ]
     },
     "execution_count": 10,
     "metadata": {},
     "output_type": "execute_result"
    }
   ],
   "source": [
    "data_loader.full_df.nunique()"
   ]
  },
  {
   "cell_type": "code",
   "execution_count": 11,
   "metadata": {},
   "outputs": [
    {
     "name": "stdout",
     "output_type": "stream",
     "text": [
      "['50-59' '40-49' 'less than 40' '60 or older']\n",
      "['Male' 'Female']\n",
      "['no' 'yes']\n",
      "['yes' 'no']\n",
      "['one hr or more' 'less than half an hr' 'none' 'more than half an hr']\n",
      "[39. 28. 24. 23. 27. 21. 20. 26. 22. 15. 34. 30. 29. 18. 32. 31. 36. 38.\n",
      " 40. 35. 19. 33. 17. 25. 42. 45.]\n",
      "['no' 'yes']\n",
      "['no' 'yes']\n",
      "[ 8  6 10  7 11  9  4  5]\n",
      "[ 6  8 10  7 11  4  9  5  3  2  1  0]\n",
      "['no' 'yes']\n",
      "['occasionally' 'very often' 'often' 'always']\n",
      "['high' 'normal' 'low']\n",
      "[0. 1. 2. 3. 4.]\n",
      "['0' 'yes']\n",
      "['not much' 'quite often']\n",
      "[0 1]\n"
     ]
    }
   ],
   "source": [
    "print(data['Age'].unique())\n",
    "print(data['Gender'].unique())\n",
    "print(data['Family_Diabetes'].unique())\n",
    "print(data['highBP'].unique())\n",
    "print(data['PhysicallyActive'].unique())\n",
    "print(data['BMI'].unique())\n",
    "print(data['Smoking'].unique())\n",
    "print(data['Alcohol'].unique())\n",
    "print(data['Sleep'].unique())\n",
    "print(data['SoundSleep'].unique())\n",
    "print(data['RegularMedicine'].unique())\n",
    "print(data['JunkFood'].unique())\n",
    "print(data['BPLevel'].unique())\n",
    "print(data['Pregnancies'].unique())\n",
    "print(data['Pdiabetes'].unique())\n",
    "print(data['UriationFreq'].unique())\n",
    "print(data['Diabetic'].unique())"
   ]
  },
  {
   "cell_type": "code",
   "execution_count": 12,
   "metadata": {},
   "outputs": [
    {
     "name": "stdout",
     "output_type": "stream",
     "text": [
      "<class 'pandas.core.frame.DataFrame'>\n",
      "RangeIndex: 905 entries, 0 to 904\n",
      "Data columns (total 18 columns):\n",
      " #   Column            Non-Null Count  Dtype  \n",
      "---  ------            --------------  -----  \n",
      " 0   Age               905 non-null    object \n",
      " 1   Gender            905 non-null    object \n",
      " 2   Family_Diabetes   905 non-null    object \n",
      " 3   highBP            905 non-null    object \n",
      " 4   PhysicallyActive  905 non-null    object \n",
      " 5   BMI               905 non-null    float64\n",
      " 6   Smoking           905 non-null    object \n",
      " 7   Alcohol           905 non-null    object \n",
      " 8   Sleep             905 non-null    int64  \n",
      " 9   SoundSleep        905 non-null    int64  \n",
      " 10  RegularMedicine   905 non-null    object \n",
      " 11  JunkFood          905 non-null    object \n",
      " 12  Stress            905 non-null    object \n",
      " 13  BPLevel           905 non-null    object \n",
      " 14  Pregnancies       905 non-null    float64\n",
      " 15  Pdiabetes         905 non-null    object \n",
      " 16  UriationFreq      905 non-null    object \n",
      " 17  Diabetic          905 non-null    int64  \n",
      "dtypes: float64(2), int64(3), object(13)\n",
      "memory usage: 127.4+ KB\n"
     ]
    }
   ],
   "source": [
    "data.info()"
   ]
  },
  {
   "cell_type": "code",
   "execution_count": 13,
   "metadata": {},
   "outputs": [],
   "source": [
    "from sklearn.preprocessing import LabelEncoder\n",
    "\n",
    "# Initialize the encoder\n",
    "label_encoder = LabelEncoder()\n",
    "\n",
    "data[\"Age\"] = label_encoder.fit_transform(data[\"Age\"])\n",
    "data[\"Gender\"] = label_encoder.fit_transform(data[\"Gender\"])\n",
    "data[\"Family_Diabetes\"] = label_encoder.fit_transform(data[\"Family_Diabetes\"])\n",
    "data[\"highBP\"] = label_encoder.fit_transform(data[\"highBP\"])\n",
    "data[\"PhysicallyActive\"] = label_encoder.fit_transform(data[\"PhysicallyActive\"])\n",
    "data[\"Smoking\"] = label_encoder.fit_transform(data[\"Smoking\"])\n",
    "data[\"Alcohol\"] = label_encoder.fit_transform(data[\"Alcohol\"])\n",
    "data[\"RegularMedicine\"] = label_encoder.fit_transform(data[\"RegularMedicine\"])\n",
    "data[\"JunkFood\"] = label_encoder.fit_transform(data[\"JunkFood\"])\n",
    "data[\"Stress\"] = label_encoder.fit_transform(data[\"Stress\"])\n",
    "data[\"BPLevel\"] = label_encoder.fit_transform(data[\"BPLevel\"])\n",
    "data[\"Pdiabetes\"] = label_encoder.fit_transform(data[\"Pdiabetes\"])\n",
    "data[\"UriationFreq\"] = label_encoder.fit_transform(data[\"UriationFreq\"])\n"
   ]
  },
  {
   "cell_type": "code",
   "execution_count": 14,
   "metadata": {},
   "outputs": [
    {
     "name": "stdout",
     "output_type": "stream",
     "text": [
      "<class 'pandas.core.frame.DataFrame'>\n",
      "RangeIndex: 905 entries, 0 to 904\n",
      "Data columns (total 18 columns):\n",
      " #   Column            Non-Null Count  Dtype  \n",
      "---  ------            --------------  -----  \n",
      " 0   Age               905 non-null    int64  \n",
      " 1   Gender            905 non-null    int64  \n",
      " 2   Family_Diabetes   905 non-null    int64  \n",
      " 3   highBP            905 non-null    int64  \n",
      " 4   PhysicallyActive  905 non-null    int64  \n",
      " 5   BMI               905 non-null    float64\n",
      " 6   Smoking           905 non-null    int64  \n",
      " 7   Alcohol           905 non-null    int64  \n",
      " 8   Sleep             905 non-null    int64  \n",
      " 9   SoundSleep        905 non-null    int64  \n",
      " 10  RegularMedicine   905 non-null    int64  \n",
      " 11  JunkFood          905 non-null    int64  \n",
      " 12  Stress            905 non-null    int64  \n",
      " 13  BPLevel           905 non-null    int64  \n",
      " 14  Pregnancies       905 non-null    float64\n",
      " 15  Pdiabetes         905 non-null    int64  \n",
      " 16  UriationFreq      905 non-null    int64  \n",
      " 17  Diabetic          905 non-null    int64  \n",
      "dtypes: float64(2), int64(16)\n",
      "memory usage: 127.4 KB\n"
     ]
    }
   ],
   "source": [
    "data.info()"
   ]
  }
 ],
 "metadata": {
  "kernelspec": {
   "display_name": "Python 3",
   "language": "python",
   "name": "python3"
  },
  "language_info": {
   "codemirror_mode": {
    "name": "ipython",
    "version": 3
   },
   "file_extension": ".py",
   "mimetype": "text/x-python",
   "name": "python",
   "nbconvert_exporter": "python",
   "pygments_lexer": "ipython3",
   "version": "3.12.6"
  }
 },
 "nbformat": 4,
 "nbformat_minor": 2
}
