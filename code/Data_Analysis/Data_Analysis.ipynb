{
 "cells": [
  {
   "cell_type": "code",
   "execution_count": 1,
   "metadata": {},
   "outputs": [
    {
     "name": "stdout",
     "output_type": "stream",
     "text": [
      "Note: you may need to restart the kernel to use updated packages.Requirement already satisfied: seaborn in c:\\users\\zhossai3\\appdata\\local\\programs\\python\\python312\\lib\\site-packages (0.13.2)\n",
      "Requirement already satisfied: numpy!=1.24.0,>=1.20 in c:\\users\\zhossai3\\appdata\\local\\programs\\python\\python312\\lib\\site-packages (from seaborn) (2.0.2)\n",
      "Requirement already satisfied: pandas>=1.2 in c:\\users\\zhossai3\\appdata\\local\\programs\\python\\python312\\lib\\site-packages (from seaborn) (2.2.3)\n",
      "Requirement already satisfied: matplotlib!=3.6.1,>=3.4 in c:\\users\\zhossai3\\appdata\\local\\programs\\python\\python312\\lib\\site-packages (from seaborn) (3.9.2)\n",
      "Requirement already satisfied: contourpy>=1.0.1 in c:\\users\\zhossai3\\appdata\\local\\programs\\python\\python312\\lib\\site-packages (from matplotlib!=3.6.1,>=3.4->seaborn) (1.3.0)\n",
      "Requirement already satisfied: cycler>=0.10 in c:\\users\\zhossai3\\appdata\\local\\programs\\python\\python312\\lib\\site-packages (from matplotlib!=3.6.1,>=3.4->seaborn) (0.12.1)\n",
      "Requirement already satisfied: fonttools>=4.22.0 in c:\\users\\zhossai3\\appdata\\local\\programs\\python\\python312\\lib\\site-packages (from matplotlib!=3.6.1,>=3.4->seaborn) (4.54.1)\n",
      "Requirement already satisfied: kiwisolver>=1.3.1 in c:\\users\\zhossai3\\appdata\\local\\programs\\python\\python312\\lib\\site-packages (from matplotlib!=3.6.1,>=3.4->seaborn) (1.4.7)\n",
      "Requirement already satisfied: packaging>=20.0 in c:\\users\\zhossai3\\appdata\\roaming\\python\\python312\\site-packages (from matplotlib!=3.6.1,>=3.4->seaborn) (24.1)\n",
      "Requirement already satisfied: pillow>=8 in c:\\users\\zhossai3\\appdata\\local\\programs\\python\\python312\\lib\\site-packages (from matplotlib!=3.6.1,>=3.4->seaborn) (10.4.0)\n",
      "Requirement already satisfied: pyparsing>=2.3.1 in c:\\users\\zhossai3\\appdata\\local\\programs\\python\\python312\\lib\\site-packages (from matplotlib!=3.6.1,>=3.4->seaborn) (3.1.4)\n",
      "Requirement already satisfied: python-dateutil>=2.7 in c:\\users\\zhossai3\\appdata\\roaming\\python\\python312\\site-packages (from matplotlib!=3.6.1,>=3.4->seaborn) (2.9.0.post0)\n",
      "Requirement already satisfied: pytz>=2020.1 in c:\\users\\zhossai3\\appdata\\local\\programs\\python\\python312\\lib\\site-packages (from pandas>=1.2->seaborn) (2024.2)\n",
      "Requirement already satisfied: tzdata>=2022.7 in c:\\users\\zhossai3\\appdata\\local\\programs\\python\\python312\\lib\\site-packages (from pandas>=1.2->seaborn) (2024.2)\n",
      "Requirement already satisfied: six>=1.5 in c:\\users\\zhossai3\\appdata\\roaming\\python\\python312\\site-packages (from python-dateutil>=2.7->matplotlib!=3.6.1,>=3.4->seaborn) (1.16.0)\n",
      "\n"
     ]
    },
    {
     "name": "stderr",
     "output_type": "stream",
     "text": [
      "\n",
      "[notice] A new release of pip is available: 24.2 -> 25.0.1\n",
      "[notice] To update, run: python.exe -m pip install --upgrade pip\n"
     ]
    }
   ],
   "source": [
    "pip install seaborn"
   ]
  },
  {
   "cell_type": "code",
   "execution_count": 2,
   "metadata": {},
   "outputs": [],
   "source": [
    "import pandas as pd\n",
    "import seaborn as sns\n",
    "import matplotlib.pyplot as plt\n",
    "import numpy as np"
   ]
  },
  {
   "cell_type": "markdown",
   "metadata": {},
   "source": [
    "ADULT DATA"
   ]
  },
  {
   "cell_type": "code",
   "execution_count": 179,
   "metadata": {},
   "outputs": [],
   "source": [
    "adult_data = pd.read_csv(r\"C:\\Users\\zhossai3\\Desktop\\My code\\OT+Fairness\\Data\\adult\\adult_original.csv\")"
   ]
  },
  {
   "cell_type": "code",
   "execution_count": 156,
   "metadata": {},
   "outputs": [
    {
     "name": "stdout",
     "output_type": "stream",
     "text": [
      "Total percentage of missing values: 0.30%\n"
     ]
    }
   ],
   "source": [
    "adult_missing_percentage = adult_data.isnull().sum().sum() / (adult_data.shape[0] * adult_data.shape[1]) * 100\n",
    "\n",
    "print(f\"Total percentage of missing values: {adult_missing_percentage:.2f}%\")"
   ]
  },
  {
   "cell_type": "code",
   "execution_count": 131,
   "metadata": {},
   "outputs": [
    {
     "name": "stdout",
     "output_type": "stream",
     "text": [
      "(48842, 15)\n"
     ]
    }
   ],
   "source": [
    "print(adult_data.shape)"
   ]
  },
  {
   "cell_type": "code",
   "execution_count": 132,
   "metadata": {},
   "outputs": [
    {
     "name": "stdout",
     "output_type": "stream",
     "text": [
      "   age         workclass  fnlwgt  education  education-num  \\\n",
      "0   39         State-gov   77516  Bachelors             13   \n",
      "1   50  Self-emp-not-inc   83311  Bachelors             13   \n",
      "2   38           Private  215646    HS-grad              9   \n",
      "3   53           Private  234721       11th              7   \n",
      "4   28           Private  338409  Bachelors             13   \n",
      "\n",
      "       marital-status         occupation   relationship   race     sex  \\\n",
      "0       Never-married       Adm-clerical  Not-in-family  White    Male   \n",
      "1  Married-civ-spouse    Exec-managerial        Husband  White    Male   \n",
      "2            Divorced  Handlers-cleaners  Not-in-family  White    Male   \n",
      "3  Married-civ-spouse  Handlers-cleaners        Husband  Black    Male   \n",
      "4  Married-civ-spouse     Prof-specialty           Wife  Black  Female   \n",
      "\n",
      "   capital-gain  capital-loss  hours-per-week native-country income  \n",
      "0          2174             0              40  United-States  <=50K  \n",
      "1             0             0              13  United-States  <=50K  \n",
      "2             0             0              40  United-States  <=50K  \n",
      "3             0             0              40  United-States  <=50K  \n",
      "4             0             0              40           Cuba  <=50K  \n"
     ]
    }
   ],
   "source": [
    "print(adult_data.head())"
   ]
  },
  {
   "cell_type": "code",
   "execution_count": 133,
   "metadata": {},
   "outputs": [
    {
     "name": "stdout",
     "output_type": "stream",
     "text": [
      "<bound method NDFrame.describe of        age         workclass  fnlwgt  education  education-num  \\\n",
      "0       39         State-gov   77516  Bachelors             13   \n",
      "1       50  Self-emp-not-inc   83311  Bachelors             13   \n",
      "2       38           Private  215646    HS-grad              9   \n",
      "3       53           Private  234721       11th              7   \n",
      "4       28           Private  338409  Bachelors             13   \n",
      "...    ...               ...     ...        ...            ...   \n",
      "48837   39           Private  215419  Bachelors             13   \n",
      "48838   64               NaN  321403    HS-grad              9   \n",
      "48839   38           Private  374983  Bachelors             13   \n",
      "48840   44           Private   83891  Bachelors             13   \n",
      "48841   35      Self-emp-inc  182148  Bachelors             13   \n",
      "\n",
      "           marital-status         occupation    relationship  \\\n",
      "0           Never-married       Adm-clerical   Not-in-family   \n",
      "1      Married-civ-spouse    Exec-managerial         Husband   \n",
      "2                Divorced  Handlers-cleaners   Not-in-family   \n",
      "3      Married-civ-spouse  Handlers-cleaners         Husband   \n",
      "4      Married-civ-spouse     Prof-specialty            Wife   \n",
      "...                   ...                ...             ...   \n",
      "48837            Divorced     Prof-specialty   Not-in-family   \n",
      "48838             Widowed                NaN  Other-relative   \n",
      "48839  Married-civ-spouse     Prof-specialty         Husband   \n",
      "48840            Divorced       Adm-clerical       Own-child   \n",
      "48841  Married-civ-spouse    Exec-managerial         Husband   \n",
      "\n",
      "                     race     sex  capital-gain  capital-loss  hours-per-week  \\\n",
      "0                   White    Male          2174             0              40   \n",
      "1                   White    Male             0             0              13   \n",
      "2                   White    Male             0             0              40   \n",
      "3                   Black    Male             0             0              40   \n",
      "4                   Black  Female             0             0              40   \n",
      "...                   ...     ...           ...           ...             ...   \n",
      "48837               White  Female             0             0              36   \n",
      "48838               Black    Male             0             0              40   \n",
      "48839               White    Male             0             0              50   \n",
      "48840  Asian-Pac-Islander    Male          5455             0              40   \n",
      "48841               White    Male             0             0              60   \n",
      "\n",
      "      native-country  income  \n",
      "0      United-States   <=50K  \n",
      "1      United-States   <=50K  \n",
      "2      United-States   <=50K  \n",
      "3      United-States   <=50K  \n",
      "4               Cuba   <=50K  \n",
      "...              ...     ...  \n",
      "48837  United-States  <=50K.  \n",
      "48838  United-States  <=50K.  \n",
      "48839  United-States  <=50K.  \n",
      "48840  United-States  <=50K.  \n",
      "48841  United-States   >50K.  \n",
      "\n",
      "[48842 rows x 15 columns]>\n"
     ]
    }
   ],
   "source": [
    "print(adult_data.describe)"
   ]
  },
  {
   "cell_type": "code",
   "execution_count": 134,
   "metadata": {},
   "outputs": [
    {
     "name": "stdout",
     "output_type": "stream",
     "text": [
      "age                 0\n",
      "workclass         963\n",
      "fnlwgt              0\n",
      "education           0\n",
      "education-num       0\n",
      "marital-status      0\n",
      "occupation        966\n",
      "relationship        0\n",
      "race                0\n",
      "sex                 0\n",
      "capital-gain        0\n",
      "capital-loss        0\n",
      "hours-per-week      0\n",
      "native-country    274\n",
      "income              0\n",
      "dtype: int64\n"
     ]
    }
   ],
   "source": [
    "print(adult_data.isnull().sum())"
   ]
  },
  {
   "cell_type": "code",
   "execution_count": 135,
   "metadata": {},
   "outputs": [
    {
     "name": "stdout",
     "output_type": "stream",
     "text": [
      "['United-States' 'Cuba' 'Jamaica' 'India' '?' 'Mexico' 'South'\n",
      " 'Puerto-Rico' 'Honduras' 'England' 'Canada' 'Germany' 'Iran'\n",
      " 'Philippines' 'Italy' 'Poland' 'Columbia' 'Cambodia' 'Thailand' 'Ecuador'\n",
      " 'Laos' 'Taiwan' 'Haiti' 'Portugal' 'Dominican-Republic' 'El-Salvador'\n",
      " 'France' 'Guatemala' 'China' 'Japan' 'Yugoslavia' 'Peru'\n",
      " 'Outlying-US(Guam-USVI-etc)' 'Scotland' 'Trinadad&Tobago' 'Greece'\n",
      " 'Nicaragua' 'Vietnam' 'Hong' 'Ireland' 'Hungary' 'Holand-Netherlands' nan]\n"
     ]
    }
   ],
   "source": [
    "print(adult_data['native-country'].unique())"
   ]
  },
  {
   "cell_type": "code",
   "execution_count": 136,
   "metadata": {},
   "outputs": [],
   "source": [
    "# Drop the 'education' column\n",
    "adult_data_modify = adult_data.drop(columns=['education'])\n"
   ]
  },
  {
   "cell_type": "code",
   "execution_count": 137,
   "metadata": {},
   "outputs": [
    {
     "data": {
      "text/plain": [
       "pandas.core.frame.DataFrame"
      ]
     },
     "execution_count": 137,
     "metadata": {},
     "output_type": "execute_result"
    }
   ],
   "source": [
    "type(adult_data_modify)"
   ]
  },
  {
   "cell_type": "code",
   "execution_count": 138,
   "metadata": {},
   "outputs": [],
   "source": [
    "\n",
    "import numpy as np\n",
    "adult_data_modify = adult_data_modify.replace('?', np.nan)\n",
    "adult_data_modify = adult_data_modify.fillna(-1)\n",
    "\n"
   ]
  },
  {
   "cell_type": "code",
   "execution_count": 139,
   "metadata": {},
   "outputs": [
    {
     "name": "stdout",
     "output_type": "stream",
     "text": [
      "age               0\n",
      "workclass         0\n",
      "fnlwgt            0\n",
      "education-num     0\n",
      "marital-status    0\n",
      "occupation        0\n",
      "relationship      0\n",
      "race              0\n",
      "sex               0\n",
      "capital-gain      0\n",
      "capital-loss      0\n",
      "hours-per-week    0\n",
      "native-country    0\n",
      "income            0\n",
      "dtype: int64\n",
      "age               0\n",
      "workclass         0\n",
      "fnlwgt            0\n",
      "education-num     0\n",
      "marital-status    0\n",
      "occupation        0\n",
      "relationship      0\n",
      "race              0\n",
      "sex               0\n",
      "capital-gain      0\n",
      "capital-loss      0\n",
      "hours-per-week    0\n",
      "native-country    0\n",
      "income            0\n",
      "dtype: int64\n"
     ]
    }
   ],
   "source": [
    "print(adult_data_modify.isnull().sum())  \n",
    "print((adult_data_modify == '?').sum())  "
   ]
  },
  {
   "cell_type": "code",
   "execution_count": 140,
   "metadata": {},
   "outputs": [
    {
     "name": "stdout",
     "output_type": "stream",
     "text": [
      "<class 'pandas.core.frame.DataFrame'>\n",
      "RangeIndex: 48842 entries, 0 to 48841\n",
      "Data columns (total 14 columns):\n",
      " #   Column          Non-Null Count  Dtype \n",
      "---  ------          --------------  ----- \n",
      " 0   age             48842 non-null  int64 \n",
      " 1   workclass       48842 non-null  object\n",
      " 2   fnlwgt          48842 non-null  int64 \n",
      " 3   education-num   48842 non-null  int64 \n",
      " 4   marital-status  48842 non-null  object\n",
      " 5   occupation      48842 non-null  object\n",
      " 6   relationship    48842 non-null  object\n",
      " 7   race            48842 non-null  object\n",
      " 8   sex             48842 non-null  object\n",
      " 9   capital-gain    48842 non-null  int64 \n",
      " 10  capital-loss    48842 non-null  int64 \n",
      " 11  hours-per-week  48842 non-null  int64 \n",
      " 12  native-country  48842 non-null  object\n",
      " 13  income          48842 non-null  object\n",
      "dtypes: int64(6), object(8)\n",
      "memory usage: 5.2+ MB\n"
     ]
    }
   ],
   "source": [
    "adult_data_modify.info()"
   ]
  },
  {
   "cell_type": "code",
   "execution_count": 141,
   "metadata": {},
   "outputs": [
    {
     "name": "stdout",
     "output_type": "stream",
     "text": [
      "['State-gov' 'Self-emp-not-inc' 'Private' 'Federal-gov' 'Local-gov' -1\n",
      " 'Self-emp-inc' 'Without-pay' 'Never-worked']\n",
      "['Never-married' 'Married-civ-spouse' 'Divorced' 'Married-spouse-absent'\n",
      " 'Separated' 'Married-AF-spouse' 'Widowed']\n",
      "['Adm-clerical' 'Exec-managerial' 'Handlers-cleaners' 'Prof-specialty'\n",
      " 'Other-service' 'Sales' 'Craft-repair' 'Transport-moving'\n",
      " 'Farming-fishing' 'Machine-op-inspct' 'Tech-support' -1 'Protective-serv'\n",
      " 'Armed-Forces' 'Priv-house-serv']\n",
      "['Not-in-family' 'Husband' 'Wife' 'Own-child' 'Unmarried' 'Other-relative']\n",
      "['White' 'Black' 'Asian-Pac-Islander' 'Amer-Indian-Eskimo' 'Other']\n",
      "['Male' 'Female']\n"
     ]
    }
   ],
   "source": [
    "print(adult_data_modify[\"workclass\"].unique())\n",
    "print(adult_data_modify[\"marital-status\"].unique())\n",
    "print(adult_data_modify[\"occupation\"].unique())\n",
    "print(adult_data_modify[\"relationship\"].unique())\n",
    "print(adult_data_modify[\"race\"].unique())\n",
    "print(adult_data_modify[\"sex\"].unique())"
   ]
  },
  {
   "cell_type": "code",
   "execution_count": 142,
   "metadata": {},
   "outputs": [],
   "source": [
    "relationship = {'Husband': 1, 'Wife': 1, 'Own-child': 2, 'Other-relative': 3,'Unmarried':4,'Not-in-family':4}\n",
    "adult_data_modify['relationship'] = adult_data_modify['relationship'].map(relationship)\n"
   ]
  },
  {
   "cell_type": "code",
   "execution_count": 143,
   "metadata": {},
   "outputs": [],
   "source": [
    "sex = {'Male': 1, 'Female': 2}\n",
    "adult_data_modify['sex'] = adult_data_modify['sex'].map(sex)"
   ]
  },
  {
   "cell_type": "code",
   "execution_count": 144,
   "metadata": {},
   "outputs": [],
   "source": [
    "race = {'White': 1, 'Black': 2, 'Asian-Pac-Islander': 2, 'Amer-Indian-Eskimo': 2,'Other':2}\n",
    "adult_data_modify['race'] = adult_data_modify['race'].map(race)"
   ]
  },
  {
   "cell_type": "code",
   "execution_count": 145,
   "metadata": {},
   "outputs": [],
   "source": [
    "workclass = {'State-gov': 1, 'Federal-gov': 1, 'Local-gov': 1, 'Private': 2,'Self-emp-inc':3,'Self-emp-not-inc':3,'Without-pay':4,'Never-worked':5,-1:-1}\n",
    "adult_data_modify['workclass'] = adult_data_modify['workclass'].map(workclass)"
   ]
  },
  {
   "cell_type": "code",
   "execution_count": 146,
   "metadata": {},
   "outputs": [],
   "source": [
    "maritalstatus = {'Married-civ-spouse': 1, 'Married-AF-spouse': 1, 'Married-spouse-absent': 1, 'Divorced': 2,'Separated':2,'Widowed':2,'Never-married':3}\n",
    "adult_data_modify['marital-status'] = adult_data_modify['marital-status'].map(maritalstatus)"
   ]
  },
  {
   "cell_type": "code",
   "execution_count": 147,
   "metadata": {},
   "outputs": [],
   "source": [
    "occupation = {'Adm-clerical': 1, 'Exec-managerial': 1, 'Prof-specialty': 1, 'Protective-serv': 3,'Priv-house-serv':3,'Other-service':3,'Sales':3,'Craft-repair':2,'Machine-op-inspct':2,'Transport-moving':2,'Farming-fishing':2,'Handlers-cleaners':2,'Tech-support':3,'Armed-Forces':3,-1:-1}\n",
    "adult_data_modify['occupation'] = adult_data_modify['occupation'].map(occupation)"
   ]
  },
  {
   "cell_type": "code",
   "execution_count": 148,
   "metadata": {},
   "outputs": [
    {
     "name": "stdout",
     "output_type": "stream",
     "text": [
      "['<=50K' '>50K' '<=50K.' '>50K.']\n"
     ]
    }
   ],
   "source": [
    "print(adult_data_modify['income'].unique())"
   ]
  },
  {
   "cell_type": "code",
   "execution_count": 149,
   "metadata": {},
   "outputs": [],
   "source": [
    "from sklearn.preprocessing import LabelEncoder\n",
    "\n",
    "# Example for one column\n",
    "label_encoder = LabelEncoder()\n",
    "adult_data_modify['income'] = label_encoder.fit_transform(adult_data_modify['income'])\n"
   ]
  },
  {
   "cell_type": "code",
   "execution_count": 150,
   "metadata": {},
   "outputs": [],
   "source": [
    "country_to_region = {\n",
    "    'United-States': 'North America', 'Cuba': 'North America', 'Jamaica': 'Caribbean', \n",
    "    'India': 'Asia', 'Mexico': 'North America', 'South': -1, 'Puerto-Rico': 'North America', \n",
    "    'Honduras': 'North America', 'England': 'Europe', 'Canada': 'North America', 'Germany': 'Europe', \n",
    "    'Iran': 'Asia', 'Philippines': 'Asia', 'Italy': 'Europe', 'Poland': 'Europe', \n",
    "    'Columbia': 'South America', 'Cambodia': 'Asia', 'Thailand': 'Asia', 'Ecuador': 'South America', \n",
    "    'Laos': 'Asia', 'Taiwan': 'Asia', 'Haiti': 'Caribbean', 'Portugal': 'Europe', \n",
    "    'Dominican-Republic': 'North America', 'El-Salvador': 'North America', 'France': 'Europe', \n",
    "    'Guatemala': 'North America', 'China': 'Asia', 'Japan': 'Asia', 'Yugoslavia': 'Europe', \n",
    "    'Peru': 'South America', 'Outlying-US(Guam-USVI-etc)': 'North America', 'Scotland': 'Europe', \n",
    "    'Trinadad&Tobago': 'Caribbean', 'Greece': 'Europe', 'Nicaragua': 'North America', \n",
    "    'Vietnam': 'Asia', 'Hong': 'Asia', 'Ireland': 'Europe', 'Hungary': 'Europe', \n",
    "    'Holand-Netherlands': 'Europe', -1: -1\n",
    "}\n",
    "\n",
    "region_to_number = {\n",
    "    'North America': 1,\n",
    "    'South America': 2,\n",
    "    'Europe': 3,\n",
    "    'Asia': 4,\n",
    "    'Caribbean': 5,\n",
    "    -1 : -1\n",
    "}\n",
    "\n",
    "# Step 2: Replace the native-country column with continent numbers\n",
    "adult_data_modify['native-country'] = (\n",
    "    adult_data_modify['native-country']\n",
    "    .map(country_to_region)   # Convert countries to regions\n",
    "    .map(region_to_number)    # Convert regions to numeric codes\n",
    ")"
   ]
  },
  {
   "cell_type": "code",
   "execution_count": 151,
   "metadata": {},
   "outputs": [
    {
     "name": "stdout",
     "output_type": "stream",
     "text": [
      "<class 'pandas.core.frame.DataFrame'>\n",
      "RangeIndex: 48842 entries, 0 to 48841\n",
      "Data columns (total 14 columns):\n",
      " #   Column          Non-Null Count  Dtype\n",
      "---  ------          --------------  -----\n",
      " 0   age             48842 non-null  int64\n",
      " 1   workclass       48842 non-null  int64\n",
      " 2   fnlwgt          48842 non-null  int64\n",
      " 3   education-num   48842 non-null  int64\n",
      " 4   marital-status  48842 non-null  int64\n",
      " 5   occupation      48842 non-null  int64\n",
      " 6   relationship    48842 non-null  int64\n",
      " 7   race            48842 non-null  int64\n",
      " 8   sex             48842 non-null  int64\n",
      " 9   capital-gain    48842 non-null  int64\n",
      " 10  capital-loss    48842 non-null  int64\n",
      " 11  hours-per-week  48842 non-null  int64\n",
      " 12  native-country  48842 non-null  int64\n",
      " 13  income          48842 non-null  int64\n",
      "dtypes: int64(14)\n",
      "memory usage: 5.2 MB\n"
     ]
    }
   ],
   "source": [
    "adult_data_modify.info()"
   ]
  },
  {
   "cell_type": "code",
   "execution_count": 180,
   "metadata": {},
   "outputs": [],
   "source": [
    "adult_data_modify.to_csv(r\"C:\\Users\\zhossai3\\Desktop\\My code\\OT+Fairness\\Data\\adult\\adult_data_modify.csv\", index=False)"
   ]
  },
  {
   "cell_type": "code",
   "execution_count": 181,
   "metadata": {},
   "outputs": [
    {
     "data": {
      "text/html": [
       "<div>\n",
       "<style scoped>\n",
       "    .dataframe tbody tr th:only-of-type {\n",
       "        vertical-align: middle;\n",
       "    }\n",
       "\n",
       "    .dataframe tbody tr th {\n",
       "        vertical-align: top;\n",
       "    }\n",
       "\n",
       "    .dataframe thead th {\n",
       "        text-align: right;\n",
       "    }\n",
       "</style>\n",
       "<table border=\"1\" class=\"dataframe\">\n",
       "  <thead>\n",
       "    <tr style=\"text-align: right;\">\n",
       "      <th></th>\n",
       "      <th>age</th>\n",
       "      <th>workclass</th>\n",
       "      <th>fnlwgt</th>\n",
       "      <th>education-num</th>\n",
       "      <th>marital-status</th>\n",
       "      <th>occupation</th>\n",
       "      <th>relationship</th>\n",
       "      <th>race</th>\n",
       "      <th>sex</th>\n",
       "      <th>capital-gain</th>\n",
       "      <th>capital-loss</th>\n",
       "      <th>hours-per-week</th>\n",
       "      <th>native-country</th>\n",
       "      <th>income</th>\n",
       "    </tr>\n",
       "  </thead>\n",
       "  <tbody>\n",
       "    <tr>\n",
       "      <th>0</th>\n",
       "      <td>39</td>\n",
       "      <td>1</td>\n",
       "      <td>77516</td>\n",
       "      <td>13</td>\n",
       "      <td>3</td>\n",
       "      <td>1</td>\n",
       "      <td>4</td>\n",
       "      <td>1</td>\n",
       "      <td>1</td>\n",
       "      <td>2174</td>\n",
       "      <td>0</td>\n",
       "      <td>40</td>\n",
       "      <td>1</td>\n",
       "      <td>0</td>\n",
       "    </tr>\n",
       "    <tr>\n",
       "      <th>1</th>\n",
       "      <td>50</td>\n",
       "      <td>3</td>\n",
       "      <td>83311</td>\n",
       "      <td>13</td>\n",
       "      <td>1</td>\n",
       "      <td>1</td>\n",
       "      <td>1</td>\n",
       "      <td>1</td>\n",
       "      <td>1</td>\n",
       "      <td>0</td>\n",
       "      <td>0</td>\n",
       "      <td>13</td>\n",
       "      <td>1</td>\n",
       "      <td>0</td>\n",
       "    </tr>\n",
       "    <tr>\n",
       "      <th>2</th>\n",
       "      <td>38</td>\n",
       "      <td>2</td>\n",
       "      <td>215646</td>\n",
       "      <td>9</td>\n",
       "      <td>2</td>\n",
       "      <td>2</td>\n",
       "      <td>4</td>\n",
       "      <td>1</td>\n",
       "      <td>1</td>\n",
       "      <td>0</td>\n",
       "      <td>0</td>\n",
       "      <td>40</td>\n",
       "      <td>1</td>\n",
       "      <td>0</td>\n",
       "    </tr>\n",
       "    <tr>\n",
       "      <th>3</th>\n",
       "      <td>53</td>\n",
       "      <td>2</td>\n",
       "      <td>234721</td>\n",
       "      <td>7</td>\n",
       "      <td>1</td>\n",
       "      <td>2</td>\n",
       "      <td>1</td>\n",
       "      <td>2</td>\n",
       "      <td>1</td>\n",
       "      <td>0</td>\n",
       "      <td>0</td>\n",
       "      <td>40</td>\n",
       "      <td>1</td>\n",
       "      <td>0</td>\n",
       "    </tr>\n",
       "    <tr>\n",
       "      <th>4</th>\n",
       "      <td>28</td>\n",
       "      <td>2</td>\n",
       "      <td>338409</td>\n",
       "      <td>13</td>\n",
       "      <td>1</td>\n",
       "      <td>1</td>\n",
       "      <td>1</td>\n",
       "      <td>2</td>\n",
       "      <td>2</td>\n",
       "      <td>0</td>\n",
       "      <td>0</td>\n",
       "      <td>40</td>\n",
       "      <td>1</td>\n",
       "      <td>0</td>\n",
       "    </tr>\n",
       "  </tbody>\n",
       "</table>\n",
       "</div>"
      ],
      "text/plain": [
       "   age  workclass  fnlwgt  education-num  marital-status  occupation  \\\n",
       "0   39          1   77516             13               3           1   \n",
       "1   50          3   83311             13               1           1   \n",
       "2   38          2  215646              9               2           2   \n",
       "3   53          2  234721              7               1           2   \n",
       "4   28          2  338409             13               1           1   \n",
       "\n",
       "   relationship  race  sex  capital-gain  capital-loss  hours-per-week  \\\n",
       "0             4     1    1          2174             0              40   \n",
       "1             1     1    1             0             0              13   \n",
       "2             4     1    1             0             0              40   \n",
       "3             1     2    1             0             0              40   \n",
       "4             1     2    2             0             0              40   \n",
       "\n",
       "   native-country  income  \n",
       "0               1       0  \n",
       "1               1       0  \n",
       "2               1       0  \n",
       "3               1       0  \n",
       "4               1       0  "
      ]
     },
     "execution_count": 181,
     "metadata": {},
     "output_type": "execute_result"
    }
   ],
   "source": [
    "adult_data_modify.head()"
   ]
  },
  {
   "cell_type": "markdown",
   "metadata": {},
   "source": [
    "Creating a new dataset which does not have any missing value coloumns"
   ]
  },
  {
   "cell_type": "code",
   "execution_count": 182,
   "metadata": {},
   "outputs": [],
   "source": [
    "adult_data_without_missing_values = adult_data.drop(columns=['education'])\n"
   ]
  },
  {
   "cell_type": "code",
   "execution_count": 183,
   "metadata": {},
   "outputs": [],
   "source": [
    "adult_data_without_missing_values = adult_data_without_missing_values.replace('?', pd.NA)\n",
    "\n",
    "# Drop rows with NaN (which now include rows that had '?')\n",
    "adult_data_without_missing_values = adult_data_without_missing_values.dropna()\n",
    "\n",
    "# Reset the index for cleanliness\n",
    "#adult_data_without_missing_values = adult_data_without_missing_values.reset_index(drop=True)"
   ]
  },
  {
   "cell_type": "code",
   "execution_count": 184,
   "metadata": {},
   "outputs": [],
   "source": [
    "relationship = {'Husband': 1, 'Wife': 1, 'Own-child': 2, 'Other-relative': 3,'Unmarried':4,'Not-in-family':4}\n",
    "adult_data_without_missing_values['relationship'] = adult_data_without_missing_values['relationship'].map(relationship)\n",
    "\n",
    "sex = {'Male': 1, 'Female': 2}\n",
    "adult_data_without_missing_values['sex'] = adult_data_without_missing_values['sex'].map(sex)\n",
    "\n",
    "race = {'White': 1, 'Black': 2, 'Asian-Pac-Islander': 2, 'Amer-Indian-Eskimo': 2,'Other':2}\n",
    "adult_data_without_missing_values['race'] = adult_data_without_missing_values['race'].map(race)\n",
    "\n",
    "workclass = {'State-gov': 1, 'Federal-gov': 1, 'Local-gov': 1, 'Private': 2,'Self-emp-inc':3,'Self-emp-not-inc':3,'Without-pay':4,'Never-worked':5,-1:-1}\n",
    "adult_data_without_missing_values['workclass'] = adult_data_without_missing_values['workclass'].map(workclass)\n",
    "\n",
    "maritalstatus = {'Married-civ-spouse': 1, 'Married-AF-spouse': 1, 'Married-spouse-absent': 1, 'Divorced': 2,'Separated':2,'Widowed':2,'Never-married':3}\n",
    "adult_data_without_missing_values['marital-status'] = adult_data_without_missing_values['marital-status'].map(maritalstatus)\n",
    "\n",
    "occupation = {'Adm-clerical': 1, 'Exec-managerial': 1, 'Prof-specialty': 1, 'Protective-serv': 3,'Priv-house-serv':3,'Other-service':3,'Sales':3,'Craft-repair':2,'Machine-op-inspct':2,'Transport-moving':2,'Farming-fishing':2,'Handlers-cleaners':2,'Tech-support':3,'Armed-Forces':3,-1:-1}\n",
    "adult_data_without_missing_values['occupation'] = adult_data_without_missing_values['occupation'].map(occupation)\n",
    "\n",
    "\n",
    "# Example for one column\n",
    "label_encoder = LabelEncoder()\n",
    "adult_data_without_missing_values['income'] = label_encoder.fit_transform(adult_data_without_missing_values['income'])\n",
    "\n",
    "adult_data_without_missing_values['native-country'] = (\n",
    "    adult_data_without_missing_values['native-country']\n",
    "    .map(country_to_region)   # Convert countries to regions\n",
    "    .map(region_to_number)    # Convert regions to numeric codes\n",
    ")\n",
    "\n"
   ]
  },
  {
   "cell_type": "code",
   "execution_count": 185,
   "metadata": {},
   "outputs": [
    {
     "data": {
      "text/html": [
       "<div>\n",
       "<style scoped>\n",
       "    .dataframe tbody tr th:only-of-type {\n",
       "        vertical-align: middle;\n",
       "    }\n",
       "\n",
       "    .dataframe tbody tr th {\n",
       "        vertical-align: top;\n",
       "    }\n",
       "\n",
       "    .dataframe thead th {\n",
       "        text-align: right;\n",
       "    }\n",
       "</style>\n",
       "<table border=\"1\" class=\"dataframe\">\n",
       "  <thead>\n",
       "    <tr style=\"text-align: right;\">\n",
       "      <th></th>\n",
       "      <th>age</th>\n",
       "      <th>workclass</th>\n",
       "      <th>fnlwgt</th>\n",
       "      <th>education-num</th>\n",
       "      <th>marital-status</th>\n",
       "      <th>occupation</th>\n",
       "      <th>relationship</th>\n",
       "      <th>race</th>\n",
       "      <th>sex</th>\n",
       "      <th>capital-gain</th>\n",
       "      <th>capital-loss</th>\n",
       "      <th>hours-per-week</th>\n",
       "      <th>native-country</th>\n",
       "      <th>income</th>\n",
       "    </tr>\n",
       "  </thead>\n",
       "  <tbody>\n",
       "    <tr>\n",
       "      <th>0</th>\n",
       "      <td>39</td>\n",
       "      <td>1</td>\n",
       "      <td>77516</td>\n",
       "      <td>13</td>\n",
       "      <td>3</td>\n",
       "      <td>1</td>\n",
       "      <td>4</td>\n",
       "      <td>1</td>\n",
       "      <td>1</td>\n",
       "      <td>2174</td>\n",
       "      <td>0</td>\n",
       "      <td>40</td>\n",
       "      <td>1</td>\n",
       "      <td>0</td>\n",
       "    </tr>\n",
       "    <tr>\n",
       "      <th>1</th>\n",
       "      <td>50</td>\n",
       "      <td>3</td>\n",
       "      <td>83311</td>\n",
       "      <td>13</td>\n",
       "      <td>1</td>\n",
       "      <td>1</td>\n",
       "      <td>1</td>\n",
       "      <td>1</td>\n",
       "      <td>1</td>\n",
       "      <td>0</td>\n",
       "      <td>0</td>\n",
       "      <td>13</td>\n",
       "      <td>1</td>\n",
       "      <td>0</td>\n",
       "    </tr>\n",
       "  </tbody>\n",
       "</table>\n",
       "</div>"
      ],
      "text/plain": [
       "   age  workclass  fnlwgt  education-num  marital-status  occupation  \\\n",
       "0   39          1   77516             13               3           1   \n",
       "1   50          3   83311             13               1           1   \n",
       "\n",
       "   relationship  race  sex  capital-gain  capital-loss  hours-per-week  \\\n",
       "0             4     1    1          2174             0              40   \n",
       "1             1     1    1             0             0              13   \n",
       "\n",
       "   native-country  income  \n",
       "0               1       0  \n",
       "1               1       0  "
      ]
     },
     "execution_count": 185,
     "metadata": {},
     "output_type": "execute_result"
    }
   ],
   "source": [
    "adult_data_without_missing_values.head(2)"
   ]
  },
  {
   "cell_type": "code",
   "execution_count": 186,
   "metadata": {},
   "outputs": [
    {
     "data": {
      "text/plain": [
       "(45222, 14)"
      ]
     },
     "execution_count": 186,
     "metadata": {},
     "output_type": "execute_result"
    }
   ],
   "source": [
    "adult_data_without_missing_values.shape"
   ]
  },
  {
   "cell_type": "code",
   "execution_count": 187,
   "metadata": {},
   "outputs": [],
   "source": [
    "adult_data_without_missing_values.to_csv(r\"C:\\Users\\zhossai3\\Desktop\\My code\\OT+Fairness\\Data\\adult\\adult_data_without_missing_values.csv\", index=False)"
   ]
  },
  {
   "cell_type": "code",
   "execution_count": 188,
   "metadata": {},
   "outputs": [
    {
     "data": {
      "text/plain": [
       "age               0\n",
       "workclass         0\n",
       "fnlwgt            0\n",
       "education-num     0\n",
       "marital-status    0\n",
       "occupation        0\n",
       "relationship      0\n",
       "race              0\n",
       "sex               0\n",
       "capital-gain      0\n",
       "capital-loss      0\n",
       "hours-per-week    0\n",
       "native-country    0\n",
       "income            0\n",
       "dtype: int64"
      ]
     },
     "execution_count": 188,
     "metadata": {},
     "output_type": "execute_result"
    }
   ],
   "source": [
    "adult_data_without_missing_values.isnull().sum()"
   ]
  },
  {
   "cell_type": "code",
   "execution_count": 88,
   "metadata": {},
   "outputs": [
    {
     "data": {
      "image/png": "[encoded data removed]",
      "text/plain": [
       "<Figure size 640x480 with 1 Axes>"
      ]
     },
     "metadata": {},
     "output_type": "display_data"
    }
   ],
   "source": [
    "import seaborn as sns\n",
    "import matplotlib.pyplot as plt\n",
    "\n",
    "sns.histplot(adult_data, x=\"sex\", hue=\"income\", multiple=\"stack\")\n",
    "plt.show()"
   ]
  },
  {
   "cell_type": "code",
   "execution_count": 89,
   "metadata": {},
   "outputs": [
    {
     "data": {
      "image/png": "[encoded data removed]",
      "text/plain": [
       "<Figure size 640x480 with 1 Axes>"
      ]
     },
     "metadata": {},
     "output_type": "display_data"
    }
   ],
   "source": [
    "sns.countplot(x='sex', data = adult_data)\n",
    "plt.title('Gender Distribution - Adult Data')\n",
    "plt.show()"
   ]
  },
  {
   "cell_type": "code",
   "execution_count": 90,
   "metadata": {},
   "outputs": [
    {
     "data": {
      "image/png": "[encoded data removed]",
      "text/plain": [
       "<Figure size 640x480 with 1 Axes>"
      ]
     },
     "metadata": {},
     "output_type": "display_data"
    }
   ],
   "source": [
    "sns.countplot(x='race', data = adult_data)\n",
    "plt.title('Race Distribution - Adult Data')\n",
    "plt.show()"
   ]
  },
  {
   "cell_type": "code",
   "execution_count": 91,
   "metadata": {},
   "outputs": [
    {
     "data": {
      "image/png": "[encoded data removed]",
      "text/plain": [
       "<Figure size 640x480 with 1 Axes>"
      ]
     },
     "metadata": {},
     "output_type": "display_data"
    }
   ],
   "source": [
    "sns.histplot(adult_data['age'], kde=True)\n",
    "plt.title('Age Distribution - Adult Data')\n",
    "plt.show()"
   ]
  },
  {
   "cell_type": "code",
   "execution_count": 92,
   "metadata": {},
   "outputs": [
    {
     "name": "stdout",
     "output_type": "stream",
     "text": [
      "age               0.000000\n",
      "workclass         1.971664\n",
      "fnlwgt            0.000000\n",
      "education         0.000000\n",
      "education-num     0.000000\n",
      "marital-status    0.000000\n",
      "occupation        1.977806\n",
      "relationship      0.000000\n",
      "race              0.000000\n",
      "sex               0.000000\n",
      "capital-gain      0.000000\n",
      "capital-loss      0.000000\n",
      "hours-per-week    0.000000\n",
      "native-country    0.560993\n",
      "income            0.000000\n",
      "dtype: float64\n"
     ]
    }
   ],
   "source": [
    "missing_percentage = adult_data.isnull().mean() * 100\n",
    "print(missing_percentage)"
   ]
  },
  {
   "cell_type": "markdown",
   "metadata": {},
   "source": [
    "Total missing value percantage in Adult Data"
   ]
  },
  {
   "cell_type": "code",
   "execution_count": 93,
   "metadata": {},
   "outputs": [
    {
     "name": "stdout",
     "output_type": "stream",
     "text": [
      "Total percentage of missing values: 0.30%\n"
     ]
    }
   ],
   "source": [
    "# Calculate total percentage of missing values in the dataset\n",
    "Adult_total_missing_percentage = adult_data.isnull().sum().sum() / (adult_data.shape[0] * adult_data.shape[1]) * 100\n",
    "\n",
    "print(f\"Total percentage of missing values: {Adult_total_missing_percentage :.2f}%\")"
   ]
  },
  {
   "cell_type": "markdown",
   "metadata": {},
   "source": [
    "**Portugal student performance dataset**"
   ]
  },
  {
   "cell_type": "code",
   "execution_count": 95,
   "metadata": {},
   "outputs": [],
   "source": [
    "student_mat = pd.read_csv(r\"C:\\Users\\zhossai3\\Desktop\\My code\\OT+Fairness\\Data\\portugal student performance dataset\\student-mat.csv\",sep=';')\n",
    "student_por = pd.read_csv(r\"C:\\Users\\zhossai3\\Desktop\\My code\\OT+Fairness\\Data\\portugal student performance dataset\\student-por.csv\",sep=';')"
   ]
  },
  {
   "cell_type": "code",
   "execution_count": 96,
   "metadata": {},
   "outputs": [
    {
     "name": "stdout",
     "output_type": "stream",
     "text": [
      "Series([], dtype: int64)\n"
     ]
    }
   ],
   "source": [
    "missing_values = student_mat.isnull().sum()\n",
    "print(missing_values[missing_values > 0])"
   ]
  },
  {
   "cell_type": "code",
   "execution_count": 97,
   "metadata": {},
   "outputs": [
    {
     "name": "stdout",
     "output_type": "stream",
     "text": [
      "Series([], dtype: int64)\n"
     ]
    }
   ],
   "source": [
    "missing_values = student_por.isnull().sum()\n",
    "print(missing_values[missing_values > 0])"
   ]
  },
  {
   "cell_type": "code",
   "execution_count": 98,
   "metadata": {},
   "outputs": [
    {
     "data": {
      "text/html": [
       "<div>\n",
       "<style scoped>\n",
       "    .dataframe tbody tr th:only-of-type {\n",
       "        vertical-align: middle;\n",
       "    }\n",
       "\n",
       "    .dataframe tbody tr th {\n",
       "        vertical-align: top;\n",
       "    }\n",
       "\n",
       "    .dataframe thead th {\n",
       "        text-align: right;\n",
       "    }\n",
       "</style>\n",
       "<table border=\"1\" class=\"dataframe\">\n",
       "  <thead>\n",
       "    <tr style=\"text-align: right;\">\n",
       "      <th></th>\n",
       "      <th>school</th>\n",
       "      <th>sex</th>\n",
       "      <th>age</th>\n",
       "      <th>address</th>\n",
       "      <th>famsize</th>\n",
       "      <th>Pstatus</th>\n",
       "      <th>Medu</th>\n",
       "      <th>Fedu</th>\n",
       "      <th>Mjob</th>\n",
       "      <th>Fjob</th>\n",
       "      <th>...</th>\n",
       "      <th>famrel_por_data</th>\n",
       "      <th>freetime_por_data</th>\n",
       "      <th>goout_por_data</th>\n",
       "      <th>Dalc_por_data</th>\n",
       "      <th>Walc_por_data</th>\n",
       "      <th>health_por_data</th>\n",
       "      <th>absences_por_data</th>\n",
       "      <th>G1_por_data</th>\n",
       "      <th>G2_por_data</th>\n",
       "      <th>G3_por_data</th>\n",
       "    </tr>\n",
       "  </thead>\n",
       "  <tbody>\n",
       "    <tr>\n",
       "      <th>0</th>\n",
       "      <td>GP</td>\n",
       "      <td>F</td>\n",
       "      <td>18</td>\n",
       "      <td>U</td>\n",
       "      <td>GT3</td>\n",
       "      <td>A</td>\n",
       "      <td>4</td>\n",
       "      <td>4</td>\n",
       "      <td>at_home</td>\n",
       "      <td>teacher</td>\n",
       "      <td>...</td>\n",
       "      <td>4</td>\n",
       "      <td>3</td>\n",
       "      <td>4</td>\n",
       "      <td>1</td>\n",
       "      <td>1</td>\n",
       "      <td>3</td>\n",
       "      <td>4</td>\n",
       "      <td>0</td>\n",
       "      <td>11</td>\n",
       "      <td>11</td>\n",
       "    </tr>\n",
       "    <tr>\n",
       "      <th>1</th>\n",
       "      <td>GP</td>\n",
       "      <td>F</td>\n",
       "      <td>17</td>\n",
       "      <td>U</td>\n",
       "      <td>GT3</td>\n",
       "      <td>T</td>\n",
       "      <td>1</td>\n",
       "      <td>1</td>\n",
       "      <td>at_home</td>\n",
       "      <td>other</td>\n",
       "      <td>...</td>\n",
       "      <td>5</td>\n",
       "      <td>3</td>\n",
       "      <td>3</td>\n",
       "      <td>1</td>\n",
       "      <td>1</td>\n",
       "      <td>3</td>\n",
       "      <td>2</td>\n",
       "      <td>9</td>\n",
       "      <td>11</td>\n",
       "      <td>11</td>\n",
       "    </tr>\n",
       "    <tr>\n",
       "      <th>2</th>\n",
       "      <td>GP</td>\n",
       "      <td>F</td>\n",
       "      <td>15</td>\n",
       "      <td>U</td>\n",
       "      <td>LE3</td>\n",
       "      <td>T</td>\n",
       "      <td>1</td>\n",
       "      <td>1</td>\n",
       "      <td>at_home</td>\n",
       "      <td>other</td>\n",
       "      <td>...</td>\n",
       "      <td>4</td>\n",
       "      <td>3</td>\n",
       "      <td>2</td>\n",
       "      <td>2</td>\n",
       "      <td>3</td>\n",
       "      <td>3</td>\n",
       "      <td>6</td>\n",
       "      <td>12</td>\n",
       "      <td>13</td>\n",
       "      <td>12</td>\n",
       "    </tr>\n",
       "    <tr>\n",
       "      <th>3</th>\n",
       "      <td>GP</td>\n",
       "      <td>F</td>\n",
       "      <td>15</td>\n",
       "      <td>U</td>\n",
       "      <td>GT3</td>\n",
       "      <td>T</td>\n",
       "      <td>4</td>\n",
       "      <td>2</td>\n",
       "      <td>health</td>\n",
       "      <td>services</td>\n",
       "      <td>...</td>\n",
       "      <td>3</td>\n",
       "      <td>2</td>\n",
       "      <td>2</td>\n",
       "      <td>1</td>\n",
       "      <td>1</td>\n",
       "      <td>5</td>\n",
       "      <td>0</td>\n",
       "      <td>14</td>\n",
       "      <td>14</td>\n",
       "      <td>14</td>\n",
       "    </tr>\n",
       "    <tr>\n",
       "      <th>4</th>\n",
       "      <td>GP</td>\n",
       "      <td>F</td>\n",
       "      <td>16</td>\n",
       "      <td>U</td>\n",
       "      <td>GT3</td>\n",
       "      <td>T</td>\n",
       "      <td>3</td>\n",
       "      <td>3</td>\n",
       "      <td>other</td>\n",
       "      <td>other</td>\n",
       "      <td>...</td>\n",
       "      <td>4</td>\n",
       "      <td>3</td>\n",
       "      <td>2</td>\n",
       "      <td>1</td>\n",
       "      <td>2</td>\n",
       "      <td>5</td>\n",
       "      <td>0</td>\n",
       "      <td>11</td>\n",
       "      <td>13</td>\n",
       "      <td>13</td>\n",
       "    </tr>\n",
       "  </tbody>\n",
       "</table>\n",
       "<p>5 rows × 53 columns</p>\n",
       "</div>"
      ],
      "text/plain": [
       "  school sex  age address famsize Pstatus  Medu  Fedu     Mjob      Fjob  ...  \\\n",
       "0     GP   F   18       U     GT3       A     4     4  at_home   teacher  ...   \n",
       "1     GP   F   17       U     GT3       T     1     1  at_home     other  ...   \n",
       "2     GP   F   15       U     LE3       T     1     1  at_home     other  ...   \n",
       "3     GP   F   15       U     GT3       T     4     2   health  services  ...   \n",
       "4     GP   F   16       U     GT3       T     3     3    other     other  ...   \n",
       "\n",
       "  famrel_por_data freetime_por_data  goout_por_data  Dalc_por_data  \\\n",
       "0               4                 3               4              1   \n",
       "1               5                 3               3              1   \n",
       "2               4                 3               2              2   \n",
       "3               3                 2               2              1   \n",
       "4               4                 3               2              1   \n",
       "\n",
       "   Walc_por_data health_por_data absences_por_data G1_por_data G2_por_data  \\\n",
       "0              1               3                 4           0          11   \n",
       "1              1               3                 2           9          11   \n",
       "2              3               3                 6          12          13   \n",
       "3              1               5                 0          14          14   \n",
       "4              2               5                 0          11          13   \n",
       "\n",
       "  G3_por_data  \n",
       "0          11  \n",
       "1          11  \n",
       "2          12  \n",
       "3          14  \n",
       "4          13  \n",
       "\n",
       "[5 rows x 53 columns]"
      ]
     },
     "execution_count": 98,
     "metadata": {},
     "output_type": "execute_result"
    }
   ],
   "source": [
    "common_columns = ['school','sex','age','address','famsize','Pstatus','Medu','Fedu','Mjob','Fjob','reason','nursery','internet']\n",
    "\n",
    "df = pd.merge(student_mat, student_por, on=common_columns, suffixes=('_math_data','_por_data'))\n",
    "\n",
    "df.head()"
   ]
  },
  {
   "cell_type": "code",
   "execution_count": 106,
   "metadata": {},
   "outputs": [],
   "source": [
    "df_special_encoding = pd.merge(student_mat, student_por, on=common_columns, suffixes=('_math_data','_por_data'))"
   ]
  },
  {
   "cell_type": "code",
   "execution_count": 99,
   "metadata": {},
   "outputs": [
    {
     "data": {
      "text/plain": [
       "(382, 53)"
      ]
     },
     "execution_count": 99,
     "metadata": {},
     "output_type": "execute_result"
    }
   ],
   "source": [
    "df.shape"
   ]
  },
  {
   "cell_type": "code",
   "execution_count": 100,
   "metadata": {},
   "outputs": [
    {
     "name": "stdout",
     "output_type": "stream",
     "text": [
      "<class 'pandas.core.frame.DataFrame'>\n",
      "RangeIndex: 382 entries, 0 to 381\n",
      "Data columns (total 53 columns):\n",
      " #   Column                Non-Null Count  Dtype \n",
      "---  ------                --------------  ----- \n",
      " 0   school                382 non-null    object\n",
      " 1   sex                   382 non-null    object\n",
      " 2   age                   382 non-null    int64 \n",
      " 3   address               382 non-null    object\n",
      " 4   famsize               382 non-null    object\n",
      " 5   Pstatus               382 non-null    object\n",
      " 6   Medu                  382 non-null    int64 \n",
      " 7   Fedu                  382 non-null    int64 \n",
      " 8   Mjob                  382 non-null    object\n",
      " 9   Fjob                  382 non-null    object\n",
      " 10  reason                382 non-null    object\n",
      " 11  guardian_math_data    382 non-null    object\n",
      " 12  traveltime_math_data  382 non-null    int64 \n",
      " 13  studytime_math_data   382 non-null    int64 \n",
      " 14  failures_math_data    382 non-null    int64 \n",
      " 15  schoolsup_math_data   382 non-null    object\n",
      " 16  famsup_math_data      382 non-null    object\n",
      " 17  paid_math_data        382 non-null    object\n",
      " 18  activities_math_data  382 non-null    object\n",
      " 19  nursery               382 non-null    object\n",
      " 20  higher_math_data      382 non-null    object\n",
      " 21  internet              382 non-null    object\n",
      " 22  romantic_math_data    382 non-null    object\n",
      " 23  famrel_math_data      382 non-null    int64 \n",
      " 24  freetime_math_data    382 non-null    int64 \n",
      " 25  goout_math_data       382 non-null    int64 \n",
      " 26  Dalc_math_data        382 non-null    int64 \n",
      " 27  Walc_math_data        382 non-null    int64 \n",
      " 28  health_math_data      382 non-null    int64 \n",
      " 29  absences_math_data    382 non-null    int64 \n",
      " 30  G1_math_data          382 non-null    int64 \n",
      " 31  G2_math_data          382 non-null    int64 \n",
      " 32  G3_math_data          382 non-null    int64 \n",
      " 33  guardian_por_data     382 non-null    object\n",
      " 34  traveltime_por_data   382 non-null    int64 \n",
      " 35  studytime_por_data    382 non-null    int64 \n",
      " 36  failures_por_data     382 non-null    int64 \n",
      " 37  schoolsup_por_data    382 non-null    object\n",
      " 38  famsup_por_data       382 non-null    object\n",
      " 39  paid_por_data         382 non-null    object\n",
      " 40  activities_por_data   382 non-null    object\n",
      " 41  higher_por_data       382 non-null    object\n",
      " 42  romantic_por_data     382 non-null    object\n",
      " 43  famrel_por_data       382 non-null    int64 \n",
      " 44  freetime_por_data     382 non-null    int64 \n",
      " 45  goout_por_data        382 non-null    int64 \n",
      " 46  Dalc_por_data         382 non-null    int64 \n",
      " 47  Walc_por_data         382 non-null    int64 \n",
      " 48  health_por_data       382 non-null    int64 \n",
      " 49  absences_por_data     382 non-null    int64 \n",
      " 50  G1_por_data           382 non-null    int64 \n",
      " 51  G2_por_data           382 non-null    int64 \n",
      " 52  G3_por_data           382 non-null    int64 \n",
      "dtypes: int64(29), object(24)\n",
      "memory usage: 158.3+ KB\n"
     ]
    }
   ],
   "source": [
    "df.info()"
   ]
  },
  {
   "cell_type": "code",
   "execution_count": 101,
   "metadata": {},
   "outputs": [
    {
     "data": {
      "text/plain": [
       "Index(['school', 'sex', 'age', 'address', 'famsize', 'Pstatus', 'Medu', 'Fedu',\n",
       "       'Mjob', 'Fjob', 'reason', 'guardian_math_data', 'traveltime_math_data',\n",
       "       'studytime_math_data', 'failures_math_data', 'schoolsup_math_data',\n",
       "       'famsup_math_data', 'paid_math_data', 'activities_math_data', 'nursery',\n",
       "       'higher_math_data', 'internet', 'romantic_math_data',\n",
       "       'famrel_math_data', 'freetime_math_data', 'goout_math_data',\n",
       "       'Dalc_math_data', 'Walc_math_data', 'health_math_data',\n",
       "       'absences_math_data', 'G1_math_data', 'G2_math_data', 'G3_math_data',\n",
       "       'guardian_por_data', 'traveltime_por_data', 'studytime_por_data',\n",
       "       'failures_por_data', 'schoolsup_por_data', 'famsup_por_data',\n",
       "       'paid_por_data', 'activities_por_data', 'higher_por_data',\n",
       "       'romantic_por_data', 'famrel_por_data', 'freetime_por_data',\n",
       "       'goout_por_data', 'Dalc_por_data', 'Walc_por_data', 'health_por_data',\n",
       "       'absences_por_data', 'G1_por_data', 'G2_por_data', 'G3_por_data'],\n",
       "      dtype='object')"
      ]
     },
     "execution_count": 101,
     "metadata": {},
     "output_type": "execute_result"
    }
   ],
   "source": [
    "df.columns"
   ]
  },
  {
   "cell_type": "code",
   "execution_count": 102,
   "metadata": {},
   "outputs": [],
   "source": [
    "df['school'] = df['school'].map({'GP': 1, 'MS': 2})\n",
    "df['sex'] = df['sex'].map({'F': 1, 'M': 2})\n",
    "df['address'] = df['address'].map({'U': 1, 'R': 2})\n",
    "df['famsize'] = df['famsize'].map({'GT3': 1, 'LE3': 2})\n",
    "df['Pstatus'] = df['Pstatus'].map({'A': 1, 'T': 2})\n",
    "df['Mjob'] = df['Mjob'].map({'health': 1, 'teacher': 2,'services':3,'other':4,'at_home':5})\n",
    "df['Fjob'] = df['Fjob'].map({'health': 1, 'teacher': 2,'services':3,'other':4,'at_home':5})\n",
    "df['reason'] = df['reason'].map({'course': 1, 'reputation': 2,'home':3,'other':4})\n",
    "df['guardian_math_data'] = df['guardian_math_data'].map({'mother': 1, 'father': 2,'other':3})\n",
    "df['schoolsup_math_data'] = df['schoolsup_math_data'].map({'yes': 1, 'no': 2})\n",
    "df['famsup_math_data'] = df['famsup_math_data'].map({'yes': 1, 'no': 2})\n",
    "df['paid_math_data'] = df['paid_math_data'].map({'yes': 1, 'no': 2})\n",
    "df['activities_math_data'] = df['activities_math_data'].map({'yes': 1, 'no': 2})\n",
    "df['nursery'] = df['nursery'].map({'yes': 1, 'no': 2})\n",
    "df['higher_math_data'] = df['higher_math_data'].map({'yes': 1, 'no': 2})\n",
    "df['romantic_math_data'] = df['romantic_math_data'].map({'yes': 1, 'no': 2})\n",
    "df['internet'] = df['internet'].map({'yes': 1, 'no': 2})\n",
    "df['guardian_por_data'] = df['guardian_por_data'].map({'mother': 1, 'father': 2,'other':3})\n",
    "df['schoolsup_por_data'] = df['schoolsup_por_data'].map({'yes': 1, 'no': 2})\n",
    "df['famsup_por_data'] = df['famsup_por_data'].map({'yes': 1, 'no': 2})\n",
    "df['paid_por_data'] = df['paid_por_data'].map({'yes': 1, 'no': 2})\n",
    "df['activities_por_data'] = df['activities_por_data'].map({'yes': 1, 'no': 2})\n",
    "df['higher_por_data'] = df['higher_por_data'].map({'yes': 1, 'no': 2})\n",
    "df['romantic_por_data'] = df['romantic_por_data'].map({'yes': 1, 'no': 2})\n"
   ]
  },
  {
   "cell_type": "code",
   "execution_count": 107,
   "metadata": {},
   "outputs": [],
   "source": [
    "df_special_encoding['school'] = df_special_encoding['school'].map({'GP': 1, 'MS': 5})\n",
    "df_special_encoding['sex'] = df_special_encoding['sex'].map({'F': 10, 'M': 1})\n",
    "df_special_encoding['address'] = df_special_encoding['address'].map({'U': 16, 'R': 26})\n",
    "df_special_encoding['famsize'] = df_special_encoding['famsize'].map({'GT3': 31, 'LE3': 41})\n",
    "df_special_encoding['Pstatus'] = df_special_encoding['Pstatus'].map({'A': 11, 'T': 22})\n",
    "df_special_encoding['Mjob'] = df_special_encoding['Mjob'].map({'health': 10, 'teacher': 20,'services':30,'other':40,'at_home':50})\n",
    "df_special_encoding['Fjob'] = df_special_encoding['Fjob'].map({'health': 10, 'teacher': 20,'services':30,'other':40,'at_home':50})\n",
    "df_special_encoding['reason'] = df_special_encoding['reason'].map({'course': 10, 'reputation': 20,'home':30,'other':40})\n",
    "df_special_encoding['guardian_math_data'] = df_special_encoding['guardian_math_data'].map({'mother': 15, 'father': 25,'other':35})\n",
    "df_special_encoding['schoolsup_math_data'] = df_special_encoding['schoolsup_math_data'].map({'yes': 100, 'no': 200})\n",
    "df_special_encoding['famsup_math_data'] = df_special_encoding['famsup_math_data'].map({'yes': 100, 'no': 200})\n",
    "df_special_encoding['paid_math_data'] = df_special_encoding['paid_math_data'].map({'yes': 100, 'no': 200})\n",
    "df_special_encoding['activities_math_data'] = df_special_encoding['activities_math_data'].map({'yes': 100, 'no': 200})\n",
    "df_special_encoding['nursery'] = df_special_encoding['nursery'].map({'yes': 100, 'no': 200})\n",
    "df_special_encoding['higher_math_data'] = df_special_encoding['higher_math_data'].map({'yes': 100, 'no': 200})\n",
    "df_special_encoding['romantic_math_data'] = df_special_encoding['romantic_math_data'].map({'yes': 100, 'no': 200})\n",
    "df_special_encoding['internet'] = df_special_encoding['internet'].map({'yes': 100, 'no': 200})\n",
    "df_special_encoding['guardian_por_data'] = df_special_encoding['guardian_por_data'].map({'mother': 15, 'father': 25,'other':35})\n",
    "df_special_encoding['schoolsup_por_data'] = df_special_encoding['schoolsup_por_data'].map({'yes': 100, 'no': 200})\n",
    "df_special_encoding['famsup_por_data'] = df_special_encoding['famsup_por_data'].map({'yes': 100, 'no': 200})\n",
    "df_special_encoding['paid_por_data'] = df_special_encoding['paid_por_data'].map({'yes': 100, 'no': 200})\n",
    "df_special_encoding['activities_por_data'] = df_special_encoding['activities_por_data'].map({'yes': 100, 'no': 200})\n",
    "df_special_encoding['higher_por_data'] = df_special_encoding['higher_por_data'].map({'yes': 100, 'no': 200})\n",
    "df_special_encoding['romantic_por_data'] = df_special_encoding['romantic_por_data'].map({'yes': 100, 'no': 200})"
   ]
  },
  {
   "cell_type": "code",
   "execution_count": 103,
   "metadata": {},
   "outputs": [
    {
     "name": "stdout",
     "output_type": "stream",
     "text": [
      "<class 'pandas.core.frame.DataFrame'>\n",
      "RangeIndex: 382 entries, 0 to 381\n",
      "Data columns (total 53 columns):\n",
      " #   Column                Non-Null Count  Dtype\n",
      "---  ------                --------------  -----\n",
      " 0   school                382 non-null    int64\n",
      " 1   sex                   382 non-null    int64\n",
      " 2   age                   382 non-null    int64\n",
      " 3   address               382 non-null    int64\n",
      " 4   famsize               382 non-null    int64\n",
      " 5   Pstatus               382 non-null    int64\n",
      " 6   Medu                  382 non-null    int64\n",
      " 7   Fedu                  382 non-null    int64\n",
      " 8   Mjob                  382 non-null    int64\n",
      " 9   Fjob                  382 non-null    int64\n",
      " 10  reason                382 non-null    int64\n",
      " 11  guardian_math_data    382 non-null    int64\n",
      " 12  traveltime_math_data  382 non-null    int64\n",
      " 13  studytime_math_data   382 non-null    int64\n",
      " 14  failures_math_data    382 non-null    int64\n",
      " 15  schoolsup_math_data   382 non-null    int64\n",
      " 16  famsup_math_data      382 non-null    int64\n",
      " 17  paid_math_data        382 non-null    int64\n",
      " 18  activities_math_data  382 non-null    int64\n",
      " 19  nursery               382 non-null    int64\n",
      " 20  higher_math_data      382 non-null    int64\n",
      " 21  internet              382 non-null    int64\n",
      " 22  romantic_math_data    382 non-null    int64\n",
      " 23  famrel_math_data      382 non-null    int64\n",
      " 24  freetime_math_data    382 non-null    int64\n",
      " 25  goout_math_data       382 non-null    int64\n",
      " 26  Dalc_math_data        382 non-null    int64\n",
      " 27  Walc_math_data        382 non-null    int64\n",
      " 28  health_math_data      382 non-null    int64\n",
      " 29  absences_math_data    382 non-null    int64\n",
      " 30  G1_math_data          382 non-null    int64\n",
      " 31  G2_math_data          382 non-null    int64\n",
      " 32  G3_math_data          382 non-null    int64\n",
      " 33  guardian_por_data     382 non-null    int64\n",
      " 34  traveltime_por_data   382 non-null    int64\n",
      " 35  studytime_por_data    382 non-null    int64\n",
      " 36  failures_por_data     382 non-null    int64\n",
      " 37  schoolsup_por_data    382 non-null    int64\n",
      " 38  famsup_por_data       382 non-null    int64\n",
      " 39  paid_por_data         382 non-null    int64\n",
      " 40  activities_por_data   382 non-null    int64\n",
      " 41  higher_por_data       382 non-null    int64\n",
      " 42  romantic_por_data     382 non-null    int64\n",
      " 43  famrel_por_data       382 non-null    int64\n",
      " 44  freetime_por_data     382 non-null    int64\n",
      " 45  goout_por_data        382 non-null    int64\n",
      " 46  Dalc_por_data         382 non-null    int64\n",
      " 47  Walc_por_data         382 non-null    int64\n",
      " 48  health_por_data       382 non-null    int64\n",
      " 49  absences_por_data     382 non-null    int64\n",
      " 50  G1_por_data           382 non-null    int64\n",
      " 51  G2_por_data           382 non-null    int64\n",
      " 52  G3_por_data           382 non-null    int64\n",
      "dtypes: int64(53)\n",
      "memory usage: 158.3 KB\n"
     ]
    }
   ],
   "source": [
    "df.info()"
   ]
  },
  {
   "cell_type": "code",
   "execution_count": 105,
   "metadata": {},
   "outputs": [],
   "source": [
    "df.to_csv(r\"C:\\Users\\zhossai3\\Desktop\\My code\\OT+Fairness\\Data\\portugal student performance dataset\\P_Student_Performance_Data.csv\", index=False)"
   ]
  },
  {
   "cell_type": "code",
   "execution_count": 108,
   "metadata": {},
   "outputs": [],
   "source": [
    "df_special_encoding.to_csv(r\"C:\\Users\\zhossai3\\Desktop\\My code\\OT+Fairness\\Data\\portugal student performance dataset\\P_Student_Performance_Data_special_encoding.csv\", index=False)"
   ]
  },
  {
   "cell_type": "markdown",
   "metadata": {},
   "source": [
    "**Abalone**"
   ]
  },
  {
   "cell_type": "code",
   "execution_count": 139,
   "metadata": {},
   "outputs": [
    {
     "name": "stdout",
     "output_type": "stream",
     "text": [
      "  Sex  Length  Diameter  Height  WholeWeight  ShuckedWeight  VisceraWeight  \\\n",
      "0   M   0.455     0.365   0.095       0.5140         0.2245         0.1010   \n",
      "1   M   0.350     0.265   0.090       0.2255         0.0995         0.0485   \n",
      "2   F   0.530     0.420   0.135       0.6770         0.2565         0.1415   \n",
      "3   M   0.440     0.365   0.125       0.5160         0.2155         0.1140   \n",
      "4   I   0.330     0.255   0.080       0.2050         0.0895         0.0395   \n",
      "\n",
      "   ShellWeight  Rings  \n",
      "0        0.150     15  \n",
      "1        0.070      7  \n",
      "2        0.210      9  \n",
      "3        0.155     10  \n",
      "4        0.055      7  \n"
     ]
    }
   ],
   "source": [
    "\n",
    "# Define column names manually as there is no header in the file\n",
    "columns = ['Sex', 'Length', 'Diameter', 'Height', 'WholeWeight', 'ShuckedWeight', 'VisceraWeight', 'ShellWeight', 'Rings']\n",
    "\n",
    "# Read the dataset without a header and assign column names\n",
    "abalone_data = pd.read_csv(r'C:\\Users\\zhossai3\\Desktop\\My code\\OT+Fairness\\Data\\abalone\\abalone.data', delimiter=',', header=None, names=columns)\n",
    "\n",
    "print(abalone_data.head())\n"
   ]
  },
  {
   "cell_type": "code",
   "execution_count": 140,
   "metadata": {},
   "outputs": [
    {
     "data": {
      "text/html": [
       "<div>\n",
       "<style scoped>\n",
       "    .dataframe tbody tr th:only-of-type {\n",
       "        vertical-align: middle;\n",
       "    }\n",
       "\n",
       "    .dataframe tbody tr th {\n",
       "        vertical-align: top;\n",
       "    }\n",
       "\n",
       "    .dataframe thead th {\n",
       "        text-align: right;\n",
       "    }\n",
       "</style>\n",
       "<table border=\"1\" class=\"dataframe\">\n",
       "  <thead>\n",
       "    <tr style=\"text-align: right;\">\n",
       "      <th></th>\n",
       "      <th>Sex</th>\n",
       "      <th>Length</th>\n",
       "      <th>Diameter</th>\n",
       "      <th>Height</th>\n",
       "      <th>WholeWeight</th>\n",
       "      <th>ShuckedWeight</th>\n",
       "      <th>VisceraWeight</th>\n",
       "      <th>ShellWeight</th>\n",
       "      <th>Rings</th>\n",
       "    </tr>\n",
       "  </thead>\n",
       "  <tbody>\n",
       "    <tr>\n",
       "      <th>0</th>\n",
       "      <td>M</td>\n",
       "      <td>0.455</td>\n",
       "      <td>0.365</td>\n",
       "      <td>0.095</td>\n",
       "      <td>0.5140</td>\n",
       "      <td>0.2245</td>\n",
       "      <td>0.1010</td>\n",
       "      <td>0.15</td>\n",
       "      <td>15</td>\n",
       "    </tr>\n",
       "    <tr>\n",
       "      <th>1</th>\n",
       "      <td>M</td>\n",
       "      <td>0.350</td>\n",
       "      <td>0.265</td>\n",
       "      <td>0.090</td>\n",
       "      <td>0.2255</td>\n",
       "      <td>0.0995</td>\n",
       "      <td>0.0485</td>\n",
       "      <td>0.07</td>\n",
       "      <td>7</td>\n",
       "    </tr>\n",
       "  </tbody>\n",
       "</table>\n",
       "</div>"
      ],
      "text/plain": [
       "  Sex  Length  Diameter  Height  WholeWeight  ShuckedWeight  VisceraWeight  \\\n",
       "0   M   0.455     0.365   0.095       0.5140         0.2245         0.1010   \n",
       "1   M   0.350     0.265   0.090       0.2255         0.0995         0.0485   \n",
       "\n",
       "   ShellWeight  Rings  \n",
       "0         0.15     15  \n",
       "1         0.07      7  "
      ]
     },
     "execution_count": 140,
     "metadata": {},
     "output_type": "execute_result"
    }
   ],
   "source": [
    "abalone_data.head(2)"
   ]
  },
  {
   "cell_type": "code",
   "execution_count": 141,
   "metadata": {},
   "outputs": [
    {
     "data": {
      "text/plain": [
       "pandas.core.frame.DataFrame"
      ]
     },
     "execution_count": 141,
     "metadata": {},
     "output_type": "execute_result"
    }
   ],
   "source": [
    "type(abalone_data)\n"
   ]
  },
  {
   "cell_type": "code",
   "execution_count": 142,
   "metadata": {},
   "outputs": [
    {
     "data": {
      "text/plain": [
       "(4177, 9)"
      ]
     },
     "execution_count": 142,
     "metadata": {},
     "output_type": "execute_result"
    }
   ],
   "source": [
    "abalone_data.shape"
   ]
  },
  {
   "cell_type": "code",
   "execution_count": 143,
   "metadata": {},
   "outputs": [],
   "source": [
    "abalone_data['Sex'] = abalone_data['Sex'].map({'M': 1, 'F': 2,'I':3})\n"
   ]
  },
  {
   "cell_type": "code",
   "execution_count": 144,
   "metadata": {},
   "outputs": [
    {
     "data": {
      "text/html": [
       "<div>\n",
       "<style scoped>\n",
       "    .dataframe tbody tr th:only-of-type {\n",
       "        vertical-align: middle;\n",
       "    }\n",
       "\n",
       "    .dataframe tbody tr th {\n",
       "        vertical-align: top;\n",
       "    }\n",
       "\n",
       "    .dataframe thead th {\n",
       "        text-align: right;\n",
       "    }\n",
       "</style>\n",
       "<table border=\"1\" class=\"dataframe\">\n",
       "  <thead>\n",
       "    <tr style=\"text-align: right;\">\n",
       "      <th></th>\n",
       "      <th>Sex</th>\n",
       "      <th>Length</th>\n",
       "      <th>Diameter</th>\n",
       "      <th>Height</th>\n",
       "      <th>WholeWeight</th>\n",
       "      <th>ShuckedWeight</th>\n",
       "      <th>VisceraWeight</th>\n",
       "      <th>ShellWeight</th>\n",
       "      <th>Rings</th>\n",
       "    </tr>\n",
       "  </thead>\n",
       "  <tbody>\n",
       "    <tr>\n",
       "      <th>0</th>\n",
       "      <td>1</td>\n",
       "      <td>0.455</td>\n",
       "      <td>0.365</td>\n",
       "      <td>0.095</td>\n",
       "      <td>0.5140</td>\n",
       "      <td>0.2245</td>\n",
       "      <td>0.1010</td>\n",
       "      <td>0.150</td>\n",
       "      <td>15</td>\n",
       "    </tr>\n",
       "    <tr>\n",
       "      <th>1</th>\n",
       "      <td>1</td>\n",
       "      <td>0.350</td>\n",
       "      <td>0.265</td>\n",
       "      <td>0.090</td>\n",
       "      <td>0.2255</td>\n",
       "      <td>0.0995</td>\n",
       "      <td>0.0485</td>\n",
       "      <td>0.070</td>\n",
       "      <td>7</td>\n",
       "    </tr>\n",
       "    <tr>\n",
       "      <th>2</th>\n",
       "      <td>2</td>\n",
       "      <td>0.530</td>\n",
       "      <td>0.420</td>\n",
       "      <td>0.135</td>\n",
       "      <td>0.6770</td>\n",
       "      <td>0.2565</td>\n",
       "      <td>0.1415</td>\n",
       "      <td>0.210</td>\n",
       "      <td>9</td>\n",
       "    </tr>\n",
       "    <tr>\n",
       "      <th>3</th>\n",
       "      <td>1</td>\n",
       "      <td>0.440</td>\n",
       "      <td>0.365</td>\n",
       "      <td>0.125</td>\n",
       "      <td>0.5160</td>\n",
       "      <td>0.2155</td>\n",
       "      <td>0.1140</td>\n",
       "      <td>0.155</td>\n",
       "      <td>10</td>\n",
       "    </tr>\n",
       "    <tr>\n",
       "      <th>4</th>\n",
       "      <td>3</td>\n",
       "      <td>0.330</td>\n",
       "      <td>0.255</td>\n",
       "      <td>0.080</td>\n",
       "      <td>0.2050</td>\n",
       "      <td>0.0895</td>\n",
       "      <td>0.0395</td>\n",
       "      <td>0.055</td>\n",
       "      <td>7</td>\n",
       "    </tr>\n",
       "  </tbody>\n",
       "</table>\n",
       "</div>"
      ],
      "text/plain": [
       "   Sex  Length  Diameter  Height  WholeWeight  ShuckedWeight  VisceraWeight  \\\n",
       "0    1   0.455     0.365   0.095       0.5140         0.2245         0.1010   \n",
       "1    1   0.350     0.265   0.090       0.2255         0.0995         0.0485   \n",
       "2    2   0.530     0.420   0.135       0.6770         0.2565         0.1415   \n",
       "3    1   0.440     0.365   0.125       0.5160         0.2155         0.1140   \n",
       "4    3   0.330     0.255   0.080       0.2050         0.0895         0.0395   \n",
       "\n",
       "   ShellWeight  Rings  \n",
       "0        0.150     15  \n",
       "1        0.070      7  \n",
       "2        0.210      9  \n",
       "3        0.155     10  \n",
       "4        0.055      7  "
      ]
     },
     "execution_count": 144,
     "metadata": {},
     "output_type": "execute_result"
    }
   ],
   "source": [
    "abalone_data.head()"
   ]
  },
  {
   "cell_type": "code",
   "execution_count": 145,
   "metadata": {},
   "outputs": [],
   "source": [
    "abalone_data.to_csv(r\"C:\\Users\\zhossai3\\Desktop\\My code\\OT+Fairness\\Data\\abalone\\abalone.csv\", index=False)"
   ]
  },
  {
   "cell_type": "markdown",
   "metadata": {},
   "source": [
    "**Heart Failour**"
   ]
  },
  {
   "cell_type": "code",
   "execution_count": 151,
   "metadata": {},
   "outputs": [],
   "source": [
    "heart_failour = pd.read_csv(r'C:\\Users\\zhossai3\\Desktop\\My code\\OT+Fairness\\Data\\Heart Failour\\heart.csv')"
   ]
  },
  {
   "cell_type": "code",
   "execution_count": 152,
   "metadata": {},
   "outputs": [
    {
     "data": {
      "text/html": [
       "<div>\n",
       "<style scoped>\n",
       "    .dataframe tbody tr th:only-of-type {\n",
       "        vertical-align: middle;\n",
       "    }\n",
       "\n",
       "    .dataframe tbody tr th {\n",
       "        vertical-align: top;\n",
       "    }\n",
       "\n",
       "    .dataframe thead th {\n",
       "        text-align: right;\n",
       "    }\n",
       "</style>\n",
       "<table border=\"1\" class=\"dataframe\">\n",
       "  <thead>\n",
       "    <tr style=\"text-align: right;\">\n",
       "      <th></th>\n",
       "      <th>Age</th>\n",
       "      <th>Sex</th>\n",
       "      <th>ChestPainType</th>\n",
       "      <th>RestingBP</th>\n",
       "      <th>Cholesterol</th>\n",
       "      <th>FastingBS</th>\n",
       "      <th>RestingECG</th>\n",
       "      <th>MaxHR</th>\n",
       "      <th>ExerciseAngina</th>\n",
       "      <th>Oldpeak</th>\n",
       "      <th>ST_Slope</th>\n",
       "      <th>HeartDisease</th>\n",
       "    </tr>\n",
       "  </thead>\n",
       "  <tbody>\n",
       "    <tr>\n",
       "      <th>0</th>\n",
       "      <td>40</td>\n",
       "      <td>M</td>\n",
       "      <td>ATA</td>\n",
       "      <td>140</td>\n",
       "      <td>289</td>\n",
       "      <td>0</td>\n",
       "      <td>Normal</td>\n",
       "      <td>172</td>\n",
       "      <td>N</td>\n",
       "      <td>0.0</td>\n",
       "      <td>Up</td>\n",
       "      <td>0</td>\n",
       "    </tr>\n",
       "    <tr>\n",
       "      <th>1</th>\n",
       "      <td>49</td>\n",
       "      <td>F</td>\n",
       "      <td>NAP</td>\n",
       "      <td>160</td>\n",
       "      <td>180</td>\n",
       "      <td>0</td>\n",
       "      <td>Normal</td>\n",
       "      <td>156</td>\n",
       "      <td>N</td>\n",
       "      <td>1.0</td>\n",
       "      <td>Flat</td>\n",
       "      <td>1</td>\n",
       "    </tr>\n",
       "    <tr>\n",
       "      <th>2</th>\n",
       "      <td>37</td>\n",
       "      <td>M</td>\n",
       "      <td>ATA</td>\n",
       "      <td>130</td>\n",
       "      <td>283</td>\n",
       "      <td>0</td>\n",
       "      <td>ST</td>\n",
       "      <td>98</td>\n",
       "      <td>N</td>\n",
       "      <td>0.0</td>\n",
       "      <td>Up</td>\n",
       "      <td>0</td>\n",
       "    </tr>\n",
       "    <tr>\n",
       "      <th>3</th>\n",
       "      <td>48</td>\n",
       "      <td>F</td>\n",
       "      <td>ASY</td>\n",
       "      <td>138</td>\n",
       "      <td>214</td>\n",
       "      <td>0</td>\n",
       "      <td>Normal</td>\n",
       "      <td>108</td>\n",
       "      <td>Y</td>\n",
       "      <td>1.5</td>\n",
       "      <td>Flat</td>\n",
       "      <td>1</td>\n",
       "    </tr>\n",
       "    <tr>\n",
       "      <th>4</th>\n",
       "      <td>54</td>\n",
       "      <td>M</td>\n",
       "      <td>NAP</td>\n",
       "      <td>150</td>\n",
       "      <td>195</td>\n",
       "      <td>0</td>\n",
       "      <td>Normal</td>\n",
       "      <td>122</td>\n",
       "      <td>N</td>\n",
       "      <td>0.0</td>\n",
       "      <td>Up</td>\n",
       "      <td>0</td>\n",
       "    </tr>\n",
       "  </tbody>\n",
       "</table>\n",
       "</div>"
      ],
      "text/plain": [
       "   Age Sex ChestPainType  RestingBP  Cholesterol  FastingBS RestingECG  MaxHR  \\\n",
       "0   40   M           ATA        140          289          0     Normal    172   \n",
       "1   49   F           NAP        160          180          0     Normal    156   \n",
       "2   37   M           ATA        130          283          0         ST     98   \n",
       "3   48   F           ASY        138          214          0     Normal    108   \n",
       "4   54   M           NAP        150          195          0     Normal    122   \n",
       "\n",
       "  ExerciseAngina  Oldpeak ST_Slope  HeartDisease  \n",
       "0              N      0.0       Up             0  \n",
       "1              N      1.0     Flat             1  \n",
       "2              N      0.0       Up             0  \n",
       "3              Y      1.5     Flat             1  \n",
       "4              N      0.0       Up             0  "
      ]
     },
     "execution_count": 152,
     "metadata": {},
     "output_type": "execute_result"
    }
   ],
   "source": [
    "heart_failour.head()"
   ]
  },
  {
   "cell_type": "code",
   "execution_count": 157,
   "metadata": {},
   "outputs": [
    {
     "data": {
      "text/plain": [
       "array(['Up', 'Flat', 'Down'], dtype=object)"
      ]
     },
     "execution_count": 157,
     "metadata": {},
     "output_type": "execute_result"
    }
   ],
   "source": [
    "heart_failour['ST_Slope'].unique()"
   ]
  },
  {
   "cell_type": "code",
   "execution_count": 158,
   "metadata": {},
   "outputs": [],
   "source": [
    "heart_failour['Sex'] = heart_failour['Sex'].map({'M': 1, 'F':2})\n",
    "heart_failour['ChestPainType'] = heart_failour['ChestPainType'].map({'ATA': 1, 'NAP':2,'ASY':3,'TA':4})\n",
    "heart_failour['RestingECG'] = heart_failour['RestingECG'].map({'Normal': 1, 'ST':2,'LVH':3})\n",
    "heart_failour['ExerciseAngina'] = heart_failour['ExerciseAngina'].map({'N': 1, 'Y':2})\n",
    "heart_failour['ST_Slope'] = heart_failour['ST_Slope'].map({'Up': 1, 'Flat':2,'Down':3})"
   ]
  },
  {
   "cell_type": "code",
   "execution_count": 159,
   "metadata": {},
   "outputs": [
    {
     "data": {
      "text/html": [
       "<div>\n",
       "<style scoped>\n",
       "    .dataframe tbody tr th:only-of-type {\n",
       "        vertical-align: middle;\n",
       "    }\n",
       "\n",
       "    .dataframe tbody tr th {\n",
       "        vertical-align: top;\n",
       "    }\n",
       "\n",
       "    .dataframe thead th {\n",
       "        text-align: right;\n",
       "    }\n",
       "</style>\n",
       "<table border=\"1\" class=\"dataframe\">\n",
       "  <thead>\n",
       "    <tr style=\"text-align: right;\">\n",
       "      <th></th>\n",
       "      <th>Age</th>\n",
       "      <th>Sex</th>\n",
       "      <th>ChestPainType</th>\n",
       "      <th>RestingBP</th>\n",
       "      <th>Cholesterol</th>\n",
       "      <th>FastingBS</th>\n",
       "      <th>RestingECG</th>\n",
       "      <th>MaxHR</th>\n",
       "      <th>ExerciseAngina</th>\n",
       "      <th>Oldpeak</th>\n",
       "      <th>ST_Slope</th>\n",
       "      <th>HeartDisease</th>\n",
       "    </tr>\n",
       "  </thead>\n",
       "  <tbody>\n",
       "    <tr>\n",
       "      <th>0</th>\n",
       "      <td>40</td>\n",
       "      <td>1</td>\n",
       "      <td>1</td>\n",
       "      <td>140</td>\n",
       "      <td>289</td>\n",
       "      <td>0</td>\n",
       "      <td>1</td>\n",
       "      <td>172</td>\n",
       "      <td>1</td>\n",
       "      <td>0.0</td>\n",
       "      <td>1</td>\n",
       "      <td>0</td>\n",
       "    </tr>\n",
       "    <tr>\n",
       "      <th>1</th>\n",
       "      <td>49</td>\n",
       "      <td>2</td>\n",
       "      <td>2</td>\n",
       "      <td>160</td>\n",
       "      <td>180</td>\n",
       "      <td>0</td>\n",
       "      <td>1</td>\n",
       "      <td>156</td>\n",
       "      <td>1</td>\n",
       "      <td>1.0</td>\n",
       "      <td>2</td>\n",
       "      <td>1</td>\n",
       "    </tr>\n",
       "    <tr>\n",
       "      <th>2</th>\n",
       "      <td>37</td>\n",
       "      <td>1</td>\n",
       "      <td>1</td>\n",
       "      <td>130</td>\n",
       "      <td>283</td>\n",
       "      <td>0</td>\n",
       "      <td>2</td>\n",
       "      <td>98</td>\n",
       "      <td>1</td>\n",
       "      <td>0.0</td>\n",
       "      <td>1</td>\n",
       "      <td>0</td>\n",
       "    </tr>\n",
       "    <tr>\n",
       "      <th>3</th>\n",
       "      <td>48</td>\n",
       "      <td>2</td>\n",
       "      <td>3</td>\n",
       "      <td>138</td>\n",
       "      <td>214</td>\n",
       "      <td>0</td>\n",
       "      <td>1</td>\n",
       "      <td>108</td>\n",
       "      <td>2</td>\n",
       "      <td>1.5</td>\n",
       "      <td>2</td>\n",
       "      <td>1</td>\n",
       "    </tr>\n",
       "    <tr>\n",
       "      <th>4</th>\n",
       "      <td>54</td>\n",
       "      <td>1</td>\n",
       "      <td>2</td>\n",
       "      <td>150</td>\n",
       "      <td>195</td>\n",
       "      <td>0</td>\n",
       "      <td>1</td>\n",
       "      <td>122</td>\n",
       "      <td>1</td>\n",
       "      <td>0.0</td>\n",
       "      <td>1</td>\n",
       "      <td>0</td>\n",
       "    </tr>\n",
       "  </tbody>\n",
       "</table>\n",
       "</div>"
      ],
      "text/plain": [
       "   Age  Sex  ChestPainType  RestingBP  Cholesterol  FastingBS  RestingECG  \\\n",
       "0   40    1              1        140          289          0           1   \n",
       "1   49    2              2        160          180          0           1   \n",
       "2   37    1              1        130          283          0           2   \n",
       "3   48    2              3        138          214          0           1   \n",
       "4   54    1              2        150          195          0           1   \n",
       "\n",
       "   MaxHR  ExerciseAngina  Oldpeak  ST_Slope  HeartDisease  \n",
       "0    172               1      0.0         1             0  \n",
       "1    156               1      1.0         2             1  \n",
       "2     98               1      0.0         1             0  \n",
       "3    108               2      1.5         2             1  \n",
       "4    122               1      0.0         1             0  "
      ]
     },
     "execution_count": 159,
     "metadata": {},
     "output_type": "execute_result"
    }
   ],
   "source": [
    "heart_failour.head()"
   ]
  },
  {
   "cell_type": "code",
   "execution_count": 160,
   "metadata": {},
   "outputs": [],
   "source": [
    "heart_failour.to_csv(r\"C:\\Users\\zhossai3\\Desktop\\My code\\OT+Fairness\\Data\\Heart Failour\\heart_failour.csv\", index=False)"
   ]
  },
  {
   "cell_type": "code",
   "execution_count": 161,
   "metadata": {},
   "outputs": [
    {
     "data": {
      "text/plain": [
       "(918, 12)"
      ]
     },
     "execution_count": 161,
     "metadata": {},
     "output_type": "execute_result"
    }
   ],
   "source": [
    "heart_failour.shape"
   ]
  },
  {
   "cell_type": "markdown",
   "metadata": {},
   "source": [
    "**HSLS**"
   ]
  },
  {
   "cell_type": "code",
   "execution_count": 4,
   "metadata": {},
   "outputs": [],
   "source": [
    "hsls = pd.read_csv(r'C:\\Users\\zhossai3\\Desktop\\My code\\OT+Fairness\\Data\\hsls_17_student_pets_sr_v1_0.csv')"
   ]
  },
  {
   "cell_type": "code",
   "execution_count": 5,
   "metadata": {},
   "outputs": [
    {
     "data": {
      "text/plain": [
       "(23503, 9614)"
      ]
     },
     "execution_count": 5,
     "metadata": {},
     "output_type": "execute_result"
    }
   ],
   "source": [
    "hsls.shape"
   ]
  },
  {
   "cell_type": "code",
   "execution_count": 9,
   "metadata": {},
   "outputs": [
    {
     "name": "stdout",
     "output_type": "stream",
     "text": [
      "<class 'pandas.core.frame.DataFrame'>\n",
      "RangeIndex: 23503 entries, 0 to 23502\n",
      "Columns: 9614 entries, STU_ID to W5W1W2W3W4PSRECORDS200\n",
      "dtypes: float64(5855), int64(3759)\n",
      "memory usage: 1.7 GB\n"
     ]
    }
   ],
   "source": [
    "hsls.info()"
   ]
  }
 ],
 "metadata": {
  "kernelspec": {
   "display_name": "Python 3",
   "language": "python",
   "name": "python3"
  },
  "language_info": {
   "codemirror_mode": {
    "name": "ipython",
    "version": 3
   },
   "file_extension": ".py",
   "mimetype": "text/x-python",
   "name": "python",
   "nbconvert_exporter": "python",
   "pygments_lexer": "ipython3",
   "version": "3.12.6"
  }
 },
 "nbformat": 4,
 "nbformat_minor": 2
}
