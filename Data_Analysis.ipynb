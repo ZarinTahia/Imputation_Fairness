{
 "cells": [
  {
   "cell_type": "code",
   "execution_count": 2,
   "metadata": {},
   "outputs": [
    {
     "name": "stdout",
     "output_type": "stream",
     "text": [
      "Requirement already satisfied: seaborn in c:\\users\\zhossai3\\appdata\\local\\programs\\python\\python312\\lib\\site-packages (0.13.2)\n",
      "Requirement already satisfied: numpy!=1.24.0,>=1.20 in c:\\users\\zhossai3\\appdata\\local\\programs\\python\\python312\\lib\\site-packages (from seaborn) (2.0.2)\n",
      "Requirement already satisfied: pandas>=1.2 in c:\\users\\zhossai3\\appdata\\local\\programs\\python\\python312\\lib\\site-packages (from seaborn) (2.2.3)\n",
      "Requirement already satisfied: matplotlib!=3.6.1,>=3.4 in c:\\users\\zhossai3\\appdata\\local\\programs\\python\\python312\\lib\\site-packages (from seaborn) (3.9.2)\n",
      "Requirement already satisfied: contourpy>=1.0.1 in c:\\users\\zhossai3\\appdata\\local\\programs\\python\\python312\\lib\\site-packages (from matplotlib!=3.6.1,>=3.4->seaborn) (1.3.0)\n",
      "Requirement already satisfied: cycler>=0.10 in c:\\users\\zhossai3\\appdata\\local\\programs\\python\\python312\\lib\\site-packages (from matplotlib!=3.6.1,>=3.4->seaborn) (0.12.1)\n",
      "Requirement already satisfied: fonttools>=4.22.0 in c:\\users\\zhossai3\\appdata\\local\\programs\\python\\python312\\lib\\site-packages (from matplotlib!=3.6.1,>=3.4->seaborn) (4.54.1)\n",
      "Requirement already satisfied: kiwisolver>=1.3.1 in c:\\users\\zhossai3\\appdata\\local\\programs\\python\\python312\\lib\\site-packages (from matplotlib!=3.6.1,>=3.4->seaborn) (1.4.7)\n",
      "Requirement already satisfied: packaging>=20.0 in c:\\users\\zhossai3\\appdata\\roaming\\python\\python312\\site-packages (from matplotlib!=3.6.1,>=3.4->seaborn) (24.1)\n",
      "Requirement already satisfied: pillow>=8 in c:\\users\\zhossai3\\appdata\\local\\programs\\python\\python312\\lib\\site-packages (from matplotlib!=3.6.1,>=3.4->seaborn) (10.4.0)\n",
      "Requirement already satisfied: pyparsing>=2.3.1 in c:\\users\\zhossai3\\appdata\\local\\programs\\python\\python312\\lib\\site-packages (from matplotlib!=3.6.1,>=3.4->seaborn) (3.1.4)\n",
      "Requirement already satisfied: python-dateutil>=2.7 in c:\\users\\zhossai3\\appdata\\roaming\\python\\python312\\site-packages (from matplotlib!=3.6.1,>=3.4->seaborn) (2.9.0.post0)\n",
      "Requirement already satisfied: pytz>=2020.1 in c:\\users\\zhossai3\\appdata\\local\\programs\\python\\python312\\lib\\site-packages (from pandas>=1.2->seaborn) (2024.2)\n",
      "Requirement already satisfied: tzdata>=2022.7 in c:\\users\\zhossai3\\appdata\\local\\programs\\python\\python312\\lib\\site-packages (from pandas>=1.2->seaborn) (2024.2)\n",
      "Requirement already satisfied: six>=1.5 in c:\\users\\zhossai3\\appdata\\roaming\\python\\python312\\site-packages (from python-dateutil>=2.7->matplotlib!=3.6.1,>=3.4->seaborn) (1.16.0)\n",
      "Note: you may need to restart the kernel to use updated packages.\n"
     ]
    },
    {
     "name": "stderr",
     "output_type": "stream",
     "text": [
      "\n",
      "[notice] A new release of pip is available: 24.2 -> 24.3.1\n",
      "[notice] To update, run: python.exe -m pip install --upgrade pip\n"
     ]
    }
   ],
   "source": [
    "pip install seaborn"
   ]
  },
  {
   "cell_type": "code",
   "execution_count": 3,
   "metadata": {},
   "outputs": [],
   "source": [
    "import pandas as pd\n",
    "import seaborn as sns\n",
    "import matplotlib.pyplot as plt\n",
    "import numpy as np"
   ]
  },
  {
   "cell_type": "markdown",
   "metadata": {},
   "source": [
    "COMPAS Data"
   ]
  },
  {
   "cell_type": "code",
   "execution_count": 187,
   "metadata": {},
   "outputs": [],
   "source": [
    "compas_data = pd.read_csv(r\"C:\\Users\\zhossai3\\Desktop\\My code\\OT+Fairness\\Data\\Compas\\compas-scores-two-years.csv\")"
   ]
  },
  {
   "cell_type": "code",
   "execution_count": 188,
   "metadata": {},
   "outputs": [
    {
     "name": "stdout",
     "output_type": "stream",
     "text": [
      "(7214, 53)\n"
     ]
    }
   ],
   "source": [
    "print(compas_data.shape)"
   ]
  },
  {
   "cell_type": "code",
   "execution_count": 189,
   "metadata": {},
   "outputs": [
    {
     "name": "stdout",
     "output_type": "stream",
     "text": [
      "   id              name   first       last compas_screening_date   sex  \\\n",
      "0   1  miguel hernandez  miguel  hernandez            2013-08-14  Male   \n",
      "1   3       kevon dixon   kevon      dixon            2013-01-27  Male   \n",
      "\n",
      "          dob  age          age_cat              race  ...  v_decile_score  \\\n",
      "0  1947-04-18   69  Greater than 45             Other  ...               1   \n",
      "1  1982-01-22   34          25 - 45  African-American  ...               1   \n",
      "\n",
      "   v_score_text  v_screening_date  in_custody  out_custody  priors_count.1  \\\n",
      "0           Low        2013-08-14  2014-07-07   2014-07-14               0   \n",
      "1           Low        2013-01-27  2013-01-26   2013-02-05               0   \n",
      "\n",
      "  start  end event two_year_recid  \n",
      "0     0  327     0              0  \n",
      "1     9  159     1              1  \n",
      "\n",
      "[2 rows x 53 columns]\n"
     ]
    }
   ],
   "source": [
    "print(compas_data.head(2))"
   ]
  },
  {
   "cell_type": "code",
   "execution_count": 190,
   "metadata": {},
   "outputs": [
    {
     "name": "stdout",
     "output_type": "stream",
     "text": [
      "<class 'pandas.core.frame.DataFrame'>\n",
      "RangeIndex: 7214 entries, 0 to 7213\n",
      "Data columns (total 53 columns):\n",
      " #   Column                   Non-Null Count  Dtype  \n",
      "---  ------                   --------------  -----  \n",
      " 0   id                       7214 non-null   int64  \n",
      " 1   name                     7214 non-null   object \n",
      " 2   first                    7214 non-null   object \n",
      " 3   last                     7214 non-null   object \n",
      " 4   compas_screening_date    7214 non-null   object \n",
      " 5   sex                      7214 non-null   object \n",
      " 6   dob                      7214 non-null   object \n",
      " 7   age                      7214 non-null   int64  \n",
      " 8   age_cat                  7214 non-null   object \n",
      " 9   race                     7214 non-null   object \n",
      " 10  juv_fel_count            7214 non-null   int64  \n",
      " 11  decile_score             7214 non-null   int64  \n",
      " 12  juv_misd_count           7214 non-null   int64  \n",
      " 13  juv_other_count          7214 non-null   int64  \n",
      " 14  priors_count             7214 non-null   int64  \n",
      " 15  days_b_screening_arrest  6907 non-null   float64\n",
      " 16  c_jail_in                6907 non-null   object \n",
      " 17  c_jail_out               6907 non-null   object \n",
      " 18  c_case_number            7192 non-null   object \n",
      " 19  c_offense_date           6055 non-null   object \n",
      " 20  c_arrest_date            1137 non-null   object \n",
      " 21  c_days_from_compas       7192 non-null   float64\n",
      " 22  c_charge_degree          7214 non-null   object \n",
      " 23  c_charge_desc            7185 non-null   object \n",
      " 24  is_recid                 7214 non-null   int64  \n",
      " 25  r_case_number            3471 non-null   object \n",
      " 26  r_charge_degree          3471 non-null   object \n",
      " 27  r_days_from_arrest       2316 non-null   float64\n",
      " 28  r_offense_date           3471 non-null   object \n",
      " 29  r_charge_desc            3413 non-null   object \n",
      " 30  r_jail_in                2316 non-null   object \n",
      " 31  r_jail_out               2316 non-null   object \n",
      " 32  violent_recid            0 non-null      float64\n",
      " 33  is_violent_recid         7214 non-null   int64  \n",
      " 34  vr_case_number           819 non-null    object \n",
      " 35  vr_charge_degree         819 non-null    object \n",
      " 36  vr_offense_date          819 non-null    object \n",
      " 37  vr_charge_desc           819 non-null    object \n",
      " 38  type_of_assessment       7214 non-null   object \n",
      " 39  decile_score.1           7214 non-null   int64  \n",
      " 40  score_text               7214 non-null   object \n",
      " 41  screening_date           7214 non-null   object \n",
      " 42  v_type_of_assessment     7214 non-null   object \n",
      " 43  v_decile_score           7214 non-null   int64  \n",
      " 44  v_score_text             7214 non-null   object \n",
      " 45  v_screening_date         7214 non-null   object \n",
      " 46  in_custody               6978 non-null   object \n",
      " 47  out_custody              6978 non-null   object \n",
      " 48  priors_count.1           7214 non-null   int64  \n",
      " 49  start                    7214 non-null   int64  \n",
      " 50  end                      7214 non-null   int64  \n",
      " 51  event                    7214 non-null   int64  \n",
      " 52  two_year_recid           7214 non-null   int64  \n",
      "dtypes: float64(4), int64(16), object(33)\n",
      "memory usage: 2.9+ MB\n",
      "None\n"
     ]
    }
   ],
   "source": [
    "print(compas_data.info())"
   ]
  },
  {
   "cell_type": "code",
   "execution_count": 191,
   "metadata": {},
   "outputs": [
    {
     "name": "stdout",
     "output_type": "stream",
     "text": [
      "                 id          age  juv_fel_count  decile_score  juv_misd_count  \\\n",
      "count   7214.000000  7214.000000    7214.000000   7214.000000     7214.000000   \n",
      "mean    5501.255753    34.817993       0.067230      4.509565        0.090934   \n",
      "std     3175.706870    11.888922       0.473972      2.856396        0.485239   \n",
      "min        1.000000    18.000000       0.000000      1.000000        0.000000   \n",
      "25%     2735.250000    25.000000       0.000000      2.000000        0.000000   \n",
      "50%     5509.500000    31.000000       0.000000      4.000000        0.000000   \n",
      "75%     8246.500000    42.000000       0.000000      7.000000        0.000000   \n",
      "max    11001.000000    96.000000      20.000000     10.000000       13.000000   \n",
      "\n",
      "       juv_other_count  priors_count  days_b_screening_arrest  \\\n",
      "count      7214.000000   7214.000000              6907.000000   \n",
      "mean          0.109371      3.472415                 3.304763   \n",
      "std           0.501586      4.882538                75.809505   \n",
      "min           0.000000      0.000000              -414.000000   \n",
      "25%           0.000000      0.000000                -1.000000   \n",
      "50%           0.000000      2.000000                -1.000000   \n",
      "75%           0.000000      5.000000                 0.000000   \n",
      "max          17.000000     38.000000              1057.000000   \n",
      "\n",
      "       c_days_from_compas     is_recid  r_days_from_arrest  violent_recid  \\\n",
      "count         7192.000000  7214.000000         2316.000000            0.0   \n",
      "mean            57.731368     0.481148           20.269430            NaN   \n",
      "std            329.740215     0.499679           74.871668            NaN   \n",
      "min              0.000000     0.000000           -1.000000            NaN   \n",
      "25%              1.000000     0.000000            0.000000            NaN   \n",
      "50%              1.000000     0.000000            0.000000            NaN   \n",
      "75%              2.000000     1.000000            1.000000            NaN   \n",
      "max           9485.000000     1.000000          993.000000            NaN   \n",
      "\n",
      "       is_violent_recid  decile_score.1  v_decile_score  priors_count.1  \\\n",
      "count       7214.000000     7214.000000     7214.000000     7214.000000   \n",
      "mean           0.113529        4.509565        3.691849        3.472415   \n",
      "std            0.317261        2.856396        2.510148        4.882538   \n",
      "min            0.000000        1.000000        1.000000        0.000000   \n",
      "25%            0.000000        2.000000        1.000000        0.000000   \n",
      "50%            0.000000        4.000000        3.000000        2.000000   \n",
      "75%            0.000000        7.000000        5.000000        5.000000   \n",
      "max            1.000000       10.000000       10.000000       38.000000   \n",
      "\n",
      "             start          end        event  two_year_recid  \n",
      "count  7214.000000  7214.000000  7214.000000     7214.000000  \n",
      "mean     11.465068   553.436651     0.382867        0.450652  \n",
      "std      46.954563   399.020583     0.486120        0.497593  \n",
      "min       0.000000     0.000000     0.000000        0.000000  \n",
      "25%       0.000000   148.250000     0.000000        0.000000  \n",
      "50%       0.000000   530.500000     0.000000        0.000000  \n",
      "75%       1.000000   914.000000     1.000000        1.000000  \n",
      "max     937.000000  1186.000000     1.000000        1.000000  \n"
     ]
    }
   ],
   "source": [
    "print(compas_data.describe())"
   ]
  },
  {
   "cell_type": "code",
   "execution_count": 195,
   "metadata": {},
   "outputs": [
    {
     "data": {
      "text/plain": [
       "Index(['id', 'name', 'first', 'last', 'compas_screening_date', 'sex', 'dob',\n",
       "       'age', 'age_cat', 'race', 'juv_fel_count', 'decile_score',\n",
       "       'juv_misd_count', 'juv_other_count', 'priors_count',\n",
       "       'days_b_screening_arrest', 'c_jail_in', 'c_jail_out', 'c_case_number',\n",
       "       'c_offense_date', 'c_arrest_date', 'c_days_from_compas',\n",
       "       'c_charge_degree', 'c_charge_desc', 'is_recid', 'r_case_number',\n",
       "       'r_charge_degree', 'r_days_from_arrest', 'r_offense_date',\n",
       "       'r_charge_desc', 'r_jail_in', 'r_jail_out', 'violent_recid',\n",
       "       'is_violent_recid', 'vr_case_number', 'vr_charge_degree',\n",
       "       'vr_offense_date', 'vr_charge_desc', 'type_of_assessment',\n",
       "       'decile_score.1', 'score_text', 'screening_date',\n",
       "       'v_type_of_assessment', 'v_decile_score', 'v_score_text',\n",
       "       'v_screening_date', 'in_custody', 'out_custody', 'priors_count.1',\n",
       "       'start', 'end', 'event', 'two_year_recid'],\n",
       "      dtype='object')"
      ]
     },
     "execution_count": 195,
     "metadata": {},
     "output_type": "execute_result"
    }
   ],
   "source": [
    "compas_data.columns"
   ]
  },
  {
   "cell_type": "code",
   "execution_count": 196,
   "metadata": {},
   "outputs": [
    {
     "name": "stdout",
     "output_type": "stream",
     "text": [
      "days_b_screening_arrest     307\n",
      "c_jail_in                   307\n",
      "c_jail_out                  307\n",
      "c_case_number                22\n",
      "c_offense_date             1159\n",
      "c_arrest_date              6077\n",
      "c_days_from_compas           22\n",
      "c_charge_desc                29\n",
      "r_case_number              3743\n",
      "r_charge_degree            3743\n",
      "r_days_from_arrest         4898\n",
      "r_offense_date             3743\n",
      "r_charge_desc              3801\n",
      "r_jail_in                  4898\n",
      "r_jail_out                 4898\n",
      "violent_recid              7214\n",
      "vr_case_number             6395\n",
      "vr_charge_degree           6395\n",
      "vr_offense_date            6395\n",
      "vr_charge_desc             6395\n",
      "in_custody                  236\n",
      "out_custody                 236\n",
      "dtype: int64\n"
     ]
    }
   ],
   "source": [
    "missing_values = compas_data.isnull().sum()\n",
    "print(missing_values[missing_values > 0])\n"
   ]
  },
  {
   "cell_type": "code",
   "execution_count": 197,
   "metadata": {},
   "outputs": [
    {
     "data": {
      "text/plain": [
       "id                            0\n",
       "name                          0\n",
       "first                         0\n",
       "last                          0\n",
       "compas_screening_date         0\n",
       "sex                           0\n",
       "dob                           0\n",
       "age                           0\n",
       "age_cat                       0\n",
       "race                          0\n",
       "juv_fel_count                 0\n",
       "decile_score                  0\n",
       "juv_misd_count                0\n",
       "juv_other_count               0\n",
       "priors_count                  0\n",
       "days_b_screening_arrest     307\n",
       "c_jail_in                   307\n",
       "c_jail_out                  307\n",
       "c_case_number                22\n",
       "c_offense_date             1159\n",
       "c_arrest_date              6077\n",
       "c_days_from_compas           22\n",
       "c_charge_degree               0\n",
       "c_charge_desc                29\n",
       "is_recid                      0\n",
       "r_case_number              3743\n",
       "r_charge_degree            3743\n",
       "r_days_from_arrest         4898\n",
       "r_offense_date             3743\n",
       "r_charge_desc              3801\n",
       "r_jail_in                  4898\n",
       "r_jail_out                 4898\n",
       "violent_recid              7214\n",
       "is_violent_recid              0\n",
       "vr_case_number             6395\n",
       "vr_charge_degree           6395\n",
       "vr_offense_date            6395\n",
       "vr_charge_desc             6395\n",
       "type_of_assessment            0\n",
       "decile_score.1                0\n",
       "score_text                    0\n",
       "screening_date                0\n",
       "v_type_of_assessment          0\n",
       "v_decile_score                0\n",
       "v_score_text                  0\n",
       "v_screening_date              0\n",
       "in_custody                  236\n",
       "out_custody                 236\n",
       "priors_count.1                0\n",
       "start                         0\n",
       "end                           0\n",
       "event                         0\n",
       "two_year_recid                0\n",
       "dtype: int64"
      ]
     },
     "execution_count": 197,
     "metadata": {},
     "output_type": "execute_result"
    }
   ],
   "source": [
    "compas_data.isnull().sum()"
   ]
  },
  {
   "cell_type": "code",
   "execution_count": 199,
   "metadata": {},
   "outputs": [
    {
     "name": "stdout",
     "output_type": "stream",
     "text": [
      "id                           0.000000\n",
      "name                         0.000000\n",
      "first                        0.000000\n",
      "last                         0.000000\n",
      "compas_screening_date        0.000000\n",
      "sex                          0.000000\n",
      "dob                          0.000000\n",
      "age                          0.000000\n",
      "age_cat                      0.000000\n",
      "race                         0.000000\n",
      "juv_fel_count                0.000000\n",
      "decile_score                 0.000000\n",
      "juv_misd_count               0.000000\n",
      "juv_other_count              0.000000\n",
      "priors_count                 0.000000\n",
      "days_b_screening_arrest      4.255614\n",
      "c_jail_in                    4.255614\n",
      "c_jail_out                   4.255614\n",
      "c_case_number                0.304963\n",
      "c_offense_date              16.065983\n",
      "c_arrest_date               84.238980\n",
      "c_days_from_compas           0.304963\n",
      "c_charge_degree              0.000000\n",
      "c_charge_desc                0.401996\n",
      "is_recid                     0.000000\n",
      "r_case_number               51.885223\n",
      "r_charge_degree             51.885223\n",
      "r_days_from_arrest          67.895758\n",
      "r_offense_date              51.885223\n",
      "r_charge_desc               52.689215\n",
      "r_jail_in                   67.895758\n",
      "r_jail_out                  67.895758\n",
      "violent_recid              100.000000\n",
      "is_violent_recid             0.000000\n",
      "vr_case_number              88.647075\n",
      "vr_charge_degree            88.647075\n",
      "vr_offense_date             88.647075\n",
      "vr_charge_desc              88.647075\n",
      "type_of_assessment           0.000000\n",
      "decile_score.1               0.000000\n",
      "score_text                   0.000000\n",
      "screening_date               0.000000\n",
      "v_type_of_assessment         0.000000\n",
      "v_decile_score               0.000000\n",
      "v_score_text                 0.000000\n",
      "v_screening_date             0.000000\n",
      "in_custody                   3.271417\n",
      "out_custody                  3.271417\n",
      "priors_count.1               0.000000\n",
      "start                        0.000000\n",
      "end                          0.000000\n",
      "event                        0.000000\n",
      "two_year_recid               0.000000\n",
      "dtype: float64\n"
     ]
    }
   ],
   "source": [
    "# Calculate the percentage of missing values for each column\n",
    "missing_percentage = compas_data.isnull().mean() * 100\n",
    "print(missing_percentage)\n"
   ]
  },
  {
   "cell_type": "markdown",
   "metadata": {},
   "source": [
    "**### COMPAS Data Modification**"
   ]
  },
  {
   "cell_type": "markdown",
   "metadata": {},
   "source": [
    "Compas_data is the original data and Compas_data_modify is the modified data"
   ]
  },
  {
   "cell_type": "code",
   "execution_count": 200,
   "metadata": {},
   "outputs": [
    {
     "name": "stdout",
     "output_type": "stream",
     "text": [
      "Columns removed due to high missing rate:\n",
      "Index(['violent_recid', 'vr_case_number', 'vr_charge_degree',\n",
      "       'vr_offense_date', 'vr_charge_desc'],\n",
      "      dtype='object')\n"
     ]
    }
   ],
   "source": [
    "# Remove columns with more than 80% missing values\n",
    "# Define threshold for column removal based on missing values\n",
    "threshold = 0.85\n",
    "\n",
    "# Identify columns with a higher proportion of missing values than the threshold\n",
    "removed_columns = compas_data.columns[compas_data.isnull().mean() >= threshold]\n",
    "print(\"Columns removed due to high missing rate:\")\n",
    "print(removed_columns)\n",
    "\n",
    "# Filter the dataset to keep columns with missing values below the threshold\n",
    "compas_data_modify = compas_data.loc[:, compas_data.isnull().mean() < threshold]\n"
   ]
  },
  {
   "cell_type": "code",
   "execution_count": 201,
   "metadata": {},
   "outputs": [
    {
     "name": "stdout",
     "output_type": "stream",
     "text": [
      "(7214, 48)\n"
     ]
    }
   ],
   "source": [
    "print(compas_data_modify.shape)"
   ]
  },
  {
   "cell_type": "code",
   "execution_count": 202,
   "metadata": {},
   "outputs": [
    {
     "name": "stdout",
     "output_type": "stream",
     "text": [
      "(7214, 30)\n"
     ]
    }
   ],
   "source": [
    "compas_data_modify = compas_data_modify.drop(columns=['id']) #id coloumn droped\n",
    "compas_data_modify = compas_data_modify.drop(columns=['name']) #name coloumn droped\n",
    "compas_data_modify = compas_data_modify.drop(columns=['first']) #first coloumn droped\n",
    "compas_data_modify = compas_data_modify.drop(columns=['last']) #last coloumn droped\n",
    "compas_data_modify = compas_data_modify.drop(columns=['dob']) #dob coloumn droped\n",
    "compas_data_modify = compas_data_modify.drop(columns=['compas_screening_date']) #compas_screening_date coloumn droped\n",
    "compas_data_modify = compas_data_modify.drop(columns=['c_case_number']) #c_case_number coloumn droped\n",
    "compas_data_modify = compas_data_modify.drop(columns=['r_case_number']) #r_case_number coloumn droped\n",
    "compas_data_modify = compas_data_modify.drop(columns=['screening_date']) #screening_date coloumn droped\n",
    "compas_data_modify = compas_data_modify.drop(columns=['c_charge_desc']) #c_charge_desc coloumn droped\n",
    "compas_data_modify = compas_data_modify.drop(columns=['r_charge_desc']) #r_charge_desc coloumn droped\n",
    "compas_data_modify = compas_data_modify.drop(columns=['v_screening_date']) #v_screening_date coloumn droped\n",
    "compas_data_modify = compas_data_modify.drop(columns=['v_type_of_assessment']) #v_type_of_assessment coloumn droped\n",
    "compas_data_modify = compas_data_modify.drop(columns=['type_of_assessment']) #type_of_assessment coloumn droped\n",
    "compas_data_modify = compas_data_modify.drop(columns=['event']) #event coloumn droped\n",
    "compas_data_modify = compas_data_modify.drop(columns=['r_offense_date']) #r_offense_date coloumn droped\n",
    "compas_data_modify = compas_data_modify.drop(columns=['c_offense_date']) #c_offense_date coloumn droped\n",
    "compas_data_modify = compas_data_modify.drop(columns=['c_arrest_date']) #c_arrest_date coloumn droped\n",
    "\n",
    "print(compas_data_modify.shape)"
   ]
  },
  {
   "cell_type": "code",
   "execution_count": 203,
   "metadata": {},
   "outputs": [
    {
     "data": {
      "text/plain": [
       "Index(['sex', 'age', 'age_cat', 'race', 'juv_fel_count', 'decile_score',\n",
       "       'juv_misd_count', 'juv_other_count', 'priors_count',\n",
       "       'days_b_screening_arrest', 'c_jail_in', 'c_jail_out',\n",
       "       'c_days_from_compas', 'c_charge_degree', 'is_recid', 'r_charge_degree',\n",
       "       'r_days_from_arrest', 'r_jail_in', 'r_jail_out', 'is_violent_recid',\n",
       "       'decile_score.1', 'score_text', 'v_decile_score', 'v_score_text',\n",
       "       'in_custody', 'out_custody', 'priors_count.1', 'start', 'end',\n",
       "       'two_year_recid'],\n",
       "      dtype='object')"
      ]
     },
     "execution_count": 203,
     "metadata": {},
     "output_type": "execute_result"
    }
   ],
   "source": [
    "compas_data_modify.columns"
   ]
  },
  {
   "cell_type": "code",
   "execution_count": 204,
   "metadata": {},
   "outputs": [],
   "source": [
    "from sklearn.preprocessing import LabelEncoder\n",
    "\n",
    "# Initialize the encoder\n",
    "label_encoder = LabelEncoder()\n",
    "\n",
    "compas_data_modify[\"sex\"] = label_encoder.fit_transform(compas_data_modify[\"sex\"])\n",
    "compas_data_modify[\"age_cat\"] = label_encoder.fit_transform(compas_data_modify[\"age_cat\"])\n",
    "compas_data_modify[\"race\"] = label_encoder.fit_transform(compas_data_modify[\"race\"])\n",
    "compas_data_modify[\"c_charge_degree\"] = label_encoder.fit_transform(compas_data_modify[\"c_charge_degree\"])\n",
    "compas_data_modify[\"r_charge_degree\"] = label_encoder.fit_transform(compas_data_modify[\"r_charge_degree\"])\n",
    "compas_data_modify[\"score_text\"] = label_encoder.fit_transform(compas_data_modify[\"score_text\"])\n",
    "compas_data_modify[\"v_score_text\"] = label_encoder.fit_transform(compas_data_modify[\"v_score_text\"])\n"
   ]
  },
  {
   "cell_type": "code",
   "execution_count": 205,
   "metadata": {},
   "outputs": [
    {
     "data": {
      "text/plain": [
       "Index(['sex', 'age', 'age_cat', 'race', 'juv_fel_count', 'decile_score',\n",
       "       'juv_misd_count', 'juv_other_count', 'priors_count',\n",
       "       'days_b_screening_arrest', 'c_jail_in', 'c_jail_out',\n",
       "       'c_days_from_compas', 'c_charge_degree', 'is_recid', 'r_charge_degree',\n",
       "       'r_days_from_arrest', 'r_jail_in', 'r_jail_out', 'is_violent_recid',\n",
       "       'decile_score.1', 'score_text', 'v_decile_score', 'v_score_text',\n",
       "       'in_custody', 'out_custody', 'priors_count.1', 'start', 'end',\n",
       "       'two_year_recid'],\n",
       "      dtype='object')"
      ]
     },
     "execution_count": 205,
     "metadata": {},
     "output_type": "execute_result"
    }
   ],
   "source": [
    "compas_data_modify.columns"
   ]
  },
  {
   "cell_type": "code",
   "execution_count": 206,
   "metadata": {},
   "outputs": [],
   "source": [
    "compas_data_modify['c_jail_in'] = pd.to_datetime(compas_data_modify['c_jail_in'])\n",
    "compas_data_modify['c_jail_out'] = pd.to_datetime(compas_data_modify['c_jail_out'])\n",
    "\n",
    "# Calculate the duration in c_jail in days\n",
    "compas_data_modify['c_days_in_jail'] = (compas_data_modify['c_jail_out'] - compas_data_modify['c_jail_in']).dt.days\n",
    "\n",
    "compas_data_modify['r_jail_in'] = pd.to_datetime(compas_data_modify['r_jail_in'])\n",
    "compas_data_modify['r_jail_out'] = pd.to_datetime(compas_data_modify['r_jail_out'])\n",
    "\n",
    "# Calculate the duration in r_jail in days\n",
    "compas_data_modify['r_days_in_jail'] = (compas_data_modify['r_jail_out'] - compas_data_modify['r_jail_in']).dt.days\n",
    "\n",
    "compas_data_modify['in_custody'] = pd.to_datetime(compas_data_modify['in_custody'])\n",
    "compas_data_modify['out_custody'] = pd.to_datetime(compas_data_modify['out_custody'])\n",
    "\n",
    "# Calculate of duration in custody\n",
    "compas_data_modify['duration_custody'] = (compas_data_modify['out_custody'] - compas_data_modify['in_custody']).dt.days\n"
   ]
  },
  {
   "cell_type": "code",
   "execution_count": 207,
   "metadata": {},
   "outputs": [],
   "source": [
    "compas_data_modify = compas_data_modify.drop(columns=['c_jail_in']) #c_jail_in coloumn droped\n",
    "compas_data_modify = compas_data_modify.drop(columns=['c_jail_out']) #c_jail_out coloumn droped\n",
    "compas_data_modify = compas_data_modify.drop(columns=['r_jail_in']) #r_jail_in coloumn droped\n",
    "compas_data_modify = compas_data_modify.drop(columns=['r_jail_out']) #r_jail_out coloumn droped\n",
    "compas_data_modify = compas_data_modify.drop(columns=['in_custody']) #in_custody coloumn droped\n",
    "compas_data_modify = compas_data_modify.drop(columns=['out_custody']) #out_custody coloumn droped"
   ]
  },
  {
   "cell_type": "code",
   "execution_count": 208,
   "metadata": {},
   "outputs": [
    {
     "data": {
      "text/plain": [
       "(7214, 27)"
      ]
     },
     "execution_count": 208,
     "metadata": {},
     "output_type": "execute_result"
    }
   ],
   "source": [
    "compas_data_modify.shape"
   ]
  },
  {
   "cell_type": "code",
   "execution_count": 209,
   "metadata": {},
   "outputs": [
    {
     "name": "stdout",
     "output_type": "stream",
     "text": [
      "<class 'pandas.core.frame.DataFrame'>\n",
      "RangeIndex: 7214 entries, 0 to 7213\n",
      "Data columns (total 27 columns):\n",
      " #   Column                   Non-Null Count  Dtype  \n",
      "---  ------                   --------------  -----  \n",
      " 0   sex                      7214 non-null   int64  \n",
      " 1   age                      7214 non-null   int64  \n",
      " 2   age_cat                  7214 non-null   int64  \n",
      " 3   race                     7214 non-null   int64  \n",
      " 4   juv_fel_count            7214 non-null   int64  \n",
      " 5   decile_score             7214 non-null   int64  \n",
      " 6   juv_misd_count           7214 non-null   int64  \n",
      " 7   juv_other_count          7214 non-null   int64  \n",
      " 8   priors_count             7214 non-null   int64  \n",
      " 9   days_b_screening_arrest  6907 non-null   float64\n",
      " 10  c_days_from_compas       7192 non-null   float64\n",
      " 11  c_charge_degree          7214 non-null   int64  \n",
      " 12  is_recid                 7214 non-null   int64  \n",
      " 13  r_charge_degree          7214 non-null   int64  \n",
      " 14  r_days_from_arrest       2316 non-null   float64\n",
      " 15  is_violent_recid         7214 non-null   int64  \n",
      " 16  decile_score.1           7214 non-null   int64  \n",
      " 17  score_text               7214 non-null   int64  \n",
      " 18  v_decile_score           7214 non-null   int64  \n",
      " 19  v_score_text             7214 non-null   int64  \n",
      " 20  priors_count.1           7214 non-null   int64  \n",
      " 21  start                    7214 non-null   int64  \n",
      " 22  end                      7214 non-null   int64  \n",
      " 23  two_year_recid           7214 non-null   int64  \n",
      " 24  c_days_in_jail           6907 non-null   float64\n",
      " 25  r_days_in_jail           2316 non-null   float64\n",
      " 26  duration_custody         6978 non-null   float64\n",
      "dtypes: float64(6), int64(21)\n",
      "memory usage: 1.5 MB\n"
     ]
    }
   ],
   "source": [
    "compas_data_modify.info([5])"
   ]
  },
  {
   "cell_type": "code",
   "execution_count": 212,
   "metadata": {},
   "outputs": [
    {
     "name": "stdout",
     "output_type": "stream",
     "text": [
      "sex                         0.000000\n",
      "age                         0.000000\n",
      "age_cat                     0.000000\n",
      "race                        0.000000\n",
      "juv_fel_count               0.000000\n",
      "decile_score                0.000000\n",
      "juv_misd_count              0.000000\n",
      "juv_other_count             0.000000\n",
      "priors_count                0.000000\n",
      "days_b_screening_arrest     4.255614\n",
      "c_days_from_compas          0.304963\n",
      "c_charge_degree             0.000000\n",
      "is_recid                    0.000000\n",
      "r_charge_degree             0.000000\n",
      "r_days_from_arrest         67.895758\n",
      "is_violent_recid            0.000000\n",
      "decile_score.1              0.000000\n",
      "score_text                  0.000000\n",
      "v_decile_score              0.000000\n",
      "v_score_text                0.000000\n",
      "priors_count.1              0.000000\n",
      "start                       0.000000\n",
      "end                         0.000000\n",
      "two_year_recid              0.000000\n",
      "c_days_in_jail              4.255614\n",
      "r_days_in_jail             67.895758\n",
      "duration_custody            3.271417\n",
      "dtype: float64\n"
     ]
    }
   ],
   "source": [
    "missing_percentage = compas_data_modify.isnull().mean() * 100\n",
    "print(missing_percentage)"
   ]
  },
  {
   "cell_type": "markdown",
   "metadata": {},
   "source": [
    "Total Percentage of missing values in COMPAS DATA"
   ]
  },
  {
   "cell_type": "code",
   "execution_count": 213,
   "metadata": {},
   "outputs": [
    {
     "name": "stdout",
     "output_type": "stream",
     "text": [
      "Total percentage of missing values: 5.48%\n"
     ]
    }
   ],
   "source": [
    "# Calculate total percentage of missing values in the dataset\n",
    "Compas_total_missing_percentage = compas_data_modify.isnull().sum().sum() / (compas_data_modify.shape[0] * compas_data_modify.shape[1]) * 100\n",
    "\n",
    "print(f\"Total percentage of missing values: {Compas_total_missing_percentage:.2f}%\")\n"
   ]
  },
  {
   "cell_type": "markdown",
   "metadata": {},
   "source": [
    "**Ground Truth COMPAS Data with 5.48% missing values.**"
   ]
  },
  {
   "cell_type": "code",
   "execution_count": 215,
   "metadata": {},
   "outputs": [],
   "source": [
    "compas_data_modify.to_csv(r\"C:\\Users\\zhossai3\\Desktop\\My code\\OT+Fairness\\Data\\Compas\\compas_groundTruth.csv\", index=False)"
   ]
  },
  {
   "cell_type": "markdown",
   "metadata": {},
   "source": [
    "**COMPAS 10% MCAR**"
   ]
  },
  {
   "cell_type": "code",
   "execution_count": 218,
   "metadata": {},
   "outputs": [],
   "source": [
    "compas_data_mcar10 = compas_data_modify.copy()\n",
    "additional_missing_rate = 0.10\n",
    "excluded_columns = ['two_year_recid']\n",
    "data_for_missing = compas_data_mcar10.drop(columns=excluded_columns)\n",
    "\n",
    "# the current number of missing entries\n",
    "current_missing = data_for_missing.isna().sum().sum()\n",
    "\n",
    "# the target total number of missing entries\n",
    "total_entries = data_for_missing.size\n",
    "target_missing = int(total_entries * (additional_missing_rate + current_missing / total_entries))\n",
    "\n",
    "# the new number of missing values to add\n",
    "num_new_missing = target_missing - current_missing\n",
    "\n",
    "# Flatten the row and column indices and randomly choose num_new_missing indices\n",
    "nan_row_indices = np.random.choice(data_for_missing.index, num_new_missing, replace=True)\n",
    "nan_col_indices = np.random.choice(data_for_missing.columns, num_new_missing, replace=True)\n",
    "\n",
    "# the selected indices to NaN in the main DataFrame\n",
    "for row, col in zip(nan_row_indices, nan_col_indices):\n",
    "    compas_data_mcar10.loc[row, col] = np.nan\n",
    "\n",
    "# the updated DataFrame with additional missing values to a CSV file\n",
    "compas_data_mcar10.to_csv(r\"C:\\Users\\zhossai3\\Desktop\\My code\\OT+Fairness\\Data\\Compas\\compas_data_mcar10.csv\", index=False)"
   ]
  },
  {
   "cell_type": "code",
   "execution_count": 219,
   "metadata": {},
   "outputs": [
    {
     "name": "stdout",
     "output_type": "stream",
     "text": [
      "Total percentage of missing values: 14.11%\n"
     ]
    }
   ],
   "source": [
    "Compas_total_missing_percentage = compas_data_mcar10.isnull().sum().sum() / (compas_data_mcar10.shape[0] * compas_data_mcar10.shape[1]) * 100\n",
    "\n",
    "print(f\"Total percentage of missing values: {Compas_total_missing_percentage:.2f}%\")"
   ]
  },
  {
   "cell_type": "markdown",
   "metadata": {},
   "source": [
    "**COMPAS 20% MCAR**"
   ]
  },
  {
   "cell_type": "code",
   "execution_count": 224,
   "metadata": {},
   "outputs": [],
   "source": [
    "compas_data_mcar20 = compas_data_modify.copy()\n",
    "additional_missing_rate = 0.20\n",
    "excluded_columns = ['two_year_recid']\n",
    "data_for_missing = compas_data_mcar20.drop(columns=excluded_columns)\n",
    "\n",
    "# the current number of missing entries\n",
    "current_missing = data_for_missing.isna().sum().sum()\n",
    "\n",
    "# the target total number of missing entries\n",
    "total_entries = data_for_missing.size\n",
    "target_missing = int(total_entries * (additional_missing_rate + current_missing / total_entries))\n",
    "\n",
    "# the new number of missing values to add\n",
    "num_new_missing = target_missing - current_missing\n",
    "\n",
    "# Flatten the row and column indices and randomly choose num_new_missing indices\n",
    "nan_row_indices = np.random.choice(data_for_missing.index, num_new_missing, replace=True)\n",
    "nan_col_indices = np.random.choice(data_for_missing.columns, num_new_missing, replace=True)\n",
    "\n",
    "# the selected indices to NaN in the main DataFrame\n",
    "for row, col in zip(nan_row_indices, nan_col_indices):\n",
    "    compas_data_mcar20.loc[row, col] = np.nan\n",
    "\n",
    "# the updated DataFrame with additional missing values to a CSV file\n",
    "compas_data_mcar20.to_csv(r\"C:\\Users\\zhossai3\\Desktop\\My code\\OT+Fairness\\Data\\Compas\\compas_data_mcar20.csv\", index=False)"
   ]
  },
  {
   "cell_type": "code",
   "execution_count": 225,
   "metadata": {},
   "outputs": [
    {
     "name": "stdout",
     "output_type": "stream",
     "text": [
      "Total percentage of missing values: 21.96%\n"
     ]
    }
   ],
   "source": [
    "Compas_total_missing_percentage = compas_data_mcar20.isnull().sum().sum() / (compas_data_mcar20.shape[0] * compas_data_mcar20.shape[1]) * 100\n",
    "\n",
    "print(f\"Total percentage of missing values: {Compas_total_missing_percentage:.2f}%\")"
   ]
  },
  {
   "cell_type": "markdown",
   "metadata": {},
   "source": [
    "**COMPAS 25% MCAR**"
   ]
  },
  {
   "cell_type": "code",
   "execution_count": 238,
   "metadata": {},
   "outputs": [],
   "source": [
    "compas_data_mcar25 = compas_data_modify.copy()\n",
    "additional_missing_rate = 0.25\n",
    "excluded_columns = ['two_year_recid']\n",
    "data_for_missing = compas_data_mcar25.drop(columns=excluded_columns)\n",
    "\n",
    "# the current number of missing entries\n",
    "current_missing = data_for_missing.isna().sum().sum()\n",
    "\n",
    "# the target total number of missing entries\n",
    "total_entries = data_for_missing.size\n",
    "target_missing = int(total_entries * (additional_missing_rate + current_missing / total_entries))\n",
    "\n",
    "# the new number of missing values to add\n",
    "num_new_missing = target_missing - current_missing\n",
    "\n",
    "# Flatten the row and column indices and randomly choose num_new_missing indices\n",
    "nan_row_indices = np.random.choice(data_for_missing.index, num_new_missing, replace=True)\n",
    "nan_col_indices = np.random.choice(data_for_missing.columns, num_new_missing, replace=True)\n",
    "\n",
    "# the selected indices to NaN in the main DataFrame\n",
    "for row, col in zip(nan_row_indices, nan_col_indices):\n",
    "    compas_data_mcar25.loc[row, col] = np.nan\n",
    "\n",
    "# the updated DataFrame with additional missing values to a CSV file\n",
    "compas_data_mcar25.to_csv(r\"C:\\Users\\zhossai3\\Desktop\\My code\\OT+Fairness\\Data\\Compas\\compas_data_mcar25.csv\", index=False)"
   ]
  },
  {
   "cell_type": "code",
   "execution_count": 239,
   "metadata": {},
   "outputs": [
    {
     "name": "stdout",
     "output_type": "stream",
     "text": [
      "Total percentage of missing values: 25.56%\n"
     ]
    }
   ],
   "source": [
    "Compas_total_missing_percentage = compas_data_mcar25.isnull().sum().sum() / (compas_data_mcar25.shape[0] * compas_data_mcar25.shape[1]) * 100\n",
    "\n",
    "print(f\"Total percentage of missing values: {Compas_total_missing_percentage:.2f}%\")"
   ]
  },
  {
   "cell_type": "code",
   "execution_count": 246,
   "metadata": {},
   "outputs": [
    {
     "data": {
      "image/png": "[encoded data removed]",
      "text/plain": [
       "<Figure size 640x480 with 1 Axes>"
      ]
     },
     "metadata": {},
     "output_type": "display_data"
    }
   ],
   "source": [
    "import seaborn as sns\n",
    "import matplotlib.pyplot as plt\n",
    "\n",
    "sns.histplot(data=compas_data_modify, x=\"sex\", hue=\"race\", multiple=\"stack\", discrete=True)\n",
    "plt.xticks([0, 1], labels=[\"Female\", \"Male\"])  # Set custom labels for x-axis (0: Female, 1: Male)\n",
    "plt.xlabel(\"Sex\")  # Add x-axis label\n",
    "plt.ylabel(\"Count\")  # Add y-axis label\n",
    "plt.title(\"Distribution of Sex and Race in COMPAS Data\")  # Add a title\n",
    "plt.show()\n",
    "\n",
    "\n",
    "\n"
   ]
  },
  {
   "cell_type": "code",
   "execution_count": 249,
   "metadata": {},
   "outputs": [
    {
     "data": {
      "image/png": "[encoded data removed]",
      "text/plain": [
       "<Figure size 640x480 with 1 Axes>"
      ]
     },
     "metadata": {},
     "output_type": "display_data"
    }
   ],
   "source": [
    "plt.xticks([0, 1], labels=[\"Female\", \"Male\"])\n",
    "sns.countplot(x='sex', data=compas_data_modify)\n",
    "plt.title('Gender Distribution - COMPAS Recidivism')\n",
    "plt.show()"
   ]
  },
  {
   "cell_type": "code",
   "execution_count": 250,
   "metadata": {},
   "outputs": [
    {
     "data": {
      "image/png": "[encoded data removed]",
      "text/plain": [
       "<Figure size 640x480 with 1 Axes>"
      ]
     },
     "metadata": {},
     "output_type": "display_data"
    }
   ],
   "source": [
    "sns.histplot(compas_data_modify['age'], kde=True)\n",
    "plt.title('Age Distribution - COMPAS Recidivism')\n",
    "plt.show()"
   ]
  },
  {
   "cell_type": "code",
   "execution_count": 251,
   "metadata": {},
   "outputs": [
    {
     "data": {
      "image/png": "[encoded data removed]",
      "text/plain": [
       "<Figure size 640x480 with 1 Axes>"
      ]
     },
     "metadata": {},
     "output_type": "display_data"
    }
   ],
   "source": [
    "sns.countplot(x='race', data=compas_data_modify)\n",
    "plt.title('Ethnicity Distribution - COMPAS Recidivism')\n",
    "plt.show()"
   ]
  },
  {
   "cell_type": "markdown",
   "metadata": {},
   "source": [
    "GERMAN CREDIT DATA"
   ]
  },
  {
   "cell_type": "code",
   "execution_count": 6,
   "metadata": {},
   "outputs": [],
   "source": [
    "german_credit_data = pd.read_csv(r\"C:\\Users\\zhossai3\\Desktop\\My code\\OT+Fairness\\Data\\German Credit\\german_credit_data.csv\")"
   ]
  },
  {
   "cell_type": "code",
   "execution_count": 7,
   "metadata": {},
   "outputs": [
    {
     "name": "stdout",
     "output_type": "stream",
     "text": [
      "(1000, 11)\n"
     ]
    }
   ],
   "source": [
    "print(german_credit_data.shape)"
   ]
  },
  {
   "cell_type": "code",
   "execution_count": 8,
   "metadata": {},
   "outputs": [
    {
     "name": "stdout",
     "output_type": "stream",
     "text": [
      "   Unnamed: 0  Age     Sex  Job Housing Saving accounts Checking account  \\\n",
      "0           0   67    male    2     own             NaN           little   \n",
      "1           1   22  female    2     own          little         moderate   \n",
      "2           2   49    male    1     own          little              NaN   \n",
      "3           3   45    male    2    free          little           little   \n",
      "4           4   53    male    2    free          little           little   \n",
      "\n",
      "   Credit amount  Duration              Purpose  Risk  \n",
      "0           1169         6             radio/TV  good  \n",
      "1           5951        48             radio/TV   bad  \n",
      "2           2096        12            education  good  \n",
      "3           7882        42  furniture/equipment  good  \n",
      "4           4870        24                  car   bad  \n"
     ]
    }
   ],
   "source": [
    "print(german_credit_data.head())"
   ]
  },
  {
   "cell_type": "code",
   "execution_count": 9,
   "metadata": {},
   "outputs": [
    {
     "name": "stdout",
     "output_type": "stream",
     "text": [
      "        Unnamed: 0          Age          Job  Credit amount     Duration\n",
      "count  1000.000000  1000.000000  1000.000000    1000.000000  1000.000000\n",
      "mean    499.500000    35.546000     1.904000    3271.258000    20.903000\n",
      "std     288.819436    11.375469     0.653614    2822.736876    12.058814\n",
      "min       0.000000    19.000000     0.000000     250.000000     4.000000\n",
      "25%     249.750000    27.000000     2.000000    1365.500000    12.000000\n",
      "50%     499.500000    33.000000     2.000000    2319.500000    18.000000\n",
      "75%     749.250000    42.000000     2.000000    3972.250000    24.000000\n",
      "max     999.000000    75.000000     3.000000   18424.000000    72.000000\n"
     ]
    }
   ],
   "source": [
    "print(german_credit_data.describe())"
   ]
  },
  {
   "cell_type": "code",
   "execution_count": 10,
   "metadata": {},
   "outputs": [
    {
     "data": {
      "text/plain": [
       "Index(['Unnamed: 0', 'Age', 'Sex', 'Job', 'Housing', 'Saving accounts',\n",
       "       'Checking account', 'Credit amount', 'Duration', 'Purpose', 'Risk'],\n",
       "      dtype='object')"
      ]
     },
     "execution_count": 10,
     "metadata": {},
     "output_type": "execute_result"
    }
   ],
   "source": [
    "german_credit_data.columns"
   ]
  },
  {
   "cell_type": "code",
   "execution_count": 11,
   "metadata": {},
   "outputs": [
    {
     "name": "stdout",
     "output_type": "stream",
     "text": [
      "<class 'pandas.core.frame.DataFrame'>\n",
      "RangeIndex: 1000 entries, 0 to 999\n",
      "Data columns (total 11 columns):\n",
      " #   Column            Non-Null Count  Dtype \n",
      "---  ------            --------------  ----- \n",
      " 0   Unnamed: 0        1000 non-null   int64 \n",
      " 1   Age               1000 non-null   int64 \n",
      " 2   Sex               1000 non-null   object\n",
      " 3   Job               1000 non-null   int64 \n",
      " 4   Housing           1000 non-null   object\n",
      " 5   Saving accounts   817 non-null    object\n",
      " 6   Checking account  606 non-null    object\n",
      " 7   Credit amount     1000 non-null   int64 \n",
      " 8   Duration          1000 non-null   int64 \n",
      " 9   Purpose           1000 non-null   object\n",
      " 10  Risk              1000 non-null   object\n",
      "dtypes: int64(5), object(6)\n",
      "memory usage: 86.1+ KB\n"
     ]
    }
   ],
   "source": [
    "german_credit_data.info()"
   ]
  },
  {
   "cell_type": "code",
   "execution_count": 12,
   "metadata": {},
   "outputs": [],
   "source": [
    "german_credit_data_modify = german_credit_data.drop(columns=['Unnamed: 0'])"
   ]
  },
  {
   "cell_type": "code",
   "execution_count": 13,
   "metadata": {},
   "outputs": [],
   "source": [
    "import pandas as pd\n",
    "from sklearn.preprocessing import LabelEncoder\n",
    "import numpy as np"
   ]
  },
  {
   "cell_type": "code",
   "execution_count": 14,
   "metadata": {},
   "outputs": [],
   "source": [
    "le = LabelEncoder()"
   ]
  },
  {
   "cell_type": "code",
   "execution_count": 15,
   "metadata": {},
   "outputs": [],
   "source": [
    "german_credit_data_modify['Sex'] = pd.Series(\n",
    "    le.fit_transform(german_credit_data_modify['Sex'].dropna()),  # Encode non-NaN values\n",
    "    index=german_credit_data_modify['Sex'].dropna().index         # Preserve the index of non-NaN values\n",
    ")\n",
    "\n",
    "german_credit_data_modify['Housing'] = pd.Series(\n",
    "    le.fit_transform(german_credit_data_modify['Housing'].dropna()),  # Encode non-NaN values\n",
    "    index=german_credit_data_modify['Housing'].dropna().index         # Preserve the index of non-NaN values\n",
    ")\n",
    "\n",
    "german_credit_data_modify['Saving accounts'] = pd.Series(\n",
    "    le.fit_transform(german_credit_data_modify['Saving accounts'].dropna()),  # Encode non-NaN values\n",
    "    index=german_credit_data_modify['Saving accounts'].dropna().index         # Preserve the index of non-NaN values\n",
    ")\n",
    "\n",
    "german_credit_data_modify['Checking account'] = pd.Series(\n",
    "    le.fit_transform(german_credit_data_modify['Checking account'].dropna()),  # Encode non-NaN values\n",
    "    index=german_credit_data_modify['Checking account'].dropna().index         # Preserve the index of non-NaN values\n",
    ")\n",
    "\n",
    "german_credit_data_modify['Purpose'] = pd.Series(\n",
    "    le.fit_transform(german_credit_data_modify['Purpose'].dropna()),  # Encode non-NaN values\n",
    "    index=german_credit_data_modify['Purpose'].dropna().index         # Preserve the index of non-NaN values\n",
    ")\n",
    "\n",
    "german_credit_data_modify['Risk'] = pd.Series(\n",
    "    le.fit_transform(german_credit_data_modify['Risk'].dropna()),  # Encode non-NaN values\n",
    "    index=german_credit_data_modify['Risk'].dropna().index         # Preserve the index of non-NaN values\n",
    ")"
   ]
  },
  {
   "cell_type": "code",
   "execution_count": 16,
   "metadata": {},
   "outputs": [
    {
     "name": "stdout",
     "output_type": "stream",
     "text": [
      "   Age  Sex  Job  Housing  Saving accounts  Checking account  Credit amount  \\\n",
      "0   67    1    2        1              NaN               0.0           1169   \n",
      "1   22    0    2        1              0.0               1.0           5951   \n",
      "2   49    1    1        1              0.0               NaN           2096   \n",
      "3   45    1    2        0              0.0               0.0           7882   \n",
      "4   53    1    2        0              0.0               0.0           4870   \n",
      "5   35    1    1        0              NaN               NaN           9055   \n",
      "6   53    1    2        1              2.0               NaN           2835   \n",
      "7   35    1    3        2              0.0               1.0           6948   \n",
      "8   61    1    1        1              3.0               NaN           3059   \n",
      "\n",
      "   Duration  Purpose  Risk  \n",
      "0         6        5     1  \n",
      "1        48        5     0  \n",
      "2        12        3     1  \n",
      "3        42        4     1  \n",
      "4        24        1     0  \n",
      "5        36        3     1  \n",
      "6        24        4     1  \n",
      "7        36        1     1  \n",
      "8        12        5     1  \n"
     ]
    }
   ],
   "source": [
    "print(german_credit_data_modify.head(9))"
   ]
  },
  {
   "cell_type": "code",
   "execution_count": 17,
   "metadata": {},
   "outputs": [
    {
     "name": "stdout",
     "output_type": "stream",
     "text": [
      "[ 0.  1. nan  2.]\n"
     ]
    }
   ],
   "source": [
    "print(german_credit_data_modify[\"Checking account\"].unique())"
   ]
  },
  {
   "cell_type": "code",
   "execution_count": 18,
   "metadata": {},
   "outputs": [
    {
     "name": "stdout",
     "output_type": "stream",
     "text": [
      "<class 'pandas.core.frame.DataFrame'>\n",
      "RangeIndex: 1000 entries, 0 to 999\n",
      "Data columns (total 10 columns):\n",
      " #   Column            Non-Null Count  Dtype  \n",
      "---  ------            --------------  -----  \n",
      " 0   Age               1000 non-null   int64  \n",
      " 1   Sex               1000 non-null   int64  \n",
      " 2   Job               1000 non-null   int64  \n",
      " 3   Housing           1000 non-null   int64  \n",
      " 4   Saving accounts   817 non-null    float64\n",
      " 5   Checking account  606 non-null    float64\n",
      " 6   Credit amount     1000 non-null   int64  \n",
      " 7   Duration          1000 non-null   int64  \n",
      " 8   Purpose           1000 non-null   int64  \n",
      " 9   Risk              1000 non-null   int64  \n",
      "dtypes: float64(2), int64(8)\n",
      "memory usage: 78.3 KB\n"
     ]
    }
   ],
   "source": [
    "german_credit_data_modify.info()"
   ]
  },
  {
   "cell_type": "code",
   "execution_count": 19,
   "metadata": {},
   "outputs": [
    {
     "data": {
      "text/plain": [
       "Age                   0\n",
       "Sex                   0\n",
       "Job                   0\n",
       "Housing               0\n",
       "Saving accounts     183\n",
       "Checking account    394\n",
       "Credit amount         0\n",
       "Duration              0\n",
       "Purpose               0\n",
       "Risk                  0\n",
       "dtype: int64"
      ]
     },
     "execution_count": 19,
     "metadata": {},
     "output_type": "execute_result"
    }
   ],
   "source": [
    "german_credit_data_modify.isnull().sum()"
   ]
  },
  {
   "cell_type": "code",
   "execution_count": 20,
   "metadata": {},
   "outputs": [
    {
     "name": "stdout",
     "output_type": "stream",
     "text": [
      "Age                  0.0\n",
      "Sex                  0.0\n",
      "Job                  0.0\n",
      "Housing              0.0\n",
      "Saving accounts     18.3\n",
      "Checking account    39.4\n",
      "Credit amount        0.0\n",
      "Duration             0.0\n",
      "Purpose              0.0\n",
      "Risk                 0.0\n",
      "dtype: float64\n"
     ]
    }
   ],
   "source": [
    "missing_percentage = german_credit_data_modify.isnull().mean() * 100\n",
    "print(missing_percentage)"
   ]
  },
  {
   "cell_type": "markdown",
   "metadata": {},
   "source": [
    "German Credit Data Total Missing Values Percentage"
   ]
  },
  {
   "cell_type": "code",
   "execution_count": 21,
   "metadata": {},
   "outputs": [
    {
     "name": "stdout",
     "output_type": "stream",
     "text": [
      "Total percentage of missing values: 5.77%\n"
     ]
    }
   ],
   "source": [
    "# Calculate total percentage of missing values in the dataset\n",
    "GermanC_total_missing_percentage = german_credit_data_modify.isnull().sum().sum() / (german_credit_data_modify.shape[0] * german_credit_data_modify.shape[1]) * 100\n",
    "\n",
    "print(f\"Total percentage of missing values: {GermanC_total_missing_percentage :.2f}%\")"
   ]
  },
  {
   "cell_type": "markdown",
   "metadata": {},
   "source": [
    "Replacing the missing values with -1"
   ]
  },
  {
   "cell_type": "code",
   "execution_count": 22,
   "metadata": {},
   "outputs": [],
   "source": [
    "german_credit_data_modify = german_credit_data_modify.fillna(-1)"
   ]
  },
  {
   "cell_type": "code",
   "execution_count": 23,
   "metadata": {},
   "outputs": [
    {
     "name": "stdout",
     "output_type": "stream",
     "text": [
      "Total percentage of missing values: 0.00%\n"
     ]
    }
   ],
   "source": [
    "GermanC_total_missing_percentage = german_credit_data_modify.isnull().sum().sum() / (german_credit_data_modify.shape[0] * german_credit_data_modify.shape[1]) * 100\n",
    "\n",
    "print(f\"Total percentage of missing values: {GermanC_total_missing_percentage :.2f}%\")"
   ]
  },
  {
   "cell_type": "code",
   "execution_count": 24,
   "metadata": {},
   "outputs": [
    {
     "data": {
      "text/plain": [
       "array([ 0.,  1., -1.,  2.])"
      ]
     },
     "execution_count": 24,
     "metadata": {},
     "output_type": "execute_result"
    }
   ],
   "source": [
    "german_credit_data_modify[\"Checking account\"].unique()"
   ]
  },
  {
   "cell_type": "markdown",
   "metadata": {},
   "source": [
    "**German Credit Data Ground Truth**"
   ]
  },
  {
   "cell_type": "code",
   "execution_count": 25,
   "metadata": {},
   "outputs": [],
   "source": [
    "german_credit_data_modify.to_csv(r\"C:\\Users\\zhossai3\\Desktop\\My code\\OT+Fairness\\Data\\German Credit\\German_Credit_Ground_Truth.csv\", index=False)"
   ]
  },
  {
   "cell_type": "markdown",
   "metadata": {},
   "source": [
    "**German Credit Data 10% MCAR**"
   ]
  },
  {
   "cell_type": "code",
   "execution_count": 26,
   "metadata": {},
   "outputs": [
    {
     "name": "stdout",
     "output_type": "stream",
     "text": [
      "Missing values added and file saved successfully.\n"
     ]
    }
   ],
   "source": [
    "import numpy as np\n",
    "import pandas as pd\n",
    "\n",
    "# Copy the data\n",
    "german_credit_data_mcar10 = german_credit_data_modify.copy()\n",
    "\n",
    "# Parameters\n",
    "additional_missing_rate = 0.10\n",
    "excluded_columns = ['Risk']\n",
    "\n",
    "# Calculate target number of new missing entries\n",
    "data_for_missing = german_credit_data_mcar10.drop(columns=excluded_columns)\n",
    "total_entries = data_for_missing.size\n",
    "target_missing = int(total_entries * additional_missing_rate) + 100\n",
    "\n",
    "# Flatten the indices of eligible cells (not equal to -1)\n",
    "eligible_indices = np.argwhere((german_credit_data_mcar10.drop(columns=excluded_columns).values != -1) &\n",
    "                               (~pd.isna(german_credit_data_mcar10.drop(columns=excluded_columns).values)))\n",
    "\n",
    "# Adjust target_missing if there are not enough eligible cells\n",
    "if target_missing > len(eligible_indices):\n",
    "    target_missing = len(eligible_indices)\n",
    "    print(f\"Adjusted target_missing to {target_missing} due to limited eligible cells.\")\n",
    "\n",
    "# Randomly select indices for missingness\n",
    "selected_indices = eligible_indices[np.random.choice(len(eligible_indices), target_missing, replace=False)]\n",
    "\n",
    "# Apply missingness to the selected indices directly in german_credit_data_mcar10\n",
    "for row, col in selected_indices:\n",
    "    actual_col = german_credit_data_mcar10.drop(columns=excluded_columns).columns[col]\n",
    "    german_credit_data_mcar10.iat[row, german_credit_data_mcar10.columns.get_loc(actual_col)] = np.nan\n",
    "\n",
    "# Save to CSV\n",
    "german_credit_data_mcar10.to_csv(r\"C:\\Users\\zhossai3\\Desktop\\My code\\OT+Fairness\\Data\\German Credit\\german_credit_data_mcar10.csv\", index=False)\n",
    "\n",
    "print(\"Missing values added and file saved successfully.\")\n"
   ]
  },
  {
   "cell_type": "code",
   "execution_count": 27,
   "metadata": {},
   "outputs": [
    {
     "name": "stdout",
     "output_type": "stream",
     "text": [
      "Total percentage of missing values: 10.00%\n"
     ]
    }
   ],
   "source": [
    "German_MCAR_10 = german_credit_data_mcar10.isnull().sum().sum() / (german_credit_data_mcar10.shape[0] * german_credit_data_mcar10.shape[1]) * 100\n",
    "\n",
    "print(f\"Total percentage of missing values: {German_MCAR_10:.2f}%\")"
   ]
  },
  {
   "cell_type": "markdown",
   "metadata": {},
   "source": [
    "**German Credit Data 15% MCAR**"
   ]
  },
  {
   "cell_type": "code",
   "execution_count": 28,
   "metadata": {},
   "outputs": [],
   "source": [
    "import numpy as np\n",
    "import pandas as pd\n",
    "\n",
    "# Copy the data\n",
    "german_credit_data_mcar15 = german_credit_data_modify.copy()\n",
    "\n",
    "# Parameters\n",
    "additional_missing_rate = 0.15\n",
    "excluded_columns = ['Risk']\n",
    "\n",
    "# Calculate target number of new missing entries\n",
    "data_for_missing = german_credit_data_mcar15.drop(columns=excluded_columns)\n",
    "total_entries = data_for_missing.size\n",
    "target_missing = int(total_entries * additional_missing_rate) + 150\n",
    "\n",
    "# Flatten the indices of eligible cells (not equal to -1)\n",
    "eligible_indices = np.argwhere((german_credit_data_mcar15.drop(columns=excluded_columns).values != -1) &\n",
    "                               (~pd.isna(german_credit_data_mcar15.drop(columns=excluded_columns).values)))\n",
    "\n",
    "# Adjust target_missing if there are not enough eligible cells\n",
    "if target_missing > len(eligible_indices):\n",
    "    target_missing = len(eligible_indices)\n",
    "    print(f\"Adjusted target_missing to {target_missing} due to limited eligible cells.\")\n",
    "\n",
    "# Randomly select indices for missingness\n",
    "selected_indices = eligible_indices[np.random.choice(len(eligible_indices), target_missing, replace=False)]\n",
    "\n",
    "# Apply missingness to the selected indices directly in german_credit_data_mcar15\n",
    "for row, col in selected_indices:\n",
    "    actual_col = german_credit_data_mcar15.drop(columns=excluded_columns).columns[col]\n",
    "    german_credit_data_mcar15.iat[row, german_credit_data_mcar15.columns.get_loc(actual_col)] = np.nan\n",
    "\n",
    "# Save to CSV\n",
    "german_credit_data_mcar15.to_csv(r\"C:\\Users\\zhossai3\\Desktop\\My code\\OT+Fairness\\Data\\German Credit\\german_credit_data_mcar15.csv\", index=False)\n",
    "\n"
   ]
  },
  {
   "cell_type": "code",
   "execution_count": 29,
   "metadata": {},
   "outputs": [
    {
     "name": "stdout",
     "output_type": "stream",
     "text": [
      "Total percentage of missing values: 15.00%\n"
     ]
    }
   ],
   "source": [
    "German_MCAR_15 = german_credit_data_mcar15.isnull().sum().sum() / (german_credit_data_mcar15.shape[0] * german_credit_data_mcar15.shape[1]) * 100\n",
    "\n",
    "print(f\"Total percentage of missing values: {German_MCAR_15:.2f}%\")"
   ]
  },
  {
   "cell_type": "markdown",
   "metadata": {},
   "source": [
    "**German credit Data 20% MCAR**"
   ]
  },
  {
   "cell_type": "code",
   "execution_count": 30,
   "metadata": {},
   "outputs": [
    {
     "name": "stdout",
     "output_type": "stream",
     "text": [
      "Missing values added and file saved successfully.\n"
     ]
    }
   ],
   "source": [
    "import numpy as np\n",
    "import pandas as pd\n",
    "\n",
    "# Copy the data\n",
    "german_credit_data_mcar20 = german_credit_data_modify.copy()\n",
    "\n",
    "# Parameters\n",
    "additional_missing_rate = 0.20\n",
    "excluded_columns = ['Risk']\n",
    "\n",
    "# Calculate target number of new missing entries\n",
    "data_for_missing = german_credit_data_mcar20.drop(columns=excluded_columns)\n",
    "total_entries = data_for_missing.size\n",
    "target_missing = int(total_entries * additional_missing_rate) + 200\n",
    "\n",
    "# Flatten the indices of eligible cells (not equal to -1)\n",
    "eligible_indices = np.argwhere((german_credit_data_mcar20.drop(columns=excluded_columns).values != -1) &\n",
    "                               (~pd.isna(german_credit_data_mcar20.drop(columns=excluded_columns).values)))\n",
    "\n",
    "# Adjust target_missing if there are not enough eligible cells\n",
    "if target_missing > len(eligible_indices):\n",
    "    target_missing = len(eligible_indices)\n",
    "    print(f\"Adjusted target_missing to {target_missing} due to limited eligible cells.\")\n",
    "\n",
    "# Randomly select indices for missingness\n",
    "selected_indices = eligible_indices[np.random.choice(len(eligible_indices), target_missing, replace=False)]\n",
    "\n",
    "# Apply missingness to the selected indices directly in german_credit_data_mcar20\n",
    "for row, col in selected_indices:\n",
    "    actual_col = german_credit_data_mcar20.drop(columns=excluded_columns).columns[col]\n",
    "    german_credit_data_mcar20.iat[row, german_credit_data_mcar20.columns.get_loc(actual_col)] = np.nan\n",
    "\n",
    "# Save to CSV\n",
    "german_credit_data_mcar20.to_csv(r\"C:\\Users\\zhossai3\\Desktop\\My code\\OT+Fairness\\Data\\German Credit\\german_credit_data_mcar20.csv\", index=False)\n",
    "\n",
    "print(\"Missing values added and file saved successfully.\")\n"
   ]
  },
  {
   "cell_type": "code",
   "execution_count": 31,
   "metadata": {},
   "outputs": [
    {
     "name": "stdout",
     "output_type": "stream",
     "text": [
      "Total percentage of missing values: 20.00%\n"
     ]
    }
   ],
   "source": [
    "German_MCAR20 = german_credit_data_mcar20.isnull().sum().sum() / (german_credit_data_mcar20.shape[0] * german_credit_data_mcar20.shape[1]) * 100\n",
    "\n",
    "print(f\"Total percentage of missing values: {German_MCAR20:.2f}%\")"
   ]
  },
  {
   "cell_type": "markdown",
   "metadata": {},
   "source": [
    "**German Credit Data 25% MCAR**"
   ]
  },
  {
   "cell_type": "code",
   "execution_count": 32,
   "metadata": {},
   "outputs": [
    {
     "name": "stdout",
     "output_type": "stream",
     "text": [
      "Missing values added and file saved successfully.\n"
     ]
    }
   ],
   "source": [
    "import numpy as np\n",
    "import pandas as pd\n",
    "\n",
    "# Copy the data\n",
    "german_credit_data_mcar25 = german_credit_data_modify.copy()\n",
    "\n",
    "# Parameters\n",
    "additional_missing_rate = 0.25\n",
    "excluded_columns = ['Risk']\n",
    "\n",
    "# Calculate target number of new missing entries\n",
    "data_for_missing = german_credit_data_mcar25.drop(columns=excluded_columns)\n",
    "total_entries = data_for_missing.size\n",
    "target_missing = int(total_entries * additional_missing_rate) + 250\n",
    "\n",
    "# Flatten the indices of eligible cells (not equal to -1)\n",
    "eligible_indices = np.argwhere((german_credit_data_mcar25.drop(columns=excluded_columns).values != -1) &\n",
    "                               (~pd.isna(german_credit_data_mcar25.drop(columns=excluded_columns).values)))\n",
    "\n",
    "# Adjust target_missing if there are not enough eligible cells\n",
    "if target_missing > len(eligible_indices):\n",
    "    target_missing = len(eligible_indices)\n",
    "    print(f\"Adjusted target_missing to {target_missing} due to limited eligible cells.\")\n",
    "\n",
    "# Randomly select indices for missingness\n",
    "selected_indices = eligible_indices[np.random.choice(len(eligible_indices), target_missing, replace=False)]\n",
    "\n",
    "# Apply missingness to the selected indices directly in german_credit_data_mcar25\n",
    "for row, col in selected_indices:\n",
    "    actual_col = german_credit_data_mcar25.drop(columns=excluded_columns).columns[col]\n",
    "    german_credit_data_mcar25.iat[row, german_credit_data_mcar25.columns.get_loc(actual_col)] = np.nan\n",
    "\n",
    "# Save to CSV\n",
    "german_credit_data_mcar25.to_csv(r\"C:\\Users\\zhossai3\\Desktop\\My code\\OT+Fairness\\Data\\German Credit\\german_credit_data_mcar25.csv\", index=False)\n",
    "\n",
    "print(\"Missing values added and file saved successfully.\")\n"
   ]
  },
  {
   "cell_type": "code",
   "execution_count": 33,
   "metadata": {},
   "outputs": [
    {
     "name": "stdout",
     "output_type": "stream",
     "text": [
      "Total percentage of missing values: 25.00%\n"
     ]
    }
   ],
   "source": [
    "German_MCAR_25 = german_credit_data_mcar25.isnull().sum().sum() / (german_credit_data_mcar25.shape[0] * german_credit_data_mcar25.shape[1]) * 100\n",
    "\n",
    "print(f\"Total percentage of missing values: {German_MCAR_25:.2f}%\")"
   ]
  },
  {
   "cell_type": "markdown",
   "metadata": {},
   "source": [
    "**German Credit Data 30% MCAR**"
   ]
  },
  {
   "cell_type": "code",
   "execution_count": 34,
   "metadata": {},
   "outputs": [
    {
     "name": "stdout",
     "output_type": "stream",
     "text": [
      "Missing values added and file saved successfully.\n"
     ]
    }
   ],
   "source": [
    "import numpy as np\n",
    "import pandas as pd\n",
    "\n",
    "# Copy the data\n",
    "german_credit_data_mcar30 = german_credit_data_modify.copy()\n",
    "\n",
    "# Parameters\n",
    "additional_missing_rate = 0.30\n",
    "excluded_columns = ['Risk']\n",
    "\n",
    "# Calculate target number of new missing entries\n",
    "data_for_missing = german_credit_data_mcar30.drop(columns=excluded_columns)\n",
    "total_entries = data_for_missing.size\n",
    "target_missing = int(total_entries * additional_missing_rate) + 300\n",
    "\n",
    "# Flatten the indices of eligible cells (not equal to -1)\n",
    "eligible_indices = np.argwhere((german_credit_data_mcar30.drop(columns=excluded_columns).values != -1) &\n",
    "                               (~pd.isna(german_credit_data_mcar30.drop(columns=excluded_columns).values)))\n",
    "\n",
    "# Adjust target_missing if there are not enough eligible cells\n",
    "if target_missing > len(eligible_indices):\n",
    "    target_missing = len(eligible_indices)\n",
    "    print(f\"Adjusted target_missing to {target_missing} due to limited eligible cells.\")\n",
    "\n",
    "# Randomly select indices for missingness\n",
    "selected_indices = eligible_indices[np.random.choice(len(eligible_indices), target_missing, replace=False)]\n",
    "\n",
    "# Apply missingness to the selected indices directly in german_credit_data_mcar30\n",
    "for row, col in selected_indices:\n",
    "    actual_col = german_credit_data_mcar30.drop(columns=excluded_columns).columns[col]\n",
    "    german_credit_data_mcar30.iat[row, german_credit_data_mcar30.columns.get_loc(actual_col)] = np.nan\n",
    "\n",
    "# Save to CSV\n",
    "german_credit_data_mcar30.to_csv(r\"C:\\Users\\zhossai3\\Desktop\\My code\\OT+Fairness\\Data\\German Credit\\german_credit_data_mcar30.csv\", index=False)\n",
    "\n",
    "print(\"Missing values added and file saved successfully.\")\n"
   ]
  },
  {
   "cell_type": "code",
   "execution_count": 35,
   "metadata": {},
   "outputs": [
    {
     "name": "stdout",
     "output_type": "stream",
     "text": [
      "Total percentage of missing values: 30.00%\n"
     ]
    }
   ],
   "source": [
    "German_MCAR_30 = german_credit_data_mcar30.isnull().sum().sum() / (german_credit_data_mcar30.shape[0] * german_credit_data_mcar30.shape[1]) * 100\n",
    "\n",
    "print(f\"Total percentage of missing values: {German_MCAR_30:.2f}%\")"
   ]
  },
  {
   "cell_type": "code",
   "execution_count": 36,
   "metadata": {},
   "outputs": [
    {
     "name": "stdout",
     "output_type": "stream",
     "text": [
      "    Age  Sex  Job  Housing  Saving accounts  Checking account  Credit amount  \\\n",
      "0   NaN  1.0  2.0      1.0             -1.0               NaN            NaN   \n",
      "1  22.0  NaN  2.0      1.0              0.0               1.0            NaN   \n",
      "2   NaN  NaN  NaN      1.0              0.0              -1.0         2096.0   \n",
      "3  45.0  1.0  2.0      NaN              0.0               0.0         7882.0   \n",
      "4  53.0  NaN  2.0      NaN              0.0               0.0         4870.0   \n",
      "\n",
      "   Duration  Purpose  Risk  \n",
      "0       6.0      5.0     1  \n",
      "1       NaN      5.0     0  \n",
      "2      12.0      3.0     1  \n",
      "3      42.0      4.0     1  \n",
      "4      24.0      NaN     0  \n"
     ]
    }
   ],
   "source": [
    "print(german_credit_data_mcar30.head())"
   ]
  },
  {
   "cell_type": "code",
   "execution_count": 37,
   "metadata": {},
   "outputs": [
    {
     "data": {
      "image/png": "[encoded data removed]",
      "text/plain": [
       "<Figure size 640x480 with 1 Axes>"
      ]
     },
     "metadata": {},
     "output_type": "display_data"
    }
   ],
   "source": [
    "import seaborn as sns\n",
    "import matplotlib.pyplot as plt\n",
    "\n",
    "sns.histplot(german_credit_data_modify, x=\"Age\", hue=\"Sex\", multiple=\"stack\")\n",
    "plt.show()"
   ]
  },
  {
   "cell_type": "code",
   "execution_count": 38,
   "metadata": {},
   "outputs": [
    {
     "data": {
      "image/png": "[encoded data removed]",
      "text/plain": [
       "<Figure size 640x480 with 1 Axes>"
      ]
     },
     "metadata": {},
     "output_type": "display_data"
    }
   ],
   "source": [
    "sns.countplot(x='Sex', data=german_credit_data_modify)\n",
    "plt.title('Gender Distribution - German Credit')\n",
    "plt.xticks([0, 1], labels=[\"Female\", \"Male\"])  # Set custom labels for x-axis (0: Female, 1: Male)\n",
    "plt.xlabel(\"Sex\")  # Add x-axis label\n",
    "plt.ylabel(\"Count\")  # Add y-axis label\n",
    "plt.show()\n",
    "\n"
   ]
  },
  {
   "cell_type": "code",
   "execution_count": 39,
   "metadata": {},
   "outputs": [
    {
     "data": {
      "image/png": "[encoded data removed]",
      "text/plain": [
       "<Figure size 640x480 with 1 Axes>"
      ]
     },
     "metadata": {},
     "output_type": "display_data"
    }
   ],
   "source": [
    "sns.countplot(x= 'Housing', data=german_credit_data_modify)\n",
    "plt.title('Houisng Distribution - COMPAS Recidivism')\n",
    "plt.xticks([0, 1, 2], labels=[\"own\", \"free\",\"rent\"]) \n",
    "plt.show()"
   ]
  },
  {
   "cell_type": "code",
   "execution_count": 40,
   "metadata": {},
   "outputs": [
    {
     "data": {
      "image/png": "[encoded data removed]",
      "text/plain": [
       "<Figure size 640x480 with 1 Axes>"
      ]
     },
     "metadata": {},
     "output_type": "display_data"
    }
   ],
   "source": [
    "sns.countplot(x= 'Job', data=german_credit_data_modify)\n",
    "plt.title('Job Distribution - COMPAS Recidivism')\n",
    "plt.show()"
   ]
  },
  {
   "cell_type": "code",
   "execution_count": 41,
   "metadata": {},
   "outputs": [
    {
     "data": {
      "image/png": "[encoded data removed]",
      "text/plain": [
       "<Figure size 640x480 with 1 Axes>"
      ]
     },
     "metadata": {},
     "output_type": "display_data"
    }
   ],
   "source": [
    "sns.histplot(german_credit_data_modify['Age'], kde=True)\n",
    "plt.title('Age Distribution - German Credit')\n",
    "plt.show()"
   ]
  },
  {
   "cell_type": "markdown",
   "metadata": {},
   "source": [
    "ADULT DATA"
   ]
  },
  {
   "cell_type": "code",
   "execution_count": 179,
   "metadata": {},
   "outputs": [],
   "source": [
    "adult_data = pd.read_csv(r\"C:\\Users\\zhossai3\\Desktop\\My code\\OT+Fairness\\Data\\adult\\adult_original.csv\")"
   ]
  },
  {
   "cell_type": "code",
   "execution_count": 156,
   "metadata": {},
   "outputs": [
    {
     "name": "stdout",
     "output_type": "stream",
     "text": [
      "Total percentage of missing values: 0.30%\n"
     ]
    }
   ],
   "source": [
    "adult_missing_percentage = adult_data.isnull().sum().sum() / (adult_data.shape[0] * adult_data.shape[1]) * 100\n",
    "\n",
    "print(f\"Total percentage of missing values: {adult_missing_percentage:.2f}%\")"
   ]
  },
  {
   "cell_type": "code",
   "execution_count": 131,
   "metadata": {},
   "outputs": [
    {
     "name": "stdout",
     "output_type": "stream",
     "text": [
      "(48842, 15)\n"
     ]
    }
   ],
   "source": [
    "print(adult_data.shape)"
   ]
  },
  {
   "cell_type": "code",
   "execution_count": 132,
   "metadata": {},
   "outputs": [
    {
     "name": "stdout",
     "output_type": "stream",
     "text": [
      "   age         workclass  fnlwgt  education  education-num  \\\n",
      "0   39         State-gov   77516  Bachelors             13   \n",
      "1   50  Self-emp-not-inc   83311  Bachelors             13   \n",
      "2   38           Private  215646    HS-grad              9   \n",
      "3   53           Private  234721       11th              7   \n",
      "4   28           Private  338409  Bachelors             13   \n",
      "\n",
      "       marital-status         occupation   relationship   race     sex  \\\n",
      "0       Never-married       Adm-clerical  Not-in-family  White    Male   \n",
      "1  Married-civ-spouse    Exec-managerial        Husband  White    Male   \n",
      "2            Divorced  Handlers-cleaners  Not-in-family  White    Male   \n",
      "3  Married-civ-spouse  Handlers-cleaners        Husband  Black    Male   \n",
      "4  Married-civ-spouse     Prof-specialty           Wife  Black  Female   \n",
      "\n",
      "   capital-gain  capital-loss  hours-per-week native-country income  \n",
      "0          2174             0              40  United-States  <=50K  \n",
      "1             0             0              13  United-States  <=50K  \n",
      "2             0             0              40  United-States  <=50K  \n",
      "3             0             0              40  United-States  <=50K  \n",
      "4             0             0              40           Cuba  <=50K  \n"
     ]
    }
   ],
   "source": [
    "print(adult_data.head())"
   ]
  },
  {
   "cell_type": "code",
   "execution_count": 133,
   "metadata": {},
   "outputs": [
    {
     "name": "stdout",
     "output_type": "stream",
     "text": [
      "<bound method NDFrame.describe of        age         workclass  fnlwgt  education  education-num  \\\n",
      "0       39         State-gov   77516  Bachelors             13   \n",
      "1       50  Self-emp-not-inc   83311  Bachelors             13   \n",
      "2       38           Private  215646    HS-grad              9   \n",
      "3       53           Private  234721       11th              7   \n",
      "4       28           Private  338409  Bachelors             13   \n",
      "...    ...               ...     ...        ...            ...   \n",
      "48837   39           Private  215419  Bachelors             13   \n",
      "48838   64               NaN  321403    HS-grad              9   \n",
      "48839   38           Private  374983  Bachelors             13   \n",
      "48840   44           Private   83891  Bachelors             13   \n",
      "48841   35      Self-emp-inc  182148  Bachelors             13   \n",
      "\n",
      "           marital-status         occupation    relationship  \\\n",
      "0           Never-married       Adm-clerical   Not-in-family   \n",
      "1      Married-civ-spouse    Exec-managerial         Husband   \n",
      "2                Divorced  Handlers-cleaners   Not-in-family   \n",
      "3      Married-civ-spouse  Handlers-cleaners         Husband   \n",
      "4      Married-civ-spouse     Prof-specialty            Wife   \n",
      "...                   ...                ...             ...   \n",
      "48837            Divorced     Prof-specialty   Not-in-family   \n",
      "48838             Widowed                NaN  Other-relative   \n",
      "48839  Married-civ-spouse     Prof-specialty         Husband   \n",
      "48840            Divorced       Adm-clerical       Own-child   \n",
      "48841  Married-civ-spouse    Exec-managerial         Husband   \n",
      "\n",
      "                     race     sex  capital-gain  capital-loss  hours-per-week  \\\n",
      "0                   White    Male          2174             0              40   \n",
      "1                   White    Male             0             0              13   \n",
      "2                   White    Male             0             0              40   \n",
      "3                   Black    Male             0             0              40   \n",
      "4                   Black  Female             0             0              40   \n",
      "...                   ...     ...           ...           ...             ...   \n",
      "48837               White  Female             0             0              36   \n",
      "48838               Black    Male             0             0              40   \n",
      "48839               White    Male             0             0              50   \n",
      "48840  Asian-Pac-Islander    Male          5455             0              40   \n",
      "48841               White    Male             0             0              60   \n",
      "\n",
      "      native-country  income  \n",
      "0      United-States   <=50K  \n",
      "1      United-States   <=50K  \n",
      "2      United-States   <=50K  \n",
      "3      United-States   <=50K  \n",
      "4               Cuba   <=50K  \n",
      "...              ...     ...  \n",
      "48837  United-States  <=50K.  \n",
      "48838  United-States  <=50K.  \n",
      "48839  United-States  <=50K.  \n",
      "48840  United-States  <=50K.  \n",
      "48841  United-States   >50K.  \n",
      "\n",
      "[48842 rows x 15 columns]>\n"
     ]
    }
   ],
   "source": [
    "print(adult_data.describe)"
   ]
  },
  {
   "cell_type": "code",
   "execution_count": 134,
   "metadata": {},
   "outputs": [
    {
     "name": "stdout",
     "output_type": "stream",
     "text": [
      "age                 0\n",
      "workclass         963\n",
      "fnlwgt              0\n",
      "education           0\n",
      "education-num       0\n",
      "marital-status      0\n",
      "occupation        966\n",
      "relationship        0\n",
      "race                0\n",
      "sex                 0\n",
      "capital-gain        0\n",
      "capital-loss        0\n",
      "hours-per-week      0\n",
      "native-country    274\n",
      "income              0\n",
      "dtype: int64\n"
     ]
    }
   ],
   "source": [
    "print(adult_data.isnull().sum())"
   ]
  },
  {
   "cell_type": "code",
   "execution_count": 135,
   "metadata": {},
   "outputs": [
    {
     "name": "stdout",
     "output_type": "stream",
     "text": [
      "['United-States' 'Cuba' 'Jamaica' 'India' '?' 'Mexico' 'South'\n",
      " 'Puerto-Rico' 'Honduras' 'England' 'Canada' 'Germany' 'Iran'\n",
      " 'Philippines' 'Italy' 'Poland' 'Columbia' 'Cambodia' 'Thailand' 'Ecuador'\n",
      " 'Laos' 'Taiwan' 'Haiti' 'Portugal' 'Dominican-Republic' 'El-Salvador'\n",
      " 'France' 'Guatemala' 'China' 'Japan' 'Yugoslavia' 'Peru'\n",
      " 'Outlying-US(Guam-USVI-etc)' 'Scotland' 'Trinadad&Tobago' 'Greece'\n",
      " 'Nicaragua' 'Vietnam' 'Hong' 'Ireland' 'Hungary' 'Holand-Netherlands' nan]\n"
     ]
    }
   ],
   "source": [
    "print(adult_data['native-country'].unique())"
   ]
  },
  {
   "cell_type": "code",
   "execution_count": 136,
   "metadata": {},
   "outputs": [],
   "source": [
    "# Drop the 'education' column\n",
    "adult_data_modify = adult_data.drop(columns=['education'])\n"
   ]
  },
  {
   "cell_type": "code",
   "execution_count": 137,
   "metadata": {},
   "outputs": [
    {
     "data": {
      "text/plain": [
       "pandas.core.frame.DataFrame"
      ]
     },
     "execution_count": 137,
     "metadata": {},
     "output_type": "execute_result"
    }
   ],
   "source": [
    "type(adult_data_modify)"
   ]
  },
  {
   "cell_type": "code",
   "execution_count": 138,
   "metadata": {},
   "outputs": [],
   "source": [
    "\n",
    "import numpy as np\n",
    "adult_data_modify = adult_data_modify.replace('?', np.nan)\n",
    "adult_data_modify = adult_data_modify.fillna(-1)\n",
    "\n"
   ]
  },
  {
   "cell_type": "code",
   "execution_count": 139,
   "metadata": {},
   "outputs": [
    {
     "name": "stdout",
     "output_type": "stream",
     "text": [
      "age               0\n",
      "workclass         0\n",
      "fnlwgt            0\n",
      "education-num     0\n",
      "marital-status    0\n",
      "occupation        0\n",
      "relationship      0\n",
      "race              0\n",
      "sex               0\n",
      "capital-gain      0\n",
      "capital-loss      0\n",
      "hours-per-week    0\n",
      "native-country    0\n",
      "income            0\n",
      "dtype: int64\n",
      "age               0\n",
      "workclass         0\n",
      "fnlwgt            0\n",
      "education-num     0\n",
      "marital-status    0\n",
      "occupation        0\n",
      "relationship      0\n",
      "race              0\n",
      "sex               0\n",
      "capital-gain      0\n",
      "capital-loss      0\n",
      "hours-per-week    0\n",
      "native-country    0\n",
      "income            0\n",
      "dtype: int64\n"
     ]
    }
   ],
   "source": [
    "print(adult_data_modify.isnull().sum())  \n",
    "print((adult_data_modify == '?').sum())  "
   ]
  },
  {
   "cell_type": "code",
   "execution_count": 140,
   "metadata": {},
   "outputs": [
    {
     "name": "stdout",
     "output_type": "stream",
     "text": [
      "<class 'pandas.core.frame.DataFrame'>\n",
      "RangeIndex: 48842 entries, 0 to 48841\n",
      "Data columns (total 14 columns):\n",
      " #   Column          Non-Null Count  Dtype \n",
      "---  ------          --------------  ----- \n",
      " 0   age             48842 non-null  int64 \n",
      " 1   workclass       48842 non-null  object\n",
      " 2   fnlwgt          48842 non-null  int64 \n",
      " 3   education-num   48842 non-null  int64 \n",
      " 4   marital-status  48842 non-null  object\n",
      " 5   occupation      48842 non-null  object\n",
      " 6   relationship    48842 non-null  object\n",
      " 7   race            48842 non-null  object\n",
      " 8   sex             48842 non-null  object\n",
      " 9   capital-gain    48842 non-null  int64 \n",
      " 10  capital-loss    48842 non-null  int64 \n",
      " 11  hours-per-week  48842 non-null  int64 \n",
      " 12  native-country  48842 non-null  object\n",
      " 13  income          48842 non-null  object\n",
      "dtypes: int64(6), object(8)\n",
      "memory usage: 5.2+ MB\n"
     ]
    }
   ],
   "source": [
    "adult_data_modify.info()"
   ]
  },
  {
   "cell_type": "code",
   "execution_count": 141,
   "metadata": {},
   "outputs": [
    {
     "name": "stdout",
     "output_type": "stream",
     "text": [
      "['State-gov' 'Self-emp-not-inc' 'Private' 'Federal-gov' 'Local-gov' -1\n",
      " 'Self-emp-inc' 'Without-pay' 'Never-worked']\n",
      "['Never-married' 'Married-civ-spouse' 'Divorced' 'Married-spouse-absent'\n",
      " 'Separated' 'Married-AF-spouse' 'Widowed']\n",
      "['Adm-clerical' 'Exec-managerial' 'Handlers-cleaners' 'Prof-specialty'\n",
      " 'Other-service' 'Sales' 'Craft-repair' 'Transport-moving'\n",
      " 'Farming-fishing' 'Machine-op-inspct' 'Tech-support' -1 'Protective-serv'\n",
      " 'Armed-Forces' 'Priv-house-serv']\n",
      "['Not-in-family' 'Husband' 'Wife' 'Own-child' 'Unmarried' 'Other-relative']\n",
      "['White' 'Black' 'Asian-Pac-Islander' 'Amer-Indian-Eskimo' 'Other']\n",
      "['Male' 'Female']\n"
     ]
    }
   ],
   "source": [
    "print(adult_data_modify[\"workclass\"].unique())\n",
    "print(adult_data_modify[\"marital-status\"].unique())\n",
    "print(adult_data_modify[\"occupation\"].unique())\n",
    "print(adult_data_modify[\"relationship\"].unique())\n",
    "print(adult_data_modify[\"race\"].unique())\n",
    "print(adult_data_modify[\"sex\"].unique())"
   ]
  },
  {
   "cell_type": "code",
   "execution_count": 142,
   "metadata": {},
   "outputs": [],
   "source": [
    "relationship = {'Husband': 1, 'Wife': 1, 'Own-child': 2, 'Other-relative': 3,'Unmarried':4,'Not-in-family':4}\n",
    "adult_data_modify['relationship'] = adult_data_modify['relationship'].map(relationship)\n"
   ]
  },
  {
   "cell_type": "code",
   "execution_count": 143,
   "metadata": {},
   "outputs": [],
   "source": [
    "sex = {'Male': 1, 'Female': 2}\n",
    "adult_data_modify['sex'] = adult_data_modify['sex'].map(sex)"
   ]
  },
  {
   "cell_type": "code",
   "execution_count": 144,
   "metadata": {},
   "outputs": [],
   "source": [
    "race = {'White': 1, 'Black': 2, 'Asian-Pac-Islander': 2, 'Amer-Indian-Eskimo': 2,'Other':2}\n",
    "adult_data_modify['race'] = adult_data_modify['race'].map(race)"
   ]
  },
  {
   "cell_type": "code",
   "execution_count": 145,
   "metadata": {},
   "outputs": [],
   "source": [
    "workclass = {'State-gov': 1, 'Federal-gov': 1, 'Local-gov': 1, 'Private': 2,'Self-emp-inc':3,'Self-emp-not-inc':3,'Without-pay':4,'Never-worked':5,-1:-1}\n",
    "adult_data_modify['workclass'] = adult_data_modify['workclass'].map(workclass)"
   ]
  },
  {
   "cell_type": "code",
   "execution_count": 146,
   "metadata": {},
   "outputs": [],
   "source": [
    "maritalstatus = {'Married-civ-spouse': 1, 'Married-AF-spouse': 1, 'Married-spouse-absent': 1, 'Divorced': 2,'Separated':2,'Widowed':2,'Never-married':3}\n",
    "adult_data_modify['marital-status'] = adult_data_modify['marital-status'].map(maritalstatus)"
   ]
  },
  {
   "cell_type": "code",
   "execution_count": 147,
   "metadata": {},
   "outputs": [],
   "source": [
    "occupation = {'Adm-clerical': 1, 'Exec-managerial': 1, 'Prof-specialty': 1, 'Protective-serv': 3,'Priv-house-serv':3,'Other-service':3,'Sales':3,'Craft-repair':2,'Machine-op-inspct':2,'Transport-moving':2,'Farming-fishing':2,'Handlers-cleaners':2,'Tech-support':3,'Armed-Forces':3,-1:-1}\n",
    "adult_data_modify['occupation'] = adult_data_modify['occupation'].map(occupation)"
   ]
  },
  {
   "cell_type": "code",
   "execution_count": 148,
   "metadata": {},
   "outputs": [
    {
     "name": "stdout",
     "output_type": "stream",
     "text": [
      "['<=50K' '>50K' '<=50K.' '>50K.']\n"
     ]
    }
   ],
   "source": [
    "print(adult_data_modify['income'].unique())"
   ]
  },
  {
   "cell_type": "code",
   "execution_count": 149,
   "metadata": {},
   "outputs": [],
   "source": [
    "from sklearn.preprocessing import LabelEncoder\n",
    "\n",
    "# Example for one column\n",
    "label_encoder = LabelEncoder()\n",
    "adult_data_modify['income'] = label_encoder.fit_transform(adult_data_modify['income'])\n"
   ]
  },
  {
   "cell_type": "code",
   "execution_count": 150,
   "metadata": {},
   "outputs": [],
   "source": [
    "country_to_region = {\n",
    "    'United-States': 'North America', 'Cuba': 'North America', 'Jamaica': 'Caribbean', \n",
    "    'India': 'Asia', 'Mexico': 'North America', 'South': -1, 'Puerto-Rico': 'North America', \n",
    "    'Honduras': 'North America', 'England': 'Europe', 'Canada': 'North America', 'Germany': 'Europe', \n",
    "    'Iran': 'Asia', 'Philippines': 'Asia', 'Italy': 'Europe', 'Poland': 'Europe', \n",
    "    'Columbia': 'South America', 'Cambodia': 'Asia', 'Thailand': 'Asia', 'Ecuador': 'South America', \n",
    "    'Laos': 'Asia', 'Taiwan': 'Asia', 'Haiti': 'Caribbean', 'Portugal': 'Europe', \n",
    "    'Dominican-Republic': 'North America', 'El-Salvador': 'North America', 'France': 'Europe', \n",
    "    'Guatemala': 'North America', 'China': 'Asia', 'Japan': 'Asia', 'Yugoslavia': 'Europe', \n",
    "    'Peru': 'South America', 'Outlying-US(Guam-USVI-etc)': 'North America', 'Scotland': 'Europe', \n",
    "    'Trinadad&Tobago': 'Caribbean', 'Greece': 'Europe', 'Nicaragua': 'North America', \n",
    "    'Vietnam': 'Asia', 'Hong': 'Asia', 'Ireland': 'Europe', 'Hungary': 'Europe', \n",
    "    'Holand-Netherlands': 'Europe', -1: -1\n",
    "}\n",
    "\n",
    "region_to_number = {\n",
    "    'North America': 1,\n",
    "    'South America': 2,\n",
    "    'Europe': 3,\n",
    "    'Asia': 4,\n",
    "    'Caribbean': 5,\n",
    "    -1 : -1\n",
    "}\n",
    "\n",
    "# Step 2: Replace the native-country column with continent numbers\n",
    "adult_data_modify['native-country'] = (\n",
    "    adult_data_modify['native-country']\n",
    "    .map(country_to_region)   # Convert countries to regions\n",
    "    .map(region_to_number)    # Convert regions to numeric codes\n",
    ")"
   ]
  },
  {
   "cell_type": "code",
   "execution_count": 151,
   "metadata": {},
   "outputs": [
    {
     "name": "stdout",
     "output_type": "stream",
     "text": [
      "<class 'pandas.core.frame.DataFrame'>\n",
      "RangeIndex: 48842 entries, 0 to 48841\n",
      "Data columns (total 14 columns):\n",
      " #   Column          Non-Null Count  Dtype\n",
      "---  ------          --------------  -----\n",
      " 0   age             48842 non-null  int64\n",
      " 1   workclass       48842 non-null  int64\n",
      " 2   fnlwgt          48842 non-null  int64\n",
      " 3   education-num   48842 non-null  int64\n",
      " 4   marital-status  48842 non-null  int64\n",
      " 5   occupation      48842 non-null  int64\n",
      " 6   relationship    48842 non-null  int64\n",
      " 7   race            48842 non-null  int64\n",
      " 8   sex             48842 non-null  int64\n",
      " 9   capital-gain    48842 non-null  int64\n",
      " 10  capital-loss    48842 non-null  int64\n",
      " 11  hours-per-week  48842 non-null  int64\n",
      " 12  native-country  48842 non-null  int64\n",
      " 13  income          48842 non-null  int64\n",
      "dtypes: int64(14)\n",
      "memory usage: 5.2 MB\n"
     ]
    }
   ],
   "source": [
    "adult_data_modify.info()"
   ]
  },
  {
   "cell_type": "code",
   "execution_count": 180,
   "metadata": {},
   "outputs": [],
   "source": [
    "adult_data_modify.to_csv(r\"C:\\Users\\zhossai3\\Desktop\\My code\\OT+Fairness\\Data\\adult\\adult_data_modify.csv\", index=False)"
   ]
  },
  {
   "cell_type": "code",
   "execution_count": 181,
   "metadata": {},
   "outputs": [
    {
     "data": {
      "text/html": [
       "<div>\n",
       "<style scoped>\n",
       "    .dataframe tbody tr th:only-of-type {\n",
       "        vertical-align: middle;\n",
       "    }\n",
       "\n",
       "    .dataframe tbody tr th {\n",
       "        vertical-align: top;\n",
       "    }\n",
       "\n",
       "    .dataframe thead th {\n",
       "        text-align: right;\n",
       "    }\n",
       "</style>\n",
       "<table border=\"1\" class=\"dataframe\">\n",
       "  <thead>\n",
       "    <tr style=\"text-align: right;\">\n",
       "      <th></th>\n",
       "      <th>age</th>\n",
       "      <th>workclass</th>\n",
       "      <th>fnlwgt</th>\n",
       "      <th>education-num</th>\n",
       "      <th>marital-status</th>\n",
       "      <th>occupation</th>\n",
       "      <th>relationship</th>\n",
       "      <th>race</th>\n",
       "      <th>sex</th>\n",
       "      <th>capital-gain</th>\n",
       "      <th>capital-loss</th>\n",
       "      <th>hours-per-week</th>\n",
       "      <th>native-country</th>\n",
       "      <th>income</th>\n",
       "    </tr>\n",
       "  </thead>\n",
       "  <tbody>\n",
       "    <tr>\n",
       "      <th>0</th>\n",
       "      <td>39</td>\n",
       "      <td>1</td>\n",
       "      <td>77516</td>\n",
       "      <td>13</td>\n",
       "      <td>3</td>\n",
       "      <td>1</td>\n",
       "      <td>4</td>\n",
       "      <td>1</td>\n",
       "      <td>1</td>\n",
       "      <td>2174</td>\n",
       "      <td>0</td>\n",
       "      <td>40</td>\n",
       "      <td>1</td>\n",
       "      <td>0</td>\n",
       "    </tr>\n",
       "    <tr>\n",
       "      <th>1</th>\n",
       "      <td>50</td>\n",
       "      <td>3</td>\n",
       "      <td>83311</td>\n",
       "      <td>13</td>\n",
       "      <td>1</td>\n",
       "      <td>1</td>\n",
       "      <td>1</td>\n",
       "      <td>1</td>\n",
       "      <td>1</td>\n",
       "      <td>0</td>\n",
       "      <td>0</td>\n",
       "      <td>13</td>\n",
       "      <td>1</td>\n",
       "      <td>0</td>\n",
       "    </tr>\n",
       "    <tr>\n",
       "      <th>2</th>\n",
       "      <td>38</td>\n",
       "      <td>2</td>\n",
       "      <td>215646</td>\n",
       "      <td>9</td>\n",
       "      <td>2</td>\n",
       "      <td>2</td>\n",
       "      <td>4</td>\n",
       "      <td>1</td>\n",
       "      <td>1</td>\n",
       "      <td>0</td>\n",
       "      <td>0</td>\n",
       "      <td>40</td>\n",
       "      <td>1</td>\n",
       "      <td>0</td>\n",
       "    </tr>\n",
       "    <tr>\n",
       "      <th>3</th>\n",
       "      <td>53</td>\n",
       "      <td>2</td>\n",
       "      <td>234721</td>\n",
       "      <td>7</td>\n",
       "      <td>1</td>\n",
       "      <td>2</td>\n",
       "      <td>1</td>\n",
       "      <td>2</td>\n",
       "      <td>1</td>\n",
       "      <td>0</td>\n",
       "      <td>0</td>\n",
       "      <td>40</td>\n",
       "      <td>1</td>\n",
       "      <td>0</td>\n",
       "    </tr>\n",
       "    <tr>\n",
       "      <th>4</th>\n",
       "      <td>28</td>\n",
       "      <td>2</td>\n",
       "      <td>338409</td>\n",
       "      <td>13</td>\n",
       "      <td>1</td>\n",
       "      <td>1</td>\n",
       "      <td>1</td>\n",
       "      <td>2</td>\n",
       "      <td>2</td>\n",
       "      <td>0</td>\n",
       "      <td>0</td>\n",
       "      <td>40</td>\n",
       "      <td>1</td>\n",
       "      <td>0</td>\n",
       "    </tr>\n",
       "  </tbody>\n",
       "</table>\n",
       "</div>"
      ],
      "text/plain": [
       "   age  workclass  fnlwgt  education-num  marital-status  occupation  \\\n",
       "0   39          1   77516             13               3           1   \n",
       "1   50          3   83311             13               1           1   \n",
       "2   38          2  215646              9               2           2   \n",
       "3   53          2  234721              7               1           2   \n",
       "4   28          2  338409             13               1           1   \n",
       "\n",
       "   relationship  race  sex  capital-gain  capital-loss  hours-per-week  \\\n",
       "0             4     1    1          2174             0              40   \n",
       "1             1     1    1             0             0              13   \n",
       "2             4     1    1             0             0              40   \n",
       "3             1     2    1             0             0              40   \n",
       "4             1     2    2             0             0              40   \n",
       "\n",
       "   native-country  income  \n",
       "0               1       0  \n",
       "1               1       0  \n",
       "2               1       0  \n",
       "3               1       0  \n",
       "4               1       0  "
      ]
     },
     "execution_count": 181,
     "metadata": {},
     "output_type": "execute_result"
    }
   ],
   "source": [
    "adult_data_modify.head()"
   ]
  },
  {
   "cell_type": "markdown",
   "metadata": {},
   "source": [
    "Creating a new dataset which does not have any missing value coloumns"
   ]
  },
  {
   "cell_type": "code",
   "execution_count": 182,
   "metadata": {},
   "outputs": [],
   "source": [
    "adult_data_without_missing_values = adult_data.drop(columns=['education'])\n"
   ]
  },
  {
   "cell_type": "code",
   "execution_count": 183,
   "metadata": {},
   "outputs": [],
   "source": [
    "adult_data_without_missing_values = adult_data_without_missing_values.replace('?', pd.NA)\n",
    "\n",
    "# Drop rows with NaN (which now include rows that had '?')\n",
    "adult_data_without_missing_values = adult_data_without_missing_values.dropna()\n",
    "\n",
    "# Reset the index for cleanliness\n",
    "#adult_data_without_missing_values = adult_data_without_missing_values.reset_index(drop=True)"
   ]
  },
  {
   "cell_type": "code",
   "execution_count": 184,
   "metadata": {},
   "outputs": [],
   "source": [
    "relationship = {'Husband': 1, 'Wife': 1, 'Own-child': 2, 'Other-relative': 3,'Unmarried':4,'Not-in-family':4}\n",
    "adult_data_without_missing_values['relationship'] = adult_data_without_missing_values['relationship'].map(relationship)\n",
    "\n",
    "sex = {'Male': 1, 'Female': 2}\n",
    "adult_data_without_missing_values['sex'] = adult_data_without_missing_values['sex'].map(sex)\n",
    "\n",
    "race = {'White': 1, 'Black': 2, 'Asian-Pac-Islander': 2, 'Amer-Indian-Eskimo': 2,'Other':2}\n",
    "adult_data_without_missing_values['race'] = adult_data_without_missing_values['race'].map(race)\n",
    "\n",
    "workclass = {'State-gov': 1, 'Federal-gov': 1, 'Local-gov': 1, 'Private': 2,'Self-emp-inc':3,'Self-emp-not-inc':3,'Without-pay':4,'Never-worked':5,-1:-1}\n",
    "adult_data_without_missing_values['workclass'] = adult_data_without_missing_values['workclass'].map(workclass)\n",
    "\n",
    "maritalstatus = {'Married-civ-spouse': 1, 'Married-AF-spouse': 1, 'Married-spouse-absent': 1, 'Divorced': 2,'Separated':2,'Widowed':2,'Never-married':3}\n",
    "adult_data_without_missing_values['marital-status'] = adult_data_without_missing_values['marital-status'].map(maritalstatus)\n",
    "\n",
    "occupation = {'Adm-clerical': 1, 'Exec-managerial': 1, 'Prof-specialty': 1, 'Protective-serv': 3,'Priv-house-serv':3,'Other-service':3,'Sales':3,'Craft-repair':2,'Machine-op-inspct':2,'Transport-moving':2,'Farming-fishing':2,'Handlers-cleaners':2,'Tech-support':3,'Armed-Forces':3,-1:-1}\n",
    "adult_data_without_missing_values['occupation'] = adult_data_without_missing_values['occupation'].map(occupation)\n",
    "\n",
    "\n",
    "# Example for one column\n",
    "label_encoder = LabelEncoder()\n",
    "adult_data_without_missing_values['income'] = label_encoder.fit_transform(adult_data_without_missing_values['income'])\n",
    "\n",
    "adult_data_without_missing_values['native-country'] = (\n",
    "    adult_data_without_missing_values['native-country']\n",
    "    .map(country_to_region)   # Convert countries to regions\n",
    "    .map(region_to_number)    # Convert regions to numeric codes\n",
    ")\n",
    "\n"
   ]
  },
  {
   "cell_type": "code",
   "execution_count": 185,
   "metadata": {},
   "outputs": [
    {
     "data": {
      "text/html": [
       "<div>\n",
       "<style scoped>\n",
       "    .dataframe tbody tr th:only-of-type {\n",
       "        vertical-align: middle;\n",
       "    }\n",
       "\n",
       "    .dataframe tbody tr th {\n",
       "        vertical-align: top;\n",
       "    }\n",
       "\n",
       "    .dataframe thead th {\n",
       "        text-align: right;\n",
       "    }\n",
       "</style>\n",
       "<table border=\"1\" class=\"dataframe\">\n",
       "  <thead>\n",
       "    <tr style=\"text-align: right;\">\n",
       "      <th></th>\n",
       "      <th>age</th>\n",
       "      <th>workclass</th>\n",
       "      <th>fnlwgt</th>\n",
       "      <th>education-num</th>\n",
       "      <th>marital-status</th>\n",
       "      <th>occupation</th>\n",
       "      <th>relationship</th>\n",
       "      <th>race</th>\n",
       "      <th>sex</th>\n",
       "      <th>capital-gain</th>\n",
       "      <th>capital-loss</th>\n",
       "      <th>hours-per-week</th>\n",
       "      <th>native-country</th>\n",
       "      <th>income</th>\n",
       "    </tr>\n",
       "  </thead>\n",
       "  <tbody>\n",
       "    <tr>\n",
       "      <th>0</th>\n",
       "      <td>39</td>\n",
       "      <td>1</td>\n",
       "      <td>77516</td>\n",
       "      <td>13</td>\n",
       "      <td>3</td>\n",
       "      <td>1</td>\n",
       "      <td>4</td>\n",
       "      <td>1</td>\n",
       "      <td>1</td>\n",
       "      <td>2174</td>\n",
       "      <td>0</td>\n",
       "      <td>40</td>\n",
       "      <td>1</td>\n",
       "      <td>0</td>\n",
       "    </tr>\n",
       "    <tr>\n",
       "      <th>1</th>\n",
       "      <td>50</td>\n",
       "      <td>3</td>\n",
       "      <td>83311</td>\n",
       "      <td>13</td>\n",
       "      <td>1</td>\n",
       "      <td>1</td>\n",
       "      <td>1</td>\n",
       "      <td>1</td>\n",
       "      <td>1</td>\n",
       "      <td>0</td>\n",
       "      <td>0</td>\n",
       "      <td>13</td>\n",
       "      <td>1</td>\n",
       "      <td>0</td>\n",
       "    </tr>\n",
       "  </tbody>\n",
       "</table>\n",
       "</div>"
      ],
      "text/plain": [
       "   age  workclass  fnlwgt  education-num  marital-status  occupation  \\\n",
       "0   39          1   77516             13               3           1   \n",
       "1   50          3   83311             13               1           1   \n",
       "\n",
       "   relationship  race  sex  capital-gain  capital-loss  hours-per-week  \\\n",
       "0             4     1    1          2174             0              40   \n",
       "1             1     1    1             0             0              13   \n",
       "\n",
       "   native-country  income  \n",
       "0               1       0  \n",
       "1               1       0  "
      ]
     },
     "execution_count": 185,
     "metadata": {},
     "output_type": "execute_result"
    }
   ],
   "source": [
    "adult_data_without_missing_values.head(2)"
   ]
  },
  {
   "cell_type": "code",
   "execution_count": 186,
   "metadata": {},
   "outputs": [
    {
     "data": {
      "text/plain": [
       "(45222, 14)"
      ]
     },
     "execution_count": 186,
     "metadata": {},
     "output_type": "execute_result"
    }
   ],
   "source": [
    "adult_data_without_missing_values.shape"
   ]
  },
  {
   "cell_type": "code",
   "execution_count": 187,
   "metadata": {},
   "outputs": [],
   "source": [
    "adult_data_without_missing_values.to_csv(r\"C:\\Users\\zhossai3\\Desktop\\My code\\OT+Fairness\\Data\\adult\\adult_data_without_missing_values.csv\", index=False)"
   ]
  },
  {
   "cell_type": "code",
   "execution_count": 188,
   "metadata": {},
   "outputs": [
    {
     "data": {
      "text/plain": [
       "age               0\n",
       "workclass         0\n",
       "fnlwgt            0\n",
       "education-num     0\n",
       "marital-status    0\n",
       "occupation        0\n",
       "relationship      0\n",
       "race              0\n",
       "sex               0\n",
       "capital-gain      0\n",
       "capital-loss      0\n",
       "hours-per-week    0\n",
       "native-country    0\n",
       "income            0\n",
       "dtype: int64"
      ]
     },
     "execution_count": 188,
     "metadata": {},
     "output_type": "execute_result"
    }
   ],
   "source": [
    "adult_data_without_missing_values.isnull().sum()"
   ]
  },
  {
   "cell_type": "code",
   "execution_count": 88,
   "metadata": {},
   "outputs": [
    {
     "data": {
      "image/png": "[encoded data removed]",
      "text/plain": [
       "<Figure size 640x480 with 1 Axes>"
      ]
     },
     "metadata": {},
     "output_type": "display_data"
    }
   ],
   "source": [
    "import seaborn as sns\n",
    "import matplotlib.pyplot as plt\n",
    "\n",
    "sns.histplot(adult_data, x=\"sex\", hue=\"income\", multiple=\"stack\")\n",
    "plt.show()"
   ]
  },
  {
   "cell_type": "code",
   "execution_count": 89,
   "metadata": {},
   "outputs": [
    {
     "data": {
      "image/png": "[encoded data removed]",
      "text/plain": [
       "<Figure size 640x480 with 1 Axes>"
      ]
     },
     "metadata": {},
     "output_type": "display_data"
    }
   ],
   "source": [
    "sns.countplot(x='sex', data = adult_data)\n",
    "plt.title('Gender Distribution - Adult Data')\n",
    "plt.show()"
   ]
  },
  {
   "cell_type": "code",
   "execution_count": 90,
   "metadata": {},
   "outputs": [
    {
     "data": {
      "image/png": "[encoded data removed]",
      "text/plain": [
       "<Figure size 640x480 with 1 Axes>"
      ]
     },
     "metadata": {},
     "output_type": "display_data"
    }
   ],
   "source": [
    "sns.countplot(x='race', data = adult_data)\n",
    "plt.title('Race Distribution - Adult Data')\n",
    "plt.show()"
   ]
  },
  {
   "cell_type": "code",
   "execution_count": 91,
   "metadata": {},
   "outputs": [
    {
     "data": {
      "image/png": "[encoded data removed]",
      "text/plain": [
       "<Figure size 640x480 with 1 Axes>"
      ]
     },
     "metadata": {},
     "output_type": "display_data"
    }
   ],
   "source": [
    "sns.histplot(adult_data['age'], kde=True)\n",
    "plt.title('Age Distribution - Adult Data')\n",
    "plt.show()"
   ]
  },
  {
   "cell_type": "code",
   "execution_count": 92,
   "metadata": {},
   "outputs": [
    {
     "name": "stdout",
     "output_type": "stream",
     "text": [
      "age               0.000000\n",
      "workclass         1.971664\n",
      "fnlwgt            0.000000\n",
      "education         0.000000\n",
      "education-num     0.000000\n",
      "marital-status    0.000000\n",
      "occupation        1.977806\n",
      "relationship      0.000000\n",
      "race              0.000000\n",
      "sex               0.000000\n",
      "capital-gain      0.000000\n",
      "capital-loss      0.000000\n",
      "hours-per-week    0.000000\n",
      "native-country    0.560993\n",
      "income            0.000000\n",
      "dtype: float64\n"
     ]
    }
   ],
   "source": [
    "missing_percentage = adult_data.isnull().mean() * 100\n",
    "print(missing_percentage)"
   ]
  },
  {
   "cell_type": "markdown",
   "metadata": {},
   "source": [
    "Total missing value percantage in Adult Data"
   ]
  },
  {
   "cell_type": "code",
   "execution_count": 93,
   "metadata": {},
   "outputs": [
    {
     "name": "stdout",
     "output_type": "stream",
     "text": [
      "Total percentage of missing values: 0.30%\n"
     ]
    }
   ],
   "source": [
    "# Calculate total percentage of missing values in the dataset\n",
    "Adult_total_missing_percentage = adult_data.isnull().sum().sum() / (adult_data.shape[0] * adult_data.shape[1]) * 100\n",
    "\n",
    "print(f\"Total percentage of missing values: {Adult_total_missing_percentage :.2f}%\")"
   ]
  },
  {
   "cell_type": "markdown",
   "metadata": {},
   "source": [
    "**Portugal student performance dataset**"
   ]
  },
  {
   "cell_type": "code",
   "execution_count": 95,
   "metadata": {},
   "outputs": [],
   "source": [
    "student_mat = pd.read_csv(r\"C:\\Users\\zhossai3\\Desktop\\My code\\OT+Fairness\\Data\\portugal student performance dataset\\student-mat.csv\",sep=';')\n",
    "student_por = pd.read_csv(r\"C:\\Users\\zhossai3\\Desktop\\My code\\OT+Fairness\\Data\\portugal student performance dataset\\student-por.csv\",sep=';')"
   ]
  },
  {
   "cell_type": "code",
   "execution_count": 96,
   "metadata": {},
   "outputs": [
    {
     "name": "stdout",
     "output_type": "stream",
     "text": [
      "Series([], dtype: int64)\n"
     ]
    }
   ],
   "source": [
    "missing_values = student_mat.isnull().sum()\n",
    "print(missing_values[missing_values > 0])"
   ]
  },
  {
   "cell_type": "code",
   "execution_count": 97,
   "metadata": {},
   "outputs": [
    {
     "name": "stdout",
     "output_type": "stream",
     "text": [
      "Series([], dtype: int64)\n"
     ]
    }
   ],
   "source": [
    "missing_values = student_por.isnull().sum()\n",
    "print(missing_values[missing_values > 0])"
   ]
  },
  {
   "cell_type": "code",
   "execution_count": 98,
   "metadata": {},
   "outputs": [
    {
     "data": {
      "text/html": [
       "<div>\n",
       "<style scoped>\n",
       "    .dataframe tbody tr th:only-of-type {\n",
       "        vertical-align: middle;\n",
       "    }\n",
       "\n",
       "    .dataframe tbody tr th {\n",
       "        vertical-align: top;\n",
       "    }\n",
       "\n",
       "    .dataframe thead th {\n",
       "        text-align: right;\n",
       "    }\n",
       "</style>\n",
       "<table border=\"1\" class=\"dataframe\">\n",
       "  <thead>\n",
       "    <tr style=\"text-align: right;\">\n",
       "      <th></th>\n",
       "      <th>school</th>\n",
       "      <th>sex</th>\n",
       "      <th>age</th>\n",
       "      <th>address</th>\n",
       "      <th>famsize</th>\n",
       "      <th>Pstatus</th>\n",
       "      <th>Medu</th>\n",
       "      <th>Fedu</th>\n",
       "      <th>Mjob</th>\n",
       "      <th>Fjob</th>\n",
       "      <th>...</th>\n",
       "      <th>famrel_por_data</th>\n",
       "      <th>freetime_por_data</th>\n",
       "      <th>goout_por_data</th>\n",
       "      <th>Dalc_por_data</th>\n",
       "      <th>Walc_por_data</th>\n",
       "      <th>health_por_data</th>\n",
       "      <th>absences_por_data</th>\n",
       "      <th>G1_por_data</th>\n",
       "      <th>G2_por_data</th>\n",
       "      <th>G3_por_data</th>\n",
       "    </tr>\n",
       "  </thead>\n",
       "  <tbody>\n",
       "    <tr>\n",
       "      <th>0</th>\n",
       "      <td>GP</td>\n",
       "      <td>F</td>\n",
       "      <td>18</td>\n",
       "      <td>U</td>\n",
       "      <td>GT3</td>\n",
       "      <td>A</td>\n",
       "      <td>4</td>\n",
       "      <td>4</td>\n",
       "      <td>at_home</td>\n",
       "      <td>teacher</td>\n",
       "      <td>...</td>\n",
       "      <td>4</td>\n",
       "      <td>3</td>\n",
       "      <td>4</td>\n",
       "      <td>1</td>\n",
       "      <td>1</td>\n",
       "      <td>3</td>\n",
       "      <td>4</td>\n",
       "      <td>0</td>\n",
       "      <td>11</td>\n",
       "      <td>11</td>\n",
       "    </tr>\n",
       "    <tr>\n",
       "      <th>1</th>\n",
       "      <td>GP</td>\n",
       "      <td>F</td>\n",
       "      <td>17</td>\n",
       "      <td>U</td>\n",
       "      <td>GT3</td>\n",
       "      <td>T</td>\n",
       "      <td>1</td>\n",
       "      <td>1</td>\n",
       "      <td>at_home</td>\n",
       "      <td>other</td>\n",
       "      <td>...</td>\n",
       "      <td>5</td>\n",
       "      <td>3</td>\n",
       "      <td>3</td>\n",
       "      <td>1</td>\n",
       "      <td>1</td>\n",
       "      <td>3</td>\n",
       "      <td>2</td>\n",
       "      <td>9</td>\n",
       "      <td>11</td>\n",
       "      <td>11</td>\n",
       "    </tr>\n",
       "    <tr>\n",
       "      <th>2</th>\n",
       "      <td>GP</td>\n",
       "      <td>F</td>\n",
       "      <td>15</td>\n",
       "      <td>U</td>\n",
       "      <td>LE3</td>\n",
       "      <td>T</td>\n",
       "      <td>1</td>\n",
       "      <td>1</td>\n",
       "      <td>at_home</td>\n",
       "      <td>other</td>\n",
       "      <td>...</td>\n",
       "      <td>4</td>\n",
       "      <td>3</td>\n",
       "      <td>2</td>\n",
       "      <td>2</td>\n",
       "      <td>3</td>\n",
       "      <td>3</td>\n",
       "      <td>6</td>\n",
       "      <td>12</td>\n",
       "      <td>13</td>\n",
       "      <td>12</td>\n",
       "    </tr>\n",
       "    <tr>\n",
       "      <th>3</th>\n",
       "      <td>GP</td>\n",
       "      <td>F</td>\n",
       "      <td>15</td>\n",
       "      <td>U</td>\n",
       "      <td>GT3</td>\n",
       "      <td>T</td>\n",
       "      <td>4</td>\n",
       "      <td>2</td>\n",
       "      <td>health</td>\n",
       "      <td>services</td>\n",
       "      <td>...</td>\n",
       "      <td>3</td>\n",
       "      <td>2</td>\n",
       "      <td>2</td>\n",
       "      <td>1</td>\n",
       "      <td>1</td>\n",
       "      <td>5</td>\n",
       "      <td>0</td>\n",
       "      <td>14</td>\n",
       "      <td>14</td>\n",
       "      <td>14</td>\n",
       "    </tr>\n",
       "    <tr>\n",
       "      <th>4</th>\n",
       "      <td>GP</td>\n",
       "      <td>F</td>\n",
       "      <td>16</td>\n",
       "      <td>U</td>\n",
       "      <td>GT3</td>\n",
       "      <td>T</td>\n",
       "      <td>3</td>\n",
       "      <td>3</td>\n",
       "      <td>other</td>\n",
       "      <td>other</td>\n",
       "      <td>...</td>\n",
       "      <td>4</td>\n",
       "      <td>3</td>\n",
       "      <td>2</td>\n",
       "      <td>1</td>\n",
       "      <td>2</td>\n",
       "      <td>5</td>\n",
       "      <td>0</td>\n",
       "      <td>11</td>\n",
       "      <td>13</td>\n",
       "      <td>13</td>\n",
       "    </tr>\n",
       "  </tbody>\n",
       "</table>\n",
       "<p>5 rows × 53 columns</p>\n",
       "</div>"
      ],
      "text/plain": [
       "  school sex  age address famsize Pstatus  Medu  Fedu     Mjob      Fjob  ...  \\\n",
       "0     GP   F   18       U     GT3       A     4     4  at_home   teacher  ...   \n",
       "1     GP   F   17       U     GT3       T     1     1  at_home     other  ...   \n",
       "2     GP   F   15       U     LE3       T     1     1  at_home     other  ...   \n",
       "3     GP   F   15       U     GT3       T     4     2   health  services  ...   \n",
       "4     GP   F   16       U     GT3       T     3     3    other     other  ...   \n",
       "\n",
       "  famrel_por_data freetime_por_data  goout_por_data  Dalc_por_data  \\\n",
       "0               4                 3               4              1   \n",
       "1               5                 3               3              1   \n",
       "2               4                 3               2              2   \n",
       "3               3                 2               2              1   \n",
       "4               4                 3               2              1   \n",
       "\n",
       "   Walc_por_data health_por_data absences_por_data G1_por_data G2_por_data  \\\n",
       "0              1               3                 4           0          11   \n",
       "1              1               3                 2           9          11   \n",
       "2              3               3                 6          12          13   \n",
       "3              1               5                 0          14          14   \n",
       "4              2               5                 0          11          13   \n",
       "\n",
       "  G3_por_data  \n",
       "0          11  \n",
       "1          11  \n",
       "2          12  \n",
       "3          14  \n",
       "4          13  \n",
       "\n",
       "[5 rows x 53 columns]"
      ]
     },
     "execution_count": 98,
     "metadata": {},
     "output_type": "execute_result"
    }
   ],
   "source": [
    "common_columns = ['school','sex','age','address','famsize','Pstatus','Medu','Fedu','Mjob','Fjob','reason','nursery','internet']\n",
    "\n",
    "df = pd.merge(student_mat, student_por, on=common_columns, suffixes=('_math_data','_por_data'))\n",
    "\n",
    "df.head()"
   ]
  },
  {
   "cell_type": "code",
   "execution_count": 106,
   "metadata": {},
   "outputs": [],
   "source": [
    "df_special_encoding = pd.merge(student_mat, student_por, on=common_columns, suffixes=('_math_data','_por_data'))"
   ]
  },
  {
   "cell_type": "code",
   "execution_count": 99,
   "metadata": {},
   "outputs": [
    {
     "data": {
      "text/plain": [
       "(382, 53)"
      ]
     },
     "execution_count": 99,
     "metadata": {},
     "output_type": "execute_result"
    }
   ],
   "source": [
    "df.shape"
   ]
  },
  {
   "cell_type": "code",
   "execution_count": 100,
   "metadata": {},
   "outputs": [
    {
     "name": "stdout",
     "output_type": "stream",
     "text": [
      "<class 'pandas.core.frame.DataFrame'>\n",
      "RangeIndex: 382 entries, 0 to 381\n",
      "Data columns (total 53 columns):\n",
      " #   Column                Non-Null Count  Dtype \n",
      "---  ------                --------------  ----- \n",
      " 0   school                382 non-null    object\n",
      " 1   sex                   382 non-null    object\n",
      " 2   age                   382 non-null    int64 \n",
      " 3   address               382 non-null    object\n",
      " 4   famsize               382 non-null    object\n",
      " 5   Pstatus               382 non-null    object\n",
      " 6   Medu                  382 non-null    int64 \n",
      " 7   Fedu                  382 non-null    int64 \n",
      " 8   Mjob                  382 non-null    object\n",
      " 9   Fjob                  382 non-null    object\n",
      " 10  reason                382 non-null    object\n",
      " 11  guardian_math_data    382 non-null    object\n",
      " 12  traveltime_math_data  382 non-null    int64 \n",
      " 13  studytime_math_data   382 non-null    int64 \n",
      " 14  failures_math_data    382 non-null    int64 \n",
      " 15  schoolsup_math_data   382 non-null    object\n",
      " 16  famsup_math_data      382 non-null    object\n",
      " 17  paid_math_data        382 non-null    object\n",
      " 18  activities_math_data  382 non-null    object\n",
      " 19  nursery               382 non-null    object\n",
      " 20  higher_math_data      382 non-null    object\n",
      " 21  internet              382 non-null    object\n",
      " 22  romantic_math_data    382 non-null    object\n",
      " 23  famrel_math_data      382 non-null    int64 \n",
      " 24  freetime_math_data    382 non-null    int64 \n",
      " 25  goout_math_data       382 non-null    int64 \n",
      " 26  Dalc_math_data        382 non-null    int64 \n",
      " 27  Walc_math_data        382 non-null    int64 \n",
      " 28  health_math_data      382 non-null    int64 \n",
      " 29  absences_math_data    382 non-null    int64 \n",
      " 30  G1_math_data          382 non-null    int64 \n",
      " 31  G2_math_data          382 non-null    int64 \n",
      " 32  G3_math_data          382 non-null    int64 \n",
      " 33  guardian_por_data     382 non-null    object\n",
      " 34  traveltime_por_data   382 non-null    int64 \n",
      " 35  studytime_por_data    382 non-null    int64 \n",
      " 36  failures_por_data     382 non-null    int64 \n",
      " 37  schoolsup_por_data    382 non-null    object\n",
      " 38  famsup_por_data       382 non-null    object\n",
      " 39  paid_por_data         382 non-null    object\n",
      " 40  activities_por_data   382 non-null    object\n",
      " 41  higher_por_data       382 non-null    object\n",
      " 42  romantic_por_data     382 non-null    object\n",
      " 43  famrel_por_data       382 non-null    int64 \n",
      " 44  freetime_por_data     382 non-null    int64 \n",
      " 45  goout_por_data        382 non-null    int64 \n",
      " 46  Dalc_por_data         382 non-null    int64 \n",
      " 47  Walc_por_data         382 non-null    int64 \n",
      " 48  health_por_data       382 non-null    int64 \n",
      " 49  absences_por_data     382 non-null    int64 \n",
      " 50  G1_por_data           382 non-null    int64 \n",
      " 51  G2_por_data           382 non-null    int64 \n",
      " 52  G3_por_data           382 non-null    int64 \n",
      "dtypes: int64(29), object(24)\n",
      "memory usage: 158.3+ KB\n"
     ]
    }
   ],
   "source": [
    "df.info()"
   ]
  },
  {
   "cell_type": "code",
   "execution_count": 101,
   "metadata": {},
   "outputs": [
    {
     "data": {
      "text/plain": [
       "Index(['school', 'sex', 'age', 'address', 'famsize', 'Pstatus', 'Medu', 'Fedu',\n",
       "       'Mjob', 'Fjob', 'reason', 'guardian_math_data', 'traveltime_math_data',\n",
       "       'studytime_math_data', 'failures_math_data', 'schoolsup_math_data',\n",
       "       'famsup_math_data', 'paid_math_data', 'activities_math_data', 'nursery',\n",
       "       'higher_math_data', 'internet', 'romantic_math_data',\n",
       "       'famrel_math_data', 'freetime_math_data', 'goout_math_data',\n",
       "       'Dalc_math_data', 'Walc_math_data', 'health_math_data',\n",
       "       'absences_math_data', 'G1_math_data', 'G2_math_data', 'G3_math_data',\n",
       "       'guardian_por_data', 'traveltime_por_data', 'studytime_por_data',\n",
       "       'failures_por_data', 'schoolsup_por_data', 'famsup_por_data',\n",
       "       'paid_por_data', 'activities_por_data', 'higher_por_data',\n",
       "       'romantic_por_data', 'famrel_por_data', 'freetime_por_data',\n",
       "       'goout_por_data', 'Dalc_por_data', 'Walc_por_data', 'health_por_data',\n",
       "       'absences_por_data', 'G1_por_data', 'G2_por_data', 'G3_por_data'],\n",
       "      dtype='object')"
      ]
     },
     "execution_count": 101,
     "metadata": {},
     "output_type": "execute_result"
    }
   ],
   "source": [
    "df.columns"
   ]
  },
  {
   "cell_type": "code",
   "execution_count": 102,
   "metadata": {},
   "outputs": [],
   "source": [
    "df['school'] = df['school'].map({'GP': 1, 'MS': 2})\n",
    "df['sex'] = df['sex'].map({'F': 1, 'M': 2})\n",
    "df['address'] = df['address'].map({'U': 1, 'R': 2})\n",
    "df['famsize'] = df['famsize'].map({'GT3': 1, 'LE3': 2})\n",
    "df['Pstatus'] = df['Pstatus'].map({'A': 1, 'T': 2})\n",
    "df['Mjob'] = df['Mjob'].map({'health': 1, 'teacher': 2,'services':3,'other':4,'at_home':5})\n",
    "df['Fjob'] = df['Fjob'].map({'health': 1, 'teacher': 2,'services':3,'other':4,'at_home':5})\n",
    "df['reason'] = df['reason'].map({'course': 1, 'reputation': 2,'home':3,'other':4})\n",
    "df['guardian_math_data'] = df['guardian_math_data'].map({'mother': 1, 'father': 2,'other':3})\n",
    "df['schoolsup_math_data'] = df['schoolsup_math_data'].map({'yes': 1, 'no': 2})\n",
    "df['famsup_math_data'] = df['famsup_math_data'].map({'yes': 1, 'no': 2})\n",
    "df['paid_math_data'] = df['paid_math_data'].map({'yes': 1, 'no': 2})\n",
    "df['activities_math_data'] = df['activities_math_data'].map({'yes': 1, 'no': 2})\n",
    "df['nursery'] = df['nursery'].map({'yes': 1, 'no': 2})\n",
    "df['higher_math_data'] = df['higher_math_data'].map({'yes': 1, 'no': 2})\n",
    "df['romantic_math_data'] = df['romantic_math_data'].map({'yes': 1, 'no': 2})\n",
    "df['internet'] = df['internet'].map({'yes': 1, 'no': 2})\n",
    "df['guardian_por_data'] = df['guardian_por_data'].map({'mother': 1, 'father': 2,'other':3})\n",
    "df['schoolsup_por_data'] = df['schoolsup_por_data'].map({'yes': 1, 'no': 2})\n",
    "df['famsup_por_data'] = df['famsup_por_data'].map({'yes': 1, 'no': 2})\n",
    "df['paid_por_data'] = df['paid_por_data'].map({'yes': 1, 'no': 2})\n",
    "df['activities_por_data'] = df['activities_por_data'].map({'yes': 1, 'no': 2})\n",
    "df['higher_por_data'] = df['higher_por_data'].map({'yes': 1, 'no': 2})\n",
    "df['romantic_por_data'] = df['romantic_por_data'].map({'yes': 1, 'no': 2})\n"
   ]
  },
  {
   "cell_type": "code",
   "execution_count": 107,
   "metadata": {},
   "outputs": [],
   "source": [
    "df_special_encoding['school'] = df_special_encoding['school'].map({'GP': 1, 'MS': 5})\n",
    "df_special_encoding['sex'] = df_special_encoding['sex'].map({'F': 10, 'M': 1})\n",
    "df_special_encoding['address'] = df_special_encoding['address'].map({'U': 16, 'R': 26})\n",
    "df_special_encoding['famsize'] = df_special_encoding['famsize'].map({'GT3': 31, 'LE3': 41})\n",
    "df_special_encoding['Pstatus'] = df_special_encoding['Pstatus'].map({'A': 11, 'T': 22})\n",
    "df_special_encoding['Mjob'] = df_special_encoding['Mjob'].map({'health': 10, 'teacher': 20,'services':30,'other':40,'at_home':50})\n",
    "df_special_encoding['Fjob'] = df_special_encoding['Fjob'].map({'health': 10, 'teacher': 20,'services':30,'other':40,'at_home':50})\n",
    "df_special_encoding['reason'] = df_special_encoding['reason'].map({'course': 10, 'reputation': 20,'home':30,'other':40})\n",
    "df_special_encoding['guardian_math_data'] = df_special_encoding['guardian_math_data'].map({'mother': 15, 'father': 25,'other':35})\n",
    "df_special_encoding['schoolsup_math_data'] = df_special_encoding['schoolsup_math_data'].map({'yes': 100, 'no': 200})\n",
    "df_special_encoding['famsup_math_data'] = df_special_encoding['famsup_math_data'].map({'yes': 100, 'no': 200})\n",
    "df_special_encoding['paid_math_data'] = df_special_encoding['paid_math_data'].map({'yes': 100, 'no': 200})\n",
    "df_special_encoding['activities_math_data'] = df_special_encoding['activities_math_data'].map({'yes': 100, 'no': 200})\n",
    "df_special_encoding['nursery'] = df_special_encoding['nursery'].map({'yes': 100, 'no': 200})\n",
    "df_special_encoding['higher_math_data'] = df_special_encoding['higher_math_data'].map({'yes': 100, 'no': 200})\n",
    "df_special_encoding['romantic_math_data'] = df_special_encoding['romantic_math_data'].map({'yes': 100, 'no': 200})\n",
    "df_special_encoding['internet'] = df_special_encoding['internet'].map({'yes': 100, 'no': 200})\n",
    "df_special_encoding['guardian_por_data'] = df_special_encoding['guardian_por_data'].map({'mother': 15, 'father': 25,'other':35})\n",
    "df_special_encoding['schoolsup_por_data'] = df_special_encoding['schoolsup_por_data'].map({'yes': 100, 'no': 200})\n",
    "df_special_encoding['famsup_por_data'] = df_special_encoding['famsup_por_data'].map({'yes': 100, 'no': 200})\n",
    "df_special_encoding['paid_por_data'] = df_special_encoding['paid_por_data'].map({'yes': 100, 'no': 200})\n",
    "df_special_encoding['activities_por_data'] = df_special_encoding['activities_por_data'].map({'yes': 100, 'no': 200})\n",
    "df_special_encoding['higher_por_data'] = df_special_encoding['higher_por_data'].map({'yes': 100, 'no': 200})\n",
    "df_special_encoding['romantic_por_data'] = df_special_encoding['romantic_por_data'].map({'yes': 100, 'no': 200})"
   ]
  },
  {
   "cell_type": "code",
   "execution_count": 103,
   "metadata": {},
   "outputs": [
    {
     "name": "stdout",
     "output_type": "stream",
     "text": [
      "<class 'pandas.core.frame.DataFrame'>\n",
      "RangeIndex: 382 entries, 0 to 381\n",
      "Data columns (total 53 columns):\n",
      " #   Column                Non-Null Count  Dtype\n",
      "---  ------                --------------  -----\n",
      " 0   school                382 non-null    int64\n",
      " 1   sex                   382 non-null    int64\n",
      " 2   age                   382 non-null    int64\n",
      " 3   address               382 non-null    int64\n",
      " 4   famsize               382 non-null    int64\n",
      " 5   Pstatus               382 non-null    int64\n",
      " 6   Medu                  382 non-null    int64\n",
      " 7   Fedu                  382 non-null    int64\n",
      " 8   Mjob                  382 non-null    int64\n",
      " 9   Fjob                  382 non-null    int64\n",
      " 10  reason                382 non-null    int64\n",
      " 11  guardian_math_data    382 non-null    int64\n",
      " 12  traveltime_math_data  382 non-null    int64\n",
      " 13  studytime_math_data   382 non-null    int64\n",
      " 14  failures_math_data    382 non-null    int64\n",
      " 15  schoolsup_math_data   382 non-null    int64\n",
      " 16  famsup_math_data      382 non-null    int64\n",
      " 17  paid_math_data        382 non-null    int64\n",
      " 18  activities_math_data  382 non-null    int64\n",
      " 19  nursery               382 non-null    int64\n",
      " 20  higher_math_data      382 non-null    int64\n",
      " 21  internet              382 non-null    int64\n",
      " 22  romantic_math_data    382 non-null    int64\n",
      " 23  famrel_math_data      382 non-null    int64\n",
      " 24  freetime_math_data    382 non-null    int64\n",
      " 25  goout_math_data       382 non-null    int64\n",
      " 26  Dalc_math_data        382 non-null    int64\n",
      " 27  Walc_math_data        382 non-null    int64\n",
      " 28  health_math_data      382 non-null    int64\n",
      " 29  absences_math_data    382 non-null    int64\n",
      " 30  G1_math_data          382 non-null    int64\n",
      " 31  G2_math_data          382 non-null    int64\n",
      " 32  G3_math_data          382 non-null    int64\n",
      " 33  guardian_por_data     382 non-null    int64\n",
      " 34  traveltime_por_data   382 non-null    int64\n",
      " 35  studytime_por_data    382 non-null    int64\n",
      " 36  failures_por_data     382 non-null    int64\n",
      " 37  schoolsup_por_data    382 non-null    int64\n",
      " 38  famsup_por_data       382 non-null    int64\n",
      " 39  paid_por_data         382 non-null    int64\n",
      " 40  activities_por_data   382 non-null    int64\n",
      " 41  higher_por_data       382 non-null    int64\n",
      " 42  romantic_por_data     382 non-null    int64\n",
      " 43  famrel_por_data       382 non-null    int64\n",
      " 44  freetime_por_data     382 non-null    int64\n",
      " 45  goout_por_data        382 non-null    int64\n",
      " 46  Dalc_por_data         382 non-null    int64\n",
      " 47  Walc_por_data         382 non-null    int64\n",
      " 48  health_por_data       382 non-null    int64\n",
      " 49  absences_por_data     382 non-null    int64\n",
      " 50  G1_por_data           382 non-null    int64\n",
      " 51  G2_por_data           382 non-null    int64\n",
      " 52  G3_por_data           382 non-null    int64\n",
      "dtypes: int64(53)\n",
      "memory usage: 158.3 KB\n"
     ]
    }
   ],
   "source": [
    "df.info()"
   ]
  },
  {
   "cell_type": "code",
   "execution_count": 105,
   "metadata": {},
   "outputs": [],
   "source": [
    "df.to_csv(r\"C:\\Users\\zhossai3\\Desktop\\My code\\OT+Fairness\\Data\\portugal student performance dataset\\P_Student_Performance_Data.csv\", index=False)"
   ]
  },
  {
   "cell_type": "code",
   "execution_count": 108,
   "metadata": {},
   "outputs": [],
   "source": [
    "df_special_encoding.to_csv(r\"C:\\Users\\zhossai3\\Desktop\\My code\\OT+Fairness\\Data\\portugal student performance dataset\\P_Student_Performance_Data_special_encoding.csv\", index=False)"
   ]
  },
  {
   "cell_type": "markdown",
   "metadata": {},
   "source": [
    "**Abalone**"
   ]
  },
  {
   "cell_type": "code",
   "execution_count": 139,
   "metadata": {},
   "outputs": [
    {
     "name": "stdout",
     "output_type": "stream",
     "text": [
      "  Sex  Length  Diameter  Height  WholeWeight  ShuckedWeight  VisceraWeight  \\\n",
      "0   M   0.455     0.365   0.095       0.5140         0.2245         0.1010   \n",
      "1   M   0.350     0.265   0.090       0.2255         0.0995         0.0485   \n",
      "2   F   0.530     0.420   0.135       0.6770         0.2565         0.1415   \n",
      "3   M   0.440     0.365   0.125       0.5160         0.2155         0.1140   \n",
      "4   I   0.330     0.255   0.080       0.2050         0.0895         0.0395   \n",
      "\n",
      "   ShellWeight  Rings  \n",
      "0        0.150     15  \n",
      "1        0.070      7  \n",
      "2        0.210      9  \n",
      "3        0.155     10  \n",
      "4        0.055      7  \n"
     ]
    }
   ],
   "source": [
    "\n",
    "# Define column names manually as there is no header in the file\n",
    "columns = ['Sex', 'Length', 'Diameter', 'Height', 'WholeWeight', 'ShuckedWeight', 'VisceraWeight', 'ShellWeight', 'Rings']\n",
    "\n",
    "# Read the dataset without a header and assign column names\n",
    "abalone_data = pd.read_csv(r'C:\\Users\\zhossai3\\Desktop\\My code\\OT+Fairness\\Data\\abalone\\abalone.data', delimiter=',', header=None, names=columns)\n",
    "\n",
    "print(abalone_data.head())\n"
   ]
  },
  {
   "cell_type": "code",
   "execution_count": 140,
   "metadata": {},
   "outputs": [
    {
     "data": {
      "text/html": [
       "<div>\n",
       "<style scoped>\n",
       "    .dataframe tbody tr th:only-of-type {\n",
       "        vertical-align: middle;\n",
       "    }\n",
       "\n",
       "    .dataframe tbody tr th {\n",
       "        vertical-align: top;\n",
       "    }\n",
       "\n",
       "    .dataframe thead th {\n",
       "        text-align: right;\n",
       "    }\n",
       "</style>\n",
       "<table border=\"1\" class=\"dataframe\">\n",
       "  <thead>\n",
       "    <tr style=\"text-align: right;\">\n",
       "      <th></th>\n",
       "      <th>Sex</th>\n",
       "      <th>Length</th>\n",
       "      <th>Diameter</th>\n",
       "      <th>Height</th>\n",
       "      <th>WholeWeight</th>\n",
       "      <th>ShuckedWeight</th>\n",
       "      <th>VisceraWeight</th>\n",
       "      <th>ShellWeight</th>\n",
       "      <th>Rings</th>\n",
       "    </tr>\n",
       "  </thead>\n",
       "  <tbody>\n",
       "    <tr>\n",
       "      <th>0</th>\n",
       "      <td>M</td>\n",
       "      <td>0.455</td>\n",
       "      <td>0.365</td>\n",
       "      <td>0.095</td>\n",
       "      <td>0.5140</td>\n",
       "      <td>0.2245</td>\n",
       "      <td>0.1010</td>\n",
       "      <td>0.15</td>\n",
       "      <td>15</td>\n",
       "    </tr>\n",
       "    <tr>\n",
       "      <th>1</th>\n",
       "      <td>M</td>\n",
       "      <td>0.350</td>\n",
       "      <td>0.265</td>\n",
       "      <td>0.090</td>\n",
       "      <td>0.2255</td>\n",
       "      <td>0.0995</td>\n",
       "      <td>0.0485</td>\n",
       "      <td>0.07</td>\n",
       "      <td>7</td>\n",
       "    </tr>\n",
       "  </tbody>\n",
       "</table>\n",
       "</div>"
      ],
      "text/plain": [
       "  Sex  Length  Diameter  Height  WholeWeight  ShuckedWeight  VisceraWeight  \\\n",
       "0   M   0.455     0.365   0.095       0.5140         0.2245         0.1010   \n",
       "1   M   0.350     0.265   0.090       0.2255         0.0995         0.0485   \n",
       "\n",
       "   ShellWeight  Rings  \n",
       "0         0.15     15  \n",
       "1         0.07      7  "
      ]
     },
     "execution_count": 140,
     "metadata": {},
     "output_type": "execute_result"
    }
   ],
   "source": [
    "abalone_data.head(2)"
   ]
  },
  {
   "cell_type": "code",
   "execution_count": 141,
   "metadata": {},
   "outputs": [
    {
     "data": {
      "text/plain": [
       "pandas.core.frame.DataFrame"
      ]
     },
     "execution_count": 141,
     "metadata": {},
     "output_type": "execute_result"
    }
   ],
   "source": [
    "type(abalone_data)\n"
   ]
  },
  {
   "cell_type": "code",
   "execution_count": 142,
   "metadata": {},
   "outputs": [
    {
     "data": {
      "text/plain": [
       "(4177, 9)"
      ]
     },
     "execution_count": 142,
     "metadata": {},
     "output_type": "execute_result"
    }
   ],
   "source": [
    "abalone_data.shape"
   ]
  },
  {
   "cell_type": "code",
   "execution_count": 143,
   "metadata": {},
   "outputs": [],
   "source": [
    "abalone_data['Sex'] = abalone_data['Sex'].map({'M': 1, 'F': 2,'I':3})\n"
   ]
  },
  {
   "cell_type": "code",
   "execution_count": 144,
   "metadata": {},
   "outputs": [
    {
     "data": {
      "text/html": [
       "<div>\n",
       "<style scoped>\n",
       "    .dataframe tbody tr th:only-of-type {\n",
       "        vertical-align: middle;\n",
       "    }\n",
       "\n",
       "    .dataframe tbody tr th {\n",
       "        vertical-align: top;\n",
       "    }\n",
       "\n",
       "    .dataframe thead th {\n",
       "        text-align: right;\n",
       "    }\n",
       "</style>\n",
       "<table border=\"1\" class=\"dataframe\">\n",
       "  <thead>\n",
       "    <tr style=\"text-align: right;\">\n",
       "      <th></th>\n",
       "      <th>Sex</th>\n",
       "      <th>Length</th>\n",
       "      <th>Diameter</th>\n",
       "      <th>Height</th>\n",
       "      <th>WholeWeight</th>\n",
       "      <th>ShuckedWeight</th>\n",
       "      <th>VisceraWeight</th>\n",
       "      <th>ShellWeight</th>\n",
       "      <th>Rings</th>\n",
       "    </tr>\n",
       "  </thead>\n",
       "  <tbody>\n",
       "    <tr>\n",
       "      <th>0</th>\n",
       "      <td>1</td>\n",
       "      <td>0.455</td>\n",
       "      <td>0.365</td>\n",
       "      <td>0.095</td>\n",
       "      <td>0.5140</td>\n",
       "      <td>0.2245</td>\n",
       "      <td>0.1010</td>\n",
       "      <td>0.150</td>\n",
       "      <td>15</td>\n",
       "    </tr>\n",
       "    <tr>\n",
       "      <th>1</th>\n",
       "      <td>1</td>\n",
       "      <td>0.350</td>\n",
       "      <td>0.265</td>\n",
       "      <td>0.090</td>\n",
       "      <td>0.2255</td>\n",
       "      <td>0.0995</td>\n",
       "      <td>0.0485</td>\n",
       "      <td>0.070</td>\n",
       "      <td>7</td>\n",
       "    </tr>\n",
       "    <tr>\n",
       "      <th>2</th>\n",
       "      <td>2</td>\n",
       "      <td>0.530</td>\n",
       "      <td>0.420</td>\n",
       "      <td>0.135</td>\n",
       "      <td>0.6770</td>\n",
       "      <td>0.2565</td>\n",
       "      <td>0.1415</td>\n",
       "      <td>0.210</td>\n",
       "      <td>9</td>\n",
       "    </tr>\n",
       "    <tr>\n",
       "      <th>3</th>\n",
       "      <td>1</td>\n",
       "      <td>0.440</td>\n",
       "      <td>0.365</td>\n",
       "      <td>0.125</td>\n",
       "      <td>0.5160</td>\n",
       "      <td>0.2155</td>\n",
       "      <td>0.1140</td>\n",
       "      <td>0.155</td>\n",
       "      <td>10</td>\n",
       "    </tr>\n",
       "    <tr>\n",
       "      <th>4</th>\n",
       "      <td>3</td>\n",
       "      <td>0.330</td>\n",
       "      <td>0.255</td>\n",
       "      <td>0.080</td>\n",
       "      <td>0.2050</td>\n",
       "      <td>0.0895</td>\n",
       "      <td>0.0395</td>\n",
       "      <td>0.055</td>\n",
       "      <td>7</td>\n",
       "    </tr>\n",
       "  </tbody>\n",
       "</table>\n",
       "</div>"
      ],
      "text/plain": [
       "   Sex  Length  Diameter  Height  WholeWeight  ShuckedWeight  VisceraWeight  \\\n",
       "0    1   0.455     0.365   0.095       0.5140         0.2245         0.1010   \n",
       "1    1   0.350     0.265   0.090       0.2255         0.0995         0.0485   \n",
       "2    2   0.530     0.420   0.135       0.6770         0.2565         0.1415   \n",
       "3    1   0.440     0.365   0.125       0.5160         0.2155         0.1140   \n",
       "4    3   0.330     0.255   0.080       0.2050         0.0895         0.0395   \n",
       "\n",
       "   ShellWeight  Rings  \n",
       "0        0.150     15  \n",
       "1        0.070      7  \n",
       "2        0.210      9  \n",
       "3        0.155     10  \n",
       "4        0.055      7  "
      ]
     },
     "execution_count": 144,
     "metadata": {},
     "output_type": "execute_result"
    }
   ],
   "source": [
    "abalone_data.head()"
   ]
  },
  {
   "cell_type": "code",
   "execution_count": 145,
   "metadata": {},
   "outputs": [],
   "source": [
    "abalone_data.to_csv(r\"C:\\Users\\zhossai3\\Desktop\\My code\\OT+Fairness\\Data\\abalone\\abalone.csv\", index=False)"
   ]
  },
  {
   "cell_type": "markdown",
   "metadata": {},
   "source": [
    "**Heart Failour**"
   ]
  },
  {
   "cell_type": "code",
   "execution_count": 151,
   "metadata": {},
   "outputs": [],
   "source": [
    "heart_failour = pd.read_csv(r'C:\\Users\\zhossai3\\Desktop\\My code\\OT+Fairness\\Data\\Heart Failour\\heart.csv')"
   ]
  },
  {
   "cell_type": "code",
   "execution_count": 152,
   "metadata": {},
   "outputs": [
    {
     "data": {
      "text/html": [
       "<div>\n",
       "<style scoped>\n",
       "    .dataframe tbody tr th:only-of-type {\n",
       "        vertical-align: middle;\n",
       "    }\n",
       "\n",
       "    .dataframe tbody tr th {\n",
       "        vertical-align: top;\n",
       "    }\n",
       "\n",
       "    .dataframe thead th {\n",
       "        text-align: right;\n",
       "    }\n",
       "</style>\n",
       "<table border=\"1\" class=\"dataframe\">\n",
       "  <thead>\n",
       "    <tr style=\"text-align: right;\">\n",
       "      <th></th>\n",
       "      <th>Age</th>\n",
       "      <th>Sex</th>\n",
       "      <th>ChestPainType</th>\n",
       "      <th>RestingBP</th>\n",
       "      <th>Cholesterol</th>\n",
       "      <th>FastingBS</th>\n",
       "      <th>RestingECG</th>\n",
       "      <th>MaxHR</th>\n",
       "      <th>ExerciseAngina</th>\n",
       "      <th>Oldpeak</th>\n",
       "      <th>ST_Slope</th>\n",
       "      <th>HeartDisease</th>\n",
       "    </tr>\n",
       "  </thead>\n",
       "  <tbody>\n",
       "    <tr>\n",
       "      <th>0</th>\n",
       "      <td>40</td>\n",
       "      <td>M</td>\n",
       "      <td>ATA</td>\n",
       "      <td>140</td>\n",
       "      <td>289</td>\n",
       "      <td>0</td>\n",
       "      <td>Normal</td>\n",
       "      <td>172</td>\n",
       "      <td>N</td>\n",
       "      <td>0.0</td>\n",
       "      <td>Up</td>\n",
       "      <td>0</td>\n",
       "    </tr>\n",
       "    <tr>\n",
       "      <th>1</th>\n",
       "      <td>49</td>\n",
       "      <td>F</td>\n",
       "      <td>NAP</td>\n",
       "      <td>160</td>\n",
       "      <td>180</td>\n",
       "      <td>0</td>\n",
       "      <td>Normal</td>\n",
       "      <td>156</td>\n",
       "      <td>N</td>\n",
       "      <td>1.0</td>\n",
       "      <td>Flat</td>\n",
       "      <td>1</td>\n",
       "    </tr>\n",
       "    <tr>\n",
       "      <th>2</th>\n",
       "      <td>37</td>\n",
       "      <td>M</td>\n",
       "      <td>ATA</td>\n",
       "      <td>130</td>\n",
       "      <td>283</td>\n",
       "      <td>0</td>\n",
       "      <td>ST</td>\n",
       "      <td>98</td>\n",
       "      <td>N</td>\n",
       "      <td>0.0</td>\n",
       "      <td>Up</td>\n",
       "      <td>0</td>\n",
       "    </tr>\n",
       "    <tr>\n",
       "      <th>3</th>\n",
       "      <td>48</td>\n",
       "      <td>F</td>\n",
       "      <td>ASY</td>\n",
       "      <td>138</td>\n",
       "      <td>214</td>\n",
       "      <td>0</td>\n",
       "      <td>Normal</td>\n",
       "      <td>108</td>\n",
       "      <td>Y</td>\n",
       "      <td>1.5</td>\n",
       "      <td>Flat</td>\n",
       "      <td>1</td>\n",
       "    </tr>\n",
       "    <tr>\n",
       "      <th>4</th>\n",
       "      <td>54</td>\n",
       "      <td>M</td>\n",
       "      <td>NAP</td>\n",
       "      <td>150</td>\n",
       "      <td>195</td>\n",
       "      <td>0</td>\n",
       "      <td>Normal</td>\n",
       "      <td>122</td>\n",
       "      <td>N</td>\n",
       "      <td>0.0</td>\n",
       "      <td>Up</td>\n",
       "      <td>0</td>\n",
       "    </tr>\n",
       "  </tbody>\n",
       "</table>\n",
       "</div>"
      ],
      "text/plain": [
       "   Age Sex ChestPainType  RestingBP  Cholesterol  FastingBS RestingECG  MaxHR  \\\n",
       "0   40   M           ATA        140          289          0     Normal    172   \n",
       "1   49   F           NAP        160          180          0     Normal    156   \n",
       "2   37   M           ATA        130          283          0         ST     98   \n",
       "3   48   F           ASY        138          214          0     Normal    108   \n",
       "4   54   M           NAP        150          195          0     Normal    122   \n",
       "\n",
       "  ExerciseAngina  Oldpeak ST_Slope  HeartDisease  \n",
       "0              N      0.0       Up             0  \n",
       "1              N      1.0     Flat             1  \n",
       "2              N      0.0       Up             0  \n",
       "3              Y      1.5     Flat             1  \n",
       "4              N      0.0       Up             0  "
      ]
     },
     "execution_count": 152,
     "metadata": {},
     "output_type": "execute_result"
    }
   ],
   "source": [
    "heart_failour.head()"
   ]
  },
  {
   "cell_type": "code",
   "execution_count": 157,
   "metadata": {},
   "outputs": [
    {
     "data": {
      "text/plain": [
       "array(['Up', 'Flat', 'Down'], dtype=object)"
      ]
     },
     "execution_count": 157,
     "metadata": {},
     "output_type": "execute_result"
    }
   ],
   "source": [
    "heart_failour['ST_Slope'].unique()"
   ]
  },
  {
   "cell_type": "code",
   "execution_count": 158,
   "metadata": {},
   "outputs": [],
   "source": [
    "heart_failour['Sex'] = heart_failour['Sex'].map({'M': 1, 'F':2})\n",
    "heart_failour['ChestPainType'] = heart_failour['ChestPainType'].map({'ATA': 1, 'NAP':2,'ASY':3,'TA':4})\n",
    "heart_failour['RestingECG'] = heart_failour['RestingECG'].map({'Normal': 1, 'ST':2,'LVH':3})\n",
    "heart_failour['ExerciseAngina'] = heart_failour['ExerciseAngina'].map({'N': 1, 'Y':2})\n",
    "heart_failour['ST_Slope'] = heart_failour['ST_Slope'].map({'Up': 1, 'Flat':2,'Down':3})"
   ]
  },
  {
   "cell_type": "code",
   "execution_count": 159,
   "metadata": {},
   "outputs": [
    {
     "data": {
      "text/html": [
       "<div>\n",
       "<style scoped>\n",
       "    .dataframe tbody tr th:only-of-type {\n",
       "        vertical-align: middle;\n",
       "    }\n",
       "\n",
       "    .dataframe tbody tr th {\n",
       "        vertical-align: top;\n",
       "    }\n",
       "\n",
       "    .dataframe thead th {\n",
       "        text-align: right;\n",
       "    }\n",
       "</style>\n",
       "<table border=\"1\" class=\"dataframe\">\n",
       "  <thead>\n",
       "    <tr style=\"text-align: right;\">\n",
       "      <th></th>\n",
       "      <th>Age</th>\n",
       "      <th>Sex</th>\n",
       "      <th>ChestPainType</th>\n",
       "      <th>RestingBP</th>\n",
       "      <th>Cholesterol</th>\n",
       "      <th>FastingBS</th>\n",
       "      <th>RestingECG</th>\n",
       "      <th>MaxHR</th>\n",
       "      <th>ExerciseAngina</th>\n",
       "      <th>Oldpeak</th>\n",
       "      <th>ST_Slope</th>\n",
       "      <th>HeartDisease</th>\n",
       "    </tr>\n",
       "  </thead>\n",
       "  <tbody>\n",
       "    <tr>\n",
       "      <th>0</th>\n",
       "      <td>40</td>\n",
       "      <td>1</td>\n",
       "      <td>1</td>\n",
       "      <td>140</td>\n",
       "      <td>289</td>\n",
       "      <td>0</td>\n",
       "      <td>1</td>\n",
       "      <td>172</td>\n",
       "      <td>1</td>\n",
       "      <td>0.0</td>\n",
       "      <td>1</td>\n",
       "      <td>0</td>\n",
       "    </tr>\n",
       "    <tr>\n",
       "      <th>1</th>\n",
       "      <td>49</td>\n",
       "      <td>2</td>\n",
       "      <td>2</td>\n",
       "      <td>160</td>\n",
       "      <td>180</td>\n",
       "      <td>0</td>\n",
       "      <td>1</td>\n",
       "      <td>156</td>\n",
       "      <td>1</td>\n",
       "      <td>1.0</td>\n",
       "      <td>2</td>\n",
       "      <td>1</td>\n",
       "    </tr>\n",
       "    <tr>\n",
       "      <th>2</th>\n",
       "      <td>37</td>\n",
       "      <td>1</td>\n",
       "      <td>1</td>\n",
       "      <td>130</td>\n",
       "      <td>283</td>\n",
       "      <td>0</td>\n",
       "      <td>2</td>\n",
       "      <td>98</td>\n",
       "      <td>1</td>\n",
       "      <td>0.0</td>\n",
       "      <td>1</td>\n",
       "      <td>0</td>\n",
       "    </tr>\n",
       "    <tr>\n",
       "      <th>3</th>\n",
       "      <td>48</td>\n",
       "      <td>2</td>\n",
       "      <td>3</td>\n",
       "      <td>138</td>\n",
       "      <td>214</td>\n",
       "      <td>0</td>\n",
       "      <td>1</td>\n",
       "      <td>108</td>\n",
       "      <td>2</td>\n",
       "      <td>1.5</td>\n",
       "      <td>2</td>\n",
       "      <td>1</td>\n",
       "    </tr>\n",
       "    <tr>\n",
       "      <th>4</th>\n",
       "      <td>54</td>\n",
       "      <td>1</td>\n",
       "      <td>2</td>\n",
       "      <td>150</td>\n",
       "      <td>195</td>\n",
       "      <td>0</td>\n",
       "      <td>1</td>\n",
       "      <td>122</td>\n",
       "      <td>1</td>\n",
       "      <td>0.0</td>\n",
       "      <td>1</td>\n",
       "      <td>0</td>\n",
       "    </tr>\n",
       "  </tbody>\n",
       "</table>\n",
       "</div>"
      ],
      "text/plain": [
       "   Age  Sex  ChestPainType  RestingBP  Cholesterol  FastingBS  RestingECG  \\\n",
       "0   40    1              1        140          289          0           1   \n",
       "1   49    2              2        160          180          0           1   \n",
       "2   37    1              1        130          283          0           2   \n",
       "3   48    2              3        138          214          0           1   \n",
       "4   54    1              2        150          195          0           1   \n",
       "\n",
       "   MaxHR  ExerciseAngina  Oldpeak  ST_Slope  HeartDisease  \n",
       "0    172               1      0.0         1             0  \n",
       "1    156               1      1.0         2             1  \n",
       "2     98               1      0.0         1             0  \n",
       "3    108               2      1.5         2             1  \n",
       "4    122               1      0.0         1             0  "
      ]
     },
     "execution_count": 159,
     "metadata": {},
     "output_type": "execute_result"
    }
   ],
   "source": [
    "heart_failour.head()"
   ]
  },
  {
   "cell_type": "code",
   "execution_count": 160,
   "metadata": {},
   "outputs": [],
   "source": [
    "heart_failour.to_csv(r\"C:\\Users\\zhossai3\\Desktop\\My code\\OT+Fairness\\Data\\Heart Failour\\heart_failour.csv\", index=False)"
   ]
  },
  {
   "cell_type": "code",
   "execution_count": 161,
   "metadata": {},
   "outputs": [
    {
     "data": {
      "text/plain": [
       "(918, 12)"
      ]
     },
     "execution_count": 161,
     "metadata": {},
     "output_type": "execute_result"
    }
   ],
   "source": [
    "heart_failour.shape"
   ]
  },
  {
   "cell_type": "markdown",
   "metadata": {},
   "source": [
    "**HSLS**"
   ]
  },
  {
   "cell_type": "code",
   "execution_count": 4,
   "metadata": {},
   "outputs": [],
   "source": [
    "hsls = pd.read_csv(r'C:\\Users\\zhossai3\\Desktop\\My code\\OT+Fairness\\Data\\hsls_17_student_pets_sr_v1_0.csv')"
   ]
  },
  {
   "cell_type": "code",
   "execution_count": 5,
   "metadata": {},
   "outputs": [
    {
     "data": {
      "text/plain": [
       "(23503, 9614)"
      ]
     },
     "execution_count": 5,
     "metadata": {},
     "output_type": "execute_result"
    }
   ],
   "source": [
    "hsls.shape"
   ]
  },
  {
   "cell_type": "code",
   "execution_count": 9,
   "metadata": {},
   "outputs": [
    {
     "name": "stdout",
     "output_type": "stream",
     "text": [
      "<class 'pandas.core.frame.DataFrame'>\n",
      "RangeIndex: 23503 entries, 0 to 23502\n",
      "Columns: 9614 entries, STU_ID to W5W1W2W3W4PSRECORDS200\n",
      "dtypes: float64(5855), int64(3759)\n",
      "memory usage: 1.7 GB\n"
     ]
    }
   ],
   "source": [
    "hsls.info()"
   ]
  }
 ],
 "metadata": {
  "kernelspec": {
   "display_name": "Python 3",
   "language": "python",
   "name": "python3"
  },
  "language_info": {
   "codemirror_mode": {
    "name": "ipython",
    "version": 3
   },
   "file_extension": ".py",
   "mimetype": "text/x-python",
   "name": "python",
   "nbconvert_exporter": "python",
   "pygments_lexer": "ipython3",
   "version": "3.12.6"
  }
 },
 "nbformat": 4,
 "nbformat_minor": 2
}
