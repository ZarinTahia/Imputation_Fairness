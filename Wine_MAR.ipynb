{
 "cells": [
  {
   "cell_type": "code",
   "execution_count": 2,
   "metadata": {},
   "outputs": [
    {
     "name": "stdout",
     "output_type": "stream",
     "text": [
      "Requirement already satisfied: pot in c:\\users\\zhossai3\\appdata\\local\\programs\\python\\python312\\lib\\site-packages (0.9.4)"
     ]
    },
    {
     "name": "stderr",
     "output_type": "stream",
     "text": [
      "\n",
      "[notice] A new release of pip is available: 24.2 -> 24.3.1\n",
      "[notice] To update, run: python.exe -m pip install --upgrade pip\n"
     ]
    },
    {
     "name": "stdout",
     "output_type": "stream",
     "text": [
      "\n",
      "Requirement already satisfied: numpy>=1.16 in c:\\users\\zhossai3\\appdata\\local\\programs\\python\\python312\\lib\\site-packages (from pot) (2.1.2)\n",
      "Requirement already satisfied: scipy>=1.6 in c:\\users\\zhossai3\\appdata\\local\\programs\\python\\python312\\lib\\site-packages (from pot) (1.14.1)\n",
      "Requirement already satisfied: torch in c:\\users\\zhossai3\\appdata\\local\\programs\\python\\python312\\lib\\site-packages (2.5.1)"
     ]
    },
    {
     "name": "stderr",
     "output_type": "stream",
     "text": [
      "\n",
      "[notice] A new release of pip is available: 24.2 -> 24.3.1\n",
      "[notice] To update, run: python.exe -m pip install --upgrade pip\n"
     ]
    },
    {
     "name": "stdout",
     "output_type": "stream",
     "text": [
      "\n",
      "Requirement already satisfied: filelock in c:\\users\\zhossai3\\appdata\\local\\programs\\python\\python312\\lib\\site-packages (from torch) (3.16.1)\n",
      "Requirement already satisfied: typing-extensions>=4.8.0 in c:\\users\\zhossai3\\appdata\\local\\programs\\python\\python312\\lib\\site-packages (from torch) (4.12.2)\n",
      "Requirement already satisfied: networkx in c:\\users\\zhossai3\\appdata\\local\\programs\\python\\python312\\lib\\site-packages (from torch) (3.4.2)\n",
      "Requirement already satisfied: jinja2 in c:\\users\\zhossai3\\appdata\\local\\programs\\python\\python312\\lib\\site-packages (from torch) (3.1.4)\n",
      "Requirement already satisfied: fsspec in c:\\users\\zhossai3\\appdata\\local\\programs\\python\\python312\\lib\\site-packages (from torch) (2024.10.0)\n",
      "Requirement already satisfied: setuptools in c:\\users\\zhossai3\\appdata\\local\\programs\\python\\python312\\lib\\site-packages (from torch) (75.3.0)\n",
      "Requirement already satisfied: sympy==1.13.1 in c:\\users\\zhossai3\\appdata\\local\\programs\\python\\python312\\lib\\site-packages (from torch) (1.13.1)\n",
      "Requirement already satisfied: mpmath<1.4,>=1.1.0 in c:\\users\\zhossai3\\appdata\\local\\programs\\python\\python312\\lib\\site-packages (from sympy==1.13.1->torch) (1.3.0)\n",
      "Requirement already satisfied: MarkupSafe>=2.0 in c:\\users\\zhossai3\\appdata\\local\\programs\\python\\python312\\lib\\site-packages (from jinja2->torch) (3.0.2)\n",
      "Requirement already satisfied: geomloss in c:\\users\\zhossai3\\appdata\\local\\programs\\python\\python312\\lib\\site-packages (0.2.6)\n",
      "Requirement already satisfied: numpy in c:\\users\\zhossai3\\appdata\\local\\programs\\python\\python312\\lib\\site-packages (from geomloss) (2.1.2)\n",
      "Requirement already satisfied: torch in c:\\users\\zhossai3\\appdata\\local\\programs\\python\\python312\\lib\\site-packages (from geomloss) (2.5.1)\n",
      "Requirement already satisfied: filelock in c:\\users\\zhossai3\\appdata\\local\\programs\\python\\python312\\lib\\site-packages (from torch->geomloss) (3.16.1)\n",
      "Requirement already satisfied: typing-extensions>=4.8.0 in c:\\users\\zhossai3\\appdata\\local\\programs\\python\\python312\\lib\\site-packages (from torch->geomloss) (4.12.2)\n",
      "Requirement already satisfied: networkx in c:\\users\\zhossai3\\appdata\\local\\programs\\python\\python312\\lib\\site-packages (from torch->geomloss) (3.4.2)\n",
      "Requirement already satisfied: jinja2 in c:\\users\\zhossai3\\appdata\\local\\programs\\python\\python312\\lib\\site-packages (from torch->geomloss) (3.1.4)\n",
      "Requirement already satisfied: fsspec in c:\\users\\zhossai3\\appdata\\local\\programs\\python\\python312\\lib\\site-packages (from torch->geomloss) (2024.10.0)\n",
      "Requirement already satisfied: setuptools in c:\\users\\zhossai3\\appdata\\local\\programs\\python\\python312\\lib\\site-packages (from torch->geomloss) (75.3.0)\n",
      "Requirement already satisfied: sympy==1.13.1 in c:\\users\\zhossai3\\appdata\\local\\programs\\python\\python312\\lib\\site-packages (from torch->geomloss) (1.13.1)\n",
      "Requirement already satisfied: mpmath<1.4,>=1.1.0 in c:\\users\\zhossai3\\appdata\\local\\programs\\python\\python312\\lib\\site-packages (from sympy==1.13.1->torch->geomloss) (1.3.0)\n",
      "Requirement already satisfied: MarkupSafe>=2.0 in c:\\users\\zhossai3\\appdata\\local\\programs\\python\\python312\\lib\\site-packages (from jinja2->torch->geomloss) (3.0.2)\n"
     ]
    },
    {
     "name": "stderr",
     "output_type": "stream",
     "text": [
      "\n",
      "[notice] A new release of pip is available: 24.2 -> 24.3.1\n",
      "[notice] To update, run: python.exe -m pip install --upgrade pip\n"
     ]
    },
    {
     "name": "stdout",
     "output_type": "stream",
     "text": [
      "Requirement already satisfied: wget in c:\\users\\zhossai3\\appdata\\local\\programs\\python\\python312\\lib\\site-packages (3.2)\n"
     ]
    },
    {
     "name": "stderr",
     "output_type": "stream",
     "text": [
      "\n",
      "[notice] A new release of pip is available: 24.2 -> 24.3.1\n",
      "[notice] To update, run: python.exe -m pip install --upgrade pip\n"
     ]
    }
   ],
   "source": [
    "!pip install pot\n",
    "!pip install torch\n",
    "!pip install geomloss\n",
    "!pip install wget"
   ]
  },
  {
   "cell_type": "code",
   "execution_count": 3,
   "metadata": {},
   "outputs": [
    {
     "name": "stderr",
     "output_type": "stream",
     "text": [
      "c:\\Users\\zhossai3\\AppData\\Local\\Programs\\Python\\Python312\\Lib\\site-packages\\torch\\__init__.py:1144: UserWarning: torch.set_default_tensor_type() is deprecated as of PyTorch 2.1, please use torch.set_default_dtype() and torch.set_default_device() as alternatives. (Triggered internally at C:\\actions-runner\\_work\\pytorch\\pytorch\\builder\\windows\\pytorch\\torch\\csrc\\tensor\\python_tensor.cpp:434.)\n",
      "  _C._set_default_tensor_type(t)\n"
     ]
    }
   ],
   "source": [
    "import numpy as np\n",
    "import torch\n",
    "import torch.nn as nn\n",
    "import pandas as pd\n",
    "\n",
    "from geomloss import SamplesLoss\n",
    "\n",
    "import ot\n",
    "\n",
    "import os\n",
    "import pickle as pkl\n",
    "import copy\n",
    "\n",
    "from sklearn.preprocessing import scale\n",
    "from sklearn.experimental import enable_iterative_imputer\n",
    "from sklearn.impute import SimpleImputer, IterativeImputer\n",
    "\n",
    "from utils import *\n",
    "from SoftImpute import softimpute, cv_softimpute\n",
    "from DataSetLoader import dataset_loader, ground_truth\n",
    "from SinkhornImputation import SinkhornImputation\n",
    "from RR_imputer import RRimputer\n",
    "from Sinkhorn_CMI import SinkhornImputation_CMI\n",
    "import matplotlib.pyplot as plt\n",
    "\n",
    "import argparse\n",
    "import logging\n",
    "logger = logging.getLogger()\n",
    "logger.setLevel(logging.INFO)\n",
    "logging.debug(\"test\")\n",
    "\n",
    "torch.set_default_tensor_type('torch.DoubleTensor')"
   ]
  },
  {
   "cell_type": "code",
   "execution_count": 4,
   "metadata": {},
   "outputs": [
    {
     "name": "stdout",
     "output_type": "stream",
     "text": [
      "Feature Names:\n",
      "['alcohol', 'malic_acid', 'ash', 'alcalinity_of_ash', 'magnesium', 'total_phenols', 'flavanoids', 'nonflavanoid_phenols', 'proanthocyanins', 'color_intensity', 'hue', 'od280/od315_of_diluted_wines', 'proline']\n"
     ]
    }
   ],
   "source": [
    "from sklearn.datasets import load_wine\n",
    "\n",
    "# Load the Wine dataset\n",
    "wine = load_wine()\n",
    "\n",
    "# Display feature names\n",
    "print(\"Feature Names:\")\n",
    "print(wine.feature_names)\n"
   ]
  },
  {
   "cell_type": "code",
   "execution_count": 5,
   "metadata": {},
   "outputs": [
    {
     "name": "stdout",
     "output_type": "stream",
     "text": [
      "<class 'numpy.ndarray'>\n",
      "<class 'numpy.ndarray'>\n",
      "9.150126670101555\n",
      "-4.7441041972812386\n",
      "-3.773774598403673e-17\n",
      "-0.22237479499833032\n",
      "1.0\n",
      "(382, 52)\n",
      "tensor(0)\n"
     ]
    }
   ],
   "source": [
    "#ground_truth_numpy = scale(load_wine()['data']) #only taking the features\n",
    "Xy = {}\n",
    "with open(r'C:\\Users\\zhossai3\\Desktop\\My code\\OT+Fairness\\Data\\portugal student performance dataset\\P_Student_Performance_Data.csv', 'rb') as f:\n",
    "        df = pd.read_csv(f, delimiter=',', header = 0)\n",
    "        Xy['data'] = df.values[:, :-1].astype('float')\n",
    "        Xy['target'] =  df.values[:, -1]\n",
    "ground_truth_numpy = scale(Xy['data'])\n",
    "print(type(ground_truth_numpy))\n",
    "print(type(ground_truth_numpy))\n",
    "print(np.max(ground_truth_numpy))\n",
    "print(np.min(ground_truth_numpy))\n",
    "print(np.mean(ground_truth_numpy))\n",
    "print(np.median(ground_truth_numpy))\n",
    "print(np.std(ground_truth_numpy))\n",
    "print(ground_truth_numpy.shape)\n",
    "ground_truth = torch.from_numpy(ground_truth_numpy)\n",
    "print(ground_truth.isnan().sum())"
   ]
  },
  {
   "cell_type": "code",
   "execution_count": 25,
   "metadata": {},
   "outputs": [],
   "source": [
    "data_mar30_mask, missing_ind= MAR_mask(ground_truth_numpy, 0.6, 0.5)"
   ]
  },
  {
   "cell_type": "code",
   "execution_count": 26,
   "metadata": {},
   "outputs": [
    {
     "data": {
      "text/plain": [
       "array([[ True,  True, False, ..., False, False, False],\n",
       "       [ True,  True, False, ..., False, False, False],\n",
       "       [False, False, False, ..., False, False, False],\n",
       "       ...,\n",
       "       [ True,  True, False, ..., False, False, False],\n",
       "       [False,  True, False, ..., False, False, False],\n",
       "       [ True,  True, False, ..., False, False, False]])"
      ]
     },
     "execution_count": 26,
     "metadata": {},
     "output_type": "execute_result"
    }
   ],
   "source": [
    "data_mar30_mask"
   ]
  },
  {
   "cell_type": "code",
   "execution_count": 27,
   "metadata": {},
   "outputs": [
    {
     "name": "stdout",
     "output_type": "stream",
     "text": [
      "Percentage of missing values: 29.93%\n"
     ]
    }
   ],
   "source": [
    "data_mar30 = np.copy(ground_truth)\n",
    "\n",
    "# Apply the mask to set the selected values to NaN\n",
    "data_mar30[data_mar30_mask] = np.nan\n",
    "\n",
    "# Convert to a torch tensor\n",
    "data_mar30 = torch.from_numpy(data_mar30)\n",
    "\n",
    "# Calculate the percentage of missing values\n",
    "missing_values_mar30 = torch.isnan(data_mar30)  \n",
    "missing_percentage_mar30 = torch.sum(missing_values_mar30).item() / data_mar30.numel() * 100  # Calculate the percentage of NaNs\n",
    "print(f\"Percentage of missing values: {missing_percentage_mar30:.2f}%\")"
   ]
  },
  {
   "cell_type": "code",
   "execution_count": 28,
   "metadata": {},
   "outputs": [
    {
     "data": {
      "text/plain": [
       "tensor([[    nan,     nan,  1.2062,  ...,  0.0668, -4.7441, -0.5023],\n",
       "        [    nan,     nan,  0.3529,  ..., -0.3414, -1.2191, -0.5023],\n",
       "        [-0.3420, -0.9640, -1.3537,  ...,  0.4750, -0.0441,  0.3090],\n",
       "        ...,\n",
       "        [    nan,     nan,  1.2062,  ...,  0.4750, -0.4358, -0.0966],\n",
       "        [ 2.9240,     nan,  0.3529,  ...,  0.4750, -0.8274, -0.9080],\n",
       "        [    nan,     nan,  1.2062,  ...,  0.0668, -0.8274, -0.5023]])"
      ]
     },
     "execution_count": 28,
     "metadata": {},
     "output_type": "execute_result"
    }
   ],
   "source": [
    "data_mar30"
   ]
  },
  {
   "cell_type": "code",
   "execution_count": 29,
   "metadata": {},
   "outputs": [
    {
     "data": {
      "text/plain": [
       "5946"
      ]
     },
     "execution_count": 29,
     "metadata": {},
     "output_type": "execute_result"
    }
   ],
   "source": [
    "torch.sum(missing_values_mar30).item()"
   ]
  },
  {
   "cell_type": "code",
   "execution_count": 30,
   "metadata": {},
   "outputs": [
    {
     "name": "stderr",
     "output_type": "stream",
     "text": [
      "C:\\Users\\zhossai3\\AppData\\Local\\Temp\\ipykernel_24000\\1030270582.py:1: DeprecationWarning: __array_wrap__ must accept context and return_scalar arguments (positionally) in the future. (Deprecated NumPy 2.0)\n",
      "  np.isnan(data_mar30).sum()\n"
     ]
    },
    {
     "data": {
      "text/plain": [
       "tensor(5946)"
      ]
     },
     "execution_count": 30,
     "metadata": {},
     "output_type": "execute_result"
    }
   ],
   "source": [
    "np.isnan(data_mar30).sum()"
   ]
  },
  {
   "cell_type": "code",
   "execution_count": 31,
   "metadata": {},
   "outputs": [],
   "source": [
    "mar30 = data_mar30.clone()"
   ]
  },
  {
   "cell_type": "code",
   "execution_count": 32,
   "metadata": {},
   "outputs": [
    {
     "name": "stdout",
     "output_type": "stream",
     "text": [
      "False\n"
     ]
    }
   ],
   "source": [
    "similarity = torch.equal(mar30, data_mar30)\n",
    "print(similarity)"
   ]
  },
  {
   "cell_type": "code",
   "execution_count": 33,
   "metadata": {},
   "outputs": [
    {
     "name": "stderr",
     "output_type": "stream",
     "text": [
      "INFO:root:Iteration 0:\t Loss: 10.7695\t Validation MAE: 0.8007\tRMSE: 1.0054\n"
     ]
    },
    {
     "name": "stdout",
     "output_type": "stream",
     "text": [
      "1.674646825194319\n"
     ]
    },
    {
     "name": "stderr",
     "output_type": "stream",
     "text": [
      "INFO:root:Iteration 50:\t Loss: 9.8101\t Validation MAE: 0.7092\tRMSE: 0.9391\n",
      "INFO:root:Iteration 100:\t Loss: 10.1642\t Validation MAE: 0.7020\tRMSE: 0.9296\n",
      "INFO:root:Iteration 150:\t Loss: 9.4975\t Validation MAE: 0.6988\tRMSE: 0.9255\n",
      "INFO:root:Iteration 200:\t Loss: 8.8008\t Validation MAE: 0.6996\tRMSE: 0.9238\n",
      "INFO:root:Iteration 250:\t Loss: 9.8605\t Validation MAE: 0.6996\tRMSE: 0.9218\n",
      "INFO:root:Iteration 300:\t Loss: 10.1014\t Validation MAE: 0.6984\tRMSE: 0.9205\n",
      "INFO:root:Iteration 350:\t Loss: 10.0295\t Validation MAE: 0.6999\tRMSE: 0.9201\n",
      "INFO:root:Iteration 400:\t Loss: 9.9469\t Validation MAE: 0.6987\tRMSE: 0.9197\n",
      "INFO:root:Iteration 450:\t Loss: 9.9924\t Validation MAE: 0.6983\tRMSE: 0.9192\n",
      "INFO:root:Iteration 500:\t Loss: 10.5853\t Validation MAE: 0.6984\tRMSE: 0.9184\n",
      "INFO:root:Iteration 550:\t Loss: 10.2095\t Validation MAE: 0.6989\tRMSE: 0.9183\n",
      "INFO:root:Iteration 600:\t Loss: 10.2183\t Validation MAE: 0.6991\tRMSE: 0.9180\n",
      "INFO:root:Iteration 650:\t Loss: 10.0942\t Validation MAE: 0.6979\tRMSE: 0.9168\n",
      "INFO:root:Iteration 700:\t Loss: 10.6382\t Validation MAE: 0.6977\tRMSE: 0.9165\n",
      "INFO:root:Iteration 750:\t Loss: 8.9868\t Validation MAE: 0.6971\tRMSE: 0.9161\n",
      "INFO:root:Iteration 800:\t Loss: 10.2732\t Validation MAE: 0.6979\tRMSE: 0.9169\n",
      "INFO:root:Iteration 850:\t Loss: 10.4612\t Validation MAE: 0.6978\tRMSE: 0.9168\n",
      "INFO:root:Iteration 900:\t Loss: 10.8939\t Validation MAE: 0.6975\tRMSE: 0.9149\n",
      "INFO:root:Iteration 950:\t Loss: 10.2673\t Validation MAE: 0.6977\tRMSE: 0.9155\n",
      "INFO:root:Iteration 1000:\t Loss: 9.4254\t Validation MAE: 0.6975\tRMSE: 0.9146\n",
      "INFO:root:Iteration 1050:\t Loss: 10.1873\t Validation MAE: 0.6977\tRMSE: 0.9150\n",
      "INFO:root:Iteration 1100:\t Loss: 10.3438\t Validation MAE: 0.6962\tRMSE: 0.9141\n",
      "INFO:root:Iteration 1150:\t Loss: 9.6779\t Validation MAE: 0.6954\tRMSE: 0.9136\n",
      "INFO:root:Iteration 1200:\t Loss: 9.0486\t Validation MAE: 0.6957\tRMSE: 0.9135\n",
      "INFO:root:Iteration 1250:\t Loss: 10.9122\t Validation MAE: 0.6953\tRMSE: 0.9136\n",
      "INFO:root:Iteration 1300:\t Loss: 10.5465\t Validation MAE: 0.6963\tRMSE: 0.9139\n",
      "INFO:root:Iteration 1350:\t Loss: 9.9551\t Validation MAE: 0.6967\tRMSE: 0.9135\n",
      "INFO:root:Iteration 1400:\t Loss: 10.0381\t Validation MAE: 0.6979\tRMSE: 0.9136\n",
      "INFO:root:Iteration 1450:\t Loss: 9.2767\t Validation MAE: 0.6973\tRMSE: 0.9137\n",
      "INFO:root:Iteration 1500:\t Loss: 9.7312\t Validation MAE: 0.6950\tRMSE: 0.9125\n",
      "INFO:root:Iteration 1550:\t Loss: 11.4026\t Validation MAE: 0.6961\tRMSE: 0.9140\n",
      "INFO:root:Iteration 1600:\t Loss: 8.8737\t Validation MAE: 0.6955\tRMSE: 0.9126\n",
      "INFO:root:Iteration 1650:\t Loss: 9.0943\t Validation MAE: 0.6951\tRMSE: 0.9134\n",
      "INFO:root:Iteration 1700:\t Loss: 10.3446\t Validation MAE: 0.6957\tRMSE: 0.9133\n",
      "INFO:root:Iteration 1750:\t Loss: 9.5458\t Validation MAE: 0.6957\tRMSE: 0.9136\n",
      "INFO:root:Iteration 1800:\t Loss: 9.1198\t Validation MAE: 0.6971\tRMSE: 0.9145\n",
      "INFO:root:Iteration 1850:\t Loss: 9.6325\t Validation MAE: 0.6981\tRMSE: 0.9148\n",
      "INFO:root:Iteration 1900:\t Loss: 10.9135\t Validation MAE: 0.6982\tRMSE: 0.9145\n",
      "INFO:root:Iteration 1950:\t Loss: 9.3085\t Validation MAE: 0.6957\tRMSE: 0.9131\n"
     ]
    },
    {
     "name": "stdout",
     "output_type": "stream",
     "text": [
      "0.6984123493978088 0.9149680606375694\n"
     ]
    }
   ],
   "source": [
    "#sinkhorn\n",
    "n_mar30, d_mar30 = mar30.shape\n",
    "batchsize = 128 # If the batch size is larger than half the dataset's size,\n",
    "                # it will be redefined in the imputation methods.\n",
    "lr = 1e-2\n",
    "epsilon_mar30 = pick_epsilon(mar30)\n",
    "print(epsilon_mar30)\n",
    "\n",
    "sk_imputer_mar30 = SinkhornImputation_CMI(eps=epsilon_mar30, batchsize=batchsize, lr=lr, niter=2000)\n",
    "sk_imp_mar30, sk_maes30mar, sk_rmses30mar,sk_loss_mar30, initial_missing_mar30,imps_mar_30, imps_evaluation,grad_evaluation = sk_imputer_mar30.fit_transform(mar30, verbose=True, report_interval=50, X_true=ground_truth)\n",
    "#using numpy version of data\n",
    "sk_imp_mar30_numpy = sk_imp_mar30.detach().cpu().numpy()\n",
    "\n",
    "sk_mae_mar30 = MAE(sk_imp_mar30_numpy,ground_truth_numpy ,data_mar30_mask)\n",
    "sk_rmse_mar30 = RMSE(sk_imp_mar30_numpy, ground_truth_numpy,data_mar30_mask)\n",
    "print(sk_mae_mar30,sk_rmse_mar30)"
   ]
  },
  {
   "cell_type": "code",
   "execution_count": 34,
   "metadata": {},
   "outputs": [
    {
     "name": "stdout",
     "output_type": "stream",
     "text": [
      "tensor([ 0.2798, -0.1279, -0.2006,  ...,  0.3071,  0.3207, -0.1909],\n",
      "       requires_grad=True)\n"
     ]
    }
   ],
   "source": [
    "print(imps_mar_30)"
   ]
  },
  {
   "cell_type": "markdown",
   "metadata": {},
   "source": [
    "initial_missing_mar30"
   ]
  },
  {
   "cell_type": "code",
   "execution_count": 35,
   "metadata": {},
   "outputs": [
    {
     "data": {
      "text/plain": [
       "torch.Size([5946])"
      ]
     },
     "execution_count": 35,
     "metadata": {},
     "output_type": "execute_result"
    }
   ],
   "source": [
    "initial_missing_mar30.size()"
   ]
  },
  {
   "cell_type": "code",
   "execution_count": 36,
   "metadata": {},
   "outputs": [
    {
     "name": "stdout",
     "output_type": "stream",
     "text": [
      "tensor([-0.0093,  0.1692,  0.0439,  ...,  0.0559, -0.0613, -0.0558])\n"
     ]
    }
   ],
   "source": [
    "print(initial_missing_mar30)"
   ]
  },
  {
   "cell_type": "code",
   "execution_count": 37,
   "metadata": {},
   "outputs": [
    {
     "data": {
      "text/plain": [
       "torch.Size([5946])"
      ]
     },
     "execution_count": 37,
     "metadata": {},
     "output_type": "execute_result"
    }
   ],
   "source": [
    "imps_mar_30.size()"
   ]
  },
  {
   "cell_type": "code",
   "execution_count": 38,
   "metadata": {},
   "outputs": [
    {
     "name": "stdout",
     "output_type": "stream",
     "text": [
      "tensor([ 0.2798, -0.1279, -0.2006,  ...,  0.3071,  0.3207, -0.1909],\n",
      "       requires_grad=True)\n"
     ]
    }
   ],
   "source": [
    "print(imps_mar_30)"
   ]
  },
  {
   "cell_type": "code",
   "execution_count": 39,
   "metadata": {},
   "outputs": [
    {
     "name": "stdout",
     "output_type": "stream",
     "text": [
      "Indices where values are the same: tensor([], dtype=torch.int64)\n",
      "Values that are the same: tensor([], grad_fn=<IndexBackward0>)\n"
     ]
    }
   ],
   "source": [
    "same_values_mask = (imps_mar_30 == initial_missing_mar30)\n",
    "\n",
    "# Get the indices where the values are the same\n",
    "same_indices = torch.nonzero(same_values_mask).squeeze()\n",
    "\n",
    "# Print the indices and the values that are the same\n",
    "print(\"Indices where values are the same:\", same_indices)\n",
    "print(\"Values that are the same:\", imps_mar_30[same_indices])"
   ]
  },
  {
   "cell_type": "code",
   "execution_count": 40,
   "metadata": {},
   "outputs": [
    {
     "data": {
      "image/png": "[encoded data removed]",
      "text/plain": [
       "<Figure size 800x500 with 1 Axes>"
      ]
     },
     "metadata": {},
     "output_type": "display_data"
    }
   ],
   "source": [
    "# Convert the list of losses to a NumPy array\n",
    "\n",
    "iterations = np.linspace(0, 2000, 50).astype(int)\n",
    "\n",
    "\n",
    "\n",
    "loss_values = sk_loss_mar30\n",
    "\n",
    "\n",
    "# Assuming cmi_penalty_history is also a list, convert it to a NumPy array\n",
    "#cmi_penalty_history_numpy = np.array(cmi_penalty_history)\n",
    "\n",
    "# Total loss calculation\n",
    "#total_loss = sk_loss_mcar30_numpy + cmi_penalty_history_numpy\n",
    "if len(loss_values) > len(iterations):\n",
    "    loss_values = loss_values[:len(iterations)]\n",
    "elif len(loss_values) < len(iterations):\n",
    "    iterations = iterations[:len(loss_values)]\n",
    "\n",
    "\n",
    "\n",
    "# Plotting\n",
    "plt.figure(figsize=(8, 5))\n",
    "plt.plot(iterations, loss_values, color='b', linestyle='-', marker='o', label=\"Loss Value\")\n",
    "plt.xlabel(\"Iterations\")\n",
    "plt.ylabel(\"Loss Value\")\n",
    "plt.title(\"Loss Curve\")\n",
    "plt.legend()\n",
    "plt.grid(True)\n",
    "\n",
    "# Show the plot\n",
    "plt.show()\n",
    "\n"
   ]
  }
 ],
 "metadata": {
  "kernelspec": {
   "display_name": "Python 3",
   "language": "python",
   "name": "python3"
  },
  "language_info": {
   "codemirror_mode": {
    "name": "ipython",
    "version": 3
   },
   "file_extension": ".py",
   "mimetype": "text/x-python",
   "name": "python",
   "nbconvert_exporter": "python",
   "pygments_lexer": "ipython3",
   "version": "3.12.6"
  }
 },
 "nbformat": 4,
 "nbformat_minor": 2
}
